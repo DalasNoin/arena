{
 "cells": [
  {
   "cell_type": "markdown",
   "metadata": {},
   "source": [
    "[![Open In Colab](https://colab.research.google.com/assets/colab-badge.svg)](https://colab.research.google.com/github/DalasNoin/arena/blob/main/w2/wandbex.ipynb)"
   ]
  },
  {
   "cell_type": "code",
   "execution_count": 4,
   "metadata": {},
   "outputs": [],
   "source": [
    "# !pip install fancy_einsum\n",
    "# !pip install einops pandas plotly\n",
    "#  ! wget https://raw.githubusercontent.com/callummcdougall/arena-v1/main/w2d1/utils.py\n",
    "import torch as t\n",
    "from torch import nn\n",
    "from torchvision import datasets, transforms\n",
    "import torchvision\n",
    "from torchvision.models import resnet34\n",
    "from torch.utils.data import DataLoader\n",
    "from fancy_einsum import einsum\n",
    "from typing import Union, Optional, Callable\n",
    "import numpy as np\n",
    "from einops import rearrange\n",
    "from tqdm.notebook import tqdm_notebook\n",
    "import plotly.express as px\n",
    "import plotly.graph_objs as go\n",
    "from plotly.subplots import make_subplots\n",
    "import time\n",
    "import wandb\n",
    "import utils\n",
    "\n",
    "keyfile = \"keystore.yaml\"\n",
    "if not wandb_key and os.path.exists(keyfile):\n",
    "    import yaml\n",
    "    keys = yaml.safe_load(open(keyfile,\"r\"))\n",
    "    wandb_key = keys[\"wandb\"]\n",
    "os.environ[\"WANDB_API_KEY\"] = wandb_key\n",
    "\n",
    "device = \"cuda\" if t.cuda.is_available() else \"cpu\""
   ]
  },
  {
   "cell_type": "code",
   "execution_count": 2,
   "metadata": {},
   "outputs": [
    {
     "name": "stdout",
     "output_type": "stream",
     "text": [
      "Downloading https://www.cs.toronto.edu/~kriz/cifar-10-python.tar.gz to ./data/cifar-10-python.tar.gz\n"
     ]
    },
    {
     "data": {
      "application/vnd.jupyter.widget-view+json": {
       "model_id": "8bfa62a4d4f841d9b59555179f3d8a98",
       "version_major": 2,
       "version_minor": 0
      },
      "text/plain": [
       "  0%|          | 0/170498071 [00:00<?, ?it/s]"
      ]
     },
     "metadata": {},
     "output_type": "display_data"
    },
    {
     "name": "stdout",
     "output_type": "stream",
     "text": [
      "Extracting ./data/cifar-10-python.tar.gz to ./data\n",
      "Files already downloaded and verified\n"
     ]
    },
    {
     "data": {
      "application/vnd.plotly.v1+json": {
       "config": {
        "plotlyServerURL": "https://plot.ly"
       },
       "data": [
        {
         "hovertemplate": "x: %{x}<br>y: %{y}<br>color: %{z}<extra></extra>",
         "name": "0",
         "source": "data:image/png;base64,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",
         "type": "image",
         "xaxis": "x11",
         "yaxis": "y11"
        },
        {
         "hovertemplate": "x: %{x}<br>y: %{y}<br>color: %{z}<extra></extra>",
         "name": "1",
         "source": "data:image/png;base64,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",
         "type": "image",
         "xaxis": "x12",
         "yaxis": "y12"
        },
        {
         "hovertemplate": "x: %{x}<br>y: %{y}<br>color: %{z}<extra></extra>",
         "name": "2",
         "source": "data:image/png;base64,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",
         "type": "image",
         "xaxis": "x13",
         "yaxis": "y13"
        },
        {
         "hovertemplate": "x: %{x}<br>y: %{y}<br>color: %{z}<extra></extra>",
         "name": "3",
         "source": "data:image/png;base64,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",
         "type": "image",
         "xaxis": "x14",
         "yaxis": "y14"
        },
        {
         "hovertemplate": "x: %{x}<br>y: %{y}<br>color: %{z}<extra></extra>",
         "name": "4",
         "source": "data:image/png;base64,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",
         "type": "image",
         "xaxis": "x15",
         "yaxis": "y15"
        },
        {
         "hovertemplate": "x: %{x}<br>y: %{y}<br>color: %{z}<extra></extra>",
         "name": "5",
         "source": "data:image/png;base64,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",
         "type": "image",
         "xaxis": "x6",
         "yaxis": "y6"
        },
        {
         "hovertemplate": "x: %{x}<br>y: %{y}<br>color: %{z}<extra></extra>",
         "name": "6",
         "source": "data:image/png;base64,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",
         "type": "image",
         "xaxis": "x7",
         "yaxis": "y7"
        },
        {
         "hovertemplate": "x: %{x}<br>y: %{y}<br>color: %{z}<extra></extra>",
         "name": "7",
         "source": "data:image/png;base64,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",
         "type": "image",
         "xaxis": "x8",
         "yaxis": "y8"
        },
        {
         "hovertemplate": "x: %{x}<br>y: %{y}<br>color: %{z}<extra></extra>",
         "name": "8",
         "source": "data:image/png;base64,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",
         "type": "image",
         "xaxis": "x9",
         "yaxis": "y9"
        },
        {
         "hovertemplate": "x: %{x}<br>y: %{y}<br>color: %{z}<extra></extra>",
         "name": "9",
         "source": "data:image/png;base64,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",
         "type": "image",
         "xaxis": "x10",
         "yaxis": "y10"
        },
        {
         "hovertemplate": "x: %{x}<br>y: %{y}<br>color: %{z}<extra></extra>",
         "name": "10",
         "source": "data:image/png;base64,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",
         "type": "image",
         "xaxis": "x",
         "yaxis": "y"
        },
        {
         "hovertemplate": "x: %{x}<br>y: %{y}<br>color: %{z}<extra></extra>",
         "name": "11",
         "source": "data:image/png;base64,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",
         "type": "image",
         "xaxis": "x2",
         "yaxis": "y2"
        },
        {
         "hovertemplate": "x: %{x}<br>y: %{y}<br>color: %{z}<extra></extra>",
         "name": "12",
         "source": "data:image/png;base64,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",
         "type": "image",
         "xaxis": "x3",
         "yaxis": "y3"
        },
        {
         "hovertemplate": "x: %{x}<br>y: %{y}<br>color: %{z}<extra></extra>",
         "name": "13",
         "source": "data:image/png;base64,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",
         "type": "image",
         "xaxis": "x4",
         "yaxis": "y4"
        },
        {
         "hovertemplate": "x: %{x}<br>y: %{y}<br>color: %{z}<extra></extra>",
         "name": "14",
         "source": "data:image/png;base64,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",
         "type": "image",
         "xaxis": "x5",
         "yaxis": "y5"
        }
       ],
       "layout": {
        "annotations": [
         {
          "font": {},
          "showarrow": false,
          "text": "deer",
          "x": 0.09200000000000001,
          "xanchor": "center",
          "xref": "paper",
          "y": 0.2866666666666666,
          "yanchor": "bottom",
          "yref": "paper"
         },
         {
          "font": {},
          "showarrow": false,
          "text": "horse",
          "x": 0.29600000000000004,
          "xanchor": "center",
          "xref": "paper",
          "y": 0.2866666666666666,
          "yanchor": "bottom",
          "yref": "paper"
         },
         {
          "font": {},
          "showarrow": false,
          "text": "horse",
          "x": 0.5,
          "xanchor": "center",
          "xref": "paper",
          "y": 0.2866666666666666,
          "yanchor": "bottom",
          "yref": "paper"
         },
         {
          "font": {},
          "showarrow": false,
          "text": "bird",
          "x": 0.7040000000000002,
          "xanchor": "center",
          "xref": "paper",
          "y": 0.2866666666666666,
          "yanchor": "bottom",
          "yref": "paper"
         },
         {
          "font": {},
          "showarrow": false,
          "text": "truck",
          "x": 0.908,
          "xanchor": "center",
          "xref": "paper",
          "y": 0.2866666666666666,
          "yanchor": "bottom",
          "yref": "paper"
         },
         {
          "font": {},
          "showarrow": false,
          "text": "automobile",
          "x": 0.09200000000000001,
          "xanchor": "center",
          "xref": "paper",
          "y": 0.6433333333333333,
          "yanchor": "bottom",
          "yref": "paper"
         },
         {
          "font": {},
          "showarrow": false,
          "text": "bird",
          "x": 0.29600000000000004,
          "xanchor": "center",
          "xref": "paper",
          "y": 0.6433333333333333,
          "yanchor": "bottom",
          "yref": "paper"
         },
         {
          "font": {},
          "showarrow": false,
          "text": "horse",
          "x": 0.5,
          "xanchor": "center",
          "xref": "paper",
          "y": 0.6433333333333333,
          "yanchor": "bottom",
          "yref": "paper"
         },
         {
          "font": {},
          "showarrow": false,
          "text": "ship",
          "x": 0.7040000000000002,
          "xanchor": "center",
          "xref": "paper",
          "y": 0.6433333333333333,
          "yanchor": "bottom",
          "yref": "paper"
         },
         {
          "font": {},
          "showarrow": false,
          "text": "cat",
          "x": 0.908,
          "xanchor": "center",
          "xref": "paper",
          "y": 0.6433333333333333,
          "yanchor": "bottom",
          "yref": "paper"
         },
         {
          "font": {},
          "showarrow": false,
          "text": "frog",
          "x": 0.09200000000000001,
          "xanchor": "center",
          "xref": "paper",
          "y": 0.9999999999999999,
          "yanchor": "bottom",
          "yref": "paper"
         },
         {
          "font": {},
          "showarrow": false,
          "text": "truck",
          "x": 0.29600000000000004,
          "xanchor": "center",
          "xref": "paper",
          "y": 0.9999999999999999,
          "yanchor": "bottom",
          "yref": "paper"
         },
         {
          "font": {},
          "showarrow": false,
          "text": "truck",
          "x": 0.5,
          "xanchor": "center",
          "xref": "paper",
          "y": 0.9999999999999999,
          "yanchor": "bottom",
          "yref": "paper"
         },
         {
          "font": {},
          "showarrow": false,
          "text": "deer",
          "x": 0.7040000000000002,
          "xanchor": "center",
          "xref": "paper",
          "y": 0.9999999999999999,
          "yanchor": "bottom",
          "yref": "paper"
         },
         {
          "font": {},
          "showarrow": false,
          "text": "automobile",
          "x": 0.908,
          "xanchor": "center",
          "xref": "paper",
          "y": 0.9999999999999999,
          "yanchor": "bottom",
          "yref": "paper"
         }
        ],
        "margin": {
         "t": 60
        },
        "template": {
         "data": {
          "bar": [
           {
            "error_x": {
             "color": "#2a3f5f"
            },
            "error_y": {
             "color": "#2a3f5f"
            },
            "marker": {
             "line": {
              "color": "#E5ECF6",
              "width": 0.5
             },
             "pattern": {
              "fillmode": "overlay",
              "size": 10,
              "solidity": 0.2
             }
            },
            "type": "bar"
           }
          ],
          "barpolar": [
           {
            "marker": {
             "line": {
              "color": "#E5ECF6",
              "width": 0.5
             },
             "pattern": {
              "fillmode": "overlay",
              "size": 10,
              "solidity": 0.2
             }
            },
            "type": "barpolar"
           }
          ],
          "carpet": [
           {
            "aaxis": {
             "endlinecolor": "#2a3f5f",
             "gridcolor": "white",
             "linecolor": "white",
             "minorgridcolor": "white",
             "startlinecolor": "#2a3f5f"
            },
            "baxis": {
             "endlinecolor": "#2a3f5f",
             "gridcolor": "white",
             "linecolor": "white",
             "minorgridcolor": "white",
             "startlinecolor": "#2a3f5f"
            },
            "type": "carpet"
           }
          ],
          "choropleth": [
           {
            "colorbar": {
             "outlinewidth": 0,
             "ticks": ""
            },
            "type": "choropleth"
           }
          ],
          "contour": [
           {
            "colorbar": {
             "outlinewidth": 0,
             "ticks": ""
            },
            "colorscale": [
             [
              0,
              "#0d0887"
             ],
             [
              0.1111111111111111,
              "#46039f"
             ],
             [
              0.2222222222222222,
              "#7201a8"
             ],
             [
              0.3333333333333333,
              "#9c179e"
             ],
             [
              0.4444444444444444,
              "#bd3786"
             ],
             [
              0.5555555555555556,
              "#d8576b"
             ],
             [
              0.6666666666666666,
              "#ed7953"
             ],
             [
              0.7777777777777778,
              "#fb9f3a"
             ],
             [
              0.8888888888888888,
              "#fdca26"
             ],
             [
              1,
              "#f0f921"
             ]
            ],
            "type": "contour"
           }
          ],
          "contourcarpet": [
           {
            "colorbar": {
             "outlinewidth": 0,
             "ticks": ""
            },
            "type": "contourcarpet"
           }
          ],
          "heatmap": [
           {
            "colorbar": {
             "outlinewidth": 0,
             "ticks": ""
            },
            "colorscale": [
             [
              0,
              "#0d0887"
             ],
             [
              0.1111111111111111,
              "#46039f"
             ],
             [
              0.2222222222222222,
              "#7201a8"
             ],
             [
              0.3333333333333333,
              "#9c179e"
             ],
             [
              0.4444444444444444,
              "#bd3786"
             ],
             [
              0.5555555555555556,
              "#d8576b"
             ],
             [
              0.6666666666666666,
              "#ed7953"
             ],
             [
              0.7777777777777778,
              "#fb9f3a"
             ],
             [
              0.8888888888888888,
              "#fdca26"
             ],
             [
              1,
              "#f0f921"
             ]
            ],
            "type": "heatmap"
           }
          ],
          "heatmapgl": [
           {
            "colorbar": {
             "outlinewidth": 0,
             "ticks": ""
            },
            "colorscale": [
             [
              0,
              "#0d0887"
             ],
             [
              0.1111111111111111,
              "#46039f"
             ],
             [
              0.2222222222222222,
              "#7201a8"
             ],
             [
              0.3333333333333333,
              "#9c179e"
             ],
             [
              0.4444444444444444,
              "#bd3786"
             ],
             [
              0.5555555555555556,
              "#d8576b"
             ],
             [
              0.6666666666666666,
              "#ed7953"
             ],
             [
              0.7777777777777778,
              "#fb9f3a"
             ],
             [
              0.8888888888888888,
              "#fdca26"
             ],
             [
              1,
              "#f0f921"
             ]
            ],
            "type": "heatmapgl"
           }
          ],
          "histogram": [
           {
            "marker": {
             "pattern": {
              "fillmode": "overlay",
              "size": 10,
              "solidity": 0.2
             }
            },
            "type": "histogram"
           }
          ],
          "histogram2d": [
           {
            "colorbar": {
             "outlinewidth": 0,
             "ticks": ""
            },
            "colorscale": [
             [
              0,
              "#0d0887"
             ],
             [
              0.1111111111111111,
              "#46039f"
             ],
             [
              0.2222222222222222,
              "#7201a8"
             ],
             [
              0.3333333333333333,
              "#9c179e"
             ],
             [
              0.4444444444444444,
              "#bd3786"
             ],
             [
              0.5555555555555556,
              "#d8576b"
             ],
             [
              0.6666666666666666,
              "#ed7953"
             ],
             [
              0.7777777777777778,
              "#fb9f3a"
             ],
             [
              0.8888888888888888,
              "#fdca26"
             ],
             [
              1,
              "#f0f921"
             ]
            ],
            "type": "histogram2d"
           }
          ],
          "histogram2dcontour": [
           {
            "colorbar": {
             "outlinewidth": 0,
             "ticks": ""
            },
            "colorscale": [
             [
              0,
              "#0d0887"
             ],
             [
              0.1111111111111111,
              "#46039f"
             ],
             [
              0.2222222222222222,
              "#7201a8"
             ],
             [
              0.3333333333333333,
              "#9c179e"
             ],
             [
              0.4444444444444444,
              "#bd3786"
             ],
             [
              0.5555555555555556,
              "#d8576b"
             ],
             [
              0.6666666666666666,
              "#ed7953"
             ],
             [
              0.7777777777777778,
              "#fb9f3a"
             ],
             [
              0.8888888888888888,
              "#fdca26"
             ],
             [
              1,
              "#f0f921"
             ]
            ],
            "type": "histogram2dcontour"
           }
          ],
          "mesh3d": [
           {
            "colorbar": {
             "outlinewidth": 0,
             "ticks": ""
            },
            "type": "mesh3d"
           }
          ],
          "parcoords": [
           {
            "line": {
             "colorbar": {
              "outlinewidth": 0,
              "ticks": ""
             }
            },
            "type": "parcoords"
           }
          ],
          "pie": [
           {
            "automargin": true,
            "type": "pie"
           }
          ],
          "scatter": [
           {
            "fillpattern": {
             "fillmode": "overlay",
             "size": 10,
             "solidity": 0.2
            },
            "type": "scatter"
           }
          ],
          "scatter3d": [
           {
            "line": {
             "colorbar": {
              "outlinewidth": 0,
              "ticks": ""
             }
            },
            "marker": {
             "colorbar": {
              "outlinewidth": 0,
              "ticks": ""
             }
            },
            "type": "scatter3d"
           }
          ],
          "scattercarpet": [
           {
            "marker": {
             "colorbar": {
              "outlinewidth": 0,
              "ticks": ""
             }
            },
            "type": "scattercarpet"
           }
          ],
          "scattergeo": [
           {
            "marker": {
             "colorbar": {
              "outlinewidth": 0,
              "ticks": ""
             }
            },
            "type": "scattergeo"
           }
          ],
          "scattergl": [
           {
            "marker": {
             "colorbar": {
              "outlinewidth": 0,
              "ticks": ""
             }
            },
            "type": "scattergl"
           }
          ],
          "scattermapbox": [
           {
            "marker": {
             "colorbar": {
              "outlinewidth": 0,
              "ticks": ""
             }
            },
            "type": "scattermapbox"
           }
          ],
          "scatterpolar": [
           {
            "marker": {
             "colorbar": {
              "outlinewidth": 0,
              "ticks": ""
             }
            },
            "type": "scatterpolar"
           }
          ],
          "scatterpolargl": [
           {
            "marker": {
             "colorbar": {
              "outlinewidth": 0,
              "ticks": ""
             }
            },
            "type": "scatterpolargl"
           }
          ],
          "scatterternary": [
           {
            "marker": {
             "colorbar": {
              "outlinewidth": 0,
              "ticks": ""
             }
            },
            "type": "scatterternary"
           }
          ],
          "surface": [
           {
            "colorbar": {
             "outlinewidth": 0,
             "ticks": ""
            },
            "colorscale": [
             [
              0,
              "#0d0887"
             ],
             [
              0.1111111111111111,
              "#46039f"
             ],
             [
              0.2222222222222222,
              "#7201a8"
             ],
             [
              0.3333333333333333,
              "#9c179e"
             ],
             [
              0.4444444444444444,
              "#bd3786"
             ],
             [
              0.5555555555555556,
              "#d8576b"
             ],
             [
              0.6666666666666666,
              "#ed7953"
             ],
             [
              0.7777777777777778,
              "#fb9f3a"
             ],
             [
              0.8888888888888888,
              "#fdca26"
             ],
             [
              1,
              "#f0f921"
             ]
            ],
            "type": "surface"
           }
          ],
          "table": [
           {
            "cells": {
             "fill": {
              "color": "#EBF0F8"
             },
             "line": {
              "color": "white"
             }
            },
            "header": {
             "fill": {
              "color": "#C8D4E3"
             },
             "line": {
              "color": "white"
             }
            },
            "type": "table"
           }
          ]
         },
         "layout": {
          "annotationdefaults": {
           "arrowcolor": "#2a3f5f",
           "arrowhead": 0,
           "arrowwidth": 1
          },
          "autotypenumbers": "strict",
          "coloraxis": {
           "colorbar": {
            "outlinewidth": 0,
            "ticks": ""
           }
          },
          "colorscale": {
           "diverging": [
            [
             0,
             "#8e0152"
            ],
            [
             0.1,
             "#c51b7d"
            ],
            [
             0.2,
             "#de77ae"
            ],
            [
             0.3,
             "#f1b6da"
            ],
            [
             0.4,
             "#fde0ef"
            ],
            [
             0.5,
             "#f7f7f7"
            ],
            [
             0.6,
             "#e6f5d0"
            ],
            [
             0.7,
             "#b8e186"
            ],
            [
             0.8,
             "#7fbc41"
            ],
            [
             0.9,
             "#4d9221"
            ],
            [
             1,
             "#276419"
            ]
           ],
           "sequential": [
            [
             0,
             "#0d0887"
            ],
            [
             0.1111111111111111,
             "#46039f"
            ],
            [
             0.2222222222222222,
             "#7201a8"
            ],
            [
             0.3333333333333333,
             "#9c179e"
            ],
            [
             0.4444444444444444,
             "#bd3786"
            ],
            [
             0.5555555555555556,
             "#d8576b"
            ],
            [
             0.6666666666666666,
             "#ed7953"
            ],
            [
             0.7777777777777778,
             "#fb9f3a"
            ],
            [
             0.8888888888888888,
             "#fdca26"
            ],
            [
             1,
             "#f0f921"
            ]
           ],
           "sequentialminus": [
            [
             0,
             "#0d0887"
            ],
            [
             0.1111111111111111,
             "#46039f"
            ],
            [
             0.2222222222222222,
             "#7201a8"
            ],
            [
             0.3333333333333333,
             "#9c179e"
            ],
            [
             0.4444444444444444,
             "#bd3786"
            ],
            [
             0.5555555555555556,
             "#d8576b"
            ],
            [
             0.6666666666666666,
             "#ed7953"
            ],
            [
             0.7777777777777778,
             "#fb9f3a"
            ],
            [
             0.8888888888888888,
             "#fdca26"
            ],
            [
             1,
             "#f0f921"
            ]
           ]
          },
          "colorway": [
           "#636efa",
           "#EF553B",
           "#00cc96",
           "#ab63fa",
           "#FFA15A",
           "#19d3f3",
           "#FF6692",
           "#B6E880",
           "#FF97FF",
           "#FECB52"
          ],
          "font": {
           "color": "#2a3f5f"
          },
          "geo": {
           "bgcolor": "white",
           "lakecolor": "white",
           "landcolor": "#E5ECF6",
           "showlakes": true,
           "showland": true,
           "subunitcolor": "white"
          },
          "hoverlabel": {
           "align": "left"
          },
          "hovermode": "closest",
          "mapbox": {
           "style": "light"
          },
          "paper_bgcolor": "white",
          "plot_bgcolor": "#E5ECF6",
          "polar": {
           "angularaxis": {
            "gridcolor": "white",
            "linecolor": "white",
            "ticks": ""
           },
           "bgcolor": "#E5ECF6",
           "radialaxis": {
            "gridcolor": "white",
            "linecolor": "white",
            "ticks": ""
           }
          },
          "scene": {
           "xaxis": {
            "backgroundcolor": "#E5ECF6",
            "gridcolor": "white",
            "gridwidth": 2,
            "linecolor": "white",
            "showbackground": true,
            "ticks": "",
            "zerolinecolor": "white"
           },
           "yaxis": {
            "backgroundcolor": "#E5ECF6",
            "gridcolor": "white",
            "gridwidth": 2,
            "linecolor": "white",
            "showbackground": true,
            "ticks": "",
            "zerolinecolor": "white"
           },
           "zaxis": {
            "backgroundcolor": "#E5ECF6",
            "gridcolor": "white",
            "gridwidth": 2,
            "linecolor": "white",
            "showbackground": true,
            "ticks": "",
            "zerolinecolor": "white"
           }
          },
          "shapedefaults": {
           "line": {
            "color": "#2a3f5f"
           }
          },
          "ternary": {
           "aaxis": {
            "gridcolor": "white",
            "linecolor": "white",
            "ticks": ""
           },
           "baxis": {
            "gridcolor": "white",
            "linecolor": "white",
            "ticks": ""
           },
           "bgcolor": "#E5ECF6",
           "caxis": {
            "gridcolor": "white",
            "linecolor": "white",
            "ticks": ""
           }
          },
          "title": {
           "x": 0.05
          },
          "xaxis": {
           "automargin": true,
           "gridcolor": "white",
           "linecolor": "white",
           "ticks": "",
           "title": {
            "standoff": 15
           },
           "zerolinecolor": "white",
           "zerolinewidth": 2
          },
          "yaxis": {
           "automargin": true,
           "gridcolor": "white",
           "linecolor": "white",
           "ticks": "",
           "title": {
            "standoff": 15
           },
           "zerolinecolor": "white",
           "zerolinewidth": 2
          }
         }
        },
        "xaxis": {
         "anchor": "y",
         "domain": [
          0,
          0.18400000000000002
         ]
        },
        "xaxis10": {
         "anchor": "y10",
         "domain": [
          0.8160000000000001,
          1
         ],
         "matches": "x",
         "showticklabels": false
        },
        "xaxis11": {
         "anchor": "y11",
         "domain": [
          0,
          0.18400000000000002
         ],
         "matches": "x",
         "showticklabels": false
        },
        "xaxis12": {
         "anchor": "y12",
         "domain": [
          0.20400000000000001,
          0.388
         ],
         "matches": "x",
         "showticklabels": false
        },
        "xaxis13": {
         "anchor": "y13",
         "domain": [
          0.40800000000000003,
          0.5920000000000001
         ],
         "matches": "x",
         "showticklabels": false
        },
        "xaxis14": {
         "anchor": "y14",
         "domain": [
          0.6120000000000001,
          0.7960000000000002
         ],
         "matches": "x",
         "showticklabels": false
        },
        "xaxis15": {
         "anchor": "y15",
         "domain": [
          0.8160000000000001,
          1
         ],
         "matches": "x",
         "showticklabels": false
        },
        "xaxis2": {
         "anchor": "y2",
         "domain": [
          0.20400000000000001,
          0.388
         ],
         "matches": "x"
        },
        "xaxis3": {
         "anchor": "y3",
         "domain": [
          0.40800000000000003,
          0.5920000000000001
         ],
         "matches": "x"
        },
        "xaxis4": {
         "anchor": "y4",
         "domain": [
          0.6120000000000001,
          0.7960000000000002
         ],
         "matches": "x"
        },
        "xaxis5": {
         "anchor": "y5",
         "domain": [
          0.8160000000000001,
          1
         ],
         "matches": "x"
        },
        "xaxis6": {
         "anchor": "y6",
         "domain": [
          0,
          0.18400000000000002
         ],
         "matches": "x",
         "showticklabels": false
        },
        "xaxis7": {
         "anchor": "y7",
         "domain": [
          0.20400000000000001,
          0.388
         ],
         "matches": "x",
         "showticklabels": false
        },
        "xaxis8": {
         "anchor": "y8",
         "domain": [
          0.40800000000000003,
          0.5920000000000001
         ],
         "matches": "x",
         "showticklabels": false
        },
        "xaxis9": {
         "anchor": "y9",
         "domain": [
          0.6120000000000001,
          0.7960000000000002
         ],
         "matches": "x",
         "showticklabels": false
        },
        "yaxis": {
         "anchor": "x",
         "domain": [
          0,
          0.2866666666666666
         ]
        },
        "yaxis10": {
         "anchor": "x10",
         "domain": [
          0.35666666666666663,
          0.6433333333333333
         ],
         "matches": "y",
         "showticklabels": false
        },
        "yaxis11": {
         "anchor": "x11",
         "domain": [
          0.7133333333333333,
          0.9999999999999999
         ],
         "matches": "y"
        },
        "yaxis12": {
         "anchor": "x12",
         "domain": [
          0.7133333333333333,
          0.9999999999999999
         ],
         "matches": "y",
         "showticklabels": false
        },
        "yaxis13": {
         "anchor": "x13",
         "domain": [
          0.7133333333333333,
          0.9999999999999999
         ],
         "matches": "y",
         "showticklabels": false
        },
        "yaxis14": {
         "anchor": "x14",
         "domain": [
          0.7133333333333333,
          0.9999999999999999
         ],
         "matches": "y",
         "showticklabels": false
        },
        "yaxis15": {
         "anchor": "x15",
         "domain": [
          0.7133333333333333,
          0.9999999999999999
         ],
         "matches": "y",
         "showticklabels": false
        },
        "yaxis2": {
         "anchor": "x2",
         "domain": [
          0,
          0.2866666666666666
         ],
         "matches": "y",
         "showticklabels": false
        },
        "yaxis3": {
         "anchor": "x3",
         "domain": [
          0,
          0.2866666666666666
         ],
         "matches": "y",
         "showticklabels": false
        },
        "yaxis4": {
         "anchor": "x4",
         "domain": [
          0,
          0.2866666666666666
         ],
         "matches": "y",
         "showticklabels": false
        },
        "yaxis5": {
         "anchor": "x5",
         "domain": [
          0,
          0.2866666666666666
         ],
         "matches": "y",
         "showticklabels": false
        },
        "yaxis6": {
         "anchor": "x6",
         "domain": [
          0.35666666666666663,
          0.6433333333333333
         ],
         "matches": "y"
        },
        "yaxis7": {
         "anchor": "x7",
         "domain": [
          0.35666666666666663,
          0.6433333333333333
         ],
         "matches": "y",
         "showticklabels": false
        },
        "yaxis8": {
         "anchor": "x8",
         "domain": [
          0.35666666666666663,
          0.6433333333333333
         ],
         "matches": "y",
         "showticklabels": false
        },
        "yaxis9": {
         "anchor": "x9",
         "domain": [
          0.35666666666666663,
          0.6433333333333333
         ],
         "matches": "y",
         "showticklabels": false
        }
       }
      }
     },
     "metadata": {},
     "output_type": "display_data"
    }
   ],
   "source": [
    "cifar_mean = [0.485, 0.456, 0.406]\n",
    "cifar_std = [0.229, 0.224, 0.225]\n",
    "\n",
    "transform = transforms.Compose([\n",
    "    transforms.ToTensor(),\n",
    "    transforms.Normalize(mean=cifar_mean, std=cifar_std)\n",
    "])\n",
    "\n",
    "trainset = datasets.CIFAR10(root='./data', train=True, download=True, transform=transform)\n",
    "testset = datasets.CIFAR10(root='./data', train=False, download=True, transform=transform)\n",
    "\n",
    "utils.show_cifar_images(trainset, rows=3, cols=5)"
   ]
  },
  {
   "cell_type": "code",
   "execution_count": 6,
   "metadata": {},
   "outputs": [
    {
     "data": {
      "application/vnd.jupyter.widget-view+json": {
       "model_id": "b4ff943f69644e7bb7645695302e5245",
       "version_major": 2,
       "version_minor": 0
      },
      "text/plain": [
       "  0%|          | 0/391 [00:00<?, ?it/s]"
      ]
     },
     "metadata": {},
     "output_type": "display_data"
    },
    {
     "name": "stdout",
     "output_type": "stream",
     "text": [
      "Epoch 1/1, train loss is 1.184148, accuracy is 5839/10000\n",
      "Saving model to: ./w0d3_resnet.pt\n"
     ]
    },
    {
     "data": {
      "application/vnd.plotly.v1+json": {
       "config": {
        "plotlyServerURL": "https://plot.ly"
       },
       "data": [
        {
         "name": "Training loss",
         "type": "scatter",
         "y": [
          7.4399871826171875,
          6.053558826446533,
          4.82042932510376,
          3.7002599239349365,
          3.287832021713257,
          2.5678253173828125,
          2.4476850032806396,
          2.6593496799468994,
          2.509425163269043,
          2.339308023452759,
          2.2850770950317383,
          2.1973764896392822,
          1.9525108337402344,
          2.2342519760131836,
          2.134653329849243,
          2.0840725898742676,
          1.974368929862976,
          1.9313278198242188,
          1.8757632970809937,
          1.8422764539718628,
          1.9156113862991333,
          1.8688865900039673,
          1.762111783027649,
          1.9870222806930542,
          1.8357387781143188,
          1.8114306926727295,
          1.8707178831100464,
          1.7473081350326538,
          1.8993871212005615,
          1.8527339696884155,
          1.7928794622421265,
          1.7551767826080322,
          1.6551072597503662,
          1.628274917602539,
          1.7422767877578735,
          1.8246989250183105,
          1.6934033632278442,
          1.6891350746154785,
          1.6929254531860352,
          1.7630484104156494,
          1.8925068378448486,
          1.8693037033081055,
          1.7701852321624756,
          1.8708871603012085,
          1.6119343042373657,
          1.8540781736373901,
          1.7479475736618042,
          1.7740954160690308,
          1.7663494348526,
          1.6478310823440552,
          1.9029324054718018,
          1.6312439441680908,
          1.706758975982666,
          1.743971347808838,
          1.8077346086502075,
          1.6875377893447876,
          1.620936632156372,
          1.6945548057556152,
          1.7597349882125854,
          1.6453357934951782,
          1.4547604322433472,
          1.757126808166504,
          1.5139812231063843,
          1.5904781818389893,
          1.6605178117752075,
          1.6766177415847778,
          1.4044924974441528,
          1.5542641878128052,
          1.6351052522659302,
          1.6345971822738647,
          1.5821231603622437,
          1.603581190109253,
          1.5641412734985352,
          1.4427810907363892,
          1.547706961631775,
          1.6139953136444092,
          1.4999768733978271,
          1.7935720682144165,
          1.6690038442611694,
          1.8201380968093872,
          1.7381086349487305,
          1.5644809007644653,
          1.5928574800491333,
          1.617773175239563,
          1.5905933380126953,
          1.5854753255844116,
          1.6181013584136963,
          1.5814077854156494,
          1.5562372207641602,
          1.4403377771377563,
          1.4763232469558716,
          1.545354962348938,
          1.5193217992782593,
          1.5777127742767334,
          1.5543614625930786,
          1.5414668321609497,
          1.4013365507125854,
          1.7124245166778564,
          1.6687597036361694,
          1.6477619409561157,
          1.7135133743286133,
          1.7431365251541138,
          1.5111923217773438,
          1.4943058490753174,
          1.467747688293457,
          1.5252032279968262,
          1.5498160123825073,
          1.4897056818008423,
          1.497782588005066,
          1.5319938659667969,
          1.4459888935089111,
          1.8468900918960571,
          1.508866786956787,
          1.5064674615859985,
          1.5930769443511963,
          1.7545491456985474,
          1.4960099458694458,
          1.5386204719543457,
          1.5995091199874878,
          1.548528790473938,
          1.6160889863967896,
          1.5233879089355469,
          1.459019422531128,
          1.4183604717254639,
          1.5236340761184692,
          1.4625141620635986,
          1.5557175874710083,
          1.6199638843536377,
          1.568480134010315,
          1.2868562936782837,
          1.592803955078125,
          1.591246247291565,
          1.6118478775024414,
          1.7016990184783936,
          1.5221267938613892,
          1.5032545328140259,
          1.6191669702529907,
          1.5477391481399536,
          1.436854362487793,
          1.5332034826278687,
          1.5155305862426758,
          1.3905491828918457,
          1.5743253231048584,
          1.5039921998977661,
          1.5891437530517578,
          1.5373138189315796,
          1.461207389831543,
          1.5519286394119263,
          1.49751615524292,
          1.5826743841171265,
          1.5348522663116455,
          1.4780045747756958,
          1.4571000337600708,
          1.5204325914382935,
          1.593427300453186,
          1.555348515510559,
          1.421087384223938,
          1.4404065608978271,
          1.4218730926513672,
          1.4011143445968628,
          1.3929193019866943,
          1.2843161821365356,
          1.504202961921692,
          1.3056083917617798,
          1.420912742614746,
          1.6701154708862305,
          1.5090861320495605,
          1.5146572589874268,
          1.4304876327514648,
          1.4759684801101685,
          1.3391906023025513,
          1.6866731643676758,
          1.4737486839294434,
          1.5423259735107422,
          1.6298643350601196,
          1.6567438840866089,
          1.3040260076522827,
          1.4616116285324097,
          1.4713551998138428,
          1.4694148302078247,
          1.4999752044677734,
          1.3543181419372559,
          1.4196079969406128,
          1.4086107015609741,
          1.374683141708374,
          1.3896281719207764,
          1.426114797592163,
          1.284401535987854,
          1.38868248462677,
          1.554556965827942,
          1.5463294982910156,
          1.4096580743789673,
          1.3902060985565186,
          1.1898448467254639,
          1.4313372373580933,
          1.4059761762619019,
          1.409745216369629,
          1.3980835676193237,
          1.5044324398040771,
          1.2648118734359741,
          1.4739311933517456,
          1.3942874670028687,
          1.4057390689849854,
          1.627487301826477,
          1.3395329713821411,
          1.3639967441558838,
          1.4005873203277588,
          1.2740135192871094,
          1.406739592552185,
          1.4332300424575806,
          1.3782789707183838,
          1.6010417938232422,
          1.3277496099472046,
          1.4838676452636719,
          1.3613803386688232,
          1.396376371383667,
          1.2340691089630127,
          1.3343937397003174,
          1.3387984037399292,
          1.4284647703170776,
          1.4270246028900146,
          1.479623794555664,
          1.2456387281417847,
          1.2130030393600464,
          1.2417991161346436,
          1.423514723777771,
          1.3022491931915283,
          1.3922522068023682,
          1.186687707901001,
          1.4813677072525024,
          1.230777382850647,
          1.472088098526001,
          1.318397879600525,
          1.3987791538238525,
          1.3977656364440918,
          1.2207804918289185,
          1.194477915763855,
          1.2905312776565552,
          1.3198837041854858,
          1.329276442527771,
          1.230021357536316,
          1.2908101081848145,
          1.2502102851867676,
          1.523331880569458,
          1.3573341369628906,
          1.3331795930862427,
          1.2987394332885742,
          1.4404343366622925,
          1.1912598609924316,
          1.3647501468658447,
          1.2390488386154175,
          1.373206615447998,
          1.383620023727417,
          1.4363895654678345,
          1.3849010467529297,
          1.251660704612732,
          1.2099838256835938,
          1.1802276372909546,
          1.592988133430481,
          1.182803988456726,
          1.2713665962219238,
          1.2084003686904907,
          1.4557400941848755,
          1.440854787826538,
          1.3548734188079834,
          1.3781437873840332,
          1.4043149948120117,
          1.359890341758728,
          1.2215824127197266,
          1.3977515697479248,
          1.3670562505722046,
          1.1910548210144043,
          1.1049495935440063,
          1.4424352645874023,
          1.2593103647232056,
          1.4244221448898315,
          1.3280998468399048,
          1.1559263467788696,
          1.2519270181655884,
          1.280382513999939,
          1.1900570392608643,
          1.251853346824646,
          1.4740052223205566,
          1.323814868927002,
          1.2579559087753296,
          1.3656185865402222,
          1.253373384475708,
          1.1637412309646606,
          1.4747368097305298,
          1.257788062095642,
          1.3554883003234863,
          1.3122540712356567,
          1.3079919815063477,
          1.386537790298462,
          1.2881139516830444,
          1.4757336378097534,
          1.2545580863952637,
          1.4347890615463257,
          1.1269835233688354,
          1.1697983741760254,
          1.2565298080444336,
          1.3914530277252197,
          1.3759980201721191,
          1.1856629848480225,
          1.2898720502853394,
          1.2253135442733765,
          1.0472290515899658,
          1.2858206033706665,
          1.1610298156738281,
          1.3553664684295654,
          1.1711021661758423,
          1.304516315460205,
          1.4014323949813843,
          1.1176304817199707,
          1.1209440231323242,
          1.375075101852417,
          1.1638085842132568,
          1.2120201587677002,
          1.2138184309005737,
          1.2817413806915283,
          1.1334308385849,
          1.1637462377548218,
          1.2298873662948608,
          1.2394351959228516,
          1.297861933708191,
          1.372727870941162,
          1.5478986501693726,
          1.3424091339111328,
          1.2005342245101929,
          1.26551353931427,
          1.0832114219665527,
          1.1297677755355835,
          1.1446486711502075,
          1.1592704057693481,
          1.1501328945159912,
          1.0218400955200195,
          1.1878546476364136,
          1.2860101461410522,
          1.2543070316314697,
          1.2507740259170532,
          1.1602892875671387,
          1.2571824789047241,
          1.0925630331039429,
          1.1080491542816162,
          1.1385663747787476,
          1.1744978427886963,
          1.2575099468231201,
          1.147377610206604,
          1.2211291790008545,
          1.327260136604309,
          1.2498595714569092,
          1.210747241973877,
          1.1978533267974854,
          1.1550391912460327,
          1.1582847833633423,
          1.3370767831802368,
          1.1460131406784058,
          1.031356692314148,
          1.1413222551345825,
          1.1399999856948853,
          1.1548106670379639,
          1.204990267753601,
          1.2797566652297974,
          1.054624319076538,
          1.0363516807556152,
          1.1436752080917358,
          1.3199124336242676,
          1.0006715059280396,
          1.1227989196777344,
          1.1309505701065063,
          1.4894838333129883,
          1.396810531616211,
          1.279765248298645,
          1.1988399028778076,
          1.0890355110168457,
          1.1864891052246094,
          1.1965547800064087,
          1.135468602180481,
          1.165118932723999,
          1.0449283123016357,
          1.2971363067626953,
          1.2795686721801758,
          1.2813425064086914,
          1.1805604696273804,
          1.0551012754440308,
          1.2297204732894897,
          1.0674166679382324,
          1.2635102272033691,
          1.1249384880065918,
          1.1522396802902222,
          1.1841477155685425
         ]
        }
       ],
       "layout": {
        "template": {
         "data": {
          "bar": [
           {
            "error_x": {
             "color": "rgb(36,36,36)"
            },
            "error_y": {
             "color": "rgb(36,36,36)"
            },
            "marker": {
             "line": {
              "color": "white",
              "width": 0.5
             },
             "pattern": {
              "fillmode": "overlay",
              "size": 10,
              "solidity": 0.2
             }
            },
            "type": "bar"
           }
          ],
          "barpolar": [
           {
            "marker": {
             "line": {
              "color": "white",
              "width": 0.5
             },
             "pattern": {
              "fillmode": "overlay",
              "size": 10,
              "solidity": 0.2
             }
            },
            "type": "barpolar"
           }
          ],
          "carpet": [
           {
            "aaxis": {
             "endlinecolor": "rgb(36,36,36)",
             "gridcolor": "white",
             "linecolor": "white",
             "minorgridcolor": "white",
             "startlinecolor": "rgb(36,36,36)"
            },
            "baxis": {
             "endlinecolor": "rgb(36,36,36)",
             "gridcolor": "white",
             "linecolor": "white",
             "minorgridcolor": "white",
             "startlinecolor": "rgb(36,36,36)"
            },
            "type": "carpet"
           }
          ],
          "choropleth": [
           {
            "colorbar": {
             "outlinewidth": 1,
             "tickcolor": "rgb(36,36,36)",
             "ticks": "outside"
            },
            "type": "choropleth"
           }
          ],
          "contour": [
           {
            "colorbar": {
             "outlinewidth": 1,
             "tickcolor": "rgb(36,36,36)",
             "ticks": "outside"
            },
            "colorscale": [
             [
              0,
              "#440154"
             ],
             [
              0.1111111111111111,
              "#482878"
             ],
             [
              0.2222222222222222,
              "#3e4989"
             ],
             [
              0.3333333333333333,
              "#31688e"
             ],
             [
              0.4444444444444444,
              "#26828e"
             ],
             [
              0.5555555555555556,
              "#1f9e89"
             ],
             [
              0.6666666666666666,
              "#35b779"
             ],
             [
              0.7777777777777778,
              "#6ece58"
             ],
             [
              0.8888888888888888,
              "#b5de2b"
             ],
             [
              1,
              "#fde725"
             ]
            ],
            "type": "contour"
           }
          ],
          "contourcarpet": [
           {
            "colorbar": {
             "outlinewidth": 1,
             "tickcolor": "rgb(36,36,36)",
             "ticks": "outside"
            },
            "type": "contourcarpet"
           }
          ],
          "heatmap": [
           {
            "colorbar": {
             "outlinewidth": 1,
             "tickcolor": "rgb(36,36,36)",
             "ticks": "outside"
            },
            "colorscale": [
             [
              0,
              "#440154"
             ],
             [
              0.1111111111111111,
              "#482878"
             ],
             [
              0.2222222222222222,
              "#3e4989"
             ],
             [
              0.3333333333333333,
              "#31688e"
             ],
             [
              0.4444444444444444,
              "#26828e"
             ],
             [
              0.5555555555555556,
              "#1f9e89"
             ],
             [
              0.6666666666666666,
              "#35b779"
             ],
             [
              0.7777777777777778,
              "#6ece58"
             ],
             [
              0.8888888888888888,
              "#b5de2b"
             ],
             [
              1,
              "#fde725"
             ]
            ],
            "type": "heatmap"
           }
          ],
          "heatmapgl": [
           {
            "colorbar": {
             "outlinewidth": 1,
             "tickcolor": "rgb(36,36,36)",
             "ticks": "outside"
            },
            "colorscale": [
             [
              0,
              "#440154"
             ],
             [
              0.1111111111111111,
              "#482878"
             ],
             [
              0.2222222222222222,
              "#3e4989"
             ],
             [
              0.3333333333333333,
              "#31688e"
             ],
             [
              0.4444444444444444,
              "#26828e"
             ],
             [
              0.5555555555555556,
              "#1f9e89"
             ],
             [
              0.6666666666666666,
              "#35b779"
             ],
             [
              0.7777777777777778,
              "#6ece58"
             ],
             [
              0.8888888888888888,
              "#b5de2b"
             ],
             [
              1,
              "#fde725"
             ]
            ],
            "type": "heatmapgl"
           }
          ],
          "histogram": [
           {
            "marker": {
             "line": {
              "color": "white",
              "width": 0.6
             }
            },
            "type": "histogram"
           }
          ],
          "histogram2d": [
           {
            "colorbar": {
             "outlinewidth": 1,
             "tickcolor": "rgb(36,36,36)",
             "ticks": "outside"
            },
            "colorscale": [
             [
              0,
              "#440154"
             ],
             [
              0.1111111111111111,
              "#482878"
             ],
             [
              0.2222222222222222,
              "#3e4989"
             ],
             [
              0.3333333333333333,
              "#31688e"
             ],
             [
              0.4444444444444444,
              "#26828e"
             ],
             [
              0.5555555555555556,
              "#1f9e89"
             ],
             [
              0.6666666666666666,
              "#35b779"
             ],
             [
              0.7777777777777778,
              "#6ece58"
             ],
             [
              0.8888888888888888,
              "#b5de2b"
             ],
             [
              1,
              "#fde725"
             ]
            ],
            "type": "histogram2d"
           }
          ],
          "histogram2dcontour": [
           {
            "colorbar": {
             "outlinewidth": 1,
             "tickcolor": "rgb(36,36,36)",
             "ticks": "outside"
            },
            "colorscale": [
             [
              0,
              "#440154"
             ],
             [
              0.1111111111111111,
              "#482878"
             ],
             [
              0.2222222222222222,
              "#3e4989"
             ],
             [
              0.3333333333333333,
              "#31688e"
             ],
             [
              0.4444444444444444,
              "#26828e"
             ],
             [
              0.5555555555555556,
              "#1f9e89"
             ],
             [
              0.6666666666666666,
              "#35b779"
             ],
             [
              0.7777777777777778,
              "#6ece58"
             ],
             [
              0.8888888888888888,
              "#b5de2b"
             ],
             [
              1,
              "#fde725"
             ]
            ],
            "type": "histogram2dcontour"
           }
          ],
          "mesh3d": [
           {
            "colorbar": {
             "outlinewidth": 1,
             "tickcolor": "rgb(36,36,36)",
             "ticks": "outside"
            },
            "type": "mesh3d"
           }
          ],
          "parcoords": [
           {
            "line": {
             "colorbar": {
              "outlinewidth": 1,
              "tickcolor": "rgb(36,36,36)",
              "ticks": "outside"
             }
            },
            "type": "parcoords"
           }
          ],
          "pie": [
           {
            "automargin": true,
            "type": "pie"
           }
          ],
          "scatter": [
           {
            "fillpattern": {
             "fillmode": "overlay",
             "size": 10,
             "solidity": 0.2
            },
            "type": "scatter"
           }
          ],
          "scatter3d": [
           {
            "line": {
             "colorbar": {
              "outlinewidth": 1,
              "tickcolor": "rgb(36,36,36)",
              "ticks": "outside"
             }
            },
            "marker": {
             "colorbar": {
              "outlinewidth": 1,
              "tickcolor": "rgb(36,36,36)",
              "ticks": "outside"
             }
            },
            "type": "scatter3d"
           }
          ],
          "scattercarpet": [
           {
            "marker": {
             "colorbar": {
              "outlinewidth": 1,
              "tickcolor": "rgb(36,36,36)",
              "ticks": "outside"
             }
            },
            "type": "scattercarpet"
           }
          ],
          "scattergeo": [
           {
            "marker": {
             "colorbar": {
              "outlinewidth": 1,
              "tickcolor": "rgb(36,36,36)",
              "ticks": "outside"
             }
            },
            "type": "scattergeo"
           }
          ],
          "scattergl": [
           {
            "marker": {
             "colorbar": {
              "outlinewidth": 1,
              "tickcolor": "rgb(36,36,36)",
              "ticks": "outside"
             }
            },
            "type": "scattergl"
           }
          ],
          "scattermapbox": [
           {
            "marker": {
             "colorbar": {
              "outlinewidth": 1,
              "tickcolor": "rgb(36,36,36)",
              "ticks": "outside"
             }
            },
            "type": "scattermapbox"
           }
          ],
          "scatterpolar": [
           {
            "marker": {
             "colorbar": {
              "outlinewidth": 1,
              "tickcolor": "rgb(36,36,36)",
              "ticks": "outside"
             }
            },
            "type": "scatterpolar"
           }
          ],
          "scatterpolargl": [
           {
            "marker": {
             "colorbar": {
              "outlinewidth": 1,
              "tickcolor": "rgb(36,36,36)",
              "ticks": "outside"
             }
            },
            "type": "scatterpolargl"
           }
          ],
          "scatterternary": [
           {
            "marker": {
             "colorbar": {
              "outlinewidth": 1,
              "tickcolor": "rgb(36,36,36)",
              "ticks": "outside"
             }
            },
            "type": "scatterternary"
           }
          ],
          "surface": [
           {
            "colorbar": {
             "outlinewidth": 1,
             "tickcolor": "rgb(36,36,36)",
             "ticks": "outside"
            },
            "colorscale": [
             [
              0,
              "#440154"
             ],
             [
              0.1111111111111111,
              "#482878"
             ],
             [
              0.2222222222222222,
              "#3e4989"
             ],
             [
              0.3333333333333333,
              "#31688e"
             ],
             [
              0.4444444444444444,
              "#26828e"
             ],
             [
              0.5555555555555556,
              "#1f9e89"
             ],
             [
              0.6666666666666666,
              "#35b779"
             ],
             [
              0.7777777777777778,
              "#6ece58"
             ],
             [
              0.8888888888888888,
              "#b5de2b"
             ],
             [
              1,
              "#fde725"
             ]
            ],
            "type": "surface"
           }
          ],
          "table": [
           {
            "cells": {
             "fill": {
              "color": "rgb(237,237,237)"
             },
             "line": {
              "color": "white"
             }
            },
            "header": {
             "fill": {
              "color": "rgb(217,217,217)"
             },
             "line": {
              "color": "white"
             }
            },
            "type": "table"
           }
          ]
         },
         "layout": {
          "annotationdefaults": {
           "arrowhead": 0,
           "arrowwidth": 1
          },
          "autotypenumbers": "strict",
          "coloraxis": {
           "colorbar": {
            "outlinewidth": 1,
            "tickcolor": "rgb(36,36,36)",
            "ticks": "outside"
           }
          },
          "colorscale": {
           "diverging": [
            [
             0,
             "rgb(103,0,31)"
            ],
            [
             0.1,
             "rgb(178,24,43)"
            ],
            [
             0.2,
             "rgb(214,96,77)"
            ],
            [
             0.3,
             "rgb(244,165,130)"
            ],
            [
             0.4,
             "rgb(253,219,199)"
            ],
            [
             0.5,
             "rgb(247,247,247)"
            ],
            [
             0.6,
             "rgb(209,229,240)"
            ],
            [
             0.7,
             "rgb(146,197,222)"
            ],
            [
             0.8,
             "rgb(67,147,195)"
            ],
            [
             0.9,
             "rgb(33,102,172)"
            ],
            [
             1,
             "rgb(5,48,97)"
            ]
           ],
           "sequential": [
            [
             0,
             "#440154"
            ],
            [
             0.1111111111111111,
             "#482878"
            ],
            [
             0.2222222222222222,
             "#3e4989"
            ],
            [
             0.3333333333333333,
             "#31688e"
            ],
            [
             0.4444444444444444,
             "#26828e"
            ],
            [
             0.5555555555555556,
             "#1f9e89"
            ],
            [
             0.6666666666666666,
             "#35b779"
            ],
            [
             0.7777777777777778,
             "#6ece58"
            ],
            [
             0.8888888888888888,
             "#b5de2b"
            ],
            [
             1,
             "#fde725"
            ]
           ],
           "sequentialminus": [
            [
             0,
             "#440154"
            ],
            [
             0.1111111111111111,
             "#482878"
            ],
            [
             0.2222222222222222,
             "#3e4989"
            ],
            [
             0.3333333333333333,
             "#31688e"
            ],
            [
             0.4444444444444444,
             "#26828e"
            ],
            [
             0.5555555555555556,
             "#1f9e89"
            ],
            [
             0.6666666666666666,
             "#35b779"
            ],
            [
             0.7777777777777778,
             "#6ece58"
            ],
            [
             0.8888888888888888,
             "#b5de2b"
            ],
            [
             1,
             "#fde725"
            ]
           ]
          },
          "colorway": [
           "#1F77B4",
           "#FF7F0E",
           "#2CA02C",
           "#D62728",
           "#9467BD",
           "#8C564B",
           "#E377C2",
           "#7F7F7F",
           "#BCBD22",
           "#17BECF"
          ],
          "font": {
           "color": "rgb(36,36,36)"
          },
          "geo": {
           "bgcolor": "white",
           "lakecolor": "white",
           "landcolor": "white",
           "showlakes": true,
           "showland": true,
           "subunitcolor": "white"
          },
          "hoverlabel": {
           "align": "left"
          },
          "hovermode": "closest",
          "mapbox": {
           "style": "light"
          },
          "paper_bgcolor": "white",
          "plot_bgcolor": "white",
          "polar": {
           "angularaxis": {
            "gridcolor": "rgb(232,232,232)",
            "linecolor": "rgb(36,36,36)",
            "showgrid": false,
            "showline": true,
            "ticks": "outside"
           },
           "bgcolor": "white",
           "radialaxis": {
            "gridcolor": "rgb(232,232,232)",
            "linecolor": "rgb(36,36,36)",
            "showgrid": false,
            "showline": true,
            "ticks": "outside"
           }
          },
          "scene": {
           "xaxis": {
            "backgroundcolor": "white",
            "gridcolor": "rgb(232,232,232)",
            "gridwidth": 2,
            "linecolor": "rgb(36,36,36)",
            "showbackground": true,
            "showgrid": false,
            "showline": true,
            "ticks": "outside",
            "zeroline": false,
            "zerolinecolor": "rgb(36,36,36)"
           },
           "yaxis": {
            "backgroundcolor": "white",
            "gridcolor": "rgb(232,232,232)",
            "gridwidth": 2,
            "linecolor": "rgb(36,36,36)",
            "showbackground": true,
            "showgrid": false,
            "showline": true,
            "ticks": "outside",
            "zeroline": false,
            "zerolinecolor": "rgb(36,36,36)"
           },
           "zaxis": {
            "backgroundcolor": "white",
            "gridcolor": "rgb(232,232,232)",
            "gridwidth": 2,
            "linecolor": "rgb(36,36,36)",
            "showbackground": true,
            "showgrid": false,
            "showline": true,
            "ticks": "outside",
            "zeroline": false,
            "zerolinecolor": "rgb(36,36,36)"
           }
          },
          "shapedefaults": {
           "fillcolor": "black",
           "line": {
            "width": 0
           },
           "opacity": 0.3
          },
          "ternary": {
           "aaxis": {
            "gridcolor": "rgb(232,232,232)",
            "linecolor": "rgb(36,36,36)",
            "showgrid": false,
            "showline": true,
            "ticks": "outside"
           },
           "baxis": {
            "gridcolor": "rgb(232,232,232)",
            "linecolor": "rgb(36,36,36)",
            "showgrid": false,
            "showline": true,
            "ticks": "outside"
           },
           "bgcolor": "white",
           "caxis": {
            "gridcolor": "rgb(232,232,232)",
            "linecolor": "rgb(36,36,36)",
            "showgrid": false,
            "showline": true,
            "ticks": "outside"
           }
          },
          "title": {
           "x": 0.05
          },
          "xaxis": {
           "automargin": true,
           "gridcolor": "rgb(232,232,232)",
           "linecolor": "rgb(36,36,36)",
           "showgrid": false,
           "showline": true,
           "ticks": "outside",
           "title": {
            "standoff": 15
           },
           "zeroline": false,
           "zerolinecolor": "rgb(36,36,36)"
          },
          "yaxis": {
           "automargin": true,
           "gridcolor": "rgb(232,232,232)",
           "linecolor": "rgb(36,36,36)",
           "showgrid": false,
           "showline": true,
           "ticks": "outside",
           "title": {
            "standoff": 15
           },
           "zeroline": false,
           "zerolinecolor": "rgb(36,36,36)"
          }
         }
        },
        "title": {
         "text": "Training loss & accuracy on CIFAR10"
        },
        "xaxis": {
         "anchor": "y",
         "domain": [
          0,
          0.94
         ],
         "title": {
          "text": "Num batches observed"
         }
        },
        "yaxis": {
         "anchor": "x",
         "domain": [
          0,
          1
         ],
         "title": {
          "text": "Training loss"
         }
        },
        "yaxis2": {
         "anchor": "x",
         "overlaying": "y",
         "side": "right"
        }
       }
      }
     },
     "metadata": {},
     "output_type": "display_data"
    }
   ],
   "source": [
    "def train(trainset, testset, epochs: int, loss_fn: Callable, batch_size: int, lr: float) -> tuple[list, list]:\n",
    "\n",
    "    model = resnet34().to(device).train()\n",
    "    optimizer = t.optim.Adam(model.parameters(), lr=lr)\n",
    "\n",
    "    loss_list = []\n",
    "    accuracy_list = []\n",
    "\n",
    "    trainloader = DataLoader(trainset, shuffle=True, batch_size=batch_size)\n",
    "    testloader = DataLoader(testset, shuffle=True, batch_size=batch_size)\n",
    "\n",
    "    for epoch in range(epochs):\n",
    "\n",
    "        progress_bar = tqdm_notebook(trainloader)\n",
    "\n",
    "        for (x, y) in progress_bar:\n",
    "\n",
    "            x = x.to(device)\n",
    "            y = y.to(device)\n",
    "\n",
    "            optimizer.zero_grad()\n",
    "            y_hat = model(x)\n",
    "            loss = loss_fn(y_hat, y)\n",
    "            loss.backward()\n",
    "            optimizer.step()\n",
    "\n",
    "            loss_list.append(loss.item())\n",
    "\n",
    "            progress_bar.set_description(f\"Epoch = {epoch}, Loss = {loss.item():.4f}\")\n",
    "\n",
    "        with t.inference_mode():\n",
    "\n",
    "            accuracy = 0\n",
    "            total = 0\n",
    "\n",
    "            for (x, y) in testloader:\n",
    "\n",
    "                x = x.to(device)\n",
    "                y = y.to(device)\n",
    "\n",
    "                y_hat = model(x)\n",
    "                y_predictions = y_hat.argmax(1)\n",
    "                accuracy += (y_predictions == y).sum().item()\n",
    "                total += y.size(0)\n",
    "\n",
    "            accuracy_list.append(accuracy/total)\n",
    "\n",
    "        print(f\"Epoch {epoch+1}/{epochs}, train loss is {loss:.6f}, accuracy is {accuracy}/{total}\")\n",
    "\n",
    "    filename = \"./w0d3_resnet.pt\"\n",
    "    print(f\"Saving model to: {filename}\")\n",
    "    t.save(model.state_dict(), filename)\n",
    "\n",
    "    utils.plot_results(loss_list, accuracy_list)\n",
    "    return loss_list, accuracy_list\n",
    "\n",
    "epochs = 1\n",
    "loss_fn = nn.CrossEntropyLoss()\n",
    "batch_size = 128\n",
    "lr = 0.001\n",
    "\n",
    "loss_list, accuracy_list = train(trainset, testset, epochs, loss_fn, batch_size, lr)"
   ]
  },
  {
   "cell_type": "code",
   "execution_count": 8,
   "metadata": {},
   "outputs": [
    {
     "data": {
      "text/html": [
       "Finishing last run (ID:3kepw78u) before initializing another..."
      ],
      "text/plain": [
       "<IPython.core.display.HTML object>"
      ]
     },
     "metadata": {},
     "output_type": "display_data"
    },
    {
     "data": {
      "text/html": [
       "Waiting for W&B process to finish... <strong style=\"color:green\">(success).</strong>"
      ],
      "text/plain": [
       "<IPython.core.display.HTML object>"
      ]
     },
     "metadata": {},
     "output_type": "display_data"
    },
    {
     "data": {
      "application/vnd.jupyter.widget-view+json": {
       "model_id": "05acc2e5894449dabacc0720be9b7e19",
       "version_major": 2,
       "version_minor": 0
      },
      "text/plain": [
       "VBox(children=(Label(value='0.001 MB of 0.007 MB uploaded (0.000 MB deduped)\\r'), FloatProgress(value=0.107794…"
      ]
     },
     "metadata": {},
     "output_type": "display_data"
    },
    {
     "data": {
      "text/html": [
       "Synced <strong style=\"color:#cdcd00\">silvery-aardvark-1</strong>: <a href=\"https://wandb.ai/dalasnoin/w2d1_resnet/runs/3kepw78u\" target=\"_blank\">https://wandb.ai/dalasnoin/w2d1_resnet/runs/3kepw78u</a><br/>Synced 5 W&B file(s), 0 media file(s), 0 artifact file(s) and 0 other file(s)"
      ],
      "text/plain": [
       "<IPython.core.display.HTML object>"
      ]
     },
     "metadata": {},
     "output_type": "display_data"
    },
    {
     "data": {
      "text/html": [
       "Find logs at: <code>./wandb/run-20221101_170921-3kepw78u/logs</code>"
      ],
      "text/plain": [
       "<IPython.core.display.HTML object>"
      ]
     },
     "metadata": {},
     "output_type": "display_data"
    },
    {
     "data": {
      "text/html": [
       "Successfully finished last run (ID:3kepw78u). Initializing new run:<br/>"
      ],
      "text/plain": [
       "<IPython.core.display.HTML object>"
      ]
     },
     "metadata": {},
     "output_type": "display_data"
    },
    {
     "data": {
      "application/vnd.jupyter.widget-view+json": {
       "model_id": "30b69c42230c428080f4dd5b3108b130",
       "version_major": 2,
       "version_minor": 0
      },
      "text/plain": [
       "VBox(children=(Label(value='Waiting for wandb.init()...\\r'), FloatProgress(value=0.01670413681667924, max=1.0)…"
      ]
     },
     "metadata": {},
     "output_type": "display_data"
    },
    {
     "data": {
      "text/html": [
       "Tracking run with wandb version 0.13.4"
      ],
      "text/plain": [
       "<IPython.core.display.HTML object>"
      ]
     },
     "metadata": {},
     "output_type": "display_data"
    },
    {
     "data": {
      "text/html": [
       "Run data is saved locally in <code>/Users/YaoLu/src/github.com/dalasnoin/arena/w2/wandb/run-20221101_170951-3oarz9rg</code>"
      ],
      "text/plain": [
       "<IPython.core.display.HTML object>"
      ]
     },
     "metadata": {},
     "output_type": "display_data"
    },
    {
     "data": {
      "text/html": [
       "Syncing run <strong><a href=\"https://wandb.ai/dalasnoin/w2d1_resnet/runs/3oarz9rg\" target=\"_blank\">northern-totem-2</a></strong> to <a href=\"https://wandb.ai/dalasnoin/w2d1_resnet\" target=\"_blank\">Weights & Biases</a> (<a href=\"https://wandb.me/run\" target=\"_blank\">docs</a>)<br/>"
      ],
      "text/plain": [
       "<IPython.core.display.HTML object>"
      ]
     },
     "metadata": {},
     "output_type": "display_data"
    },
    {
     "name": "stderr",
     "output_type": "stream",
     "text": [
      "\u001b[34m\u001b[1mwandb\u001b[0m: logging graph, to disable use `wandb.watch(log_graph=False)`\n"
     ]
    },
    {
     "data": {
      "application/vnd.jupyter.widget-view+json": {
       "model_id": "83a2f1b08a5d4c91bea579b4c9e2f910",
       "version_major": 2,
       "version_minor": 0
      },
      "text/plain": [
       "  0%|          | 0/391 [00:00<?, ?it/s]"
      ]
     },
     "metadata": {},
     "output_type": "display_data"
    },
    {
     "name": "stdout",
     "output_type": "stream",
     "text": [
      "Saving model to: /Users/YaoLu/src/github.com/dalasnoin/arena/w2/wandb/run-20221101_170951-3oarz9rg/files/model_state_dict.pt\n"
     ]
    },
    {
     "name": "stderr",
     "output_type": "stream",
     "text": [
      "\u001b[34m\u001b[1mwandb\u001b[0m: \u001b[33mWARNING\u001b[0m Saving files without folders. If you want to preserve sub directories pass base_path to wandb.save, i.e. wandb.save(\"/mnt/folder/file.h5\", base_path=\"/mnt\")\n"
     ]
    }
   ],
   "source": [
    "def train(trainset, testset, epochs: int, loss_fn: Callable, batch_size: int, lr: float) -> None:\n",
    "\n",
    "    config_dict = {\n",
    "        \"batch_size\": batch_size,\n",
    "        \"epochs\": epochs,\n",
    "        \"lr\": lr,\n",
    "    }\n",
    "    wandb.init(project=\"w2d1_resnet\", config=config_dict)\n",
    "\n",
    "    model = resnet34().to(device).train()\n",
    "    optimizer = t.optim.Adam(model.parameters(), lr=lr)\n",
    "\n",
    "    examples_seen = 0\n",
    "    start_time = time.time()\n",
    "\n",
    "    trainloader = DataLoader(trainset, shuffle=True, batch_size=batch_size)\n",
    "    testloader = DataLoader(testset, shuffle=True, batch_size=batch_size)\n",
    "\n",
    "    wandb.watch(model, criterion=loss_fn, log=\"all\", log_freq=10, log_graph=True)\n",
    "\n",
    "    for epoch in range(epochs):\n",
    "\n",
    "        progress_bar = tqdm_notebook(trainloader)\n",
    "\n",
    "        for (x, y) in progress_bar:\n",
    "\n",
    "            x = x.to(device)\n",
    "            y = y.to(device)\n",
    "\n",
    "            optimizer.zero_grad()\n",
    "            y_hat = model(x)\n",
    "            loss = loss_fn(y_hat, y)\n",
    "            loss.backward()\n",
    "            optimizer.step()\n",
    "\n",
    "            progress_bar.set_description(f\"Epoch = {epoch}, Loss = {loss.item():.4f}\")\n",
    "\n",
    "            examples_seen += len(x)\n",
    "            wandb.log({\"train_loss\": loss, \"elapsed\": time.time() - start_time}, step=examples_seen)\n",
    "\n",
    "        with t.inference_mode():\n",
    "\n",
    "            accuracy = 0\n",
    "            total = 0\n",
    "\n",
    "            for (x, y) in testloader:\n",
    "\n",
    "                x = x.to(device)\n",
    "                y = y.to(device)\n",
    "\n",
    "                y_hat = model(x)\n",
    "                y_predictions = y_hat.argmax(1)\n",
    "                accuracy += (y_predictions == y).sum().item()\n",
    "                total += y.size(0)\n",
    "\n",
    "            wandb.log({\"test_accuracy\": accuracy/total}, step=examples_seen)\n",
    "\n",
    "    filename = f\"{wandb.run.dir}/model_state_dict.pt\"\n",
    "    print(f\"Saving model to: {filename}\")\n",
    "    t.save(model.state_dict(), filename)\n",
    "    wandb.save(filename)\n",
    "\n",
    "train(trainset, testset, epochs, loss_fn, batch_size, lr)"
   ]
  },
  {
   "cell_type": "code",
   "execution_count": 10,
   "metadata": {},
   "outputs": [
    {
     "name": "stdout",
     "output_type": "stream",
     "text": [
      "Create sweep with ID: 3z1pj8az\n",
      "Sweep URL: https://wandb.ai/dalasnoin/w2d1_resnet/sweeps/3z1pj8az\n"
     ]
    },
    {
     "name": "stderr",
     "output_type": "stream",
     "text": [
      "\u001b[34m\u001b[1mwandb\u001b[0m: Agent Starting Run: aq4u6apq with config:\n",
      "\u001b[34m\u001b[1mwandb\u001b[0m: \tbatch_size: 128\n",
      "\u001b[34m\u001b[1mwandb\u001b[0m: \tepochs: 2\n",
      "\u001b[34m\u001b[1mwandb\u001b[0m: \tlr: 0.0008642602367494391\n"
     ]
    },
    {
     "data": {
      "application/vnd.jupyter.widget-view+json": {
       "model_id": "9e565eef82f64848b5b698af37c667a8",
       "version_major": 2,
       "version_minor": 0
      },
      "text/plain": [
       "VBox(children=(Label(value='Waiting for wandb.init()...\\r'), FloatProgress(value=0.016687805550009215, max=1.0…"
      ]
     },
     "metadata": {},
     "output_type": "display_data"
    },
    {
     "data": {
      "text/html": [
       "Tracking run with wandb version 0.13.4"
      ],
      "text/plain": [
       "<IPython.core.display.HTML object>"
      ]
     },
     "metadata": {},
     "output_type": "display_data"
    },
    {
     "data": {
      "text/html": [
       "Run data is saved locally in <code>/Users/YaoLu/src/github.com/dalasnoin/arena/w2/wandb/run-20221101_205610-aq4u6apq</code>"
      ],
      "text/plain": [
       "<IPython.core.display.HTML object>"
      ]
     },
     "metadata": {},
     "output_type": "display_data"
    },
    {
     "data": {
      "text/html": [
       "Syncing run <strong><a href=\"https://wandb.ai/dalasnoin/w2d1_resnet/runs/aq4u6apq\" target=\"_blank\">autumn-sweep-1</a></strong> to <a href=\"https://wandb.ai/dalasnoin/w2d1_resnet\" target=\"_blank\">Weights & Biases</a> (<a href=\"https://wandb.me/run\" target=\"_blank\">docs</a>)<br/>Sweep page:  <a href=\"https://wandb.ai/dalasnoin/w2d1_resnet/sweeps/3z1pj8az\" target=\"_blank\">https://wandb.ai/dalasnoin/w2d1_resnet/sweeps/3z1pj8az</a>"
      ],
      "text/plain": [
       "<IPython.core.display.HTML object>"
      ]
     },
     "metadata": {},
     "output_type": "display_data"
    },
    {
     "name": "stderr",
     "output_type": "stream",
     "text": [
      "\u001b[34m\u001b[1mwandb\u001b[0m: logging graph, to disable use `wandb.watch(log_graph=False)`\n"
     ]
    },
    {
     "data": {
      "application/vnd.jupyter.widget-view+json": {
       "model_id": "d91bb6d057c1463b8a44789b026d31f3",
       "version_major": 2,
       "version_minor": 0
      },
      "text/plain": [
       "  0%|          | 0/391 [00:00<?, ?it/s]"
      ]
     },
     "metadata": {},
     "output_type": "display_data"
    },
    {
     "name": "stdout",
     "output_type": "stream",
     "text": [
      "Epoch 1/2, train loss is 1.222985, accuracy is 5972/10000\n"
     ]
    },
    {
     "data": {
      "application/vnd.jupyter.widget-view+json": {
       "model_id": "328f955f991a4bcf85538936ec51bd1e",
       "version_major": 2,
       "version_minor": 0
      },
      "text/plain": [
       "  0%|          | 0/391 [00:00<?, ?it/s]"
      ]
     },
     "metadata": {},
     "output_type": "display_data"
    },
    {
     "name": "stdout",
     "output_type": "stream",
     "text": [
      "Epoch 2/2, train loss is 0.934505, accuracy is 6663/10000\n",
      "Saving model to: /Users/YaoLu/src/github.com/dalasnoin/arena/w2/wandb/run-20221101_205610-aq4u6apq/files/model_state_dict.pt\n"
     ]
    },
    {
     "name": "stderr",
     "output_type": "stream",
     "text": [
      "\u001b[34m\u001b[1mwandb\u001b[0m: \u001b[33mWARNING\u001b[0m Saving files without folders. If you want to preserve sub directories pass base_path to wandb.save, i.e. wandb.save(\"/mnt/folder/file.h5\", base_path=\"/mnt\")\n"
     ]
    },
    {
     "data": {
      "text/html": [
       "Waiting for W&B process to finish... <strong style=\"color:green\">(success).</strong>"
      ],
      "text/plain": [
       "<IPython.core.display.HTML object>"
      ]
     },
     "metadata": {},
     "output_type": "display_data"
    },
    {
     "data": {
      "text/html": [
       "<style>\n",
       "    table.wandb td:nth-child(1) { padding: 0 10px; text-align: left ; width: auto;} td:nth-child(2) {text-align: left ; width: 100%}\n",
       "    .wandb-row { display: flex; flex-direction: row; flex-wrap: wrap; justify-content: flex-start; width: 100% }\n",
       "    .wandb-col { display: flex; flex-direction: column; flex-basis: 100%; flex: 1; padding: 10px; }\n",
       "    </style>\n",
       "<div class=\"wandb-row\"><div class=\"wandb-col\"><h3>Run history:</h3><br/><table class=\"wandb\"><tr><td>elapsed</td><td>▁▁▁▁▂▂▂▂▂▃▃▃▃▃▃▄▄▄▄▄▅▅▅▅▅▆▆▆▆▆▆▇▇▇▇▇▇███</td></tr><tr><td>test_accuracy</td><td>▁█</td></tr><tr><td>train_loss</td><td>█▆▅▅▄▄▄▄▃▃▄▃▃▃▃▂▃▂▃▂▂▂▂▂▁▂▂▂▁▂▂▂▂▂▂▁▁▁▁▂</td></tr></table><br/></div><div class=\"wandb-col\"><h3>Run summary:</h3><br/><table class=\"wandb\"><tr><td>elapsed</td><td>1076.82234</td></tr><tr><td>test_accuracy</td><td>0.6663</td></tr><tr><td>train_loss</td><td>0.9345</td></tr></table><br/></div></div>"
      ],
      "text/plain": [
       "<IPython.core.display.HTML object>"
      ]
     },
     "metadata": {},
     "output_type": "display_data"
    },
    {
     "data": {
      "text/html": [
       "Synced <strong style=\"color:#cdcd00\">autumn-sweep-1</strong>: <a href=\"https://wandb.ai/dalasnoin/w2d1_resnet/runs/aq4u6apq\" target=\"_blank\">https://wandb.ai/dalasnoin/w2d1_resnet/runs/aq4u6apq</a><br/>Synced 6 W&B file(s), 1 media file(s), 0 artifact file(s) and 1 other file(s)"
      ],
      "text/plain": [
       "<IPython.core.display.HTML object>"
      ]
     },
     "metadata": {},
     "output_type": "display_data"
    },
    {
     "data": {
      "text/html": [
       "Find logs at: <code>./wandb/run-20221101_205610-aq4u6apq/logs</code>"
      ],
      "text/plain": [
       "<IPython.core.display.HTML object>"
      ]
     },
     "metadata": {},
     "output_type": "display_data"
    },
    {
     "name": "stderr",
     "output_type": "stream",
     "text": [
      "\u001b[34m\u001b[1mwandb\u001b[0m: Agent Starting Run: na8ipr4b with config:\n",
      "\u001b[34m\u001b[1mwandb\u001b[0m: \tbatch_size: 128\n",
      "\u001b[34m\u001b[1mwandb\u001b[0m: \tepochs: 2\n",
      "\u001b[34m\u001b[1mwandb\u001b[0m: \tlr: 0.01118885674533271\n"
     ]
    },
    {
     "data": {
      "text/html": [
       "Tracking run with wandb version 0.13.4"
      ],
      "text/plain": [
       "<IPython.core.display.HTML object>"
      ]
     },
     "metadata": {},
     "output_type": "display_data"
    },
    {
     "data": {
      "text/html": [
       "Run data is saved locally in <code>/Users/YaoLu/src/github.com/dalasnoin/arena/w2/wandb/run-20221101_211503-na8ipr4b</code>"
      ],
      "text/plain": [
       "<IPython.core.display.HTML object>"
      ]
     },
     "metadata": {},
     "output_type": "display_data"
    },
    {
     "data": {
      "text/html": [
       "Syncing run <strong><a href=\"https://wandb.ai/dalasnoin/w2d1_resnet/runs/na8ipr4b\" target=\"_blank\">olive-sweep-2</a></strong> to <a href=\"https://wandb.ai/dalasnoin/w2d1_resnet\" target=\"_blank\">Weights & Biases</a> (<a href=\"https://wandb.me/run\" target=\"_blank\">docs</a>)<br/>Sweep page:  <a href=\"https://wandb.ai/dalasnoin/w2d1_resnet/sweeps/3z1pj8az\" target=\"_blank\">https://wandb.ai/dalasnoin/w2d1_resnet/sweeps/3z1pj8az</a>"
      ],
      "text/plain": [
       "<IPython.core.display.HTML object>"
      ]
     },
     "metadata": {},
     "output_type": "display_data"
    },
    {
     "name": "stderr",
     "output_type": "stream",
     "text": [
      "\u001b[34m\u001b[1mwandb\u001b[0m: logging graph, to disable use `wandb.watch(log_graph=False)`\n"
     ]
    },
    {
     "data": {
      "application/vnd.jupyter.widget-view+json": {
       "model_id": "cd0aff6788ed47a9a723c952150d4c9e",
       "version_major": 2,
       "version_minor": 0
      },
      "text/plain": [
       "  0%|          | 0/391 [00:00<?, ?it/s]"
      ]
     },
     "metadata": {},
     "output_type": "display_data"
    },
    {
     "name": "stdout",
     "output_type": "stream",
     "text": [
      "Epoch 1/2, train loss is 1.647678, accuracy is 3595/10000\n"
     ]
    },
    {
     "data": {
      "application/vnd.jupyter.widget-view+json": {
       "model_id": "c6b0a4bd84a341008e1694769e3b5763",
       "version_major": 2,
       "version_minor": 0
      },
      "text/plain": [
       "  0%|          | 0/391 [00:00<?, ?it/s]"
      ]
     },
     "metadata": {},
     "output_type": "display_data"
    },
    {
     "name": "stdout",
     "output_type": "stream",
     "text": [
      "Epoch 2/2, train loss is 1.263677, accuracy is 5064/10000\n",
      "Saving model to: /Users/YaoLu/src/github.com/dalasnoin/arena/w2/wandb/run-20221101_211503-na8ipr4b/files/model_state_dict.pt\n"
     ]
    },
    {
     "name": "stderr",
     "output_type": "stream",
     "text": [
      "\u001b[34m\u001b[1mwandb\u001b[0m: \u001b[33mWARNING\u001b[0m Saving files without folders. If you want to preserve sub directories pass base_path to wandb.save, i.e. wandb.save(\"/mnt/folder/file.h5\", base_path=\"/mnt\")\n"
     ]
    },
    {
     "data": {
      "text/html": [
       "Waiting for W&B process to finish... <strong style=\"color:green\">(success).</strong>"
      ],
      "text/plain": [
       "<IPython.core.display.HTML object>"
      ]
     },
     "metadata": {},
     "output_type": "display_data"
    },
    {
     "data": {
      "application/vnd.jupyter.widget-view+json": {
       "model_id": "61541559ae2d4eae84d68cb9fc831cc9",
       "version_major": 2,
       "version_minor": 0
      },
      "text/plain": [
       "VBox(children=(Label(value='6.045 MB of 83.298 MB uploaded (0.000 MB deduped)\\r'), FloatProgress(value=0.07257…"
      ]
     },
     "metadata": {},
     "output_type": "display_data"
    },
    {
     "data": {
      "text/html": [
       "<style>\n",
       "    table.wandb td:nth-child(1) { padding: 0 10px; text-align: left ; width: auto;} td:nth-child(2) {text-align: left ; width: 100%}\n",
       "    .wandb-row { display: flex; flex-direction: row; flex-wrap: wrap; justify-content: flex-start; width: 100% }\n",
       "    .wandb-col { display: flex; flex-direction: column; flex-basis: 100%; flex: 1; padding: 10px; }\n",
       "    </style>\n",
       "<div class=\"wandb-row\"><div class=\"wandb-col\"><h3>Run history:</h3><br/><table class=\"wandb\"><tr><td>elapsed</td><td>▁▁▁▂▂▂▂▂▂▃▃▃▃▃▃▄▄▄▄▄▅▅▅▅▅▅▆▆▆▆▆▇▇▇▇▇▇███</td></tr><tr><td>test_accuracy</td><td>▁█</td></tr><tr><td>train_loss</td><td>█▄▅▄▃▃▃▃▃▂▃▃▄▃▃▃▂▃▂▃▂▂▂▂▂▁▁▂▁▁▁▂▁▁▁▁▁▂▂▂</td></tr></table><br/></div><div class=\"wandb-col\"><h3>Run summary:</h3><br/><table class=\"wandb\"><tr><td>elapsed</td><td>1068.21848</td></tr><tr><td>test_accuracy</td><td>0.5064</td></tr><tr><td>train_loss</td><td>1.26368</td></tr></table><br/></div></div>"
      ],
      "text/plain": [
       "<IPython.core.display.HTML object>"
      ]
     },
     "metadata": {},
     "output_type": "display_data"
    },
    {
     "data": {
      "text/html": [
       "Synced <strong style=\"color:#cdcd00\">olive-sweep-2</strong>: <a href=\"https://wandb.ai/dalasnoin/w2d1_resnet/runs/na8ipr4b\" target=\"_blank\">https://wandb.ai/dalasnoin/w2d1_resnet/runs/na8ipr4b</a><br/>Synced 6 W&B file(s), 1 media file(s), 0 artifact file(s) and 1 other file(s)"
      ],
      "text/plain": [
       "<IPython.core.display.HTML object>"
      ]
     },
     "metadata": {},
     "output_type": "display_data"
    },
    {
     "data": {
      "text/html": [
       "Find logs at: <code>./wandb/run-20221101_211503-na8ipr4b/logs</code>"
      ],
      "text/plain": [
       "<IPython.core.display.HTML object>"
      ]
     },
     "metadata": {},
     "output_type": "display_data"
    }
   ],
   "source": [
    "def train() -> None:\n",
    "\n",
    "    wandb.init()\n",
    "\n",
    "    epochs = wandb.config.epochs\n",
    "    batch_size = wandb.config.batch_size\n",
    "    lr = wandb.config.lr\n",
    "\n",
    "    model = resnet34().to(device).train()\n",
    "    optimizer = t.optim.Adam(model.parameters(), lr=lr)\n",
    "\n",
    "    examples_seen = 0\n",
    "    start_time = time.time()\n",
    "\n",
    "    trainloader = DataLoader(trainset, shuffle=True, batch_size=batch_size)\n",
    "    testloader = DataLoader(testset, shuffle=True, batch_size=batch_size)\n",
    "\n",
    "    wandb.watch(model, criterion=loss_fn, log=\"all\", log_freq=10, log_graph=True)\n",
    "\n",
    "    for epoch in range(epochs):\n",
    "\n",
    "        progress_bar = tqdm_notebook(trainloader)\n",
    "\n",
    "        for (x, y) in progress_bar:\n",
    "\n",
    "            x = x.to(device)\n",
    "            y = y.to(device)\n",
    "\n",
    "            optimizer.zero_grad()\n",
    "            y_hat = model(x)\n",
    "            loss = loss_fn(y_hat, y)\n",
    "            loss.backward()\n",
    "            optimizer.step()\n",
    "\n",
    "            progress_bar.set_description(f\"Epoch = {epoch}, Loss = {loss.item():.4f}\")\n",
    "\n",
    "            examples_seen += len(x)\n",
    "            wandb.log({\"train_loss\": loss, \"elapsed\": time.time() - start_time}, step=examples_seen)\n",
    "\n",
    "\n",
    "        with t.inference_mode():\n",
    "\n",
    "            accuracy = 0\n",
    "            total = 0\n",
    "\n",
    "            for (x, y) in testloader:\n",
    "\n",
    "                x = x.to(device)\n",
    "                y = y.to(device)\n",
    "\n",
    "                y_hat = model(x)\n",
    "                y_predictions = y_hat.argmax(1)\n",
    "                accuracy += (y_predictions == y).sum().item()\n",
    "                total += y.size(0)\n",
    "\n",
    "            wandb.log({\"test_accuracy\": accuracy/total}, step=examples_seen)\n",
    "\n",
    "        print(f\"Epoch {epoch+1}/{epochs}, train loss is {loss:.6f}, accuracy is {accuracy}/{total}\")\n",
    "\n",
    "    filename = f\"{wandb.run.dir}/model_state_dict.pt\"\n",
    "    print(f\"Saving model to: {filename}\")\n",
    "    t.save(model.state_dict(), filename)\n",
    "    wandb.save(filename)\n",
    "\n",
    "sweep_config = {\n",
    "    'method': 'random',\n",
    "    'name': 'w2d1_resnet_sweep_2',\n",
    "    'metric': {'name': 'test_accuracy', 'goal': 'maximize'},\n",
    "    'parameters': \n",
    "    {\n",
    "        'batch_size': {'values': [64, 128, 256]},\n",
    "        'epochs': {'min': 1, 'max': 3},\n",
    "        'lr': {'max': 0.1, 'min': 0.0001, 'distribution': 'log_uniform_values'}\n",
    "     }\n",
    "}\n",
    "\n",
    "sweep_id = wandb.sweep(sweep=sweep_config, project='w2d1_resnet')\n",
    "\n",
    "wandb.agent(sweep_id=sweep_id, function=train, count=2)"
   ]
  },
  {
   "cell_type": "code",
   "execution_count": null,
   "metadata": {},
   "outputs": [],
   "source": []
  }
 ],
 "metadata": {
  "kernelspec": {
   "display_name": "Python 3.9.13 ('science')",
   "language": "python",
   "name": "python3"
  },
  "language_info": {
   "codemirror_mode": {
    "name": "ipython",
    "version": 3
   },
   "file_extension": ".py",
   "mimetype": "text/x-python",
   "name": "python",
   "nbconvert_exporter": "python",
   "pygments_lexer": "ipython3",
   "version": "3.9.13"
  },
  "orig_nbformat": 4,
  "vscode": {
   "interpreter": {
    "hash": "ded5e6f133e31c74d7e61946920be103f96969c2c9abd403ec1a6f8823efeff2"
   }
  }
 },
 "nbformat": 4,
 "nbformat_minor": 2
}
