{
 "cells": [
  {
   "cell_type": "code",
   "execution_count": 36,
   "metadata": {},
   "outputs": [],
   "source": [
    "# ! wget https://raw.githubusercontent.com/callummcdougall/arena-v1/main/w4d1/utils.py\n",
    "# ! gdown --id 0B7EVK8r0v71pZjFTYXZWM3FlRnM\n",
    "\n",
    "import torch as t\n",
    "from typing import Union\n",
    "from torch import nn\n",
    "import torch.nn.functional as F\n",
    "import plotly.express as px\n",
    "import plotly.graph_objects as go\n",
    "from einops import rearrange, reduce, repeat\n",
    "from einops.layers.torch import Rearrange\n",
    "from fancy_einsum import einsum\n",
    "import os\n",
    "from tqdm.auto import tqdm\n",
    "from torchvision import transforms, datasets\n",
    "from torchvision.datasets import ImageFolder\n",
    "from torch.utils.data import Dataset, DataLoader, TensorDataset\n",
    "import wandb\n",
    "import utils\n",
    "import gan_modules\n",
    "from typing import Optional\n",
    "\n",
    "image_size = 64\n",
    "batch_size = 3\n",
    "latent_dim_size = 100\n",
    "img_channels = 3\n",
    "generator_num_features = 512\n",
    "n_layers = 4\n"
   ]
  },
  {
   "cell_type": "code",
   "execution_count": 30,
   "metadata": {},
   "outputs": [],
   "source": [
    "# @t.no_grad() not necessary since nn.init already uses nograd mode\n",
    "def initialize_weights(model: nn.Module) -> None:\n",
    "    \"\"\" \n",
    "    They mention at the end of page 3 that all weights were initialized from a N(0, 0.02)N(0,0.02) distribution. \n",
    "    This applies to the convolutional and convolutional transpose layers' weights, \n",
    "    but the BatchNorm layers' weights should be initialised from N(1, 0.02)N(1,0.02) (since 1 is their default value). \n",
    "    The BatchNorm biases should all be set to zero (which they are by default).\n",
    "    \"\"\"\n",
    "    for name, parameter in model.named_parameters():\n",
    "        if \"batchnorm\" in name:\n",
    "            if \"bias\" in name:\n",
    "                nn.init.constant_(parameter.data, 0.0)\n",
    "            elif \"weight\" in name:\n",
    "                nn.init.normal_(parameter.data, a=0.02, b=1.0)\n",
    "        else:\n",
    "            nn.init.normal_(parameter.data, a=0.0, b=0.02)"
   ]
  },
  {
   "cell_type": "code",
   "execution_count": 39,
   "metadata": {},
   "outputs": [],
   "source": [
    "class Generator(nn.Module):\n",
    "\n",
    "    def __init__(\n",
    "        self,\n",
    "        latent_dim_size: int,           # size of the random vector we use for generating outputs\n",
    "        img_size = int,                 # size of the images we're generating\n",
    "        img_channels = int,             # indicates RGB images\n",
    "        generator_num_features = int,   # number of channels after first projection and reshaping\n",
    "        n_layers = int,                 # number of CONV_n layers\n",
    "    ):\n",
    "        super().__init__()\n",
    "        self.latent_dim_size = latent_dim_size\n",
    "        self.img_size = img_size\n",
    "        self.img_channels = img_channels\n",
    "        self.generator_num_features = generator_num_features\n",
    "        self.initial_width = 4\n",
    "        self.n_layers = n_layers\n",
    "\n",
    "        self._build()\n",
    "\n",
    "\n",
    "    def _build(self):\n",
    "        self.latent_sequential = nn.Sequential(nn.Linear(self.latent_dim_size, 8192),\n",
    "            Rearrange(\"a (b c d) -> a b c d\", c=self.initial_width, d=self.initial_width),\n",
    "            nn.BatchNorm2d((self.initial_width,self.initial_width)),\n",
    "            nn.ReLU()\n",
    "        )\n",
    "\n",
    "        self.layer_structure = [(self.generator_num_features//(i),\n",
    "                                    self.generator_num_features//(i+1), \n",
    "                                    self.initial_width*i) for i in range(1, self.n_layers)]\n",
    "        self.layer_structure.append((self.img_channels,self.img_size,self.img_size))\n",
    "\n",
    "        block_list = [ConvTransposeBlock(*structure) for structure in self.layer_structure]\n",
    "\n",
    "        self.upsample_sequential = nn.Sequential(*block_list)\n",
    "\n",
    "    def forward(self, x: t.Tensor):\n",
    "        x = self.latent_sequential(x)\n",
    "        return self.upsample_sequential(x)\n",
    "\n",
    "class ConvTransposeBlock(nn.Module):\n",
    "    def __init__(self, in_channels: int, out_channels: int, width: int):\n",
    "        super().__init__()\n",
    "        self.in_channels = in_channels\n",
    "        self.out_channels = out_channels\n",
    "        self.width = width\n",
    "        self.convtranspose = gan_modules.ConvTranspose2d(in_channels=in_channels,\n",
    "                                            out_channels=out_channels,\n",
    "                                            kernel_size=4,\n",
    "                                            stride=2,\n",
    "                                            padding=1)\n",
    "        self.batchnorm = nn.BatchNorm2d((width,width))\n",
    "        self.relu = nn.ReLU()\n",
    "\n",
    "    def forward(self, x):\n",
    "        x = self.convtranspose(x)\n",
    "        x = self.batchnorm(x)\n",
    "        return self.relu(x)\n",
    "\n",
    "generator = Generator(\n",
    "    latent_dim_size=latent_dim_size,\n",
    "    img_size=image_size,\n",
    "    img_channels=img_channels,\n",
    "    generator_num_features=generator_num_features,\n",
    "    n_layers=n_layers\n",
    ")\n",
    "\n"
   ]
  },
  {
   "cell_type": "code",
   "execution_count": null,
   "metadata": {},
   "outputs": [],
   "source": [
    "class Discriminator(nn.Module):\n",
    "    def __init__(\n",
    "        self,\n",
    "        img_size = 64,\n",
    "        img_channels = 3,\n",
    "        generator_num_features = 1024,\n",
    "        n_layers = 4,\n",
    "    ):\n",
    "        super().__init__()\n",
    "        self.img_size = img_size\n",
    "        self.img_channels = img_channels\n",
    "        self.generator_num_features = generator_num_features\n",
    "        self.n_layers = n_layers\n",
    "\n",
    "    def forward(self, x: t.Tensor):\n",
    "        pass\n",
    "\n",
    "\n",
    "    class ConvBlock(nn.Module):\n",
    "        def __init__(self):\n",
    "            super().__init__()"
   ]
  },
  {
   "cell_type": "code",
   "execution_count": 32,
   "metadata": {},
   "outputs": [
    {
     "data": {
      "application/vnd.plotly.v1+json": {
       "config": {
        "plotlyServerURL": "https://plot.ly"
       },
       "data": [
        {
         "hovertemplate": "x: %{x}<br>y: %{y}<extra></extra>",
         "name": "0",
         "source": "data:image/png;base64,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",
         "type": "image",
         "xaxis": "x",
         "yaxis": "y"
        }
       ],
       "layout": {
        "coloraxis": {
         "showscale": false
        },
        "margin": {
         "b": 20,
         "l": 20,
         "r": 20,
         "t": 20
        },
        "template": {
         "data": {
          "bar": [
           {
            "error_x": {
             "color": "#2a3f5f"
            },
            "error_y": {
             "color": "#2a3f5f"
            },
            "marker": {
             "line": {
              "color": "#E5ECF6",
              "width": 0.5
             },
             "pattern": {
              "fillmode": "overlay",
              "size": 10,
              "solidity": 0.2
             }
            },
            "type": "bar"
           }
          ],
          "barpolar": [
           {
            "marker": {
             "line": {
              "color": "#E5ECF6",
              "width": 0.5
             },
             "pattern": {
              "fillmode": "overlay",
              "size": 10,
              "solidity": 0.2
             }
            },
            "type": "barpolar"
           }
          ],
          "carpet": [
           {
            "aaxis": {
             "endlinecolor": "#2a3f5f",
             "gridcolor": "white",
             "linecolor": "white",
             "minorgridcolor": "white",
             "startlinecolor": "#2a3f5f"
            },
            "baxis": {
             "endlinecolor": "#2a3f5f",
             "gridcolor": "white",
             "linecolor": "white",
             "minorgridcolor": "white",
             "startlinecolor": "#2a3f5f"
            },
            "type": "carpet"
           }
          ],
          "choropleth": [
           {
            "colorbar": {
             "outlinewidth": 0,
             "ticks": ""
            },
            "type": "choropleth"
           }
          ],
          "contour": [
           {
            "colorbar": {
             "outlinewidth": 0,
             "ticks": ""
            },
            "colorscale": [
             [
              0,
              "#0d0887"
             ],
             [
              0.1111111111111111,
              "#46039f"
             ],
             [
              0.2222222222222222,
              "#7201a8"
             ],
             [
              0.3333333333333333,
              "#9c179e"
             ],
             [
              0.4444444444444444,
              "#bd3786"
             ],
             [
              0.5555555555555556,
              "#d8576b"
             ],
             [
              0.6666666666666666,
              "#ed7953"
             ],
             [
              0.7777777777777778,
              "#fb9f3a"
             ],
             [
              0.8888888888888888,
              "#fdca26"
             ],
             [
              1,
              "#f0f921"
             ]
            ],
            "type": "contour"
           }
          ],
          "contourcarpet": [
           {
            "colorbar": {
             "outlinewidth": 0,
             "ticks": ""
            },
            "type": "contourcarpet"
           }
          ],
          "heatmap": [
           {
            "colorbar": {
             "outlinewidth": 0,
             "ticks": ""
            },
            "colorscale": [
             [
              0,
              "#0d0887"
             ],
             [
              0.1111111111111111,
              "#46039f"
             ],
             [
              0.2222222222222222,
              "#7201a8"
             ],
             [
              0.3333333333333333,
              "#9c179e"
             ],
             [
              0.4444444444444444,
              "#bd3786"
             ],
             [
              0.5555555555555556,
              "#d8576b"
             ],
             [
              0.6666666666666666,
              "#ed7953"
             ],
             [
              0.7777777777777778,
              "#fb9f3a"
             ],
             [
              0.8888888888888888,
              "#fdca26"
             ],
             [
              1,
              "#f0f921"
             ]
            ],
            "type": "heatmap"
           }
          ],
          "heatmapgl": [
           {
            "colorbar": {
             "outlinewidth": 0,
             "ticks": ""
            },
            "colorscale": [
             [
              0,
              "#0d0887"
             ],
             [
              0.1111111111111111,
              "#46039f"
             ],
             [
              0.2222222222222222,
              "#7201a8"
             ],
             [
              0.3333333333333333,
              "#9c179e"
             ],
             [
              0.4444444444444444,
              "#bd3786"
             ],
             [
              0.5555555555555556,
              "#d8576b"
             ],
             [
              0.6666666666666666,
              "#ed7953"
             ],
             [
              0.7777777777777778,
              "#fb9f3a"
             ],
             [
              0.8888888888888888,
              "#fdca26"
             ],
             [
              1,
              "#f0f921"
             ]
            ],
            "type": "heatmapgl"
           }
          ],
          "histogram": [
           {
            "marker": {
             "pattern": {
              "fillmode": "overlay",
              "size": 10,
              "solidity": 0.2
             }
            },
            "type": "histogram"
           }
          ],
          "histogram2d": [
           {
            "colorbar": {
             "outlinewidth": 0,
             "ticks": ""
            },
            "colorscale": [
             [
              0,
              "#0d0887"
             ],
             [
              0.1111111111111111,
              "#46039f"
             ],
             [
              0.2222222222222222,
              "#7201a8"
             ],
             [
              0.3333333333333333,
              "#9c179e"
             ],
             [
              0.4444444444444444,
              "#bd3786"
             ],
             [
              0.5555555555555556,
              "#d8576b"
             ],
             [
              0.6666666666666666,
              "#ed7953"
             ],
             [
              0.7777777777777778,
              "#fb9f3a"
             ],
             [
              0.8888888888888888,
              "#fdca26"
             ],
             [
              1,
              "#f0f921"
             ]
            ],
            "type": "histogram2d"
           }
          ],
          "histogram2dcontour": [
           {
            "colorbar": {
             "outlinewidth": 0,
             "ticks": ""
            },
            "colorscale": [
             [
              0,
              "#0d0887"
             ],
             [
              0.1111111111111111,
              "#46039f"
             ],
             [
              0.2222222222222222,
              "#7201a8"
             ],
             [
              0.3333333333333333,
              "#9c179e"
             ],
             [
              0.4444444444444444,
              "#bd3786"
             ],
             [
              0.5555555555555556,
              "#d8576b"
             ],
             [
              0.6666666666666666,
              "#ed7953"
             ],
             [
              0.7777777777777778,
              "#fb9f3a"
             ],
             [
              0.8888888888888888,
              "#fdca26"
             ],
             [
              1,
              "#f0f921"
             ]
            ],
            "type": "histogram2dcontour"
           }
          ],
          "mesh3d": [
           {
            "colorbar": {
             "outlinewidth": 0,
             "ticks": ""
            },
            "type": "mesh3d"
           }
          ],
          "parcoords": [
           {
            "line": {
             "colorbar": {
              "outlinewidth": 0,
              "ticks": ""
             }
            },
            "type": "parcoords"
           }
          ],
          "pie": [
           {
            "automargin": true,
            "type": "pie"
           }
          ],
          "scatter": [
           {
            "fillpattern": {
             "fillmode": "overlay",
             "size": 10,
             "solidity": 0.2
            },
            "type": "scatter"
           }
          ],
          "scatter3d": [
           {
            "line": {
             "colorbar": {
              "outlinewidth": 0,
              "ticks": ""
             }
            },
            "marker": {
             "colorbar": {
              "outlinewidth": 0,
              "ticks": ""
             }
            },
            "type": "scatter3d"
           }
          ],
          "scattercarpet": [
           {
            "marker": {
             "colorbar": {
              "outlinewidth": 0,
              "ticks": ""
             }
            },
            "type": "scattercarpet"
           }
          ],
          "scattergeo": [
           {
            "marker": {
             "colorbar": {
              "outlinewidth": 0,
              "ticks": ""
             }
            },
            "type": "scattergeo"
           }
          ],
          "scattergl": [
           {
            "marker": {
             "colorbar": {
              "outlinewidth": 0,
              "ticks": ""
             }
            },
            "type": "scattergl"
           }
          ],
          "scattermapbox": [
           {
            "marker": {
             "colorbar": {
              "outlinewidth": 0,
              "ticks": ""
             }
            },
            "type": "scattermapbox"
           }
          ],
          "scatterpolar": [
           {
            "marker": {
             "colorbar": {
              "outlinewidth": 0,
              "ticks": ""
             }
            },
            "type": "scatterpolar"
           }
          ],
          "scatterpolargl": [
           {
            "marker": {
             "colorbar": {
              "outlinewidth": 0,
              "ticks": ""
             }
            },
            "type": "scatterpolargl"
           }
          ],
          "scatterternary": [
           {
            "marker": {
             "colorbar": {
              "outlinewidth": 0,
              "ticks": ""
             }
            },
            "type": "scatterternary"
           }
          ],
          "surface": [
           {
            "colorbar": {
             "outlinewidth": 0,
             "ticks": ""
            },
            "colorscale": [
             [
              0,
              "#0d0887"
             ],
             [
              0.1111111111111111,
              "#46039f"
             ],
             [
              0.2222222222222222,
              "#7201a8"
             ],
             [
              0.3333333333333333,
              "#9c179e"
             ],
             [
              0.4444444444444444,
              "#bd3786"
             ],
             [
              0.5555555555555556,
              "#d8576b"
             ],
             [
              0.6666666666666666,
              "#ed7953"
             ],
             [
              0.7777777777777778,
              "#fb9f3a"
             ],
             [
              0.8888888888888888,
              "#fdca26"
             ],
             [
              1,
              "#f0f921"
             ]
            ],
            "type": "surface"
           }
          ],
          "table": [
           {
            "cells": {
             "fill": {
              "color": "#EBF0F8"
             },
             "line": {
              "color": "white"
             }
            },
            "header": {
             "fill": {
              "color": "#C8D4E3"
             },
             "line": {
              "color": "white"
             }
            },
            "type": "table"
           }
          ]
         },
         "layout": {
          "annotationdefaults": {
           "arrowcolor": "#2a3f5f",
           "arrowhead": 0,
           "arrowwidth": 1
          },
          "autotypenumbers": "strict",
          "coloraxis": {
           "colorbar": {
            "outlinewidth": 0,
            "ticks": ""
           }
          },
          "colorscale": {
           "diverging": [
            [
             0,
             "#8e0152"
            ],
            [
             0.1,
             "#c51b7d"
            ],
            [
             0.2,
             "#de77ae"
            ],
            [
             0.3,
             "#f1b6da"
            ],
            [
             0.4,
             "#fde0ef"
            ],
            [
             0.5,
             "#f7f7f7"
            ],
            [
             0.6,
             "#e6f5d0"
            ],
            [
             0.7,
             "#b8e186"
            ],
            [
             0.8,
             "#7fbc41"
            ],
            [
             0.9,
             "#4d9221"
            ],
            [
             1,
             "#276419"
            ]
           ],
           "sequential": [
            [
             0,
             "#0d0887"
            ],
            [
             0.1111111111111111,
             "#46039f"
            ],
            [
             0.2222222222222222,
             "#7201a8"
            ],
            [
             0.3333333333333333,
             "#9c179e"
            ],
            [
             0.4444444444444444,
             "#bd3786"
            ],
            [
             0.5555555555555556,
             "#d8576b"
            ],
            [
             0.6666666666666666,
             "#ed7953"
            ],
            [
             0.7777777777777778,
             "#fb9f3a"
            ],
            [
             0.8888888888888888,
             "#fdca26"
            ],
            [
             1,
             "#f0f921"
            ]
           ],
           "sequentialminus": [
            [
             0,
             "#0d0887"
            ],
            [
             0.1111111111111111,
             "#46039f"
            ],
            [
             0.2222222222222222,
             "#7201a8"
            ],
            [
             0.3333333333333333,
             "#9c179e"
            ],
            [
             0.4444444444444444,
             "#bd3786"
            ],
            [
             0.5555555555555556,
             "#d8576b"
            ],
            [
             0.6666666666666666,
             "#ed7953"
            ],
            [
             0.7777777777777778,
             "#fb9f3a"
            ],
            [
             0.8888888888888888,
             "#fdca26"
            ],
            [
             1,
             "#f0f921"
            ]
           ]
          },
          "colorway": [
           "#636efa",
           "#EF553B",
           "#00cc96",
           "#ab63fa",
           "#FFA15A",
           "#19d3f3",
           "#FF6692",
           "#B6E880",
           "#FF97FF",
           "#FECB52"
          ],
          "font": {
           "color": "#2a3f5f"
          },
          "geo": {
           "bgcolor": "white",
           "lakecolor": "white",
           "landcolor": "#E5ECF6",
           "showlakes": true,
           "showland": true,
           "subunitcolor": "white"
          },
          "hoverlabel": {
           "align": "left"
          },
          "hovermode": "closest",
          "mapbox": {
           "style": "light"
          },
          "paper_bgcolor": "white",
          "plot_bgcolor": "#E5ECF6",
          "polar": {
           "angularaxis": {
            "gridcolor": "white",
            "linecolor": "white",
            "ticks": ""
           },
           "bgcolor": "#E5ECF6",
           "radialaxis": {
            "gridcolor": "white",
            "linecolor": "white",
            "ticks": ""
           }
          },
          "scene": {
           "xaxis": {
            "backgroundcolor": "#E5ECF6",
            "gridcolor": "white",
            "gridwidth": 2,
            "linecolor": "white",
            "showbackground": true,
            "ticks": "",
            "zerolinecolor": "white"
           },
           "yaxis": {
            "backgroundcolor": "#E5ECF6",
            "gridcolor": "white",
            "gridwidth": 2,
            "linecolor": "white",
            "showbackground": true,
            "ticks": "",
            "zerolinecolor": "white"
           },
           "zaxis": {
            "backgroundcolor": "#E5ECF6",
            "gridcolor": "white",
            "gridwidth": 2,
            "linecolor": "white",
            "showbackground": true,
            "ticks": "",
            "zerolinecolor": "white"
           }
          },
          "shapedefaults": {
           "line": {
            "color": "#2a3f5f"
           }
          },
          "ternary": {
           "aaxis": {
            "gridcolor": "white",
            "linecolor": "white",
            "ticks": ""
           },
           "baxis": {
            "gridcolor": "white",
            "linecolor": "white",
            "ticks": ""
           },
           "bgcolor": "#E5ECF6",
           "caxis": {
            "gridcolor": "white",
            "linecolor": "white",
            "ticks": ""
           }
          },
          "title": {
           "x": 0.05
          },
          "xaxis": {
           "automargin": true,
           "gridcolor": "white",
           "linecolor": "white",
           "ticks": "",
           "title": {
            "standoff": 15
           },
           "zerolinecolor": "white",
           "zerolinewidth": 2
          },
          "yaxis": {
           "automargin": true,
           "gridcolor": "white",
           "linecolor": "white",
           "ticks": "",
           "title": {
            "standoff": 15
           },
           "zerolinecolor": "white",
           "zerolinewidth": 2
          }
         }
        },
        "xaxis": {
         "anchor": "y",
         "domain": [
          0,
          1
         ],
         "showticklabels": false
        },
        "yaxis": {
         "anchor": "x",
         "domain": [
          0,
          1
         ],
         "showticklabels": false
        }
       }
      }
     },
     "metadata": {},
     "output_type": "display_data"
    }
   ],
   "source": [
    "from torchvision import transforms, datasets\n",
    "\n",
    "from torch.utils.data import DataLoader\n",
    "\n",
    "\n",
    "transform = transforms.Compose([\n",
    "    transforms.Resize((image_size,image_size)),\n",
    "    transforms.ToTensor(),\n",
    "    transforms.Normalize((0.5, 0.5, 0.5), (0.5, 0.5, 0.5)),\n",
    "])\n",
    "\n",
    "trainset = ImageFolder(\n",
    "    root=\"data\",\n",
    "    transform=transform\n",
    ")\n",
    "\n",
    "utils.show_images(trainset, rows=3, cols=5)\n",
    "\n",
    "trainloader = DataLoader(trainset, batch_size=batch_size, shuffle=True)"
   ]
  },
  {
   "cell_type": "code",
   "execution_count": 33,
   "metadata": {},
   "outputs": [
    {
     "data": {
      "text/plain": [
       "torch.Size([3, 64, 64])"
      ]
     },
     "execution_count": 33,
     "metadata": {},
     "output_type": "execute_result"
    }
   ],
   "source": [
    "trainset[0][0].shape"
   ]
  },
  {
   "cell_type": "code",
   "execution_count": 34,
   "metadata": {},
   "outputs": [],
   "source": [
    "def train_generator_discriminator(\n",
    "    netG: Generator, \n",
    "    netD: Discriminator, \n",
    "    optG,\n",
    "    optD,\n",
    "    trainloader,\n",
    "    epochs: int,\n",
    "    max_epoch_duration: Optional[Union[int, float]] = None,           # Each epoch terminates after this many seconds\n",
    "    print_netG_output_interval: Optional[Union[int, float]] = None,   # Generator output is printed at this frequency\n",
    "    use_wandb: bool = False\n",
    "):\n",
    "    criterion = t.nn.BCELoss()\n",
    "    for epoch in range(epochs):\n",
    "        for i, real_images in enumerate(trainloader):\n",
    "            # generate image from random\n",
    "            z = t.empty((batch_size, latent_dim_size))\n",
    "            generated_images = netG(z)\n",
    "            # concat with real images\n",
    "            all_images = t.cat(generated_images, real_images,dim=0)\n",
    "            # use discriminator\n",
    "            predictions = netD(all_images)\n",
    "\n",
    "            groundtruth = t.tensor([0]*batch_size + [1]*batch_size,dtype=t.long)\n",
    "            loss = criterion(predictions, groundtruth)\n",
    "            loss.backward()\n",
    "            optD.step()\n",
    "            optG.step()\n",
    "            optD.zero_grad()\n",
    "            optG.zero_grad()\n",
    "\n",
    "\n",
    "\n",
    "train_generator_discriminator(\n",
    "    netG=Generator()\n",
    ")"
   ]
  },
  {
   "cell_type": "markdown",
   "metadata": {},
   "source": [
    "### If stuck\n",
    "compare solutions to own version"
   ]
  },
  {
   "cell_type": "code",
   "execution_count": 9,
   "metadata": {},
   "outputs": [
    {
     "data": {
      "application/vnd.plotly.v1+json": {
       "config": {
        "plotlyServerURL": "https://plot.ly"
       },
       "data": [
        {
         "hovertemplate": "x: %{x}<br>y: %{y}<extra></extra>",
         "name": "0",
         "source": "data:image/png;base64,iVBORw0KGgoAAAANSUhEUgAAAWgAAADYCAIAAABJOu5DAAEAAElEQVR4Xuz9Z4xkS5YmiJ1zzOwq1x4eOlKrp1/pqq7q6urune7pnmEPd3d2sQR2dgmSIKh+kuAP/uQ/ggQBggABahBLYhUw3NnZ2emdltVV3dVV9bTIfJkvdYYO93B5lYlz+MMjX2W+evl6ejg/60Mgwv36jQg795p99h1hdlFE4Ff4FX6FX+FvA/r8gV/hV/gVfoW/Cb8ijl/hV/gV/tb4FXH8Cr/Cr/C3hn7u3fiT5U9eBj4QBfDZzwEAEQHglyMjiEhIgODZswChAVEAhIhIEEACCBIii4VAwf0n/9v/w3/6//zHk4Vrdxs3zl88nhzO2A3Huc/zN1++iKbuQ/rN1791MD70yk+H+1975c0LL7/2w7d/UlT5xsrg7qd3y2L2az/45jd/798+99L3ETJQcdQ0n2vVEt/7+tcRJI50I0uajaydNWJtmLl2dlHks8ViPF2MxrN5Uag47vRWOv1eq91NsyyOY621iFjrvAvOes8sgEgKIwNxbDCKKM60iY1EiY5SQ0RxHMfGxHFi4lgbHSliW/m6QGGp6roqq7ogoiRpMPN0Nh1NTudlyd5jYBCsfciLRVFVXhgRI63+9M9//HmTAADg3t1PRqenDx88vnnz1sNHj+uqtK6s8gKcVQCapJlGiVGoVBxnQSBpZGv99tXLV7/xve9tn7+KJhPUpBBARBiQ67qez+aNtB3FiQJUgAAQCIJi7xYKSatImFgpQVSEBEQAwP+aJ6Bv/9r34kaWtRrXX33j+vVXT548Yg7T06PhwZPZ8DCOjasLV1UuSF6WYEyez4RZoamq4AOHEDzXEWkRqKx3jgUhhBCChOAFEJVywROiCGhttIlEQGkycRS8JaUQkZQK3hOpELxSGgBEmJnrsgjeBy/CAICfGwiISBqqsn724Gf4X39489m3JAAIFfl28L+xcf58nIqrQxDnxLtgXWVdzra6++j+8XQk9XT/4/enD+63tXJVOR2eGOKVbmvQ7+WL3KRm+9qFCy+/unbxOseZDziblY9O5/Nuv14Z5HEHdaIZDZFSFMR59EAKHHdVdG2lv91pJlpFATSLZkSFIoIMTMAIvGwuhoFKP2v8c8RxdsYzWNIE/IIpUJZ95DM+EX565YgBARBQEyEAgQiACAACAoIAAKIIE5DP67uf3qmdI4Je2gjiPCCSsbXN4jiKyAdutBoiTERVnjfSRtZs1t4t5rM0ywgwn82a7azV7jc6A1EaGb+k7ypFCGK0SqI4jZMkjg1pFxw6YGbnXG2ttXXgoBFhadzzhImEQkCaDEOiIwLQmhSzICsSRBZFSpFi0QoVAhACAQhT8ChI3kFdV3nBrkaQGJV33oVFXiwm43FeFqCUq60tK++9866ytqxrFiFFbJ4n92fwJ3/2Z7dv33748PFikYfgCYBrWyzm4j0KK4VlqrvtzBhTVwWRcuWU8qFfjAnY1X7r4jUdN4AFEUS89+7B/Xt3bt29sHP+yuUrClWUpsJSsx/Nhyf7DyPF585f6XQ2AJRSSGAIBEB9yZX/V8NiNiVF7Y2tne2Luw/uZkkjBnPuzSs/Hf6X3Gw1mmmVx1bXyphGVVhnm2mMiPPpVFxltDZxWwCKRV5VldZawJdFhUprpbQ2IXgWobMujcwcgtfGiEjwftkAxDOTQvAAwBwQUUSIUJsoeP/s1Ckiz82m8vm59pexPJMBRIRYyIsSsJUNrnaWbR1cVTtXBJeHetEI9rXVXpj49W4n31zNOun+wSHPT5WOrPUmSre2BirVK+vbcaszzUu2YbXXazbjrtbvn5w4qOPVyKKpQFsAFbwisYJJkNUofnV9dSdpRCLgBAAIEAjPxiwIABCiAIDIcgR/huc75Wcmf54vlsdQgJbE8QtCATo742y04XISenpk+U8BAJQAeJYg5Hjv9v3DJ3teApGJI2051BKs5eA4azVICTrutvu1rZU2rq67vXbWbpV1Za3tdDqurm1V9S6cy9r9tNkTVICAEgC+WHFESomwUdpok5hIK62UEhSlNSAKs7W1D4GQFCkk/Mz8z0CIRKQ1NqN0Z3W9lzUSADudNborrbXNW08elui7jYYOzAiKtNaGELV3ZEOiiIJtgsyDtfVCGKIorZ0rFnMt3hdzWxasjLXe1q6uK+us8945GyQQqWDV5xrzGf7wD/94f/egLIvAEoKPlI6JQMAHCd4RoWf2jFkWmllmULwP+cIGz++9896j3eH6zsXNc+eyNGJg7+10Mr577245X2g7O3x4xzlZ29yqaz+v88nipBw+aRg1Pzp4/avfba2tQSBAAIrgX7/ggCLP0zQxoIa7u2W1uPbK1xppc3TwpLe+TZrWtjYbWXN0dDg5PSajO0azcF0stIRWI46zpnNwcjwCAW1MWVTOOR3Fada0RQmEHDwIEwAzCAEABO+X/bnT79d1EbxnDsAQvCelOAREVFovuQMREGgpyhEBET9jDREGIA7PG/MMPidPlhM1EmgGcFyxc5W1hbN1ZYs5+zlShT5cPbcdK3TGqONTR8Z0jBN1eDTu97sA0Bmsbe+c81p1t1ZX1ja84O3bdzGfdXTS7/Vf2V57//BkTkdmQLluOogBiDyngNvt1usbgz6RYU+MABQAAgkCqLBsGOJTthAAZIBneuILFMdy4DzjqCAiITHSspN8RhwgzxEsLvnpF+QkAMDLs1kWk+nHb/38r//8hx+//f7JwbGODFGapMmiLj2z9wKMjawh5Ekky9KyKkGDdy5NsihJj0+OSSmtVJkvCKDZarc6vShtCihE/ExSfQEECJCQIqWN1sZorRQSaucIMYTgnGMRpZRShIAiwiGEEPzTLiUiSiAideP8hW+88upmuzsdHYmvt3YunY5n242X86pUSRynDdSaYrN7uK+MVlzFIM1IS1VWM9+KzWhhh8Px6tYFlaa6mRxNh58+OK28LzyjiuIoLcrCOxtCCK52ITCKevZ2PY9bN++VZSkiy7Fr0VttFJLz3nJQBKWHoqrV1DYz20gioyiOUBcyXBzceXAQfvqOiWIVkdZkjC6KudKqmeoMFs6JtbC7t+o8LMpFbGzsp3GiHt5aKKErb3xlZX0TgUBroBc2718ZztXsPFv78OaH29euZa3Uuaqwiwsvv56m38qyhrNVf/PC6XDv9GjP1iUR1PPZ2tpAGRyeHB0fjLI0tp7tYu6sZ2ZFks8niUkBYTk3EIsNXgSWLgeHoE1ESByESMHZsEHv3FJ0KK0RCRECeAFe9vQlESy/IyIiibDI33xBlr/MS0nuPQUR5yvryryoFlVdLkI9JphKWKyvrQaYe4k4AbXSzFYbOkr6urE+dRd2NpI06nY6K5vrk6LorK5HUQOLivLy3uNHL3/l1cWJ621deHnj3Id7+06ptK89KgZFDBdajVc31voIhkNA5bRSLIEAABQHYkAgFggKRMQzB+aA0H9mXn6OOOipQhMRQBDE5VhEVIAQAAHpKZmc0cWSIRBxqdBYQDAgAAowiBAxUfBSzyYPPnr3o5/+5d6dT2en09UEdm5c6Ay286A+uX177+TIg84rreJGmhlwZWbSZrM1OhkuW9NsdbRJx+OJ0dro6GQ6NXHa7HQavR5pJQwACuBMZ/4yEARBFKEiJEKFSIQkZzTnggQRJEJFCIISxLvgXfCeiRiYACLEro62Bmvfe/W1i9vnbn/0oUKpiolYe/uTT1ZWVvuD9W5/89yVG8T84O6dDW0GK32fj+1ioq3TxM2NVQj9T61NJWFPeen6rbTJ6WvnbzycnpzMp96FxKjK6LKQEDwHCdazsMcXTmHzee09A4JWGhkDgXPMJAxKIQmw8+QQA/tp5bWqNYKhoBWCgKscArXbLZ0QITCEqi4ajbSVae3mvd7ABQxjnM7r0+HhWi+K3dxGBHpcF4ERAWiwfYGB4F9dboTnprBnkEaRIsjzSZokdTH9+Od/2Wh1jTGd3kqZz531p6NRf22Ak9P++nlS0mg02kk0H+3e/fDnKXLWiMvggjKWwcRJghBsFRtF5J0XZAaQEJwiVACktbUuBB9nWRCPCAAoEgj1Z4wgIsF7bSIkQlRKRcHXAEth+otzlhwEL75fTAJPR46IALBIYO/Fg6trtyiKuc0XuS2GYE/cfK+VQKV9HSdRkgJgY2PQTFIrsNFqi2mu9XuNdqo0NZvt8mRodCzel/l0Nhl9euf+5rktigwYM1i/8tq5/oOjk7nJytWEAbZN9vrGehuVliBADARLISVnVwfAOMGF93un44PT09l05moXNP5PfuM3PrPlOeKQp2/lzFFDwaci4kxi4NLwX0iu5XEkRBIhBGCQMx0iiIxQ2yef3HzvJz9+cufOwZO9w/1hVdtGrM9tbwSUw/Hx3ZNhK27UizIv806npSO9tXkxFapdqROqbRnFcdJoCKnpfBZpQ4pm83naSuJ22hqsIMUCeummf9aoz0E4LPWlUqiIEIGAAQQRAFEQBUAQiJA5eFv7SjsTaWU0c2R0M0uvnb/49QuX63mROn/rnXdu3brZajaO9x+3GnFVLBDdos5P8sVwPM6IHt75xJb5fXF+dtLQfG5zrZWk3GiyUDldzGelpEQmPp1W26vnv/qdS3916927Dz/NF/NcYDKfjqdTEQaBwMwiTtzn7XmKsz5LS5UHwgBqGdiWEAIzew5BwAe/7NaIkBlqZ3Hwvq7qxMSORQMhgS2rIi+ddeLSx7WratRxIvN6/+ikmI4TWZFqtl8VpE1zNNPNRsnhW+1uq5c936Ivx+ck4QvvV5omOtInx3s75y8ePLq3ff6yArBlMTx4/OD2zc7KoNvvI8ClazcIcTY+MqTazUY1OxkM1pj5yeFpbb1CWB2soYgCqPO8LGYWOLAXIQFAIlLAgX1dIVIIoa4KbbSJYkT0vuZw1loR4RBAG6QlUSAiKaWFl/dlSRlPWeOMEb4YQQExoIAIC7MIB++5thyozCs/zefzslxMpRqN92/r+rS52nZKBaPrLE47vZWVjdg0CX2jq1qtNSRJUiUQtDKtTjPUpYAtF6PhePRw9+jKw8PzFwfTk920PWhE6lIrfTA5qZoRNnovra91jSHhM94XQABiNEQiHAAnzt16dPDxwf6JKzkzkYniLCJ8juVfEHhDBMSlr49nlPGlEJDlFQUUThyxkNccYD4/+PjD23/xF+//9V8fHk7rkHC0NeHpk/Hkw4PbgW9WgmWA4Iic77cpjhwhKNNJNHuusqZx03lvpVm6cl4tVKQJTfBS5mWvv9rqxllrBaApYIQc8AsVh4gg4lJ8nkEABRBQEWlFCogANSABBufqsgKlDSKmWaLVyxcu/tZ3vreC6smDh/no9MO3f15VVTkdn4xPXJ2xd0mcVtNqNpze++hmM43qPBfkRbnw1aSlwmj33uXNrfXVjf2j00enixKUz/Moybrtzr29x1WiL2/ubDUa9x4/+OEnH45mY2s9IikiQDJaSbCft+cZiIirnVJKaYVEPgQACbx0tdgLL2PXITAAaEVCVHmGIEAGlCorp7QmrWuLgWNX+uCrnCSvUBsCotF47KtqpZthkNOTeV7kzfZcd1qH8+nO1evXu6v4oi70BTTxuSMvBCJ6W6eNxmR00ul1p+Ph6HhvdLSXNVuL+XTbXZkcPpoe79py1ul0QXhlbbvZ7vS3b4xOTkp7mDY7ppp0GgAijDSZLJyrQUd1VdQ2ABIgahOxtwigtRYBAGLPtq5MZIyJna0AQBvDIXAIAOC9QyIiDQjLniTCiLSkCRFe9jFY0vcLoJ5+JEEkBA7snQtlDWDKaV7P5ovpuFocL04e7t/96MJ6c3Jax0rqwO2N9WxlLYpTUGlsSAFlcfA2V1Qx197lIPn45LBhyM1m9Sw/Phrfvf1wc7OLWoO3SjXbhgd2KMdPtl7f6McxPR9hWA5g45HB7E0mP/ro40MboNM2zW6ISQAsozxP9J8Ljp6pzmVMVQCX12JJq0Rn/+uXOVVEABBAGEmAgBmDz2ejT//yL976kz95eOeud/7c5gBU88PbD46PhzO2nVZLGRPKytl6WNheorY6je2tlUaSEWKn2+k04yAlmQ5RJCjD0dFLr7w8y/M6t4O1DR1RmqZRnIFoRAVQfUm/ZJblzWVmZgYWICAAhahQaVJKKYUeBICZBayUItLQqtftXlhb/fZLrzQF3vn5X58OR+vra6OTI2HJWpkPLq+tL6tGVEIIdeA6MMeR1uSRa1c/GU54PtuK9Ddf/VpZQ24pbTRtWThXBJLTYW3idP/gcK3TvLQ6OJQHo8M9BWwIlVZRFBGi997o6PP2PIX3HgCMMUopFvbee1iKCxFmACClCBARjTm7ay6wtZY5KIGyrhBVXtokikghs7IuWOucIY+lQmD23jlAWtSidTKqcDypVrAYnp6GOH78+PHW+RvNpmFC+ry/wvB5QcG/dIO+2E8BgNHJcbvdcHXV63Ubrc6D2x+VxeTJ/btJllx99Sunw4PHt2/u7Fyw1enqxnqvv9ZpdwWMY/aYkcnS1L/80npkF6Pj4+F4juIEpKgr65mMAVBKKQBLmtKsnS/yEISAWTg4W+YLAGAOHAKxEhFSSpZE7H2AAILMAQBIKQCQIIi4HCrLxn/24peBgMgCIiAgAhw41C5UNYBUAYpZXixOF8ePHn70bsvUdh4k7T65dy+Nk16no50jYEYm1AoJlXd2kRdDcXm5WIhz48OjWQgKMJ8tZvPy8aOj0dHkwsvnxOUYtwmwT86NDlemw0Z7k7RBXKaDAQCERBAc0P3dwz/96MO8Fadba6LjSjwGFAQGOAtbPMXzrspT4gCA5d/8LMmJiCAICJ/FhH5x/OwnLskXodbejvce/uzP/vmDj99zdb15cefizqU0a+3uH3/06a2Y6pfPXdSReby/X5dVcMFSXDCL55W08fLL10jF4CVtN9vdtcl46CxoldhQR1q/+uqbjx8/AVSP7t++9f6d8y8/Pv/yBaOWVrzwhlnnIkUhhKWA5xBEUAKDgCYySmmllllUEAAQDuyqoprT4Oq1r167EVX2/qMPbt/6aDaf+1BpjfP5PEAt4udFXuVVu9WRuhjPZybNkqhdFN6BOHZ7h8NrWxv/6N/6By2ih3vHcW8wPznkMm9m2Wx2KpAUVKOKhraAfKqYr21u6vE4rzwRpUmitK6q+vMk/QxCOHOnmTmEAMDLqNSSOgAABQDoMxUdAgfwAEKAkTYEACwuiCsKbRQCCIAAWPHkFAJUeR1rE6XmydGocjxfWAmq4enocJG11Wg0d84DCLD8IpX2C/wyjz/HFMz0Bb8EAACtdhsQbF2YaH14uB+810YZ04iidD6e7z+6Hyo7PDhsds3w+GBt87ytw2w8zdqd7csvpVkcGZoc7R58ejuK4lZbVWGyKC0RxbGBAIpi4FppvX3pynQ6r/KKwWulBYgleOfqqgQAEfHOMYfg/WdpF2YBxuWny6aKMKJapm+XGuQXZvwSPvtMJLAPoXbO2lDWAFhbl89m49Hxk48/mu493ri4NhuOCcLJ/tG1Sxddvgj5gmzhWAwmXgR8PT89Gj65C9X89Og4nxdpmo1Oxs1mazLLg4fD/dHjB3urWx2TNcG0siTWkcoW7uiDdweNdrJ66dmGYQCH8mS8+Bc3b/mVrmplQSvgoJdxBwSAz7KnZ/hinSkiZ8r+mROe9r/P9+SndAIsDBIk5Ad3b7/9z//ZaO/JtctXuyv9xWh099OHtx/s3T+cPBjla+vneq32rfsPxnntJSKjojRBcfNZPT05XawdXLh8sSqiyXjeaCW9/qpwZEvbi1qFd4j48utfeTe8dxGi+/du/uiP//kfrJ7rr10VYXjeB3sWzMGh1LaubW2tXcpNL+yt5xAUUaRMRU5AUJadQkSEnZuPx4b56NHj4f5+WRbjyUgwpHGSZnFR5kxonT+dL1qdOVfFcDpeTeLSu9lkyiKgFdjqwlq/a3AxPKnyyaO94Xw2JQzBVigkCERUT2aqkxyVM4NyaW1jfXunCMGHMJnPnLXcTIL/5RF4BmvtWakegCJSivBp/ozPRIeIBFjyOgEq1KgBgQgBEFGJ9z44rQkUMAcWrwyAAiuOglIqRopn82JUTixDCNKKY0HjXWRtFJuWMalIgGXi/zle+HwnAaBnT1hKvxcxR5Qkwbt2f50Zjvd38/nMO6+0ris7PDgipTXqOgTIbZJEB7t7D+/sJa0PXnrzmyurK+cvXuFqVp482bx4VZ8Mx/fvBXYiHEeKBFicAbt14cL1V1+Z5vmje38FgQmQlHbeCQsa9M6KCIcgIsEvFRyIhBA8CCESkUJErQ0zL7WKCBOpvzFMTAIMAAzimZ331rvK+ry0iFUZikVxsPfkcO9xD5XLq7wo5nmVzxZpdKJMIhjpJLMmitNEG00iNp88uX3Xjkfz0fjkdJY226X11u+XjKRVVblHj3a3L/VMI8WogZ0N1e3gvBwfPLn9zo9f+f7ApG0AWE63AjJ31Q8/+mDaTpJeezkDewygAJ9GAPXzE/NzxHEmH+RMa+DzUwQuR6YQSAAQREFCkeXFUALICJ7d/s2bb//xP+Pp9I033hAyp8PTk+PD/dH49oODw3Gxs3UhTtNPd/eOF7kFE0dxv9VpJyoGp+xiuih3d/fY2RvXv1YzTWfTlfXVRMdJmiCJYinLnKL0xsuvvv/uO1sXLu/eevzRD3/0nd8b6HbvSySiRxEOtXe1tbaqFLNX6Fmq2llnQZjO5oyl+UCEBlWWNmprbVHb2XyRF7UNs6Iu/PDizqaWKtU8sVKWlggWeeG8G81nWbcVvB2PT7NmI4rSRkrD05M/+tk71Wy+dzSc1X5eVFvrgyhIp5mJMFMIoQiFU0br2FzobUaNOOt3jsviYDJelBUgGv3F5A4ANjgAUUojIigAAgES4cASArMwcAABUgiCClAtqQVEghcAwaAUxhoQ2FV1CAEVQqCggBQgQB2CLaa5LR07CSECipPUQAtUJ8l6ly9cS3WMgVAjswCcyR8iCEEQn6MFZvSe2S/9el9V9WKRX712/hdnPANXls12u9no1XVRlHVVV0jgqkq7KjaRkhCnEYJzNhTzfD61W+eutdLo9PGt1cG3OivbqDdUo3O699iKRE8eN7NWcCb3bNkZ9t/4xjeuv/aVj957792333HWC0ij2fDBK62dF61jz965OrgQx4kgWmcRUIRYgAjPuvuZyAWlNfiwpAwR+XLREQBABJglsPgQnAu1R1vXRNPKLxbD8cl+nudr3Yatw3jhHw0nhvQkPzqaVsNF6ZW0uq0CqdvvIUA5HE2Px3t3HwPLcFrPHh8mrQwxxJnpJCoPfvdkfOfO4247MzqyjUaSdbOuNKflye17h5u3Lrz6Zq1iQDJeWOS9R3sjy+lq16NGYHrqfS0jwrw0+xl8YafE5a+IwBcNRgTAZ6aUiAkFWMAHW3/y3s9/+I//k41Wdu36hRhDWczPr/Uun99ZXTmcTR27R9945erth08miykSNCNqGUn9bCXuacCVwboBX8zqiZocJPeuvnKDI5ycnnbaSqvIurq3smYZQghAePXGy++99debG5sfvfXzrcs3zr/xTWWiF0mOwCIgtbVFWRpSzEwEgbl23jrrQwBAoxQSAUAIAQENEAG5wEWRF/PZwhZOghAdjYb9bnMlVsFZFs7zqQsyL3ReFLmtF0U+d0HEY0SgIWu1TqbzP97/eVVUSZqVzq10etaHNE1xmclnG1yoQu2UktBokPZ5ZTrNnZVBu9ezAMrEWr/ILNBaMQcABjhzxABAhENY+i4sEpBFKQIAREJCAgEIyKIVolYAUACEuq7qGgmV0kQEkdbaAOnSutp6YQ/BEnAcR0ZrHSft1dWvfusb2xfPkULPrMV4H4L32miliJkQGICYAQRY2Fq3mBfz+WJR5EVe1lVVW1vkxYuIo87zJE7Gw6PJ8CiK0yRpzGfjTqeVZY0qXxCCJhDgxTg3kemv9uPM7D74aGNj62T3nrdlXded/qDX3xwdnaxtboXDo/G0EJbt7R0spvOTg49+Ov/k1qfBMSIpBY0sLReTyGiVxrrVmBY5EWGmvPXBW+HlhIIAIgKk8FlqkKVLSLQMKsFns+8XQURwKQVZmMW74CuLznt0i6Kczybz6dS7oKNkUlQnc//kpFQmWutFJw+Ho0U5mS6+8dWXpuPT3qDX6XbLWaWBjk+m44IriR0m9VHR6cSJBJNkEYTxzH18a6+RJi+BNkk2SNq9fh+cLyv74M7twbmduL/uBYVoNCtuP9lLut1AhE+VxXLBwfIt/ZKE/ELiAERaBizOJuEXAlmURxFluZrd/smP7r791pvXL60P1hSGsqhKsPlk3sjo6PDwyYMHNy5f2Vrf+PG772KUZSnGClcSvRKbYjFqt5tYL1b6/Wa6GkV6MR8ePFYXbrzEJjsdzXqDDRUpIJ2laV7WgesoSl9/4yvv/uQnpNSHb//1ys65ztrW51v3FMGzINTi5nlJRJ6DImQBH4J13gZGQIWKQ+DAIQSjtTFRu9NK03Q8nxTz09zlVSijhtF1VNRlLFQUOSWZjrWEoFLCgE1qsiZATLNm2m0fj4aj6SzUtiprow0E18wyZlfVRSM2pa1YwrysrOes0aidGygqgyWQpBU3I7PSaVOzFbc6ynxxOSwAaK1ElhF+CYFFePnCObtcCbC8eSxyVhELwBwUgCLA4NlbACFgDJygAAiBV6R98MJgYpVohSFoAI1okrjRbjc7nRuvvfJv/M7f/cFv/2aj3Sq809rMZ9M6516vA0Ig4D07F4StD76u7XyeTybT8fR0Ppss8ryqKudCCN7WFuD3n7PnKVY3NlCp2WgUbO2RQrDNNGk2mlGcBGu1NoHBVb7TH0SRWsyGk9GTxKj+au/Jw9uffvROf7Dldi63++uLvDg+OizLwhjVgBAVc18s4sb66OCQGOIoRpY0Mhsr3Ymdrq/1253u8XiiMBkBVJVdkjAiiAREAliqCRThZZpueeWRCJclC38Tlj7PEhx8cN7VFisbtA6VdctlTC6ULEJmUoUa4tnMVuQigOliUufscj/oJe+9fdPEpttbmY3n1qTHzo8L74jImN39eb+dZMZ4r23p3XH1s/d2ERGRmq2VxspGb2uNsmx///Dx3Tsvf7UDOrWAt/cOrdZJmglRgAAg8PksyufxfHD06fWAM+J8Vln8AoggAiyCzCwBxHI9XRw+iKvFN156xbM/OhmNS/7o9sO7jw/qYrHeSi9ubb/6+hvXb7wxmi9Gk/lwXhBRt5lxknQ6/fNbm1ItyFlfTud1tX3hUquZ+OCO9vde+fr3htPyYDg6f+l8QBPpOM10Xde1q6IkbXS645PT4729/bu3uqsbn2/oU0hgRnCBOQQBcd5rRYDEAjYw6sgkIEjCDIhKEQjUeXF8Oo41HR4dJs7W9SK4UmuKUlOEetDoNWNDAn3VcSw6SahhjDJGayBYXV2PInNazKM0tUTNLKmrSgMi+KKaZ6abF/NK6aKq51XV6nYPRkNFFDczpXREUMwXwL5DkGSNdqutk1+sLPoc1HI5FqL3QUSWoVJE1Foj0nKFDj5Vm4gIIghGAWPwCoIGaCZxahAZBJZpSlLGOC9lXXtfxoqaiTIiqdGNTqu1Prj+6ht/9/f+wY1X3kiSeDKbAUhZ14cHxzub5znIvCzm83mel0WRO19b52xVL/JiPpvNF5NFMauqsirrIALAn9e+z0K8K+tyMVNaIXCkKE1im+fL0VlXhVI6SeMQXL7IlSYBKCp39/YnJopX1rZ2uj0bwns//8n+k7tawdqgf24rnR6fNAyuvHSprNxiNm21m36WJwQtQ2G0+81XrmyurzVi/cHtWQpNB6q7slEsFgDsnQ+Bg7OkaBnlI1Iiwhw4LNXI08gYACIth88LIIAoLCK8HEEggiLsAzjnXdA6qp1Mi3ql1+l02808zCyP5lUSJQuh6smsLML2ejO4sH9w6Gm3M+if5jIJ0an1lVipCEXNTopGpA0qYljYMC5Hdb0oXUga3StJREmrs9bR5B89uLe1sdHcuZh7/PTohFaaHGlZNpKW0ZszYbVs7rIXfYYvVhwvBhICAyGCiAgISu4mx5Mnd/xkzHm1d7p4vHt079HezU8fz+b5+e3t1d5KTOHg4d12mkJ5unfvdi+GssLCB5/nx2XB8/nl7fXXrp4/v75CbC3L6WyukmazmaXNxiyfrV+4skA4PBlubmzV1qVpWhS5c3Xu8ldefeOHf/InhHL/1gdXvvLNrN37fHsBAEBYBARQfAi+yF0IkdZKq2XyWBE6YSbwIsFbDMq5moPUxbw5U/HqWi+LajeD2AQTmSyubKnbzURRE5UXsQgQmYCYRmkSp6yg2+sDsxde6XTY+/l8thiPtOeWiSOj2braBgBV1jZuZKNiMT49HXT7RV4kxkRpXORFPZ/YutjImpp0/GLiEJZlLggAlrMKIiAyESKiUgpxWT/PSKSIEFCj0iQ6OAPUayYrrUaizgoQ4GzmAAne+qysaxMnLCjBZk3THaxsXb546foVZH9ycDSb5HleFnU5nk5X11Zrm9+9P5rNZuPxZLHInat8sGG5gLCqF3leFIuyXHjv6toppbTWXzLAfF0tZjOFQsAEkCSxAvCBXVWiIgFEghBsqDmKDQAhaAEXQCHoWWUf7e153q3mcxXRoDt4+aVX3XRR9ds726uzqvrZz95CqbSGLEHw3E/p6s6FN1+63NKST0fXtldUrkaVL1miOG73V4L3IfhiPg/BB+c5CGOQ5WASFoFl7G9JHM+++BLIUh4yQ2AFCCzMTIhJ2gAVTxbFue3V9X4LAxDB4cIurAfQeagtlJMyxFpVoVHU4c79URBMKAOtXFU7Xq7EpOC4GS1jYyav+dbewqv7pI0xsHbxomp1+u14mtLJ7qPmxta4CHNhzDKvSBgUQAAmQuQX3iD4G4njqa/y9FogMiILAQCKZ5ufHj0Y3b/tToauqE/Gxe2Hh7cejZ7cv/e1l6/+vd/6wcWNfmTUrK6Pnzx4dPd2NXn80na3aS4fnMwr1F6ULctQ14vJ8PateT3rX7qw0xustnqt0/GQapMoXdpK5ePL16/deu+D4Wi4tbklIlEUjU6HVV231jrXX7px786H42M52r1/af3cL5r+DJiX9XoAhIGlrOvArIJBIiBVsROAgBBAAhGieBBWoBQmSXLjxo24KjVJ4cpCWHdblETtdkOLAIOJYkpiDxA3Gq12z8SJB46TxNeu3Wzn49NiPpmcDBfNlPOiqXWcpcFxVdiy8nG7aYkOj6cU6SiNnbUmSNxqKYDFbDpfTHWnv371pUj3P2/PU/jgiYmIWBhgmSsBZgJgpRSzALACQFoKbEFCRaABjcZBs73Zb7cbUQSsCYlQWLwPAAzsAgtLo93rCiodq3avFTfjtNWLgWfDkyoPPtB0MffMWaNRN7Pbt27mZTGbzefTeV4UPlgRLyDBBxFx1lVVWVsbgg8+ICF+VhT0RZjPJkprZRIQ0crYslZxTKQ5cFVWpEnEJlkCKviAYiFwcNZXdbV5fn3zwrXW6vrpaNiOdKq6N65eXm2kcbPRuLKTz092n9wt89M4UqH2KlGrvZVXrl+5cX6tARVVi8H2oBMiO7K390bz6SJOoiRJlI6crYVDmS+CBxFe5rmYZanknmqNsxf/MsTBAMwgDIElWYbWEBWZNGkoY8az8Ww+31zpZUQh1B6gnvk8QFDRiQ2VcxEysDAB60RpSJmzWLXjxAURxiDMEiIJmpQHEIBFMPf3p/TWR65efP07k1ZvZdBd72bq5HCvzuejKYQkAURiXhZwEchSPAE8s/r9eTxPHEIiIMCIgoiCSgSVMEgABEYQAAEVkMD7sBgP738w27/H1i8W9aMnw7sP9p8cTn5y+/6/9etv/vf/zd/c3NhQJgaBludUcyMz3lkTx29U1XxRVoFORgtb58ge2IJCDzDNp17KtZX+q6+8wmQcoK3DYjyLVHb94tX3P/h5I457KwOljVamlZrT0fHO+e3T4weNGG+/9cNLX//Bc+Y8RYAAIkhEgCLgWSSIRiakZQRYRJAUIGutfPCAhCgpme9/9TtrK5u9RrZz8UqeHy5CBVmCaayUJqWFNSCa2KDWcZqkjbZOMkBQWnvr+r2V8fB4vL/bSZKikc5Oh1VVeF9i4NVup9EZzLw/nIwGddM7VKQBiZmJWayPonT3+LC8devyS692+oPP2/MUwQcgABFC9J4ZmJ/22rNA6TJwyqAIQgASIAmxpkhBO43aicm0pMoYxRqCAPqgPYA4ZEKTNS9dudTsdJQ2qAlVmBdFqOYe1XyxyKvgAkdphpofP86d82VVno4n8/m8LCskjLTWWjEICPjgnbXeOu/9WSk34peUWDoI/Y2dfDK1VeWtU1qXHIQ5LF0DUaiiReG9rYPzpJUxWky0ura+0us2Cfxk2EmTsKjPbe288frXhw9u5rPjo0fDvb3H+6MhplEDIxxOr716+Wtfe+XizjrZGXqN0tQq5cmiMZrX+VQoDs6iiLNuWbMfAgcfPlvD9plgEuFlgnZJGS/KMQMAPPX9iZAImARJZxCbEBbgg0rjpNVuNR9PTt/++NH1876XRq00bqV1XNpKRDx6UblCE+FqqpoGsjTa2Vg7v9nf2FxvdhomioNwVdaz8Wx4MDoZTfZOx/uT2VElRY27x6W8e398MhkM2hura1deunI6r6YHLw3LJiQZMSKeLUfFoABQnsZtEFE9te4zfFE69rO3Z0IDATUjBgRGVMLGF5Mndx/efH9+etyPW/vj2dsf3X5885GJ+7d2Dy5vrf/e97+72u3GaRZ0AiBGpKdV3GwKADMTQpJlgHHtOZ/PhodPTp48anW6dQgeQgg1sHOhNEb1OoPRZF4X9vRklMbx+Z2Lj3cfxlHcbLUaWXM+z1UU1y6sbZ6fDvcne3vPNv5ZBCIAIFpW5QMAgKAEIQlKnR0XRFRaKVU7L0ikMMuydqvlnG+321HUcSFyJOO6hihRKhJUpCNUChUpbUipJMuiKFp6DJywQhJfKV4tFWaKe+0kX0zH+4dFscjdpN8bbK72XbARS1kHF6CYLmzwq9JzgYuqSpL48GD/8f17/fNXn7XlWSAAAhBiCMsCsGVa8LkTzm4hAwgQACEYQzFRYkyk0SBqTYZAgQAAKk1AKjJAKm21rl67snVu5/BkNFssBIIUdjrPh+OyDKpm0MZEtsZ8IQDWS75YFGXlnLN1jQheEamlApLgffAhOMccmIEIl67uc219Bs56V9UcQlmUAKhNDBIUKQEiRbWztlggKk0oAp1ON01TJFjvd5T4k71HnY2da69+jafHN27cSJJEBLJOv7OyMp6O2g6aKvO+2Hrp8n/r3/0313otqOZhMa2LSmG0yIs2xslRFRjm0ymBB9CAICJ1WXlbf2GTEUlEmMMy9uH9C9cWISLSkjUUAAKCUpiaWHOFiMokSdxYGaztHw8ni8Vbtx6lWqNSk9rVgUAgUpRIWI/Uzlrztas7b7x86crVi2trvXbTZM2UlAKFgEAMVPkqr2bT+cHJ6Qe3Pv2rjx7cub/nqjKf2Jvzg2Y66mSPirrqrK7u7z4Z0Zpa2/4iy74MX0wcZ9wJzACMWoQEUCAIsysn7vDTu3/9p7PJfGX98r1P9n740Ycf3H+4naw+OTo8ns1//9tfPb/STpIUoiaYBNELsMnSZreLOkZEhCASPKsGqub66mBnvdnIbr33LhmDWnVWemS0B9dqpGmWbje641lxOhpOhU1kvLUnB7vg1o2JkCgIjSaz7QtXRsPjlnlh2hJNBgiwDH0LAEgAYUESFEESBCQWFCRhEIoIDZGw4MHh4WqSThdT5hp1nvW6UZpR3CCdaJ2iMUs2FkJtTKy10YqQSJGwQAOCLcSWsbhUB6jydoKpdzNS+aQop+OG0d0oZlQuuOl0UVnbaWW5q4zR86JQCjTCw0/vnH/pzcufN+gMhLTUky+G4FJGAqolfRCIdzrGSBOhKFomChAEZFmJj6QVgqa0kYXAaZoCoorjorIqbkhdVL52gQXI1qF0DkkDUQhgnfXeVVXhQyCQz9YqBw4hBBCAwMueFYIgon+x4kijxmw4KqsqBEGlSYABWQAB6to7awHQRAYI+oNBmsYKJEXWdc5WCaAryvnJ8aW1zvrqYHY6fPnr3+122z//8/8KkMQygvvqN77yW3//u50WgS0FLRDEJhGITQSAtYmzqnT5fKEoCIPwsssIszwzRJ6DyNJ5CV8eHEVc1sohIiqlY2OU0Q3EBKVMU3boo0ba6Le6q7Pa52U9ysPZ+gjADKVjYKfX/jfeuPzdb79+4dJmb9CJs8xEsTYKSQEBEAkAAWMjtDqNbNBd2V6/fP3id749/tnPPvjzH//sZDKvq3Ba+pC7mx9++vKbUbx/qM4NjBZ3VsX3L4vniIOQWFhElsSxjLULIAMge/F5lY+r0cHDt3842n24tnnlo49u/vVbt9++9Wmz1z+cL/ZGR5HCNy5tt1KtkszrGKIIAJlAmUiTQRMDkggzB4UKRCh4UXju2kuNrHn71kej0ZBQt/oraa83zxdoslYn63aaRtN0Mj46PACAYjY5cXZ1c6eRxOPZYj6bhkG/0WoTvJDpKWksX5yZJgzMDCJAIkRACLiseWIWMiggEpwPEgSSNCZFlXNJknghUAaVUTohY0hrVMTLcScgAhJESFgEEYwyrWbHVyU6S41K2Joo5maqK98EY13gRS7OUwhKpNNqdhAJRQBya5U2i3xKIpPh8d69O9943pxnISwBJPCygkOezudnPQABQARBABAQQQIwgJBWkVaoFaqlrhYRliDivQfCSBsiVVf1k91dk6Sni/nCsguAKo0b2srMFlaYnfd1YEBCVILkghdgHxxzEAR5WtcQQgiBCQDlbICFwMt7sDzhl4HeC2EcZ2VdA+nKeUT0thAA7zwiNTrdOEqAbXCc15NYYafT1EHWttf2nzxJCMYP7myqncVRd3V7Z/PSleO9R6eTGUZZf2Cajeav/+ZvtBsGfRWc10p7JEFwDEHAOo9aK6MDCzMj4zMqY6nwzrC05TPg0+KOz168EAhEqBQao0hhoqJIxMSx1ayTdtyoVtc2Z8W8DOxCQGXQSVNLB+2bl1d+/ze/8etvvtZbbetmpLJEJxlAzJgSaVQYQACREYQEmIEZvE/q+nKrs77Wv3hp689/9PbHnzzI85IQioWdTRd0dByd9wqXGwp8AXGInMXOP0eIXx4cPftbJOyKcTXZq2bHk4PHs8m4Mzh//9Hh/fuPP957TIKU20f5ydwXX1u/cGlnI8lSieJgDBlEQIpiJg061kmDgUQABAAVCqCvFKEEv3pup91tP7h959bHn4zHiwuvX48breHwuKrLTnclS5WifhLHo5Pj8XA4Pj4O3vbXN2Ni9mWZzzbW1t9/56efb/5T6OwXxBFCEB/QO+HAiAIogkSKlCYiFtFaBCQxjUGWnr9wkZROm+lkPtTcAE+iNSMyMkrAAMs9pFATArD3rAyICHtEQKIoSpvNPtc1uVLKqgzTCBESoyqvgiwWs/FsXvjAojSZ4ANAYG2s4rqq2AdA8VV19Pjuc8Y8AxZWLy60BwBYlmksowpESIQIBJDGURzpiJReVkwvvwkvXZ0kSZrtlkrSNE2dqwWgqOvp1JJJAoSyritbBxbrfGUDEwJjELDeE4IIL4OycOYkgYgX4QCAQQRAOAQWEQmfWzX1DBRpMmae594HIPTMIQQRAQGlIwDQJjVpw84n3ro0Mt1eJ1Y6jhq2zBX4MBudv3yjm5pQTJuN6/PRycN7d1XSwaQ3GOjrNy6uba5yXXovrq4AlQfFhoJHLyCglI5IawCSZVQPlsPmb6KDp/gSxfEURERKq8honSUdnaBgmaauBhQU9oNBfnTyuHQlabXInRbuory50/2Db1393qubg/U2tZs+VRAnjAlCBGRYEZESBAEmUAgkRoS8DqJNjAY7qf5m5ys7F7ff/uk7b7/14ey0nJfT05MxroxXQi0Q8LMb9jxeZM5zxOGRUAAhAAACAyoGAxxcOZ4efkr1xA4P3eQ01umkkIWL9k4WeWH7jeb4dDaxNTK8tHOu12qA1kwKIyUKQGkwMZCiKIMoRVIghAIcAgozE+gIIxMqiKLo2rXrkTI//dnP3/2rn19//fWti+eKOj/cf9xsdEyUGkOb21vtZmPv0cO9R3eNhihttSOaTo4Hq2vOvVBxmLQFACDgg4PAgawASvAAgAhICEqD1kikABGAiGLF7H1qdDOJ9x89dFI344EDhBBU8Ep5IQyBUQgQVFCESoRZUBCX8XYiEiSTNuJWt7KFRIu6ttP5nKyIIieWAF1ZTea5FYzSNhmlEWrrnLUahIyS4EWcXYw/Z85nUERIy7i3wLJkAwQBEAQEABGWuzcB0bKOkwABFEKiVUQA4kU0QpDl+UCKEBXaqiq1EusWZT2e5M1+L0ubhydHwUNtbVWX3rvA4j27EHwIIsCwjMefTVqEBITAwk/r0EXOylkBAIBA4HMLGp7F73z3pcOD8UefLgpg55wBFABGYkVxs23rclHmtffkbLfdb0aKQugM1kKdHz85ajXM5lrrwvk+1WWi0RWzJ/fvHT55YJLO5sWXOpm7euMKSAVoAEBRzRCEYgAU8EKAJrG+rMr6F8b8LcEv3jtQgBEBEQBRKW0UdbO0Y1Lv2NaZt5B7UK7RbA8uXbhRVreqYhKjdCN5dbPxW2+cf/3iWifTqESAAGKWGDFCZYQAFDABEAADcUDwHpQABBCFAQyhihKtLlyJV9d7l25cfP/dBz9/5ye2Kst8sZjnAopBAzACL90pAQARQFzeV36qOz7Dc8TBiAqQRAF4QPAiXsSXp8PHHxq/cKej8cHRwf5JHYzKBkfjo4/vPu6Y1EM48hYoi2x++fxObAhQg9IEANqgUahjRgJlAAlUhKBQAKBG75AAjGJFoAk1KZKdnVWFX/njP/7J+z99ywleunYtVsViNoKGN2mjrGuTmu3zO61RfHqw1+504ygZnU5W1gbrO+efteVZmKSxtFqFEHxwrg6kxHvgACBAAFqDiQAJZem3AEuIYnP75sdlp+mryWtffVU3M+ediEfnGBQwoYbllCQi3ntC8k89e0VESqGJQEe62U7Y1rYKUTyvbagdWyBSVVE1G83csq9d7Rz7oGMVG1aKwGMUxYtFoZAkfPGW2bAkdwZhBl6uL2IEIUAQYBallAQfAgsRaB2YhZkIIq3SCKKn9T3LsKggLfUGChNAmqRxlvXWNrxAb7DR7Pf3Dke7o3HpITj2PoCwLH0jXsbbRSnFzEsnF9QyZy8sIQQOwZ8dR4VEiAqAfmkl/i/wv/pf/HvzefKf/bMf/d//v/90NK2NTtJUlbVjRO8rQjGKu+0YK4pEOjFtb683munoYNTrNL7+rW+89pUbcSS33/p4Phnu/sW95spWJ2nMy7I1WF3r6WbSAO9FCUqIMBZhZuWdV1oB5UK6Kn3tHJBIIHzqT33OMfllfHbCmaVfBMEgAgqJNShSZM12s90GsjZw6esyuMR6pyX01tajuta2/KBFkwtJ+PbllWtraZJGFcZGUIFGSAVTpTRp8khAalnnh0QITkSECNEIhAABSSsUBKXiNE6b1zsr/QvXdCvs3r/vnasrB4zCGtELekQEUSAI8FnRF6LI54pjn49xAAuGgIJIgiAQQnl88ugTU5dR7R892H/rnXfbg+3L1258cvfxh+9/4K2NOiv3955QFNuiaidqZa2pFBIpXIZ0AEGQJZAyQEpQIWlBBQLIAUgBEXuRKMYkJUapLQms9VdeefXGf/7P/mh3WH39u/bNr1zr9Luz6WkAHyeZmLgqy2ano1hsWbnKGeRqMr587sKztjwLbTQiEaKIOO8BASUAgDAiMBGg1ktXBfjp1Mi8YDctirod9TcHKxd24k4vLKZ1zYIgSIAI+Ashh4gAywpMAAEQAWBiD6gjk0TtVfKsh6fxaDQZjmpfs3OkCAizZlKw2MBKG0SFSouE4L1O0jTJUBjcC2ew5QoCAVFnIVIKHEJgOGsPAODZtMmsOGiCxOhOI27GJjGkl7+lns78zADELF6kyPM6cKtns1aTwKWR2lzr3ds7qJwIKGBebtTIZwExBiDvmZmX+Stmz6CRlv+dABQAAykiJKUJtSJCfKGbrHqDCIrf+Xvfu3+898Of3pnNQ7CVMiYhTIkN+E7DrPTSzfUrzQgvnlu7cv3iW3/541lY/OB3/+5Lr70qbn77rb/avb9XLE67g7VUhcPDw7i5Ii7vDi4rEwNbgDPdw4FAaQkgFKI4MlRpouWs96+mOF6k7QFAgV5yM7FCH5qNbKu7ooqCUuuarmHZ2toq7VStI5VlJkHpxvLaue5qSxOIC2xF1ZQkUSJRDCb2OiJNBELLjT54OY0ZBNRgGBCUABhh74MAAZKSiJSJen25fOWiz6fHOYfZaeZKUdlyHZ8so2Evpr8lns+qCAIqwSAgwhJsPjm420Bn54uP3v/w3Z/+fP3itQtXXx3PqnsPH+3u72eN5u5wVHhGYoXc7bS6vRQ1kiYgREASDMJBmM5GmQGMEJdhclySCCqDSSLswQVUGgGEXdY2l69c/vHbn57+yV9aCl/76vVOf32RT6tqkSSt7mBlPhyhIltVSOSFZ0eHWxs7z9ryLAQRCVEpQmQExRogBgT2AIJIgMv9SJEAWECxMAvm1tberWysX7i63dnecj5K0qaOjFKkKAEkoOWwEaIzrxWBcFkVgkjLGidEBMUqMq1+srKRjI9XG+3p6SSfLGxRButUrExiokCO0WittfGetdbBOo2ISBCe5id+CSgiIrhcn85Po5Fnsx8tcxkIqADRe0OckuoletBKmokyCgjh7IkWT/8eAyhFApCXpZYwnYxMjM6WDGFrfaXZiObDhQfWJMDMEs6KJ8/2wmIOIiBIqLUBBAUaUSskIY+IqJQipZbEobSiF67BSXrrUbIAM/1v//3fHZ6Gtz5+WFdV05hOZl65svO9X/t6xEEsX7hwod2IV1aaJ7v3p48f7WxstqLG3q3b89Hh7oPHrdX1tY3NtfXNJw/uiQfT7WSp6vb7aEJwXjgAEQsKIQOgRmAJoETFLrAIAPNnm9H864IwIQFL0AAx4vmVbj/NvATIorqK48THkY4iZa2ylR+dHIItVlJei8GA9+I8EKsoGC2aSBMrZE1AGmW5dcKyMBMsKgBROiCIAIMiFRQCC2BAAFIsQdj1uu1BrzOcHs32HrVmoyhpOaCAKAAkQoDyTO0GIi692c/wPHGAAVhKUAvOFSeHUe3tePazH/753dsPzl96afvi1bp2+4eHNz+565hm82KY51kzK8syRkqjpN/rqjiCSKPWS28bEFEREqIiQAWgAQnEI2kSZqVBPGBMJgQq0CjRqrSVEm5nycag//aDx7v/ZLY7nv3e97/X6W4sZsdlPmu2+t3+CnLwzpf5vN1IbCj5xfnzIAIiBICIpBRpJazIGEABDooAFYFSy6skCIAYOAAHlKCMNo02pm2qwQAoVoioVYyAATwHFpEoMlrrpyIchHk578gyoyHAzIDQW1+rF9sGoNGd7z15Up8Mg3BwttluhjIEywLK+RBCiBFjo711Gr4sKIcQhIUAkIM8vcnL8CQRi4BmQFKIoAlTTe1Yr7SSfjNppVoDABGTZkAAYBAiZBBUKiARMAAD+GALZ33g0N7Z6bQbB6czCei8B156H0ve4OX/Xv5QoAQEQABQoQKtSSKltTKklUHSRERo4MXD0gSUNOv2ab1x+tK5leFkvH9Qp0b1UnN+o3v9wtpau5vG6fRkj+vF6NHB2z/8IXF486vfoeDb7X6n0T89noqKr77+DQzuzvvvxP31+fho58rFNItsOSdEQCAihoglBJLAEJBq3dwfnty8/WlZlrAU4J9v2v9/QC3CGiX1YSdtXe2tptYWSplIm0hpRVoRAADKeDYcHR3G4DuRbqVJnBidJjpNoiRBZPSFgWUmSALGePZUkOVyVmBySnm2hV/MfV1XRYWOU6WjOImaTdHIIKIJEcaj03J8WpnEnezplY1ASUAtgCCMIPKlgut5ucixoAPxGMLiaLccHrrZ7Cd/+keHjx+/9Oob1GiPZqfe8ocffnB4PJqVblYFFZnIaFdipM1qu9WMU4ojlSUQa08oIEiEhIAoQIgkgCCglAI0LB4AAZYrEjSSZkBRZNK402g2Y2WMTxvpzfv7D47+m9mk+Hf/4Hc6WSefj2ano97KWqPXs7ZqdRpPnjzo9nuy1J9fBBZGQEEQBCQkRaKUXl6e4BQB6giUYn+2aEkQIk2DRssosHUdp23SLbDFMh8QQvBERmtUZ7r06XciIkRkoqXUY+9REAKT9xBKrXlta6dYLJh0M19MF4tQ5kFYKTSRqb0TwaKsCB0BqyTS2nBwy1TrF0N46XMBIIgIA9Nya4ynIFKICGgQYoR2GnUbSTPWRiEKA6LWipXhs21rGAL7wCyBFGCQIp8B22aWxSr4umg3MwDxwaN4kHCWcBURgSCCS7mFSmvSRKi1Ulqh0dogaJ0YUEhEIAoA4cWRUQCYPdp1DcOiGip64+rGk8P7Nm9sbK5vD1pr3XZDQTNBcTMMZbWY3f7w1mJa/8bv/u7lV87FSZyljZ/92Z9OZ6Mf/P5/sHb+2id/9We1damJ7WK8tj4Q9kBKQIA989niMut98KGoqo9vPfpv/vBP3rv5YFHUIgIiiPjl4+dvBUEkAMO40Wq/1l/vK1WDc4RnMQoSIjRa++AePnp8ejrciCSOMh1lYHReufzxXvF4aEPZbiaDjbW1cxfWL19TSVeIAGjZ/wAgArajoycff3D06ac+r2zpHUVozGAw6G9tXHj5qm40ArCEQMDldDJxfmV42HIVGSOiGUF+UTX6TON/oWgBPk8c5ARECMvxqDjdXew//tlf/Lgsim/92q/PytoJxlnno0/e290b+kCWyZFsrgxm42EjaWCoIuV+9LMf/V7zt6OVNVIC5JE0oiIRABbwDFYEAIygQUMMCsQQogLhalmJgETGRFmzZS/u7Hx871C7oUE5XSz+X//0j04mk//Zv//vrPW3p7PRyeik1x1EWRO9v3r99eFwP58Mn7PlWbAACrAgLBM5SIoYFZOwAkLQhIBSkgqEKviI+WK/21ewmI2nZd0brMdZS4nU5XyRz611pKI4So1RSMgcAjtSZEysVGqMFkQgQEJDKrjgA3tmcYECR1GKDYVCg7VNFjhNkmJ0akurrU001IHn8zlC1YxMnUWZISTEF2uOEgEQFQMCBWYPwEwojMAQGAG0Ao0aARR4oyE10op1EmmttAAAKVTGA3CQ4L344J11zuVFYW2plDTSqNtpbp/bXlTV9MlhqTMNIt4Be5QzJS8MCKA1KaVIE6DW2igdKYq1ikgbpQyhUQZBIaICIQLFDD78Ut98isa5iyjh8O5tsvMwPPr2jStS3i2LIVppNbeyJEmUEtDr29v7uzLPpy9/55uv//q3DCF7uvnO+x+88+6b3//tV779W7O9h7dvfhjF3ZgyLoZZ2mTnyAd2ViH6ILaqLdtFXhwdnT68v/eTn3/w1sf3d0+nnoVABAmWsvHFYYu/FVY5NE18vt/ZabWaAuKsgoACxAQBBIIXCIz5Yr5/cFJ5UIkyETmB3f350fHDce48ELgaCBvd1qUbF/7O7//6lVduYHPD62bQKRIhB6iq+eOD8aePJvf3o6y5feN6f+da2u4kWTyezXf3FmubDRXFkdORVw6tn+dmXEqRY9JVSFo8oDAqWRr91FuB5y/C59Kxnpgln/vx6Pj+7Xf+6k8h0MuvvxGIPJKOkk8fPP7kwZPcBS8sENIsFufQSxKpZtL6wa99//Dxx/+f//g/+/b3vvvm17/SXu1jSqA0SKQYgq8wBCENKgPIBEWCYCBxwlUNdYXOKQARIGV0lK6urX7rzTduPz5sTKBGLEP4F3/xk/lk9j//H/931/prosbT6Wm73RbPi/ms3V9T9MKOGJwjANQaRPAsSKRBIzOJBCIwiCFA4bxw0GzXG/FL5zbtZCymv9Lvt1sN9uVsMqrySTE7tXWtKLI6SrLURCZwAAlIoHRidKaXq+u1NlGk4zjEEThn0bsQAwcUJjJxknV7oLRKkmyPFJxO63rMZW0d5HXOoTa6WQQfRZFCjfRC4gjBawFkQDjzDRiWMWkAYEQAWGqfgMiJMVmq08REWpM2PgAqJUA+1M5ZV9kqL+qysNZVtUPwSaJrZJtoW9Wlh6NxPvHalgFBgwAxIiGiWiaQUIOKNOmIlCGtlYpIGU2GyCxDoUAIKABqmVIBgC8p2NMb62E8NLEuE+idW5nvH71+Y6uo6/Xt7evXrnZaXRRvGpm1bv/J4/76+o2vvAEcytzd+/DW+z/9aavTTbL4vR//4ezk+OR02OhsjB89bvR6R0ejJEmNQu8qjaCRFVf5yeTTjz8Zns5a/a1WszuaLeplfI4hwDJ6/GLF97fE9y5daOiohWRC8MEFZC/CQbyXEFhcCC54bw/39ueLAlE7YBvC7v5RBHT1wuW0nY3Gs9mkPDwZn+zPx6MP0C6oXKxduRGt7mBzDYhA2JbVYjyt5uX25ubg4sXs3Pmof85kDWVkbW3F2TCb5U2AdtqUAFEjxjHHdYBFIT0IBEoElwFSAIBfBDY+57Z9jjggqst698HJzXcP79zMknht+3ItorXWqbn74MmdR7uT0s2to1hDVXWzqM6LXqfL1nKQnY3zL124+Ec/+tP/4h//s/17j/7O7/1O/+IWKRQVqwCqrtktgDmArgMElrLI69m0ns0Wk6MYZKPXbWgScYCsdTNLw/XrG7/9G1998l/8eTEvUYkX+slHt/93/7f/9//yf/o/WG33gG1RzrKssbI+mE1m3i+eteVZLNOEsvT+RRBBLbs7yvJLAVkblAvgbFdzxvnNjz+kEK7ubHZb6fhg9+7uowf37odg45hioxtRkqQZu04UR85Z4YAoIbDz3lkrQRpplmWNbDBor6zFWaPVzEqSYiYQKiDRUYLLsaSVBTkKnBc5l/V0Ns/rmghy66dFaTQ1jCnqF7pgUbUgQQ2KlAFUS/YQABZhFiIk8YiiFcVaNxtJp9NspDERAjBpBQjO1bbOq7p0lfWeQZFOokQbTdBsRFkWJbHROl7b2Jq746ODSWCFyiijkZlIEWkiRVqTRmOMjlKKDJFGJBRNqJdeCSpFCOHMrQEWYPbWvpA4iuOjdqu9cvmK6fX1+ubLUfLxX/54Npl1V1a7jYYR0XEsAIt5fvho9xvf/0G/3c3L4qOf/exk9/G3fvAbeTVfX185ncwe3Hyrt7axyP3t25/GjeZ09Ghtc2uwvtHtdfpr640UbF3d/eih0Tvf/fUbs+neX7/74Vk2/oVz0N8M+WyK/iVsJhGJKPaAnsB7CFakCuxccC54x877o+PjJ092be1IpBQezor2aus73/1GvxXni8n29oZKNvJK9g9Pnzx8ePzk5F/8kz+++vK9r/zm3+ldSUirwFKVlXcuMSo4f7h/0NDRatYXhfVkqg00O81uV/u86gwGWa+XHseGcynLuKyssy41LBAFQIEzxfEU9CWKQ/mqHu0dfvLO6OFNLoo0bhTWmiTWJrl/796Tg6Mnu8c+gPWuKEujiILXEUFE0/kcVPZP/+yPY6VOyworeuutW2nc+I2/99vtNMUY2HkuFsXR4d69T08Odw+Oh5WT2lqFsLG2qhtNBXRw/04zVhtr/WarZaQRRbqF+J2vvnzv4cl/9aO3OARQSli/+8Gt/9P/5f/xP/xH/3C113TBWV8ppaM4GU+PnrXlWXjvlVLL7yKiNJlIG01EKMCIQkAMztQ2NiZmj1UuoKJG1u622+3mzVsf/vSdtx8+2i1dHcV6tdu6sL62troaQJrcKPJ5ucjrqpzOp5PptCxqYWy3Wyv91c7Kart70Ol0er1+o9VCFRdol4Hr5cPR0ViJoor9oi7rYBfFbFEWjSyd57mCEBHoVhPPUoNfgNe2+77m2axc1JYRPSkEWtZyyzJ4BBBp0krFBltZ0s4ypYHPwiLgva+rOrgamdM0hVTXtbPOB7CkSJsojlOlkUGt9NfU7gRApWnTgkIipZAUKTSKtNEGI6V1pI1BMrL0loRAgBkJSEB7Wa6uFhAJIVhvvX9hfYqezvO8jLvdNGPvfKfbGw565elQ2zrVKtKIAFVRf/LOW9deeWl9Y/34yb3333lvPpt95ZvfZfHFcHq6tz8fjTsq47zc6G89hAfXrl7d6FIcQzPiXjfpNLVoNTyez6X7je/+O0qFYjwqSmeiOCaw4tj6pXL71+WnAEDi66UcDMIIgEG8D955x6G2ofbh6HR4+/H9yWJWWWtQqiClC5vnz3uRT+58WtbTlbXB9o2L11++eoP13sOHT+7evH/zvZ/+6V8m3dXvbJ+XKA2MPrBlGY4X85NjzpprSau74xNjy+MTV0651xpsbGhKQyPtbqw3H2bt1IOvrq6tfspc+wAoAsRPM7IvMv/5GMf45NH7f1mNHyYNo/K4sLyYTlfT7u1PPtnbHx0fno6PT9rdfpUXVWWzOCoXi3anWxS5D64K7qP794q8vvDSGzdefeXmT39EH9xeu3zpq6vrUdMBc8gX86Oj0cOHp/v7s8lsXLi4s3Lj1Zdf/crrnbUdFCiHB+P9e8Phrveu11Ka0CA1FP3g62+++9EnxXQWEyWRTuPk9q17/+f/63/0j/79f7i91fXlrMrzRtJpJO3nbHkGYble4ml0x6DSRhujSROikAJkZEalDXmvMdbKBuAALErrpHH7w5s/e+/j49Np4Rwp2ljp5POidiHrDbSJEFUxz2ezyXSR51aOR/Pj4Rh1NBhMNlfH57c217rtyeFetz8YrG/qKHIcALSwR21Im3lRHp+M5rOFty6JzK99+xtvvvmV/UcPPnjrp74ua4MYv/C5Kj947Yb3cnw6v/Vwb382FwQCCEhLV5mRAAJwIAVxnHbbrWYzIWQCYRAOwXkfxGs0ShknEAI6ryrrnfUqNoyKGQJDbX1e1GnaMKYAnZCO0aDSRKgRtSKttDLKoNJqWa0DGEBCYAEQIAFEQQDFIAAcODjvnHfh7EloXwBfzJ1SXukyX4i15ek4SzrdzkAzsa8YtQZ1eP8RBrx45fr+o3t3bn2QrOy89J0fGOCHn3wcfNwbXClOPrpy9bXhySHGUWJopduN4qozWNm8dKUzWImSxDPm1fG4mP3oJ394erS7GO0xKW0M20p4mWv6V8GLRhoAgEhAEEBhAg/oECyz47r2ufO7w9H79+/l6Oa2FA6A6OoAKY5n878+PDw9Pm600tBYa2O0EqeKqQZwIu1e9/Te6WI2Z3bEtWITJ1nS6YtJ4k5/IXDr7uOxal2/fK4dwnjvID/YT0WyzYshila2NhpJutIK3uXbK+2st/3e8WmloNIYFH72+KinbX9OST1HHIfv/uT44cedbjwt8t3hCDBe2di488mnh8PZcFg8erzXyZqhLNj6NE4IVSNO25SUi9OYKSF9cftKljXOvf61X//+3/nozu1bh6cbP/3gla9+I9kCEAl1aVBdv/Lyha0bb3/86c13PhoeH//ZJw+vfnz7/NbW97/+7QurvUvXXnPrG/l8JOgQiFjFIFurndeuX3jy3ieaQ5OL1WxNp439w5P/6D/+z/97/+G/d369e7K7W0+LLI2fteVZhOBD0N77ZdaDKCalVRwbrbRRSiGwiOiktHVlPaMXVbk6VdTqdGqhJ8fjveEsafW089a7cRkK0cfj/JU4bXb6cZQW82I4GtcVjOf1wWhxMrOzen5vVG6dzg/Hk4ub/Uvb6w4DRqq/ts0A3lsJBCKBoSzKIi+t8wrgyqULv/3bv6U0bfWbp/sP8vEpITj3QldlxWAFAq2EL2xGo2xvupjVgQSXO40AEYEA+EhH/Xar02kmxihxsKw2ZanKsiytBMjLqrQSgnIB6uDiiLM0FUHPQgJVVe3uHmxtXZpysj8plElVTEojklFkEDSSivRyZ3QKAiEsH1lDAsCAIEhMQLB84GCA4Njb4CS8kDh0t81a6153ZWczP9jNj45ZokbSF1fl82mW6dHw6N7779/42lfyxezoeP/1731/9drXoqydD4fJ4UnWy2YFTDyMjo62Llz48J2fRe3UtNovffvvNjpNHUeQRNhIW0Jba9Oj7aMn+zcBfbNt1uPNYN8JnkUAEeDp4p2/Fb4kmO0AAsAy1koBxTLU7KyfV/Wnjx+/d/uTOkIXqdLVAEACWggk7B4cj0/nRen61Dn99PQx33y5wGsXzq1sr9f5YT496K1udvprsLzEhGmWbZ27eHp+79Gduycnp//1T96rfvJeEqtXVjuvbq1s9ZutQWdnZRM62erWViNrFUU9X0xDWdy4uppEnQ8PHu8ziyIEBAI5S7V/nhCfI46jO38dk3Y2/vTeUVX6Vqtz8+aT8bwqPOaFK4tF05jZLDcmbvU6o9Fopd2aTRZeUBkVAbx56erLF3d+euvdny5OXr50Tsv26tZmZblDGUCl5oE91AEOhqf3T0fXvvP933jpjf/9//F/c/fHP8d8fvPn7/x3/u7vfO3l641mF0DXdiLWIgP62oT6W69evn+8X8xrA7oZ4bmdzunMDmfDH//5D3/3t397ZbB58OjTsnphEEuCl+DZoxApUgRgtEmiNE0irQ0RusDWqyQuBefAgRF1nCYaQ1l0uqt//x/8Q51mx0f7u/t7rsb19dVG2lRJs9vfGKzv1Hl+MpyodGgnhXX1pcsX+1X94Z07YNCKPpkFrWdZGivEVpLhYDON4lokCJNWyMGWpUcKJkkUdZvZJx99MJmfVpMhgDqalu12T9MLC8BaoOpyooPrN/Qsx2Ie4kR5bJSWausVW1IcK1lvRldWO4NIGwkCBKAkiLdOvDIYswYRV9elZ+cDxEnUShuNJI3NMpUrIGE2GWfNtTdees3euT9lr0mU0qIyxogACQE04nKnb2ERLyICywAbAQoTApEQCIfAtQ+1d7W8eG3R9KjsX9oE9Cgu7W14G9vHJ2QUonbzelge3fno/d7WRtZpW7Fv/Mbfaaxu6M4KNgbt9trq6YS8/OF/+c9Nuzc5HavBuceHQ6PjC1deafZXs8EKKCNEaGKMElSPsrz8xrULFGsQ+OTObhK8WM+gEERQ8G+qNP8MIvLZMxNeBI+ACMuYvAdbQj3l6sF0+LPbNx88OeBminXkRmMJLFADGhGoPewv7JGLT0rhJ6fsD+T9299+cvyP/u2/PzDh9Hi8s73d7vYvXbiaUc+FzBEbBc1G+9zFq66CjUsY91YfHB20Byt//id/9e5PP/7ua5cvXrzkNSJx3O3q5iCcLpwrw+w0qxaXO90s2bl/MtwrqhwkADkAC+AJzPMa7DlTtUZj0nsPd8fjIo0b9x48ORxWDpWOG0WeD9oNZi9ErSwG5naaKmHHzigYdFLj8euvXX/j1UuvvryaO4C42Wi1qvkwiTySEiHxPk5SjNOwd9hppheuXOitD167cvHxAxvSZDIcLxaL2tlEEtLaeMNcLwe8Idzs97776rVP7+56h9vnz3f7zXY7Pgfig3/8ZNeudjorg5PD/WdteRYhhOX2KkREERKS1jqN4zRJjTGISMFXzmtjGo0GgbfzvPLBME4m00azuX31apmP/+LP/6jfvJykaRJFWdZod7qD1Y2s2dKkWu3O+sYWqUgb3Vrp9cvKFgvSZnvnqi1LJVWj2U6bnTr4RT5vt7qR0kGCFxb24us4UqqR9tN0td+lOO71L3x8elJ5PjrNB91y0H2hkqrZnYmHYOPg+omJUNeikAF9QPaRgnYjvbS9sbnSSbUQhAAgAiIiAkkcU6I8gIniVsu5wLVnrXUcqTTSkVFasdagETn4k/2D1e3rly9evnN4tKy7ZBUBKwIhCCxCzEEkhMAsALLUF0AIQIQKAANgYAheghPvnK9eqKT+8T/9J7/zB39w4dr5CNFh1B1sDNuteV0FX7PA43v3lNIXrtwQCGvb57DZjFsdanQgbgeotUEK9epa6+jooJUmw937vq6+/mu/ZbKU0gSjGMkExxFFaJpZbzOJmuv9VQcVMLN4D8vVKQjy+Tn2y7GsmPmSFBgAaDHCHAJbz/Oyvr9/8M79R48OjiZFGfW75azwRW4ryxIQRWHQBETIHlxlfVV3m+n161eY7dVB5+Jqt0ns11eMK1b6nbWtAWQRKy0SGD3H1N7eWLPuyeMnVy5dePn6xXlZq++CBlzvxGm2gioBFSWpbnZWp4tPsZcF54P1JuW1LOpd3Dmfu93JZDjPF97VBI5Blimmz2x59o2JGgeHowf3d03cGJ4uDk5mLiTtwUqQUBbz1U7j8HTmJLSz9ulw1EjicpFrjVurvUFkDMPORq/ZN53OWhCCOKM48iEC0oiKOQByc9DjrHFDR6sXLh1P5g/f+9Hvf+eb/I03q9q20uTi1nrS7WFMYK1BZABAMIoIuZmYa2uDNkUff3K/EanV3kpRRVEaiYmOjo8EXBi0m53kWVuehfeByIsIEUVRRIq01nEcp+nTPbucLW2t48gq5UVQKaNjrSVpNBrNbDYeLSbDVKF1oLwHjYNee/PcuShNAEiQmu1OJy+883EUzebTKPBXrlxO0+Zgba07WGlkcRSpLM2MUgiKQ1BEAUCCREq1Gkmv1WwNsswo5NDvtHSatnv98eF0WrvD4ajTWP+8PU8xteXMWWZMTbS5opRahLIAX1VsY3BI3IzMtXMbO2v9JCIFLIjCvNybRi/LOwBAAkVKK3LMiQAiKsBlbYtWJlJAojAgsN+7//Di1791XNZ709yTYUBNgMs9TgUYgJcbjZ6FNggAEYmWC5QAIYh4EC/BBVcH/2LFMdaNP/7jv/jm8euvvvGVQhZVXc1ns8oWjUbj5PQ4KNi5csOoKGlGShkVJ0IYHCsDBNjvrx7e/uDll260Mn3t1a/e+eB9u7Pxrd/+zd72dtzpmCQOgYnJ56VJe83+etLo2LpWMYFwbl21jA6dlfyqMxr5l4AIMwOKLJ8p+4W4c3BSW3s6m59Opyej0bisZmR8p4Mq8tNF4YJnLxxIqQBgFLRi1U60d6EZ7Go3u37p3Hq/2Wwm5y5u2eGRdLKdnY0HNz9uZBHFxCmAEiyCgNgYs7WVS+325uWL+XxWTMdB8Fvf//V2u4PBa/AqbXoyQLy+tV1UQZUscFZyFUFIRRpJsrmxVaz6cVUvnF24un6+EPE54jgdTw8OhhjUfFYfHk+DmCROY6Pu3L3XazUkCJHu9zvsytVu07sQFKWKd9a6VJTttNvtNI0BStuRir0iJmQXyGQAyjsLBlUzgUazs6Oag+6GBxdYkdFKBQDUOm2kih3np1SLEgkiROSVUhSQOQohJf7q6zceHxxp2mw1kihJkk739P4kybJ5Xhyejn/wrDHPYBndWL6mZRbxjDjSNE0QUSqMrYnTuERwAI2sqUn7cpI0MiBotzrffPNrDYDpbAaErX6n3e0mWTOKEmVitLbR7GxsYLPRODk+9iGwDxwCBuuKudRps9cdrK/rSBNhqD27ZeKehUNkzNbG1qC/1kyyx3duj49PVJasJIlptE/mR0WQUV7mxQuzD7MiDwEbjaYinSQSZQZGMpwuQlwHjRHS9ubKpbVeM0ItLBgCCQqACCEHFFwupQVRGlEBeFBIIgKBFZBCjEgjCwsCaAMhP96dH65dWO2MynrhgRm8AAIgLKu5RAAEAIgACNGAAAACasDl6kEv3tq6snVp6zL4FyqOeGXn/kfvP/jg49W1P37jd36XXaGnx6lJTo4PKmfXL10BAY8BtWIOFAKGINZRFMr5PE2jKDKO3Wtf+8bmxs6jj99/+fU3NrY3TadRV9MAjkgr0ITgi6mJ4qzVseUpW2/IPHqwX1QOwaA4EvCICPQvzx1LPN064AvwX3/yCQCKQh0Zv9bHAKq04XQqUHkfPDAhGFrWaEqsYJCqy5sr3rqXzm+dO3+u32qmidncWj936ULWzhS6e3dufXrv/t5Rc+3NNwa9LiUNBcAorLTXBlXayJrNQQ9g2wOxUgLIgZ/uzqYAaG1zPUnTkkPwllBACYIolkiChpAo6rZSjxkDCrw4OFrk1cnxiXPJyXBR1KC06bWaDx/c1ej7/c2D/SOj09gkla+bqR5Z60AurbYHK40xOKs0kwYmUYa1RhBkDjaYNBUGZ6tIo8RamqmKEhXSKEiwATwDAGqDUQxEUnlCIkAQkeBDCCjsfT2ZjGb5HND/+vd/8533393e6h+fnlJikjRZX10/2D3YWhvESf9ZW56FiHjvRUQt6ze0joxJkrTZbCRJAgCioQp1XVZ5ElUAHrFcTGMpk0ZifajLRULJay+/kddl5WzlLROmzU6cpKSU0iZOEmExcdrtr29snx9PT60tFamVdnt9sJlmbYo0KmBxWim3NFkABbSO2iuDSKedRvP06KSaL5zznoOKk8PxtBYsrZ8XxefteQpXVrFpKjDOB5PASqeZtcxq3jwaT8vcNZPW1tpKFoEObrk9lDAAyrKiCQmW6+IU8nK5m4qUZ7F2uY8UIgAyAJAFBaTAVdrZvU/ev/Ktb2y0zf2DKaABMgEAQQnxsmPxci9fREICBF5uKgOKuWau6mpe1fO6XNg6/5IBSZat0CTAJx9+vPJrv331/IXp0X12Lmm31i+cF+99XdfiqcwbkVJVDZHTKgea2NkpFqVJs9X1tWa7ba3Til796tejCKr5MVrLNmelGLUSFVylVavbbZ8eT4PgfFwdPTlSgTQACMMZJT43Wr4Ey3q4L/du9M4mLBlWRKwLZS1co2cdWBNHmivxBCIcFGKq1Uo7vnF+sL21vr611Vtfb3R6Saulo5SIfKjK6ehwf3e2mL9153Gyvvm7UTqcTnNnb7z5mlFdNCQm8sEjsUAsQAABxIMGEMXBBRSjsdNtNTuNSIe6nLFyThwgECAje+VBiBgTQVgSqP7FkzqeVxynk+Dp8OhklnPcbG5tb+89eBQbvbWxPjqdMGKr0YiN6sWdSTVm4sFKd3vQjLNkeoxp8LiUqsEKBgBBZnTOxJkIGGaQgIiilKQKGLmuAAMajaCEIlGKgwfvsK5UXUFdgnchhLwoxuPxbDHTSdxt9ilVJqNrr70c7e6eTmekuNnMRscnRFjZ0bO2PAtmRgQQQYyN0XGSJGmWJEkcx3GcIEBQnLmsSos4zebGzIv5aq99brDdXRm4svYl+3zBoSpdWdi6ZG+StNPtx1FKqBVFIigsBKQi3R+stvt9UqSNToRiHUkgrgOLF3CArBACAHNw1rHn2GSNZltrs7F9jr2PY9VqtSu3O5ktEAkQqxcXgCUmBoCqsstNhwV8GhFSGhnlak5MEmlU3ikNwPR07mQAWXopAsIsDIEEEQAQAGR5AgBAYB8cErBOA0DDgPGlnR2Mnnw6WL1woLy3wJqAwCMQ0PIPLFdpPR11oACFJQQfgg2+cq5w9byqZq6utX7h6tiQzzqrawVzQqZ04gUZoKjyweYmAOkoiUzCzjnvy7xQlChdofYECsr59GSYNvs6bUdR4+TofqPb7w8GVT62rjTOq8igiYOA98GbTquXeleORqO4OxgeTWYP9rbjxkkIi1D7ZWT3xez2y/hy1gAARkIFyILCGsh6IRECAQkQAgIgOw2AAQgxNtCIVDOm9dXWYNCIW5FqGJ/oYIwCQgpVWY0Pj7vN5uHB3Ycf3ytff/3OzU9++Pbb/+H/6D945WvfFOW9YtKk2FBQIqRAUECYg3j2FgiESceYNeJ8elLOZ1Vwy+3MPRghBAjPX4PnLsVzxDGbLGbzPC/rQX9tZdAdDvcLV1y5cpFD6etFHOtOL2pQXM5mi7zUSbTVjc+t9U7QPD61b6z1o+AANIYQUCEJsMe4gY1+cIWqc0AB0SggCjQo0IYRkWKgiDBl66AYYT7DfC7lHIs81L6o3HA6H01mIriy0uus99Nu9r1/8Acr5y4VOs5vvQ9Ssi27nRaSYPiSuBSLgIAgSKRVmiZJ1oyz1MSJMRpEtESxSeMoSbIkazc5MZubKxcu7nQ3dux8sTgeWWeZXemK0lVlCFdffq2ZtVFIAkgQdiwsk9Njo6jd6acqUqCJNSF6xxC8OMfOEolXloG991VZVFUpIomJ0DsXfNJs9re2s0jXdf3w4KSo6wgFRH1JhWXSSoQ1gPbsXVmAx1ibVJkkMjVa9p7+f+z9V5Nl2ZUmiK21tjjqStceOlJnIgFkISGqUCgUqkt09dR0Nzlm7OaYzdBoNCPHOA8kzfjANxr/As34QGOT7CGb0z2quqdkl0QJAAWggIRIpIzI0O7h2q88aou1+HA8IiMjMxIAh4/5hVvYcb/u9+59ztrfXnoHRG0jc1dByMIRInSt/liQBZkDEgASIMNZ1x1kJkQQL4AKKCWJKkqojXgMZn5y3BtvKxYkLaAjMmAgUQREeHbCCwh0SeaAGJlBYvDetU3rK+fK4GthEX7i81rMj1fWL4An5eDHX//65ZXfyUfD2CSAirBLaycGFaLnoJghtq1IDOVueXiiIqyOVuvGJRjFNxeevkIamuW8qmZ5kWMAbD2jEkWQEGiyuQJUIdrr715L5otzYD3yklRABcLwM0dVAEBEAOBjfBxnbQwImDkARxIBZK08YkQCIE3KoCZINLUJgXjeu3+Y963JzEqREqfEGkADagQ5OTy+f+/g6csXv/a5Tz/31FVU6T/8nX98+aXPpGigdZAHFkegNZMARPAMQQGjeMUeo4/ORwAx3BtmN69NVAg1cMrcj54p8dFYSQFA6GxhPdZk4APEcf+g2Ts86g96a+uJrxbcVJsr/UGe7OweAKkkzUfjAmt30rjUDkYrxZXLmyrRi0lom9jr5T62AikrRaDJB9cGPR5IknEzkxiQQGJAjhJDDEEhKJ1Gk4vOkSO2S2yXUC2pLbmpfRvrNpxO5kfHp1XdDIZDa1WxOlp99ql0ZZOj7o/Wk6zn3WLUSxPU5XK2ujZ+dC4fgJzlYCultNbWGm2U1tpYbY1mjoa1NcZqvToebo77437/wvpwbXW03hue3Ns7uXtPQFh83ZbzenHx6adXe4N6MQu+NkbHENJCJ3mvLie7t+6Ws3IwGCY2N8bYxBICMksMwt5775SPwnVdhxCQiISFvYsuSZLhqLe2Pt7buXe0N33j3feEEBUysn9yPw6TZJqMsda7dlm1wUcC0CCIqBBAgUJWKgKJQOyclgLcpXwDC4gAgOqqXYRAWAkHZgBgiRxRJ9ZoI6Fl59rgIEAkWy9lOXUNG4REsUaR7sQ4QAAAepDFgIAgAMLCMQYfvPfe+6Z1rmHuKnifaAWsrp9zzhV51tYlA7/x3e+88uymUgZYQAsrBK20VrEWIIwh+qZVoQmu5Xo+HG3EujKa2uXMN/XK2oXgXFuXHIJBFRuHkETUZHJdbACQUZwYOJic/vCd9+ZGtwBlG0ArZITHyjM+FvIg6eNjfBxPhCJUBACBlDddcEQHkllVHRyU/RxHRZpmKRmrTaK1Q4XCEMA0mE4qfuWLv/yFf/DLdm2sxysvXby0nE9rpB4TMgMFUcCRgAU4inhkj8FTqMn7CIReCpOHho8mswv1UvX7AEhcKowQFQAoQRXhTP14REf8AHHc25naxOYZWKqns6UGWFsduHZZ1sveYCDGrI5H92c3I6m14ebayKyv913Avbdu5ca0oT04ORhtF8CMMcRlLRLUVh4JObYsUViMsPFeOHLrkDRYLUYFUjrUGJbYltiW1DahrRvP86o9PD1tnE+zIssLIhltbNnx2vG8mhxXblqKyoz1VmFbTpC9sR8XRWdmpZTWRimllDJGW2tSa63RwsQoPui1cT/fHA+yZNQfrA6LYlAkANfeend3965RyrNblvPGtxcvXr721puJTdJUa6UAYDweFXnPALZVffvoeHVltV/08iw31hprjNGGUIE41zbSCggC2iQRkLZpyuWirutz585pbUJw2ui7u7snk1MhAELGGB6rGXgEIaK1WpCVilZDCBKjB2BSBGdWQ0SF1CW5AzAIMIHIGWsIILMSABaIUQBROjFTEsVJQI/VoixPpyF6SZMsXVFZHrho5rHhhMhQRIWAgqDPVgsSAoCwgEQBiZFD9M77pq3bugq+YR+BI7EwP3FeP/rON5//zOfHm+fTm3a4ttm2vHvnYGtj7LPa2lznPSStmHOrXd364JmDjhKbajjo53kS2aHoum57gwEqdK4W4SzNYtMQJNrmSJnJ1+zwXHW8A1GODg6/+ZO77x1P8/H48Gh/HiQqQwQSn8xtHwURRqTuNJmPR/cbhIhdZgeiiLBwRAiKIimNqo7xtPF99qOjyerosN/vmTRTNtVaEaCQvvrcc//z//x/pQV64zW7vV5ltgRKMUnHCiBiVIlANCEAC5CwIDv2LYUG2YNfsnMSVfRUaKu1uXc4Ca+/kW5XF1c2NsdFliqjSQuqrqsLdwl97+MDi41j6Od5LzUQOcR2vLo56Ofv3bm3ur5Z++aZ554pT4/n80XaH/VSdXV702o5beD+/unFzYtVUx1ODq6WWxnq4GpuPaXWZBkojcIBALWhKHE+R4Nt3WohmwnpRCGBq6Sp0DkMMQTfBl+FsGiqyjc2T2yWk8bGxZ3be22ysjtv/+0f/vn9Oztf/cKnP/+pi+XxiQhElsVi9uhcHkVXqEJEpitcVcom2ibWWJ1YLUKoQBPoQT7M01GRD/KsSDOdJwbZ5unB8aESbqJr2rI/6O/v379//yi1dpwniU32Dw6axl2+cvXcpctZUdzb3ZlNT1eGo0Gvn55FfLWx2mgVOTbeJVlq8xSVcjEwQutdVdV7ewfr62tF0VvMyte+/wMCFI5KKRSRJ0vvwfF0c2uUEwC0CJGDF0UAXRwEupp8YQGFD9L/AEEUSOf+IgUciWPkyBJFSIXgGZU2RqMKIdR146tGUENWyMoKDs+BGUtv3MYUwEAQjQgADz0kLCxBAABYEESEY+x8ET641jdVdI5DC9GDUKfvfCQSW0yOD01q17a3Dnbvh7ouExkMPrvCDDEgMBBEUhpQRZEQQCCEAECoDDOaLPUi1iZJlscYynqRD3pKq2ZealKkojIYfd2c3I+LmROzO22+8fff35tXV559ql3OANgo25TLzov8s6Pzj36MJgWdOfO4IoPYUS0gSMysyrR2DZaOJgpyhuzUjQ8nq6PjYjBI817UGhMQNFZDMixQRGtfHe2xTZKiZ9LMah1BC0AEYBCRIEIoDDFAcOhddBXXlUQvrNkJ1MtnLmz98pc/N10bvFv7d++c2Du7PR3HeW+tPxzkeUJKI6UGhr31h4P+AHGM+pBpGvdWj09PimFPNNfO2zyLCMN+sdpLd98+TJOe9PXl7dW1Qe5UvH7nRgzRohLxd+/fefmpi5mPjFqMEQMQAk9nUlVaUJk0Rqhmx5Aa0x+2k4mOQQOAbyQ4cR59EAYnUAO0EAL5JLfKGjKqapudw8lbf/WtjavPP/WFX3/vzuF3v/fDlz/zclT5eD1pGvHlxM+fSBzGGBFBRKWUtYmx1lqjtdJdnZugNTpPbS9NBlnSz9J+mqQqxdQAxqTI5m3Jbe04KI0rGyu9QW9Yt/u7e0d7i16v3xsONze3dK9go41OR6srt65fW8ynw35vVAyKrLCJyVJrMwOI2qaEqEgJIikVmYH1U089F4IXocW8/Ku//Ot6XqXKVG3QAJ1D60nYPTw2CcDIKnAQvUgUhogBGBQpJlCoRJAFH2xyoKhryCJKIQEgMquOSyAAe2adGm2MAhBRQMjWsDJ2fTu7+lTpEubUmUzEaCZNgsBRgyhEge5sx8gRkQhBOMYYIscQ2rZ1vm2ca0PwwhGECYiePDGlzeH9nWLUW1nfqMt2IbN7BzcuHx9f2OyHZsmuUNqe6Y+ouG0lBCEbCH13yBaoCAAKtDbBhTTNSCkBNP0Bej492Rc8bLxP8pH4eO/e/rd++Ob9WRk1UJJsX3129ua78cyvRIidDfLTgUid7vBAvXsyOm1PhIWZ41nJtggwi6sX+/vUBgzkDM0EDIuax/WTeuNkMlidp8VcGStRfBDvHHkXuQkx1kdzxTRa33DjYW9zy/THdZp4IkToGmoBsJIAHDB6cAFaFs+Mjps2uuVYtaPp7UmcFld/cTrcdlzNeTlz7a2DfQkcvVcAStH/8dd/7eEkPkAcg37SK1KjtbWWhXvj8aKsBytr+/fvv/LyF/Z2b6PSg2JQDLMXnr9YL+aTqVy7fq8/6Lk439oa7h/s393Z6W8DFn1ldXVyEtwbbG2cH0JdCSatTtiq1fPPmd4QaleenuTCyDkCoXccnbADElSKFGVZCgioTdk4L7Kzf7g2HjZHB3/xe7/7ozeuLTwvHZu0lxHkvVmxsM4/8QH306QRVolOE53kJk1VYsBqIexqEii1elAkvSwvMlskNrPGUopaA8asPwgovq29yMpgfWX9XDEYrnhG5MlEee/RqOHKcLS+XvSGCHpt49x0Nrl/7858OSt7y2G/nyZGaxoMB2mW5kSEOSFHVC7G67fvXnvznV/72lfHw8FyVn7/ez944/W3iAiJWISZdRfXfAI21wZpoiEKgFKIRmt+ILUigAAiAFEAgBBYhKDrNIXCAAIsEIQYEJQCFOcDKLJJRqhZkIk4emVw7cK5K5/78rHK3719GtgoVCBdFEUEGABQqNvbABg7Q184MosIR45BgvPetxw9B1ZIoDQhdb/4kdg4f/7oQDhKvz/qD+fzyaRhuX337vPPXU6TVKEGZpUYZbQySSDl2oY5CnIUicIYIhhlbIqESow1KUsMISidooHxRkGkJqdHe/vXbr23s3ewLAMEBAbojda2Lz9zf+dgOplSZ9LxE4XqDJ0vB6HLqyQFH2OqdC/gQ70jSqfrQRD2kZ2f7O7fv3aNfRCKPqBDmqPKFO9P6+3Txfp0mhRptJT6Yjldunntq3pyenL37p3yuEzA9gf9zcvrz3/us/3LV+z6BuQ5KyOikGOX6gcQhSMhE6AXICCOMuilYSo/+stvlOe20q3nqdhiUkpybxUCoAiKSJSzYuEH+ABxKIWDQWES7A2ydrFM0swJVVX77LPPa5WUpUv6g+m8+sXP/cLx8T1M83fvHrVNPLdRJCoKt/NZ86M3rj1/4bLVCNFjVR/vv469JBJo0+utr6fjcbI2hjyPge3KyDXldHZSoEsxJd+EWIW4BHRKi0k0UKZN4gLMKziZztoQPvPCC4lJ/+uv/11TLhhUVdWKrLbYH/aqiZq4JzJ9z2oSo1ObJMokaBNlNWgShQAgSulebgd5mmdpkVqrtba6S3YkodHqik0Tao0KkOd9Ywtt8vFQhv3iwsWL3AYF1B+Me/kwzfsiCOPRxUuXjKXde3dPFjNUyJRx7ZEkSQ2SiMQYXNS6at03/v61v/qrb964f/+pixeOdvbffvPdhLk3SEgRo4QQVaI/Jsh3fnNotUYBiFFIlHiQIMKd3SxIAIIQFSIAEADiWetxJoiMASCCiCAABYiB0eiUGAmRQYEiJE5sevHK1sufevbGSby9U8eGFTB2wQYEFgEWJRwhsnSOV2aILMwiEjn4B0ZKaAiD1ojBAkRFGPGJ0Yc0t6OVFWCeHR8nxl59/qXTySFmw4OjyaB3cbmYFzgU7YVUpMgaiSyxECIGDuxACMSIoEQga0mRqzySRqtFGFBFDkqTTYvtZ5912Wz69b8jowTo+ttv2bSnrSbFMcpPZw0AAAEUROiKSUlR52D6SKDAWUyTGVg4BGHmGMWLFoWR3ekMWh+JBSMLRoRI0ESYVnH/tFw9OYWECg3DvLfz1m1qQYPev7fPMd9+6tm2BSJ4++27e0fffPVXm822Sc+dl16/JQMCJCAiwsDEgqxQkAhRi1JrG2vPv/SCSntTo6+laVQMbCCwdKeYAAIC6Ic66xk+QBy9PBkMBj74pm1X1jaFOTc2kL9y+cJ7N2+YPD09mT3zwnMVL+d1k+jRu+/dPre5mWhcXxnFpoRAN27sHDfN9sZKUy5NYser55wm1cvTjW29uklZIQgQG+AaUiy21yd3lovdPZ31tETwtXcVEarUEHQZo75qynmzPJ4cDnv5cDDI82G/PwQBjWiBEpugDvmonxRZv20encujSKwRYp1lJjGgiBERVVfFqIjS1BZZniY2s9YaY5TSpFEhMzBz0e/n42HlSh2lqav3rl0zxhgF/V5vPFqzugAG13BTeoA5GoixSawdDoZw/tzR/b1ikKVJEjyxCACxiA8eo4pIR8enP/jJOzuz5eHffKdQVBAM0qQ3HHpmEUm0phg7t9nj83mAJNEQGVC6zQSgu3gfHel076C0IqROIxAEhcSRASICkaLWB6WU0joyd4dwS2QAalzzk9ffvTtTvrfZegXKAKJwhLP4vgDEGCUAdO2SHyj2EtlL9CHUTbts2nnwtcRAijQhICh4P/7yYYxG43I6NdrWZQmk6rYKrezvHDx1fnNZVsm479smsYmogKQISGsVRZAQg0iMrIiFBZTWShG2TYNAKslVloIPXLcWjQu0ojcXR9N7e7cOFvNivL44nUmU8dpmkqQc2dhU2oY/puHrh9BJ1MeYNsKdSSKRuWv0EEMILnjvQwghRIisGRghAkQUh9IyO5K5iwfTanQwiQr6rnV5sXfr1iAfXbl0+Td+5zf725dNsdIEbXv5YjE7ObjdzI53905HOh1Yi4ZFkEEAEIgANZKJKkoAIURlt65eOXflquutRaBFJR6BVAxPnMQZPkAcmVGpMVXryiasnh+WVeVdfOapKwf798tqLqi2ttavXN68c/facLhx/dbhfDrfXOmnOioJiMART05OX792e/vF56yi++/cCpJvPft8vjGAvCcmiUjgHdZ1DLX3gRuXUBqbaetOwWrxTkBEa20SJQ4IWx8cx8OTo8VicuncVr/IyqYJLISQElpmjaBsktnhxvlL9+vFo3N5FIVVxmS6yLIs1cqwADMKAwokWhU2SY3JjLXaaFKEBMIQgghE4d54dOmZZ944Pupn5vR48sbrb84X5blzm3meDIYFKTXoDZvG53lOxNqqGLCqa0QeDvO0ZwejvlHGNZXWVgh89D4EYg4Bbt7e2T04apkIiQGVUUor1LioS+e9BjrLPn7y+SMiAQBQRCQyCyATYJRuBQPhmd3NXVt+gM7sQQCJkQVZGLqcahEAEIlty1opBcLQNRkGm/Ug7Tcu1suWVS+CAEcBxQ9sE2GOIIGRAViEY+fM5Rh9DK1rqrqZl/VMolcghqgzxEw3tCegnc0pclOWzkcmUjYf9EfTvZv7+6fDXOeZRuF6ueQYs7RAQgBFhgQUB6+MFUIkEoCmKsW72EpqBuRsc8yLe4f+eCaOtba793Z/vL/z7ftv5Oub1g7a2jd1tXPrRlUuEdF9aB/qeAEAuuhJRxAIQAq7ulhERCJtnvi8AAARGTqfBjNzCCHEEGKMIYqItRYBMLBSwMwNgAKoBEvQkxb2TksmWatLLgZpYgB4Ws7laKcxvscbOu2LGY/OJWvnX+AmVq5pFSAKQgSgjuMRicgygSgW1bKAztJlKTNPyvYa6LlqaaOgMAp2AbJHhv6B7z4wybVhL0/sjZ1dk+Z100SR4Xjsoj842h8OR4vF4uUXPrW3e8doxax2bh+O+30LcZClGgJqqKRFJT9+651f+s1fH+Z9SXpvvr3be+rz5f3KQ816QakVCanFtlzO54uT/V033f/ci8+lBgFFRKOxOi0AFSG72DZNXc7nJyeHqTHbq2OFMDmdzGYzABgXuRUXfeOSxCZZUqxeePr5R+fyKApNCaDSNjNJonTXV5GjIECqdWZUYrTRWpFSSCRdNDEwQBQhaz/z6uff+OFr1qrtzc2V3up7N24NB6NnXngqH9ggvLm1vZiXlvTk6HhyOHnrnRuL5fyZ568Mx9mgVxS9VBhC0ErrEBljbEOL3tYhXrt+s67aFCRFSsgYRGtUhFg2TQxCAiAiLEnee3w+D8DdUUyRGUQeCQEwMIECAALsYivdz/GBBgIiHKOIdEtBWFhiXdYnk1mWpVtr49b7JO9laXZ+fRX7K0eS10GzCAMDsLCIIIAgikAUERYdQoxRQgwiQgghBPahblxdVXVdigSNwKKV0dYqVFo/kTegPD1lFyIE0paMKRdz9rX3/ujoZNxPV1fG+Voe2lYBekBSWikloiUG8UEIAIgsRV+Ws5PyeHJy9zRT2zwjf7hMGtAOrCpCpl2VLht1d/d+trl2ePsmcwSCg53bIswcufPykgKA7rq76JKBOisGkRAZEUREaY2ISmt6bL09ASIiLJ0OIiwhBgDIhz0wGjxj9MIRQIKCOqqS1czJaR3srEqEySFEnLaz/dky3LnDEEMU0Hrl/PlnPv3C5vkrw9GGzfMkT0UTIyAIC3S0RgpBoyRCLBKDkLHDTBUFaz2rKLKx3Y0460T5gRE/+t0HnaO9zHu3rOrNi1sxChIWo/6NG9f6vV5bN88/9ezRzv5iPls7N5jPypOjkyzBlWEvT6CtFxIb5jbN1Hvv3bt+/e6rn31xdePi4Ejh6pXx5QsQIHoRq5Z+4evpzZvfO9jZ215fefW3Pt/rMUxOlWuljCRi0r53AaH2TRtaPz09kcCbG1vjQS94dzqbVE2jiDKrlDgAP1+6cVoEsPn4yqNzeRQpoZBCoox0pk2qTScHBKiIjFKJUlopRYSA3S7abcMsACBXnn32wlNXT29cW+uvbI5GedJ74923b7x3+/xTF1rhOh4fH534qonLVppwfvPy0199emN74HlO0pLCxrXdO8XIGKPzARp3vKh3dvcsYaqAYtQAShsFWNdN1fgQUKEiAaN1f/x+DOxD4M7yePD1YZE9e9hIZ07WjjqYIUYWEAAFACLMUaKIc66uS/Gu11/ZPn+pqWoW3FxZ2zusQoSIEEEYuqgAAgpIFOEoHCK2IXrnz0gFUbxEL85z69i1AcRFFJCgwRAZTYBPrkDf2Drfuvbw+KRyjS1yY5r+IPPN6Pjg4MUXnnetdk1UCTjXaK0tKUSM3kfnYusCogqGOLRhGetZPyvS7VF7kk2X87V0tV/0eBGcC6ZYA4B33/zL0drm+sbm0bs3TD9zDc+np3XdCLMi1S1qROzoAx+gGyQiIWKnORlrEUkpIqU/xsfxGLqwVqegCQsA2F6hi7SdtsQingFAiJxw6bFUUDZc2rDULrPFaDTaXFkdbW2lgzFiFr33MagsKTZW8pURFJYTLYZAaQaQGLq0QAACBMCISpHV0UPRH2ZJgUVWYnvgsCRwFCJZYqLutMMHfNFpkg/xAeIwJj8ty964TxbZy3iw8dbr76a59q49t3W+bdvT48P1cyte2sPpsqz9eLCiEGLrm/nSKPRtaFs5Pam++a0fvPzSK7GavbS6ffK911U0/a1tIGzmi72b73I1X0vy53/p1bWNvkmYfSU2j4GZiAySCjGWbds2tZ+fLMpFuTLqb2+OiyKdTaruvIWUyAClSdHWrSlS1y5VAl6emJodMRoiE0Pi6xRCaliTKACjlDXWmERrozrVDLsgWQBAli4ZISa9/PNf+crvvfeeQ2SDa2urX9SvTiaTuz967+T0NEnzwWj49FPPXHrhaq8YJqkhHaMsy8ZzIN/G6BmABMRzQDYhcJD68OBwenqiEACIOUQEZt00IXBoWlYmIUBCGa+M1y9cfXw+DyAsAoyAhMTEwsCIsYt0IIJIZGAJhKiVQkQE6hhRCIAisCCAgOr02CzLz52/EHww2rz0qZfPnzsfgvzkx29m6xUq1XqKIMAhIFKnbwgwgDAFhhBbH0IbmYEiKxDGIMF517auy+PwDRIHpshJkAgIyZN7qZpeOts7yYuklaap5+uXr7qVrUyp8vDO4a33Ntc2b9+bXL4yHmTOuaXCVMSpRIuioMC1NUlrIJHgs6TI8yEO02oUUII6bGNMfWwRQ1TNPTl5d3Lj1V//lWp+ahQGscHVgMggShsRgXB2AJ3EqI0Zr2+eHu0H77v4KREiklLYaXAIjEBa644JPhJIKFHOgraICB33ABCA1hG0Tnqjza3ldA4AIBADdgl2DrCKMK85U2Io5EXYzO325a2Vq0/la9umWAFKI2llFQBH9KHrcS8AMWo4ix0iAFGXDstCMQAEZbHoi028taeMx7FtdCKkiBEABLtRvD/89y8fI45l6+/s3LUrq6Bobbx27/ZdhbI2XlEaWuffu/7exQsXbaIj6Dt3b3UaInCM0eVpNp9NWEhQO26/+9qP/oP/YP+ChiQsn1/bro+P67r0mTWJenpl1CpvjEl6aFQLgdkFEokcQmgNAjvnqnoxny2mi8nJtJ8Ug43x+sZqYixSU+S5BkhIJUYrjdG7fjaOiCw8OTl49tHJPILKtYUhLUFaR8yWMFOYWeplNktsZrVRShEpQgFmZhbuglAiEZAF4cVPf+b1F16c7O2JQUNqfXXlS5/9gvOhrsosSXRqRWM67IEi56sQowRMbBKJmrrutFrp5AYgxNhU9fT0uK7KEGOXqMEKA0jjQ+NDAMw1KeBBMbj8wmc3r770+HweoKMNhaQ1MqOwQCfF3S4hLAIABIiAKAAiEiJ3/4QFpDNwhBCUQkRKswyBANTp6SkhrYzXLly6UFfN9oVndu8u2HuO3qNWEhFFAEUoCvgYXQyt903LQZBZI7BiF6KvnfO+dd4H7zn6VlPwkb2BGCF9Yi/VyfS48fXh3p5ojVmeD4ahBtdU/SJNDd5+540LTz137a23Xvrs+RQLxMYohYKkSYtxvhUAQLQ6BYAQAmKbDtW5Vzaa+4uDm4fN/DQr7Ewf32rultim1mKa91dWT/aPALD1ToS77B40BgC00Uk6QCLv2uiDSHfuxBmQUCmlSCGhUhpE4GdIG0NEVISd2WM0Ka2M1jYJWdY/fw73d5tJo7QAMBMKqiDQBFk4SSo2FFcGrQCTIZ2nkibeKLCWVcLGGgIFQULLMQBHEEaQM7uDQNhDZ+GCF47aZibJRCsPNHFQRmENxIgMDPHjMogeI46TqhZtlUl6g8GsnJ/Oj69cvlL08qqq3nnnrfW1zf6wMEly+87kYHdSpKZIIsRGIbRto40lbZezkgl3D/a/873v/LNf+yVIKl/dyWAVdD+Y3DnHbZWnnPSMLpRQkMgCTOBDuxTnkKhp3WJalqez6fGRNWZra7u/OugNcu+aNMuyPAwHhd6faIoxLlu34LgWIhTJIFl/YqesxkWCwKJUYGA0QpmCfmJ7ic4NWQJFAgQMZxk5kVmYOzMUCUQElfnsF37xm3/5F6KICI+O95ZlNe5vEEBZLk2qTM8G60xmSAsRGzKo8uibGCMgMAspQsIQYghN07oQOysaPAoSisKIgiJ1YCRS4nrWPPf8i09/5pfS9UuPz+dDYBFCAgWoUClqWyciwMBniecAACISYwToPBoscsYrCpkIjFZIGgiJNBK2TXXnzu3J6eTlT33q6qc+3Ywv/OD+d2Pb+uA9CEAgYAZkIBHwkVsffOAgHByLBBAJsY3BN03btK3vmhNHxsDAEULgGOHJwc4b7769ur5ZDMagTH9901fNcj7VSZohvPjZV+7fuF5O9uaT/dXV/NLFQdsuQGekwNrU2CThKCKERApEAFCRUjFIpMDbeliMR08lEfzBdHr7jfequr5/f3c0GFx++rn7xyc+BIEIiDbLtdbBOyJV9AY+tOV87lpHBMAgIAhAmqgzTxCVImMSUgqEOyv4I8Hdvo8AiEhKG6MTq5PEZolv2ui8D4keDsfntg6WU6MBAkcEVioCtxyXnknEkiub1vnIDCGwOKdU0DoqA0gUAQVYSIMAIEEXwAECYQ0IoESCCIgPdetNnkSTAGLDcNiEljTigx0BzrKNn+TD/gBx3NvbG6yuGWXqZXXnzs3ReFgUOYDcuX3r/Llz/X4/L3In+o2f3ECAQSajXjLs5SfHRwBCSJGhaX2U0Ljw7e/+/T/68isrKwnFhnkv+gk3uc2tTtGkFiwIhuACARgQaBuuKxUiC89Opkf7R7PDQ2uT4crGcLxS5AkoYeYs4/EYB3liEBKttBJXL4NrnehhNtDmicThA3sNCtAxBi9KyAJlWmsiYPHRSxANmogEoggzCkAUYURkBo5cNz4ZbW1dflampyoG20+ODvbuH+wmWuW5Ga8PR72xYiYpiHS3/wAiICcclVad+zIwN23J3HkJBACUUp5ZBDp1QBBE2CJZRZevPv2pz/3i6PwzMX2ic/RRIL7fdAYJgw+KzkLOLBI5YucJFe5ys6izzgFAIoHqcj2ABcBJQAJQAKfHh9/59nweRV/0Vdss65qDcxAERCNEQIYYGIJwcCLCEkVEUOTMQ8SRhZ0PHDu3EUZm14o4xzFqeGIex9Hx3mwyKfJ+3l9ZLG4cHp8cHhyu5frCWlHPDp99/nLZBmXPlwv2DG11VNZ2MFoNSbD2TIshIp3aGCNHIGvRgKK0MIn0gGeTo8nR3PHpoowxNLVbUjVcWRn28sl8JoQ2SXvDPgdukbO0EAmhqRBEE4YoQCQcUSsEUJoUoiatSRMAAaBS8OSNWhCYRAmSUqQiatKJMdYYa7S1yjrjEwi8uXau3tnnainivChFiCwepGRkxtxB6bGOXFeVK+fGWAUIsQVfQdpnlQiKgEcRFAZmBIgcQUQiSwwSPcfYtLyzaOdutpKuWGtOWr/vTY1GBIk5ooqIZyLxBHyAOJAMMGQ6mxwdD/P+qDcMIdy9e6vXG/X7xXjct1n2+g9v7O7vr43Ti+fH50Zre/u7HIJWysewbBrPwK1XoO/tHty6f7j+2ad0okknohM2KWqNKKCBAYARQWlmaeowX0ITIYTFYnFw//5sOh8MR6O1TZv38l7PKAzeEYY0FVs3xoDqNCmGGPxyMaG0v7c7yZL0ST32XOAEiJUG0t7FtmzbJrg2llXbBiGttFZKo9HGGjJWEyGCADAzgYD3cbYo96etKdaGWR8WpwhA1jZlxSEoTZCaoFGMUTox1gJICE5AlE6IwHnvWte27XQ+bdvQL3pIqnOsAUCqjYsRQmQRbfTAUK+XXL7y9Euf+6X1i8+ZolfFJwoiIoKAAJ+VPHesgaRIMTHAWbszJBTurBKAB9tI9+kAoAAQgBFYIiA+VLRjYA5+2VTXr1/Xzi4q33jHvmkiCSqtVBSIDAwYBWOMzNw1lejeU5QK4X3JU0qxAIQAIkECtNCoJ/qkloulVc7XzrccACYHB0ppk+fMgbkZ5RoNHJ366zfvvviZl/vjZH937+j+bm/Qz3sDm6QiDNoAgs3y6KMApEVPIoMXbtroXAyqdsX+/Qki3bj29nMvfWqwtr65ud60LWRqMFqdz08RIDhXhUBKESr2SwRIEhMFOD5IrokRte5KrUUAGbRSjxWDPYrOlxQRiLCzcYw1JrOmTmzqJARhYMDB6vrKhctHO/cxh35hQrOQNgbBBiiyOglxbxHu7Z30+qnOdN/Xul2I0kwmHW1QMY5aAwkCoDBAQAGDWpghOIgOY+Pb5v7CvT11+3mMu5MsT0FjaVOnrZZA0J2788DQfQJ9fDCPI+9rMtPjoxD8YDTWpE9PJqnNV9fWtRaj4fRk9qMfv51ounBuuLk+PNzZd3U5HPfK5bJtXVm61nmIkhpTVvXbN+9+7tUXdZZwvqKykU76jASh5bAUcOiFfCNN7SYTP19K4+vF/Ph4r23LrfPbw+G6zQqdFcZqcY0EJqWAVAxNntrE2jzvW5sHF5i5SFPPriqfmMfhQ/SR0QfVtIvZYl8fCCFomyxrIXIxgASloNcrVlb6o9GoX6QGRQQ67b5u2pPJ4ta9/eX9w19+6RltTJ5l6wjOeYiitcmK3GRpkiaWSCT60Er0gkKAWukQY4w8m88Wy2ViMyLqnChKa2Ax1HWkFaUgS+3maHzhwvmLL7y6+ewvZCsbkbGenz4+nwdAIogMIu/7rQgUEoAWERZm4MDQZTZ2so4A1Hnnug2fQAEBgBZxIZ7174IoAhwjAOe9fLy6srOsmpZ9iK71ZRAR25kqQQAQAQgoIoBGUsIIgiARIkfmyADQdaEgBNIaQSSCsHSd0D4Sbe0cB+xbqCrS2ntvbXJyeLB2aXO0spalClOltSFM3/je93/tn/5aXgyOdvZmx4dtXRaDkbaJc76gXmYSZY0IlcuZxIAhUIQg7cK5N95553Q2jyB1295+73q1nPb7hUbwHJvlxBKKiCFMsyTNc61tmZtO+RelqnLhnecYjDUooIgQRBESoiLs8pE/DgQAgForw8iSpoGLTHxUAqJUY1XUvPHSC72Ll2LkAv3hzXfnuyWyeIBGACLYkyoVp6CN0m4sp3VvoLVi1L2NabayDXmO2qJCQek8tV3yAUevgg91dTqvbpyGY+rPeitNPjSJSQ0JmohdyhCebS8iAMBP4I4PEEfDTWwbjaINKquOT44oYt7ruaZe3dyIDf/gR++czOdXN3qX1lYO9/aOJ6eXLqxIbDzDso5KF8FPlTZZwsdt/dc/euO3fuOrlxOO0DJzJMPGKgAURwwYGiibcHzUnhxUi3k5n7X1Upvs4lNbKit0Msyy3BoVfduyAwlIDNFp8ANrtFGeQ5Hk5XS2cf5q27BzWtnBo3N5FC76KrioLNeN98eLaj6pZofTSVYMHVDdeh8CEfQGydNXtp69yqla16kBJOEQY1zU1cHR6d7OXphOWueM0r3eQGklpBBQa2MTq7VB4hjapml8cCEE5x3FwMzz2WL/8GA2n2V5bm0GgjEEACiSDFkgtllCiaXCqq2V/FNPP711/kp+/lK+usY2q6aLvePjx+fzAIKMChgQmQUICBQRAGhNACoEiBxdCABID3KGNQmorhKMEJRiBBVEGEBIBDu2AGEOIJL1+qON7WRl4/T+YlmHmVfOm9C0kb0Ad5oQKSKtlAZFIIoRRDGzRBIGiCzCgkGIRIBBEdFZrx+GJ/sCUrvW1tV8XtmcWcJwNJ6dniRazZfNbDK150c9S1/4zFNf3z3c25me7CxXx/HcZm91tTg9Ol1Mj5XNk7wXjoN3wdrEexe9R5GUjIA5afHbb934i7/+K0egbLasq1jO4DD2sqLX67XO53mqjTZGpWlW9EbnLj9dVstb194EUvP53DHkMMC+qstFMRj4uom+1RqNtSIB0H9M/xRiYYazRA9C0sQeSWubpzEyEoJChdxgHhF1koCPsanT0cbp/RPkBiJHYS/oW1k2zVF9fPOoPrdxtNIrSAESrm+tr66vDMYrWX+QpilqQkJQpAVahibGWJWzWX1rirdXLru1DUjyVFsD2ooSAIlOSBxoBkThhzrpR6oeHyCO2Po008G1Wuv56YmA1sZkhldXMkB+69bOj958p59nV6+c51DX5Xz7wlqWq+W8rVsXIoYIbStaK53Yatl+//W3v/mjt0df/WyullB74CUPigjBBK/mpZvM2uOj2d7dxcn9pm6Lor+2vplkhVhji1ynI60VhNbHQIhKq4jiOSpFGkUhi0QiIALvqnywUmQjeXCy4YchIiEyhBjFt21TOzVrqqPpYrS6rtM8CjIDkMyX0+CrItHDNDF6aLQmJOa2quvJbF4vWsX6/v7x5kBnSgo0CoVZBJl9dL72wYfgQ/AcnHeNd21bVctqOV3MJ5MJaYWIIhJDcK5B4dGwBwRemFClSq2nxatXXzh/8VIcrhbjDZ31I+g6xqp9YrNifJALgcQAgNiFlAGRdOc0EQZgjt0aVwCoIZAIAqESQkHATikAAEJkAmJiZmCFCgcbG5dfeonWLjU7b0yrdh6sCyCtBOYIIixakRLUIAY7swRRCRJTZIitYq85YPAQHIsAAgGBgFKkldIfE47Ni2W1rMpFJiHJksSqjZXhfDIpF9ODo/ul2xyOxj07/tRnX/n+t799eHC4srodwiy0rtdPrDXOhXJ23Lg2mSRp3tcmJyRBe9I2+7t3fvzD17/7kze++Gu/edKE73zjr1iZynuZzZez+crGRvC+WsxV18w6H5qst7e7U1elkF7OZ4GlLhubJIhYDIa+dXVdGa0jgEZQJvGu5idaKh+AUgRak2GddsuSTHcUhUVQxCwQxLV1ADS9PmvlPTCwZ2kgrSPOajkK4d3JpLgzSwiF2RAWWdIvsvFQD3u6yPMsTdI0zfPU5rYBqtpmfnp0OHWj57+QP/MLUuQqS1gppRUgAgKCSOdC+Ch09PEQHyAOFTk3SR08shiNy6pSlBCA1Xxclt/60Zui6KkLa+ur/f171/PcjAZ9haFu3WJR1q1ysfUhpoUtvZReAof/y7/819Wi+e1feHk9T3R2qnoGBbBulvPZ6cHB9GC/mh/lqVpb3e71V8hasjbp9WzeA50Ix+AFCIAQCRSiBqO0Sa3eGBaT4Hx0wbezyXE6XIvs/ZOPFBRAAQRSyhgSFVFAKAi0PkRskRQqg0jMeHR4uru7f251lGcJUYbCIXLbuHJRlotauebd994L50boylGRJUZHjl3PdKWVADIzAXJo27apykXrapskxpgkTUgpRHTeCUGMzijYWh9tro0OJjOlMM3zZ1968erLL6msUKvb/a3tRiXOcxOaKE9U6Ym6UyQApPNanLEGAIgIn8VNzvr6QLfRR88khARRGJmIGISQCEiQCECICBSSgNG98erWlUt69XL45ttV4+eBfCTxnTaOAOAjmM7zCl4DAqIEiRAgeohecSQJKJE4RGZWZ4Fho5XRpPUTnaP37t0hiFFiCF61JKG9cG6T2yVCdXCwPyuXoyrta791blUkHh/u8aev5hlqvXS181xZrbAwIPX8dO9o525WjEH03Vv3dg5PZ9PJomleeOHqV37rq8OnXoEYv/udv21bKH1gwqZtesNe2zYMKgS4d+fe4f4BKV2VC5NmqKlpWiR0rg3eBe+7O+59MKhbHxQHidIpVD8ViKgUSXK2AJEIECOxGAwiaQjUBKHWw1lvwa7KORIqiUEYSEeAJfPUkUEkAQNiKrHT2uy1VrUK0BIp1FqRJOS19qEl8FvPferKc59t+kPIMrAJGR0VIgI+cds9w5lb5wE+QBwrg773rUmMsHD0iaYsMaPVjYbtX33z24dH04vbq1cvbaIEBEBUTVUBcAyqbgLpNIZobKJTM5s0IQJAuHZ75//0f/2Xf/TcM5+5eOHS2vDyanF1WOiwPJ4dHR8dR+8uXbywtjrKB32wBtJU93qmPyCdRM/MQRBQaSCPWikQQk2KUmtXivTk6HQ2W4w2chA+2tvNEmuzJ56rAoCApBOb5D2RIDGSMgGoqp1m0dooI8YYYTqZzu/e3Xnm4sbq6ii1CQp77533s/kUY/vcC0996ReeX+3pP/v9393buZunWoSJlNbKJolSBgA5hrYpJcYsTfIsMcZoY7qSBGWMUkqCF4mppYvbG/lXfvEnb7935+6trJd/+bd/88u/8stMRidjb0aH8/bOvZ02VI0rH5/NAyAiEgA/cFsQAhLHGJm985GjsCh9lgHIICIQhCUyIioSgaBFs0RCBcDQNR1DIKLIUURcWx/uH6ZQQPRN27RBByAGlMgArASQCZUgYHA+AARBIiGJECOIRGBEpbQCIuAIIEqrNFG50Ubrj4k+tKFVCmLwo2J1NBzlqb767POT48Oj+8ezU3t6NB/YLEkDx3Z9szefHJRlWRS9PDEmaXRiQ+uc90mixqOxd7Gt/GK2OLc13Do/XFSbx5PpyuY52flBf63/v/7P/5cKqr/5xrdY64hqtijrpsl7/a3tS03Vam1Hqys7t96rq8VyMWNgk6RKJdroMgRSqksY9d6hsd2hGErhx/RShc7TA9BRPBCCIjBKgSUiAIgoHtimgW0bjTbGqtB6QBaKXXcmECWNAlGgNGkgiggondsEAICjtJJQzBBAAyoAQvIVe5FUm/MXtp/67FfM1rNV3kNtiQzAWYcEAJCzEG7nZP8p+GDmqNW9Xm+6mEoMGnRq1Wg4TgZbf/qNv3/92v1hXlxeW4n1cuaDazl418sHk8lyMqmRkhBCFFYWa9cu2haREpQly0HZ/Ps33/z6j9/uKXlle/y/+e0vjak5nh3PZuXKcNwfDJIkB6UoS8xwoPt9sHmIIN6d6RpKaWsQyDEjIyo0CnsJWaL9vaPPPv8FF2Jb1u2ifP/mfRiokLS1aZIXgNw2TQgQA4dYSSVGq6woWpO2tZtNFoWNy+WyOy6IWWKMMfgrly/9zq/+w5deeqaXq3Z++rV/8Otv/fCH9+7dnC+WZbkg0oTEIiysFfWLbNAvdGJZOMaojUmSRLFGpRCQUQglS3Re5HXbQnT9JOWqvfnGu7/8xV/aunJu5rCsXJHZc+uj1Dy9Mi4en85jIEBGEZEoIfrIzDGGEBFRaURCIQDBGCWyMJKQUqRZMEZxzJZEJHZpTUgEKIwBKCJzO5/N9/ZnDtnV4FuUlAElSlQtgACDZoSuY7P1wYGPAIoNiLAEBh8pKqVMphMGrIjEGsqzNLGkifjJvTkjijEJiLi2mRwdvPQP/sHmpafKv/hzjpo4rafhzaN33/jxe0lqrj59SdBX82Pe6EeyrAWNKFCJNonpusNjlVZ5ga7WdVk1jc97Sb04Gmdm9vbfpptX/7f/+//d/d2dG7fuhhhFcFlWy8Y1ZTMoBlprn5pLV65cvHI5Gw53bt/Y391Je8PlYhZjEGYR0cYIqhA9IiKqwPEs4/Jj0e3eDCKIZBQSRgAlbMGEaKNpnVFgSBQiKglCEWI8828LKlDIAIGBBBDAiwBEB0yICIIekQmVUkQCwBAUS4K0uTJ68VMvbl+5FPp90QkqY5AEIAoDSKdC4pPT187I7gE+QBz94cBLYIC8P0hUOsyL0frm96/d+9vvv51k2bNXt8f9JHpu6lYE8iJvnSxKmc0Dgxbhtq17o95p7VoXLRkUAQFkoYYj2ECKGYNrTU+lae90urRZZrJUWWuLnh0OochF264mGhWgoEICIrQJxwYZJAQESBPdz+w4zzgKoXbLpU67ks4nPrAky5IksdaQJiIVY/Rt0zjn21YR9fJMWDwv5/NFXc5G2VrThMgigKRtLx++8vLmaLia6iSGcj45ODnYZQi/8rVfPT1+4Y033vj2d7/dlqXzTkA0qX6vQMyRyHMAotDUPa3TJGVhAXDBR2ZETKwFoOPDg8lsKlGqyeIHf/2NNaJf+JWvzE1uR9v9zXPDUX+82r988cLj83kAFCBA4C6NTphDF8Hp5FIpMkohAiOAEACLhBqUIBFqpUhpFb0At9Ilt0LUAoAkBDFGAnZ1vZjPmLJyuQw+RHACgswgHpBBsJN9QWDgSOIQInIgAQQPwAyChmxmAY0hAm+NscZarQhR8IlORN94ApQY52WpSd3e2Xvu01/QRheDYVk3aZJ/+le+mK2MJHKW2IOdW818GoVZBJQyWcbaROfQaIlRJCaZAXAgyjlSxqQqbeqmaVtLUu2+1Swmv/yFl072dyuvg8Reb5WbZlkulrNpnhWOXd4fbF28IgBt29RVVbvovQshKq1c24YYlc2UMggcfKtU1/Dkp4C7IihCUihRkEApEq11iAa76gAkrSICdkwdmABRUACcqAAEIEoEURQACTAAA4ICATDMBgKAQkAA1iSZUmv93udevPDs1W1ZKVoLcFauhQBCAl1YTgAAEUQEusKWD+DjnKNpYqTllf5qkueD/nAwWnn9nff+9K//TmmzttYfDkGwWVYY26C1kJH7h6cnE4cqi84FFzSRUnZe1yZKkaiFFwZA4cggGMFHJYVN+jbVPdaIB1mRmyTJ+n2TD7oGpN14GSKrSDESMCEKSwwsLqKL4GNi9SDVKXjhCAgGpV6cMCTqyed0mCzvD/pZYjQhKsXKeBNU8JTYVBsCWi7KZbmoq4WCmNrz1vYJU2OLLO1hAYW10bWL073l9HBxejA7PQqRcXO19e3e/v26rhBRa8WRfeuc1sEHq3VmU0Rx3kVmItKkAcC1TVVVJABCy8XyYPc+uzhd1v0smy3n19/6Uaymw61Lay+9MhqP0Oj9+0fBR/j0c49PCQAAFCMSCTCdlZ9B55ljYWuMMUYTEUBkiGcbinLMTQiYYJHkiU6qtlKUMXtgJmYEj4CAhgUCC8+b06Ssl4f7k0VAJYIQg5Io4gVBAYEAAIgguxhQGAEJEAEQhAQ6Q0UBacKgtHijtUJFQIrwLPfkoxBDCF4DKdKJI/WjN6/fu/cvLq8W25c27rz1po/zohCTB0KrQSV55toysiMhIgRApZUE7ZwDAaUtMaiIGpSNscgSrMWmWVXP2hpIJJwcPNvvf/rSxo9vHjltJQZtrUrzqq6m3luy1ha7h8fetXUT8tFajMFmWQzBex85MgtpYh8IADqzlZ7ou3m4Gs982gAIKACIJFpLZAHSoBUoEkARlCgPqgSUiAgLCJJw15gHO/83kADz2alaAMAEDgkiWsCEYEiwmduXXjz/6jOXeqO13cEgGCMKmaTjik40ogIRQBBAQHicNQA+1jmqFeepIWNNWqRF773bO1//xg850kqvGCdJoW1s6rYMwbvhShIEJouychh8iZGBqCgK5yJGSIzOs3zWTBWgFmAAjZwZYwmT1CZF2vhGazUYDbK8MGmBRgN1OSvYlVEoAQARkRhC1+pYokiUGDwKW2MSTbGpAXD74sWmravG183jDRQeolfkeVGYJCGltbGI5GOMHDsh961r2yZLks+/8plnn776zFNXn3vu6cIaCHZysvCuGWW2XU4O79+ZnR7V5VJrtbq2AYL79/cODg45stEaiVDpGAIzxxCIKE1TEW5dG0JI05SIYoxN0y5mS0JczJe3b91azJdt62oXNPmS5Ggys3C7rVtIsv5wtAANOlnd2n58Pg+ARIgIRHKm9mOnBWtttNZKaUBhDlHEh9j6WLdt28SgrM7y1YvPPvP0C9/65vf29/a1NjF6YM/BAwATK1I+QuXA17NFXB4uYws9ARCRGNkoAOmIBhAQCD0IgnSsIRIBFLJWCkCRIatMpKCVrwEFSIEipTU9OfzASVrFmOgEXECKUfjIh1gDw5pSWDdtCDywCQIqrZM0vbV/cP6F51FhjFEYSEQkooAAcGQkpYwGSgtU/cIT+HK51MqKUuzbkU2f3nra/sNLO//q35wEjbpf15XStj9MXVMd3t9ljuvbF9qmNjatlsu819fGxBiaqgrekdbMgpm2ygbXlov5x9TgfBw6uu3QmRxnp9vE4FqIEYAfZmUAgDBEeLjyCQg1AokYhahRQCxyrmBsaXuYvnDp3CtffO7CyoofFZKnXqkn3vqfGQ9y4D7BJ/gEn+BnxhPVxU/wCT7BJ3gSPiGOT/AJPsHPjU+I4xN8gk/wc+MT4vgEn+AT/Nz4hDg+wSf4BD83PiGOT/AJPsHPjU+I4xN8gk/wc+MDCWA/FQwPOwqQRBCIHNq6Wuzu3puczl54/qXE5ienR3/+p3/GHC9ePOdcC8GfHuztHR6NVtZ/9Td+49LVp2ySCSA+SF7pIB8E8/uFNt1PHr14+Cozv/83IufPn3/4V49iZ/9udyEi+ADwIJOvqy/q3vmRTNsu3Uk4xNlkure71/jgnAeA69ffu33n7pXLF85vbd68efPmzVvLZfnrv/G1L33p1dF49Bd//vW33ryW5fnFSxd/87d+a21zjbo0LQABrAPfvXWtKY+9q1oX0mzw8sufS2zS3YzWuW/+5R8d71xvFm0Es3L+4ue+8pXNrXNrvY/ubba+sS6EqFRC6qmN8//8t//xOC9+eO2dN+/e2DnYM1r7ENrgFWJmE9867zwggdFgul6ZSALurL5Wgg+IqBCMsI+eFaFSSCjQNQUSRFKkjTakgAgQkUhZa7XRaZomSYKIMcaqqqqyijEiYpZng8EgSZIQvAiPhsM0TZumYWbv/X/1b/6bx2bU4f/wn/5ajJGZtdbWWgAGCKQMs3rr+s53fvCuc5IlGWlllFob51vro+PJbFk1EoUdc2RmWDJ7DiwSQhAQECBUniWwIHKq8eqljXObYwRAAa0VCggBILCIOqsnlk4cEJGIRERrjSLM4n0EwRhjiAEVGKMMEaGkiUWGf/GH3//ghM6gTNZdPJRDAHh40ckhCnQCo5QiIgLROrEm02TS1A6GvVFRDPoDmyTC7L2v2yUojwAhRufaLMuRkmUVSteYLH368tV/9Ju/8Stf/fJobayJVNd6ToAEmbxXXLI+bc3eHN7enf/VH/3pN//b/7eZ7nkBj6Sgqwk4WxFIuHP7/Xn9fMQhAAyILMxeWDj4/Z2bP/7B90TC4dFJbJYXzl1+4ydv7Ny+nmfZ9bd//MILz1178437N969v39cB/jmN775P/1P/pPPf+mLWb9vjUVUICgi+KGjKBD//5mZ1j2Yh9ePPrCHn/Lwdx68CjFyuVhOJpOdOzv/9nf/+3u7excvXVBKvf3WOzdv3srSdHVlmKWZTawx5vf+3R++/vqbvV5vuSzv3NrxPly98qyInJycjkbDh6KQafXcs88JXGWQyKhQm/f72Yg1yWe/9JXJc8+6OijRWxcuFsNhlyn4kWAREVAsqEgQ//Drf1YtFqV3FUQvkQmUIgO6ca5azgUAELSIBoUCDGARUcAKGFK5SVSqsl6xsjLSJG9fe2feVELSFVU8uGcgXXYzQtcWHs7IVbz3xpiOO7rJIiIzBx8AQCslwiFw27ZKqe5WdOvkI9FtDA9/ARFj5MB84/beaz+63racJ7lGCpFLVxeZ+Na++vQF37Sn83K2bE4W5bxsY+S29UHYCwsCAWoAk6T9oofI7KvpdNnvFVlmJUQB0IqgO/RAWFiICAm7Ff5wUyFEpSBEUEwiwIIKFBATklLKKDTGyIP+Jv9DICLM3N0rERGO/X5/daXf76e91I5HaVEUzDyfzfIsKfrDsixd8Kvj7V6v15SL+XRWtbZs3M61N//F9Xf/+E//4J/+03/8ta9+rT8aMYCIWMEgVHE89fFwSTvH8ca7927+8Hu0PAYJDAZABLpZPz62Dj8ncTCBsEg4OdyLrv7JT378t3/+J6fHe+vrqzHymz/8fp729w+Ojo6PtaGT45Pr77y+nExiuRTSVmeT44OjvZ3Z6VVUIkkGoHzLxiZpnnYP6eEHdXL6U7nj4UP9udBJQ3f9qFg8/B8AOlWmadu///vv/7f/5ndv3rhVVuVrr72mtDLaKEVVXc5vTq011lpmTrN0/+BAG1stS6WMc+HrX/9rsurpZ6+eHJ80bXtue3trc91CEJTuvGUkAsD4gNFFABFXVrfGa5sSu8IjFICzCoSPgiAIswDGGHeP9wkpgkThCIKKfIBUmURrgxAa5hhJkQh1BUTAgEjPP/XMZ68+N0qLXpL1Bn2n8PXrb7914x3PMYKAsEQQEEWKCEUQQEKMBKA1PbqomLnLrEdEROzy6xGx0yxCjNaYNLEiUte1dOd8mifWFolI9+YxxhCCVkpY3z+YvP7GzarxiU1Tm1RVycK9zK7m+dagt2lIJUUvTX9S7+7O5os2eAeCyCBEWhBIEQFGgcZ5RdLLitGgaB0QsUJkoMBilAgziCCczRYQH2q1RMQSFZJWAELMIMJKqSgICESktSJEfsJK+1mAHxTpGCNpo7Ud9IvNtdF4lCUWc6sM+eX0gEU4hIvb59Ikq3ttmiaE1DrXAhDFhNimJlVquqyuv/n6//nG9a//xde//JWvvvqFL2xtn6vIlkynXh9Vce+4vHXr4Cff+uvDaz+CUDskASZgODMJzgbT3Y+H+FmJo9sEUIADz2cnN6+9NZvs/cHv/e7+vXuuqXZuXyOlqtJrlZaVm0wmRT/33kW3dN6FKpgkRSUr62vl7PS9d99+Rr80Hq3MZzWiWVldY2ZFZ+T6+Af/DHi42n8qOrF+/KcfBDODSFkuq7q+cf3GX3/9b3/ykzfKZaWtTlILIFrTysrYte748KQT7uWyXCyWVVmRQmZZLqqiKO7cvv1Hf/jHSZYOh8MvfOHVixcvRBZFxEAMgABdIVN8f+MVAKCuTgkYkBEEzgopnwBEFAFmYQ4iRqMhpUVAIDKLC9FgJEIATcQ+AEfRxCBn/TIEjg8OB8+99MpzzxLg0jW//7d//nev/3Du3bJclmVJSjEzM6dpSqQQyNhEkSIFRndqhRIRZtZGdzRBRGcqN2L3Utu21lpr8jRNAaBt26Ztu194bDYPobXuiKO7JxyhqfjevaPJ3AFpJGl941wY9vL1YS8TwKo5yfNbe4fXd453J/NFwIAGMSIAkUIiJSCBu4NGaue1JtdUwbn18QgAUILWuTIEIAofdGA8m44ioofE0RXnAQKiIIJSBIAchZBAJHIEL/qn9hz9GdAJKiIiUZLY7c3Nyxc2V0aZd8v56cnR7FREQgjD4ZBdXfo2hBDaEpG0VkV/EJWpZ/NmWQK71AqBbZz//re/84Mfvn7u8pXf/g//ydXPfTkm40lJp4t2b//grdf+/tZrf8vLowDcKmul1RIjaOZHS9t+NuJgZiIAjp0wd38fQ2iq+Xe+8Zdv/+T7+3dv7V6/sZgtFIGwR0WAJhumaZ5oHfqDvtbaGn14cBRsEBaTmOnJ/p/80e+N/2703Asv/Po//EeMibLFaGUlRBYUInygZHQXAg+/f0TIHiWXTrx+Xrp59N0eXmNnMogQwnQy/cEPfvjv//hPjg+P5/Nlv9cDER9CcL7oFSJSldXq6mqMPJ/NA0dldQyx8T4lWzUtKiqr6idvvvHG229aa9Y31p95+jKCEGEk1ZUfikBExoeL4yGfYzeGs9k/OsIPQ2viIAOTDU2S9XvFYLBZDNZXV/qD4f2jw+/++EdNFOcDAChljJEQooDIWTtJ8TEenBxcu339lZdeJFI/evv1b/z4u7uzaVs753wMAQWQiDk650REkcrSLPgAILSx3u/3fQhgk44pHvKF1l1R7hliV+rPDABKKWutUiqE4P0TO7YBKsDYzZuAQoDd/cnRyZwBtbEs7LwDRcaq1rVLsjsz99r+rTsHp00QLxhJAZCgKACFkGhFBCFKjIzMwhw9BI1VXU+JxqM+Ak9O56NBD1JCRKKucA+QIMYAAIqUICCIQTKEzAwQIwgKRxCNQCAKumNtPri8PohO+QcAQOm0i66evXvI3QNHRABEUB17KKU311efuXpuc2UgoV4uFrP5jIhiCAigERKtmtaFttHW2jQhQ1m/Z4p+nRWhqWez2aIsTeMU+Rirejm79eZP/h+3b6w/92cvffmf9LY/czJZ7r772rvf/fPm9C5hFBKCAJ26IUwInXtIuuE/gicSxxkEWUQAQwzMsVlO33vnx3/xJ7//5o9fk9ZjJN9KgJAlClhskWxurNZVNeilPngi0lqfP78pUWazObM474Kvp8fux9+bHR4cbF28un7uctbLSCXCERVvb2+laUFkOsp9EiN8zEsfiYdr7+FffWg1EgAhiAh717ZNlVqznC9e+/4Pus8iQhBhlrZu8jz3rb97515aZDZNqrpmFmV0uazqulVKAYD3HhGs1Wtr60WRTqfTk+PjJE36/T5CJyMAXQ0zAMgD+Tn75qFtgh2RPHztMfzG537x7evXvvz5Lzy3eWF1dbUoih4Zo9W0mr/+k58EAVDUzVhAgBSQRGEQ0Ngp5QiEWZZFgvtHe3/57W/uHh0uXJuqNNEmIiVJorUuq0pAgvdaqdQaJ1xV1eHBQVmWUXg0Hq+MV2J3hDURIRKR0orC2UYNnSETY8cUiGittdY61zXa+QgIIgICRhQQkaqsTyazuvWkKISIwiFGq3QI7bTl07JetrER8CwCoBRpAh8cC2itE0QFkYVJASBJCCQMAJGJEYMwaj3Ms+V8fnw8HQ6Lop9qACQUYWBWSMwiHLuZMBGAIoCuQRITSBRB7BiKELveOU/CgwffXUPHEwKA1JEIgAAgCCOgQgRrzYXtrc++9Py5jSGE5vD4cHI6NcY0TdPUdZ5li+WyN1/28r7KzLKubKZHo5WAmCi0o2HTpDbN9WQyOT0W4AEkKLGqajdZ3v77g7s3d55+9beryu1d+344vqswstE6RuIACAwEndInnQx+IF4BH08czARAghyCd66az6c33v7xv/uv/tXNG9dPTifRizVpnqZWpYkRa8kYg8651u3tHzBLUeRplo5HK8JYDFTTNIGhbZvSNzKrj6ZvvfHWdZv3/vxP/n2i0rIqyeAzzz/9q7/+61/40i8BpkmSdlriY6P6MAv8VDz2J4j4GHF0OoCAIOLh/uHv/94f/N23vv3mm28DQJZnTd10NrmI1HVTVZUxpqqqRVl2a6PrOWqMcc577zvHFXP03s8Xy6Ojk//7/+3/+c1vfPuf/fP/6J//x//cWvvIADpqAPh5pvMQX7zw7Bs//NE3/u5buxvnf+vLXz0/Wk+RECVVBhBYYwTAB88bEZVSwiIikaNCxSA2zS6eu3h95+4f/83X3927OygGHOdAyiRGKTUaDkVEQBbLJTNbY7Y2N/f29kCgbduqrgExhAgAw8Ewz3NmJqWUUlrroIKIMHP3PzPHGDtNJMZojOksl4+EMBOJMBOq4GNTtSEGQAQAjjGGoEFsApF52bg6SCQNRgkCRFEgChABIiKBKKWMoiDceEdExhilun5H3LauSFMASvOi3+sdHRwsypI05HmilUbq9qezIeHZXiWAKJ3ZjmgSG1vPIohI+uxUN/gZGvk8gu4DBASQUClEAVKUWJum+tz25udf+cyl85sa/fHhqQt+MBxUrua6stbGyHVdL+aLYW88Gg54cuJdmM2X47U11DYGTwIN88poqEkODg8RkUhppRfLBYBzxzdvf+u/I535ckESQREREpEPQUSE5aFvuBsoftCZ/dHE0T1vkehcjNHH2NTl5L133/6v/z//xXtvvh6jjAYry6qZL8pFWQ372aC/sr4yWiyXs9ny1v7RwcGx0iqvHCLynQMAstamRo2GAyJTt/PFovR+ighKaa01OwEAUXz92ht3bt8qsmzrwrPD0TjP84fj7ob0gVE+YIQP//xJeGTFvv+T7kIEFrP55PT47u27B/sHBweHa2urBweHrnUxxl6vuHL1itH6zp27x8cnWus0TaOI975bFeWyROx2XOz2UkTyoZlOp4r0YlF+7+9fizF++StfeeqpKyLS/eaHxvARE3lswI9i0OuLVnvV7OjGdOdg73/yj/7xL730mUSpQdb7/Gd+Yefv/nbuW4hRRLp3RkRSxMzCIiREtLa+sXN48Oe/+9ensSlWxyZitSjnTdO2rdYaEbXWTdNqrRFgZXV1OBxNplNhicIC4EMoqzJdpkbrZJE85MQOHU10xNGJYIcQgnMuSZ548p4iwa7/skBTtXXVtm0LAogoIEgIIgBSR6kZAilUGlEUkVKoACGyEkCSwtpBnldNGyOT0hxDd9u1ViLiQ5wtlv1eL0RRiHmvN5/55bK2RoOINUQoZ0FrIjhz86Ewd8MQEUWkiJhZEUGnTxB0KudH4tEHebZjdM9FGAE7yxWBjKIiT7Y213/hlU9fuXwhS5RvQ6/f6xdFW7eLxTQEP5/NmqrOs1xp3ev1WVArY4zOsxxBKdLet01Ve98CcJalo+Hg5HRCCrIsIYWLto51JeU+m4IgiaQRztoLaaVCjJ11goid8HxYMj+aOGKMMUYinE4Ol7NpU8/v3X7vD37v3117681qWblWiKy2xhqDhFlRTJc1k/EB7u7uHS2r6axNEmtdE0JwziOL1aqfp8tFtb46vnrlIojs7u4fn5x24X2r0xi9teqF55+FEFxZ9Yui26O0/ugRdugm9vhPnwx8wiJEAECwib1z596f/+lfvPbaa/d37xtrm6a1ie31e/P54p2331VKVVXFzG3rjDXMURsdQ2zb1nsvAh13AAA9CCs45xJLaZrWdfv2W+/+m3/933z1V7+SJsnly5e2tjeJPryn/RzA1Jgs4RZagrvL0//yz37fGP3qcy8mqF998VM3Dw5+cO3tViByhAesREQgwjF2SlbTtv/dn/5x2da91bEC5aOvWtd1xBORsiyTJEmzVBuTJmmM8fad28vFgpBCCEg0GAwK4el02rZtWVXGmsFgAABKKW10dwdEJIQQQuieplLKdN2bwxNbByoCEEBAFIptbBuntXkoxIiIipoobYxOUGtlDBKBUhYFQghCwBCtMsNekdrER1k0DjVpbbocD0RM06Su29b5+wcHibUbqytN65VSTdPMF+Wgn3XRM+zW8gOwiLA8dFW41oXIRKR0l3RB9AQB64CPPF4EUAD67APOPkVAACUxpp9nly9eOLe5PuhnRW6BzTLT5aJMs6KqlzHGqqw6v2UMITKnaVbXDXiV5nn07FwdnPc+uLYJ3mmjB4NejOF0MhXBhCwaJQCz+RwjmTQBgW7gRCQixMwfYLmPWDgfsSw73VaYjw7233rzR8eHB/du33z9tdduXr82my8EtURlFCPwSn+YD3Pn3OTkdP946UUfTpeLpmVWbc3aBUTUKiUSIdA2XVlbd229t7u7Mh6c21pLkuTg6MSFyIaSLO/3su3t7WF/tH9v91O/IB8MJ/x8K+rnhQC4tl0ul975d955dz6bW2u1MQjNfLZo6gYA2tYVRV7XTadQhBhJUWQR4bMTWESYJT7Y4RFBogBKjLFzxy/mi3/1//ovf/+//4P/0X/0T/+z/+x/wTEinm08H4OPYZPZYpFrmwRgFla4t5j+3l/92epg8Nz5S8Mk/9qrX9w7PNyZHrK8r6whICklzCyMqHb27x8tpjF41Lotq7zXq1wbYhAWgS4TCZbLJSkqtoo8SQ6PjkQgxOCcM9ZaY3r9HgBMJ9O6qrz3zz/3fNEriMgYE3yIMQJADNF7H2Ng1gDaGItI3UsfCaMwMkiEqqysNVmaJvbh4TLCzIDkAgdUqJXRlGkyShlra9d6L23wqGjQ6ynCcrmMDFprF70yRIiCKCJa6ySBpnXOhYPDY4ncy1MWYJZyWVmjiNAoIqM4RqQuhNTpOgIA8uCGKkQk6rwbWutHjJuPQMcNiGcpXhrQyJnq0QXehQi1JoB+r3/18qWV8bDfyzQBoIUSesNBW7XMXNc1AGhSiBhC9C4UfaW1CSLBc+S6aT1H1zRLjo6jr5sqzdKiKMqqDqFMrclEkHXrbN06FWujMieKH3i4H3s0H2YN+DBxdAEUiXE5PfiDf/uvb7771t3b905PTqfTWdu2IEprrYwCYFKcpAZRjNEr61u37u2fzBZl44SFlAaBoshThcJeKTSktNGz5TK1qBGjsHN1YiDNrThWWmWJMuBO7t/a+vSnd+++uygnxXCMAAgIwCwRkQDeN7q6i0ftl4+c3mN47M+7CwBom2p/9/63vvWdt998K8vS1dUVAJhOZiJijXZVBYigyHvX6xVEVDc1x4ARjTE+sgiAMJ4FRkQhAEcEMAAximj2wStFGpWrq/1y8YPvfe/NX/7C0089tbG5kaQFPgj4PZjCT59Ihzd3b4PSSghYCEkIbh7s//43/+Z/9k/+x2vF8OmVta995pU//O43T2QZkdlHzSAAQZiQAIlF8rwIbhcFJcqyrlvHIl3HS5VlBRG2bZXlqQiwbxfeubYFwBBjUfRWxqPgfVuWFzY2ytm8de30dHL79q1nn3uuUyu88d32DgAsMbCPUQNYImWMUfTEqApahRElRq00ACrgLM2E4Wx9IXiRzrotjFrp91KrY2QBVBgIUJMyxpDQsiyT1IS6QRHFUTwTIZHyzrPziUmEMbBvYqhdW6RGK4NoGt8ua58kKgRQCCAAEpGQRFBASD98WCwCIhqAoNuxIwAQfoyp0h2UqTSAYkEQBEBEwrN5KSAlpt8bfer5FzfWx1oH7xqT5cFLmhTetfPZpFwu0iR1ug0u+jo0jQvslMZeL6+9R4Lo3XI2retSa1IKYxQUqpa11qqXpa6tvKuTJE1MklLF4rlZpD1iSl0ERi1ICIgA3NWjPFCTHlOmPuDweACWGG6++/b+zq2XX3rp5ZdfKpflbLaYz6u6cXVVO9eG4COHum3auvWOJ9O5cwEAU2vzNOnnudaKYxSOmdVZmqSpzRNrSYaFHY8yo/nS+bVnnz53fnNoKChhhaARfFtNTw6qajY5PSQQFhZBQRLEn305fRjdk+444lHgAyTWbKyvr62u3N+9Xy7Lk5NjH4NJrLbGJNbkhcnyrOgBqvmiFAAiBUgM2LY+BFbKEJ5pnUYbpQwSMYCAZjSCWgA5RgSplmVbN2/8+Cf/8l/8Fzfee0+ps/RE/qDL+mfE3/7we7unx5GQ9VnIvOH4w3fe+pvvf7eJ3hB+7sWXXr76dIZKd3q0JkQkJERUimIM1ujIIETLpm6C88En1vaKvN8rsjTl6Lc2N1757GdeePYZAC4Xc+9c2zRdK+O9g+PJbDGdL+vGE1KXPSkCJ8cnnWGSJIlNbHfbEcD74IMHQBEgQvVkI5SIFJIAgWDwARCM1ohChIggKCEKIPaytJ9nRZERkjBorVJjU2MtqVTbqi5HWTLQaiWxRaKU6ZItxGhtjBbpzOdMEwbviDBJEpskETAKLuZltahV90mx6/0pCkERKkWdWdIteDwLppytNvzYcCwIK0JFiMLdV+crAQDq3gcpM/bqxYtXLl1QJM6VzjUxhOBDWzfBOeE4Go8icxTxwiFy07rFogw+DAZDYYiBq7quq6qu6+ls1jRtjLwsK9e62XzuvNOKEMGHiKQQEEVcW1flQqJD4Af+KHl/bSB1X48twA88PAYGIBCez05u37hGHO/evfuT198s6xoR0yRNszQEF2MwNun3il6/l6U5kNZJ4SM1zbGxygeX5elgNOQYYlOzAEbxPgTgDMmKWh8MtMLQzIaD3pc+++zW+vD6e3vAgkgiMF/M+4r27t46t30Rk4JFAJUA4M92QNZHAh+Q5UdyBwBE5mvXrv/xH/3J9evXy7IUEOnOcPM+CpgkzbIMvEuMqes2BK9IKaVFgCESk3cBARQCcAAkBCREIHV2UhIQxIgA3rkgTESz2fx7f/+a1npre/v5l17upPCxgf0sWLYNi4hRHCQyEyEDlsH/5be+8dS5i68883w/zb726pf2Dg7vTg8rLYEZBSFGET46PMrSFNjbzIQQA3sQRlRXLm5trK3s7u7Xdavz7MLWxovPXL1x6/atm9fzJE+NbuoWlEmLYj5fAKko6uBk4n0wxiilZrNZkiZFr0BEYwwRddpvCFFpCoG990oppVCe/ECtVi6KIlX6WC9b5q7VP8cYRRBQkQKltDG63+tpUhFYAadGSXAJgdLaKpRUj6w+1+v3hv0f79yrThulTAhBJKap9d4r4JXxyGD0MZSzOa2ukNVkdL2YG5CqbHkINtOdz7UTCUTURAIQATprTrDLESNSChHgyWm+AKCRFBKyAAs/WIjYiSULImqE8aB/6fwWSvCNi1zqgW7benJ6qhWBxMSaN+/dcaEFEkFxElrXlMuyKmvUppf1fYxaaZMkDFw11WQ+y/NURGbzhbUGCbpaoRADInUECgBlWRomlfUBVafEf5gpHls7HyQOZgDg6Hdu3Zoe7zXlbF62B3v3o2utoiRLiywVsN636xur2+e2RBjIHhxNjg73q0W1Nu4xSxtM7V0r0O/35k1dt95onSrFEYWhXFYxNJcubOWJXk4nk9OTohh++oXLh4cn93b358u55zger0z37x7dvdF7Pkdlzhx5j4xTRPCBK7Fbcoj4MTbzw2X5EReEAFCW1e3bd2bT2XJZtW1TN41WFCMLs1JKMw6TQmmFQEEDgAVAF0Mbua0cEUJkrZQhMNaurK7WjZ+VFSkdWLwPwCKILOCBWc7880qrCxfOj4ajbhiPArFLMfoZQEiAzAxnmTqAiKLhqFr+/tf/bG115eJ488J442uvfvEPvvH12DJDAMG2qqeTk+CaVMN8cmSQEbwiyBIzGiTPXdnSiG0/aQ3lRXZxazzuWRXLrVGRpvnKynrw/s7OblXPhrnp9wZl29Z1yxx7WcEAPvjFYjEcDIteEWPsZsqRY2Rh6jJNfXCkiN4v0nkcJECAJBI8u8BJknloVZcVRxSYmYWAOQQUAJZekcdMW60SgmUIlJjUmkTLpeHwCy8874VLX82X8wAaja2aupfnpihcUxeWkvHAeV+W1XyxKIqMADhKG8IS67JqiyLTuhupiKBSRICAiAQMnULMSimlNBGKMJHiJ4ohGCFgeegiFURCBEQSIEGF2EvS85vr/cIqbJuqJgwSw+TkBECiD8E3N967TiCpNb5pU61iYKMIOATXKoAYglJaKZUVOWP05dyFwGVplCaiqq6KIvc+ZHk+nS0RyRrzgNadNMtEW9Dd+FEhxgcLjR5sru/P5HHiAECQ4N2ynM0mxxjb+dG+4naY68SmxlgARpJs2B/2ksJwZL57sL+3f+x9c+Hc6mg8TpN072h6Z/do6UJVNa3rTkwLkTSyNdZqUFaZvYPJyiAb9bLYunJZ9jK+cG4sIDt7R7s7Rxq0xHh0f+9XGvfiK1+iNBci/IBP+n8oHtJNl9dQ17V3/uDweLFYxBi9d6h0kSSG0GgZZDZHt7U5GAz6zKHfH1hr2xCOptM7t+9xG/pZNh4MvvTqp4pcJUVvMiv3Dk+XZT1fTOfzBYGaL5uj2XJac4xobBJjnE1nN27cdMF3G85DHvwwHnLch3F2R1hQoKtjBRBBiAbfvX/nL77zzX/2678zNMXLzzx/a2/ne+++IREbH5bLMnivCV1VWuRhqpJeL7NqbdTf3li7cmkDALaHhfcxSezm5kqem889d+WVZ67MZou11bXlskxiubG1PRiv3NnZu37z9qKcECoRqepaaT2fz/2GS5KVqqqCD9popVUMMUZh5hij0sjs5cnEgSJWay/OueCFvAv9Iuv3e6fVlFmk8wkwaNLCrIxGxDyxaWpYK65rq02u1VaRvfzsla2NkWf+LF+aTeb3phUpbRPRDOOiaA3mGtO8Hzy3vX7pnQYY2HRpk1nTTit/NFv0h1lPZQRnBSpaKY0aAAQpQhQUJiTqjJduiUm3zD4S3akE3UPrnhUDEIAwI1Kmk/XxyspgQBC8q0JsRsPecj6PkXu9vEjzyaRaHY1SrebzBeZczktrtEHMEk0YhR1AJITBoFCNNol23k1nQYSdd8G5EMNkcprnmTaGWURCl53UNG1idIg+ugbAsCjoVOYHAskfJZkfII7OKRK8m09OpydHJwd77Jp+ZjKNeZYBUOOqPLer6yvGmnK+SFJrKTx9ZXtz+1ye9Q+PT/buH85mc0LIrHHBZ2mSqcwqnC+qadUcz+eJpQvbK1e3V6u2zTPIsrxpw3wxHdnxxtZqWfvDw9N7d/fLxeyFl176zje+nhW9qy99Rqnsowb//yMesgYAIKFEMVr/4LUf3Lt7t2kdIWitM2O3V8cX14b9jPqpHuTJue218coIEYu80Fa3LhyeTva3V+an843V8QvPPHP14prWHAHLxp/ONpom1OXUNe1y0e4ez9/bPbyxf+JmTRdkaVt//dp719+9fvHSZYCPM1U+5qUuS1EAOseFMHPkiBABGuC/e/0HT29f+pXPfLFI0q/8wud3jg7uTA4CA3exNolbG6ufeeG5cS8rsiQzatzPV4aDtdUVULQsGxDMszRJrdb44pXtxXw5XSxj4CrXCVy+cP58WvTOr/UTdJrDfhmqpuLIPsYQ/L2dnfHKilLKO8+RlVakCABj5MhRRDHzx2j1hMACPoambRcLV2QZsAzyHHDqI4PSiGC0jiGUy7KXWBJIrF4ZDur5wgz7vTwnH58/v/XM5Uu9cU9EkjQ5PlmU4W4b4iDPhHmYWDNIAXljPKqqVmw6axoLVNd1L8/ni4WLMl3WLkRSpDQhIQADdk7CzuWBMQZ5oF8oIgAhUh+TAIZwRhudG/19iUYwpPpZXqSZ1UqR1PWSiNuqLpu2PxhYY1mk3+ujSD/PLOJx60yWieDqynhtdWw01a72MbBoFU2eZ9RIYk2SJMvlXAIjUozSuBDCsihya8x8sUiS1FpLSoGwJggSgVmkk8az0cmZYv+xpgoKosSqnE4nh1U5zxILEQi4dU2aqOWyHhR6c3tV/X9Z+89fy7IsPxBba21z7LXPvxcuI72pqu4y7YrN7h6S00OHGYyE0ZCAPkmAJIwgYPQPCcIAghxEYMQZkU1203ST3V1d7KrKqqxKFz6ef+/647ZZSx9ORFRmVGZWUaMfkA/v3rj35d5n7/1bfu2s+PTB02E5KLV9/ebe9sHhw7PVDz745Pxq2bWRHVurNfAot5M8H+WZiBxfzRfrblU3omi9DFemGo/xanG1tz2dTEezGTx+cnH77u27dw+7trueb57O2vjJg+2jg48++sH+7du5TQG+VCbDc6H98rvP8eKLvWKGiC8+TIig8N69j//yz/+sbhogpYwqM7s3Kd7cnR7lZjo203ExSJPBMC0KyvKClNJaEyWvbpftKzcCw9Z0lBsS8b6XqFayURIK63LqqnqhqkwpIgqIdbiabzpB8sGfHp/+8R/98Xd/73fTNAWQzwz/2fBEnq3al+FZISaRAAsAgwgBCGAUQLXoun/6F/92//Dw7Z2bt0fbv/tr37r4i3/V+QqFEHBrPPjmm7e/fndvNCi2pqNhkabGajJ5VlBiEJGIhEUpQhCRWKV6ZzpYrFbnF82No53JJE1MHBXlIPvGjcOjP/qLHzw4OYe+TwKH5WJ2cnJydHSkjebIIqIUEQmiIKIwgjzzfXwhjCHn2GgK0XvfUVEooEFZWKMwiGdRSCFGQ6AQ2qa2lJV2ODImTS1qZQTyIju6e3O0t2utFmHS9u237q6Dv5ivUWmCMMgVE9m0LBIapPm88tvjads1wiFByJVah7Bu3WJVbU9HRKAIPAsTMsFzGdwrioggioSQkRSIUn2d4pfgs8vZsxAiApIiMqRyra0SpOhjk6sk1A3G4Or62sW9/YMkS4yxV/FcIYwT1QW0xfDWnVcOD44ih+vFFbpgDbCvUUCzzy2GREVH8/UaREfQpLF1je2C0iaG0KGziTXW1PU6SwkAgoASQsBnHhwAee4leOku7Zc92zHG89Pz1WKxu7NdzS+NNsxBRKqqNoYmk+l4tP3TT+6lxkymw7297enW9Hs//NkPPrh/vXZaZ0VaEIhSMhqkBzvjvWGZGU1K7xxnD08u1hWVeTbIbFMt19c+mZTz2TJN9e7e1tVs/uD+o939g/F42HSxjbKpqquLi1t335jNrtLh9rOt/JUH6cvwFZzCIsHH1WIV+dlTIpAsMfvbw3GmBkYmuc4NFApUCNx1YmxirNZGaaW1LrUV0okmDRwCGFLIiMAiIsErDhpiSpwRDyzuTwazynteLqsOETvnnjx5ul6vvyL5+ldB/2SYGXod6vn7Avj04vyP/s2f7P+9/3KaD9577Y2HFyd/9sMfKpQiS28e7h0d7OVW54nJE2MNJYmxKkHETFlrE+YIIIgYvBfhRBkQGOV5GA5JKU3AsQOgTKnb+7t3b99YNe31qnGtQ0RrbVVtng2sz3Vh7p2LfdhBBPDLw5aAoLVmaUXEdV2Z5yhhOhmliaU2AIMIa6vzPM9SkyY2T5NJWWqQtCwVMzt3uLe7f+MwSVNShADGpjduomP++N7DABSiN0bl5cD5kKcqTyxDc7VuFIK1lgBTa+vgvfOXl8vbN/ZTY4hE9f5CEYBeq0AkRRqVIqVRaQTpszi+dItGkGd0KYIA+FwYSu9jVUpbbRIjHLWitql9hLquebnaP7hRpokCPrs4O/nkXrNcFMbu7R4c3Lpz45XXimIQg8+svr4+rzdribUL844DhZAKt4CFtYt1E0mTVkmStq4rjCGktmkGw1Ef3hJBbW1kAgZ57rjuWeN5msGLeQC8RBwisNlsZrM5EQ6HA4rN1eWVMWa1XItInqd7+3vLxSY1Nivy/Z1Jlic/u/fkZ5+cnF9uSFljKFMwGZRbo+xga7g/LkaFya2JgIfT8sZWOZstrKHpdBD58NNPj1vX5ZNivV5mxfD2nVuffvpwdr1crzf9NcmpNafHx1298W0HwgL8i1sNv9w18Fl8BXEQorWGlEKkNLXSukRTkagUg4VukBUJiUE2ChKFiTZFmiVZnqS5tlpAQFs0lkCIg0YUZgUxRiQlwp0PTklIiRMMueFxRqMyvVpuNvisAPbjjz65f+/h9vb2Z0f4q8zoBUSe70WAZ/QBz1QVEQkIP/jop7f3j/7u3/iDXCe//41v33/85PHTh2We7u9ulYnNrMoMGRJCIAQipZVRghgFeyVOgIQAjYEYoqRE24NBlOi7Ngp2zqvAiaKj3Z1PHz6uGt/54CKGEJum9d73XM+R+zPSu0v7yX7FoiilfOdjZOfcZlNVdWUgxiRB6B9b1NoUWToZDvJEZVppoq5t8yJTCrVSRMntO7fKoiBSyhqlDaIaob4dWtfV67p1QK1zMUpwgY3yjsVHbuuLxWI8mQ6LfLFcKlRRZLFulutmNEgJo2bFAoiMCM/8pQgASIREYIwSIYkIX5ziAAAQgDUS9LFOERCgXnshMdYoa0xmTWZBmL3zXdd2YTGfb+/sDrN0M7u+98mHTx/cMz7uTrcP9o/2b97au3OnHI0JiL1LCSZ5tlnMry5Pr9aX7WrlGDwLdM6AJAqr4Mlopahz0rVdYu1qU1nnlFYAGBm1MiKKAQUiID5LHkWAviXMVxAHABhjtdbMUhTl/OKp861z3oeYZXZvf0spqJtqVGb7hzuJoeur+f3HF09Pr7W2g7worZmk+nArv7E72SnzUa7LTOdZImhcxHGRrZcTTZzlSRclI/3RvQeaVFYM66oui0lZlgJqPB7PFk98lGQ8SRP78OHDr/9GAPlcGukL/IrE8eIzn1WPkZ67iyM7561NrLVWa40xIQTfaaHCKGu0MdomVhttU0NG6zRLyoHNc9QKtQVlOAZ2jbQN+EDoEACZg9YtQO85U8CWxCCXqS4zW7d+3XpEFZg3VQWfmUh/4J+N8LnB8mLML4GIQgg9WfQf7rnjxZ+KIBv2f/L9P7996/Z7d17bG0zvHh1+8OkHWUKTsrAaFLBVooANoSICIqU1KiWIRAYRmRkVIbFio3wnLIlRgQUCQSCIAhxTY/JE5YkxCo1WIcTI0nWd65xNbB9V6UcoIj4EEyMR8ZeHHxSRNpqIYoioSGuVKpQ0MQolRoWkCY0irdFqLdEDIbtOFWmWJOzd/sHueDoipUgb1NZkhbEpaDOBeNi6jz75FBFYoHOurpvVajkqC9d10TVd01y6i+FglBhrnffMzsv1bHXzYEQERMSCSJEIiRQicGRGMFophYiACMwgX8ob4EWgjy0BIhByf0u3EJHSWmmdlLlKTeDWt01wrlpXVqnc2IuTk4uz0+XswnDYmW4f7u+//ubbN197I5tOogi4yL5LFEarJ4Nif3e6mF8fn509OT65mM1jXUURQwpikBiAtLVJ07aptYjYda7/X4comjFyrwshIGLvQ+u1KJCXmOMl5yj0NaBE5JoueAcoVVUZpcuyPDjYefzkmMVtb+0URidJvlrHR49O6sYVqaLoJ1l+MM4OJvl2kWyX6ahI0zLN84wocVHyzpdZitFpohBZ32Ay3Yf3H022b+eD0pi0LIcXV4uiyCeT4XJVR++zNAGOCCIi9P+P/ihfCCQ8PDqYbE2vZ3NASZVCiMBEhCaxSEpQAWllbZIXJs9NlmGap8OJKXImBag4hOja0NaxqX1d+eA9MKOAsX2ImwUIEThCDEVippNhXKxJaaX0ermKz3LPX0ZPIl/4Tz2UUgDwouij/3D/Zv9dQQgIZ9XyX3zvz27sH2zb4uL4hKPP0zJLjAIhZIOCEglFa0VKkVLKJtoYQiJCFhEBEQYiFzoWzyKRfYQYmUOIQBC5S43a3ZluOhbtm/aqH8+zRoGESqt+RD0T9ZqI+YoOYAAxcv9Yoo9ZmhYW1oGTxIoAISlCoyhNEtc1xCFV1GxczNPBzpawGY4H1moRUcookyRpicYWaa6zfBfU5WL14cefNIED0HKzCd6tqqrIE+ZQZNnp2bUCVeT5sq61Up2T1bqKMSqjUZQIAgkp7GMoQQQFlEJCgD7V48tZHgAiCnDUSM/yxfqlRVRK2TTV1mRlwSgheNc2CtF7NylHrmmPT06Q/SgxZZLt7m+/8fbbt197s5zu2DxzrguxDazEGiRmVmDVOEnS0Xjn4PDJ48f3799/cnUFzInRVdemlCXWcFWJiLXGeZ9qQ8qIcIgQGYQQqR8aAYJI70oH+Pw+fEnjEO/jYDAyVl9fLEPktnUsYqzZ29upqnqzrkbDEftuPBmYfPj9H9+/ulpYRUc7w8PJYJrZ/a1id1xMBumgzAajQT4YGpuiskmUxPvU2hhaZIm+M+kggntyfHZ1sXhrd89YM50Mr2ez1WopMQ7L3BJ0VZWQQHBKnj1k6KcAJL9Agf+/ARFBxFjjnSMiBNRaXNvJUAtCYB4YbZUmrXWemSxTiUWtVZqAtVFZk+SgjXhP2hJL5zwQCgEQMiASIRIwGE1aESEYRYSaMI7yjJHGw+H+7rYieq7ffpVf7RchIup5k65+y/ZP6ec2C4gABJAPHtx7/9OPvnXrjXpTWWWSJCMShIhgRVAYgJFAKdJaJzbNdGK1MahIEBCJvXeXnbAopCgCAojEIC5GIBUY2s4LYzkYUsIXl1cgEn2oqk1irdKaNL0YWz9skc86g18GIiIgxJgYlViVZtYolqbRqLAPfxIxc9u17DpLsqnWZZGWaWqIfJBBXmilSSmlFJKixNisANKgTNn5/aObD548OX30GI0VhtYHjrxcrQdZKozMcVVvRuOxMaYJURA2my4yqT5ljRE0IfZUCCQkzIhCQBoVICqL8uXbUpBCrzojCKIiAgEhIaO11fmgKMrUu7XrNggx+j6yK7Pry9g1tw/3MXajMrtz9/X9G4cmMUmiY/C+azEGiPGZaQkgQIxa6WQ8HOlbt1KlgsQHZxdak3Bo2laRZgAWTtOkW29YIpIiY6MA9HkqQIQIiBGgJwxBgM87sz9HHJEDgk5s7p1jCV3nIqsQgTAk1q4W88Rkm8Xm8NXD0bD4+OnJbLPRRt862Hvn1t7e0GYaCmtHaToZDkaTYVGO0mxAJoU+o6mpCXPhhGMbHNtI0y4e7ex/dP/p6dOzu6+9kmV6Oi1Xq8Y5v1mvQelQGAjto3uf3nn118mkiCgCCIgiDPLsz/7HoBd6L3Zw/w4ApEmSJLbrXFnmwTmJAAyeo+eQGpNZY402NiGtDWmttTaarAIkRK1IOw7IIAEogkIgYCRmYY2oDXkFhKJQOPjZxaKKtu4CsVdAGoA4oAAAASL2KcgA8Jlj9hWIMSqltNbxeWXdC7Pluc0CFBER1m37vZ+8f2uw8+qduxuFyaDPYApkMyYjoIBRGAkVkI6CmjQlibIGjVZIzWLJkRUTR0QGQi0xxuhFooB2jhl1FIWomrbVSgNHBRB9CD4QKWb+7Gz6qX2VqWK0xFYJWKJBniIJEHEXY8sCKIhKa0RarFYaIlkyCBqzYVnU641RKlFGi+qLcawxoLROUhdYm2Q43Tr0t77+3rJazU9OL5LBpCW9XG8gRNdVSusovFyv0VpBZGFBrhpcLrutsSVhQCSltFKketEFEsESaq2M6o/SV6+aAoIAEAQIWCNpQURMjfIYprsToiiuCa7ShF30mU1a1y7Xs93ReJgmCHprZ+fw6BaRicG11SIIxBDBh+D73RpIIglQFBAJISiRUZHd3Nm9Xiyvu44A6qY2JhVULgRDaBSE6IAQWEURRhZBEeSeQxAIkREU4OeW8Bc1DhE5Pj6dLxZt3bSd8yGIQJ4VXevW62q1Wpd5LiKPHj720dZ1M8rTw+lwq0y3i7RMTZ4mWZKnSWq0MVorpYietdjUVhMKiLAH7loQNqi2B8OrweDs+GwwGhVFnheZ99L5WNdV2/nluvORHz+6dz2/KtLCWqUQQQSR4St1wpdAz8ny+an8HAixHAyGw0H/e89HHKL0HTQRtTWklSaCyBAieubO+6rWGaIxEFmx69oqdHX0bXQtByfBG41BKEZERUpro7USCK6uO9+BkhASazdNfXV1zfJSqOtXRU8TRPRZlmHu+zogAICAAEcGRjg5O1031e7uLj59qLXhGJ99lYiIsFdSBJRW2mjdHw4kiQwIbdMAizY6AkFEFETC+CxcIswMCDaxzdVyvVqlaRpcR6SEmZljDIBaaYoxxhj70b5YkS8GCwLkaVrmRddB13ROIijd+sCIKEAAgaNCZvYhQjooBmUxGAwePnj4yp3bCCgi+Fy1iSGIiDbag0CgIi9uHd1s3nmv2nz/fL4IqBHYsW+6LktyJHKdu57Nkyxn6SWUOOesNRiDiFaWnsl1QDIkCFqT1rq3EAHgeUTil4BFPEcWJEVNCBFhOBk430bvkAEQtTJIdHV1qUG2JyOtydhk/+DIJlakPyCd0hoEIHKMQWIUjsIhsLBwjNF573znvbNGjwblvL22SFWM3nfCMcRgE5OlSe2CUhSjCHCUIAACSIICgIpeiLB+2i/wEnFg17Wb9Waz3ri6atu23rTCaExyPVuslqvIESBez652d/cAcHG9nJbZ/qgoDeVWjYtMKW2tQUWAwC/0536biIriEIBZRDCGSACpNaMiP1+tj49Pd/e3YowCkUiAqI1hWXfHpxeYDC4untzZvxEjAYhGBJBfwuxfgv5EISF8/kEQYTkoiIgFYgix6bqWkAsJHGJkADKakJBBPAfvpW0dcwHYASIqdq7ZrGPb+Kb2XRu8BwCtNTB2IJ4ZFaXGbg2Hk2L2qKpbVggsrjNGeediCMogi7ywe7+Q4L4Q+Bn3sIj02/eF3oH9uwBRZFltlpu1Z8/M1brapIrL4TPaUEqrZy4+REKlmMU7RzEyiGu7dlOTUkIY+5SGyERKhEOMIfpeT1JK1U1tk4RBUFgr45zruhYVAT4rsxMR55wxpm/585l5fA4koIgUkVU6z1JFalO1gFnlAwNogBi8sopAIEZEnJTFK7dvKq26rptMJyISQrBpqtQzkvIxMHMMnpmJ1HQ0vXvr7mbT/Zvv/VVXNxA9AjPAuq6tTQCpaR3qBAj7Ju8CggBKKxHVN2km6h8tMUVCUKqvhgcAiPFXXTshiAioFAukaUIUY+w4xrbpBmXZnzVXVdMyTw1qA3lZTLd3UFGIHgTxOWszS09wEKMwC3CM0QfXuabrmqZrYvRFmpY2CV0g5q5ttUIJPiixxnQBiQUgspAICoIAMigUJEYg6NWol9brc8QvIDFGbXTbtsLiOi+ASBQjr9ebrvNJYpEgxJBmWdu6rguJQiUut1hkRmu0VhERhxi877rWO98Lnb5WAftzoZRKUjIGCbShLLej4fjk+Hw2W1RVJcKAjIg+0rLyDx4fzxaX508/7daXGCoSJxKBvnTP/Yp4iT4Tm+zt7VljACCEwDEmWlulfQgxRiQEIkYBwr7bZC/oA3PXOee880EEogCjjqSFjKBmpMAcfGAUQVBE08Hg7o29XJN3HgFRwLfd9fXMufDZvfYVJ+oLQb8ARBQRRCRE6smIsPM+AAeO8/ns8upitVqGEACEI8Nzj0NPqSISY5TIGgkDS4gECJER0DM/F0TSdyEOwbdt27Vd31I0S1OtjTFmOBxE5rZtg3cxxhhiP1R8funBS7UPnwUBBB84RATc3dlJ0tQzNoEr5wRAIVilYgwcPESZlMXuZLK9tTWfL7Qxfdc47o+USIwxxAgAhghjZO+ji8y4tbX79lvv/Pa3vjU0plCghQlJBKum1cYKUtW2AIhEzGCMYRb93Eg1GrUmo5XRZI22Vltr+p/GaGNejlR+KUSIUClNSKMiVxIgdnW1EQajEo0KOaZKDdNEIxPK9u5OUpSkSWkiQmCOzrH3HOOL+bJwjMFH1xejxhgAWCkqrJ2WZa61JfKuxX7FmRWhVgQgLMwSWZi5L76NwsLyWd/Z57bl5yapSWVZmqZpZJYYjbXKifPx+noOErzv0szEAMPhFiK2TauUHhRJWdok0YgcJbJ3GMCAZZQgqI3XCYMiRFSk0FoCjsAEgtEHBCHU1qRpFiIfPz0hA8oYYywqEiQgalp3fnZ8+uTj0Qc7WTneP7w5nOyIyX5VVv/VoI0ej0aA6J13nRvl6fZ0mtkkTaz3wYdghJkQjVaJpdRSmqgs1SZVSYqoGZVCtCbpTEodhpaQY1u3oWr7BXQhECgNuDsaHEwnT1eXCog4JvpZS7H/KMvrBXpZo5TqTUJ4oVIh9j0N8TkHCUAUXtWbg50dZvbR11UdQhABwGdqi4hw5Bijd15pJc+VfHYBGUCkj3REYQDgyM4HEfHehxBDCF3bJtYGVEZriZ6IhNmH4H0gpWN85q9VSolI55w2L2fl/BwiiTGRmACsMZHUet1cLC4DMyCgQAwBEFKrMcZhkd8+OlRE19ez/f29JE1IwIdgGEgEBIRZIRmizgfwDCwxCml7eHCoFRnhv/yr7xO2sfGBmCN7HwDJ+SCIzGITLSI+hDJPELV9HgtCxD5R15ieUVRvIvF/zFISgBIYZWWZpIp9jG4+nx0d3CIgpVRwobC2SBJNYhO9u7urTILECIKIEkBAIjMDSq8YvdBAmAGFCJRCo5U2KkuTcVFWjpO6XVU1CBOIiCCA0YpcFGGOIfZ/CFEECPp6X0REVM/09Bf4PDsiJpll4OWyHRgTQuDoojDopKtdbo0Btbd7uLW9t1hVEN1bN7dub5VbqSVUF/N2sZmt1pUxejSd7Oxtb0+1yb3iNkmyxOQgKsYY2RFpbWzX+XXLp9fV8cX6wen1atMYR1mZoneDUWpMYnMgUjoxVeMf3L/vArQeg9jx9tF3f//3b96+Q6ThuXzu9/3n5vJVYAAGVCAKUQkwmXz/4EaZ2av1spOwU463Um0kCEDtQh5goJI0G5gst0Vp0jLJC1sMICnRpgwoISoJEhxtVrRmJ8CBmVTdreaL2HUcnWgJwTkCGaQmAbFJStJxqBKDoLQAKPEAwoDSJwj9CnqH1lqk3yrcE8eLn6qPtvRZBSwEDESrzebdt982GmNgrWxwACLGaKWN9FcKAHJgMKhII2BkjoEBInMn/SNTViOE6DhIjCCA2modOLZ16Dpr0651KGGrSH7t3Vc/eXR8Mlt5Fs2RhcLzG5uYOcbYtV/a5VxnielEpAXBpnadoHfd0OJukRzXLSsAq4ZlmWsV4mI6Hu3tbTnvN011q7jlQzSko2MdWDFhBPJgkBSqLMtjCN5rCcQoeZru0eFvJcnBzs5PP/7kwfHTB2dXK+S1D4wIQfpmR9aqLrrGx7GgUaK1RkR5pj4ToPQOc9JaaS09qf2qQAEihCJRZapI3Lqq6toNhqVrG03svN8aDRJrAJPhcK8otozOIghLQAqkUQAiRxAWkV65QBRE1IAsQEqTtpRkllUmJoJeOZfMgYLn0JcaRpGYaKVRFELk0IdjoScMFkCFQAACqOTz+/HzeRyIREJE17N1OtVam8Q4ZjRWFclomNnt6Xhna3e1cfNlRSKv39zby60hvLy8rtqYDievv/2KzfPZYvXho6vkbLk7vXr9lRuHh9tAijBBgiiApMT7qqk/efD43sNjMdnNWzdGk+H9Rw+9Y9JQ121ZZsPxaLGuB8Pi1VuHdVu//s47d+++db1o7j86+d73/oK0Ojq6DdCb8L8ELw7hZz4sAIioRAAJSMfR2IwKc7WCKJBaZUkYYL5pTZJSDarBehlKhmmWppyApBi0TUihIsIYJQZ2Pi4av5pVV6cXm00zW6yX15ebxYx9p1GyRCNIIEgTnWcmSQwFn6Ev0RuJBELQG8dfLod/Ab1HQ0T6xjn9NHtzoP8dEQGBQCJLiH6+WhqliiTxQkUxbgNVjgegUmUjGlTGKpsYU5alC75tO5smeZnFqBCi6yLHGCIHDp4xIDHpwMEkejwww6IKXUtUBO8zTZNMvXk0ReDji+sYokivQz9z5fYs31/L9IUwaVJB45yPLBcXF55Jxfju3RuDQTF7/15QWik9KEpp20TpmzcOAWC92SxW69OLy7pqkdEYC1k6GI7Go/FwMt3ELitLCsw+cIxJknjfOedb54xNXnnl7vbu9u6nn1T//nswW26Px0kxuF5tlpt6Wa1ByWy93msG0gtnQiISwWcmIbHSZKxR1iJqQSD9K68gIgIZoixRozIlCIvlqixHSWqir9hHjTgdD0MIPoCiZHa9UOvGWGsTbQ2yYAgiLFGeGxfAIjEKMCiPhjVRrhObU9KZvItmYdsNWIoozBFQ+xhiDFZp3XMF9+vEjEQSAaUnCwQGxpcS215KOY8AkKSZj7FxsLO9u7y8UtD2Gb7DPFXaPHh8khTZYlENkmQwSBJjQGKRpTdu7R3evLWze5CUk6r1xxeXJ2cn8+uLJ8enWQI8DNakxhjXNl3bLefz45MTQXz73beLyRbHeHl5Obu+3LQNBAghliUPBgVSabTJkjyx2fn1WmXXW9sHr7452KwXZyfHPXHgZ7yDX4YXWpY8c1wRCylQAIAYg28ePPjBo4ffN9IkoDtl0KhAJAIX16s2rB8vWT49a5zbmk7Lotjd3T3Y23v17u2D3YlJMiDlnGvWq/sPH/3VX7//9NHjzWbNDFk+SC12zQY4QOhGg3JU5kyQlfl4VPoQM+GvHR3QeuFXs2JQAACjEiD41dzy8DyA0js1Y2/oisBzjUNEgjAhEBGCCMtyvS5tdvfWnb/64KqNeHy9WseHNzebvd29nfHWtNQaXZ7mbV0zSK+IE4Hz0rJsQqhZ2ihtG5zrgBTaNDatiZInye5kZI1aN90gsTnAne3Rnd3p45NzYMfAzBJDYGNijNbanji+YtWsNgDgvY/CddNEoRvT0ddeu82M29npPMSEdKK0SfWgmOxub1mbJlk+Go1uHB4Ny0GaZGmeRZCm6R49fHD5wx+U49HNO7cOJrtlnilClSYSYhsa37WuaTfr9ZPz0/tPz5jhjdu3f+3Nd5n0h6fHP3xwb16v1003X1bLdeNCREVKKyQCAK2ISIlEUqS1UdoSaUGUL+9y/jKkXymYjAqj0DvXNe3e4e00TTcr4RiV0mmWr9br4B2QzJdXzseurl1w1poyK/K0MDa1Ra4UAkjkwBI9x8jYB7t8gNWq3WxmrquuFvPFet0nGjMLAPS+DQRQSAoEQKCPxkKvwfZ+4f6/n7cR6fE54uAYANRwPBqMxq1fCGXGpsJRE3Jo1pVbX7RJOVx2IXQ+A8w1KhQBLPLCGNt2/mq2SCvnGJD9tMgKs23AbRZLjHE0HAKbarW6vJidnF6sG58OtwKok4vZ/HreuTbJi8b5EHyIbhO79WpDJkuz7KMPfnZ08+YnH36c5Ft7N15TwJG7rgsi8kKV+GrI84R1xN5UQ0IFgAjBd5uPPvrR9fX9w1Hy+t724uoU00RZHQRjlPPLJWVlDdXW7u7O7kCBrK7PVudPu+v9aRJG+hbqBLUJzq1ml1cPP8HN9c3dUfbKjfF0kuUF+LhZra4vziV2mdEcQx26skhHZT6/Xr5768Z3v/YOxxi7BlEYkIUYnrWp6M/VV9NiTxxE1Fso/Tv9m71GDTFAYHlmq0DVNRDj199498OHH7WNW6wX15v12fV1mj463D26tb39tbu3UUSlmTYmMLdtozb6anZ9Prtett4zhhBC2zTVQpOI8+yixmh1zFO7NR6cL6+M0tuF+Y1339gZD73vgBAQFCkR9s71IZVfumpEpJVCpUjrNviqdm8e7u1tTV7Zb+7u73x6fm2VtiR749HNrXGeJNqkSR729g+ODg6zLE/yTFnLVZdgow4Oyix99OTJx1dX1cHhjRtHW1tbXmKI0bXNulrNLq4/vvfwYrmKSt187TUbgSMQQJmlqTU+RBdhvmzny7rxUac2SYwIIxI9S9I1iKi1NTZVxogA85f2Uv1FaKXyxOaZVUrEi9Zme2urvzhCRMoiT2yqVGPT3BYlK9OFdtX6s4uLy+tr8X6cZkcH+zdevTvdmiiFAuy969rq8uri/PxyXXVtG6q6kxiMIu/bddsqHy0LRAYWRSrGiACEJNFLZGEUEmEAkF73fbZWv7BkLxEHA+Lu7u7e4dEP/uLjMlVGaZMk0VVZliw3m6vlamKzjWvBhW1rVWBtMCI6wfPZ+tGsqV2ouqZ1cb3aRNdtD/N3XrutgtFAozJFwfVqefz0tPbUQf7JvfMnJxfXs0XnO2PVdJBnNgfeSGQl6GNsukpCTIe5QV9gXF9dPnn8eDAZG61Km/3S/fcCL85e/xVCZACC2NbLn/zoz52bLy9mZz89/vrNo9Ws+eDJaaqN0rbM0teyYrq7V44mw8nUZgaia9dLt1qQd6effkix2z26UQyGbbW6ujhBX71yuFMFiCppXVguT6TrNODudJSnOrd2MZ9dza5zpRTIqEh+/3e+Q7668/qbeTaIqAAEngU3PocXpPCL6Kmzn92Lj8UYRaR3lxrQkQOwCIAQVm3jWv/K0a3D7f1mcz0aZNPdadXxbLG5uLp3zz5sN8vvfvsbY5h4p4IIg6yrzfs//umPfvbRVd2xyXamW0WSaOmqzbKr16Myv7m/qxNrtCRGd22bZdnvfONrb96+2bG6WKzZGCBllFKk+gK1EELvze1jWF8Io7W1FhDqrqlcW/nYCeZFfmNv+u33Xt90jWidG3P35uGtnYkh8j4OhqN33i4RMEZeN+3l+eXictE0jTUaOe5NdzB6HZ3brJrEkJSA1DTV9cXZ6emVE9k6vPHo7OLJ2fVqvvprvrc73cpHRaYTVBQZqsZfXK+q1pHWNk3g+dMWEULSpGySqiRRSgOS8JfO6yUgoEIqiyyxlBjVNnEyGouIiBARI5ZlmRitlbleVdc/++RsWV0uqxgEiNrabRXJTlm64Fab1Wg8SJKkabv1ejW7Ov/000+enl9fLaq1E1C2SIphlilk7yOyGOjTOMhair5v70zMrJBQsLd+QYSZARmQCEWeO9Fe4PNRFaOZcTKZ/u7v/s2Hn35QuzjOrNJRQE22Rw5EZuv1pq49WMTUZgpAiyijRWUPn87e/+Tp6XIDZTaeTJ8+Oo5V9fqtw92dg0maVOuNHxeJse2m7ZwEzJLBtI3L+09maZpwklyuZjZNt7cmukjr1ZyFtSYdRdgj+/Pjh+VqNd7a2yznjet29ybDafnV0vjzIOg1MRACZADBuFpe/uB7/w6lOjt98LP/8Em+xsnIfvOdO6fzy0QbrfV0POgF7/z08enTR1JO1ssVtNX+tNifDpvgT8+Pt/d3R8N8tbiczy6A0CSDwuaT/aP//p/+swf3PznaGmD0N4/279w8yNNkMC2buk46lxlVJkWemWk52btxW6VFRI0QAL4gPeUr5vhMifwMLfZmCzP355OIlKLIDEDCsfXetX44GBzt7l7J5sbhJBIURTmeHN578HDdbj5+8ihP1a+98954MtWKNk1z79NPHz9+JFHuvvLqvdPL+w+flkk2ynBYJPt7BzF2VdcVHEigzNJBao/2dl45OkwTe/98/fRi7hh0jBy9QlIqIXrmlAF4uRXdZ2Gt1UYLSIjsQ2xDfHq9WFSNtWqS65u7o9pDXqRFYjNjjNFeRCMmWbaZr1u/OpnNfnz//vFsyQBFmmwPyt94953D0W6slhKca+osTZHUZrU+PT3rIo63dz58fHz/yfHuzRvl/sFf/eX3Zq57t3x1VJTGGN95H2S5rK/n6yCSpKkyipBEhJlRUJM2NtVGkzJIhPCl6/USiMgaDSBpYozGQCQsFxcXg2GCAMyslDJaJ0nSLOsf3/vZ/cuVLiegsvlqOUiNShJI82JSDgfDsiy1wbqprq+vP7n3+OSyutzwWauum+DEIy+NXFt041KNBjloIEBksUq1MQCLJgIRrRT4GEPUz7KBBJABIwABEn1+H37eOaqNioAC3/z1bzz45Pc+/MkPmQKwjwTD4ahedRo0gOrabjAaG5Vq0RowLwdYjhcdtR880Dr9+3/vHx4e7P13/6f/M+fJ1997e71Z+amyRK6qOc1FALV5/OTk7ts7d2/f+ujDj0ZlEZFvDne2xolJKE/Hk4G5vLyq2xZi1Iq6pmNP683T7gd/+fv7B+W4NGjzbADPNfl+I36VAsJKiEExoZBAFD4+f/DBn/+POvqT0+rhvUfZoEwzyEdb6/OrcVYggUloNLSJNk+Oz+9/8gDT8nf+8Os//usfzq+u7hxu79+6BRKuT07aqvZN263X6N3ewRGrnNLhwcHee68cJW55uL+9XMwNUZkWg7QUm13ly7isFPiD3f29oz3quqhJF4lH0SIKmYH65LZfZV4iSno3OECfwa2U0lr3xCEiChC0ZkJ0zjAYFuaAHG/v7iR6vr1dnJxcv/ra2zdvv/Lxwc7O9vTu7ZvHj+7Plout6UShbDZLJv/t3/iGVunBa++czquffPjpwf5BffZgcf7o5s19o8h1nUHdtX46Kr/xxo1vvvnWzu7UjAdPPniwWFeCCUQRgigMLCFEIjJGAeBXpJyDsizeWAQGqxLmzSenZ/cvrr955/BgtHpjf/fJfKksKgBgUAgCzkRt07Qt05NHJ//mP/xw7XxWDmeLOWl1543XTy6vDOJOOTSGGCIQkzVV10aVjI5udKD47GI8TLbKwXhn27/x6hD47Zt7T66uDCEiAErVtpfXq7ZFpa21VhEJgDCLgCJtjDHGKKVEoCfHL8QvyAAWiErboiiUlsB+U1WgQ7upMAaJIUYvBvJhdstm2zdfO7pYHM82Jht3TTtI9Gs3dsHXVO4UW4e2GGRW6mq9XiyrVSOQJGXx3hu3Pzo+u5jPfV2vV0sJQQhHA0oJogQCUJhYUsF1SFqIIwMp7DonrAxYpL5H87NhvxRm/jxxAAICkdre2X33va99+vGHBE5TGpzS2hR5nmhLNkXpMqu1QSEhZaxJ0iJ57+1XivH0L//DBx9//3unZXF3dxy7Jqyu333jTmqCUoAAHIJR2mh489Wj9eqyni/eur1drdd5nrxx+0bb1o+vFjFNtDGvv3ZrvljN56u6c6hNGxwpuLo6/8H3/+L3/tN/KH3/4l8dqhLSDBrBuOAe3vvpT374x8bN7p2cnlxXe0fTN26+cv8H9yLLnZu3Dh8+uVov0sRuTceGaLlcHx0dltMdy/Htu7f0nRvT8WCY5XW9VoC+6+pq09Y1Afiune7vrmr/6NP7h/t704EF4YO97clwNB6UlrCuagA0RANr/tbvffeN1167Pj1pvAs+9A1TelPyxfp8BWX0EBZGQGat+6PIzPzCidC/JKWIVKKNYdqbbOfDnBUNx+MORlvbQ41p1yzbavbuG7fTLDUGb908Wl+eEBGAdG2zt7s7GYyik835+cDm37hz03VtNiwOp2+WZWoURh83y42rV7m1B1uT6XCISqusuF5tnA+iLTMjodIGAFznOLII9MlUL8/nOUhpbRQiEFJmU63q1aZ6dHz263dvHuzvQTLgx09X1brf0RwjgmglRuPWdGyKYlnV59czmxev3b4BEg+mU6dM03p1MMwzC9EpZaxNBXC6u4tZvj3dvnG4d//jn549ubz45MNXtoa/9updg7hqaqOUJgSAEPnyarFaN0QmsSkhISIgMAsiGWOedXUB+I+JiwkLD8qBTSyAd87VVU0mrperTAsJIzCIt5rGg+ztV95+W2XH883J2ezk5FSCUwQ3bt/Z392ebm8nGSVGjFmwUDEa79zdyye7qhiNp+Onx8eL+XW1Trq6GqVqZLRTpgWMzMCsiCIzECJSjBHJsDAycAwIAAiEgEjCzM/6zT3DS4snRIoZsqK8+8Ybe4c3zp/eA8BN3Z1fXCWo8iJvIw7zDNgDRi8xCEUG33T5wL57e+9wPFhVnfNdX6wxyLM0pa7eZAYRIHqfKC1tM9kpbhyMbx+O2ld3m3WtgBPi0yvPkRfrurCswe3tTieT8ZPTi03dkTYsYT1f/uz99+/cffMbW7ufH/Yvg8I+4uli/eFPvvfgJ39R+vnxk/PZpp0ejt/7+k33ZAGr+nzjDr729e9++1v/6nt/DoAAqiiKg4PdfDA2aWEBsrzIrB4Ni8zQ1WKRpUmeZpq0NSY1lp2T4He2tlcbB8CppTTRRZ4pEBJm17VNHVywWn/z17723jtvlXkxI/XwyRO88eRmOSAEQXhB6y9Y4xfE1M+hlGKOMTIRKkUA0Osa/bH03ocY+2ShaTn4jXe/8datu0tfP3pwtqwus8xmaWG3MwZiv4FASrBIilXdEZEx1nUNsmhU1pikKLwoBsqNRKvV5IDBMztN2EmLiCF64EjC0YfVqnk4e/T+Tz9hIELo52SMRVLeee+9iPQS+uX5PIdRCrGvblUAYqyBuru4mlddyLSdTpMjH9pHTQi+dR0KG6UUilViU12WxR/85reenF2smq4sy+i8jjAeT5M8G+7uJMC+rnwQE9HoNKDb290GMq4Nb968c7scrqtlluitNO1an2treqmLwCyrVX1xtRCgJC369gOIfaEAEBGRIkXUJ+v+ahAQEOwJFIm899GHrovL2WywNzYK2XfAHhnKopyWSUJWsBgaPBhZ51ySJOPxsBiUfbMiloBosqyc7iajw4NiOPVR3jyc7Nqw3EqaelRm2Tixs7PT4ycdhthK4MBkVBQGYURCFGFQRAjCEiAKgAACYl+2+bnBf444CBgARYBBjbd333j3vU8+/gm4DbLiKF2o09S2Nb/26s355blzPuRJFGJBDlGJZIaG+9tIBkBi6HxoQWLVVEYXikN03mOHgS1iNZ9Nhnk5spDrOMjaqmqrTUKqbWMbnAtOMwrAZDq9eePg5PR80zSgrNYxcrz/8Ydf+9ZvZIlBfBZV+qWSGXxOyG09/9Ff/avLpz827fLJg+uqy8Z7h2g7qmX99GqzXl/Vm1dff/U3vv2Nk/nFen7hAyPg9ng6nSiTFrFjQigGqTGq3iw1CGqdpanVxmozKAciLL4b5Nl4sueiE/aELDFG13RN1dUuBBcZmHl3e7K+vv7x0+Pz07M/++Cj3yoPbr75Vt91UBBRED7DF18xO6VIhEU4hAggRISIIQRE1FobY0JfsBdj13X3Hj389ONPNptFVXdH+9t/87ffEIHpcJgXudbaWGOtDc1qvbzWpLMsc02FAkrAcxgM8iItlTVGE7s2tHG5XjT1yndN5Bh88NEzRJYgQJ2YP/n3f/bo9DICojABx8hI1NenBB9ExDmnvzzfQSltjCnKQmDelwcS0nJZXc3XozRV1o7LcpiXItw2nWKxSULMyJGENdHO9nQ4HHXCKBBaH13USuksVYml0HkQ553uXJYmm+sVNE2aKxBxAsPUjgdbRpF24uqWQyBmAowCLNi4eDVbCepyONL9pQnYB7YAoNcUERG/wpn9AvLcq+2D00qnaZalAUAkMgeo1xXuDBMCDq04HyPnY50iJlmSGNtm6f50FEVIGZskmU2MIuhziFFrRYWxeWrHRYpCkujb46JznXAwEkNVXxKHzdrNFswszAgKpFdylTAjoDaKQ1/3DCjIgigKOOJL/tDPvngGJGVMOZzsHh4GwKbppmmGpFmaNNVJ9Hdu7Slft23XhZFnjFEACAAFldZWaRKJRKRtIhIiet+FdtWI75SQQsySvPKdRFYgihC1gSSr1zWLdh7Pl/O93axj060rVHprOrp1OL2YrWaVd12tkK4uTjerpYj0rPGrIPhmtXj613/+L/zsNN2sj5+eVqoYHN4uj8YYr/C6k4UPBu8tL3/4yUeDLEPCEGPbtL7IU2vzLCWljEmT1ILFKF4gBufyvOAQNqtV9KHM86auNAIBFHlmoqnrterzMkw0rgVgzz4QMEJepqghLfN11z15evxetenvqvuPRQiRFAmLAPPzBHN63gRMa62U8t7HELsQHp6fMEeOPnpxp2dvzfbeuL1rlUq1scZopaOPoXPNpiqLQYxRmAkQo7SbCrc4TYwo01epN6EyWjmlPECM0QXfRt+Ji8is1JOL2fsf328YRVCJ9LzmfUwS7Fusuc6FEJz70rBlkiTWWiJKk8TaDmsEkeV6M1tV48FwOBgyVdvT6WazZuGuaUttKCBFlABsMR2UmTKtq8EzJEygmIh7uUjYBi8IEXyRJhdVt7m4SPZwazyOw4F0ZeDWdXXoms53XdciguoTGgCc5/ly7QNn+cBa08f4BRjxeaKQgEDfROOXABERsZcOTdsm1hZFokghoEEKXYccrSaIPrTOB8iUBedNIgObpDaH5zF4RPTeKYgYkSQqYYMRWKhtTeSiHJhygNE714lv/Wa5rlaWpCxzs1i1LKgQAZUmURoxMjsg6D0vICC950IUovSq1Gen8BJxIAD1bo40zXZ29spywM2yyG2RFRu3KQfpYLL96qu3YtucPDytPQyi+BByQGBE0GQSY8n5ToRIIQhor+pNtVqvc23AqsTo8WTql0sRQCEiRUgoLoJyQp3zXde6TtOoCJ08Oj7rXDsubVkYzMuEeLPcGMTUPgt0f4U0/iz+xb/8v3az48yt4vVqdlqTnYyO9l99+91iRy0eL7ofnSrGG++8KjcPrh5fbJyfbo2uLk7qtqvrRgEUeaGVSU2qM4uZcl3ddc65bjAYEKJr265uLYlC4hBBhJTK0lRbHdq2ayuIzByixAgSWCIwxzAuSptkjXcRaTyaIJAgIAACvuS++Qp2ZI69hgzQ30f1rGhdRHruUEoRkkfPwoLIjIwRAALLpu5ASIFoQBKMPhIRRPEu4JA671vnjTExBvCxXS4no63AUUSJiESIQQhJkfad77rOAwdmm+VqkH/w/kdPr5ZOEBG4T9/w/Q+bpqnWWkRc5/qbk78QNjUC6FwABCTURvsYl1V9/9HxrcN9VCgcU2tCmcfWubqVKBw4hijOYRIBFSgFMcbOKSEkpZUWBAqu65wljCAiUZNKUVfz5XgylhjSoiCrqxp88Ixt4OBCyzEKCCACgLCsV1W1bp7VDxIgAJJGhUQKqffTw6+gcPSmDTFHZl5t1i6yMrk2qs/bziwSx8SQ67rgPAfSqCVK7Ly1hU5TAFKkECG4FlEQWIHSQASSJ3a5WsXNhsbOiFhlQRkUcp0LbRc657o2Rh9ZSKmegFBTVBopAqBEJiIgLQJAiki92FF9dsfPp/DZFz2PKAWKgBCODo5+93d+d2uYTwrjO89kGU1RjGxaTPf2IElahFZ817XcddoH1ftPyCidWpsblViVWDLzy/OudcoMTDGd7B3tHB6oVCutiBSAjkKKhSNXnWPpxrlRIlvjwhgTdfrkanU8W86rVVVdE/hBnipSrQuIKjxvt/lL0T39cLBauQeX8+OlGwzMq3e+8Vu//81vfWd5dqY3Fa46sfbw9Tf/wX/2vxAz6ay+vX9EqNZN50OEiNELKW2LUTrcykZbJhuGQByAmZ1zIUQXuGlc23jvBImAwGRJUpQ6TYmIQ9e5pu7almPrXIisGVXnN4vl2WyWT8a37twGbZhQAWoGFEABAuxJ5CvCe5F9iH0xG1FfbCLS82mMMYQQQgQkrY0IoqBGRaAAIUBcbJq6csIBe/0YJEkTQSSjbWpNakURIHWtQyBAcm2rERAiERGgYkSPoY2u7bxzIYh4XCyqf/lnf/HHf/kfOkZmiLEvY/4LjAAA0lBJREFUtxSJvYen6e9/TNPUJl9VVo9KRFTTBJUqnVGSJtYqUfTo/HTdtY7jYJCbRGmbJIMhk/JBokTnanE1N1XYrFWQwmRFkifKKiSKkmorqFBpQg2MGnRqkrIsfWAQ0IoMYapUmSS5MUaRApAYUYFIJAKFSCJdXa+Wy8gBFCgDVpPVfRMfrUyik9ykhTLZy/N5jn51eoQQmMVFboJnNGSKNLPKRjI8GuQQnELWir2rCdmkBo3SSisBDWKVMmSIUfrGSsLB+7ZtvY9E2nWu2ay4rch34FtxnkIE10XnQ+t9630XqhAr75XRREikBND52LnOdW1onQQAJhREJmDsO7C85Gr7IlMFoD+Qg8Hw29/5djO7f3b/4+PTqyQ3bdz86KOTH374NE/TYapI+xCl89R2bds0KmuV62yWKWWiMIAIQowQPIxG247xelNLmmy6pmsb71JTlBLEiwSW1oX5aqU12Swvcr27vdU2/vJ6DYKLWVOUSeAQ6o5EYSnFcGDTBMn0cvXl0f8CJk9Xq7pdBh+H0/TWnd/8g7/1yqtv3Xv8cTdfpCfLGln2hltHN1+9+/b2/v75xTybjkGw7VznvLMusNeJUlmaFDklyjvvBXVSFMNxPhhqlawW63YTXIxxU+V5rhTp3urkEKOr26quK+ec65x3Tlujs/z04vrJ2fnPPv345te+vntjDxUzRRYlKIxBXhjNvTr7JeiXSUSeSzBm5l5EvNA7AGLvZWRmECBSMTIAdG1XNY2PqY+BWGyijLEsohAtkQJAEBSJzlfrerIFJM/uUxIGZAbhtuuqum5a52OUyDHw8en5Dz9+sqyCoBWBvqS/Hw8zO9d1reltEGutc19a5MaCxiSbqvGd950LzqXWakOrunp0fjbYKrfHY7spwK3TJGm1dsGHzltCLx2qTrkOCZPxjrjg1xW7gCgcvAhzZOccCwOzsSbfGuJm6b1XABQCxwjMFIKNkIJKyWgGJYBIAlEpiuKdq7WhJE0ARPeFV0ioNCkNpAQAfzULGhERiRCdc5HBmKQcjQ6ODlCS3fEgo0DoLEloQ5JqpRVzjMFBWysCSlBi1zSV8xtjFIkhFmAW70LrYuDWr+u6GvkOBFhEXOddK9G74LrOtZ1voq/aZrI1RKWATOulC4FFECkKIyARQq/5fgm9fzFxiEjXdXXdFPlAQH167wlHsCE4lHnlPnr4AIL8jW+/vjVIANDH0LSdTWrVrLS1ndXamGcbHhHJFNmwbtzT81Od2mG14NCNBmWepYjSdp1r4qpuFk1zObs2idrb304tl4M8eGcJEXTbus3KAZJGXY4nv/6d79y6/QqSenE8Xh79L+Dscl5bIzu747uv/fbf+cPD3Zscwr2Pf1rWnbrsOoD8aH/3xt1sOL7z+qt/8k/+n9XRUQSqOt/F2IQ2CV3tugSi48it9z62XpLhKB2MJvtHMXAyW9okWS/m3CuO7J1rfdc17ca52rnWB09KMYuA1F34J//vf0aeZ6vFAuJ3X31rMJqCELIW0fKcKfpZCSB+eSNSomeRlBij7nPMAZm5fywvGAQAtNYxxhijIiUaBKBxbtM0jSty57KsSJPE++7q6goFyrRItOnbe+rEBob5bDEaToBBAEIIXde6rqmbqum6CBABBKB1vhhN03wG1RKEAQj79ScCgMjsnFOqTdIkTVNjzFcsnKAhkwhQWze+7XzXWaJBkW/vTw/uHh1fX1xvNo/vPVVkj/b2lFIuePGBe+sh8RBdkujB1ja3ftH62HTBtT64zjvfVghMwByDGG3y1OTJfD4blQVkOSF0oZHOQ+PRixJSqDUG6NvnaVBKbKptanSSigCBIBKSAiQyBkgB0Mui+cuBCGli66Y5u7j8tTdvbu3sG53OrleBNKYpQqtBu64RRB88+o6ZTGQACXVVNevlZpHlSTIax45JQJMQR992HAJoOj07GY9HecrMElzbNZu62mw263VdNa7rvEvLNM2tCDLazbLqvENCJBUjC6Ag9Krui9l8Va0KPBdi3vv5fG6ULgejxaretEFjen21RoXAmJbF7Hp+vVzeOdxDVAzQsW9crTdaKxUl2DRVRiEhICBKOR7u5qNX3njz6enJ9fI6tSQco3d1CM2mdU2crzbns8Wi2uzdOjzYmwxKrbXi6Heng/W68h6UxkQr530xHr75tfdMUoQoip65A+WXOTtOt4ZmNH3l3a//1t/8T6bjbe3p5OSRuzhuF9cckLa2Jvu3tqaHaJJX337z//7frf+HP/63+weT127vRQAvHEna0DTdRvr2d87H4FvXnV0u7KMT7/nycp4Ztdq04+mw7dqotIo+Bhd8w+x7ozeG0DmnFK1Xm08en6gooMTuTG/cfsvqnJgFvIggaIX4jD56xv/ymfVaRq/3AkDf8Oq5ogExxt6EeUEfAABMACqKbKpmsa4Wm6xMUmMS571rY9O0m/V6Oa0ALs8v5qvlCkBQ6ybGxndR2GrVVJvOt23Xhhh8jF2MDEor5XzIymlELUgggggiopRK08waE2L0ISjX1VWNiGma9hUZX4hyOLkysxg5RtZEJJxlRiFkxmzvTNcGPvjpvfd//Mnbr791W+kkTdy68zGmrEmYgoemba+vQkTxXM/n9XLd+lYZ5bouNUiaYhSQmOZJ61uRsN40m83ad43uw2BVzW3bOFeH4DkCISIkigqLu9Ph/uF+lo9MOgQihECAiAYQgRSQQqCfH7Uvx7Md+2ylaLXZmDTf2tnfVHUAmdeNQJZrGCaJSQQQO+/QdyBEgNJw65r5ZkFapcn44cPjn33w0c2D3em4nF2eP3z0aLZe2jJP7GpQFDcODwmxq+v1ar5YzVfrVdN1rfMKcVTkSiOZtPGmdkEQSSkXIgu8dH+RiIj0hbI/x+eIo99wIYTNZpNlWZ7m58u593E4mpyfL9sIKagEweqYpDJfzVluIlmlkVFCDN63brNG8FpyzRkZ7YInwOnWFoJiwVsHu1tjez2buZarzUoBxk4262a23sw3VRBBBUrxdFJ6Fwlkf3dsNecDvak2ZaqG0+3pwcHe4aFJshgRgdWvVomYHdz62te/9a3v/E6aDVCwA//Bxx/kKS+UW42znZs3b9y8mycDRnN4+9atN1773pOztXN9Cy/SGhS62DXNQmEwpIXD3u7k5CQEoUdPz5BMUQw5tCZJh+NR6zowifcdIRMJIMfouq6pmwYAFKmqaU8v56O8KIZmtDXaP5quV2eXl08AqzQpbDIw2ljbN4dRRMQEoMuXpwQAAAf7+2fn532SaL92Wj+ri+3f6bkDAUlRL/kRAFEIJHBY1XXdtm3XpUnmnGucGwxKEfr43uM0zZar5Wg8LoocFaWDgQfoO+hGCV3Xdl0bYwzCLjD01f1Au/s3ptunTy5mCNirm72VZPrWajHGGLuu7UPFff7CF0Jpq3UCQFqZ4VAvqppRaU3r5fLDH/5kOipPnp48Pr3c3zlyPpJSQhCEo4hEls6xqqvTc7ycM0tdNVXbJcNBmpXBu81mYyCu12vSNjAvN+vF9Ww8HpNVqFRb18F10rahbpddd7pe18KiiBAKa3bH2TuvvfbKK3fLwYSSESMieARA0IAKkAAJEeHLNcQXYOG+IQPHGAIU5UCZxDudpOnO3u58vvGkgkjTOVc1STZg4RA6QkUMDtuma0V4urVfDLa2Ob21aVHck9MnTx4+eHz81IMUyGWRz64vLMmgLFzTLJez5XK+rjatcyHGUVaWWUoEWZlVFdYhMrOPkQWgl1svDxnk8/7EL168Ph7mXfuzjz5Yb6rFctM0dVIUWZpVrtoZlWWC0jUhCBIajUYJSAzRd8GpDqMhj5HERgEGAtQakIKgQK7yBc9QQtN2HECi1K7Z1BsXXRc6H7z33mp98vScQxQOt2/fYMSP732aGh2BUdkkHSEqpQgkxhj78/DV+M//i/9qb/fQqBSBAsfOu0XVUCzy21+zlA+G0+n+LQZAgMlo++33vvH9P/++94Ejt23LmAmATVJF6LyrY+cav6mdFyRtptOt6Xi6Ws7Xa0dFPmvbzeXlwHVlmmZGIyAwxCihb2BHhKAkREWQJJoFIvonT3/slsdQrTE2iixqo3KVT8siN1oioICh/NV//PKUAACAlO7PJ0IvvqKPUStFhCiIABgZJCKQIUVEQphYrZTVSmeKxWPd+KZrC+HQuab1otJkYEyhnPc3d3aHoxEzK6OVIicaImsQB+Cid77z0XvnYgzM0jUuyfK7b71Rm+wnn973LvRO+OcODiEiEonM3vuu64w1X0H6jAwExlpjjETO00SbRCOpSH/2r//66M7R6ay73LTHV9d19KlClVomjCBeWEWGpmUXwcWND51SWwf7aVn4EAZlueLIvtusq7a+urq+XFSb8XS8Pd1iYdCKkqSrK9c2lWtnMZwsVwwBlU4U7E7y7/zaW7/3t37/8PbrJh2ASgmVICNgX2kN2F8l8SsRBwIysxcREZvo7em20qYDKoaTrBBr8nZTf/Lhw7Zaiw+/f/CaSYdRhFk8hRhjG7tiOCSbCNJwOHzn7bdXy6ufrmZt4NHWVlbmeZEZTSF0p2dP28lIYliu5qvNunU+sAip8XBoU0itKgflyXK1bNooQKRFOAoQ9+JGwQs3xy+ovZ9PACPqf1prQwjOtU+ePlpvGkBQGLXEJLWXV1cjW6aUL9t6UzU8SpXWidLUl/QRMpILwbHH4FClglqUZwnICIC1c50PHIQjds4xSB1bx77u2k3duhizvEAyx8dn6/Vmlpo7r7xyNV83VZQUODSHSZkkIxEh/FwaRy9jf/7689g9uA2IAYUoIkBmk7/7n/1DlGfp91rrNLNCQgKZyd9582vDycgtFlGg9a5pmyIOB9qkNtu07cX1vG4jO0aTgKbI3ioZlDkj+5gKhKppA4hWaBQppUkZAepcaDsXRRzLput0qhhdVYUjxMyt3PFydv+E28iIrRK1k//a33wv0enTjz88PT1W1t78EuJ4enoifWU9EiGSsEXKbZqlaZZmWZpZmxibFnmeJKlWCgk1cYzinYhvxK1aB5uuS7tWKag7Rp0wUDkajI0JISR50bkuMoOQ88H7QBJd1zrnXPCdcyGGGDnG2DRu7+ad97756+XB7f/HP/nvr84uRVgbkyRJYpN+66VJEmNk5rZt4Lkr5wsxGpYfN01dV0RoUGulFYIFzJMCdfZv/vKnF1XDCLPNpoOYWmUkQQYw2gEKC3kfmqbiEBI7OdrjYeZiRIjGJlt7e1GCI94srkBkOB2mOonetT54x5GliyJa+0Rfz93FYk3IDGxJ3Tna/jt/+Htf+63fHOzcUMkAyAAqhp4yEODnXWz5Ky+d/iwEJAobY7cmU2GIkZM0Y+dXwSmUNtKjy6aq2/ccvZkMtHgBCAAuBp0kZGyMUaJDQQERVEc3Xzk4unl+eb6cL5q6isFJjI49riBLdOObEFmAGEEnyXhr3HarLMuyNG+7KwGMLCIkAiiAQCAEgiAIgIAA8MxwfoEv1jh6B1uS5sVgXDeuLMtYr8sEDFd5wghdF7qA8Xq9rP1AKFFGaRGtqbf1InAMkQQsCHBg1y43zWZdWZtumubk9EIbQxoYI2PoYtcxL6s6hMgR9g8OHz1+eDVbiIvrTXP/4dPzq8W6ci6gyhNBZAQGEgD1eV3j52b8LwMpyrLsmecQ+6ciACIgSPDam6//zT/4Wz/5q+91jF7AB27qpm1da1zrXVU3beVTSkZZVpbluMgoBMMxYU4iiBAG5M43dW21RmRP3MbgfYiewUPH8bqreKjH0+mdJHt1tD3/wUMKgqIaBijz7bu3b379tXIr6ZrFBz8+PTk9Z1D/4H/58hR6HB4cHj99wsykMM/yb733tYIUACCh59g513R+vanm84UAhBC875xrfGQWUhymAzOYvL7l4qZu0gRDlETbLM0ya7M0b9raIKE2PvgYXN10CEwk3ncowAJt24UoQNS6thX82je/s7t70Iidjrauz6+JIE3TvldgzxFESikdY+gNlq/QOJJ84ENEEaMUM3jn01GqUDW+azwnmc7Z+BBd17R1szUdJbm2wtB3M2WOIXrvvVV5mWsGWHfiAoH4VFSWqjxJJ0MqyHSxPV+ePnhcN61HLKbj6e7ueHsLONRX1/PNk9Z1KKQVJYk+Ojr62q9/a+fGa5SOmQygAqUFCOF5LnafAwZAX6DmfwH6rae12pqMJ+Nx1zTR+0RFF+u6moNo1IQ2Wa/qDx49/Y3f+JbtQ6IiCBxjvLq4mgxZpyCRO2H2PC7HLJFADWy5Xq2uZ1fzetZ2TUQaj4ZKGVSBNGH0k+nIGF23YtKcdAJIABJCQFREJM/44gV6oSy9lH2Bl4mDmZm5N01jDLu7h8vaLS5mBVGaUOfrmzf3WKTr6tp3l/NZ3e16LlkISUAAQYCEtBKA6OX8+PzyeB6bGIIwQN10nfNBwMW1zWGym+tMR4AqhNqFohxujbaqdfv4yYkxhhlm17MYYgSlFNV1qyCslrPOVSVuiYCg6h1R/b78Cgn2An22H34mDU5Enhk7goDCAFt7e//zf/Rfv/PWm3/5J39U+9oF7issuuCjCDOfn5wlrKdFGc6XFVFirWs7DtEHt26aCny5P87efNWFoAy4EARRaRMjsAdwohi/+81vvbqzUx9fTlUqnjqkYJPp3dv7b7yxe/v2eHfiqouzjx67KxnSXpQvPWC7ezunJ8eRWUTqpvnrH/1InHPegyJQpIwmUsAgIP3tB1orAQqELBIRrqvm5Hp9MMyKyG6zCF6ypIjOeYSEUDFXyxkAhBhDdJ3r6rZKE5tlmTYm1nXnfWQIURbr6uDO3Xd//dtNGzararlaCYhSylqrlIoxsgiAaI5ZlhOl3vu2beq6enk+z6F0AZEMqchd1XTQt+FG6GLYNE0I8ebh/vHTE3Fhdj3bHZZZYrUlQFCoEEAzWx+Ui5cfPT3dfGrTlIU1QolG66QoioE1ttk8vrp4dHlVrar1erVz+/Ctb763c3hojTk5Od24cHJ15Tkapa21War39vfGu7dUtg0qA0IBBFDPNtzLxvIv0Th6WZUkCQBbq/Z2todlVm2W7DsDAuwRuO4aIEzyjNL2g3sPT2aLm7sTgEiIBnGzWD19evKgfoxd1EyTyQQRlqul850xejafn89my3rpuRuMy/FurpIMUJHSyJE0Dob5sqlJm2I42do7nG4trTnrHIfAiID4zMXeA5+dLXnpfL1MHPDcLkVEInX31de+/Zu/871/F6BdYqbBNaAtB5/k+RbHGH3ddk0XC62II7BorUWiMiYyVcv6+PHpctbt3Hn95it30NrGeYlyef/R8ScfacWABKg7B4uqqTu/u72fZcWf//vvE3VFZsmqTgff1vlwNBlvGa3quJldPz158ul4OlVJJp/3YPfr8dWQz8df+pci8syMQxEQssnRK69rm/zoB9+vzzfrqi2yDAV1kiiA3d2duAkPf3KPlh2mA1RKhEkgVUZIgvdJYff39pXRznWJBQRgZs/QBmkZV2vXXNU478oB7e4fQWqrNMm3dm7cfW33lbvbt24NJ0PXrGBTX334YOwoko1fflvTz372MwAgpTgySFw3dURgEqUQCTSCRiACEQwgLNH7qJXRWvc5oAAElDVdJG0IcLOeP7h/b5CNjYIsSft+GZEjojBx13VJlpqiMNZG31RtG6IIqnXdiNK/9Qd/e7i9/+js+mc//Wi5XDIz8vP8SOnTWDmEEEJIkiRJE0R07kt7jiJlMQCwSAhKaUDlXegkdj5s2lYbnVubWZ1YvZotu30nNlEmUQoVUmqMVto5p1F0WVQfPW5Bit1p61otllBXPizq0K02jbajgwOkS0bYOzoohmVW5ptNXflwvanPr2eMwALIkhk9mU5UMYqUG9EQgfHnfPEST9DLSZUvAxGJKMSAIKPh+Ne//nVgDt5lxgAEz8rY3C1mlrQlBWTPrhY/+uDDnfG3U00AQkjj8WT3O4cGtF+11WytmVar1SasEjFa1HQwNlrvyJiNJMN0sjOJ3vnIgigoeZkjgYgMh6PJ9t5wup3nBeKLILKIyBefpF+FOIiImQlxd2fn7//D/3y2WPz1X/5ZgTYZFExqs2kM0t7OdlNtkKhqumctfQgQQVSEVIExSqvpeKx9o9q2ub4qppOtfLBZbjCEQVGs3BViFiNUVbicrVSSjSbTH/3gg7q63t0tdWEzo/a3xiHGwKhRDPCwsJ7Cf/iLf7u9u7d7cIcMaqVfaFAvMeKviP5b+BneYQFjktHWrk7LRRc2jWw2zWqxsmXGLIroaH8/zqpQ+WK8tXu4n6SpAlxdzWfzy1xg9+6NnaP9gMwoErmrG9e6zaZpQ6wCfHR8er2oU0jLbBAN4+7k8Pad3aObh7df3d47Ip1ydH6z2Dx9Gi/Od5Ei2Shf2jVbWMqyrKoKAIU5ikTEvn0k9pdRIgAiEdLz/hEcmVGMVmlW/uHf/jt/+7vf/ct//n/brKvxOCuKvAMo8zxPKE1TpZQict4LxNa3jVHj6TQvCs/RueB9JKXbzm2q+q33vvHet749W29m88Wf/tm/4ygAGGPcbDZ5nr8wSUKMPVn0hf/Wfmk4NoqqNrVvndJKukiklFZd67oQGteV5ZCDv3Gwp0Dqpj4/v8gTWxSp1iZROjFWa4WEYGlvNOV1vDg+NRu3v7vDaZ5NtzkxSZ7N59fjtr33g/c30ZeT0XRnKx8UUXhd1ZeL9YcPHi2rihQSEyEQgbUGVcKgGICg5wZmYACSX8YUL9DvMSJCABEYjUfvvvnW22+8vl7PU4VaUQjEmBhbMM8ymxisEMhH+dN//7237ty4e7SvCKKASRObZ8REaG1SGMHBznT/zpEiEuDF/Ork+NGsXnQUB1tjIZjNFzEKIJFWW7s7i7ra3t4yReGjRIZXXnml+P77q00XORC+5AD4OV46XS8TxzO9vf+FIcuyN964++3vfOuHP/yrluzXv/lbW6Pp//j/+r8c7oy7tirLwXRr2jZ1FQwCoo7kKtasXJ6ZNE2NH9pqtvBXF97HZlZ5kwYfbIhNbIthmmT2at0u29B1ipR5/2cfd22TWpot3VaeFkWuNGR5lqXlYDjpmJ88fUJp51dPv/ev/j/vfet3X3n9LbG5iEKlAVHkSxvD9ArUc+UCAOC5ydL/K0HPID2JIICwNdok6dl8XZqBXawRjh3EPC9zZXOTHNzYX17Nfdg09RKRm6at2pUd263t7dHuVFB8DJu24XX0zXo+v9pUq9rB2bw9ObtG0NYmSOHWN15vd/Zu3vzaKzdfzbMEiSPEyi2kud789NNJDSlQiC38okf7OX73d37n/v0H69WKevcosxLVTwZQhJkZ+0oK6ispFBIqFtiebP3X/+i/+p/9F/8lCj/89MfHn/yIOSQKWUEVK4oGAyqxiOB8i8LCscxSa3WQUHdN1bU+dMBhsby2Rf7rv/O7Jh+d3f/pxcXFpx99hChEBAjOudlsVhSFtZYQQYAQJTITI4D+8ouLIurOOUYIQFGCRhHBzsfKeQFcrmYh5qkyhzuTlAL7zXp+VaY6sZqVgEJQZNACECmzdbRdr2bV6cX8+LLYPYAOocxcuE7n8+X5hX90gq6Z3tpNR7km3a2ry7PLTx89/snH90JkSwopBBCP4JmBWSukXgEkAOBeueCXdA7+RePlBZQCyMhaa7d2t8eT4TfeeQeBvW+L1Pb8Q6g0KqNEEnAcYuxQ0f3z2f/wb//iH/+Dv7MzSIiUiLBEMtS4zksjdde5LjjPMXSuWy5nq/q6DS4fDMSFxdWyns8AYlA6H09NMSi0oaTIyrKp69nlxeHu3quv3Dy9Xj2TLiKCAoi9rwNFIPadqz83zS9dvB5IejAcfec73/7X//qNoxsHf/M/+cMyTX/6w+/55bm1yabpBoUlA6t1pbM0NUqIOEDogteOFOXjbPvWZH21vl6cSWW0ts53VdtaS/tH25VvV507W1TX82rjPZBoBT5I28Szy0VeZrv7+861x2eXg6oDrYV1tdwc3QQJ9Q+//5fnF1evv/nu1s4RoQL6ivP1BZBnTYH77yAAyHOPEAIAiNa4vbN9drkoNKlJGXldCW9NJpPBqJjYyf6wHCVXV7OreuE3c2X1eHe4uzMtyxwUtRIb55qudV29nl/Plptl7a9n682qMYmJAQbajkntFNlmXAwng7QYiCgBB9B160t/ft4+vRxGA8LPPW5fjJ/97GeXV1cxRiFRSgGixBgBlQJAiBCFRZNGAKX6VDFEwtdee/2/+d/9b3/rt38jSex6vfrab/7W5fnTxeJknFmbZGSxDm7TOURKEqs1lmlCUYNWLBx8bNumrpoYZbOpFsvNt37vu6+9+2vHZxfM8Mmnn6w2K+hFKyIA9Jkig8FgUBYESlgEBQGIqG8g8oXgyHVVsfBi48BYY1TdNIvVpgVove9CZ7P0cHs8zFMdulxhaOvZ9VWeZyBCiEiolSbRAUCNsoM371wZWp3OnKu5rdm1y7Nzaqr1bIHBH97c3725pzK7rtvZfPGTe/f+7Pt/Pd+sEQQFBZmBWKRuW2Zv4bPqxXMR++KNL379GUgkJEOUWYMcD3Z23nnjjWozz7Ikz1PXrF0MCMgxEoi2qguxCw4UorY//vCTJ998d3L3yCYJAnP0osgkmsVEiCE2UXFkJqvzyQBKNRSI3q3Xq3a9kcAsSNYOxtP5ZjUeDz2mrWMEtZzNjTa//etfe3R88eT4LEZhkBdn4fmwBUR6YfsCv4Q4AAiRbt+5+7/6X/9vsiy5efMWB/d3//4//NN/+U+jb08uPlYSt0aF4riYzxGGMUttCKg7k6Ro0OTpwKpkVAy76J04F0TCPlJiTStutfYn89W908tl6wAxTUyaaANMEh3T2fWGzGp/fydS/f6Hnwbm8WCaF+bs7Mqu6Ovfudt0zQc//dmNW93NO3dtan5BmfqfBCLcPzwA0k/P5grQjYqlv44AxhiP48l4pKaDweH2ct1uWm8TO50Mh1lGjAyyWi2btpvPl6GarTfN1cpfXG+0614/ms4ZujUMs8Eo6tn7nwwzc44/LotyMLiFQqG9ptX1+qP7aesS0IAapL/994vx6PHjXvvtnTVKkXBkiZFBISJS/0yYWUSyNHU+/NZv/tb//r/5P7z99htKoQjnRfbaO28fP/7Gj//9vI2xMGmapsoopYxS1hoFyAaQIggKA7jObTZ1tanqTfPo6dnt19/5zd/5fVTp6fHHw/Hw/fff5xih18aJAKSPvy4WC9e1k/HYGCPC8iw57UtJsVmt2noTYwghenaCfbN/aX3shAJoDyobDI0WEzvFMszyalOfn57u7+8Cs0KkBPoAKSPq0WD/zdemt7qq7nzlfF2rREmSFUMzSG+owqoya0LcrFZ/8f5P/vWff+90vhQiBI7SF/4oFlgult57y5F+kcs/74R6pod8ERKMCNF7ATAHO9t/72//LeDAIY4HhQRf160iIQHvPSgtqNrALgogcHDK2jxJUMA7r0mB8oxktNF5HtO8GE0UUQzRte2qXttu09Wb+fVlXa+Db0KUxvFkMri4umQileSrdXx0fJyl6XQ62szmNkl//ze++Uf/+k8vrheB+/jrL+JXJw4CYUCENM2//vVvhBittYQy2t7bPrz18NOPSGsE1IRHBztW0cnpuR+OB1kS1rU2djAuKNFFOZ7ulYktEVTXdXW1btazerWs1u7p+ezD+8eL1reBFaEVQMCd7YmvNp596+HDT59cz6ss0RFUF+O69kFkHKC6vq42q1ffvuMCdV17fn56eONAqS+dywsLhZ5JOewDK/2p63/2H3vxOyIdHB0OphM3n11dL2L05cDA1TJLi8mkGY1HFIEjaGungyECxhDr1hNgJHAhVHW73tTNcrNcVU+P5xrp3TdebTZLY9M2IU/GUKo31erHn0x/Hc8fvJ++PbE63czP4sVZde9kyMqiYkD6ynZSRCR9+szPuxOL0eZgf2+yNc7zLE9zEXz8+EnbNjdv3Xr3nXf/0T/6x6/cucMcmDnGoIyyJr39+hv3PvygvbrwAilSkuV5VlqbWWucr9h5CBxibNt2ta7Wi/X56cnl1fWd19/+znf/4Oarb3369IwUnZ6cPnxwP4QAgKR6U1nw+b1tdV0H7xGxLApm/oq0UQBYreYoYpSuqqWkeXBd2zkmQIK97e3Dw92Li9mH9x+9sTvYtZJoRJGd7elssbg4h/FoJDEoGmVlEkWiiDIJDqwqi0JhjlZq513bcts0VXReCDfBz5arDx88/eM//fOr1SoCIYEABGHNJAKuc+vNhqPrdfnnw3z+Sx+P7Z0fAMAC9MWNzre1EkJRems8/Ht/+J+OBuX11ckgz/Is+fjDB4mmybjouto7XxaDR5fXi3VddY4UGOGd8fYozzObhuDqqpLIJmGwkXSilCFNwBI4sIgIsI91Xa+Xy2pTsXdVx6iTGHm9rkxRLmvvArqAVxfzi/lqe5Tt726NM/PNt1/93vs/m6+dZxGQF3gunD43l69aPwYQij1zZ3keY5+UGmsfX3n97dGwbOtNRBUFFeKdW4dGm0/vP97k2SBLAQAJynEejeWAKtEg2B9VL7Jq/cXV5oOPHj89uW6DAtTOO6kbQ5xae2Pn5uPjx03TNpsW4vVgkAGhSYrNxnWdL69Xo62d4Nz19dXewe18MFquN13XZln+8gT+p4DU7t7+66+/evKxOxiVZ08fex6EoMqiHg42SbKkKFmSF9s7uhwgi1tvWu9a1wHiYr2p6ma5qq5m9fnpmeb47V/7+iDRzXpdZqMN0E8v529OylvG0rXzHz1WhFenH+zuvlpdHa8++dSuYyoaACJEFMYv72HZU0a/ujFGAEAUANJavffuu++889bx8em/+KM/ubi8YGZ4/Pj/+N/+t/t7u7PZ9WBQAjApSpRpmnY02jq8/erHi8WirkGjscZB59pojQaKMfjoow9+uVzNrq8++eRT322+9a3v3H77629+/RtMdHxyfHB49M/++T9frtbMTIQEqncc4XO/kgh0XXd2dra1tTUZjxHxS+UyQFvXMXhS5LwnI6u6CZHTPLtzeGBTvT0tldGn53pZL6cmiRIEQRHeODy4ns1Oj08mk3EIYWp0kuTsoyLUJkFEpdDY3GvHFULHSjmgGISrqn3/p5/86fffv1osAfoGMSgYIwgyUODOucVi0dbViONngikCAMBMws80u2d3h38pcbwzmtjRwE4nv/n7v3f39o1NtUmsGY+Hx08enZ2e/dq77xCErnM+RJ3QyfnlpnOBhSBmCl452h/kmUIirWII1XptnMvzQpmodCICwXvfOQ4BuqZbLZYXl+v50re+adqVc/uH4+v5FYteVn7+6OLm4UEXw7x2zncnlxeta/em5VaZvHbj4KcPz2qP/nP3oPei91fXOCAKRHieS6aIAIUZbJLXLv7Gb/32xx+8j6Q8CyAqwls39rUxH957sF6t2irvunbLT7Kyy2zn6k2IEoNzsV2tNk/Prn726aMQiVC7rgNRSBg5Np3rnBPOh2W5WVc3jg72dqYXl6cmKysnXdWycIwyu56fXZytfdje2VeEWZ6KAMdfEj//cnyeS5+9hYPR+LXXX5s9ur81yI7eff0vf/rAdWxtOhyOiqKcDAeQ5ZgXbJPgPeU5BYUcF8vV1Wx5dn51dnb1+PSiMOoP/sa3pomuqhqUsUbtbO1sVuvjtrtps9LF9aN5O8BQlL7axMVldXo9DYYiBIgeQhRB+eJdCM81jhcyoT+oIbh7D+699vorMb72wx/96OnxUwBk5rppm7qZTid1k5yfn+VZuru7472PzqHQq2++vVktHn/ygW6AonRp0MoSgVIgKK3zTdWcn53c+/TT1CZ/+w9+f7q7t3f7ztbB4b3HJ4jovfvrH/ygr7VDRCIiBSKAyAAgIgzAUUKM19fX3oed7a0E0s9N5jM4efBgs9k0rUOlXPCtD8HHIknee/vVq7Mnxq0nZbl39HV/el/7zdp75V0aYmn1K6/eWV5dn52dz1fLVdvu7x+mSSohMCitjKKUQJtE+bpLQoeBWhbXuuOnp9/7/g8XdYOkMWKf6iTUO2RYCFwnm/Wma2uWCPyCxwUAQAJwAICevwEEIYIevJjLZ7GbJMVo9I2/8d0br71WdV1qdFqMLs7OPvnok7fffDvNi+XyfLNepnl2dnV5MVtVrQdSInGQ56/fvplarbWCGFkrEGg2Vb3ZDAdDq42w+M75EDjEZrOcn56sZ7Ou+v+y96c/liVZfhh4zrHlbm/153uExx65L7VXVy8im80mW5AGmBElUhoJg4EwQ+jvmI/zbb4OIEAfCFKAhhRBkCLZ3VXd7Orq2rKyKveMPTx8X577W+9mZufMh+vuGRGZkVXF0XzLHwIe991333tm1+z87Gx2bj6ZzvKqMp1UlDjnROmj4SQPhSLqL/R3TqfDaV7MJ2Ux+95r17JWt53Yq5dXH+wOHbvGRG4mGAD8FsRBTeFSaDI1AwgQKRa8eu3mzs7O3tFxr9fWwBCYAwuSJhx0W2/evj6ZzA4Pjx5t7u4dnnQ73bSVpUkiIGVVzWezvb394WjcX1gqdYSb25ERTboOwSM7kGlRT6eVr6GVxK/culzW+dWbG0cn43kxiyJsZ5kwoYqOjw4Ojw+XBis3dba8fsWY+Eu8Uo2qg4jCgoSEwMLQ5G4ANJt3zmXv3FRhGU9mv/r4/iT37HljtZd98/W/+PF7W1t7Ooq10aiUI1vhEBBFRBGG4MqiODg+2dk9eLK5s7Ozt7rU++M//J2lXruejKjIlZS1rxW3slZ729E2htVQko+PHgzbncdUjuu9EZ94CXoOUjDn3jez9JWmTZ9D06nmgJmZGQCI0Ciz0F+aTfPNR09czUQESHXlHz7cBIQsjfr9zmQy8SGIiFVKG7t26Zp4d7K3OT7Zr+3c6pEiZbUGEB94Ms8P9g+3Hj+6evnyH/7B77fake10N15+q3D6yfbR6srGT3/6k92dfWEk0ohnj4MCABF2QMIYIAB4FvEBTk4nzvPS4sJz3bnA4w/fLSs3Y4U2Lss8ADvPUPnhg81ictxdaZlIa5ivvP3yaDQyUTYTY70knmPCaxsbvXb26ZPNR3fvjQ6Hl69c7vcHUeIxychGJlV1VQE4pQhByrren0z+5v2PjmYzDwQIXmoAJCAUFIZAHFiVAWZ57aqSQnU+yxAEGIQaZyKHs7KfwCIeXhBojvq9W2++sXrtal7VkYlbSXS8v7lz/9Hrt15bXhoMx4dlPo+MLmr1eG+6d1rnzhtjIzCv37h2eWUx0goQtSZhg6xMQkfHh4/3tztZpkk7770LZVmOx+PJaDSfTEbjycx7sKbdXqg8KqtdgGnp9ifFOM9vX780iOiwnJZ1eHSY95OTr72SXV9t5+XujSurm7vDfDIBUQAogkKofnPiAIBGGgmAAQUEgUBgaXHl7/7R3/n4Fz/spBm6maD4EOraUWS0pjjWcdxfXV3y3p+eTk6Go/2DUV3Xde1r54ym5eX+jRvXto/H73z8QCMt9fplFaSuFaFW4H2YzQvEkLbj/cODK1cvpZ3O7t6hgUAKlpYWd49ObSu5devl3b2dOx9/vLCwur62agLRb+DjOGeH3wiffnpna2dPB1+VFQpfW1v4kz/63r/9Dz//4L0P8/FoNBq3ewNjNWCzRgmHMDkd7e7u7u/suap+++03/uD3v77QbYU8DwCKhapanZ4EydTg0gH79z271b71YRaF08P9V5f7h1U+TcKRmjNL4Z3jECRQ4L/9fNPOcMaGIohIdFa4WITSNF1cHBwdDU9OR94HrZEInfMffvRxXVVxGsVxGgJXVQUCBNhud4Lw2urq9asb98YH09PTuq5dVXvnfF3VtZvNZt7X33zrze9+59txHIW0denlN22nd+fBdl1XWWJ/8IPvV1V90RIiatI3mBHg7GGdSmkIIYQAILPZvKrL5/tzjq3HT8bjWVV70rqsq7p2zoduJ9MGkzT2rCKqoTy8c2dLtRdDsGtXr8ULcT0b5RyQOOp3v2Ff2j44ery986tfHK5dvnzp8uV21rKzUaGodr6YzUNZT6b5zsnopx99fP/JriAqAW1NEfy54oAIBCyM7D3XVVkVRQgVShCB5raDSOM1FmEBBhERBvEvsi37N64vXL92OJssra7Exp4cHs3H+VtvvJ21s/HwECbThKlWyYcPHjza2p3MckFOoP72q7f+4Jtvd7NEK8UigGQ0gTA46Ha7s/Hw0w8/rMqKSIFg7UNVlbP5vCorJ4BaxWnaTlJAUch57o9GJ6NSnUxcXkxvXllrJ9G89qUPh+Pp0Xh6fWO5m7W2nwyvrK1sBZfnJTeeTkH5LYnjc0CMrE0XFq9dvrydxCgFSJAzP3nQRllWIhIn1urW8vIgsFRVyGdFVVUhBBtZhTg8Ob1/5+F8Ml9dXp46GE8OCUFrLcFPJvPUWMJQBS/TejSa7O4fGaLlfntelEfD0bx0uyc7s//t+0tLfZGjPP+3W48frayu2DT7P/xX159vLQD8RxGHiNz59K6IKKUbRVsT39hY/c/++Pf/8kfv3Ltz/8GDR1E7i6wFBA7MHHztJYTI0MpC763Xv/HWG692F9oE3kEwwAqRlLJaSaTE6jzIk1pefeW1/nJnoLwmVpG99Nal8KoXDq5208mEA9euluqFRX0vcqsAAM+fOw0AvW630+k8ePCgqqqGXpoBunPn0/F4EsfLkY2CZ++91spElgWRvVbUaWevvnR778nOZDSaI3iCSkKi6crq4q2bV65dvawjLYqS1SuL114+PBkPR8MoVo8e3n348GFzb4nO0o6bJgGAiIQQLt4lohCCiHj/wrybrZ1doIiM9UWd51VVOwK8dvNyO9bYjrvttkmNJzEBpw7zWj3++EGZ+auXFrLVtar0kSBas7q62O5mJ6eTR4+fbD56vDQY9LIWGj2v69m8mOb5wcn87pP9x/t7QaNWmog8i1LKe4+IzX0DEQkMyIoAIQgXItTwoIg03AHSrKoCwALMPrzItvzat74dt1NR6OfzYXEcSt8dLMXdVl7P58UEQ208fvTpo3v3Hx0PhxzqhW7rT7795rdfu53FSWQNaYOEwkxIRGg0hGD7/QGU9f0HDw+OD70LRMoLszACaq2Utd1uJzFqNp/ZNIrBBgiMUEnYPTnVhlZXViren1svxkyKuih8p9VTcDqbTNqtLC8KkQCIICDPxlp+U+IgomZSIiGKcF3tPrwfQTDWBCciwiEAaGuMoPXea0XaaEQyCEYHpTAJOjgkgtm03Nrec4EHy8vjGrd3dpun7/i6ZuZp7eO4aGUmr2q0dHh4XDl/aX2138ruPdo+PjqpQaVxfHpycu36tdsv3fI+rKwtXb68cXQyer7R52imcjPYwGfhs8ZzDOeb5USE6LM5sbd3sLO9iwBJEgMIe0GixOobl1bMH3xnd+9oOJ7M6ypwQMQosp1Ou51lWRpHSsVWX1lbXex1jLWhFs+MAEzGmVQWjRkMOLI4d66WMiQ3v/kHqdaKGQWESCCIeGYuZnnwZ4VDn+3NZ2jqesF5B5mJ2YcQur2e1npnd4+ZAZSIAEAIYW9vf2d3b3l5uRlJa6M4jhGw9sFqGntPwstLg5WF/nwyLYuirqpQO21Nu5W008hGxmur0976zVdFp7v7m4QYRfbfff8H09msuXUXjQGA5kzjvr1oMyI2zf4Sn1RVe2XMNJ8dn5ywgAvc73ZcVR+Nh7Gi/Sc77YWlWZBZ7VZW19pAZjSud0/2Hm3Crdnaa7dPfN1zHoOzCpcXe/1e++j49P79zXv3Hk9n5byqp1U1q920DsNZ4SFoUklig/eurgMzYlP5uTFlkRA0Yb/bthrYl0jEwgggAhfEwRKaWILI8+lgT6OTRPs7u5PZdHFpUQHGSaLTiEOdnx5X8+n09OTR3cf3Hj4pa9dvpW+9dvv3v/etl9d6bjZT1tgoUkYjM6ICQUWEoLT2WplOp3Prxo0kTnZ297wLeLaioCDpyGZpZhQZq5OsFS91u/e25ydF7VkCHI3HASTLsrKeeCYfVO1J68hofTqdLCwsIAKCQFP0/Nm+/KbEcQYUJAm+3t9+uHnv4xZ6bVQZzqYLESmlU5PVdU2oFGkijcCkHFgTmCCCoii3d3c393Z1Ftugn3z8kBUiYRpHVVGCRkByAWZ5oZWNjZ3Ni/m8WBosuhQn85JJWyLiqt/qPHm09eabb5iFLO0PVq/dWr3ym2oTX4hmigfmw4OjrSdbH3700fDkRCk1Ph2WGAOhkAXEVmKvLC/EIDc2VpJOO44jZgYEIkUg3tWu9q0s6/d6UZQSKGFnyBSkah25tLu2vFarKC+9wjqwe+dn764vr377u9/WNkJqPIks7EFDvHDhAnhhv9bX1p9sPWE+q4RGRCIKQFZXVubz+cH+Ppwv+977EMJkMrl7997Xv/Y1EYjjxBhDRIFBASJLCE44KAvNjvyqKKqiLMuSQUwWK2tYGzadpSuvDVaubu0fsvNKaG//6Cc/e5f5LGbWoGleo2g8fQbgbOO1UgpeHC2qaq/Rz2Z5UdRBBFAvLq7NprnMRp6DRWPz4bVBa+phcrgJqKwPEPIWdUzJdWQ6g/bkF5+kqRaFVe2BaHHQXei/lRe1q/xkWh5NphPvH+7sm/2j7YODEIQoAVJNhKppcLNMggAQJpG9fu1ykpjgHQIwn1WQanJShJnZswQAEWaQFzLHzt7mfJ4vL60gKZukrW6HXVXtHPj93Z1HDz/d2Z7O8l6n+9ZLN2+99vL1y6sJyenxnicyUWqihIiQAyERkqAm4sCm1WphqAPA9SRJWu2d3d3pdMrMiASklFKtLBPFragVd7vt5cu/+61v//y9Tx7v7cxC5QKfTnMks7p6KU1a/W6rrgW0CgRA4FzNHAQRoPFwPzMPnyGOAADACAwAdOY7FAAMTAKMIgCefbn74O47f/HvoZrEmQYhKYSZBUARkVZKG6UMMygdYaPkMAsgIouAgDx+sssg1ho/rpxnz8h1bRS2Wqn3IQhULpR1HVu12LYRiXgej6c7+8Pt/RMGnaY2sTSfTo7Hh3/6599/7e23u0uXZkXVSjpP9+U3ASE2znBEzPNic/PJhx98vLn5RCk1m04VUbvTnk6HQTyQCBApnUSRJe3KmkFaWRLFsTl/sJCcla6GrNXuLgyUtux8KAsU8qjniDToddOVWVlV5YQUBJTR+PR/++f/6nR4+q3f+c7i8qJCJBAgZBHAxqpEfHbAnsY3vvH23v6uc+5MGURCJGv16urq8fHwdDQGASRgYeYAIAL8q1+99w/+i/+TCABI02ABDMzim9kiBGCNUXGCStWBwdfWGhsnaC2rOF28snjttQB6a2urnXWOj4a//OX7u7v7zdc1BNEIXrNoA8CZBD6Li4u/EIjkhYajiXiXxPba1WsC5uD4NNXgAifoX1qML62Ax+jxPp9OqiiBpcXF2dT5xRaCXskWHlS1q8c+y4IycV6R9oxoJGgVguE6sb6mbr91e7E7FTc8GY9mRTdpaeO8qxCREKVJlERCgoVB9/bLtyMbhbIEEGZmauLNAADMHIIXaXwcIi/eW5R04/5yT6MmMszhePNBtbsz2nwy2juYcVjpdn/nO9975Y1XB8sDY5Hr+fjwIDivbWyixNpUoRFgARFABAZgIoliq1XfpmlZ1jZr95dWdraeDA/2S+fQmDiJ66q0WbK4ulwJakUvXbu81O3vjoa7xyd5GYJgFiftLKtms8gahlA6V1SVMupkPAockPT50vViHwcDQFMOHSCAQgYgFlAMLBwwVPPx0Z13f/bwVz8z1aStRUcJAuFsLs23EiKR1hEaZGZqIt5IolLRFIJTpGa1m87zhW4HTTyelDFgxShal75eTLvO+dPRvA7oBOV4vpBmUapXl5fz2h9PRmUthJDnHimK43gtaT96+EhIr65d7XYGg4WVqzeuPt2dXwtEBJHpdPbkydaTza0H9x8eHh3HUWSsGY/Hlfdkbdbroa5qABQWFgGySdzph6IolDaRjS4q/SOQBBGAtNW2Uay0DiAVYVAmp3SmsdQZg2clAQIwGIyEecrhlx98+NGnd7717W+89vqri4sLWhtSIAzwlIb/hbh1+/qVK5fu3XvQODcQlNZRp9NaGPQ//PCjqnIigMAcWIABQWv1wYfvHx0dn5yOjg4Pv/e972mttUUWDCiISpMCdiRKkUGsSasoia2NjIlVnFLcXb7+su4u7O8ezKZ5mnaKqv7k009EpGnp07aenNcrOCe1s4SOC3I5+8wXofZhlM8DcL8TrSwvBRubzmCtf8nKnIiOT/Nf7Rx2VtdvvHqNLun7dw9wfhR3k3R9o7u2Njw4XggCluY17nhIut3V0bHiOiitWUHwmsQY5XKvu/2br926/jvf/dFf/vjuux9WRZUkURUcnJmwxCKiILFy5erK1evXlDbiahZmkQBnvRMQ4cAhgJwJ9Vl+xxcB909O57NqOnPzvJrPXZFr5KjVuv71N1auXRusr0edjrKalGMuR5OTSVUqExkdW2UTmxAoRmB0yAzsQDxz6UJNqJIkA5WgdlHWX+j197qdvaPD3NcmiYp8Ni3LzuKy9/V8NFQCkJ9YV633eqbVRx1VVS2+vLG+WOXlfDY/3N52LoDWs3khQCiIQAiEz2YwP0McigEAARQTNq8EFDKT+FCNt+998skvfzY52k3ARYlVhGQMBNFac/CBQzjXV5VWChQgAkDwTdk4QtREKnhGlG4v80zBFZ3MzMcVKqMJrNEcODBXXmoW7/y9rcNLS109mtfO1yxKqbquAiMSV7W3UZrG2eR0+vjRk9qbTvfgu7/73ae78+UQltFk/OD+w7t3741GY0ScTmeRte12azqdEZJG2jkehbLqLbbHmC6TIkJFqDS22h0W9C6EEMK5kw9JAaC11sZaYUAJhDUbfSTRIWNIdGaTsg6udgAQJzEAMDM1YRHCd37+7ief3Ll+/dpbb7+xsrL85bmVDbIse/ONN5882S6KElEEBAFXVlbSNNna2hY5M0wbEW3KfNa1Ozw6qqqqKIq9vb3Lly8BkCIUYGSnFDGDEIgEdiWFOtakjKY4pqi1eOnaYGm98rC3t2+MYQ6HR4fbW9sAgHjGCA1lXHDExfEFLojj6ZPPoayruuL11cWlblp7mdQ82nwSF3K540xrobe2cSDRjz/cwYXFV77zt+06DHd301iejE939w/jo9H9gydLN5amw2QajLLt/WI3IuTgE0WJ1iQ+djVOT7Jup5MmlcDf/eM/ML64//4nVVW1E1tUTpiEQJgROIvN7VvXFgZ9aRQ0CU2nuOkvMHPzXAUBERTwLzZVRp8+PDkZeu+yOG4nydrrb7SuXekOlkya6iRDbRR4g1Xt69HodDqvTNxWAgIUR5ExhgQkIJ4ryhw8N7VOmIl0ZK21MYAKSSTAlGbHJ8dCUFSFNXpydIhGF9PRQq+fqVD4Mh+f3v3kU0i7S2uXFgcLpZN56fZPJ5PKmSQ7HA6ZGaBRey/+fYYvI/6v8BW+wlf4QrwwaeorfIWv8BVehK+I4yt8ha/wW+Mr4vgKX+Er/Nb4iji+wlf4Cr81viKOr/AVvsJvja+I4yt8ha/wW+Mr4vgKX+Er/NZ4Jsso9/Xnk3ZERJiV1mfnzzOIBQQEkM8ybeu6zuf55uaTR48ePXz4eH93ryoKdiHPi62tLe98k5bafFYbY6NoMFi4efPGt779zbe+8fbq2koURWf5Y4oIzxp2nmKIiNQcN9c0715kJSLiWaLqF+FiF+l5vxBesAHk6Y5/Di9M7GlwthH7qeymps2AoJXRxhhrjbHGGGOsNkYpTYqevhigKZrUvPyshb967ycXx0/jH377dxTIUq/z9dffvH7pkiIo68Lls6osglBe8dbp6L3Nzfc3t/fn88BVGqmVxcUbVzd+5zvfShQPusnl9VVNtphNZpOTm7df0UmnZlQm08ZGaYu0TrIWEQQOQbD08mRr+/0P33/no0+eHB7qLO31B22bRoK+SRgNocxzV1Uv3Xz5G299fWV1jYw+HZ3kRd5pdZMoDShbu9vvvvfz6XwmIv/j//P/8XyXAABg98//5yQ2ccIYMxgjltA6NACGIQJU4rVTDsIh/ew/bG4N7dyHWuy8kIPDvbuffPDpx+8dHRwwilJKADgEpTWIWGt7g7Xp+NiVOSq9sr7xvb//X66sv9TuLGXZgjT5XhJEGACa0qgQmj0JLMIcQl3NH9/96eh4t7mGz3cYMj+z0/ff/Ot/+fTLC/yD/+4fpWnSStt5XiZx8tqrr2xsrHHgO/fub+/srq2u3L5xEwTe//D9h48eLi8t37h+g1CU0lGULi8vDU+OmessbU3Gs3lRra0uLy0sIdFZnt9TCM0ZlmaeC7Cc7Tc5E9X9vd3h8DSJ22ur60mUjaenRTWKIrs0GMRRwgICSoAAWIQBz2b+f/rHf3LxE88QRyM2nxee5vc4BARBYQRkEQQRERRwdfX40eMP3vvwvffev3//wcHxkQQB5qooCVEEvGsGgUEEAAEFqgJmMBmfbj3Z/NUv371288b3fu973/3edy9dWrfWAgB/VsRBAYCwkDrLVWvON3L1+ab+/w94TltPn2wa0JxEQELV7PTTxmhtbBRZa421WhsihXSWNPncVzWUcf4WNKm9z/3QF+KDvWMNfrXI+8vLg163m6bsnXN1cD53sjsaf7q9/8mTnf3pSdB8adC5OlhY6bUNzMaPP1h79aXlXr8Y78/Hk/l0gqRG4+UYTNpd7HYH1kTKWiCFSpOIJSUcYnKttcHl7Btr3fZP73z8q8f3yhAlYjXrCx4mIuZQFPOqLJlZIWltmsnbdCuKYxvFPBt/Se1AxGbbTXO/6EwvJgKCZiMVCABC8Fx72NneHZduNCuPhqOPPnjn6PhoXjGrVELV1L8TQagDAFSunuXbiACgwfHm5kP+wb9669t/b2llY/3Kq5GJgQAVIVLDCwCARMAMcHZGmDl4EW6ueXqMmkG8+OAXQgSGw9HJcHpl4/Kbr79++fIagGxv725t73Q7nSsbl9utzu72/v7B8XB4OhpNtra3idTS4uLrr77hnfPOAbBWqtvr5OXRaDTtdxesUiBnNxihKVUFmgSEhQRYiRCjQFNjubl5IiEwAFprrLHMEgKLiLVaKY2EEH69WD2f1/yFooiIHIKIgDCCAEJDyMH78cnJD//qr7///R88fvR4MprUrnbNLpXAzKKRABAE2QduiAAxIDdbqoNzjrAui+PhyUcff/JXf/XXf+eP/vD3f/93F5cWtTLNqIQQCBGALnZhN+L3WcOYObDSKoTwdH2K/x3RtKSZJIiIiHK+B59IEZGx1lhrTRLZqKEMInVeGPl5ICIifV5/uZiFT0/HL8fOfE7gC/Erh4cbS+uRsszIActadkeje8fDrcnpuJj027bfz64t9QdJUk6Ovfj25QHW1ejwMARntWmlLUHMkizN2lHStsZGcaxsBKSCsCYFQdjXHOo0jhRnX3/p2tJKX1t4sHsUytKbFAFQABGaktFFPi+LgkNARGMtkmIOCICIURzHSYxI8kWb3xo0tNHcIhG+MKgRAZGAWIFCpiIv9/dP3vnlOx98emc0nniGonSiDJBFIA4OgBHJ2MS7GgAQlEizZxcQFaJ5dOejvSePtTZrV25/8z/5zy9feandXlDaPD3HGjR73kSkUS4agsBmuwpftBOePvg8vvbmm9NZjqheunVjbWWViHb2tu/cu+99WF1d6fW6dV0fDo+C9y+9dKPT6hRFdTQcOu+JMASe58Xp6EQYozjO86Iq67worTVI0kwZERFgrZXR5LgOPgBaEA0gjAIAqFBEoihaXFwwSgNQ7fPguHY5ImitiUhYztZ3vLAuvgDPbnI739FIz0qgiHDzxAoAFAZmBGEXdjaf/Lt//W9+9Fc/PDo6qqvaOSdN7n7dPH+ZnIAwIGhAJAQRAUQF0Dw8iZlrL4pIXJiX5Xj083t37v70xz/9oz/+O9/6xjd7C/2zCnTUqEwAAIgEQZSi5wgu+EDqrOrU/764oAkipRQprbU22tg4jhrNonmLkJBUwwZIDb38Run8jTnTAABAAH6DTzWoCUBwWFVPjodbx6Ne1msZK2xOpiePjo7vDYfSSm+8fO3qoGfqHPw8VCMbq4XekrHp8PjYaHv5yjUgdEXuXY2CWZLGcQTQLK2haZMLonVE2kZxCuxRiGYnK6n9vZdfc6N3d6a5M4kSIDl/MA1SURTzfNZskNVaK6UafidtrLFpkoF88a7Zp3FGE0iAz+viIgq8Pj0+OJ2HBzv7T4YnIkYaJTUwuykiAYJSSimTtNvFfMKeEZryd82XCQoSJflsTkbdvfPOkycfry9f/ZN/8D+sXXtFfa7aMCkVPAfvgndPqyQXaDSOpw8+j9u3blaVi6Ko3+0bYw4ODz+9e380mvT7vclkcv/BoyLPHz1+Esfm9VdfWVlaL8v67oN708nUaGOMiaMoBF+7utNtJ0k8Gk3G43G3kyglSCgiikhYEJ3zlefc2EhDXFcizZ2EMwEEDQQ0mU739g9cqEJwSqkrl68M+r3PM+aL8AxxNAzaQC62OT41wALISCCeXbWzufWv/9d/9c7f/Ph0eOyrWrywE8+B2QkLAoICCSACIl5ABIBBAJFAAAQVBgBmCWc7voEpnNTDv/mrHz28++D+H977+//Z37u8sWEiq7RGImBohItesCB/iZSeEfI5EPCchj4733y8OYOIiKRUwwzWWBtFsVZGaUWkiBBREaLRRoS1NgDAwiGEAIyEgMgi1PzUs3O++eanXn7m42ggII1S/9T5L+4vAChUTFhJ2DudPBkeX15YNJ3WSeU3Z/OjsoxbyeJSe2O5x7Pp6f789OSYERZXlkyckLLHx8Ol1UtV0IdPHtf5fDAYbN67s7e11V9ebfUWbBRnrU6r3WUGnaQStQBJ2SQQ6VY7o+v1/nab9r9+bdXsHB6H4ByIgJwNZahCldelD4FAWWWN0uwlCCsBjbqVtrVSIbxw+zlBOBdyAAVMLESEFSAgpMygqAxinxzQ9//sLx8+3KzAGIq0Ae9KECZSxkSkjTa2LKblfMoucPDaKBMldZkzBxD2vrY2BYA4a+f5STHPtzcf7u/trl5/U7hZsLSv64tWNXzBjdkNAHCmazRvPXXZC8draWUxeFGoFdF4Mnrw4M7R4d7SYJAm2eNHT3b3d8ej8byYX7+2sTFe77Q6wUMIQZBIWatbiU2UVFLPYmotdTjGYOVQB4ojssYE59I09Y6LYmZUSFIsimkcY85xCdoBMgMisjAAl1W++eTJu7/4QJBVTFk7i5L2yspamwE0NuIojche4EvqcTR4fiqLAJztyGumNIGcDI//w/e/f+eDD9kVhsShBBEkAhYMIuJJWzgzbkSEQ/M/MCCBMAGhkDSVaxrhYhH2LoTgw5Ni81+e/su7d+7+3T/5u9/53e/2Bn1trGoksWlSUysBAOAzy+Xpk5/DGU+cv5BzL+aZ3BIRImljtNaN29Jaq5RWWjcKhTADEMIFreDi4vKt268mcZq120naGp8OZ8V8PpuNRycLi4t721snwyMfmsp9xHxWO++5dan5qubMZ2jOfP7852A1eVQCeubcwfj0aDbRGo/q8qjOMcG3b95y08NquDsZTw6P9tudhSIvDBqu+MEnn5yejPqL673BSjEZPzzYK8u582UU2+HxXqvTieO4yss0zS5tXNVRGrW7SdZ3QK1+XxRomy2v3bDAcWyCgjt7xzt5CEgIgAiioXTVtMjL2gmzRm2UzV0VmIHBKJUlqTG2ql740GkCRhAABRDgzOBmAAFoNBvPFRzuzv/8z3787od3HJAKJL5iBcJeacMBUBkArIqcvQiHOO3UZQ4Ari6YAyklggjgQ6WUYR/SZCF4V+bTj9//yfLl25eu3FKIhIRIjVuxgQg/LUuNaJyZLedqyIvXLyCtFZEwlEX++PGD+/fv9fv911952Zg4S7OqKnZ3dg5Ph2iw9PWn3XsG1NFo3O21r64v163ET4+WWv72JXN1jZyzndZGPsu1GqepDcGzDsqdsg+ZEhMpjeH0aFd3ZhuXXtqf+UqM98ii66AYCU2klFlc7F25urG0tmKiqN/tZ+02akVEjCIiCHJ21xHhc/161jnaMOh52Uh8StlmOQOKq+fzH//VX73/i1/5qtbaGhNh4QN7YVGEAaEp5lOH4MOZO4NFvAggMARgIUCNRmmFAj6wgkYxETzzWYSjw6OfTH/6aPPxp5/e/a/+m/9y4/JlQQMEInzhuGlkj/jMjHmRJgLwVKcFEFFrQ6S10sZaUsoYo7VRpEiphkqeFmYEFA6N0kJE3V6/219AwH5/YWl57WBv5/joAABeevXNt77xnfHpyXQ82t/deflv//3j48Nf/fLHk/GIhQlV840XN7/5ied+6+I8PEUxn9eKLyAsqBCR6sAn48mTk+OCfX916bWl148ON8vTnb0nD8UHQkWA8/H49u3XNMnh9vb09FQZ8+CTD5SCb3/3u73F/vB4fzqdDKcjpY2yUZZ1spY5HR5tP36wfmmtP1hClWTt3u694trtm9p24vZgYekyox7NpmU5P5mMZw4YSVCBiqpyls9nVVWCCBIabQHKsxAYYBQnxtgvJfpngQ6JARIQDegFSud67/zNr/7Fv/hfjusgZCwozy4IaBMRKQ6hKmZKG20iUlop46oSABCJlGqKWgfvAIBDcKEMwRkbA4CIPPzop2trV5MoWlrdkFA+Jy3Be2EmUk+HUZqR+pJhugASgYDz9c7e7kcf3yVlXnnptY3LV42Jer0+II/Go8XlpbVLa4g4PRmdHB7vHw4XFvRyNpns/Wrn0aPf+c4rN1Yo1uPd/e3Dx7PtrcMQBDAE5zYur/V76d7uTl6HvAw3r6+nWbzz5MN2Br2ki7ZdlCqvNHGMZFBnOov7K93bL21cuXqbKDYaSJ2p0/r8sRsNg5y1/tl78cUaR3O1yJlqpoio4XwJoS7vffThOz/88fDgsKqCq8uyroKAsSpUrnY1EsRxDIKKwQdhZgFghMBBGmNVhBGh0VQRlIAPvmmViBAppURpVdfucP/w3/+bfzs5Hf03/91/fevlV4w2AT6rRtcMVWisny9FFMWKlNbWRLY5JtSISEqJMALAZ4oANqKL50Le3AuFlCbt5ZW1tcsbb3/ze9tPHr3zN//hzofva6UOD3YR6dMP31sYDNgFY61zNTv30mtvDhYXt7cfP7z7yWR06sJZnOjMW3P+WxcD0/wunE/Ez6zNZ58w+DREgggCYGA4ms3uHewPy9lly/1e7PPxwZMH4+MTzyBBxPuV5dU6z0eT09HhQZpk1kRL/d7oeO+X7/zNK6+/1e69UlSlC56ZKTBpk0Q2jaJ6oT863g/FpN1Z7ERR5Ku7P/vr1bWNqLOaLlyySnetubnUORi5zeGsgigIAGkWyeezfD4NIRhjlVbMHIJnDkgYx3GSZjI8fr4/5yCliBoSZ0BAZEBBiBGDYC0h/uGfvfv//n/9T4czqhBIaiNEQEIUvAMNpJR3AQA4eADwriJSShuljXe1q8rm3iJSk2QAAK4uhUUpFXy9efdXt179+vL6RvMUcySScBaj9a46Ly/YKIzcXHDhHPw1YGL2R0eHH3708elo/O1vfO3qlavtrAuAlS698512++23337ppZe1oXwy3t589O4vfpHa6fVVfWmpNYiWe207zav/5V/9OxG5e/fRbBr6/Z5AGJ1MOu3H/V5MVC90e/t7x+/+6uM//E++s7Tc2d36OGpFrayNmKSqr6ijqB0pNgZRAxodR7FVCajG6XsWsmxmJoqISKM0PNeVLyAOkabyMMD5bD7/mAD48enRD7//g6PtHahDmZd5MS+rqvaejAZkDl4pZa1hL2CJg7BI4BBCYJDQhIwAsKkVLYwCyNCwS9PWEDyABkQA72vMp7O/+cu/Kmbz//a//7++9vprSmtEVOo5vYC/nDtWlteRkOjMdYqA0NCFnIWozxUCQMCLQkcXgmyUXlhcWl+/2mr1Dvd2/sU/+R/zfDY8OhAAIvLOX71xy9hoeHTAIiEEES7e/YlHiGObJslrb3198+G9o/39sirIGOfc54fhPw4iLIEFUATHVbV5dDhz80ry9Xl7fjScjQoQ652r87ydZZGNRkeHXJULncHiYNDudIBgNp+U0+SH3/+zt771nau3XyVljo7297YePrp/EGtcWRj02tnK6oo2FsSyD712zxBNjo/hZOIePkja2WRvM+1mt68sVSxHucwDcBCDmOf5fD53tYts1LAA+8CBlbZxnGRppvTzDsgLINLT7jYAAkEAEpgDhZMn8s//2b//2ccPq5ASVkpjUACoTBS5qmymrja20QsQyUZp8M7VpXeuGVNEIlIirLRprlc6rqtcKevrYj450SYGBsRGjzizallcXeUS/NN0f4Evn4ENhOH0dPTxJ588evTwpVu3X7r1UrfTUYo4+PH0ZP9gJ0nslStXL1/aMMaEpWlquJ5vGdZYFUc7xw8fHbz78cOK43lexmk0KdP90WRGWNVVWegnw1LruTVubRCUqNOR///8219c3ehdu9wd9KLVQYerSsedzvJGkq0spa0rS5nVl2KbAgAqbqb7s2J1JpJn9PGZugzwhcTx3IcJkQUIgZnZh3uffvro7n2pfZWXvnbOcQgcONSFV5pABAGd88EFEWpuL4sAIQQ4c/MhNBLKIKohKAFp4lyEhCjCngERnXPgGVz41bvvUfQ//+P/4f9+5coGaQoB1PPBTuYX5wVo0vKUbwfhzA2MAEDUdPjirbMDREQSAK3VyvpGu9U+OTz85U9+5FxVlxWRIqVKX4EAs2xvPW63e5WvK1chYvBuODrZ3H700s2XFwdLItxqt8z65YP9HSfipAZ56pf+fwALCwQWFIEqwLSuEmfrEIq8rEtHOgNfAftWp9dttYxSSRRlC4Neq5MmkWfvwaVRNB4O03bvk/feOzwaXr/1ymBppdtqnw72D7bu7+/v5NOk3eksLK632x0Td+O02+ovBVfPJ6NiNBzvPZRyzq3ka6+9EXeWPnx88HD3QMA7CFVZziaTui4DJ0RIREGYRZSI0rrVbmetzvP9eSEUiAFgwHk9q975i4/+5q9/OSODHi2CiHhkBArFDJFsnHLwACTiGmF2dY6omqdAAoC2CbMHEWEOITR3UVxQSjELoprPT588eG+wvJKkWcMaF6jKgjl84dg1Kgl86cCOx7O79x589PEn/YXeG6+9OhgsGKsBpCjL/cO90/HJ+tpaK005AJOAyNHxQTk/Wl6Mnzzcf/cXjySKo16ys3NIZOJWhEqNx3VRDY0KwWlfQZZFs3nlfaHQjOdY7Y8OhvO9/dHGYme3dbq2kLAcLUyKweU6hPSVKysv3Xi5CLE2Gsgj6DPJfM52BpCGKJ+1xZ4jDoUAIHj+vFIhAEYMHAAAvZ8cHX30zq9mpxNfeeddDU4sG6VDxb6s2StkpQL6wnnPnoUFJYBCFJbATWTtzOZhYUAUbGwqluADQADyzRlmBo+ANQZHNhT5h+/+8k//zb/9P/9f/lGr0wEUYURQoFCQBBCgsaW+GAiIcJY6dDayBHBujDzjHDk/FgAQ1tZevnKjvzB4/ODucHhU+EJYBLH2Hth5CMLADNV4Op7MBZUXL+KUQgQlDA8ePDg8ONi4cjWKo6ODbUUQxZmrSm4ULwEEaCrQwbla99ywfTkYBYABaiRQNjKR1go7SdRPI8/tzFpXuGKe9hb63V4r1ZgZnaJqZ20gmswmvvTd/qC/fq1G2D/aPTg4mOwfLnS6y5fWur3Oyy+/WZSz2XzCRenyyvbjpNO3nYFNW2hVJ4RQTA93N5P5NOq1tUk2VlYWFtezDz754M6DgqLCu9F8lpdVOwRFqDUWpQviNWhCaLfb/cXF5/tzjrP6ygREAgAKAmMAYlXCbKf8d//q3x9NShID5FERByQFSikRAEQOLEKIgBCIAAjIRMbEzMwBlFIsgb0AAbLm4CVIo9yIBBElSs2r4pc/+9ONm69uXHlZFCAScAAB8SH4CrCRCQQAJC0ADAgQzh26gPLCnIDtzQcfvPc+Mr79xluXL11KkgwEWWQynW9v75dljQx7W1sH+4ftdlLOhz/56x/Ohg8m/Ww0nC6tLadZa3v/qKo9AxchkLFkorr2pE1VurKo4yT2HB1NatIwndcENCpNPMFQzw/NdPdYpzEOCvdm1tq4+fLh/ACiyKqFIDFR/ZQ6gQCAzU1s1nRpJOwZDn2GOIhIWDjI+X0BBSCACjT4Gpx//+e/+MXf/Hw6PMUAjoNnDySiUAgEKQgTKRDxdaic4yZSrhWCghCQQCGGMwuFgm80DCaFkUKrdek9IgAhEAQv1HgflKqdQ8TR6PT7f/ZnN29f/4O//QcmjghIMIAoAWEUavSaF+JMGi8U4Av5/LzO2aBZrJZX1vsLg63Nh5PJaD6fOu9BQGkVIIi42CofAjME4MBeQaNxBWAGIQA1L/LSOSZQ2kRRFpyri8Jay4FFmjj007+Ize9+5t34dUBq0moZEZHQGru6unJpfcWUk6Td7vWXg5fYxq1OFmloKXSTkQkSW6OiCBBQFdU8r+fztZu3kk5rNDyqTkbz6XQ01L7ObZTESdRtL8S9qJW047Rr407SGui0zRo1ocp6niI+2VtYWQ1kyMxs7TcuXbq/uTPNXenKfD7L8xnLggWtiHzwHAIIEGIcJYu9wfP9OQcCADAACUBjVZICYXJl586HD3/1wd1KFCGIYhZGauxMFmRSihQJM7MjTVEcaVKRjQkBWIUQTBx5XzmHQYQBfTDeORHxPogwKUMAteOT4939nYeXNl6BZo0TBgHhcBF/PQcDULNNQIDO1uQXj9477/zi+Ojod77znds3brZaLYVKAOuqOD4e7u4dIKjxpHj8+Fd7B3vLg5aUEy5OlvoLxmiMZFbxydF4fzif5RUZK05AsdKmLGtMbOkkr73JS230dF4Ieee4ncUMNC9EMwSrWBB0nFX2ZDgPfGeOPl5Qrf4ymSQINZbWhTgg4pnucLbQP8cbz0dVnl30GAMwS7Ni8+7u9n/48x8cHR61bVQXlXPOGFWxd865ugYEo43SKhSOxeOZfQgAhIjWWAkuMAuf2UoijEgswl6QQxRbRUpYgmcBAQZQBIjig2hg7wuRnd29f/pP/llvof/G194EYzURsDA1WhQ3seIvx0XXmoMXsQYAKK06nd7GtZuP7n+6t/1EG1MVeQheW0uxStOorEJdOxFBVCY2UlXIQRGIAIsIIgs6Cc7LcHhq1ZP11UtxHM9Hh6SVyJmLV0QudJwzfxvhr23bBUhrEUYApbSxdml59ZVXXumpMCtO01a71V7MugtpK0Vf6ar0kxMRUABKkVaqlWXKWud8NT462YbFy1eT5dW5zRQJagdKcWCfu1bU6XVXs3aPTKJMKqI5CGqLpNgotFmULZiolaSZirMkyOPDESoCjVzwvJjPZ1NfOxURKS0irq7jOCGFaRQvdnvP9+eFQGQSSe99+uSf/dM/fXIsHlKlnHCTm0CIyBLUWb6uBxJjYxObLEn7rV4nSY0Eq1UUx56dkJrPp7PJ6STPS4aihNpDSXXtACQAMBEF7zbv/url13436bSbWBsgi7B8zgmK4FEgAKIy1liF4UtUxnsPHr395muvv/7yYKGvlQEARJzls62trdl0evXq1cXBonNPxnc+mh1tLXf1xkpnMp/f2dsZjkoHKoiug4CY+axSpDwgKa+VckKzyleOwzTvdjqzeR1HRhllIyvMVekrJFc5oniWhzjye/vDcjaEJFpbf0VkDCpFtGfBSj6beILwWZa6AAjgs4z4LHGINInSF6EyaaIK4n1V3Pnw/e3Nx1abADKvStJKax0c18zgQ5om/V6XmWc8YwiCTEAMTcKJAgBCEgIIARAUUuAzG6FxnTrniAywAwZCBYAQBAgEBQJ59qC5Arh/78H/+s//5fL66qX1tRAAFRKo0DTyxQP2eUXj6ZfPnQQARBIWG8Unx4dHB/t1XVVViSBKIUoNngkpJmSbNsFmUqApAQaNxMiOQ2AdPCE4gQDijvd3q8l0de3SyvqlnZ3NsiiiOEZEJIVwdq/PeJbpOV/NlyggRJqZSQlpg2R88CfHB6YVaaXTrLO6cc1mKQbvx2XI58o5rGuWEGqlrbXWkNI+4qgqiuHRfl31V9aXlgYirLSPbGpII6tW2knijtEZqUi8+LoEQYTGeYmiFJGqi9q2F21sFSkbxSyMCpGgyPN8PvfeRVGkrUFFPnjxgVDH2mL865mxuUUCDELI5i/+zV/82Z/9dA59gDP/vTY2eB+Ci+M0igwCI7tOd2CjCNj1krQThY2V7triMhcTpZmBysrBpcXRSbsWmBb1yWh0OB6PZzQtS3bATKIUKtp58uDR/Q9vv/nNWGcAoaF15gBPWcRECgRAmvw06LWTlmVNLzSZlxYX3nzjtbWVZW0MAACC9/5kNNzaeWJs/NKtl9bXL1/Z2Hjp2srH7/1s5/Hdx9t7lae948IzTUvHJEVRZ4pCYE8sSMisKAYEY3SRl3VZj2FS14GUSiI1nU4qEJVlpamDm7e6qgzhcDTrLVwSjBKVVdMZ8IFWkagF0lE4m8wEDWk00kEAzMBPpVEBwOd8HM9ARBr9H4VDXe48eWxQFFFRFKAoSVIArovaeLRRMuj1Ll9ZOzk59VXl2LMIM4iEsyx5ImMMCbOIeAE4e/AiAGilESSEoIA0KQgBAaQxPVgUoUAQUgDA3pdF+c7Pf3HrT7//X/yD/2MrbSFSE6Fp2nvW7s/h89Twa0GK8vn06GAvBK+1mc8nSGiVURLQ1ZbRamO1mEgrQyKeCKyNbRT54D1QUYe8lNpp1zxu2zsTqbTb2tnerOtKaRXHSQjeB0Z1nuLxm+c1nEOABJoRosBS5Hk5m6pWtLK6Phgsx0mbnXOziR+NZTyVas6+RhAJTiEYrbUBAQVJmjjngecnh8X0tN1p2zgGdKJVkqRpu6dNLIEFnULkMg8+KISAghqIIFI6FIUIkdJo1PL6egABRERVlUWez7z3gKi11toEFzh4RWSQxNrn+/MiIAl4dL7dv0xpn6e1Nk0YHol0AK9NZBXFypA4RbploNvKjM9XlhcuLS2tLLR7CemQGGWEzMlolFdV1jFIESzZ425797S9c3hyOB7NcpcXJQKwQOXc6fBgb/OTq7e/jgAI0OSbP9+05i+HSPN6Pxkkzj4nYU/BWJvn+fHxsN12cZxENp3P893d3b2DvWtXr6+vXVpdWV1a6mM9/dmP8knJde1cUAHiWVEWReVCjoRChhSyBNIkwoEd+DrWlAMLsy+DAgyei6L0vmgbO2HkoJNIeSYGxYjD0byuXTJV4+pRPBh+63evl2JnFWjdPCYZAADwqWgCISA0/skLfClxAAAAi1chHO/vP7x7t5znvnbMPkksKmRPEiRC1WknywvdQTsLRX6qlDOaAIPn2guTeGZEYvYsgth4XAGJkBAEOLAQAiAHJlKalARhAhAQEOFmo1/wCEpTEBmPxz/40+9//e23Xn39NaOUiJyJnHqh4P3mxNEsLMZoEWYf6roWlqrMmTlObURgWTomXe53lnudlU6axAaQiYQUAGobp/NyPq/c8Sgfz/y0kvEkPxlP51BNpyePH93xzHGcXL/xUpIku7tPILCcp2l8iWbxIrCANBYaIhCRUouDpdWV9ZYGQAUgk+OjMBpSPsMyD9Xc+UojcBQHX6tgyGjSRpk4EnB16bhm8OXktBqrVqffGbSMTUFZDgLiMXBgIYEQvCARgRKlUYmionR1Po+6Pc/YafeyNB3PC0UYvC+Loq4r5qC00tpUVVV71xhjn4uLPYPG5G7mIAO4Ktz78V/vPNkOEBGVKCKIqJR3lVKq3V2ICC1KbOIsIku+H9Na7/LlS5cvrwy6KVkoNRslyGhi1S5cVpa1VqYuc1UDF8a1LUrbaB9nnfHspChrV5eP7r7LbnLp2mvWxCLifc1NasczYAEQYoP1aj9a75jo+Qs+w6PHj11dPXjweHFxcTAYdNu96XT+4QefFHm5vrra63SSOPKBH21uPdrcm8xLtJod5hWXzgNIpGCp37qysaq1OTwZTWaFZ+DA7EokzBIdOPgQRJkAwIFRsKyc1MhOpBXtH+QHB1WW4N7+uN0xkRqtr8839OrjR/f6a1mQRJOCc3VXAJqn4BLSmZL1rHg96xxVBACN6w4AAIGRFTP68nh7a3x4BCxGk0Yl7KrclYGEDEJILF1abKMruom6tdKvK1/Vlfe+LOrC1TPPzoe8DuyDRwZSgYGYESgwMJ+lMWkEC4AiLN4LABKiAiQhApDgfQBtVFCsth9v/+gvf3T16tV21wAGIWhSO57uy9Pgxn34RRfQueLTdJmAUQA9e194RYFlOh0r8N0siiIYJPGVhaUrg9b19aXVhXbHsFYUxcZGGlDqUhCjvJydzPOto/nj3fGkklGSCOownRdlPT4d2Xa21O5Ohoc+TTWBWOUYRP5j1A0AIGYREEAFREikdWxT8rr0tehaJvun+4+Vq1Vd6lB5XzADALFjYZbgxZCAB/RKWcSEavKhNEZFcSdrLyRxx5oYQTePNwzExE6ANNjAXnlPpAAIyYDCKj9NOxnpuB23Li1f3ts/QvGVc9NiWlW1BEEChVKFeuYLNKj4fLH+IigCQgEKAr65L64ydz7YevhgPw9VUEqDKFJBgIhaaZwZ1EpHke5YWFtcSNBdvXK9pXitZxdjyZTTaGKTITALJDYqiqqOHTDUBgw48KV3WlPiylGd5xbFEZfldDQ6+rtv/vc2aknwAD74UsKZzdJAOIAEJsVirMqXWrzSN+bFz8TttLLdnZ3Hjze10Z1Wq9vplYXf2dvrdNp15cfjoTYBkY+PjxGtoohIKatmWAqSjdSVxd733rx99fJaEDydFUens+Fofno6DSxlXaeJqVyd16Um65ywZ9KRRois7bfSNI3nrp6M6/EUkggXkZf7LWXMfFbeuXf/ulpOuxsq/qxriERn7lEAIADmL4mqfB6EBCDs6vFwuNjtuLzMXe3LMJ0W88qLjgzpONav3r721qs3jo/285lqrSxlWWasQUARmdfutPCbW9sffXL/eJbPAjgAR42TlEWAgWsOiECKPAgS+MAsCCiNfwVZzhYnAc+iWIqy/OEPf/T1b339m9/9FiAKgFZnOSO/IT5PIs0ZRdpV1Ww8snHCVNd1oUC6SdzP9OWOvrq4eHNt8cbaYLEbJzEZDaTAxtYa7YPzkQBTr5Ut9LJW2raIB6d5u5LgnEgYAniAEKR2de1cq91ptdt5VbrihVs2fi3wfDWQhnm1DhKqsogixcInR8d1Pk+ExDtfVcE5pQwIhOBd7ZSxxIIiwizAioxJLVISRUlk2yZKjU4UmmYnInvPwqAIUJRC4Fq8YlRIoJUxUeTZV2URtVJFanFxWZid91WZj8fj6XSyuLCsUDiEqiwRMSYF9Gsm3jOgkPb1f/6P/+Gt/9S9/4//b5/eG7kQoYbGxRXbKI2jSEEa6fVLl7AYJXHKwWkFaRIZZAVgtdbaQHBKUfBlFuskNhIkOLIGTZrptA07u/N2WgeHQTNCyEtEQKXOlHcR7yr+/HNhkQQIBRKUhUitppF+fmZ9hv/2H/3Dk5PR4dHw4PBw/+DwydbOaDyez4uqyt959xfD06NLl9ZXFheOh6eBmQVd5cTXVVUjyNpS7w++/cYrGyv9rIXKBFAe9fF4vrm9zwAHB4fj+bQoSy9pZJJQc1UVVmOW2m4rWeq1bWy2j4YPqymgYkVFxYGxyF1/QATQzlJtzTOc+FSzvxBfNn4sIBzQ+XI2dfPZ8kLn5OioqCQIoLYqYAAh8asrC6+/cmNjdXBp0PEhxHEnTbI4iRBJKS3AdagP9vavLnZ+/u6Hu8PJ1HPO3ikIqGsEF9jJWTJnQNSEzMRNmjwyAhGANCEvQA4MtUetd7a3v//n379++8bC8jIAhhDOfQVfgOdoAhEv7tGFUXfu/eK6Loui1FHiy9oV+WI7W+0nS239+mp8c33p8tJCP7NpDMYiGaOVtpEFAK2IrBLvAkvkWUPc1mubO0d7p3Pi1PvScQiIeVUfHexlaerYJyqxOhDUZ/Wafnsg4oVuCQDTyfh0PFrL2oBQ5sXkdKiddy4YrlUIXDsbR4owhOCdY+/FeyJFWrRS1qZRFAcIWilFMYHhwK6slGJCQAkAAozBY/BIQUHQjAWSJg1RkgKzhNBEi/Z2tqeTSeWqsixOR8OT0XB5adWwretqNhkDc20jrUCemqa/BkyILmqfXL6qXr29dP/uSSk6MREgARcoziq7tNAb9BeknrtiTLESV2bdniZWCs82rRirjRUEbWMJHDi4Mq+Cy2ItKDLoIGDgfYaQCoYTX1WOyAAAsycEAAzBycVGKQA4ky5EIGSOkftGliwTPu8HucCbb75Z164oqnyen4xGR0eH+4c7u3sH+weHO7u7W9vbV65duXZl46M798fTKSAwyjyvWLiTmm+8dvulK2u9xCaENrKoYzDJoLvQb3dR68PV5YPDg+HJMIoMiY5topUYFbSRTjtayJI0i9dPugz+owd7QTQjtBO3OkAAWuh2Y2NAmyYSciEsT3f1aU5p8DxxCDdOAwYAARIG8WEyPJ2eHleTMbpK2FW1Q20tqLosYkuX1xb6vU6r3c7SloA26YCUBYDgnQ9BI2c8XR5kv/P2zYUEHzzcPRpNd4ej3IWZl9zz3Il49ALgWVktAthsUTiTCQnCwmf+GQHgEAiUJv+LX/zidz/+ve8N+k2nLpwFn8fTxNEcf+YEOocIE6ngXVWWmsiVhbZ6sZVuDLK1jt5Yzm5tdFd6cZawjYUyEiKljI5iZSLhJmEGMPJKmFxFUMWEVhbbsSU8Kcu4DhwAmCUvi8l84py7cvXawf4uIoLIf4SD4zMIA0jgUJbBeV9VlSUJUhazWSrofCBghRjYO+8wioKrqVRaa0LUSNrGRhulDGnrfO2FxNWISNC4p+ogAsGDQlSaxSkF1hJoJaSYBYjIaPElAHjniOx8PptNx16kquvxdHI8PD5ePI5sNJ2P9na2FheXu2kHEvtinm+iYIh4oVJZFAKYty28dv3Wn5stpzITa1fmWdqKrDIooRjNwzQxenV5uZtl3U47sRRbZa2xOkIyZFsCQIQKQUKo6xyCA4mwKmONbWP6sV5daM/LaXkySm1URCG4MjiHSE3ky7uaxT+9WRYRETSCJihjA7GpYh0QX6hCZq12BtBlFpb1ui6r6/P5dDabDk9Hh4dH+weH1sYgkBf1LK8EGDQxKZvGa4vZjUuDtiErwaC1SunImCQmm/R63QDQy6KlblLmy5E1xsRaWcJgDBMGTdKymLZjQV4bdO9vDUc510HZqF0UYT4rsiROIlMRCpyVuWn+nkvKWSbYc6vvM8TRBBcvgM0fhnw6rebzYjTyVRGceBYRQaTIqk6qBr0WAqCKdTbQUWowbn66Fgy+CgAeUIhbKbx2dWGjl5ye5AfH48PxbOd0ejjLj6a5lDB1LMIKkIXxrOgGAkBgAWgSnJqnWFMI7EJdozo9Gf7ohz967a3Xe0tLItxwzW+Cz9MnnFMJhxBCUIgEIdN6sR2tdszVhfjGYrYYm45WqaZIG6ViHWkTtY2JSFkJwAyohMGTIuM9+1PyeT/LjI6cD6X3BaADrDwVVRmEx7PxtRu30zQ7+eW7Z86n3x7SkPzZgQAiAxdVoaT2oQDPDOggkASQEBCqUGsxIhy8q+a5RmJlIGaCxv8MANoHx+yldNpoLUYQQxDmgKSU0Rqsd6hqVFojGtA2BAYR0gqxyd0U5lA75yGwhDyfnZwe7+1sZVk2m092t56w91fWNgjpubyALwGCNGZ2rPTvfu+P/qd/+tfzkoL3IsE7JolQnMI4TtqdNMoMdiLVi6jbaVtFCkgba5O2ijqoU0IAduBrQ0oENACiEhUC+NSUnShayOLRXE09GxONTg4++Om/W710jUzEHD4fUgEAgMbbDyYmkwSyTtHnzJkLECgiEmSRVpSmraTf7zvnL1d1URR5XpCmhw8fk9JBwGhtkkRQiZtfvby00u+0rI4apzKy0tTqtEyUOmYJIdGLi61EKUBmZa2gQhAAr0BCcAa9iO9lrbXBQqKeHBTzyqqqljRtLfQWpuPJdDxJllaeVqcuDp/jiws8n8dxdoRwoQMLe2BfzItpnoOIq6u8cA5cEpvEUppGVhMAxGlLJy2IM+IAHICDCk5DXYe6qPNQ14ooieNYR5mNO1m0ME06nbh9MkWBPNSl9w6ABNALIAYAOc/+AEABDN4LI4lCQC9ceUaVbT56+PGHH3z3938Ptf6yRfuzdxCQ4HP3QkAEAUC8q4P3gtTKom4rWexEN9YGlzNaiEwiISY0oDWaWCXaZGRTpQ2RYRISQAKlBBG85KIUa1IRxYpWVgY1aq9ms/JgPMd5lMyreV3MDrc3y9oLswLgp4bqNweza3b4kCII7DwMT08HCmdloY0m5wBAnEOFAMKky6oyxmgk73xsInY+1DUHFhYh71wBRBK8D96DV57iECmtQRSICDA776UmCERASIhWaxMEodk4QCAAQWQyHfngRREqVbr6dHTSilvAAxGvAPPJNLCcpXm/CBgAuSELAEDyAJ6JfHDHR3tlNWZ0zoPWykbGWmu1TpOslbT63axroBObdmyTKDbaWBtrE2ub6XQB20tIOtQzKCYaFYBU7AHAkisDxGmc5Hk3a/Xb+TSUp3MvQKdHu64utTYg4twXqBJ4LjKRQasBSIL+zKn4HIio0aMUCACSABIpbeMoabXagQOATKdjbTUgBADytYqSLEsvrSzFiqxqmE6IlFZGISmtFKlQsrbU0plGgCBBQdDKaIXMEryryXuovYutXVtavLq+sn+6WeTV5s7xQjvp96K41ZkV85YiZBCAwCznEiNPWS7P4VmN47NriBADCzOLd64uJ5Np4TiAqktXuVCjoAdrlbKWlEqSOEkSm8RO2wAeBKRyAb3jwrsi1HMJgdmAbgkwxmh9mTENgnXQGU/q4Xw+0syAKIDMrBSIgAALApzliTW+Umg6hchMs9m8yOfv/uSnb7z5evvFGx8AQJ7uPEITwTx71ehjxICAngnEKk1GG20VhHam++24EykLghgCcCBgRAYlooMXBEADiIAILB5DEGF2NSoImth7MJCkam2h56V1PJOT/GjsuQ5cTsa7Tx7qqE1eABvBPmtWE2G54MEXjRwAMDgWRlQALCJ16Y+Gp6sWVF2mad+I+LqgwEQaFQFD7V2R52mcagJhFh/YS6i5LEodI0ClQBOiDw7QMUMtwYZUJIg4UooxQCVKvCdEVKgMGQUmZucZHJsaTeqDp8gqQwBKDPnaVa4WkcjYNOtcv3q98l6QgjrfqvxFQKyQNJJCBCBEDIAgHJecv/urd+clOVUagBCUr2rqxK2snRqVGUyILEGkKUsyrQgAEAnRKNNS2WLorpFNyeU4ORLv0ZcQJV58kJqU15ZiG7WSeNBJx1V5QI4UKG0alQ7Ol9VGXX3K1PUCColirSNkAcVgXtQ1AgI5V+QBEEDOqjqAVqhIMYTpZBy8AxKBEJu41U77iV3q9awmAFaEqIGQFFKoHeNcEZIEJUGhGAECqEEABIJTAIAuQMUYvK9JwUK39dor1x7sHY3G8zrIzvGk39WtQd9DQBat1LnaLgIgcq7JAsDn5uHzPo6n0VwaOMyms9lsTkSOgcmWrghaxaitjYzRShttYzJxE3wXgVAHX9XinAgDByUhiBBIExkGUkBkjclS7tS6k8WpKiIRjyLCAaEmkNAEhRGABAERCIHoM/1WhF3tJuPJ/v7+7tbOS72+qBf2hc5nacOgT+smZ1KKSiQQktFGkthYnUTGKu7EsQUhElLY1DlBRUDk2bMrETwqRJGmVSJBODSpKQRKIQEEZKfAJ5q6CfU7ppWaZG5nSCAQvFdRMymfGZLz1L2zk00O3heiaTwpJFKIKIhVVRZlqapK6ZrFSVkqFqVYGSII2hhACBwAwYdA5Az7uszRaFFEZFA1mQqCSEggIIGdDwggyF4rNNYikqAE8HUoKVhtSDgw1y4HQsVke/2FKGlJE9QXdrWLk6Q/WGy10iRtnU4nZ9XLX0yIz4ExCACDq8rx1v37IjGIY3ZKgUISV4ZyZrIecU3i0qTb6nSINIJHYOFKwDG4QCxRG5K25XYoS4z7XJdczj0LebBijITImNhAJzL9rNWOy0MeL61dtXECgN47X1fYKEEEwBdlRwkRUUJitVEA8Flizm+C57IBOPB4MkGEKIoIIcvSXrfTz2ySxFZrJA4gGhjABa6cQ0M2KAABajbTAJCCWCuHtTATsA+e2EsIHIImzBK7cWltdWlxltedXrvX70Y2ql1IohQJERARlFYAErhZpD8bps/MEQD4cuJoLvXOT6ezEJwI1I7RxIA1AmVJarWKtMmyto1bjMYxCDIzS2j2johCYQjsPXrnXRVq7wUDeyCltDJKx1ayyKQKIgw1gGcQJHfmQ1EiQZixKU3c7OxgEBGllVKKOczGk2KWP7h//+rt202V3S/Ec6wp/JkzsjkQEWIgAK1RoU5bqUXJIpNqrYEVIRlNBqGpK4EIACxeKUUGBDlwABEIgo1vOQhIUISkVXCVQm8QDUGqJNYhiawxRjnd6nR10mrUDQCgpizMOb6ELy7Q9AuRiIiUYmDPMpvPIs9KV4WbQz03iCZODZAxCAioNAB4Dip4JHLeKXbCgQBJaUCNCgEIlWdhRKyDcIA4ipGACJWxqAxqLYghOO8rCpo9zPOxNlEMQEnPkDJR1DyRhIN33hFhu93p9DpZuy1KAQAHDi82LREJzyesNF8jAYIjP1/oxq00nVczhKBJJUnWTtLUqlRLolVibRxZ1TzjAEihaj7L4BGAyRidsq9AJ6ATUJEAigcIgAxKSANbxFYU9zPV7/g4nl6+9YY2EQIIe+YgwAJn6wQiNWdARAOnRmsC5iDyWZnS5/AlXIlN5QuATrutjXHOK4QQQl2V2aClCYkUaZIQgBCQEVgha3AQznYRCwdWSEprEoUc4MxeCBAQRSsiQCcSW91upa2spbSuQ02mm7W6aaunlRYBIOSmXC6hoDSPTXi+rQDwIuIQYQYSYR+8c877oI0NIdR1rSm1SnlgFTzV9fratbXLl9JuH22stA0iJBpACyCLkDAKk3feOfFBxCNoRNTWIFgOnNXYzeIkUooAmBGQEIEDMytURCowi0izRsG5qIgI+0Aks+n8+OjoyaMns/E0itrP9OG3AxJpZIm0jlqJiRTVdRbbRIMKngDJoNIKFYEiFmEArQ2RFdQAwMLCgCwYgoTAwQkLAQbAAECaSIFwrVSIDEQaDWoBSrKWzbLGZ490UT/ot4A8ZYIiICJ5H+Z5KQAwn/tqCtUsi2yilEFLQqQwsKc4Iq0CgGIO3isQgkAKbBQjRQTEoQYMAoFIaR0pHWmtEFEpUkYhCqmETARErvIABSpVzadFGDEIki6LeWBQACIiIq6um/KicRIjZkXtnfPMgs/vNH0hJAAgE5eZdn/4x3/vz378T46LGgQISAOQL2MTp8a20zTSWgEo0iCaRGs0irSIEYwAFFZOTAUQhIBJwCgwkWgD3ntXabLKRMYYVdVWGa2jKGkvLF1GIgieQ2h2xwCcKXpnx0AgrDDE1jS5Kl7yi3d/KyBis6mqeRqPUVjXrpjNfN1xrmYxpLQxFkAANAgoBAXSaBaaEJSQliA1MTb78jyiJuMBiZ3RAF5AvAgTYpqlaLWgOO+1SYxJoVF/EABRQEiEGZCwWaqb5j3d2i8mDgAQYQFp9DEOod1qHUrwVUlRZBE0cqL5ytrgO9/6+tVr16O0r2wsgACCgBoVkQmKKg6+rtjVVVEocQCgNApoRVKHOrI2S7ndSkysUUOoAggpAc0QBFg8nj/PrVE1Gq0Om+oeIEokAI9ORtPJdDQ86Q9WLhr/2wIBCJBIImOzNGIIRBQp1IFJPIEWEKVVU6hUW6usMTYimxA1tTMRQBA9sBNmYJHAwlyzBCAhE8ABotIqsqQVa6XAWGZudAWGF7D6r4MIA1zozIBAzlUlBhTwDsXl6EslPCdU3iFYbSgojYikNQGQUoAYvEcEYyNS2thIY8QsAD74KggE1pFObGSQUCkkhcpojDNlI1JU+9pVjIqDr6p8auJI4jYp5QOHUCNAp9PtJi1rDTMjKmNtp9MtilIZ/Vso9ADoA4XS8PzVV15aWoi3pkfeKUXWatXt9vvtTitNFQTwDhiYOXgPISFICQ1SZmwPwChXKV86X7IvUDFZAzZWScaAUNSASsUdVVUwq4U9M9m0G2cdAGAR52rvKkQSOKOPcxAgKOI4MUQQOJS5tJ694gIXhsnn0QinQnzl5duvvPzS6clpWebBVbGhuswliLLGGKO1VkiKLKExaCKtED0JKwIG9uwDMwIhaTQaBIURtdIsCCGAI4fNBl9tbUCMkmheFAIqijI8h0IQEGZpCo8ywZkl/hRdwvPE0UxBgcYDRMJSeahr8dXSysKdT6X2HKu6HyGgaltz+5U3rt58vbuwwEg+1MVoXueFeBcZazWCq6riNBSjUM1DnQOKNYZEENkTCKJD8oRFkFlQldPgmg21QCIAyIiIIIrgfDFmAEUITcgWlAcUCpNyXtb5wd7O1Wu3nurJM3jKCLgYuWeVRhYQr5CMMbFNBYLLp8DIKnWoK4qVxKWPDWdOIlKxTjsmTpFIGcsCyJbZoyckLYHz+axmDAyVr7wTIKiRRENMLOxIobXEAZA50kmjKzxNHY134zcxVVA0EREaYWBkEaiBJhhC7ZLCE5QIISjFDIzcxE4kcPBOxZnRWpuYlAaMQlDsQBkgIaUUIDCDMiK1Dwx1npNoJA1xQjpCFVubYhypOCUOoZzXxUiTLsV4Bgp89cpL0bt36rB/5dLVjbUNqV2WxkIsCISoFQm7UIenPPHPQ4iEQDSAYpCAoRYohR2Lleq4p1Uv6gz9NLjaGhPHcRJHKLWrWNtkGmA0mltjL5kuQJZGXZt2Q9w63nkQJ6OV22+hL8C5YjKPrcW0pwM6r+xCVJazchwdz08e7hzt58Vp7qN2PzIRsEdk73KGAAQIjT3K0CzCEgACUZmkC0qpas7TUf5ljvpncXEPmvXcaLW8vPiN737nlx9+5FzhWQGIAmme3oPGGBtZiQNDYKkDWWeNsagCEigIhJ4BgECsVjpRQt4H73IkqzUAgtQg4gh0kfu8qqnO+1cGrVaLjBIEgTMFttn1xcwEAAgsINAYMJ/hOeI4+58AWBiDaJZ5ObcKegtd1ppJhcDXL6/HqT0aDvsLK3F7EUw8n8/2djZnxydSVVWVz2ZlEsXtlGyYGimMBOAgRIBn9BUCV4JHhd/en37wYPvRwUleiggFBMEAIALgRRRyEAYBTYQAKARCZ60MwgotYu3ro+Ojo8ODMp8+1ZMX4cyh9dxZIiBuwntRkrTz+YhD0CZiExcmHR/PtK7jyEW2ihLb6/dWL2WDBWpZ1pasVoiU59PR3I8m+Swvh8PTwhUAXgVfz0dRYtKkxaBjmyAwEmgDvpJiNmsvMCICC352738jymiAqAg1oSbSQCgAzMpJXYcAhTfGW6MRtSKliFCAPaPRhMqYOM3aTbqRAiUBq7wIDKx8pTXqiDAgePYiDutQc8FgjHGtBLqePSuvMcPYpp12iJQPeWS6uScgK666NFi6ceX6PFcv37zZS7r5ZKwQvK+D98FYJPC+9u4LcyLO0eRGIAAKQoAQABxDADFRTK++fPvx+MG4rlmgLEsbxVpj5RWLLisY7twBHZu0tT0t43iUxr12e6HbO01i05Wp3n1ACrSvoSwloHd1HuiwMpu7Bw82P907Pjk+2E46ixz1892H6WDgipk1fZDgXSXAT2d/nYNBvFbBGEYAz3Q6yq8/f83zuHCxNU77c6cbAoACevnWrXaczcPQIhmgdtZuZZlSBkkHUWXAsnKOQ+G5UL6VmCjTmgBFERJwCCSCKqAS0QBKR4g6SCjAC5YBADXqsqzK2k+Rp0Wt03ZQRuNZ5EFEmBkBCBEBEJEAuHGXPoUvNlW4cfIJI4S6rrTStWN2AZUZz4uirheXe8PT0yyNREW1GAFK43RhI1YS9o7372++/9H7n2r2g5a6ttJ56fKKMkoAHIsiDgyzon7v7uZHj/cfHU6PT6siIFkldQjCgCgIACBBPAc4v8vCjdsEAQARGYRYvJe65uHx6WQ8KfLZM334bUFktO10e3GSHB1sI6qoM1i98fru47ubm7ssWNS5qypDqtdqra+uv3zr2puvri8u9LI0A4T5eLS1M7z7cP/B/YfD04kDVhraWTvWROh67dbKYA2p1c7acDIiZFBS10U+n4XgAVA+440vNim/EIiEhEhnmSmNX8rUXnsfBAC1IQISTWRIA6BncUAUtaJ2J0o7SmkEhNq54F0xx2KOHpTWKoq0AgAPAXwt4gMho9WsSbcyk8Z23krbnY7UyJUyxmYtUSaGWLO3tUt9uHlpdZZjN8kSrYNNa+fmszyfz7QxwuKdq6ryN+ngZxBpVPByelCPHyuXW4qdqzwozwFZQKdV6crpfOXKq8uXb3qErb3Hjx5+FCpQoDXBxvr6xupgbeNGr9NeyFItZcjDdDa9t797b+/g7r3749Op2NBdv3J54+VyVsyGJ8YaayJSyrsqBN+My+dAwBArSCNNinIHO7vjbzx/zfO4CJmd/Udnw+1Bs4QMgGqPoDVCK4lXFhfTpAWCo0k+PD2YTMrdw6OiqtIourKyen1jbdDNjCIUTiLDPjgJQSutg7FJYBbFVmOWtmJQszqkiTMGfKhc8E50q9PrL6+IstRIHQAAKDoLRzQscDY5f2Mfh4Awkfi6Fg7D4xNXBdDaabV7PLxyZXV1ZTGNIiREVEmURYvL49ODDz/85KM7nx7sn0zKSnkvXjRUG6sLmTWotHfsPbsAn97b/MuffrA9cxOnAlhSxMIexYuIiBdpCsJKEz3FM7JozogwkQIQBsSAHPRweLq/vz8ej57twWdofE7C3BxcjNfTQABSKs1as8mkKouFbvfqS2/m3n1y956rXZRmrV43Ugprp0OQsjg52NvJPNY59tpK6WI2qyen1hdL7cyicghRO0NKfF25cnJyOp2Niisbt7txS8uIUYCgKGYSPJEK3qP6jDuanv4m4Vh46rYAAxDEgNe7A38yHNZFEGIRQo6ttcqgQgdYCRYCp0VVU8WhIlTBlbV3ipQmNI2LV0NkzmozBgfOec+u9PVpPpuF2mZZ2um20zRNklZnYbB+6frrb6ZpL+kpk09P7n56elKkRmNkiNl577w/OBpWnjvdbpykzKEsi3w++xJT5eydz/rNACBAwL6eHt28dm17PCy2do8nVeVrAURgK4WQt1G8kKkU58bGnbXV9Sw7nU1OR3uhLgBPJxOI9iijq2UoXHGqID08nW5vPzodHrQjWd5YidOMDFWj7WJyYtV0/ebXEc4SRpu/iJ95lM5BJBJrSCwAwczBg93Jsxd8hs9ieRdC+LlFIkHXCiMLdQVCEUWW1pYXjKKT09OP79w/ODqZlq5wrq79fDbtp+23Xr758rVLg36n226LsPOuKKvhZDYaF5WTWT6tXNXutt9+/fo3vnZrWpStNCwPOt0s9lAkWi31e2kUEQggNhpHg7MmMQeQ5k18ajzgS4gDEQVEgi/ns/l4ur+9LwE8qwogr6ruQv+tS68s9rsWRYTzPN/Z2vqLv/r+T9955/TktK6YQC0POq/duv7q9aX+YgcCI0sxnfmqnuXhcJiXYEqBitn7SgS8cOPzBUBGIGjqiAIANFSiARFRzlShpg8ogSSofO4ePHh0796dv/VHf/JMH86BTSj32TNPvwQRREzSTGntfUVaLa5deuX1r/3Fv/6nVsHG9Ssb128urvSzOKmn48nBwWR4lE9PNh9OVT1LcTVNs3x0Wo0OdVUMMrvYH3RX1tJ+H1GVxez4cHs2Ph0PT+bzcWJspAmAkcC7Kp+NQQTPU78aXFDGrwURNd6os9nMkhpZIpREFx7n3oMoHas4ji0iGetD2B+fPj46JDJp1snSNiAGhqKc+7JUzB0bDzqdxGKn10qsjWw8n+bD0ekon43m+dF0epqXlQApXMjilSwbLPQ3Xnlp7crlTmeFjE7j6JO7dyvMJkp5LtCHqpaHm9sPnjy+ffuVa9eve++YGQBC4PDiXiJiY9U2RyjEAAhIRL1u75WXl8b5fuDwQShdqFAbpYyREtH5qpifqqqcurpiMWzi4OtOGqe9tBWnVtuIwOfjwpvaFY7r0XQsVd1L2rkK3stoPKqqeTE/LX3dGqwOLt2oqjw2sYg4V4o08bTPNRYwNirWCABTB/cPX2gyPzeyZ/071zEBIPEV7d4rPvjJJctPFAL69fXe0mJbE0/nkwB+49qlOOkFxNFk8umn904Pjt/74KN8dPTKK7fa7VsqotPxZP9o+ODxzuHxBMmaSBdlXjze2tvfLcrRrdtXFxdaq0v9QbdlrOlauLHUvd5LWXwFFvAsjNLIizTLNlDj5aBnl9svJo7mMwIAIMH546PhweGwKl3l2AnVGHRkNy5fWui1FQpzKOfFz3/+y5/94qPC49LK5aODE+9qgfDw0b1Xby331lY1UDmaVNOymI6f7Ay3do8rB9dv3tw7Ojk5Pg5k6rIERADgxn2LgIBAICx4JhxnrXqqlRhEfOCqcsdHR5sPHn321pcC8XniQEQQiSNLLGVZttu9b37793rdLtb52lK/l5nTnfuP75WEGBsba7JKAanjo/0Uy2uXBuJ9NZshiNZmMinHp/P7W7sqtpnl1aXeoNdt2V4rMvm0TKLMGCOQI2G320kiixAAUQQAG9fLeXe/YI4+D1KNHXo29USCFu+H00jKfiuWeWWUMiaK4zhiFtIE4FGPq2ldzf3wxDnPAoWn2tdclTHiQpIsd7qDTnLZr9y8davXW5rNtw7Hp1vHBwcnk5ypEFMJxZGu52NMiktLKy0bc1FpAQRhX1tlR8OTvbqOMzWD2dHx6INPPx2Op93+wmh0uri4bKyNbMwZ+2fSVp7BmfFFcO6MQmJkAgjQXVhM7PjSQjxe6+0Nt09KjwhEyphMgy5qdzIpT5/sn+bVztxVHFpJen1pdQUhWzEhGzkI3igxC6D0bHp0cvBQShiNyo+ebO7mOaWtbicNk2Kxv97vXsuyG3F3CZBc7eq6EOFzZ8RTEEKAWCurQBTOiurR4fiZC74UF/NQRBCgXRWPf/gXxfs//Vs3Lh2WNJX56y9dyRKUurIW1tcGe0fjJ1tHo8m85gDMSwv95X57ZX2wuNjNMptmtt3L9o+PizL33jFxnHVeevlmp7sUGRmNZyDw5puvOYw/ebS7tb3/9s2NN9aW/O6T7GavUgYAAQDPc2iCDwBACCAIn/PuPEMcgiAiBKgQgQWQGAnFb+8f7U6qmYgLwQlWyoKKCQ1pxeAEKI6Tb7z99bXFpel0tLi69oMf/CD44vqlwYP33p0dTvwtlS5ddnwU9g5PyvzR/tHJpOgmrb/1nW/e29p5+HizArj/aLNyQYEKjkUgEDIAAwYQEQEkQfGBiZCQGAERWQII+xCc1/N5dXQ8fLovz4IQ4SyRDBDxbKGGc/kMKDHJeq8jvoJQD1aufu3trx3d+WUSaia/f7B9cnBciyqKfGFh8ebVDVePL60M4kEcKaaojVEUtexye9UNZ3mxVzj4+OF9Y7NBS50c7rz+6ssry0uZxlP0s+CMQWFuRer2cv/6tfXJ6MnWiD0YE2oCDkSBmwE7m1JfpoAgsXyWECEotYNWZ6Hvp2lCGikHIzomZQ0xA2KAbpwh01imB8OTKvDC6uWqAD8dlz4wQciDg7z21crqYmewvHDpdkl2/ulHJ9OqdLC4fgWTVl7Xy9305vpa5J0CydKBhVj5OKhSxIc4ejLZOpm7uLBlcJu7W8PTQ/ZhNjoZnU4rx0RglJVImjy6L4QgEyrhwBzACCqREIgDKxcN2km7WOx33kpfO5gef7x5SEgWQiuKTdKuvFR7e9PROOpdW261P73z7sLS6mt/+78evf+Xs3LayxJCIA1xbMhzKAoOxgMv33xrmi7O7rx/+43fa7f05gc/WEhNq92ibg9NxOKCOK49MjytGSKScEAIokLLaBWbmvQsd3NIP7voWVzQxMXB2cidL9LO51CMb1xelmz9a1V2d//BykJbQ1XWU+XLk93jYlqtdns31i65wCenJ2lqbmys9WK90G71WllsI5+maZKsr19GPZqV/nCUn8z3utlobSm7cWOxdD7rtr/+zbfeff+9Yn64srg4mM7m7/6kffkWpu0zNR5REQEIaOQgmhvewPCUEwRepHGcAxmg9ry1d3wwmgkHx8wMDGTiNG11yJjG1Zql6Su3b9+8svbBe+/ubD9c60V15dxoeGVlabnXB7ABjE3baPR0Nq9d3W/HKoqPnzzg8SzhqhhNeyAVYiVSAgRoIrACcuaY4fOygAIQhCGwutDSQQLzPM8fPfy1GgfCU2MGAI3hAwAkIbNKl1PvyqWFzuWNy8uDhSfDnStLC3kYI+eL16+2eotIemlxedDLJD/tdRKAui7nxlhSKokTm3bQplGSiWndfvlWXXCsIT/ds8SdWKtWpMHzxHWjqKvk2qC9HrtWdfTqpbWj0XYQQRABls9FfL4EInyunogIC0pRB6/jrKW1gZNiJNpCEO8DaK00xShCioOr5rDU7SRZN2n3spznRtexBa41wkKno8qp1SZNWt2FpRD8QndwtcLahf9ve2/WY1mSpIeZmS9nu1vciMh9q7W7epmenhmSQ44IkRQhQA8EBEHgkx71J/QH9CBAgiDpQRBAQIQkSA+CQBCQhBHFrUkOh5ye6enuqe6uri0r94ztLueezd3NTA8nIiszKzOne/RaH6oKGTdO3XQ/bv7Z4mbmNi+me4u8LA8uL771zW8e7F8KXbs4OJju7XfcC8ZQ1+Dc/e3ZUSdLLqMkCWkxWyALATZdH4aQ+9xnmXPuRTl8AQo67lEcj9HIIuQqoBCMT4vD6dnTdP3qu++end0/+zeETgC8o/lkQtZbsnm5CDR187euHuxdeeebe7mZ3Lw1peHStcvcbqpiMlvspxSe3L+7t39YinF7+7P9wyv7+zzEdn3v9pXlpKha7UKoPSwBgFNkSaP0PEcd5yDSwnvnnRC0bZ9eXxz7kp37PBARACNgRFuW08V8/tYlWu2OyrywSJmlsrA3ry1vmRKRiqwMUSZOJrPyYF6VhiZFOa1KJHDWzKr82+/fev+920PUqKhg+m53fPxwuz05O8u326Pp3uXD5ezta5e/+/Y7s/40pmhiQkS4sDVGEOJ4a4IqAcJLTbTfTBzAqru+r5uui6wIKYmCClLdtllVRcUcbUpqFBC0yNw33nsr1xab41WXytweXr157fq1rJzZrFBOznpQnRVuWvrJtBLpB9mJjQd7ZV8Wx5vmad2finSCqqCqLOP1bF9GKMaJqaqoEshoNopICGlbb74c92uA57iwgJEABAGswtzQnoVt31zaO7x6+RJwVxq5duuQ/N7JZtHv0mwy91kJoNAclxYKDEOKRe69sRbIAOIwTBE6DJHP3jqYFHlFaIGXGWmemZRS6POmNxOCy05+4/red65OZ7PK+PlPP3o4xKTEgiD4glp7M1QV8XxSIqAgQfEoDDcWcwodNH21yAkkDEOrXPpyNqkWmV0up5cPl13TpwRo3EGRdaVrGxf6hgxmWWY9OEQJkWOcVIvbN9/WZELoESHTMEW/Z6HKcLk/y6rrJivAuSE2JnRnH9/NTHHWNG2iqfOqnJH1ecUpaZK+64YwAKi17rUb6EUgEqAgWYVMkQEAsN+7NFHzsF49yayzKvX6OMwOCU1uwXq4vJxOptO65S4e58vKtMfdvaP9zL/19jeqeb47EQvWoAVHxsLEZQfTw67roauvUD9oHQpx+/spmWFIAOeF5pyijMHRF6NRAKCQVGPuC4vESeptG9LrXbCLbflMnp/h/FdZ6fZvhPXj2Pew21yezbwpAWJVlbMqV6VmYIkpBdmsw+GiKgtfWqxyPykzUPXWVrlfzsu+byfO90EEiBzKrLy0vG4oXDmYGhzisIYYf+Pm7dt7S/v4dDckFCJAQRzN29HxBQBzcXM9AMCLPWJfIA5DRlRB5OL1iHK/OTsRCYCQAETFIKnq3S/uR0FCF1lRVZOgRJY+c3D7xuVFbuv1ViRN5/ODa9dgsiRfaYxjTsFsWhGaLDNVlV2bX+6HIQZpdvG4qsyTs+Zs24koICjgGKBVHeO9SCgsZOhZh3QAAhAAI5KaXXfx4WtxwTvnihoAiAwCWDGTPL+0t+jXD0NXXz28bBEywyXGycQcHtwMHaS2i5Ksc1WxLCwM3S6EYABJksXMABnReVlNpuWub/qhJY4+m0/mE0wDCKuCNyixn6JcKejOsrxxWMxnM5xMrh7Onjw6UVJFC3A+sjcfpoxARCIa/0tECsDCD4f+m+7SgnWZlb6aBKMhDjtJzptqkhW5N5OKZ/N+SM2u7dqhD8kYyQsnbuKzzPvMaMyQdut17EJRVe9+69vLG9e6XR36jhCn09nV61cPrlzNy7KYTm1eKqtuz1K9evzhxwff/H6MGmPamcYAGEVWlcRtU2+3q75tZG/fGkJ6ORPxeagKgEEi0QhIiKIG0SBEAWDvY166x5898gZK57p606X9JGAQq7wsvVRCB3v5EGUQMH5alNODvb1J6YfuOCPSGPt6pcZaMiG0BfJkku85GgojMU920aT26WmTY1EtDkFBRThFVUUiEYaXYhygRCn31pBwxG0T0usXTl8K0n3FBuGsoCu319t6szmz/e6dG9etyUCYyBhLxvhykqnCru6tyRyQMYoqDrFpmsI7gxWBVoVHDVVVxMTMaqyhrDRuVpbu8tX93JowNDfnU3la292uk5SqKbsJvBj7fDa0cYM9o5JneIE4RmElJAABBaOpWx/Xp09yB5Y0MYOKAHCCe/cfPnx6evOdW5zUiEhikJSGZuhqUPV5tbxU+bzM53NbluBLRgdjcj0gEXlLDtWDWoTc0YBSGu9cdtr0D+t2lYIKAAIBAiGrPi9khHgxTgQAVkVmTth3ry0ueq469hXaQAEYkYGKvJjmRWP84d4ViWIQjfROXZ4vJvuXCEUJYxKV1G1OhtiSBmcLA6CJPZikqgjFZDI9WHKMkhjJIZEMkGIAUZPn3tXT0rUbmJd2tphYj1PnJotCH0dBAwD07DDpV8A4rwsbSkBJjDkJ9Yb1ejFf5NvpYtGRfvHgXsoy72HBeYZF5jO0frFXgHVJNEQOXc9DMICGYbvdpLDLMMSuM2S9y6/duDHv5m3bOFsUReWzcjKZZGWu3oiSJoEYYnPGoX/re987zqsGtesG5i4nQ0k5xS4OKerZyfF2s7l8JVpyyC/vmTdAkAWDogIAqiAMHNsUe4d+PltsHz7c9aFPwgKExue+oMxVC8py8FObL4gKlQFSbSEqCEuyZG05zbMqtS2Erii9m1SSmdBoE9s+dcoRbK6uBCAASOMWFPnK7gIEIYIstwYhJN3t+pdiAc8jxgQAxtDrcs+D8bN3PticHIfN8fVLc3/1So9W1MQIqARiiLLp/MC54GiNEnmoU0pEqCmxJJVkCL11HXlmnRTluIvIZT7LiKTZhKTkCl/0zcndL456Oztw0/ff74vpufX+euiLtUUvEAepCBKcZ2grSDp+9KDbbCbGTizymFCmyqInZ+s/+MN/+7cX0/ySIyDhqKkbQh9jMuCySZblVVbNApKgceQUDViHLrMABsB674icsQ5UldWAKhhMiGoQiRBYUREJiJBEWXVka/xKT30dgzeKw/BSEcGXUH32q1e/HQEMqr4sD/cPK19ZQgAxzqZBQcBbY71BgCSMhmPo2nbX9y0nLooCCVQYCFW4Dx3FzDhPlKNhMMZaUpCUGEEQjAIY0vmsyouCijKR60JY1RshFMDnk3B+FYzvxHlvrYucOAmA9oIPTs++fefd2WyqoZ8tlwjYhxAGE/pO88KVs7ycunKaVXOTlUEl9L20A7d9fXra7XZowBlvjS2cL4oixWaSFUaUI1iw3mbOep8XmnkwAJJC30QZ2MDy/ff/7It7q75vY+hD3yHqELu2icyiOH366PTs5FbfW4Bzm/h1QACAMeJz8ZgAMCIgkYjGOKQUWWRvsXz69Mmu7Zpu1g/ASdBlPst9WVI1QzdHNwV0hJUOkkImNqio8dY5X1Z73XYraWyUDajgHXQJQDEy4WQKxqOAKjBHlVeELhRAkSxS7pwBDol37fCGsvqTszMAXMymeX5+A7aO+RPnfwA1GS0PyqvX/fFnVYiudL2qCoVkYhBLapPYnKyb5BWGZs2qQz8wpKLMOEWOyTqLQKhAaIisMYasNVlhjWuaXd20E4B9l11dLs+GD+99+vE37vxu8fY3d8YpfFX4vvLBc3jRVUFFhKSgQIBxaNYPPv1sWO3KiFOAGmn0CjjgVob/55/+4Pjs5D/5u//RtUsHHHurTIje5VYADIrTJu4UsiwrCcGhRDRAeWadxiHEnByoAhACICaUPtW7fogcgUXGDFJEAULyBhOLKIjq2KQIwACKqI67EQBFKZ530n8Fnhkaz2m5Zw8jAChozwlyO9+be3DWBuAu8hDRKXlQEAkWPHBg7tPQaB9csn1sQuiUGGw2NBFUvBqKAWOuCAqkikiESA4Jo0BUFCKFw4PlYrnXhxTI3z/ZHq9a1mJ8Hc9Wy5BRlV/FYQFCtIRkFAUiq9CDXfNQw52rh8DNwH3usyaEPsW63S1mU4XkCDNyDoxTm2dlMklNH3A7rM4kdSypmF9ezA8doS9Lp4v+9AkwWFSNderCjk9Dmrrpni1yZylwJyoTN1GXHZ2uKIGKhiHs4tA2uxSCqBLganu6WZ+Frst8hgBfCRd8CbSgBgABEBWJjEN2qhGUVUQSxqhMJnCcLyZFke12ad3Gpg8hcpkDoVhjTHZA5b4plioRU5+4ZlcE3YQ05BIs94gQVAwzZbnLXewjBxCyUcuGId+7SqCj5KTYf3UdVEVBFKBAVzlnAJoQz7oAr78e4e69B4gIt24srXHOgmKKTMYQoqgQIqgk67KDS9lkPtQnPNRg8siknKEwWOuF+q7PsiLL89hSs961m9XyYD/2qW+HWTVVBuAEfbdeb2a3bvuiEm/Ruii4ixJirFiVJaLZNDuTG3f5zrC4RQYZQeH8misAMACjGlMdW+GrnF97do4Xj2NBdUyXkAQpHt+7f+/Dnw/bOifIhD2nXjWAppSY8Uw2P/zjP/mrv/Ub1w6W5uIvQFSBIClJiDEyoLeLg+QvGesQEY31eRWTdqt1VeQTa9CgRuGkIcq26Td9G5MkAQUEQLjIQzGj4hkX6mKso3ePAIAIMhqVr8brrGJEHIMdhKoIzdDNnIl932xOJn4vDpyENaoMacAWMkpRQujr9Y4TTveuQpchkrXToqzaXY9OvbGhDcq1cbnNcrAGRMZsZVHlxCzMHKaTRWbVo3YsXzw62jY90WRsofNrQYSJSFUTi6iCKKpGg0dD+3C7fefmzRlmD04eqQxAEBC2nOqhK0MIKVAI1iXjFDmmoevrdX1yXK9Ous3GZ3luJ56mGj0Pbjq7tN1sNpun0DWFt94RZGSqXdb3eTXBSZ7aHcboC9cL//jnPwYDSMyShr6LIaiqqohS2+229abvu6Isgf5CfQQAVClFjYkTUUQOGqq9vdVpvWq2p8103lVVkbsYgZk0ekjcnXa7MwlNt3nUrR4PXW2IOLRCRiTFIQztdnlwOcscEIm1CX0zdJ3SwfxQQFRFzgtVvqqQAQAQwBvIMgDArh3avldwLz90gaZpEHEYBmYWkc1m13chyzJrLQAYIrQm985OplBU85zqBACqIEkVWayRlKLsNpgGBj1++uje519cvXyYFYu+H7pAIdmimkkz5OVstzv5xcd3v/2972aZH5J0fRiGIDpejcarXa2zyfX3vpHtH0ZjBV8Ovvy5eIE4kiKggKjhNNTbuz/78Oj+vSxK7o1H9KxGVQEUEUADp66Tp48fcQoWQFlVmGOXwk5CG7tmaHshM5mUZAEggSbvnCtKtL7d1WkI8zyf5BZEh5DqLmxDbCIPCqO7pACgOF4gacgYVB0bqYwYmUTP/6iqbwgNPHsp+lXFAQAAqjCk2IruzWbr009Xx48g9menG5eFmNvQdpn1AeIw9F0znByvSR2j7HrnsiykLNNcoURIAjSEPoTkXXQhmqpKxJiSKCTmLgx9DCKJgONuq1WZ1Bxvh4SOFQwq6GuV1SuBiKrKIsJxlGtjbCRtU/rw4f0PDq9Zq04wY2BVK8CDNE3f5n1WDgCNsZ5jDMPQ7XYnTx6tjo8c2kk1MdYwB7QwxJ0f6qJcHOxfSWerL+5+dtyuJ1VuJ1WxN/fNNs2m0k8AARU71p9+8oufPfxcc7LBREQRYU7jIFW5bbtdvW2a3WQyBfPrEQciINKozDlCSBIBlJCcmcyn6822jv1Js90f5rMQsyKXxDo0XdeE0IehHZr69Ohz7ywipGGQEDEnBRDAxCnEmFiEMTG1iU66gNPLtlz0iUFQmOMQXi1cCiiQkRQ5I7imgabrhfKXH7vAYj5XVWY+Xa048fHxWdsMs9l0DHnkWZblLk0n86KaXb0F28c0DKgGRVEAAVmSCGJMiYf1rn70xT2yjtF/+OnjvuuX+3uDZotOd9u2320Mup9/8nG5WNx+744gxTSGV4xzVkV8kX/73/krqVjSbJGsVQBzQYyjkftsOynAWPH27MRkxIvBUQBQQBZMcfv08acf/rzZtUpGDWLmMCQQVRAgVAAWZeHN5ozj4GwOisAphXbo1tzs+s1ut+tnh1cAMYTWIkKoIXaamHkcAwKisKY+DlE6lpZ5J9oLREZAAzreDAkiqiJE47bHlARpvEBQVAUuWsOKvEljj+L7Eq0+oxsE0w1x06WbVy6HBPVqBWqPV3Ve8V5pXT+o6wWVYwKxEs0vP/lkELOq6/liPohfzCcPv/ik3a2mk6Ioynfffd9mrmm2yDHPHEqMKXV92w1tiJ13ZjFfZJNF3eNRkE/uH0VwSEQXmTbjAo1G8rNI8OuAiCCqpApAiAhKYMVkZyH9i08/+Wt3bh8urk1aDqsTz8ax6dthZTfG5SGTdtdo0rZtz05OumY3n+2jYDc02/XRZqirS0vamoT16qwkyi0aZn74+BGQTBazZXtYVq5ZZ/s3rlWL5S7Shz/503/8y49PYhLjDPai+oymEREU4jBsNme77Wa5tw+GXr0VXwMkQkARUkaOY08JUFUCLsuiLHxCu276k83ZNHPGk5izTJFE01AP3S6BSSFm5dw5n0IPdlLMr9HpxrjcucxmpQCFxF0XV7v2tI3ljbfZ5gTArCnGFIfz0wXQUWWNU0MYeyOA91E039XaDTG93lW5du3KMAybbR3P1mVZ9H2vCpy4i/0wDNPJhMWb3E2q/fmNW8cfr701bdMzMBIQAiokYCMQEzd1bb2/ev3tdRM+vv9LEdmxnu76g/0lcBqa3fVLe/PFwWf3Hs4vLX1RhCGqqiUyxqjqtCqW792oswOp9gQMYxoPLuE5w31cPAEAQMBzJf0ML+ZxIKqIBdUwPPz88ycPHzVRVl1t0O9UB6XxRJbH1FICBhlCG4a+dCUDqIpISN2u2axDHSfT5eLgZoKsOX3ilF3od6sn27PjzekZo7M+i0MMYkA0se66sG67JoSBVREBaIyMogHmOJ4Q62hwICC9lDgPAPCGcNuFSyLn633hoYx/BgAQYsFP7z6qjO16WR2vXLm37cMpt8spuZwGgBCMs0YjG5ujLU6OTlZ9PFo/aga5dLhnUJ1Bbptyby9ZQkl9DBIGLQpL0Meh69oQB1UuiryYzMBVnVY/+/zJ0bplzMY8N0CRP6f/95ugqKDg1aj6YOhnm9P20+HdxRJiSqqEagCGmLa72hrvXSNB+rY9OVt3bXuwvMJqdtvdg8cPn9Yr58zRtrt+5dL+fLZe1UPPH3zwrXxSmfni7v1P7PrkxrC7cnkvSmbXlqr8qLU/+PGf/qLuOpeTJmu9d95aS2SYEwCgYuK429Z1Xfd9B0R0sQS/OpAQ0cWhlyiohCLIyamdFHkfbR9ks9qcZWQLw974aIgHiE2KcX7lXbXTR/c/ksR5MbF5orOztg/bzWlZVgA4DP3QNtvN+uTsrBWz3L8uZIETIqimscLtGVRFVBBAWfr1qcyTyw6VYbfrg4CM+SavwnJv0fW9iLCId45FHXlV1UZVtSzzsjDOG/Wu3L9sH8+a7YkiKIwF83TRCIQKn12/fm1xcEldWWbpu9/zQ4rW2hhjz1zm1bKcqsHLl6/U/abtOiUKkQFg7LkJElFYc7+4dmPV50YQzct7R+DcN3tGF28ijvPCMkpD1xw9etg09aYdmjokDhEoxqQpKSgTCJEXQmWPlGIQZQUVThJCHIbEXCz2llfv+NmS1Tg13enR+uTJ7uhJbNrCFxA1RFm1XWOtQ2hDWrX9aTNshxQVgYwqI6Eao6ACoEhj3EMR0ZwfZo0aS0AZcLRNXgc8t0rOtcbz4RAdK/+QGOnzR0e59xPKJmrbthaIHaftMOQMuu2ErXEoPCTU97/9jVvvf2PdDKvjk6apVeDanduHl6aWkndZjJFJ0Zt2U7Oq927o+6FvSZMhmlblJF8wHdw/bf/1Tz9qBC78Z4Q3hgxfCwWUsbZIBcQAIIIQtmg/aXYPt/UU9FZOpSSvJjLCELfrlXc+pXR2tmk7mS2W4LIgCs4Uk1mWpO2bX372xdOnJ9eW+9NqeuPWW8VkCqRX8XayePejP3t6/HT/UrU3maXUcUzrwPd2zUaICQwReO/y3A9lCFFEQBQBRHlTr9b15mR9RmTN64keEGD8f1CBREcn5bxKRCJHGVWAAKgFlKKahE0tIE2E0+0uKzYgYqAjEWegmi0IZT7fy6vfO3ry4N4nPz05OXMWh7rOp/PllRucgnBcb05ONuunm42/+n1TLIUFNKggx8QcAUABWCSEkFIa2wjGIayfPkjL0hhNyttdPyQ47wrxKpRF7p3NnB+tyLIoRej8FY3LCKNtIaYoDt96b/2LJMOZsUwqmJhQcawDddMEJhIqoPO2mldTIu88gIqoUfXCAJLnU1PlfcQMUIEQgRySBUhmUPfktJ/MkmZGAUZd/RKe/0T1XLU9w4unKoACKik27eboyZPdpqm7sBtiiGrG2aoIaBRAVK+QG9orSyNJQMCRMdaCAZWsrKr5vqsqa32KahO2dXd89wsMceKLqQsh9t0QOo5IYAA50Ukd6l76JFEBzvf3eQmzwvmov6zpApFxMgACgoBK8FKjkReBcG5cnL+NkT4vvg0BRVE7oI8ePj0sMzE02cucQ0XTCTFkzOn0bDVwsJmbzaZF4a/sFTcA8a2bbTsoyPLyXp5RGAZh4CEFDi4zvqi6vgcyITAKOCBrChVaNfrpZv1PfvThvbMmoEMQo6BgRm4cU8CeHak8M/i/CmExBhAAWBFBQcAIo+DolylGsoGUwERJmhisKhlRafsGkKNAm+LBtTuWHJEREUDNCjenSnpY7+Lp0OR9OT+44spSjfe53SPo2ybcuBX6FVmT5UVS4MSbdjhp2s6U1gMZlNybWGZDCEPgkAQSgqrKtq1Pt2f+qCS1bwpyEACqAigKogFCVQdICArKMQaGpIIC53rFeGc9CssA1EZtm640pI6tc2pzFujbOp9kxXT/+vQwX1578OmPZaiv3/72ZL63C6fN9kS6drurV8Owinr12jcQM9DIwABGYlRmFVHQyHGzOYkhEjkiM/Sh75vcTa01iXnbdn0ywK8NjiKgNbYqjaqqqrNWhJKwz9zQ90TWOpP7PANVwGJ59fYHxac/+aMQwqgxQVQlJeU2uEF9Eohd4wQqJW9pUuQA4/E8oRUBSAAZEaACEhKiIeuBvBmEWj8viktqJwlBAZ75KQCAiCwCABdWPYqqio45Gs/wkqsCpJBCPH389MG9B+0wdIk7FkZFjmJAGEDQoJKKlbQ/qS4t5yDCwtYYY63zee5KAOOVoB0kbmPgoWu67c7bTBWUBVgQIMXYtQkMqijYct0ObZKkBABIF0U/oqqKiOMOR8TxkBKRCIB//WOIrybe4NhhQRXJJOU2pUebxlb2trlKNlMRTqgCPvMR9PFxzVos9spts11Wu7mxk+n84GCfrBGNfQ8pZDEws4ZB46b2OQIqC7OAkkNjmfnPvvji+OOHR72eNilofnGh9stApNF+HNnzdVBVEUZEAILnlMI40/NUCLSCwppYwCACknHGOY8MuctiGLrYWuuKLAcRY1zlHEKRE0gfZ3npCGLsu27bdXB6evzw/hcI8dLBwWQyERG0Pog+enraBdZCVVnBoDHGe5N703vTOxVRZgAdhn672ZTlFBnpxeO9NwMNqkFAI4AhJh5rH5VHUiVjjCnD0IsYARx4EFO5iRMRMVQ3TWSjNGB4SK6al7m7/Q3kXoN0Q+hCL7saRYeoXSIsF+XeZQBEAAVExRQHTqwqaNBaW1XT5DlFBsCoHcowneTGuhSw7XrWZ7rpFXgmySNx5GQAERCLwscQEVBUjTfGGCK0hNPZxBAlUQQgwAtliUmiCG5O6r5uu20/dAEAF/PZwcG+iDa7hiwuDuaTRVnMMueJjEECa61xFMFks73D4h1T7UdbKBAAI6i+YdyvwsvBUSPAQ3h498Hx0XEfQp84KQChkCoogwIaQ+iAK0rv37h0eTkjEGVG78A4l5VFMRu6YXOyPn76+dHTs+u3b88v7/UktJgN9c4v564NZgjdtlHnsmzShLDpwzqkhjWOhp7qGIMY3y9c2BrC51tovJnsglNo/Ol8n70K42p9FYiEhCCEKONXBGVF6hSYsqC2wKLvYwjx0qVrUBTt4H/wgx8S3r1x53B/5pfVxPu1zR4Xk4pFWSAl5qRnp0es3c07V/fELqpKFRMrWs9JOqFHtXzcdLUpjCnpDd1sfgWMN7CMr0iVgUBVxyT0Z0EcQwaAFHBIYl3yag3ImAM8ny1F7BfHRyfHJ4i2nMyqauYBc4XCufl8SlM1CqHrj54+fnj/7unpsapmeba/V85mUwSIMRhXsOKjkxWP9awxCQEZi4XHkBnv0RFEBFYkTDHWm3WRFQTGvN7iwPMpnBOhAgAqIAA6BRh6HlvojrsJCZSlrZu+aQufB4EgkACMN9zHZrdpzpqTRz+cuHKvyKvZpaxc6tBzv951/cP2bJvW02rm3WQHeNbF6up7YDwCqRCAUVFO43V5oKKImJelCggDsxCA35sfLKaW3MBm14akoq+P+p5rKQAioyoKoACI4J111oxPABoa+yEjGmPR2MRKhhAQAMlmQ+pBmDQ9efzo8WeP2yau+6GsytlkOj89c86d3D+pV9urNw72rky/8RvvXLtxQM7aUS7IMmbGL0x5OaAXsICMgOOXj4McxQng/HiFEAlREV/yVV4kDlUjyn3cnK6Gvh9CAjHeQhQGYAAxhqxaALUglxeT771/+2BeEYJwiomdsehzV8y6fu09aEpP732Rebr93vXp7cttsxvqul2tT47W6/VKQizyqZKLwKu220RpkiYkACAVoPPh43iYJ+dVoxeb5MvMqC933mvY4c8FEl6sKIJYBBh67kMaAiRjk8r67PTa1eXl5d7sL11yPvv5hx+9dfvdO2+9tbc4nOxN+qFZHFwxJgtduzs7/uLzTx7c/+zqzcu377zltC18Vte7pIDG9dytONViE80VMwHF199s/qsA8dx3Gxn2eX4cBRTREDlUROQh1j7PSZJYYuHQD/l+tly4ZO3+weUnjx4/fvJkndXW+cliulwcNjFNqirz2dPjk/TosfXm5p2bN25d77tGhjrzLqVg2BJQSCA2TwIiTJAUjQChNeSdyTPns9QHICRCUdls18Y41K/G416BMX0OSAQRjQVrFChEkfEYSQUUjLE6RLLQ9/VqJbm9XDpbNzyZRm/KfFZNsquFW9aP7sG2H9rTLh5r7C3HemgGjNWVg+n+tXVTn+zq0y5e37/JRIYFBBUt6JBiUP0ybRQBAIWMRaVqOq8mtw8Pl2TMEGDX9knP99sr8cx4PF+d838BEYgQABSMAuKoEZiNITImJjHPfgdgwABg4nD5cFlInuqYgfPOikgMwdvs7fffR2siJr+w87IkJLTEgcd2gFE9mTKRByQEHmNqL5kbhAgXxDFuQMRRQX+JlxLABFR5GJrttu96TjH3hagYTkGGxIyAhOgQZ85/5/2337t9rcicMYgIKppELRlGAuvmB/PFbHG4t3dyfPTw5x/tHx7WuxqGuD0+3p6sLJk8y0OILUudeDuEVjQR6bm9fT7EcdAw8oWAiIy1vYKvWJxfQQ5fCwUAIhyPc9Rwn7Z10/Vxq2kydV3TnB0fXXM+M8P3vnvz8kEVeqtd0KL1WM6Xi7y0u7oNZyftk0d71v7t3/vrh1f3gEKM0PftEAY0NibddkOtOgCRZE4dmqAoF7c+/EVAhghpVF+iCs/p8Au9oQqgoGAw9tzHhAYdkSeKMXRNW5aLfceuzK+Wy29cf//45HSzrTMtyt4Co1fIEmTlwbX3vn/zzrViYmOq28ZujltnkFURkYXLoqpm+wk+GflLVRnEoGLmXea5KCEJSZ55b60johgGVEwvarBX4tzuQEIDZCzaPEHkpKIC5xqQjM0Aumpaqh5sjp6eImXocmrn3pipI6sShjz3MplXppwtrmd2krpamjWdPRZug8927e5st7n79IE5+DYVewBGdTyhAlBIcRh1CgAgKICAgnJCJEKaZHlVOIMUQto1vYyb6NfA+ebECyf6eceUmUU1JEaAnFBFWdgkiBy6MEyn1dTNu/WQI5VlYa0lImdN4TNCTFbsxGqGZExMHGMAQwoFGK8mRwQDomPYBECBLsw7eKZ+xgGd//iVVIYXiQOFUaNIs+t54MIXmSmjJEih71MAURSvsYT0/Vs3/tp3vrm/PIS8ZEMWEkokAAELjqjIMStchpdu0fxw//T49Oj+o1hvw3o7NG2laNDuwtAQNCxN0k2ETlFQVZkULdDYV+4lLWpGc26EKiESwliJTgSv4JLXY7TkkfDL71dFUCJVlj7xtg591BT7eUVezfHpppguJmVWKF0t3KbvuT6OsQmpc5Npax4TapGYSpPEFDPnaRhCIxxi22CMgFi3cTOkVcNtTIxeUXFs2Y4wSuXFVj/HSJrP21ZfhZIBa8+1VRpP+/W8Ml8FyQCMGUzJATuEPvTGGTtwnntNuqt75RBjcNbkluzE7R++pQkz9gYQFbxxk2oyv7xvZxk5II9kin5o1aA4F5lzylLPpRri0FAqNFMAQRFgi2itkyLPYsqN9aq5t9b6zGfGvLA9vgrFpOSAQFGBBIjVsoizsSLog3JCEXUCJinHXQ1hNyWYz6spLo8ePTiyTozLcwZjJoW6vGBVszdtTjdx9XA6v4wgbejOQjt4VYxN7B+vT7bJHU6uOCosAwALJlRh5ShRYaywE1VAsKBCICODOEKfYyaxHeI2CIqVX00TII7e1vgiaJQBBCRSRWF1Fo1KSxIBtGEYFG1CiiopDSGSIQeC0Cc3HHMysSM23jtvaIqTzGU+s6a0ZEFE+mZIMYq6IDZBbtEwjO4JjbbCuQSCIirAsxZL54nb4w8vyedLxKFKwpL6MCQRBB36OoqwJEzJcTIEUwvfvnPzb/3u77x7+3ZZTdV5RlJlkCRICmCzMsNMyUUWyLK+3ipAnhnTKjrtONR13XRdIGwJ6sS7gXdDjKpEqKoESkhoSBFYRL9yVjLW1AsAjdpIFVBRxsjHq/HM4X8zCPQ8cA9q8wllRdOu1i0Wc7/t4unZytGy8j5zWOQwaOSh7jYGmQGS9QqOXG5J0DpFI0oqKaEKIXRDaPpQ9/HkrA6iCVnO0xheO+ZnGO3GV0IBgBCNAQU0iqBjeFwVQEYvRlkkQQLR3Nl1ik3XqzfOGsMQTk/mQbPCZJBb4Dj03bDL8lLZa+IYAqru2rJOp9NhPlksclNGTkk0n0zUgrEZsxLoJC+tgWi0ZAALCOPxMJAzvsgxicuKHKDyNssrIqdjcsLLs3kBiuNTAmBQDYgRQ2ABDAgUYKaKKQxtU6/zLC9dlgtbg/Mb16uquvvZXQUo3L71pQJMUfKqpGoRfNasTurTjzSmFKJWlJVuoLjZnJ1st1jezMqlNQ4BFJKAqjAzx3hRda0AOmpgAhjdDQFjyRfE0oW+jYznNTavxjM5vPBZzr/qOSCCnMu0AqiQqre2j1EUYgSKLDEpICGxqrOKJqbYCeckBo0gY5/AOkBvEjInkaRDHAA0K21Ub/xE0QAY0dHIMAAKKoCEKKNMnY/kxXm8tBNfyuNQFE0x9kOnKCwRJFpREiktWl8c7k8/eP/Ob373g8v7+5PpjJxXAlCFJIKBaCyv9T6zgAYkinBWFJtHj1dPn7SbkxSGTkL0YKtS+9CF2DLUYehTUCQQJFUCRFLEMeYu6WJ+gCgsiOdJ6KoKiACAiIbQmIvsjlfhJfcMvvIWngcaAwBXb9xcU7p38mC1azMLgFnddIt59NZkk8xDGjCiUAtd3wZVNgGIZDKZ5ZO8mk4i92SNDMAKIcmui5tdd7zereuOBZGQQMcN/gY5G/EG1mOORggIQRWUAXB8JxdQUFaACBoBnc8Kge0QApsoMs1y4tb0xhd7BOCNs4Vd1av67Cwk5hSJrDcuYER2FRkhjMKKapyZZHNJrSQdunaxd9nk2bd+63eWD++lRxtSopEXFESVvHNVbhN446bT2WQyVwUZldyfQx1fAtWAAFAQ1wsB0JQMt+3dbnPigbyaMsudclZ4Rpi99V6eVR9/+NOHwMaVQMZaWjqTeSwuL2YHCw5RIg/Nbn36kB1vo5xtm54hL+f5dGxqpwogIAqS0hCHfvQ+XrlOTduenJ2lm1f6nsMQR7P15Ycu8EwHjP2pQF+KLXwJBARQMmQNemNs5BAYWFHQAhGqMcZaW3o3yfMr3oISgDGWiCR3JnMenBHCpMQAAsSqoM5Ve66YKlmQUcG8YNEjkgiPHxAhXFgcL9kaI14gjkzUAkCIsesyZ33pp9PJbDrZmy32prO96eTqpb35osqKyjlvrVNV5YCqKgEIBTFxIrLG5dZbQAfW55Pq6q1rk4lpVuWu3bVDwJrbp7t0fNJ2/TakOgRBsHThoRMAwZiogQwWxjx9AEKRcwp4NhMiA8ownq68QTNf0MRLDDLGXJ+1BRq/enyCrDm8dvP+Jx+uuzWRAeOLPC66aBy50k32Z7bMOYKKUSVQNRa8w6osy2llvUshKJsQtY1Qd+lo1Rw16bgOdQBBiwioqgj4XHry8+MX4VEXvYE1AAAlIRsRQQJgAUQlCwAq5xf8IACCijFsDaJWOYQ+1F3fR6NIlTXB8CDSxWE6mRo05ExEEDAhBEXIsnw2n+8tllUxsbkxuVFVbzIDdtj1kARZnfMMurh+4zd/79/9N//g/1KIY+68iJAxiojesUbMvK2mbjJTpQs/5bXrhQBj4FNVQAg0IEchYeSINMRudfKgXZ1kJHnm8tzlhc+Icp+pEUH+5jc+KFz20x//6B5Hg2/nfn+RlxkSEiAZQNNzC6jT2WznaP3o6dNmiKaaTxa+mCAZBREAVpYLm0P1y9Mv1dF9lPGHzWr9+afr/oMr3RBDFIXs9dN6ddwUCen5wgJEIjMmJ6lI5OScpSZylBQZFDwaJEUwCRxmRW7QOSR0eV6ON9ojJEAgn3WiEGISiYqKrij3pgdXmXIFh4Qg8IwUnokZEakyXHDKKJPnz7whOJoltSyZ6Hfff/d77791eGl/uVwUWW4QnXUE4FAVNIJBsgYkDm0KDMxAYgwAKEmK/TbaPNN57kskB1lJB0CFzWaFOVvxem1SN2C9C8N26JsoPYgSWUOeLKgw6EVNIAAAEaGIKvBzQ3+BI3A0zxFer8G+anF89ZMvMb4wQl8UvprV3e6k6QWJwE3mQ17kIcqsnOR5SWR8NlW1HJmsWhKESMYmjSGlEONZ063r/uRk+3jVb6iqUxbxPPcAQRVA8Txj5S8KFY5ERgVEFBHPXWYAQxYRUVVUjCmEgNCUhFSalOKm608EuCoRjQstGqricGl5WCxmCpRlUzTECN7nRVXleUEgPrdiIinKwKGthzCE3S7PCxEOKR7t1tc/+GD6Bz88O/oCVVXUksBIi4Rk7QAS0WBWnO+K59j/VwEphTiX5I8ff/HLn/7p7iQUJi9zKifeFjkYNy/mFhmtcGIy8YMPvuNN/qM/+cGnn/XWfWfiysxNcwJOPQfmGEPfRutOB/7FvUf3jurlrRvVfOmzXAkuzA0YLQ7hiEAXwYgvoaqqMsRU7zgks9u2MTCAgZcvl/2LQEHJEFrLiSWm3LvdbmiHmFJAFevttPTG2lYIkcqsnJRTRGssWgsMmlQHlXbo6z70KYGqce7w6u18ts/oWZUAz6XvxVXAUdcAvIHWR7xAHMPpya5uCsS/8Xu/R5AAFYAUAJ55pCJIYMkxQAqtCEsKmhIZ1POnBLhtd5t2V08nB95kChoQxVpGSoBtlLNdd7LdrZp20/WNION57x6LQMYGZRYBhfN/QEeCHe2KkSMRv7TJDRqikT1eO9VnRPPsNb34ycXfBACABEhksrxs18ers5NptWjr1cm20QTO2zLPqjyLQ5pOKvTGeWtNrgqIisgqfRLpd303hNVq8/SkPjrdrlabRovBZDV3DKgIz/kp//8giUFH7aeqAM/zkKqzBgRUrLOMwkCWaEKcqnJIXPc9CKiAoiDhps3KqqpsacgacM5m5Bw647MyczkAK6bRaQyhX61OurP11GdlURkyQfi03dnL19//7d/+g9+/FxkMJFUUFRjXyRIrMJArqiIvQQGA3uQtggKAACkQAqI4lum/+Ed/8smfPdh89tlwOuR2Wma2nNisJL9Y9KEnC4UvEFmdAho08o3330vS/vGf/MtffPgT6EHYzWY9oeEhxq7fbDdDPvnp55//4Y/+7DToe/Nr7zrnnAckBVFVFVYVjkFSRDxfrosRiwKIAgoT8HxxoGibtg/n91q+TDGvAI5LRnqh9y42qgIoKKpQiLycLmxWiAKwoErf9R2zMNOQkpKqVUlY+IniuukNWudMUXlTFEOUutltdv2QYojREV66eunw+g1Gp2hQz2Xmq8QB8Mz6ePnzl/ACcTz62Q8d+tzl5tzDEVUWBkBiRQKLqOftwVLUECAOkBoCQTGcENCgQWdyb7muj9fHD4usKsopMMd606xOTjfb09Xm3unq3qY+6UMvGhUB0QMIS4Bk0AKMZ9lGDcSUAFDMl6wwbnhhUQC1hABKAKJAbwoifgWqyohE54lfOvpDohbAIEJRTS5dOfzw7s+l24U0lHnW9e12N9x7eOpMKWqiAhOUtkKOigoChgwaVefadjjr0vFp8+Dh8cOn9XbXiCoUNqFEDmg8AQAgAtL5+r0kZwSARGYcpaq8wSaRxNYBCKiyjuylEZKoKnsD5A2hIfAYtzFuvK0IMoWpz+ZFCKxtF1goShBFAEOIl+JeWUyRAbT0VCD61EMfetDYQ2jjTiCuz443x4+czfK9/bywLrPrrjlKcd3ywfs3F3+0vzluMqmVChRABERUQgWbVATUWIdAoKPJ9WqQoogBcKCA4JjzP/hnP//P/7P/7uN7zd6k/Cvfevs713VZWlcV5E3mcm9dCL2tDokjcFQDSYK3+ME3P4ix//GP/uiHP/3Ro1V948p+4SrpNYo0PX9+9NEffvhnj2o208XZ8aOnH//w4NIdU84BrHIyKshR4wDKAKLAAkmQQA1pFLBMxkP7jSv5X/n2LWfyuo0CINqf+7qvgiLCqFwBxoIKUasgOka1hZR6QNU432w1ccymU3/4fvegtnA29WmLvGoHYwwnPou7ENMus8db2XRVDjZHk+WZyW0ythkSgyrhkECUrhX26vVLpixY2LEq2EQ0eipoDQDIWPyjgHBRQqQJLnwWHY3jNzQr3hw9XiwOBA1ZBwCqKhxZxksugAGRiBQFQDjEoeW+jX2HJIQGyYFhFKNiDFgL0K9XT8/uOusJUfp+t2uP2+7e2faXj9dP1m3HKOgdIKhBxDGwiwAIZnTARi5mEBAEuuB8AIDnHA0VYCKDoPJ6BfYlnjM0XvicQAEMkCGgPM9+56/+3q3rt/60Xu3PqtDUKSQg7BPVwXz64LiPsQn7+22z10xm03lZlhYtwBA5DMLbXXdyvH346OjJk+MuCCJ6n0fjujakpEB6oVtG4Fci7b8GDGBmMwAa+laYBSRKgpCI1Vnvo0LpdZqrz/tBNnG4hJQhOmerougERPq2a4JAG8MQOcTUtMPhrCudy/IyKwqyloGNy4z3Hfdt2DXNZnd2klNaXlo4FG8MGvvw7Gwz2U9oyZQHV2+vnn7ElIMAynnaHgAoauAwxJAk0Xkc67Vo6ZqjNUltoExx+aMfP/iv/sv/+RdfND3M20385z/5xOTfn+xfL3MuHTsDZnK17VoFMD5PvSomY9AQ5AgffPv7KenPfvrHn378b+/ez43NQUzP3MY4pECF2E7RUmT67NNfTpZ/9N5vLymbipCqUaEYgiQe3X4AADj3vxQQkRzBN771/u3b10TStm6TGEQv8NqkPjzvt6IAOHZQRxiLRYCQGICh4ujXa/rs7tHyUlEM6C+/M7nTbz//iWU+XGjd9veOj4Cs9dkuiLEONB2dbadZXljnnDXORkA0rigy50mZi9zPq6rKy/NjVhIG0JHBvgLVL+XzDSY8vEQc7WZVuMyhA1VWEQgiA7O4MQtWFciIsaIQQx/7Ora1po4Ilax1pImTRGDkFFLfO2XHw+rp43YYNEGX9EE9fHK8e1gP2wgRHADQOduiIoiisBgco1KqAHHMYiAEQSQcjduRNYjIkDEAxqAjQhhzCf8cjFbJqygGCdFYM58vC09/42//+zrsnITLizLmctZ0LJCs3wVOSuHJZhvC/iI7nPvZZDabLZxxyqkNXQBpdv3R0Xq97lisIc08oXURTN+3AvQia5wrZDhfsF8bzvmqnDBL6DtODMyYIsc4hlEyyOfLaXZpbzdIHYaj3e66KyvnLJnc2pn3UrBCXA9DE0LXDf3AZ/VwvNlN86IsciToQ2udd8467xhTH5quXs+K4vLhXuGMVWGWXZSf3H8qf+mOglZ7l67fuv7ZH/84gTcm6hjaJBgVw8BD3dcuywjMxbxfDSNMpifiJvr/9/d/9F//F//Dz+4eM1SkIGiOW/nHP/zJdLH/1755NTcbb4hcQS4/evjR4eWbapETEwCIgFJu3Aff+m7m7SeffnTU9N0QErhOUkTrPV+/vI+T7sHj1W7HRqZH9z+9duv+9Mp7qE7ECJsUB1VR1S9HizzSoUrylhcTWxS62/KmbSNkqlbltU2zAccW6IiAAAigCIxAAihsAPK68/cfhfsPzh48Wb9vfHXZdvnewQe/rYSrT3/s0Vy/LAD86MnR5uwoYU7ZBJ15II03psrzKssnVZUXZZ4ji+YRJ5mdOCqyvCimQhZAFVTwnLZGvCR744+vX5xzvEAckHqJPWgyiECkSilxGPqkYpAsgrEWwHFMHAeOvaZOU2QA48HYLKUxc4FQGEUMYZb5oiqsdyHobtuu6rDp0iAmgTAoICgqqoqMdTYKiEIqrCwCo40+5nOq6sVUEXBU0zg6iAJokBTO2wu+Ci95MYRwfh528SsDxqDdO7giEquq+ODb36rvf7yYZSqeXW4NnbRpIApBQhSFmFa8bbYnR5p5P5svvHWEFFIIKfZDjEGMyYy1GUGeWbUOAw0DK75QN3mxdV5LGYiIaJ5Tdy/D52VWTABgiFEAQ9NCSkpqquLKW+/85l/+XQlPhrT+9HjYdHbFcBziIssy1NJZVRWNgBkTdt3QduHBcFzlfZ4XxnpDYAhAExGWVisLZMQa2JtMZnlROEeqKaStS3/29ORzcKhYxmBsdudm+cvJ2fFuKoYADKKgoJIBAyHFXbtFMhYMIb7BpM/4CZOpZf9//4f//L/9b/7X+0+TajIKFkJCiCBnTfwnf/Bvbt34D6eXDvLMgsRyMt+/diek3viMkCHEpCAsKoMFvnXzdp5P7j0+OT47bcJgQxBBn5n5dJpVy65pV5s26PL4+Mlm/bS6/C4AAKgqp5QABADHVUAAZQEAAQKNFmLlySIPcaiDJjAKCV5vOTIlFQRFAAuAoEbAAROg6waoW/jk7tmnd+uz07DabrNZfvXtg2CNKafXvvX9vCjuf/inGPHGAV+b5n3X1kN6shmebrdZ6ff2F6DgXDadVWVWOEuecJrZWZmVhorJ1BbFAIZQVRlgLG0DeOakPAdRgXODcFwhhDHy8qKgvkAcsWs59BwieyZnvS28p55saBsZhqiaaBAENEZj1Nhp6lU4RvYAUBSoqpIMqFD0hVUqhQz4ApLsmv7Rqm+6IYoqGAJBUCVVYEVhtYKGRQEVzqMOSmMqx7i78NwlRkREJERDhgBpVAWihODciyT4K0BUCRERJ9VkuX84JLl39+O3/vpfzzJb3rj2/ne+9eiPj63LnXGAcdvHaMwQEiIgQhLc9mJT3HanhDRaTdY6n7m8IEIg1Axd5nxESin2ISkWQDKG3l5SuIh4Yb3jr258TJeHJsuyLE9Egyg6KmaHl27duHHnnVs33+K2Pf3FH37/O9cerlabPO+y6mGzu1okZ8EilY4SeEF15AeT77qujem0XmG7M8YZiwTJkjqDy9z7Mpvl1Xw62SuKibFGjDK2KKf17idtiN/63W7XZ6vjvLz0W989eP8//Vt/7//42cOnHXMiMuNMkTBKaPqdKhAYxDeFpBhh1S3/l//t//4f//7fP2s5yyAOnWKewAsIKgu4+0/Xv/9PfnD4d/9jS1pCEO7L2fLh/Z/lWZ47x5FZDKtyipxCGmoLw6Jyzu8z2n5Ise0VogJVs+nuypWmvt/HeLLtTjfrQwQFBh1Ue04DAAGwqsAogqN0IhFIZmSSZxZxCLLrBiYA6J9X5i8hyEQVVUmFVCgxxJCUbB/x8XF3dhafHu2OT7rtNq62w8PHp0O4YyyrIBfT/fd/s9i78smf/nF2du+g0NSt17v1B9UskWuGwWZeAVB0luWaokEFUU+mcFQ6t7xy2U1nfcDxQkRSVXihFdarDN7RhQKAC9J4Mdb2wmY7PjldLpbCTd8bkswwOWvKvMjJBrsLTcs8DKFXAAlBYgeJSZMIA+ZIyGHo201uDFkwmXNEGeTFdA9E60/vrbZNYrYWnYgTAABEjaAKMCY4KwIgiCIgnEcHQUeTQEWft23HcwlCNETGAAACQl76i99/FQQgz/xqBDYKSIhILs99lqHi0ydPT46eDv1mf/9AQU1V/c7f+Pf+5YOfyeqMkANj4tCrgEcF8kjOABpryBpDCGDIZC7PjAdlQ4mQnceCnLWOFYfYCiAAqTAAoMFzKYQxvg5wzh2gek6Vr1rLl3H56hWT+WK+VzT7+fUrdlb45RyBegg//NEf1Z999LtvDToUktKkKtfFfK34+ab3+/MZQA6UjAteHMN0Ui4m0zb0Td8PiYUDcnIGCuumZXFlubecTCdl6QhzS85aJggC293ww/Xp6s7btXOWsT56fGmZ+0X3d/6Db5/w/v/5rx60dbc9W3ftDhRAFFSiSGQmVCR6wwRPef/v/ff/0z/8B78/m1+9fct7C2eb/vPHZ6cdJRZSRhDB7Mc//+zqH/zJ3/mbfznHFkOPLl8sbm7WTyx5IKPGcehj4hSjsDAH63ReljafSpJuvd5u170aYriyWJ4tt483fcqmm65lSAgJNSrHlHoFhlHbCggAAqHGMcCZGS29QdI+prYN55N8vcWxG0pVFEZmHKLGwCEBET0+qh883g6DbXYphKHr29V61X96cnb23o3JlFVECbJycfPO9/aWT37+o/XDz64sFkW/enJ2VBX+5pVr5G3bdRqTYel3rCIGJbNYWr83O7h0863eeCAkiQoqhKhwHluTc144T2BSuNgm4ywUEEHheZYZ8QJxnK7aODQ6bKJxSJoJMDskIkJD1ngr/UDMnAYOg8SgIkYDCgCiAjAPQ7c1Lrfgk1qwxXSWeeNOTp48Pjptdh0ReQNGomVFAFQEQSCLaESVGRWRARSJFfjcZBq3k6JFREQAA2gQDSICjiWWSMZmdm+5eH4uz4MAx9dBRN5n3rmx6QGrDhyOnzzqm0ESCw/O4ny+YJZE5vJb33jru7/96Cf/1pqWVZtEMSWHDpWsgolikQ0hATjrrLMOgTQaUmfJGcq8LYkYoRXM5nM8G0CAxrSeUQ4vPN3ngQhjNOdZrPQNmvng3Vu7vk3OUrnIZUYE+7NLPMjDpz/brNbcPb1x7crdp9u6z8sSsvly3cvnAlqH707KiYhTMGjVCJFW1s6KqU7Krm9Z2CBk1kyLMs/8tCxmk4kzBCpEmIhS4tDvfn7UfrI335pyRgYUwUDsehJf+CfvvbN37aSc2MXqbP3xZx+1p091GFAMB+khnDPjy7P5En/4r3/2x//yD966c7socWZNZUqzX35wm378+ee//OKLIQIAKKQW/L/4Vz9479aVxXvLnCL0XLrl4OLq9NHepcumZ/WgMAqn8UNkEw1lzmc2M8ESS+j7OLTN1Jlb+7Nts266Xb2tARRVFCixCbEXYAUBJCVRsYBgoWdkYM0tVA4Yu22/GTpBCKxFSq91LbvBqGo/cB9kuxu29c77zJAenXT1JjVNHwM3bd+GXb3bndbd3btHl27sEYKwMrApqbw6nxz8bv3o+urjn00n/kaOJ6cnu6apcJoZrwAxdZwSsprCqfNczq9/8P1sef3pqjFIDlWQmQzJxWndeCwhBIKioCNTAAAA4oUXg3qh5r7EixbH6bpp2ulsChxJjAKxoCAQqAggWAQHalUjAgCKwpAiMyB0LYKG1McQAxjMCptP82qR+cmw265PzmLbHEyrZIYU4g7SgEiEHJMhO9oMokiEgEYAEjOzogLg+SwQgM7JAgzQaOkigEEgAGMwy9zVq1efn8vzmBZlXpRVNbHOqWro26berlfrpm26oYsxgBoQIATnbQhDjMG7wubTb/7277VH93p6Cpq6VEGUNigaA6gEaskaMpZcZjNEJFWL6pz1ljKPzloLRhV8nv/md77/xfoH9WkzrslYE4vwkvX3a+Mh9eLBaHRorx9cuvPWO/fvP/jkk59t1w/6bT3HOJtOjj973DcuN1KWFUyzZts8jOy73c3Cl+qyQZKIiCiBz4s8nyxkYmIyhERgjckynxcWjbCyChglYOg6/mLX/kI0XLm6bob5NrjlQqAGHVJzz0Cb5Yu3br2zKC7V1/pffP7LS7fulIpHDx7HEAMPI1m+Ye4f/egHBwcLY4uMwsTawmbkofB2/v0PqsL96c8/6xIokKBdN7t/9k//0a3Lf/fKhDPYAUlRTENa+sl+G06pMN4aL0Vme42c6k2KEWy0ubfVfHHA9eNHLHxweIUNLVZtt+L1ydkQxHunFKMElpeOSAQBFAUUASDPbF7kgLHr+hDHJj76BkocAodBmo53TQoR+s4SZmfbfr0OYYAwaAzKkUInIWAf9Kc/vfud33onLwwhqko/sLWuyKr52+9eubR3dvej/GTSJ7fpurhr5kVeZoWQ0y4OXei1Are/9/b79u0bjaUvnq6u7F91FlDFKo9BQgBQBQXS89XQcxMDRpU2PvDq6bwiA+RrfI2v8TXejHO3/2t8ja/xNX51fE0cX+NrfI1fG18Tx9f4Gl/j18b/B7EqNZ9G3QxbAAAAAElFTkSuQmCC",
         "type": "image",
         "xaxis": "x",
         "yaxis": "y"
        }
       ],
       "layout": {
        "coloraxis": {
         "showscale": false
        },
        "margin": {
         "b": 20,
         "l": 20,
         "r": 20,
         "t": 20
        },
        "template": {
         "data": {
          "bar": [
           {
            "error_x": {
             "color": "#2a3f5f"
            },
            "error_y": {
             "color": "#2a3f5f"
            },
            "marker": {
             "line": {
              "color": "#E5ECF6",
              "width": 0.5
             },
             "pattern": {
              "fillmode": "overlay",
              "size": 10,
              "solidity": 0.2
             }
            },
            "type": "bar"
           }
          ],
          "barpolar": [
           {
            "marker": {
             "line": {
              "color": "#E5ECF6",
              "width": 0.5
             },
             "pattern": {
              "fillmode": "overlay",
              "size": 10,
              "solidity": 0.2
             }
            },
            "type": "barpolar"
           }
          ],
          "carpet": [
           {
            "aaxis": {
             "endlinecolor": "#2a3f5f",
             "gridcolor": "white",
             "linecolor": "white",
             "minorgridcolor": "white",
             "startlinecolor": "#2a3f5f"
            },
            "baxis": {
             "endlinecolor": "#2a3f5f",
             "gridcolor": "white",
             "linecolor": "white",
             "minorgridcolor": "white",
             "startlinecolor": "#2a3f5f"
            },
            "type": "carpet"
           }
          ],
          "choropleth": [
           {
            "colorbar": {
             "outlinewidth": 0,
             "ticks": ""
            },
            "type": "choropleth"
           }
          ],
          "contour": [
           {
            "colorbar": {
             "outlinewidth": 0,
             "ticks": ""
            },
            "colorscale": [
             [
              0,
              "#0d0887"
             ],
             [
              0.1111111111111111,
              "#46039f"
             ],
             [
              0.2222222222222222,
              "#7201a8"
             ],
             [
              0.3333333333333333,
              "#9c179e"
             ],
             [
              0.4444444444444444,
              "#bd3786"
             ],
             [
              0.5555555555555556,
              "#d8576b"
             ],
             [
              0.6666666666666666,
              "#ed7953"
             ],
             [
              0.7777777777777778,
              "#fb9f3a"
             ],
             [
              0.8888888888888888,
              "#fdca26"
             ],
             [
              1,
              "#f0f921"
             ]
            ],
            "type": "contour"
           }
          ],
          "contourcarpet": [
           {
            "colorbar": {
             "outlinewidth": 0,
             "ticks": ""
            },
            "type": "contourcarpet"
           }
          ],
          "heatmap": [
           {
            "colorbar": {
             "outlinewidth": 0,
             "ticks": ""
            },
            "colorscale": [
             [
              0,
              "#0d0887"
             ],
             [
              0.1111111111111111,
              "#46039f"
             ],
             [
              0.2222222222222222,
              "#7201a8"
             ],
             [
              0.3333333333333333,
              "#9c179e"
             ],
             [
              0.4444444444444444,
              "#bd3786"
             ],
             [
              0.5555555555555556,
              "#d8576b"
             ],
             [
              0.6666666666666666,
              "#ed7953"
             ],
             [
              0.7777777777777778,
              "#fb9f3a"
             ],
             [
              0.8888888888888888,
              "#fdca26"
             ],
             [
              1,
              "#f0f921"
             ]
            ],
            "type": "heatmap"
           }
          ],
          "heatmapgl": [
           {
            "colorbar": {
             "outlinewidth": 0,
             "ticks": ""
            },
            "colorscale": [
             [
              0,
              "#0d0887"
             ],
             [
              0.1111111111111111,
              "#46039f"
             ],
             [
              0.2222222222222222,
              "#7201a8"
             ],
             [
              0.3333333333333333,
              "#9c179e"
             ],
             [
              0.4444444444444444,
              "#bd3786"
             ],
             [
              0.5555555555555556,
              "#d8576b"
             ],
             [
              0.6666666666666666,
              "#ed7953"
             ],
             [
              0.7777777777777778,
              "#fb9f3a"
             ],
             [
              0.8888888888888888,
              "#fdca26"
             ],
             [
              1,
              "#f0f921"
             ]
            ],
            "type": "heatmapgl"
           }
          ],
          "histogram": [
           {
            "marker": {
             "pattern": {
              "fillmode": "overlay",
              "size": 10,
              "solidity": 0.2
             }
            },
            "type": "histogram"
           }
          ],
          "histogram2d": [
           {
            "colorbar": {
             "outlinewidth": 0,
             "ticks": ""
            },
            "colorscale": [
             [
              0,
              "#0d0887"
             ],
             [
              0.1111111111111111,
              "#46039f"
             ],
             [
              0.2222222222222222,
              "#7201a8"
             ],
             [
              0.3333333333333333,
              "#9c179e"
             ],
             [
              0.4444444444444444,
              "#bd3786"
             ],
             [
              0.5555555555555556,
              "#d8576b"
             ],
             [
              0.6666666666666666,
              "#ed7953"
             ],
             [
              0.7777777777777778,
              "#fb9f3a"
             ],
             [
              0.8888888888888888,
              "#fdca26"
             ],
             [
              1,
              "#f0f921"
             ]
            ],
            "type": "histogram2d"
           }
          ],
          "histogram2dcontour": [
           {
            "colorbar": {
             "outlinewidth": 0,
             "ticks": ""
            },
            "colorscale": [
             [
              0,
              "#0d0887"
             ],
             [
              0.1111111111111111,
              "#46039f"
             ],
             [
              0.2222222222222222,
              "#7201a8"
             ],
             [
              0.3333333333333333,
              "#9c179e"
             ],
             [
              0.4444444444444444,
              "#bd3786"
             ],
             [
              0.5555555555555556,
              "#d8576b"
             ],
             [
              0.6666666666666666,
              "#ed7953"
             ],
             [
              0.7777777777777778,
              "#fb9f3a"
             ],
             [
              0.8888888888888888,
              "#fdca26"
             ],
             [
              1,
              "#f0f921"
             ]
            ],
            "type": "histogram2dcontour"
           }
          ],
          "mesh3d": [
           {
            "colorbar": {
             "outlinewidth": 0,
             "ticks": ""
            },
            "type": "mesh3d"
           }
          ],
          "parcoords": [
           {
            "line": {
             "colorbar": {
              "outlinewidth": 0,
              "ticks": ""
             }
            },
            "type": "parcoords"
           }
          ],
          "pie": [
           {
            "automargin": true,
            "type": "pie"
           }
          ],
          "scatter": [
           {
            "fillpattern": {
             "fillmode": "overlay",
             "size": 10,
             "solidity": 0.2
            },
            "type": "scatter"
           }
          ],
          "scatter3d": [
           {
            "line": {
             "colorbar": {
              "outlinewidth": 0,
              "ticks": ""
             }
            },
            "marker": {
             "colorbar": {
              "outlinewidth": 0,
              "ticks": ""
             }
            },
            "type": "scatter3d"
           }
          ],
          "scattercarpet": [
           {
            "marker": {
             "colorbar": {
              "outlinewidth": 0,
              "ticks": ""
             }
            },
            "type": "scattercarpet"
           }
          ],
          "scattergeo": [
           {
            "marker": {
             "colorbar": {
              "outlinewidth": 0,
              "ticks": ""
             }
            },
            "type": "scattergeo"
           }
          ],
          "scattergl": [
           {
            "marker": {
             "colorbar": {
              "outlinewidth": 0,
              "ticks": ""
             }
            },
            "type": "scattergl"
           }
          ],
          "scattermapbox": [
           {
            "marker": {
             "colorbar": {
              "outlinewidth": 0,
              "ticks": ""
             }
            },
            "type": "scattermapbox"
           }
          ],
          "scatterpolar": [
           {
            "marker": {
             "colorbar": {
              "outlinewidth": 0,
              "ticks": ""
             }
            },
            "type": "scatterpolar"
           }
          ],
          "scatterpolargl": [
           {
            "marker": {
             "colorbar": {
              "outlinewidth": 0,
              "ticks": ""
             }
            },
            "type": "scatterpolargl"
           }
          ],
          "scatterternary": [
           {
            "marker": {
             "colorbar": {
              "outlinewidth": 0,
              "ticks": ""
             }
            },
            "type": "scatterternary"
           }
          ],
          "surface": [
           {
            "colorbar": {
             "outlinewidth": 0,
             "ticks": ""
            },
            "colorscale": [
             [
              0,
              "#0d0887"
             ],
             [
              0.1111111111111111,
              "#46039f"
             ],
             [
              0.2222222222222222,
              "#7201a8"
             ],
             [
              0.3333333333333333,
              "#9c179e"
             ],
             [
              0.4444444444444444,
              "#bd3786"
             ],
             [
              0.5555555555555556,
              "#d8576b"
             ],
             [
              0.6666666666666666,
              "#ed7953"
             ],
             [
              0.7777777777777778,
              "#fb9f3a"
             ],
             [
              0.8888888888888888,
              "#fdca26"
             ],
             [
              1,
              "#f0f921"
             ]
            ],
            "type": "surface"
           }
          ],
          "table": [
           {
            "cells": {
             "fill": {
              "color": "#EBF0F8"
             },
             "line": {
              "color": "white"
             }
            },
            "header": {
             "fill": {
              "color": "#C8D4E3"
             },
             "line": {
              "color": "white"
             }
            },
            "type": "table"
           }
          ]
         },
         "layout": {
          "annotationdefaults": {
           "arrowcolor": "#2a3f5f",
           "arrowhead": 0,
           "arrowwidth": 1
          },
          "autotypenumbers": "strict",
          "coloraxis": {
           "colorbar": {
            "outlinewidth": 0,
            "ticks": ""
           }
          },
          "colorscale": {
           "diverging": [
            [
             0,
             "#8e0152"
            ],
            [
             0.1,
             "#c51b7d"
            ],
            [
             0.2,
             "#de77ae"
            ],
            [
             0.3,
             "#f1b6da"
            ],
            [
             0.4,
             "#fde0ef"
            ],
            [
             0.5,
             "#f7f7f7"
            ],
            [
             0.6,
             "#e6f5d0"
            ],
            [
             0.7,
             "#b8e186"
            ],
            [
             0.8,
             "#7fbc41"
            ],
            [
             0.9,
             "#4d9221"
            ],
            [
             1,
             "#276419"
            ]
           ],
           "sequential": [
            [
             0,
             "#0d0887"
            ],
            [
             0.1111111111111111,
             "#46039f"
            ],
            [
             0.2222222222222222,
             "#7201a8"
            ],
            [
             0.3333333333333333,
             "#9c179e"
            ],
            [
             0.4444444444444444,
             "#bd3786"
            ],
            [
             0.5555555555555556,
             "#d8576b"
            ],
            [
             0.6666666666666666,
             "#ed7953"
            ],
            [
             0.7777777777777778,
             "#fb9f3a"
            ],
            [
             0.8888888888888888,
             "#fdca26"
            ],
            [
             1,
             "#f0f921"
            ]
           ],
           "sequentialminus": [
            [
             0,
             "#0d0887"
            ],
            [
             0.1111111111111111,
             "#46039f"
            ],
            [
             0.2222222222222222,
             "#7201a8"
            ],
            [
             0.3333333333333333,
             "#9c179e"
            ],
            [
             0.4444444444444444,
             "#bd3786"
            ],
            [
             0.5555555555555556,
             "#d8576b"
            ],
            [
             0.6666666666666666,
             "#ed7953"
            ],
            [
             0.7777777777777778,
             "#fb9f3a"
            ],
            [
             0.8888888888888888,
             "#fdca26"
            ],
            [
             1,
             "#f0f921"
            ]
           ]
          },
          "colorway": [
           "#636efa",
           "#EF553B",
           "#00cc96",
           "#ab63fa",
           "#FFA15A",
           "#19d3f3",
           "#FF6692",
           "#B6E880",
           "#FF97FF",
           "#FECB52"
          ],
          "font": {
           "color": "#2a3f5f"
          },
          "geo": {
           "bgcolor": "white",
           "lakecolor": "white",
           "landcolor": "#E5ECF6",
           "showlakes": true,
           "showland": true,
           "subunitcolor": "white"
          },
          "hoverlabel": {
           "align": "left"
          },
          "hovermode": "closest",
          "mapbox": {
           "style": "light"
          },
          "paper_bgcolor": "white",
          "plot_bgcolor": "#E5ECF6",
          "polar": {
           "angularaxis": {
            "gridcolor": "white",
            "linecolor": "white",
            "ticks": ""
           },
           "bgcolor": "#E5ECF6",
           "radialaxis": {
            "gridcolor": "white",
            "linecolor": "white",
            "ticks": ""
           }
          },
          "scene": {
           "xaxis": {
            "backgroundcolor": "#E5ECF6",
            "gridcolor": "white",
            "gridwidth": 2,
            "linecolor": "white",
            "showbackground": true,
            "ticks": "",
            "zerolinecolor": "white"
           },
           "yaxis": {
            "backgroundcolor": "#E5ECF6",
            "gridcolor": "white",
            "gridwidth": 2,
            "linecolor": "white",
            "showbackground": true,
            "ticks": "",
            "zerolinecolor": "white"
           },
           "zaxis": {
            "backgroundcolor": "#E5ECF6",
            "gridcolor": "white",
            "gridwidth": 2,
            "linecolor": "white",
            "showbackground": true,
            "ticks": "",
            "zerolinecolor": "white"
           }
          },
          "shapedefaults": {
           "line": {
            "color": "#2a3f5f"
           }
          },
          "ternary": {
           "aaxis": {
            "gridcolor": "white",
            "linecolor": "white",
            "ticks": ""
           },
           "baxis": {
            "gridcolor": "white",
            "linecolor": "white",
            "ticks": ""
           },
           "bgcolor": "#E5ECF6",
           "caxis": {
            "gridcolor": "white",
            "linecolor": "white",
            "ticks": ""
           }
          },
          "title": {
           "x": 0.05
          },
          "xaxis": {
           "automargin": true,
           "gridcolor": "white",
           "linecolor": "white",
           "ticks": "",
           "title": {
            "standoff": 15
           },
           "zerolinecolor": "white",
           "zerolinewidth": 2
          },
          "yaxis": {
           "automargin": true,
           "gridcolor": "white",
           "linecolor": "white",
           "ticks": "",
           "title": {
            "standoff": 15
           },
           "zerolinecolor": "white",
           "zerolinewidth": 2
          }
         }
        },
        "xaxis": {
         "anchor": "y",
         "domain": [
          0,
          1
         ],
         "showticklabels": false
        },
        "yaxis": {
         "anchor": "x",
         "domain": [
          0,
          1
         ],
         "showticklabels": false
        }
       }
      }
     },
     "metadata": {},
     "output_type": "display_data"
    },
    {
     "name": "stdout",
     "output_type": "stream",
     "text": [
      "==========================================================================================\n",
      "Layer (type:depth-idx)                   Output Shape              Param #\n",
      "==========================================================================================\n",
      "Generator                                [3, 3, 64, 64]            --\n",
      "├─Sequential: 1-1                        [3, 512, 4, 4]            --\n",
      "│    └─Linear: 2-1                       [3, 8192]                 819,200\n",
      "│    └─Rearrange: 2-2                    [3, 512, 4, 4]            --\n",
      "│    └─BatchNorm2d: 2-3                  [3, 512, 4, 4]            1,024\n",
      "│    └─ReLU: 2-4                         [3, 512, 4, 4]            --\n",
      "├─Sequential: 1-2                        [3, 3, 64, 64]            --\n",
      "│    └─Sequential: 2-5                   [3, 256, 8, 8]            --\n",
      "│    │    └─ConvTranspose2d: 3-1         [3, 256, 8, 8]            2,097,152\n",
      "│    │    └─BatchNorm2d: 3-2             [3, 256, 8, 8]            512\n",
      "│    │    └─ReLU: 3-3                    [3, 256, 8, 8]            --\n",
      "│    └─Sequential: 2-6                   [3, 128, 16, 16]          --\n",
      "│    │    └─ConvTranspose2d: 3-4         [3, 128, 16, 16]          524,288\n",
      "│    │    └─BatchNorm2d: 3-5             [3, 128, 16, 16]          256\n",
      "│    │    └─ReLU: 3-6                    [3, 128, 16, 16]          --\n",
      "│    └─Sequential: 2-7                   [3, 64, 32, 32]           --\n",
      "│    │    └─ConvTranspose2d: 3-7         [3, 64, 32, 32]           131,072\n",
      "│    │    └─BatchNorm2d: 3-8             [3, 64, 32, 32]           128\n",
      "│    │    └─ReLU: 3-9                    [3, 64, 32, 32]           --\n",
      "│    └─Sequential: 2-8                   [3, 3, 64, 64]            --\n",
      "│    │    └─ConvTranspose2d: 3-10        [3, 3, 64, 64]            3,072\n",
      "│    │    └─Tanh: 3-11                   [3, 3, 64, 64]            --\n",
      "==========================================================================================\n",
      "Total params: 3,576,704\n",
      "Trainable params: 3,576,704\n",
      "Non-trainable params: 0\n",
      "Total mult-adds (G): 1.25\n",
      "==========================================================================================\n",
      "Input size (MB): 0.00\n",
      "Forward/backward pass size (MB): 6.19\n",
      "Params size (MB): 14.31\n",
      "Estimated Total Size (MB): 20.50\n",
      "========================================================================================== \n",
      "\n",
      "\n",
      "==========================================================================================\n",
      "Layer (type:depth-idx)                   Output Shape              Param #\n",
      "==========================================================================================\n",
      "Discriminator                            [3, 1]                    --\n",
      "├─Sequential: 1-1                        [3, 512, 4, 4]            --\n",
      "│    └─Sequential: 2-1                   [3, 64, 32, 32]           --\n",
      "│    │    └─Conv2d: 3-1                  [3, 64, 32, 32]           3,072\n",
      "│    │    └─LeakyReLU: 3-2               [3, 64, 32, 32]           --\n",
      "│    └─Sequential: 2-2                   [3, 128, 16, 16]          --\n",
      "│    │    └─Conv2d: 3-3                  [3, 128, 16, 16]          131,072\n",
      "│    │    └─BatchNorm2d: 3-4             [3, 128, 16, 16]          256\n",
      "│    │    └─LeakyReLU: 3-5               [3, 128, 16, 16]          --\n",
      "│    └─Sequential: 2-3                   [3, 256, 8, 8]            --\n",
      "│    │    └─Conv2d: 3-6                  [3, 256, 8, 8]            524,288\n",
      "│    │    └─BatchNorm2d: 3-7             [3, 256, 8, 8]            512\n",
      "│    │    └─LeakyReLU: 3-8               [3, 256, 8, 8]            --\n",
      "│    └─Sequential: 2-4                   [3, 512, 4, 4]            --\n",
      "│    │    └─Conv2d: 3-9                  [3, 512, 4, 4]            2,097,152\n",
      "│    │    └─BatchNorm2d: 3-10            [3, 512, 4, 4]            1,024\n",
      "│    │    └─LeakyReLU: 3-11              [3, 512, 4, 4]            --\n",
      "├─Sequential: 1-2                        [3, 1]                    --\n",
      "│    └─Rearrange: 2-5                    [3, 8192]                 --\n",
      "│    └─Linear: 2-6                       [3, 1]                    8,192\n",
      "│    └─Sigmoid: 2-7                      [3, 1]                    --\n",
      "==========================================================================================\n",
      "Total params: 2,765,568\n",
      "Trainable params: 2,765,568\n",
      "Non-trainable params: 0\n",
      "Total mult-adds (M): 311.46\n",
      "==========================================================================================\n",
      "Input size (MB): 0.15\n",
      "Forward/backward pass size (MB): 4.33\n",
      "Params size (MB): 11.06\n",
      "Estimated Total Size (MB): 15.54\n",
      "==========================================================================================\n"
     ]
    },
    {
     "name": "stderr",
     "output_type": "stream",
     "text": [
      "epoch=0, steps=0, lossD=1.2538, lossG=3.0848:   0%|          | 1/25325 [00:02<16:48:52,  2.39s/it]\n"
     ]
    },
    {
     "ename": "KeyboardInterrupt",
     "evalue": "",
     "output_type": "error",
     "traceback": [
      "\u001b[0;31m---------------------------------------------------------------------------\u001b[0m",
      "\u001b[0;31mKeyboardInterrupt\u001b[0m                         Traceback (most recent call last)",
      "Cell \u001b[0;32mIn [9], line 6\u001b[0m\n\u001b[1;32m      1\u001b[0m \u001b[39m# ! wget https://raw.githubusercontent.com/callummcdougall/arena-v1/main/w4d1/solutions.py\u001b[39;00m\n\u001b[1;32m      2\u001b[0m \u001b[39m# ! wget https://raw.githubusercontent.com/callummcdougall/arena-v1/main/w4d1/w0d2_solutions.py\u001b[39;00m\n\u001b[1;32m      3\u001b[0m \u001b[39m# ! wget https://raw.githubusercontent.com/callummcdougall/arena-v1/main/w4d1/w0d3_solutions.py\u001b[39;00m\n\u001b[0;32m----> 6\u001b[0m \u001b[39mfrom\u001b[39;00m \u001b[39msolutions\u001b[39;00m \u001b[39mimport\u001b[39;00m netG_celeb_mini\n\u001b[1;32m      7\u001b[0m utils\u001b[39m.\u001b[39mprint_param_count(Generator, netG_celeb_mini)\n",
      "File \u001b[0;32m~/src/github.com/dalasnoin/arena/w4/solutions.py:557\u001b[0m\n\u001b[1;32m    553\u001b[0m print_netG_output_interval \u001b[39m=\u001b[39m \u001b[39m20\u001b[39m\n\u001b[1;32m    555\u001b[0m \u001b[39m# %%\u001b[39;00m\n\u001b[0;32m--> 557\u001b[0m netG, netD \u001b[39m=\u001b[39m train_generator_discriminator(\n\u001b[1;32m    558\u001b[0m     netG, \n\u001b[1;32m    559\u001b[0m     netD, \n\u001b[1;32m    560\u001b[0m     optG, \n\u001b[1;32m    561\u001b[0m     optD, \n\u001b[1;32m    562\u001b[0m     trainloader, \n\u001b[1;32m    563\u001b[0m     epochs, \n\u001b[1;32m    564\u001b[0m     max_epoch_duration, \n\u001b[1;32m    565\u001b[0m     print_netG_output_interval\n\u001b[1;32m    566\u001b[0m )\n",
      "File \u001b[0;32m~/src/github.com/dalasnoin/arena/w4/solutions.py:497\u001b[0m, in \u001b[0;36mtrain_generator_discriminator\u001b[0;34m(netG, netD, optG, optD, trainloader, epochs, max_epoch_duration, print_netG_output_interval, use_wandb)\u001b[0m\n\u001b[1;32m    495\u001b[0m lossG \u001b[39m=\u001b[39m \u001b[39m-\u001b[39m (t\u001b[39m.\u001b[39mlog(D_G_z)\u001b[39m.\u001b[39mmean())\n\u001b[1;32m    496\u001b[0m \u001b[39m# Gradient descent step\u001b[39;00m\n\u001b[0;32m--> 497\u001b[0m lossG\u001b[39m.\u001b[39;49mbackward()\n\u001b[1;32m    498\u001b[0m optG\u001b[39m.\u001b[39mstep()\n\u001b[1;32m    500\u001b[0m \u001b[39m# Update progress bar\u001b[39;00m\n",
      "File \u001b[0;32m~/opt/anaconda3/envs/science/lib/python3.9/site-packages/torch/_tensor.py:487\u001b[0m, in \u001b[0;36mTensor.backward\u001b[0;34m(self, gradient, retain_graph, create_graph, inputs)\u001b[0m\n\u001b[1;32m    477\u001b[0m \u001b[39mif\u001b[39;00m has_torch_function_unary(\u001b[39mself\u001b[39m):\n\u001b[1;32m    478\u001b[0m     \u001b[39mreturn\u001b[39;00m handle_torch_function(\n\u001b[1;32m    479\u001b[0m         Tensor\u001b[39m.\u001b[39mbackward,\n\u001b[1;32m    480\u001b[0m         (\u001b[39mself\u001b[39m,),\n\u001b[0;32m   (...)\u001b[0m\n\u001b[1;32m    485\u001b[0m         inputs\u001b[39m=\u001b[39minputs,\n\u001b[1;32m    486\u001b[0m     )\n\u001b[0;32m--> 487\u001b[0m torch\u001b[39m.\u001b[39;49mautograd\u001b[39m.\u001b[39;49mbackward(\n\u001b[1;32m    488\u001b[0m     \u001b[39mself\u001b[39;49m, gradient, retain_graph, create_graph, inputs\u001b[39m=\u001b[39;49minputs\n\u001b[1;32m    489\u001b[0m )\n",
      "File \u001b[0;32m~/opt/anaconda3/envs/science/lib/python3.9/site-packages/torch/autograd/__init__.py:197\u001b[0m, in \u001b[0;36mbackward\u001b[0;34m(tensors, grad_tensors, retain_graph, create_graph, grad_variables, inputs)\u001b[0m\n\u001b[1;32m    192\u001b[0m     retain_graph \u001b[39m=\u001b[39m create_graph\n\u001b[1;32m    194\u001b[0m \u001b[39m# The reason we repeat same the comment below is that\u001b[39;00m\n\u001b[1;32m    195\u001b[0m \u001b[39m# some Python versions print out the first line of a multi-line function\u001b[39;00m\n\u001b[1;32m    196\u001b[0m \u001b[39m# calls in the traceback and some print out the last line\u001b[39;00m\n\u001b[0;32m--> 197\u001b[0m Variable\u001b[39m.\u001b[39;49m_execution_engine\u001b[39m.\u001b[39;49mrun_backward(  \u001b[39m# Calls into the C++ engine to run the backward pass\u001b[39;49;00m\n\u001b[1;32m    198\u001b[0m     tensors, grad_tensors_, retain_graph, create_graph, inputs,\n\u001b[1;32m    199\u001b[0m     allow_unreachable\u001b[39m=\u001b[39;49m\u001b[39mTrue\u001b[39;49;00m, accumulate_grad\u001b[39m=\u001b[39;49m\u001b[39mTrue\u001b[39;49;00m)\n",
      "\u001b[0;31mKeyboardInterrupt\u001b[0m: "
     ]
    }
   ],
   "source": [
    "# ! wget https://raw.githubusercontent.com/callummcdougall/arena-v1/main/w4d1/solutions.py\n",
    "# ! wget https://raw.githubusercontent.com/callummcdougall/arena-v1/main/w4d1/w0d2_solutions.py\n",
    "# ! wget https://raw.githubusercontent.com/callummcdougall/arena-v1/main/w4d1/w0d3_solutions.py\n",
    "\n",
    "\n",
    "from solutions import netG_celeb_mini\n",
    "utils.print_param_count(Generator, netG_celeb_mini)"
   ]
  },
  {
   "cell_type": "code",
   "execution_count": null,
   "metadata": {},
   "outputs": [],
   "source": []
  }
 ],
 "metadata": {
  "kernelspec": {
   "display_name": "Python 3.9.13 ('science')",
   "language": "python",
   "name": "python3"
  },
  "language_info": {
   "codemirror_mode": {
    "name": "ipython",
    "version": 3
   },
   "file_extension": ".py",
   "mimetype": "text/x-python",
   "name": "python",
   "nbconvert_exporter": "python",
   "pygments_lexer": "ipython3",
   "version": "3.9.13"
  },
  "orig_nbformat": 4,
  "vscode": {
   "interpreter": {
    "hash": "ded5e6f133e31c74d7e61946920be103f96969c2c9abd403ec1a6f8823efeff2"
   }
  }
 },
 "nbformat": 4,
 "nbformat_minor": 2
}
