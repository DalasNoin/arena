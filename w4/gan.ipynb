{
 "cells": [
  {
   "cell_type": "code",
   "execution_count": 2,
   "metadata": {},
   "outputs": [
    {
     "name": "stdout",
     "output_type": "stream",
     "text": [
      "--2022-11-15 13:03:22--  https://raw.githubusercontent.com/callummcdougall/arena-v1/main/w4d1/utils.py\n",
      "Resolving raw.githubusercontent.com (raw.githubusercontent.com)... 185.199.110.133, 185.199.111.133, 185.199.109.133, ...\n",
      "Connecting to raw.githubusercontent.com (raw.githubusercontent.com)|185.199.110.133|:443... connected.\n",
      "HTTP request sent, awaiting response... 200 OK\n",
      "Length: 9325 (9.1K) [text/plain]\n",
      "Saving to: ‘utils.py’\n",
      "\n",
      "utils.py            100%[===================>]   9.11K  --.-KB/s    in 0.08s   \n",
      "\n",
      "2022-11-15 13:03:24 (111 KB/s) - ‘utils.py’ saved [9325/9325]\n",
      "\n"
     ]
    }
   ],
   "source": [
    "# ! wget https://raw.githubusercontent.com/callummcdougall/arena-v1/main/w4d1/utils.py\n",
    "\n",
    "import torch as t\n",
    "from typing import Union\n",
    "from torch import nn\n",
    "import torch.nn.functional as F\n",
    "import plotly.express as px\n",
    "import plotly.graph_objects as go\n",
    "from einops import rearrange, reduce, repeat\n",
    "from einops.layers.torch import Rearrange\n",
    "from fancy_einsum import einsum\n",
    "import os\n",
    "from tqdm.auto import tqdm\n",
    "from torchvision import transforms, datasets\n",
    "from torchvision.datasets import ImageFolder\n",
    "from torch.utils.data import Dataset, DataLoader, TensorDataset\n",
    "import wandb\n",
    "import utils"
   ]
  },
  {
   "cell_type": "markdown",
   "metadata": {},
   "source": [
    "## transposed convolutions"
   ]
  },
  {
   "cell_type": "markdown",
   "metadata": {},
   "source": [
    "Question - what do you think the formula is relating input_size, kernel_size and output_size in the case of 1D convolutions (with no padding or stride)?"
   ]
  },
  {
   "cell_type": "markdown",
   "metadata": {},
   "source": [
    "output_size = input_size + kernel_size - 1\n",
    "\n",
    "since it reverses the shape change of a normal convolution\n",
    "\n",
    "output_size = input_size - kernel_size + 1"
   ]
  },
  {
   "cell_type": "markdown",
   "metadata": {},
   "source": [
    "Question - how can this operation be cast as a convolution? In other words, exactly what arrays input and kernel would produce the same output as the transposed convolution above, if we performed a standard convolution on them?"
   ]
  },
  {
   "cell_type": "markdown",
   "metadata": {},
   "source": [
    "it is necessary to pad the input with zeros kernel_size -1,\n",
    "the kernel needs to be reversed"
   ]
  },
  {
   "cell_type": "code",
   "execution_count": 33,
   "metadata": {},
   "outputs": [
    {
     "name": "stdout",
     "output_type": "stream",
     "text": [
      "All tests in `test_conv1d_minimal` passed!\n"
     ]
    }
   ],
   "source": [
    "def conv_transpose1d_minimal(x: t.Tensor, weights: t.Tensor) -> t.Tensor:\n",
    "    '''Like torch's conv_transpose1d using bias=False and all other keyword arguments left at their default values.\n",
    "\n",
    "    x: shape (batch, in_channels, width)\n",
    "    weights: shape (in_channels, out_channels, kernel_width)\n",
    "\n",
    "    Returns: shape (batch, out_channels, output_width)\n",
    "    '''\n",
    "    # reverse kernel\n",
    "    weight_mod = t.flip(weights, dims=(2,))\n",
    "    weight_mod = rearrange(weight_mod, \"a b c -> b a c\")\n",
    "    x_width = x.shape[2]\n",
    "    # change input with padding\n",
    "    kernel_width = weights.shape[2]\n",
    "    x_mod = t.zeros((x.shape[0], x.shape[1],x.shape[2]+2*kernel_width-2), dtype=x.dtype)\n",
    "    x_mod[..., kernel_width-1:kernel_width -1 + x_width] = x\n",
    "    # apply conv1d, todo: maybe use own implementation\n",
    "    result = t.nn.functional.conv1d(x_mod, weight_mod)\n",
    "    return result\n",
    "\n",
    "utils.test_conv_transpose1d_minimal(conv_transpose1d_minimal)"
   ]
  },
  {
   "cell_type": "code",
   "execution_count": 39,
   "metadata": {},
   "outputs": [
    {
     "name": "stdout",
     "output_type": "stream",
     "text": [
      "All tests in `test_fractional_stride_1d` passed!\n"
     ]
    },
    {
     "ename": "AssertionError",
     "evalue": "The values for attribute 'shape' do not match: torch.Size([2, 4, 187]) != torch.Size([2, 4, 185]).",
     "output_type": "error",
     "traceback": [
      "\u001b[0;31m---------------------------------------------------------------------------\u001b[0m",
      "\u001b[0;31mAssertionError\u001b[0m                            Traceback (most recent call last)",
      "Cell \u001b[0;32mIn [39], line 39\u001b[0m\n\u001b[1;32m     36\u001b[0m     result \u001b[39m=\u001b[39m t\u001b[39m.\u001b[39mnn\u001b[39m.\u001b[39mfunctional\u001b[39m.\u001b[39mconv1d(x_mod, weight_mod)\n\u001b[1;32m     37\u001b[0m     \u001b[39mreturn\u001b[39;00m result\n\u001b[0;32m---> 39\u001b[0m utils\u001b[39m.\u001b[39;49mtest_conv_transpose1d(conv_transpose1d)\n",
      "File \u001b[0;32m~/src/github.com/dalasnoin/arena/w4/utils.py:91\u001b[0m, in \u001b[0;36mtest_conv_transpose1d\u001b[0;34m(conv_transpose1d, n_tests)\u001b[0m\n\u001b[1;32m     89\u001b[0m     my_output \u001b[39m=\u001b[39m conv_transpose1d(x, weights, stride\u001b[39m=\u001b[39mstride, padding\u001b[39m=\u001b[39mpadding)\n\u001b[1;32m     90\u001b[0m     torch_output \u001b[39m=\u001b[39m t\u001b[39m.\u001b[39mconv_transpose1d(x, weights, stride\u001b[39m=\u001b[39mstride, padding\u001b[39m=\u001b[39mpadding)\n\u001b[0;32m---> 91\u001b[0m     t\u001b[39m.\u001b[39;49mtesting\u001b[39m.\u001b[39;49massert_close(my_output, torch_output)\n\u001b[1;32m     92\u001b[0m \u001b[39mprint\u001b[39m(\u001b[39m\"\u001b[39m\u001b[39mAll tests in `test_conv_transpose1d` passed!\u001b[39m\u001b[39m\"\u001b[39m)\n",
      "    \u001b[0;31m[... skipping hidden 1 frame]\u001b[0m\n",
      "File \u001b[0;32m~/opt/anaconda3/envs/science/lib/python3.9/site-packages/torch/testing/_comparison.py:1093\u001b[0m, in \u001b[0;36massert_equal\u001b[0;34m(actual, expected, pair_types, sequence_types, mapping_types, msg, **options)\u001b[0m\n\u001b[1;32m   1090\u001b[0m     \u001b[39mreturn\u001b[39;00m\n\u001b[1;32m   1092\u001b[0m \u001b[39m# TODO: compose all metas into one AssertionError\u001b[39;00m\n\u001b[0;32m-> 1093\u001b[0m \u001b[39mraise\u001b[39;00m error_metas[\u001b[39m0\u001b[39m]\u001b[39m.\u001b[39mto_error(msg)\n",
      "\u001b[0;31mAssertionError\u001b[0m: The values for attribute 'shape' do not match: torch.Size([2, 4, 187]) != torch.Size([2, 4, 185])."
     ]
    }
   ],
   "source": [
    "def fractional_stride_1d(x, stride: int = 1):\n",
    "    '''Returns a version of x suitable for transposed convolutions, i.e. \"spaced out\" with zeros between its values.\n",
    "    This spacing only happens along the last dimension.\n",
    "\n",
    "    x: shape (batch, in_channels, width)\n",
    "\n",
    "    Example: \n",
    "        x = [[[1, 2, 3], [4, 5, 6]]]\n",
    "        stride = 2\n",
    "        output = [[[1, 0, 2, 0, 3], [4, 0, 5, 0, 6]]]\n",
    "    '''\n",
    "    x_mod = t.zeros((x.shape[0], x.shape[1],(x.shape[2]-1)*stride + 1), dtype=x.dtype)\n",
    "    x_mod[..., ::stride] = x\n",
    "    return x_mod\n",
    "\n",
    "utils.test_fractional_stride_1d(fractional_stride_1d)\n",
    "\n",
    "def conv_transpose1d(x, weights, stride: int = 1, padding: int = 0) -> t.Tensor:\n",
    "    '''Like torch's conv_transpose1d using bias=False and all other keyword arguments left at their default values.\n",
    "\n",
    "    x: shape (batch, in_channels, width)\n",
    "    weights: shape (out_channels, in_channels, kernel_width)\n",
    "\n",
    "    Returns: shape (batch, out_channels, output_width)\n",
    "    '''\n",
    "    # reverse kernel\n",
    "    weight_mod = t.flip(weights, dims=(2,))\n",
    "    weight_mod = rearrange(weight_mod, \"a b c -> b a c\")\n",
    "    x = fractional_stride_1d(x,stride=stride)\n",
    "    x_width = x.shape[2]\n",
    "    # change input with padding\n",
    "    kernel_width = weights.shape[2]\n",
    "    x_mod = t.zeros((x.shape[0], x.shape[1],x.shape[2]+2*kernel_width-2), dtype=x.dtype)\n",
    "    x_mod[..., kernel_width-1:kernel_width -1 + x_width] = x\n",
    "    # apply conv1d, todo: maybe use own implementation\n",
    "    result = t.nn.functional.conv1d(x_mod, weight_mod)\n",
    "    return result\n",
    "\n",
    "utils.test_conv_transpose1d(conv_transpose1d)"
   ]
  },
  {
   "cell_type": "code",
   "execution_count": null,
   "metadata": {},
   "outputs": [],
   "source": []
  }
 ],
 "metadata": {
  "kernelspec": {
   "display_name": "Python 3.9.13 ('science')",
   "language": "python",
   "name": "python3"
  },
  "language_info": {
   "codemirror_mode": {
    "name": "ipython",
    "version": 3
   },
   "file_extension": ".py",
   "mimetype": "text/x-python",
   "name": "python",
   "nbconvert_exporter": "python",
   "pygments_lexer": "ipython3",
   "version": "3.9.13"
  },
  "orig_nbformat": 4,
  "vscode": {
   "interpreter": {
    "hash": "ded5e6f133e31c74d7e61946920be103f96969c2c9abd403ec1a6f8823efeff2"
   }
  }
 },
 "nbformat": 4,
 "nbformat_minor": 2
}
