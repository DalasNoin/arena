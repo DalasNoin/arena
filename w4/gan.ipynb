{
 "cells": [
  {
   "cell_type": "markdown",
   "metadata": {},
   "source": [
    "[![Open In Colab](https://colab.research.google.com/assets/colab-badge.svg)](https://colab.research.google.com/github/DalasNoin/arena/blob/main/w4/gan.ipynb)"
   ]
  },
  {
   "cell_type": "code",
   "execution_count": 3,
   "metadata": {},
   "outputs": [],
   "source": [
    "# ! wget https://raw.githubusercontent.com/callummcdougall/arena-v1/main/w4d1/utils.py\n",
    "# ! wget https://raw.githubusercontent.com/dalasnoin/arena/main/w4/gan_modules.py\n",
    "# ! gdown --id 1lfEWQ05cZ5FgWkSIxwyi7TLryhvnCDWb\n",
    "# ! mkdir data\n",
    "# ! unzip -qq img_align_celeba.zip -d data\n",
    "# ! pip install einops fancy_einsum tqdm plotly\n",
    "# ! pip install wandb "
   ]
  },
  {
   "cell_type": "code",
   "execution_count": 4,
   "metadata": {},
   "outputs": [],
   "source": [
    "\n",
    "\n",
    "import torch as t\n",
    "from typing import Union\n",
    "from torch import nn\n",
    "import torch.nn.functional as F\n",
    "import plotly.express as px\n",
    "import plotly.graph_objects as go\n",
    "from einops import rearrange, reduce, repeat\n",
    "from einops.layers.torch import Rearrange\n",
    "from fancy_einsum import einsum\n",
    "import os\n",
    "from tqdm.auto import tqdm\n",
    "from torchvision import transforms, datasets\n",
    "from torchvision.datasets import ImageFolder\n",
    "from torch.utils.data import Dataset, DataLoader, TensorDataset\n",
    "import wandb\n",
    "import utils\n",
    "import gan_modules\n",
    "from typing import Optional\n",
    "\n",
    "image_size = img_size = 64 # i misleadingly used both names in the code\n",
    "batch_size = 3\n",
    "latent_dim_size = 100\n",
    "img_channels = 3\n",
    "generator_num_features = 512\n",
    "n_layers = 4\n",
    "\n",
    "device = t.device(\"cuda:0\" if t.cuda.is_available() else \"cpu\")\n",
    "wandb_key=\"\"\n",
    "keyfile = \"keystore.yaml\"\n",
    "if not wandb_key and os.path.exists(keyfile):\n",
    "    import yaml\n",
    "    keys = yaml.safe_load(open(keyfile,\"r\"))\n",
    "    wandb_key = keys[\"wandb\"]\n",
    "os.environ[\"WANDB_API_KEY\"] = wandb_key\n"
   ]
  },
  {
   "cell_type": "code",
   "execution_count": 5,
   "metadata": {},
   "outputs": [],
   "source": [
    "# @t.no_grad() not necessary since nn.init already uses nograd mode\n",
    "def initialize_weights(model: nn.Module) -> None:\n",
    "    \"\"\" \n",
    "    They mention at the end of page 3 that all weights were initialized from a N(0, 0.02)N(0,0.02) distribution. \n",
    "    This applies to the convolutional and convolutional transpose layers' weights, \n",
    "    but the BatchNorm layers' weights should be initialised from N(1, 0.02)N(1,0.02) (since 1 is their default value). \n",
    "    The BatchNorm biases should all be set to zero (which they are by default).\n",
    "    \"\"\"\n",
    "    for name, parameter in model.named_parameters():\n",
    "        if \"batchnorm\" in name:\n",
    "            if \"bias\" in name:\n",
    "                nn.init.constant_(parameter.data, 0.0)\n",
    "            elif \"weight\" in name:\n",
    "                nn.init.uniform_(parameter.data, a=0.02, b=1.0)\n",
    "        else:\n",
    "            nn.init.uniform_(parameter.data, a=0.0, b=0.02)"
   ]
  },
  {
   "cell_type": "code",
   "execution_count": 6,
   "metadata": {},
   "outputs": [
    {
     "data": {
      "text/plain": [
       "[(512, 256, 4), (256, 128, 8), (128, 64, 16), (64, 3, 64)]"
      ]
     },
     "execution_count": 6,
     "metadata": {},
     "output_type": "execute_result"
    }
   ],
   "source": [
    "class Generator(nn.Module):\n",
    "\n",
    "    def __init__(\n",
    "        self,\n",
    "        latent_dim_size: int,           # size of the random vector we use for generating outputs\n",
    "        img_size = int,                 # size of the images we're generating\n",
    "        img_channels = int,             # indicates RGB images\n",
    "        generator_num_features = int,   # number of channels after first projection and reshaping\n",
    "        n_layers = int,                 # number of CONV_n layers\n",
    "    ):\n",
    "        super().__init__()\n",
    "        self.latent_dim_size = latent_dim_size\n",
    "        self.latent_dim_projected = 8192\n",
    "        self.img_size = img_size\n",
    "        self.img_channels = img_channels\n",
    "        self.generator_num_features = generator_num_features\n",
    "        self.initial_width = 4\n",
    "        self.n_layers = n_layers\n",
    "        \n",
    "\n",
    "        self._build()\n",
    "\n",
    "\n",
    "    def _build(self):\n",
    "        self.latent_sequential = nn.Sequential(nn.Linear(self.latent_dim_size, self.latent_dim_projected, bias=False),\n",
    "            Rearrange(\"a (b c d) -> a b c d\", c=self.initial_width, d=self.initial_width),\n",
    "            nn.BatchNorm2d((self.latent_dim_projected//self.initial_width**2)),\n",
    "            nn.ReLU()\n",
    "        )\n",
    "\n",
    "        self.layer_structure = [(self.generator_num_features//(2**i),\n",
    "                                    self.generator_num_features//2**(i+1), \n",
    "                                    self.initial_width*2**i) for i in range(0, self.n_layers-1)]\n",
    "        self.layer_structure.append((self.img_size,self.img_channels,self.img_size))\n",
    "\n",
    "        block_list = [ConvTransposeBlock(*structure) for structure in self.layer_structure[:-1]]\n",
    "        block_list.append(ConvTransposeBlock(*self.layer_structure[-1],t.tanh, False))\n",
    "\n",
    "        self.upsample_sequential = nn.Sequential(*block_list)\n",
    "\n",
    "    def forward(self, x: t.Tensor):\n",
    "        x = self.latent_sequential(x)\n",
    "        return self.upsample_sequential(x)\n",
    "\n",
    "class ConvTransposeBlock(nn.Module):\n",
    "    def __init__(self, in_channels: int, out_channels: int, width: int, activation_function: callable=None, uses_batchnorm:bool=True):\n",
    "        super().__init__()\n",
    "        self.in_channels = in_channels\n",
    "        self.out_channels = out_channels\n",
    "        self.width = width\n",
    "        self.convtranspose = gan_modules.ConvTranspose2d(in_channels=in_channels,\n",
    "                                            out_channels=out_channels,\n",
    "                                            kernel_size=4,\n",
    "                                            stride=2,\n",
    "                                            padding=1)\n",
    "        self.uses_batchnorm = uses_batchnorm\n",
    "        if uses_batchnorm:\n",
    "            self.batchnorm = nn.BatchNorm2d((self.out_channels))\n",
    "        if activation_function is None:\n",
    "            self.activation_function = nn.ReLU()\n",
    "        else:\n",
    "            self.activation_function = activation_function\n",
    "\n",
    "    def forward(self, x):\n",
    "        x = self.convtranspose(x)\n",
    "        if self.uses_batchnorm:\n",
    "            x = self.batchnorm(x)\n",
    "        return self.activation_function(x)\n",
    "\n",
    "generator = Generator(\n",
    "    latent_dim_size=latent_dim_size,\n",
    "    img_size=image_size,\n",
    "    img_channels=img_channels,\n",
    "    generator_num_features=generator_num_features,\n",
    "    n_layers=n_layers\n",
    ")\n",
    "generator.layer_structure\n"
   ]
  },
  {
   "cell_type": "code",
   "execution_count": 7,
   "metadata": {},
   "outputs": [],
   "source": [
    "class Discriminator(nn.Module):\n",
    "    def __init__(\n",
    "        self,\n",
    "        img_size = 64,\n",
    "        img_channels = 3,\n",
    "        generator_num_features = 1024,\n",
    "        n_layers = 4,\n",
    "    ):\n",
    "        super().__init__()\n",
    "        self.img_size = img_size\n",
    "        self.img_channels = img_channels\n",
    "        self.generator_num_features = generator_num_features\n",
    "        self.n_layers = n_layers\n",
    "\n",
    "        # set as constants for now\n",
    "        self.conv_params = {\n",
    "            \"kernel_size\": 4,\n",
    "            \"stride\": 2,\n",
    "            \"padding\": 1,\n",
    "            \"bias\": False\n",
    "        }\n",
    "\n",
    "        \n",
    "\n",
    "        self.layer_structure = [(img_size*2**i, img_size*(2**(i+1)), img_size//2**(i+2)) for i in range(0, n_layers-1)]\n",
    "\n",
    "        self.initial_conv = nn.Conv2d(in_channels=self.img_channels, \n",
    "                                        out_channels=self.img_size,  # this seems to be the case for this model\n",
    "                                        **self.conv_params)\n",
    "        \n",
    "        self.downsampling_block = nn.Sequential(*[ConvBlock(*in_out_width_tuple,conv_params=self.conv_params) for in_out_width_tuple in self.layer_structure])\n",
    "\n",
    "        self.rearrange_layer = Rearrange(\"a b h w -> a (b h w)\")\n",
    "\n",
    "        self.classifier = nn.Linear(in_features=(self.layer_structure[-1][1]*self.layer_structure[-1][2]**2), # output size of the last layer\n",
    "                                    out_features=1,\n",
    "                                    bias=False\n",
    "        )\n",
    "\n",
    "        self.sigmoid = nn.Sigmoid()\n",
    "        \n",
    "\n",
    "    def forward(self, x: t.Tensor):\n",
    "        x = self.initial_conv(x)\n",
    "        x = self.downsampling_block(x)\n",
    "        x = self.rearrange_layer(x)\n",
    "        return self.sigmoid(self.classifier(x))\n",
    "\n",
    "\n",
    "class ConvBlock(nn.Module):\n",
    "    def __init__(self, in_channels:int, out_channels:int, width:int, conv_params:dict, uses_batchnorm:bool=True):\n",
    "        super().__init__()\n",
    "        self.in_channels = in_channels\n",
    "        self.out_channels = out_channels\n",
    "        self.width = width\n",
    "        self.uses_batchnorm = uses_batchnorm\n",
    "\n",
    "        self.conv_params = conv_params\n",
    "\n",
    "        self.negative_slope=0.02\n",
    "\n",
    "        self.conv = nn.Conv2d(in_channels=self.in_channels,\n",
    "            out_channels=self.out_channels,\n",
    "            **self.conv_params\n",
    "        )\n",
    "\n",
    "        if self.uses_batchnorm:\n",
    "            self.batchnorm = nn.BatchNorm2d((out_channels))\n",
    "\n",
    "        self.leaky_relu = gan_modules.LeakyReLU(negative_slope=self.negative_slope)\n",
    "\n",
    "    def forward(self, x):\n",
    "        x = self.conv(x)\n",
    "        if self.uses_batchnorm:\n",
    "            x = self.batchnorm(x)\n",
    "        return self.leaky_relu(x)\n",
    "\n",
    "discriminator = Discriminator(\n",
    "    img_size=img_size,\n",
    "    img_channels=img_channels,\n",
    "    generator_num_features=generator_num_features,\n",
    "    n_layers=n_layers\n",
    ")\n"
   ]
  },
  {
   "cell_type": "code",
   "execution_count": 8,
   "metadata": {},
   "outputs": [
    {
     "data": {
      "application/vnd.plotly.v1+json": {
       "config": {
        "plotlyServerURL": "https://plot.ly"
       },
       "data": [
        {
         "hovertemplate": "x: %{x}<br>y: %{y}<extra></extra>",
         "name": "0",
         "source": "data:image/png;base64,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",
         "type": "image",
         "xaxis": "x",
         "yaxis": "y"
        }
       ],
       "layout": {
        "coloraxis": {
         "showscale": false
        },
        "margin": {
         "b": 20,
         "l": 20,
         "r": 20,
         "t": 20
        },
        "template": {
         "data": {
          "bar": [
           {
            "error_x": {
             "color": "#2a3f5f"
            },
            "error_y": {
             "color": "#2a3f5f"
            },
            "marker": {
             "line": {
              "color": "#E5ECF6",
              "width": 0.5
             },
             "pattern": {
              "fillmode": "overlay",
              "size": 10,
              "solidity": 0.2
             }
            },
            "type": "bar"
           }
          ],
          "barpolar": [
           {
            "marker": {
             "line": {
              "color": "#E5ECF6",
              "width": 0.5
             },
             "pattern": {
              "fillmode": "overlay",
              "size": 10,
              "solidity": 0.2
             }
            },
            "type": "barpolar"
           }
          ],
          "carpet": [
           {
            "aaxis": {
             "endlinecolor": "#2a3f5f",
             "gridcolor": "white",
             "linecolor": "white",
             "minorgridcolor": "white",
             "startlinecolor": "#2a3f5f"
            },
            "baxis": {
             "endlinecolor": "#2a3f5f",
             "gridcolor": "white",
             "linecolor": "white",
             "minorgridcolor": "white",
             "startlinecolor": "#2a3f5f"
            },
            "type": "carpet"
           }
          ],
          "choropleth": [
           {
            "colorbar": {
             "outlinewidth": 0,
             "ticks": ""
            },
            "type": "choropleth"
           }
          ],
          "contour": [
           {
            "colorbar": {
             "outlinewidth": 0,
             "ticks": ""
            },
            "colorscale": [
             [
              0,
              "#0d0887"
             ],
             [
              0.1111111111111111,
              "#46039f"
             ],
             [
              0.2222222222222222,
              "#7201a8"
             ],
             [
              0.3333333333333333,
              "#9c179e"
             ],
             [
              0.4444444444444444,
              "#bd3786"
             ],
             [
              0.5555555555555556,
              "#d8576b"
             ],
             [
              0.6666666666666666,
              "#ed7953"
             ],
             [
              0.7777777777777778,
              "#fb9f3a"
             ],
             [
              0.8888888888888888,
              "#fdca26"
             ],
             [
              1,
              "#f0f921"
             ]
            ],
            "type": "contour"
           }
          ],
          "contourcarpet": [
           {
            "colorbar": {
             "outlinewidth": 0,
             "ticks": ""
            },
            "type": "contourcarpet"
           }
          ],
          "heatmap": [
           {
            "colorbar": {
             "outlinewidth": 0,
             "ticks": ""
            },
            "colorscale": [
             [
              0,
              "#0d0887"
             ],
             [
              0.1111111111111111,
              "#46039f"
             ],
             [
              0.2222222222222222,
              "#7201a8"
             ],
             [
              0.3333333333333333,
              "#9c179e"
             ],
             [
              0.4444444444444444,
              "#bd3786"
             ],
             [
              0.5555555555555556,
              "#d8576b"
             ],
             [
              0.6666666666666666,
              "#ed7953"
             ],
             [
              0.7777777777777778,
              "#fb9f3a"
             ],
             [
              0.8888888888888888,
              "#fdca26"
             ],
             [
              1,
              "#f0f921"
             ]
            ],
            "type": "heatmap"
           }
          ],
          "heatmapgl": [
           {
            "colorbar": {
             "outlinewidth": 0,
             "ticks": ""
            },
            "colorscale": [
             [
              0,
              "#0d0887"
             ],
             [
              0.1111111111111111,
              "#46039f"
             ],
             [
              0.2222222222222222,
              "#7201a8"
             ],
             [
              0.3333333333333333,
              "#9c179e"
             ],
             [
              0.4444444444444444,
              "#bd3786"
             ],
             [
              0.5555555555555556,
              "#d8576b"
             ],
             [
              0.6666666666666666,
              "#ed7953"
             ],
             [
              0.7777777777777778,
              "#fb9f3a"
             ],
             [
              0.8888888888888888,
              "#fdca26"
             ],
             [
              1,
              "#f0f921"
             ]
            ],
            "type": "heatmapgl"
           }
          ],
          "histogram": [
           {
            "marker": {
             "pattern": {
              "fillmode": "overlay",
              "size": 10,
              "solidity": 0.2
             }
            },
            "type": "histogram"
           }
          ],
          "histogram2d": [
           {
            "colorbar": {
             "outlinewidth": 0,
             "ticks": ""
            },
            "colorscale": [
             [
              0,
              "#0d0887"
             ],
             [
              0.1111111111111111,
              "#46039f"
             ],
             [
              0.2222222222222222,
              "#7201a8"
             ],
             [
              0.3333333333333333,
              "#9c179e"
             ],
             [
              0.4444444444444444,
              "#bd3786"
             ],
             [
              0.5555555555555556,
              "#d8576b"
             ],
             [
              0.6666666666666666,
              "#ed7953"
             ],
             [
              0.7777777777777778,
              "#fb9f3a"
             ],
             [
              0.8888888888888888,
              "#fdca26"
             ],
             [
              1,
              "#f0f921"
             ]
            ],
            "type": "histogram2d"
           }
          ],
          "histogram2dcontour": [
           {
            "colorbar": {
             "outlinewidth": 0,
             "ticks": ""
            },
            "colorscale": [
             [
              0,
              "#0d0887"
             ],
             [
              0.1111111111111111,
              "#46039f"
             ],
             [
              0.2222222222222222,
              "#7201a8"
             ],
             [
              0.3333333333333333,
              "#9c179e"
             ],
             [
              0.4444444444444444,
              "#bd3786"
             ],
             [
              0.5555555555555556,
              "#d8576b"
             ],
             [
              0.6666666666666666,
              "#ed7953"
             ],
             [
              0.7777777777777778,
              "#fb9f3a"
             ],
             [
              0.8888888888888888,
              "#fdca26"
             ],
             [
              1,
              "#f0f921"
             ]
            ],
            "type": "histogram2dcontour"
           }
          ],
          "mesh3d": [
           {
            "colorbar": {
             "outlinewidth": 0,
             "ticks": ""
            },
            "type": "mesh3d"
           }
          ],
          "parcoords": [
           {
            "line": {
             "colorbar": {
              "outlinewidth": 0,
              "ticks": ""
             }
            },
            "type": "parcoords"
           }
          ],
          "pie": [
           {
            "automargin": true,
            "type": "pie"
           }
          ],
          "scatter": [
           {
            "fillpattern": {
             "fillmode": "overlay",
             "size": 10,
             "solidity": 0.2
            },
            "type": "scatter"
           }
          ],
          "scatter3d": [
           {
            "line": {
             "colorbar": {
              "outlinewidth": 0,
              "ticks": ""
             }
            },
            "marker": {
             "colorbar": {
              "outlinewidth": 0,
              "ticks": ""
             }
            },
            "type": "scatter3d"
           }
          ],
          "scattercarpet": [
           {
            "marker": {
             "colorbar": {
              "outlinewidth": 0,
              "ticks": ""
             }
            },
            "type": "scattercarpet"
           }
          ],
          "scattergeo": [
           {
            "marker": {
             "colorbar": {
              "outlinewidth": 0,
              "ticks": ""
             }
            },
            "type": "scattergeo"
           }
          ],
          "scattergl": [
           {
            "marker": {
             "colorbar": {
              "outlinewidth": 0,
              "ticks": ""
             }
            },
            "type": "scattergl"
           }
          ],
          "scattermapbox": [
           {
            "marker": {
             "colorbar": {
              "outlinewidth": 0,
              "ticks": ""
             }
            },
            "type": "scattermapbox"
           }
          ],
          "scatterpolar": [
           {
            "marker": {
             "colorbar": {
              "outlinewidth": 0,
              "ticks": ""
             }
            },
            "type": "scatterpolar"
           }
          ],
          "scatterpolargl": [
           {
            "marker": {
             "colorbar": {
              "outlinewidth": 0,
              "ticks": ""
             }
            },
            "type": "scatterpolargl"
           }
          ],
          "scatterternary": [
           {
            "marker": {
             "colorbar": {
              "outlinewidth": 0,
              "ticks": ""
             }
            },
            "type": "scatterternary"
           }
          ],
          "surface": [
           {
            "colorbar": {
             "outlinewidth": 0,
             "ticks": ""
            },
            "colorscale": [
             [
              0,
              "#0d0887"
             ],
             [
              0.1111111111111111,
              "#46039f"
             ],
             [
              0.2222222222222222,
              "#7201a8"
             ],
             [
              0.3333333333333333,
              "#9c179e"
             ],
             [
              0.4444444444444444,
              "#bd3786"
             ],
             [
              0.5555555555555556,
              "#d8576b"
             ],
             [
              0.6666666666666666,
              "#ed7953"
             ],
             [
              0.7777777777777778,
              "#fb9f3a"
             ],
             [
              0.8888888888888888,
              "#fdca26"
             ],
             [
              1,
              "#f0f921"
             ]
            ],
            "type": "surface"
           }
          ],
          "table": [
           {
            "cells": {
             "fill": {
              "color": "#EBF0F8"
             },
             "line": {
              "color": "white"
             }
            },
            "header": {
             "fill": {
              "color": "#C8D4E3"
             },
             "line": {
              "color": "white"
             }
            },
            "type": "table"
           }
          ]
         },
         "layout": {
          "annotationdefaults": {
           "arrowcolor": "#2a3f5f",
           "arrowhead": 0,
           "arrowwidth": 1
          },
          "autotypenumbers": "strict",
          "coloraxis": {
           "colorbar": {
            "outlinewidth": 0,
            "ticks": ""
           }
          },
          "colorscale": {
           "diverging": [
            [
             0,
             "#8e0152"
            ],
            [
             0.1,
             "#c51b7d"
            ],
            [
             0.2,
             "#de77ae"
            ],
            [
             0.3,
             "#f1b6da"
            ],
            [
             0.4,
             "#fde0ef"
            ],
            [
             0.5,
             "#f7f7f7"
            ],
            [
             0.6,
             "#e6f5d0"
            ],
            [
             0.7,
             "#b8e186"
            ],
            [
             0.8,
             "#7fbc41"
            ],
            [
             0.9,
             "#4d9221"
            ],
            [
             1,
             "#276419"
            ]
           ],
           "sequential": [
            [
             0,
             "#0d0887"
            ],
            [
             0.1111111111111111,
             "#46039f"
            ],
            [
             0.2222222222222222,
             "#7201a8"
            ],
            [
             0.3333333333333333,
             "#9c179e"
            ],
            [
             0.4444444444444444,
             "#bd3786"
            ],
            [
             0.5555555555555556,
             "#d8576b"
            ],
            [
             0.6666666666666666,
             "#ed7953"
            ],
            [
             0.7777777777777778,
             "#fb9f3a"
            ],
            [
             0.8888888888888888,
             "#fdca26"
            ],
            [
             1,
             "#f0f921"
            ]
           ],
           "sequentialminus": [
            [
             0,
             "#0d0887"
            ],
            [
             0.1111111111111111,
             "#46039f"
            ],
            [
             0.2222222222222222,
             "#7201a8"
            ],
            [
             0.3333333333333333,
             "#9c179e"
            ],
            [
             0.4444444444444444,
             "#bd3786"
            ],
            [
             0.5555555555555556,
             "#d8576b"
            ],
            [
             0.6666666666666666,
             "#ed7953"
            ],
            [
             0.7777777777777778,
             "#fb9f3a"
            ],
            [
             0.8888888888888888,
             "#fdca26"
            ],
            [
             1,
             "#f0f921"
            ]
           ]
          },
          "colorway": [
           "#636efa",
           "#EF553B",
           "#00cc96",
           "#ab63fa",
           "#FFA15A",
           "#19d3f3",
           "#FF6692",
           "#B6E880",
           "#FF97FF",
           "#FECB52"
          ],
          "font": {
           "color": "#2a3f5f"
          },
          "geo": {
           "bgcolor": "white",
           "lakecolor": "white",
           "landcolor": "#E5ECF6",
           "showlakes": true,
           "showland": true,
           "subunitcolor": "white"
          },
          "hoverlabel": {
           "align": "left"
          },
          "hovermode": "closest",
          "mapbox": {
           "style": "light"
          },
          "paper_bgcolor": "white",
          "plot_bgcolor": "#E5ECF6",
          "polar": {
           "angularaxis": {
            "gridcolor": "white",
            "linecolor": "white",
            "ticks": ""
           },
           "bgcolor": "#E5ECF6",
           "radialaxis": {
            "gridcolor": "white",
            "linecolor": "white",
            "ticks": ""
           }
          },
          "scene": {
           "xaxis": {
            "backgroundcolor": "#E5ECF6",
            "gridcolor": "white",
            "gridwidth": 2,
            "linecolor": "white",
            "showbackground": true,
            "ticks": "",
            "zerolinecolor": "white"
           },
           "yaxis": {
            "backgroundcolor": "#E5ECF6",
            "gridcolor": "white",
            "gridwidth": 2,
            "linecolor": "white",
            "showbackground": true,
            "ticks": "",
            "zerolinecolor": "white"
           },
           "zaxis": {
            "backgroundcolor": "#E5ECF6",
            "gridcolor": "white",
            "gridwidth": 2,
            "linecolor": "white",
            "showbackground": true,
            "ticks": "",
            "zerolinecolor": "white"
           }
          },
          "shapedefaults": {
           "line": {
            "color": "#2a3f5f"
           }
          },
          "ternary": {
           "aaxis": {
            "gridcolor": "white",
            "linecolor": "white",
            "ticks": ""
           },
           "baxis": {
            "gridcolor": "white",
            "linecolor": "white",
            "ticks": ""
           },
           "bgcolor": "#E5ECF6",
           "caxis": {
            "gridcolor": "white",
            "linecolor": "white",
            "ticks": ""
           }
          },
          "title": {
           "x": 0.05
          },
          "xaxis": {
           "automargin": true,
           "gridcolor": "white",
           "linecolor": "white",
           "ticks": "",
           "title": {
            "standoff": 15
           },
           "zerolinecolor": "white",
           "zerolinewidth": 2
          },
          "yaxis": {
           "automargin": true,
           "gridcolor": "white",
           "linecolor": "white",
           "ticks": "",
           "title": {
            "standoff": 15
           },
           "zerolinecolor": "white",
           "zerolinewidth": 2
          }
         }
        },
        "xaxis": {
         "anchor": "y",
         "domain": [
          0,
          1
         ],
         "showticklabels": false
        },
        "yaxis": {
         "anchor": "x",
         "domain": [
          0,
          1
         ],
         "showticklabels": false
        }
       }
      }
     },
     "metadata": {},
     "output_type": "display_data"
    }
   ],
   "source": [
    "from torchvision import transforms, datasets\n",
    "\n",
    "from torch.utils.data import DataLoader\n",
    "\n",
    "\n",
    "transform = transforms.Compose([\n",
    "    transforms.Resize((image_size,image_size)),\n",
    "    transforms.ToTensor(),\n",
    "    transforms.Normalize((0.5, 0.5, 0.5), (0.5, 0.5, 0.5)),\n",
    "])\n",
    "\n",
    "trainset = ImageFolder(\n",
    "    root=\"data\",\n",
    "    transform=transform\n",
    ")\n",
    "\n",
    "utils.show_images(trainset, rows=3, cols=5)\n",
    "\n",
    "trainloader = DataLoader(trainset, batch_size=batch_size, shuffle=True)"
   ]
  },
  {
   "cell_type": "code",
   "execution_count": 9,
   "metadata": {},
   "outputs": [
    {
     "data": {
      "text/plain": [
       "torch.Size([3, 64, 64])"
      ]
     },
     "execution_count": 9,
     "metadata": {},
     "output_type": "execute_result"
    }
   ],
   "source": [
    "trainset[0][0].shape"
   ]
  },
  {
   "cell_type": "code",
   "execution_count": 10,
   "metadata": {},
   "outputs": [
    {
     "name": "stdout",
     "output_type": "stream",
     "text": [
      "tensor(-4.5192, grad_fn=<AddBackward0>) tensor(-4.1511, grad_fn=<MeanBackward0>) tensor(-0.3681, grad_fn=<MeanBackward0>)\n",
      "tensor(-7.9414, grad_fn=<AddBackward0>) tensor(-7.8113, grad_fn=<MeanBackward0>) tensor(-0.1301, grad_fn=<MeanBackward0>)\n",
      "tensor(-10.5911, grad_fn=<AddBackward0>) tensor(-10.0312, grad_fn=<MeanBackward0>) tensor(-0.5599, grad_fn=<MeanBackward0>)\n",
      "tensor(-4.4218, grad_fn=<AddBackward0>) tensor(-4.3658, grad_fn=<MeanBackward0>) tensor(-0.0559, grad_fn=<MeanBackward0>)\n",
      "tensor(-7.4499, grad_fn=<AddBackward0>) tensor(-7.4419, grad_fn=<MeanBackward0>) tensor(-0.0080, grad_fn=<MeanBackward0>)\n",
      "tensor(-8.1867, grad_fn=<AddBackward0>) tensor(-7.8148, grad_fn=<MeanBackward0>) tensor(-0.3719, grad_fn=<MeanBackward0>)\n",
      "tensor(-8.5450, grad_fn=<AddBackward0>) tensor(-7.9149, grad_fn=<MeanBackward0>) tensor(-0.6301, grad_fn=<MeanBackward0>)\n",
      "tensor(-10.3165, grad_fn=<AddBackward0>) tensor(-9.9695, grad_fn=<MeanBackward0>) tensor(-0.3470, grad_fn=<MeanBackward0>)\n",
      "tensor(-7.6789, grad_fn=<AddBackward0>) tensor(-7.3164, grad_fn=<MeanBackward0>) tensor(-0.3624, grad_fn=<MeanBackward0>)\n",
      "tensor(-9.9902, grad_fn=<AddBackward0>) tensor(-9.3419, grad_fn=<MeanBackward0>) tensor(-0.6483, grad_fn=<MeanBackward0>)\n",
      "tensor(-10.1805, grad_fn=<AddBackward0>) tensor(-9.8024, grad_fn=<MeanBackward0>) tensor(-0.3780, grad_fn=<MeanBackward0>)\n",
      "tensor(-9.2076, grad_fn=<AddBackward0>) tensor(-8.8777, grad_fn=<MeanBackward0>) tensor(-0.3299, grad_fn=<MeanBackward0>)\n",
      "tensor(-9.2671, grad_fn=<AddBackward0>) tensor(-8.7005, grad_fn=<MeanBackward0>) tensor(-0.5666, grad_fn=<MeanBackward0>)\n",
      "tensor(-7.7541, grad_fn=<AddBackward0>) tensor(-7.7541, grad_fn=<MeanBackward0>) tensor(-1.8279e-06, grad_fn=<MeanBackward0>)\n",
      "tensor(-6.9852, grad_fn=<AddBackward0>) tensor(-6.6628, grad_fn=<MeanBackward0>) tensor(-0.3223, grad_fn=<MeanBackward0>)\n",
      "tensor(-5.7372, grad_fn=<AddBackward0>) tensor(-5.6125, grad_fn=<MeanBackward0>) tensor(-0.1248, grad_fn=<MeanBackward0>)\n",
      "tensor(-4.7772, grad_fn=<AddBackward0>) tensor(-4.4392, grad_fn=<MeanBackward0>) tensor(-0.3380, grad_fn=<MeanBackward0>)\n",
      "tensor(-3.3808, grad_fn=<AddBackward0>) tensor(-3.3266, grad_fn=<MeanBackward0>) tensor(-0.0542, grad_fn=<MeanBackward0>)\n",
      "tensor(-2.6406, grad_fn=<AddBackward0>) tensor(-2.2930, grad_fn=<MeanBackward0>) tensor(-0.3476, grad_fn=<MeanBackward0>)\n",
      "tensor(-2.2848, grad_fn=<AddBackward0>) tensor(-1.5050, grad_fn=<MeanBackward0>) tensor(-0.7799, grad_fn=<MeanBackward0>)\n",
      "tensor(-1.3126, grad_fn=<AddBackward0>) tensor(-0.9554, grad_fn=<MeanBackward0>) tensor(-0.3572, grad_fn=<MeanBackward0>)\n",
      "tensor(-1.0131, grad_fn=<AddBackward0>) tensor(-0.6376, grad_fn=<MeanBackward0>) tensor(-0.3755, grad_fn=<MeanBackward0>)\n",
      "tensor(-1.1050, grad_fn=<AddBackward0>) tensor(-0.4638, grad_fn=<MeanBackward0>) tensor(-0.6412, grad_fn=<MeanBackward0>)\n",
      "tensor(-0.6108, grad_fn=<AddBackward0>) tensor(-0.4038, grad_fn=<MeanBackward0>) tensor(-0.2071, grad_fn=<MeanBackward0>)\n",
      "tensor(-1.1157, grad_fn=<AddBackward0>) tensor(-0.4786, grad_fn=<MeanBackward0>) tensor(-0.6371, grad_fn=<MeanBackward0>)\n",
      "tensor(-0.8574, grad_fn=<AddBackward0>) tensor(-0.5271, grad_fn=<MeanBackward0>) tensor(-0.3303, grad_fn=<MeanBackward0>)\n",
      "tensor(-1.3630, grad_fn=<AddBackward0>) tensor(-0.7098, grad_fn=<MeanBackward0>) tensor(-0.6532, grad_fn=<MeanBackward0>)\n",
      "tensor(-3.1522, grad_fn=<AddBackward0>) tensor(-1.0407, grad_fn=<MeanBackward0>) tensor(-2.1115, grad_fn=<MeanBackward0>)\n",
      "tensor(-2.0996, grad_fn=<AddBackward0>) tensor(-1.6008, grad_fn=<MeanBackward0>) tensor(-0.4988, grad_fn=<MeanBackward0>)\n",
      "tensor(-1.5978, grad_fn=<AddBackward0>) tensor(-1.3099, grad_fn=<MeanBackward0>) tensor(-0.2879, grad_fn=<MeanBackward0>)\n",
      "tensor(-1.4951, grad_fn=<AddBackward0>) tensor(-0.9102, grad_fn=<MeanBackward0>) tensor(-0.5849, grad_fn=<MeanBackward0>)\n",
      "tensor(-1.8088, grad_fn=<AddBackward0>) tensor(-0.7310, grad_fn=<MeanBackward0>) tensor(-1.0778, grad_fn=<MeanBackward0>)\n",
      "tensor(-1.7248, grad_fn=<AddBackward0>) tensor(-1.1487, grad_fn=<MeanBackward0>) tensor(-0.5761, grad_fn=<MeanBackward0>)\n",
      "tensor(-2.4417, grad_fn=<AddBackward0>) tensor(-1.7987, grad_fn=<MeanBackward0>) tensor(-0.6431, grad_fn=<MeanBackward0>)\n",
      "tensor(-2.1382, grad_fn=<AddBackward0>) tensor(-2.1333, grad_fn=<MeanBackward0>) tensor(-0.0050, grad_fn=<MeanBackward0>)\n",
      "tensor(-2.6485, grad_fn=<AddBackward0>) tensor(-2.5910, grad_fn=<MeanBackward0>) tensor(-0.0575, grad_fn=<MeanBackward0>)\n",
      "tensor(-8.3451, grad_fn=<AddBackward0>) tensor(-3.3105, grad_fn=<MeanBackward0>) tensor(-5.0346, grad_fn=<MeanBackward0>)\n",
      "tensor(-6.0604, grad_fn=<AddBackward0>) tensor(-3.7908, grad_fn=<MeanBackward0>) tensor(-2.2696, grad_fn=<MeanBackward0>)\n",
      "tensor(-4.1440, grad_fn=<AddBackward0>) tensor(-3.7083, grad_fn=<MeanBackward0>) tensor(-0.4357, grad_fn=<MeanBackward0>)\n",
      "tensor(-4.8783, grad_fn=<AddBackward0>) tensor(-3.5398, grad_fn=<MeanBackward0>) tensor(-1.3384, grad_fn=<MeanBackward0>)\n",
      "tensor(-5.3784, grad_fn=<AddBackward0>) tensor(-4.2577, grad_fn=<MeanBackward0>) tensor(-1.1207, grad_fn=<MeanBackward0>)\n",
      "tensor(-5.3000, grad_fn=<AddBackward0>) tensor(-4.5431, grad_fn=<MeanBackward0>) tensor(-0.7569, grad_fn=<MeanBackward0>)\n",
      "tensor(-7.2230, grad_fn=<AddBackward0>) tensor(-5.5987, grad_fn=<MeanBackward0>) tensor(-1.6243, grad_fn=<MeanBackward0>)\n",
      "tensor(-11.5125, grad_fn=<AddBackward0>) tensor(-6.6262, grad_fn=<MeanBackward0>) tensor(-4.8863, grad_fn=<MeanBackward0>)\n",
      "tensor(-7.3196, grad_fn=<AddBackward0>) tensor(-7.3094, grad_fn=<MeanBackward0>) tensor(-0.0102, grad_fn=<MeanBackward0>)\n",
      "tensor(-13.2551, grad_fn=<AddBackward0>) tensor(-7.8478, grad_fn=<MeanBackward0>) tensor(-5.4072, grad_fn=<MeanBackward0>)\n",
      "tensor(-7.8459, grad_fn=<AddBackward0>) tensor(-7.8423, grad_fn=<MeanBackward0>) tensor(-0.0036, grad_fn=<MeanBackward0>)\n",
      "tensor(-7.7892, grad_fn=<AddBackward0>) tensor(-7.4454, grad_fn=<MeanBackward0>) tensor(-0.3438, grad_fn=<MeanBackward0>)\n",
      "tensor(-6.8824, grad_fn=<AddBackward0>) tensor(-6.8824, grad_fn=<MeanBackward0>) tensor(-1.3391e-05, grad_fn=<MeanBackward0>)\n",
      "tensor(-12.8087, grad_fn=<AddBackward0>) tensor(-6.5341, grad_fn=<MeanBackward0>) tensor(-6.2745, grad_fn=<MeanBackward0>)\n",
      "tensor(-13.0836, grad_fn=<AddBackward0>) tensor(-5.8253, grad_fn=<MeanBackward0>) tensor(-7.2583, grad_fn=<MeanBackward0>)\n",
      "tensor(-6.2410, grad_fn=<AddBackward0>) tensor(-5.3959, grad_fn=<MeanBackward0>) tensor(-0.8451, grad_fn=<MeanBackward0>)\n",
      "tensor(-10.4867, grad_fn=<AddBackward0>) tensor(-4.8186, grad_fn=<MeanBackward0>) tensor(-5.6682, grad_fn=<MeanBackward0>)\n",
      "tensor(-5.2886, grad_fn=<AddBackward0>) tensor(-4.4457, grad_fn=<MeanBackward0>) tensor(-0.8428, grad_fn=<MeanBackward0>)\n",
      "tensor(-5.5613, grad_fn=<AddBackward0>) tensor(-3.7105, grad_fn=<MeanBackward0>) tensor(-1.8508, grad_fn=<MeanBackward0>)\n",
      "tensor(-5.1084, grad_fn=<AddBackward0>) tensor(-2.6773, grad_fn=<MeanBackward0>) tensor(-2.4311, grad_fn=<MeanBackward0>)\n",
      "tensor(-6.4484, grad_fn=<AddBackward0>) tensor(-2.1404, grad_fn=<MeanBackward0>) tensor(-4.3080, grad_fn=<MeanBackward0>)\n",
      "tensor(-2.7017, grad_fn=<AddBackward0>) tensor(-2.4091, grad_fn=<MeanBackward0>) tensor(-0.2926, grad_fn=<MeanBackward0>)\n",
      "tensor(-7.7267, grad_fn=<AddBackward0>) tensor(-2.6344, grad_fn=<MeanBackward0>) tensor(-5.0923, grad_fn=<MeanBackward0>)\n",
      "tensor(-7.5667, grad_fn=<AddBackward0>) tensor(-3.6606, grad_fn=<MeanBackward0>) tensor(-3.9061, grad_fn=<MeanBackward0>)\n",
      "tensor(-6.6705, grad_fn=<AddBackward0>) tensor(-5.3201, grad_fn=<MeanBackward0>) tensor(-1.3504, grad_fn=<MeanBackward0>)\n",
      "tensor(-5.4479, grad_fn=<AddBackward0>) tensor(-4.9078, grad_fn=<MeanBackward0>) tensor(-0.5401, grad_fn=<MeanBackward0>)\n",
      "tensor(-5.9807, grad_fn=<AddBackward0>) tensor(-3.2964, grad_fn=<MeanBackward0>) tensor(-2.6843, grad_fn=<MeanBackward0>)\n",
      "tensor(-4.3609, grad_fn=<AddBackward0>) tensor(-2.1042, grad_fn=<MeanBackward0>) tensor(-2.2567, grad_fn=<MeanBackward0>)\n",
      "tensor(-3.3055, grad_fn=<AddBackward0>) tensor(-1.1873, grad_fn=<MeanBackward0>) tensor(-2.1182, grad_fn=<MeanBackward0>)\n",
      "tensor(-1.8335, grad_fn=<AddBackward0>) tensor(-1.3123, grad_fn=<MeanBackward0>) tensor(-0.5212, grad_fn=<MeanBackward0>)\n",
      "tensor(-3.1818, grad_fn=<AddBackward0>) tensor(-2.9955, grad_fn=<MeanBackward0>) tensor(-0.1863, grad_fn=<MeanBackward0>)\n",
      "tensor(-9.2328, grad_fn=<AddBackward0>) tensor(-5.5804, grad_fn=<MeanBackward0>) tensor(-3.6524, grad_fn=<MeanBackward0>)\n",
      "tensor(-6.1024, grad_fn=<AddBackward0>) tensor(-3.6747, grad_fn=<MeanBackward0>) tensor(-2.4277, grad_fn=<MeanBackward0>)\n",
      "tensor(-1.9022, grad_fn=<AddBackward0>) tensor(-1.8771, grad_fn=<MeanBackward0>) tensor(-0.0251, grad_fn=<MeanBackward0>)\n",
      "tensor(-3.7668, grad_fn=<AddBackward0>) tensor(-0.7261, grad_fn=<MeanBackward0>) tensor(-3.0407, grad_fn=<MeanBackward0>)\n",
      "tensor(-3.2972, grad_fn=<AddBackward0>) tensor(-0.2387, grad_fn=<MeanBackward0>) tensor(-3.0585, grad_fn=<MeanBackward0>)\n",
      "tensor(-6.3467, grad_fn=<AddBackward0>) tensor(-0.1195, grad_fn=<MeanBackward0>) tensor(-6.2271, grad_fn=<MeanBackward0>)\n",
      "tensor(-2.1312, grad_fn=<AddBackward0>) tensor(-0.0893, grad_fn=<MeanBackward0>) tensor(-2.0419, grad_fn=<MeanBackward0>)\n",
      "tensor(-0.7055, grad_fn=<AddBackward0>) tensor(-0.0752, grad_fn=<MeanBackward0>) tensor(-0.6303, grad_fn=<MeanBackward0>)\n",
      "tensor(-1.8698, grad_fn=<AddBackward0>) tensor(-0.0736, grad_fn=<MeanBackward0>) tensor(-1.7961, grad_fn=<MeanBackward0>)\n",
      "tensor(-0.0867, grad_fn=<AddBackward0>) tensor(-0.0832, grad_fn=<MeanBackward0>) tensor(-0.0035, grad_fn=<MeanBackward0>)\n",
      "tensor(-1.1875, grad_fn=<AddBackward0>) tensor(-0.1158, grad_fn=<MeanBackward0>) tensor(-1.0718, grad_fn=<MeanBackward0>)\n",
      "tensor(-0.4800, grad_fn=<AddBackward0>) tensor(-0.2479, grad_fn=<MeanBackward0>) tensor(-0.2321, grad_fn=<MeanBackward0>)\n",
      "tensor(-1.1824, grad_fn=<AddBackward0>) tensor(-0.7323, grad_fn=<MeanBackward0>) tensor(-0.4502, grad_fn=<MeanBackward0>)\n",
      "tensor(-2.9143, grad_fn=<AddBackward0>) tensor(-1.3007, grad_fn=<MeanBackward0>) tensor(-1.6136, grad_fn=<MeanBackward0>)\n",
      "tensor(-1.8419, grad_fn=<AddBackward0>) tensor(-1.4526, grad_fn=<MeanBackward0>) tensor(-0.3893, grad_fn=<MeanBackward0>)\n",
      "tensor(-1.6434, grad_fn=<AddBackward0>) tensor(-0.9981, grad_fn=<MeanBackward0>) tensor(-0.6453, grad_fn=<MeanBackward0>)\n",
      "tensor(-0.6930, grad_fn=<AddBackward0>) tensor(-0.5167, grad_fn=<MeanBackward0>) tensor(-0.1762, grad_fn=<MeanBackward0>)\n",
      "tensor(-0.3010, grad_fn=<AddBackward0>) tensor(-0.2307, grad_fn=<MeanBackward0>) tensor(-0.0703, grad_fn=<MeanBackward0>)\n",
      "tensor(-2.1682, grad_fn=<AddBackward0>) tensor(-0.1008, grad_fn=<MeanBackward0>) tensor(-2.0674, grad_fn=<MeanBackward0>)\n",
      "tensor(-0.2571, grad_fn=<AddBackward0>) tensor(-0.0480, grad_fn=<MeanBackward0>) tensor(-0.2090, grad_fn=<MeanBackward0>)\n",
      "tensor(-1.6157, grad_fn=<AddBackward0>) tensor(-0.0251, grad_fn=<MeanBackward0>) tensor(-1.5906, grad_fn=<MeanBackward0>)\n",
      "tensor(-0.2853, grad_fn=<AddBackward0>) tensor(-0.0141, grad_fn=<MeanBackward0>) tensor(-0.2712, grad_fn=<MeanBackward0>)\n",
      "tensor(-0.0320, grad_fn=<AddBackward0>) tensor(-0.0088, grad_fn=<MeanBackward0>) tensor(-0.0233, grad_fn=<MeanBackward0>)\n",
      "tensor(-0.0160, grad_fn=<AddBackward0>) tensor(-0.0057, grad_fn=<MeanBackward0>) tensor(-0.0103, grad_fn=<MeanBackward0>)\n",
      "tensor(-2.4444, grad_fn=<AddBackward0>) tensor(-0.0040, grad_fn=<MeanBackward0>) tensor(-2.4404, grad_fn=<MeanBackward0>)\n",
      "tensor(-0.6789, grad_fn=<AddBackward0>) tensor(-0.0034, grad_fn=<MeanBackward0>) tensor(-0.6755, grad_fn=<MeanBackward0>)\n",
      "tensor(-1.0562, grad_fn=<AddBackward0>) tensor(-0.0031, grad_fn=<MeanBackward0>) tensor(-1.0531, grad_fn=<MeanBackward0>)\n",
      "tensor(-1.9428, grad_fn=<AddBackward0>) tensor(-0.0033, grad_fn=<MeanBackward0>) tensor(-1.9395, grad_fn=<MeanBackward0>)\n",
      "tensor(-0.0450, grad_fn=<AddBackward0>) tensor(-0.0037, grad_fn=<MeanBackward0>) tensor(-0.0412, grad_fn=<MeanBackward0>)\n",
      "tensor(-3.1364, grad_fn=<AddBackward0>) tensor(-0.0050, grad_fn=<MeanBackward0>) tensor(-3.1314, grad_fn=<MeanBackward0>)\n",
      "tensor(-0.0327, grad_fn=<AddBackward0>) tensor(-0.0133, grad_fn=<MeanBackward0>) tensor(-0.0193, grad_fn=<MeanBackward0>)\n",
      "tensor(-0.0182, grad_fn=<AddBackward0>) tensor(-0.0168, grad_fn=<MeanBackward0>) tensor(-0.0014, grad_fn=<MeanBackward0>)\n",
      "tensor(-0.0540, grad_fn=<AddBackward0>) tensor(-0.0538, grad_fn=<MeanBackward0>) tensor(-0.0002, grad_fn=<MeanBackward0>)\n",
      "tensor(-0.1768, grad_fn=<AddBackward0>) tensor(-0.1540, grad_fn=<MeanBackward0>) tensor(-0.0228, grad_fn=<MeanBackward0>)\n",
      "tensor(-0.3579, grad_fn=<AddBackward0>) tensor(-0.2659, grad_fn=<MeanBackward0>) tensor(-0.0920, grad_fn=<MeanBackward0>)\n",
      "tensor(-1.8856, grad_fn=<AddBackward0>) tensor(-0.3255, grad_fn=<MeanBackward0>) tensor(-1.5602, grad_fn=<MeanBackward0>)\n",
      "tensor(-0.4356, grad_fn=<AddBackward0>) tensor(-0.4077, grad_fn=<MeanBackward0>) tensor(-0.0279, grad_fn=<MeanBackward0>)\n",
      "tensor(-2.4614, grad_fn=<AddBackward0>) tensor(-0.7010, grad_fn=<MeanBackward0>) tensor(-1.7604, grad_fn=<MeanBackward0>)\n",
      "tensor(-0.9369, grad_fn=<AddBackward0>) tensor(-0.9365, grad_fn=<MeanBackward0>) tensor(-0.0004, grad_fn=<MeanBackward0>)\n",
      "tensor(-0.7034, grad_fn=<AddBackward0>) tensor(-0.7033, grad_fn=<MeanBackward0>) tensor(-5.2852e-05, grad_fn=<MeanBackward0>)\n",
      "tensor(-1.1630, grad_fn=<AddBackward0>) tensor(-1.1619, grad_fn=<MeanBackward0>) tensor(-0.0011, grad_fn=<MeanBackward0>)\n",
      "tensor(-0.4339, grad_fn=<AddBackward0>) tensor(-0.4327, grad_fn=<MeanBackward0>) tensor(-0.0012, grad_fn=<MeanBackward0>)\n",
      "tensor(-0.3903, grad_fn=<AddBackward0>) tensor(-0.3824, grad_fn=<MeanBackward0>) tensor(-0.0079, grad_fn=<MeanBackward0>)\n",
      "tensor(-0.4692, grad_fn=<AddBackward0>) tensor(-0.4553, grad_fn=<MeanBackward0>) tensor(-0.0139, grad_fn=<MeanBackward0>)\n",
      "tensor(-1.2086, grad_fn=<AddBackward0>) tensor(-1.2080, grad_fn=<MeanBackward0>) tensor(-0.0006, grad_fn=<MeanBackward0>)\n",
      "tensor(-1.9133, grad_fn=<AddBackward0>) tensor(-1.9128, grad_fn=<MeanBackward0>) tensor(-0.0005, grad_fn=<MeanBackward0>)\n",
      "tensor(-1.5125, grad_fn=<AddBackward0>) tensor(-1.3167, grad_fn=<MeanBackward0>) tensor(-0.1958, grad_fn=<MeanBackward0>)\n",
      "tensor(-1.1251, grad_fn=<AddBackward0>) tensor(-1.1247, grad_fn=<MeanBackward0>) tensor(-0.0004, grad_fn=<MeanBackward0>)\n",
      "tensor(-0.7869, grad_fn=<AddBackward0>) tensor(-0.7430, grad_fn=<MeanBackward0>) tensor(-0.0439, grad_fn=<MeanBackward0>)\n",
      "tensor(-0.4749, grad_fn=<AddBackward0>) tensor(-0.4718, grad_fn=<MeanBackward0>) tensor(-0.0031, grad_fn=<MeanBackward0>)\n",
      "tensor(-1.2887, grad_fn=<AddBackward0>) tensor(-0.3991, grad_fn=<MeanBackward0>) tensor(-0.8896, grad_fn=<MeanBackward0>)\n",
      "tensor(-0.7311, grad_fn=<AddBackward0>) tensor(-0.5099, grad_fn=<MeanBackward0>) tensor(-0.2212, grad_fn=<MeanBackward0>)\n",
      "tensor(-0.5406, grad_fn=<AddBackward0>) tensor(-0.4285, grad_fn=<MeanBackward0>) tensor(-0.1120, grad_fn=<MeanBackward0>)\n",
      "tensor(-0.5786, grad_fn=<AddBackward0>) tensor(-0.2074, grad_fn=<MeanBackward0>) tensor(-0.3712, grad_fn=<MeanBackward0>)\n",
      "tensor(-0.3478, grad_fn=<AddBackward0>) tensor(-0.1343, grad_fn=<MeanBackward0>) tensor(-0.2135, grad_fn=<MeanBackward0>)\n",
      "tensor(-2.7036, grad_fn=<AddBackward0>) tensor(-0.1048, grad_fn=<MeanBackward0>) tensor(-2.5988, grad_fn=<MeanBackward0>)\n",
      "tensor(-0.2230, grad_fn=<AddBackward0>) tensor(-0.1296, grad_fn=<MeanBackward0>) tensor(-0.0934, grad_fn=<MeanBackward0>)\n",
      "tensor(-0.3676, grad_fn=<AddBackward0>) tensor(-0.2266, grad_fn=<MeanBackward0>) tensor(-0.1410, grad_fn=<MeanBackward0>)\n",
      "tensor(-1.4239, grad_fn=<AddBackward0>) tensor(-0.4917, grad_fn=<MeanBackward0>) tensor(-0.9322, grad_fn=<MeanBackward0>)\n",
      "tensor(-1.3245, grad_fn=<AddBackward0>) tensor(-0.8554, grad_fn=<MeanBackward0>) tensor(-0.4691, grad_fn=<MeanBackward0>)\n",
      "tensor(-1.3174, grad_fn=<AddBackward0>) tensor(-0.8264, grad_fn=<MeanBackward0>) tensor(-0.4910, grad_fn=<MeanBackward0>)\n",
      "tensor(-1.3680, grad_fn=<AddBackward0>) tensor(-0.5151, grad_fn=<MeanBackward0>) tensor(-0.8530, grad_fn=<MeanBackward0>)\n",
      "tensor(-0.3872, grad_fn=<AddBackward0>) tensor(-0.3844, grad_fn=<MeanBackward0>) tensor(-0.0028, grad_fn=<MeanBackward0>)\n",
      "tensor(-4.4339, grad_fn=<AddBackward0>) tensor(-0.3276, grad_fn=<MeanBackward0>) tensor(-4.1062, grad_fn=<MeanBackward0>)\n",
      "tensor(-0.5860, grad_fn=<AddBackward0>) tensor(-0.4000, grad_fn=<MeanBackward0>) tensor(-0.1859, grad_fn=<MeanBackward0>)\n",
      "tensor(-2.0455, grad_fn=<AddBackward0>) tensor(-0.6810, grad_fn=<MeanBackward0>) tensor(-1.3645, grad_fn=<MeanBackward0>)\n",
      "tensor(-1.4332, grad_fn=<AddBackward0>) tensor(-0.8728, grad_fn=<MeanBackward0>) tensor(-0.5604, grad_fn=<MeanBackward0>)\n",
      "tensor(-0.8363, grad_fn=<AddBackward0>) tensor(-0.5573, grad_fn=<MeanBackward0>) tensor(-0.2790, grad_fn=<MeanBackward0>)\n",
      "tensor(-0.7684, grad_fn=<AddBackward0>) tensor(-0.3482, grad_fn=<MeanBackward0>) tensor(-0.4202, grad_fn=<MeanBackward0>)\n",
      "tensor(-4.4092, grad_fn=<AddBackward0>) tensor(-0.3236, grad_fn=<MeanBackward0>) tensor(-4.0856, grad_fn=<MeanBackward0>)\n",
      "tensor(-2.5023, grad_fn=<AddBackward0>) tensor(-0.4211, grad_fn=<MeanBackward0>) tensor(-2.0812, grad_fn=<MeanBackward0>)\n",
      "tensor(-1.4010, grad_fn=<AddBackward0>) tensor(-0.4799, grad_fn=<MeanBackward0>) tensor(-0.9211, grad_fn=<MeanBackward0>)\n",
      "tensor(-0.4332, grad_fn=<AddBackward0>) tensor(-0.4131, grad_fn=<MeanBackward0>) tensor(-0.0201, grad_fn=<MeanBackward0>)\n",
      "tensor(-1.5320, grad_fn=<AddBackward0>) tensor(-0.4288, grad_fn=<MeanBackward0>) tensor(-1.1032, grad_fn=<MeanBackward0>)\n",
      "tensor(-2.3669, grad_fn=<AddBackward0>) tensor(-0.4806, grad_fn=<MeanBackward0>) tensor(-1.8863, grad_fn=<MeanBackward0>)\n",
      "tensor(-2.2192, grad_fn=<AddBackward0>) tensor(-0.5428, grad_fn=<MeanBackward0>) tensor(-1.6765, grad_fn=<MeanBackward0>)\n",
      "tensor(-1.3234, grad_fn=<AddBackward0>) tensor(-0.6426, grad_fn=<MeanBackward0>) tensor(-0.6808, grad_fn=<MeanBackward0>)\n",
      "tensor(-5.7456, grad_fn=<AddBackward0>) tensor(-0.6932, grad_fn=<MeanBackward0>) tensor(-5.0524, grad_fn=<MeanBackward0>)\n",
      "tensor(-5.0391, grad_fn=<AddBackward0>) tensor(-0.7165, grad_fn=<MeanBackward0>) tensor(-4.3226, grad_fn=<MeanBackward0>)\n",
      "tensor(-0.9282, grad_fn=<AddBackward0>) tensor(-0.6924, grad_fn=<MeanBackward0>) tensor(-0.2358, grad_fn=<MeanBackward0>)\n",
      "tensor(-0.7713, grad_fn=<AddBackward0>) tensor(-0.5066, grad_fn=<MeanBackward0>) tensor(-0.2647, grad_fn=<MeanBackward0>)\n",
      "tensor(-7.4568, grad_fn=<AddBackward0>) tensor(-0.3036, grad_fn=<MeanBackward0>) tensor(-7.1532, grad_fn=<MeanBackward0>)\n",
      "tensor(-7.4253, grad_fn=<AddBackward0>) tensor(-0.1553, grad_fn=<MeanBackward0>) tensor(-7.2700, grad_fn=<MeanBackward0>)\n",
      "tensor(-0.4442, grad_fn=<AddBackward0>) tensor(-0.0882, grad_fn=<MeanBackward0>) tensor(-0.3560, grad_fn=<MeanBackward0>)\n",
      "tensor(-4.0223, grad_fn=<AddBackward0>) tensor(-0.0502, grad_fn=<MeanBackward0>) tensor(-3.9721, grad_fn=<MeanBackward0>)\n",
      "tensor(-3.6934, grad_fn=<AddBackward0>) tensor(-0.0388, grad_fn=<MeanBackward0>) tensor(-3.6546, grad_fn=<MeanBackward0>)\n",
      "tensor(-3.7203, grad_fn=<AddBackward0>) tensor(-0.0381, grad_fn=<MeanBackward0>) tensor(-3.6822, grad_fn=<MeanBackward0>)\n",
      "tensor(-0.2904, grad_fn=<AddBackward0>) tensor(-0.0398, grad_fn=<MeanBackward0>) tensor(-0.2506, grad_fn=<MeanBackward0>)\n",
      "tensor(-1.7934, grad_fn=<AddBackward0>) tensor(-0.0446, grad_fn=<MeanBackward0>) tensor(-1.7487, grad_fn=<MeanBackward0>)\n",
      "tensor(-1.7117, grad_fn=<AddBackward0>) tensor(-0.0640, grad_fn=<MeanBackward0>) tensor(-1.6477, grad_fn=<MeanBackward0>)\n",
      "tensor(-0.4120, grad_fn=<AddBackward0>) tensor(-0.0777, grad_fn=<MeanBackward0>) tensor(-0.3343, grad_fn=<MeanBackward0>)\n",
      "tensor(-0.5238, grad_fn=<AddBackward0>) tensor(-0.1051, grad_fn=<MeanBackward0>) tensor(-0.4187, grad_fn=<MeanBackward0>)\n",
      "tensor(-0.5009, grad_fn=<AddBackward0>) tensor(-0.1498, grad_fn=<MeanBackward0>) tensor(-0.3510, grad_fn=<MeanBackward0>)\n",
      "tensor(-0.6674, grad_fn=<AddBackward0>) tensor(-0.2075, grad_fn=<MeanBackward0>) tensor(-0.4599, grad_fn=<MeanBackward0>)\n",
      "tensor(-0.6070, grad_fn=<AddBackward0>) tensor(-0.2737, grad_fn=<MeanBackward0>) tensor(-0.3333, grad_fn=<MeanBackward0>)\n",
      "tensor(-0.8035, grad_fn=<AddBackward0>) tensor(-0.3379, grad_fn=<MeanBackward0>) tensor(-0.4656, grad_fn=<MeanBackward0>)\n",
      "tensor(-0.7710, grad_fn=<AddBackward0>) tensor(-0.3668, grad_fn=<MeanBackward0>) tensor(-0.4042, grad_fn=<MeanBackward0>)\n",
      "tensor(-0.8044, grad_fn=<AddBackward0>) tensor(-0.3323, grad_fn=<MeanBackward0>) tensor(-0.4720, grad_fn=<MeanBackward0>)\n",
      "tensor(-2.2247, grad_fn=<AddBackward0>) tensor(-0.2281, grad_fn=<MeanBackward0>) tensor(-1.9966, grad_fn=<MeanBackward0>)\n",
      "tensor(-0.3622, grad_fn=<AddBackward0>) tensor(-0.1724, grad_fn=<MeanBackward0>) tensor(-0.1898, grad_fn=<MeanBackward0>)\n",
      "tensor(-0.5224, grad_fn=<AddBackward0>) tensor(-0.1326, grad_fn=<MeanBackward0>) tensor(-0.3897, grad_fn=<MeanBackward0>)\n",
      "tensor(-1.7022, grad_fn=<AddBackward0>) tensor(-0.1149, grad_fn=<MeanBackward0>) tensor(-1.5873, grad_fn=<MeanBackward0>)\n",
      "tensor(-4.0731, grad_fn=<AddBackward0>) tensor(-0.1028, grad_fn=<MeanBackward0>) tensor(-3.9704, grad_fn=<MeanBackward0>)\n",
      "tensor(-0.2908, grad_fn=<AddBackward0>) tensor(-0.1119, grad_fn=<MeanBackward0>) tensor(-0.1790, grad_fn=<MeanBackward0>)\n",
      "tensor(-0.3420, grad_fn=<AddBackward0>) tensor(-0.1418, grad_fn=<MeanBackward0>) tensor(-0.2002, grad_fn=<MeanBackward0>)\n",
      "tensor(-0.3897, grad_fn=<AddBackward0>) tensor(-0.2100, grad_fn=<MeanBackward0>) tensor(-0.1796, grad_fn=<MeanBackward0>)\n",
      "tensor(-2.1817, grad_fn=<AddBackward0>) tensor(-0.3239, grad_fn=<MeanBackward0>) tensor(-1.8579, grad_fn=<MeanBackward0>)\n",
      "tensor(-1.4956, grad_fn=<AddBackward0>) tensor(-0.5631, grad_fn=<MeanBackward0>) tensor(-0.9325, grad_fn=<MeanBackward0>)\n",
      "tensor(-1.1202, grad_fn=<AddBackward0>) tensor(-0.9624, grad_fn=<MeanBackward0>) tensor(-0.1578, grad_fn=<MeanBackward0>)\n",
      "tensor(-1.6627, grad_fn=<AddBackward0>) tensor(-1.2639, grad_fn=<MeanBackward0>) tensor(-0.3988, grad_fn=<MeanBackward0>)\n",
      "tensor(-1.7818, grad_fn=<AddBackward0>) tensor(-1.3932, grad_fn=<MeanBackward0>) tensor(-0.3885, grad_fn=<MeanBackward0>)\n",
      "tensor(-2.4469, grad_fn=<AddBackward0>) tensor(-1.2667, grad_fn=<MeanBackward0>) tensor(-1.1802, grad_fn=<MeanBackward0>)\n",
      "tensor(-1.4647, grad_fn=<AddBackward0>) tensor(-1.0654, grad_fn=<MeanBackward0>) tensor(-0.3993, grad_fn=<MeanBackward0>)\n",
      "tensor(-0.9857, grad_fn=<AddBackward0>) tensor(-0.7915, grad_fn=<MeanBackward0>) tensor(-0.1942, grad_fn=<MeanBackward0>)\n",
      "tensor(-0.7849, grad_fn=<AddBackward0>) tensor(-0.5893, grad_fn=<MeanBackward0>) tensor(-0.1955, grad_fn=<MeanBackward0>)\n",
      "tensor(-0.7118, grad_fn=<AddBackward0>) tensor(-0.3929, grad_fn=<MeanBackward0>) tensor(-0.3190, grad_fn=<MeanBackward0>)\n",
      "tensor(-0.7194, grad_fn=<AddBackward0>) tensor(-0.3115, grad_fn=<MeanBackward0>) tensor(-0.4079, grad_fn=<MeanBackward0>)\n",
      "tensor(-0.3745, grad_fn=<AddBackward0>) tensor(-0.2825, grad_fn=<MeanBackward0>) tensor(-0.0920, grad_fn=<MeanBackward0>)\n",
      "tensor(-2.4762, grad_fn=<AddBackward0>) tensor(-0.2337, grad_fn=<MeanBackward0>) tensor(-2.2425, grad_fn=<MeanBackward0>)\n",
      "tensor(-2.2023, grad_fn=<AddBackward0>) tensor(-0.2164, grad_fn=<MeanBackward0>) tensor(-1.9859, grad_fn=<MeanBackward0>)\n",
      "tensor(-1.7428, grad_fn=<AddBackward0>) tensor(-0.4307, grad_fn=<MeanBackward0>) tensor(-1.3121, grad_fn=<MeanBackward0>)\n",
      "tensor(-1.0190, grad_fn=<AddBackward0>) tensor(-0.6238, grad_fn=<MeanBackward0>) tensor(-0.3952, grad_fn=<MeanBackward0>)\n",
      "tensor(-1.9599, grad_fn=<AddBackward0>) tensor(-0.6705, grad_fn=<MeanBackward0>) tensor(-1.2894, grad_fn=<MeanBackward0>)\n",
      "tensor(-1.0909, grad_fn=<AddBackward0>) tensor(-0.5415, grad_fn=<MeanBackward0>) tensor(-0.5494, grad_fn=<MeanBackward0>)\n",
      "tensor(-2.4471, grad_fn=<AddBackward0>) tensor(-0.3314, grad_fn=<MeanBackward0>) tensor(-2.1157, grad_fn=<MeanBackward0>)\n",
      "tensor(-11.9216, grad_fn=<AddBackward0>) tensor(-0.2157, grad_fn=<MeanBackward0>) tensor(-11.7058, grad_fn=<MeanBackward0>)\n",
      "tensor(-7.2589, grad_fn=<AddBackward0>) tensor(-0.1812, grad_fn=<MeanBackward0>) tensor(-7.0777, grad_fn=<MeanBackward0>)\n",
      "tensor(-0.4066, grad_fn=<AddBackward0>) tensor(-0.1513, grad_fn=<MeanBackward0>) tensor(-0.2553, grad_fn=<MeanBackward0>)\n",
      "tensor(-0.2370, grad_fn=<AddBackward0>) tensor(-0.1317, grad_fn=<MeanBackward0>) tensor(-0.1052, grad_fn=<MeanBackward0>)\n",
      "tensor(-0.9976, grad_fn=<AddBackward0>) tensor(-0.1104, grad_fn=<MeanBackward0>) tensor(-0.8872, grad_fn=<MeanBackward0>)\n",
      "tensor(-1.3543, grad_fn=<AddBackward0>) tensor(-0.0959, grad_fn=<MeanBackward0>) tensor(-1.2584, grad_fn=<MeanBackward0>)\n",
      "tensor(-5.6731, grad_fn=<AddBackward0>) tensor(-0.0928, grad_fn=<MeanBackward0>) tensor(-5.5803, grad_fn=<MeanBackward0>)\n",
      "tensor(-0.4405, grad_fn=<AddBackward0>) tensor(-0.1133, grad_fn=<MeanBackward0>) tensor(-0.3272, grad_fn=<MeanBackward0>)\n",
      "tensor(-0.7025, grad_fn=<AddBackward0>) tensor(-0.1392, grad_fn=<MeanBackward0>) tensor(-0.5634, grad_fn=<MeanBackward0>)\n",
      "tensor(-4.6567, grad_fn=<AddBackward0>) tensor(-0.1827, grad_fn=<MeanBackward0>) tensor(-4.4740, grad_fn=<MeanBackward0>)\n",
      "tensor(-4.2164, grad_fn=<AddBackward0>) tensor(-0.2478, grad_fn=<MeanBackward0>) tensor(-3.9686, grad_fn=<MeanBackward0>)\n",
      "tensor(-3.1701, grad_fn=<AddBackward0>) tensor(-0.3430, grad_fn=<MeanBackward0>) tensor(-2.8271, grad_fn=<MeanBackward0>)\n",
      "tensor(-0.5959, grad_fn=<AddBackward0>) tensor(-0.4524, grad_fn=<MeanBackward0>) tensor(-0.1435, grad_fn=<MeanBackward0>)\n",
      "tensor(-0.6982, grad_fn=<AddBackward0>) tensor(-0.5191, grad_fn=<MeanBackward0>) tensor(-0.1791, grad_fn=<MeanBackward0>)\n",
      "tensor(-0.5400, grad_fn=<AddBackward0>) tensor(-0.5320, grad_fn=<MeanBackward0>) tensor(-0.0080, grad_fn=<MeanBackward0>)\n",
      "tensor(-0.6200, grad_fn=<AddBackward0>) tensor(-0.4922, grad_fn=<MeanBackward0>) tensor(-0.1278, grad_fn=<MeanBackward0>)\n",
      "tensor(-0.4496, grad_fn=<AddBackward0>) tensor(-0.4100, grad_fn=<MeanBackward0>) tensor(-0.0396, grad_fn=<MeanBackward0>)\n",
      "tensor(-0.3370, grad_fn=<AddBackward0>) tensor(-0.3030, grad_fn=<MeanBackward0>) tensor(-0.0339, grad_fn=<MeanBackward0>)\n",
      "tensor(-0.2884, grad_fn=<AddBackward0>) tensor(-0.1913, grad_fn=<MeanBackward0>) tensor(-0.0972, grad_fn=<MeanBackward0>)\n",
      "tensor(-0.1207, grad_fn=<AddBackward0>) tensor(-0.1113, grad_fn=<MeanBackward0>) tensor(-0.0093, grad_fn=<MeanBackward0>)\n",
      "tensor(-0.0881, grad_fn=<AddBackward0>) tensor(-0.0559, grad_fn=<MeanBackward0>) tensor(-0.0322, grad_fn=<MeanBackward0>)\n",
      "tensor(-0.0280, grad_fn=<AddBackward0>) tensor(-0.0278, grad_fn=<MeanBackward0>) tensor(-0.0002, grad_fn=<MeanBackward0>)\n",
      "tensor(-5.3643, grad_fn=<AddBackward0>) tensor(-0.0194, grad_fn=<MeanBackward0>) tensor(-5.3449, grad_fn=<MeanBackward0>)\n",
      "tensor(-5.4119, grad_fn=<AddBackward0>) tensor(-0.0174, grad_fn=<MeanBackward0>) tensor(-5.3946, grad_fn=<MeanBackward0>)\n",
      "tensor(-2.9869, grad_fn=<AddBackward0>) tensor(-0.0186, grad_fn=<MeanBackward0>) tensor(-2.9683, grad_fn=<MeanBackward0>)\n",
      "tensor(-0.0391, grad_fn=<AddBackward0>) tensor(-0.0211, grad_fn=<MeanBackward0>) tensor(-0.0180, grad_fn=<MeanBackward0>)\n",
      "tensor(-0.0287, grad_fn=<AddBackward0>) tensor(-0.0258, grad_fn=<MeanBackward0>) tensor(-0.0029, grad_fn=<MeanBackward0>)\n",
      "tensor(-0.8796, grad_fn=<AddBackward0>) tensor(-0.0301, grad_fn=<MeanBackward0>) tensor(-0.8495, grad_fn=<MeanBackward0>)\n",
      "tensor(-7.7984, grad_fn=<AddBackward0>) tensor(-0.0385, grad_fn=<MeanBackward0>) tensor(-7.7599, grad_fn=<MeanBackward0>)\n",
      "tensor(-0.1187, grad_fn=<AddBackward0>) tensor(-0.0476, grad_fn=<MeanBackward0>) tensor(-0.0710, grad_fn=<MeanBackward0>)\n",
      "tensor(-0.0898, grad_fn=<AddBackward0>) tensor(-0.0555, grad_fn=<MeanBackward0>) tensor(-0.0343, grad_fn=<MeanBackward0>)\n",
      "tensor(-0.0646, grad_fn=<AddBackward0>) tensor(-0.0602, grad_fn=<MeanBackward0>) tensor(-0.0044, grad_fn=<MeanBackward0>)\n",
      "tensor(-0.1227, grad_fn=<AddBackward0>) tensor(-0.0586, grad_fn=<MeanBackward0>) tensor(-0.0640, grad_fn=<MeanBackward0>)\n",
      "tensor(-0.0575, grad_fn=<AddBackward0>) tensor(-0.0552, grad_fn=<MeanBackward0>) tensor(-0.0023, grad_fn=<MeanBackward0>)\n",
      "tensor(-0.0546, grad_fn=<AddBackward0>) tensor(-0.0545, grad_fn=<MeanBackward0>) tensor(-8.6830e-05, grad_fn=<MeanBackward0>)\n",
      "tensor(-0.0588, grad_fn=<AddBackward0>) tensor(-0.0538, grad_fn=<MeanBackward0>) tensor(-0.0050, grad_fn=<MeanBackward0>)\n",
      "tensor(-2.8206, grad_fn=<AddBackward0>) tensor(-0.0561, grad_fn=<MeanBackward0>) tensor(-2.7645, grad_fn=<MeanBackward0>)\n",
      "tensor(-2.2026, grad_fn=<AddBackward0>) tensor(-0.0594, grad_fn=<MeanBackward0>) tensor(-2.1432, grad_fn=<MeanBackward0>)\n",
      "tensor(-0.4224, grad_fn=<AddBackward0>) tensor(-0.0701, grad_fn=<MeanBackward0>) tensor(-0.3523, grad_fn=<MeanBackward0>)\n",
      "tensor(-0.0964, grad_fn=<AddBackward0>) tensor(-0.0964, grad_fn=<MeanBackward0>) tensor(-2.3445e-06, grad_fn=<MeanBackward0>)\n",
      "tensor(-0.1472, grad_fn=<AddBackward0>) tensor(-0.1425, grad_fn=<MeanBackward0>) tensor(-0.0047, grad_fn=<MeanBackward0>)\n",
      "tensor(-0.6577, grad_fn=<AddBackward0>) tensor(-0.2273, grad_fn=<MeanBackward0>) tensor(-0.4304, grad_fn=<MeanBackward0>)\n",
      "tensor(-0.4098, grad_fn=<AddBackward0>) tensor(-0.4081, grad_fn=<MeanBackward0>) tensor(-0.0017, grad_fn=<MeanBackward0>)\n",
      "tensor(-1.7452, grad_fn=<AddBackward0>) tensor(-0.6569, grad_fn=<MeanBackward0>) tensor(-1.0883, grad_fn=<MeanBackward0>)\n",
      "tensor(-2.3442, grad_fn=<AddBackward0>) tensor(-0.7324, grad_fn=<MeanBackward0>) tensor(-1.6118, grad_fn=<MeanBackward0>)\n",
      "tensor(-0.6266, grad_fn=<AddBackward0>) tensor(-0.6240, grad_fn=<MeanBackward0>) tensor(-0.0026, grad_fn=<MeanBackward0>)\n",
      "tensor(-0.3905, grad_fn=<AddBackward0>) tensor(-0.3905, grad_fn=<MeanBackward0>) tensor(-3.9736e-08, grad_fn=<MeanBackward0>)\n",
      "tensor(-0.2071, grad_fn=<AddBackward0>) tensor(-0.2007, grad_fn=<MeanBackward0>) tensor(-0.0064, grad_fn=<MeanBackward0>)\n",
      "tensor(-0.6166, grad_fn=<AddBackward0>) tensor(-0.1061, grad_fn=<MeanBackward0>) tensor(-0.5104, grad_fn=<MeanBackward0>)\n",
      "tensor(-0.7128, grad_fn=<AddBackward0>) tensor(-0.0629, grad_fn=<MeanBackward0>) tensor(-0.6499, grad_fn=<MeanBackward0>)\n",
      "tensor(-0.1346, grad_fn=<AddBackward0>) tensor(-0.0445, grad_fn=<MeanBackward0>) tensor(-0.0901, grad_fn=<MeanBackward0>)\n",
      "tensor(-0.0405, grad_fn=<AddBackward0>) tensor(-0.0400, grad_fn=<MeanBackward0>) tensor(-0.0005, grad_fn=<MeanBackward0>)\n",
      "tensor(-0.0368, grad_fn=<AddBackward0>) tensor(-0.0368, grad_fn=<MeanBackward0>) tensor(-3.6955e-06, grad_fn=<MeanBackward0>)\n",
      "tensor(-0.0443, grad_fn=<AddBackward0>) tensor(-0.0443, grad_fn=<MeanBackward0>) tensor(-3.5763e-07, grad_fn=<MeanBackward0>)\n",
      "tensor(-0.1097, grad_fn=<AddBackward0>) tensor(-0.0646, grad_fn=<MeanBackward0>) tensor(-0.0451, grad_fn=<MeanBackward0>)\n",
      "tensor(-0.0929, grad_fn=<AddBackward0>) tensor(-0.0894, grad_fn=<MeanBackward0>) tensor(-0.0035, grad_fn=<MeanBackward0>)\n",
      "tensor(-0.1490, grad_fn=<AddBackward0>) tensor(-0.1465, grad_fn=<MeanBackward0>) tensor(-0.0025, grad_fn=<MeanBackward0>)\n",
      "tensor(-0.1703, grad_fn=<AddBackward0>) tensor(-0.1686, grad_fn=<MeanBackward0>) tensor(-0.0017, grad_fn=<MeanBackward0>)\n",
      "tensor(-0.1745, grad_fn=<AddBackward0>) tensor(-0.1561, grad_fn=<MeanBackward0>) tensor(-0.0184, grad_fn=<MeanBackward0>)\n",
      "tensor(-0.1256, grad_fn=<AddBackward0>) tensor(-0.1217, grad_fn=<MeanBackward0>) tensor(-0.0038, grad_fn=<MeanBackward0>)\n",
      "tensor(-0.0825, grad_fn=<AddBackward0>) tensor(-0.0819, grad_fn=<MeanBackward0>) tensor(-0.0006, grad_fn=<MeanBackward0>)\n",
      "tensor(-0.0595, grad_fn=<AddBackward0>) tensor(-0.0584, grad_fn=<MeanBackward0>) tensor(-0.0012, grad_fn=<MeanBackward0>)\n",
      "tensor(-0.0388, grad_fn=<AddBackward0>) tensor(-0.0381, grad_fn=<MeanBackward0>) tensor(-0.0007, grad_fn=<MeanBackward0>)\n",
      "tensor(-7.3456, grad_fn=<AddBackward0>) tensor(-0.0286, grad_fn=<MeanBackward0>) tensor(-7.3170, grad_fn=<MeanBackward0>)\n",
      "tensor(-0.0257, grad_fn=<AddBackward0>) tensor(-0.0235, grad_fn=<MeanBackward0>) tensor(-0.0022, grad_fn=<MeanBackward0>)\n",
      "tensor(-0.0303, grad_fn=<AddBackward0>) tensor(-0.0203, grad_fn=<MeanBackward0>) tensor(-0.0100, grad_fn=<MeanBackward0>)\n",
      "tensor(-0.0206, grad_fn=<AddBackward0>) tensor(-0.0193, grad_fn=<MeanBackward0>) tensor(-0.0013, grad_fn=<MeanBackward0>)\n",
      "tensor(-0.0310, grad_fn=<AddBackward0>) tensor(-0.0209, grad_fn=<MeanBackward0>) tensor(-0.0101, grad_fn=<MeanBackward0>)\n",
      "tensor(-0.0347, grad_fn=<AddBackward0>) tensor(-0.0259, grad_fn=<MeanBackward0>) tensor(-0.0088, grad_fn=<MeanBackward0>)\n",
      "tensor(-0.0372, grad_fn=<AddBackward0>) tensor(-0.0372, grad_fn=<MeanBackward0>) tensor(-4.8479e-06, grad_fn=<MeanBackward0>)\n",
      "tensor(-0.0577, grad_fn=<AddBackward0>) tensor(-0.0577, grad_fn=<MeanBackward0>) tensor(-2.7658e-05, grad_fn=<MeanBackward0>)\n",
      "tensor(-0.1746, grad_fn=<AddBackward0>) tensor(-0.0923, grad_fn=<MeanBackward0>) tensor(-0.0824, grad_fn=<MeanBackward0>)\n",
      "tensor(-0.4404, grad_fn=<AddBackward0>) tensor(-0.1518, grad_fn=<MeanBackward0>) tensor(-0.2886, grad_fn=<MeanBackward0>)\n",
      "tensor(-0.2686, grad_fn=<AddBackward0>) tensor(-0.2680, grad_fn=<MeanBackward0>) tensor(-0.0007, grad_fn=<MeanBackward0>)\n",
      "tensor(-0.3623, grad_fn=<AddBackward0>) tensor(-0.3623, grad_fn=<MeanBackward0>) tensor(-1.8359e-05, grad_fn=<MeanBackward0>)\n",
      "tensor(-0.3649, grad_fn=<AddBackward0>) tensor(-0.3645, grad_fn=<MeanBackward0>) tensor(-0.0004, grad_fn=<MeanBackward0>)\n",
      "tensor(-2.9240, grad_fn=<AddBackward0>) tensor(-0.2887, grad_fn=<MeanBackward0>) tensor(-2.6353, grad_fn=<MeanBackward0>)\n",
      "tensor(-0.1978, grad_fn=<AddBackward0>) tensor(-0.1977, grad_fn=<MeanBackward0>) tensor(-8.2653e-06, grad_fn=<MeanBackward0>)\n",
      "tensor(-0.1371, grad_fn=<AddBackward0>) tensor(-0.1352, grad_fn=<MeanBackward0>) tensor(-0.0018, grad_fn=<MeanBackward0>)\n",
      "tensor(-0.1028, grad_fn=<AddBackward0>) tensor(-0.0885, grad_fn=<MeanBackward0>) tensor(-0.0143, grad_fn=<MeanBackward0>)\n",
      "tensor(-0.0780, grad_fn=<AddBackward0>) tensor(-0.0680, grad_fn=<MeanBackward0>) tensor(-0.0100, grad_fn=<MeanBackward0>)\n",
      "tensor(-0.0828, grad_fn=<AddBackward0>) tensor(-0.0822, grad_fn=<MeanBackward0>) tensor(-0.0006, grad_fn=<MeanBackward0>)\n",
      "tensor(-0.0888, grad_fn=<AddBackward0>) tensor(-0.0870, grad_fn=<MeanBackward0>) tensor(-0.0018, grad_fn=<MeanBackward0>)\n",
      "tensor(-0.9076, grad_fn=<AddBackward0>) tensor(-0.2158, grad_fn=<MeanBackward0>) tensor(-0.6918, grad_fn=<MeanBackward0>)\n",
      "tensor(-0.7530, grad_fn=<AddBackward0>) tensor(-0.7529, grad_fn=<MeanBackward0>) tensor(-0.0001, grad_fn=<MeanBackward0>)\n",
      "tensor(-1.6050, grad_fn=<AddBackward0>) tensor(-1.4464, grad_fn=<MeanBackward0>) tensor(-0.1586, grad_fn=<MeanBackward0>)\n",
      "tensor(-1.4848, grad_fn=<AddBackward0>) tensor(-1.4672, grad_fn=<MeanBackward0>) tensor(-0.0176, grad_fn=<MeanBackward0>)\n",
      "tensor(-7.2642, grad_fn=<AddBackward0>) tensor(-0.8734, grad_fn=<MeanBackward0>) tensor(-6.3908, grad_fn=<MeanBackward0>)\n",
      "tensor(-4.9194, grad_fn=<AddBackward0>) tensor(-0.3303, grad_fn=<MeanBackward0>) tensor(-4.5891, grad_fn=<MeanBackward0>)\n",
      "tensor(-0.2631, grad_fn=<AddBackward0>) tensor(-0.1185, grad_fn=<MeanBackward0>) tensor(-0.1446, grad_fn=<MeanBackward0>)\n",
      "tensor(-0.0628, grad_fn=<AddBackward0>) tensor(-0.0628, grad_fn=<MeanBackward0>) tensor(-8.9408e-06, grad_fn=<MeanBackward0>)\n",
      "tensor(-2.3709, grad_fn=<AddBackward0>) tensor(-0.0412, grad_fn=<MeanBackward0>) tensor(-2.3297, grad_fn=<MeanBackward0>)\n",
      "tensor(-1.0533, grad_fn=<AddBackward0>) tensor(-0.0427, grad_fn=<MeanBackward0>) tensor(-1.0106, grad_fn=<MeanBackward0>)\n",
      "tensor(-3.5137, grad_fn=<AddBackward0>) tensor(-0.0687, grad_fn=<MeanBackward0>) tensor(-3.4450, grad_fn=<MeanBackward0>)\n",
      "tensor(-2.3372, grad_fn=<AddBackward0>) tensor(-0.1286, grad_fn=<MeanBackward0>) tensor(-2.2086, grad_fn=<MeanBackward0>)\n",
      "tensor(-0.2295, grad_fn=<AddBackward0>) tensor(-0.2280, grad_fn=<MeanBackward0>) tensor(-0.0014, grad_fn=<MeanBackward0>)\n",
      "tensor(-0.6490, grad_fn=<AddBackward0>) tensor(-0.3164, grad_fn=<MeanBackward0>) tensor(-0.3327, grad_fn=<MeanBackward0>)\n",
      "tensor(-0.3672, grad_fn=<AddBackward0>) tensor(-0.3649, grad_fn=<MeanBackward0>) tensor(-0.0023, grad_fn=<MeanBackward0>)\n",
      "tensor(-1.3701, grad_fn=<AddBackward0>) tensor(-0.3200, grad_fn=<MeanBackward0>) tensor(-1.0501, grad_fn=<MeanBackward0>)\n",
      "tensor(-0.3359, grad_fn=<AddBackward0>) tensor(-0.2560, grad_fn=<MeanBackward0>) tensor(-0.0799, grad_fn=<MeanBackward0>)\n",
      "tensor(-1.7228, grad_fn=<AddBackward0>) tensor(-0.1743, grad_fn=<MeanBackward0>) tensor(-1.5485, grad_fn=<MeanBackward0>)\n",
      "tensor(-0.1202, grad_fn=<AddBackward0>) tensor(-0.1165, grad_fn=<MeanBackward0>) tensor(-0.0037, grad_fn=<MeanBackward0>)\n",
      "tensor(-0.9575, grad_fn=<AddBackward0>) tensor(-0.0762, grad_fn=<MeanBackward0>) tensor(-0.8813, grad_fn=<MeanBackward0>)\n",
      "tensor(-3.1842, grad_fn=<AddBackward0>) tensor(-0.0483, grad_fn=<MeanBackward0>) tensor(-3.1359, grad_fn=<MeanBackward0>)\n",
      "tensor(-0.0391, grad_fn=<AddBackward0>) tensor(-0.0369, grad_fn=<MeanBackward0>) tensor(-0.0022, grad_fn=<MeanBackward0>)\n",
      "tensor(-1.7563, grad_fn=<AddBackward0>) tensor(-0.0297, grad_fn=<MeanBackward0>) tensor(-1.7266, grad_fn=<MeanBackward0>)\n",
      "tensor(-0.2568, grad_fn=<AddBackward0>) tensor(-0.0287, grad_fn=<MeanBackward0>) tensor(-0.2281, grad_fn=<MeanBackward0>)\n",
      "tensor(-0.0441, grad_fn=<AddBackward0>) tensor(-0.0308, grad_fn=<MeanBackward0>) tensor(-0.0133, grad_fn=<MeanBackward0>)\n",
      "tensor(-1.8885, grad_fn=<AddBackward0>) tensor(-0.0373, grad_fn=<MeanBackward0>) tensor(-1.8512, grad_fn=<MeanBackward0>)\n",
      "tensor(-0.0550, grad_fn=<AddBackward0>) tensor(-0.0532, grad_fn=<MeanBackward0>) tensor(-0.0017, grad_fn=<MeanBackward0>)\n",
      "tensor(-0.8180, grad_fn=<AddBackward0>) tensor(-0.0784, grad_fn=<MeanBackward0>) tensor(-0.7396, grad_fn=<MeanBackward0>)\n",
      "tensor(-0.1246, grad_fn=<AddBackward0>) tensor(-0.1244, grad_fn=<MeanBackward0>) tensor(-0.0002, grad_fn=<MeanBackward0>)\n",
      "tensor(-0.1860, grad_fn=<AddBackward0>) tensor(-0.1859, grad_fn=<MeanBackward0>) tensor(-4.4864e-05, grad_fn=<MeanBackward0>)\n",
      "tensor(-3.6718, grad_fn=<AddBackward0>) tensor(-0.2470, grad_fn=<MeanBackward0>) tensor(-3.4248, grad_fn=<MeanBackward0>)\n",
      "tensor(-0.7359, grad_fn=<AddBackward0>) tensor(-0.3230, grad_fn=<MeanBackward0>) tensor(-0.4128, grad_fn=<MeanBackward0>)\n",
      "tensor(-1.0090, grad_fn=<AddBackward0>) tensor(-0.3360, grad_fn=<MeanBackward0>) tensor(-0.6730, grad_fn=<MeanBackward0>)\n",
      "tensor(-0.3357, grad_fn=<AddBackward0>) tensor(-0.3126, grad_fn=<MeanBackward0>) tensor(-0.0231, grad_fn=<MeanBackward0>)\n",
      "tensor(-0.2727, grad_fn=<AddBackward0>) tensor(-0.2605, grad_fn=<MeanBackward0>) tensor(-0.0123, grad_fn=<MeanBackward0>)\n",
      "tensor(-0.2229, grad_fn=<AddBackward0>) tensor(-0.2039, grad_fn=<MeanBackward0>) tensor(-0.0190, grad_fn=<MeanBackward0>)\n",
      "tensor(-0.1632, grad_fn=<AddBackward0>) tensor(-0.1632, grad_fn=<MeanBackward0>) tensor(-1.2040e-05, grad_fn=<MeanBackward0>)\n",
      "tensor(-0.3584, grad_fn=<AddBackward0>) tensor(-0.1378, grad_fn=<MeanBackward0>) tensor(-0.2206, grad_fn=<MeanBackward0>)\n",
      "tensor(-0.1289, grad_fn=<AddBackward0>) tensor(-0.1211, grad_fn=<MeanBackward0>) tensor(-0.0078, grad_fn=<MeanBackward0>)\n",
      "tensor(-0.1113, grad_fn=<AddBackward0>) tensor(-0.1113, grad_fn=<MeanBackward0>) tensor(-2.4160e-05, grad_fn=<MeanBackward0>)\n",
      "tensor(-0.1085, grad_fn=<AddBackward0>) tensor(-0.1081, grad_fn=<MeanBackward0>) tensor(-0.0004, grad_fn=<MeanBackward0>)\n",
      "tensor(-0.1602, grad_fn=<AddBackward0>) tensor(-0.1271, grad_fn=<MeanBackward0>) tensor(-0.0330, grad_fn=<MeanBackward0>)\n",
      "tensor(-0.4221, grad_fn=<AddBackward0>) tensor(-0.1882, grad_fn=<MeanBackward0>) tensor(-0.2339, grad_fn=<MeanBackward0>)\n",
      "tensor(-0.3333, grad_fn=<AddBackward0>) tensor(-0.3221, grad_fn=<MeanBackward0>) tensor(-0.0112, grad_fn=<MeanBackward0>)\n",
      "tensor(-0.6449, grad_fn=<AddBackward0>) tensor(-0.4893, grad_fn=<MeanBackward0>) tensor(-0.1556, grad_fn=<MeanBackward0>)\n",
      "tensor(-0.6478, grad_fn=<AddBackward0>) tensor(-0.6348, grad_fn=<MeanBackward0>) tensor(-0.0130, grad_fn=<MeanBackward0>)\n",
      "tensor(-3.0881, grad_fn=<AddBackward0>) tensor(-0.6859, grad_fn=<MeanBackward0>) tensor(-2.4022, grad_fn=<MeanBackward0>)\n",
      "tensor(-0.6268, grad_fn=<AddBackward0>) tensor(-0.6007, grad_fn=<MeanBackward0>) tensor(-0.0261, grad_fn=<MeanBackward0>)\n",
      "tensor(-0.4683, grad_fn=<AddBackward0>) tensor(-0.4636, grad_fn=<MeanBackward0>) tensor(-0.0047, grad_fn=<MeanBackward0>)\n",
      "tensor(-0.3532, grad_fn=<AddBackward0>) tensor(-0.3349, grad_fn=<MeanBackward0>) tensor(-0.0183, grad_fn=<MeanBackward0>)\n",
      "tensor(-0.2490, grad_fn=<AddBackward0>) tensor(-0.2490, grad_fn=<MeanBackward0>) tensor(-6.1895e-05, grad_fn=<MeanBackward0>)\n",
      "tensor(-1.5843, grad_fn=<AddBackward0>) tensor(-0.1976, grad_fn=<MeanBackward0>) tensor(-1.3867, grad_fn=<MeanBackward0>)\n",
      "tensor(-0.1969, grad_fn=<AddBackward0>) tensor(-0.1842, grad_fn=<MeanBackward0>) tensor(-0.0127, grad_fn=<MeanBackward0>)\n",
      "tensor(-0.7168, grad_fn=<AddBackward0>) tensor(-0.1886, grad_fn=<MeanBackward0>) tensor(-0.5282, grad_fn=<MeanBackward0>)\n",
      "tensor(-0.2745, grad_fn=<AddBackward0>) tensor(-0.2036, grad_fn=<MeanBackward0>) tensor(-0.0708, grad_fn=<MeanBackward0>)\n",
      "tensor(-2.7609, grad_fn=<AddBackward0>) tensor(-0.2366, grad_fn=<MeanBackward0>) tensor(-2.5243, grad_fn=<MeanBackward0>)\n",
      "tensor(-0.2679, grad_fn=<AddBackward0>) tensor(-0.2648, grad_fn=<MeanBackward0>) tensor(-0.0031, grad_fn=<MeanBackward0>)\n",
      "tensor(-0.2801, grad_fn=<AddBackward0>) tensor(-0.2664, grad_fn=<MeanBackward0>) tensor(-0.0137, grad_fn=<MeanBackward0>)\n",
      "tensor(-3.0001, grad_fn=<AddBackward0>) tensor(-0.2827, grad_fn=<MeanBackward0>) tensor(-2.7174, grad_fn=<MeanBackward0>)\n",
      "tensor(-0.3606, grad_fn=<AddBackward0>) tensor(-0.3176, grad_fn=<MeanBackward0>) tensor(-0.0430, grad_fn=<MeanBackward0>)\n",
      "tensor(-0.5596, grad_fn=<AddBackward0>) tensor(-0.3590, grad_fn=<MeanBackward0>) tensor(-0.2006, grad_fn=<MeanBackward0>)\n",
      "tensor(-0.4688, grad_fn=<AddBackward0>) tensor(-0.4520, grad_fn=<MeanBackward0>) tensor(-0.0168, grad_fn=<MeanBackward0>)\n",
      "tensor(-0.6505, grad_fn=<AddBackward0>) tensor(-0.6382, grad_fn=<MeanBackward0>) tensor(-0.0123, grad_fn=<MeanBackward0>)\n",
      "tensor(-5.4254, grad_fn=<AddBackward0>) tensor(-0.9863, grad_fn=<MeanBackward0>) tensor(-4.4390, grad_fn=<MeanBackward0>)\n",
      "tensor(-1.7216, grad_fn=<AddBackward0>) tensor(-1.7216, grad_fn=<MeanBackward0>) tensor(-1.3113e-06, grad_fn=<MeanBackward0>)\n",
      "tensor(-3.0064, grad_fn=<AddBackward0>) tensor(-2.4956, grad_fn=<MeanBackward0>) tensor(-0.5108, grad_fn=<MeanBackward0>)\n",
      "tensor(-6.5322, grad_fn=<AddBackward0>) tensor(-3.3285, grad_fn=<MeanBackward0>) tensor(-3.2037, grad_fn=<MeanBackward0>)\n",
      "tensor(-5.2981, grad_fn=<AddBackward0>) tensor(-5.1445, grad_fn=<MeanBackward0>) tensor(-0.1536, grad_fn=<MeanBackward0>)\n",
      "tensor(-8.4402, grad_fn=<AddBackward0>) tensor(-7.1816, grad_fn=<MeanBackward0>) tensor(-1.2586, grad_fn=<MeanBackward0>)\n",
      "tensor(-8.2478, grad_fn=<AddBackward0>) tensor(-8.1914, grad_fn=<MeanBackward0>) tensor(-0.0564, grad_fn=<MeanBackward0>)\n",
      "tensor(-12.2230, grad_fn=<AddBackward0>) tensor(-7.9152, grad_fn=<MeanBackward0>) tensor(-4.3078, grad_fn=<MeanBackward0>)\n",
      "tensor(-5.9170, grad_fn=<AddBackward0>) tensor(-5.8771, grad_fn=<MeanBackward0>) tensor(-0.0398, grad_fn=<MeanBackward0>)\n",
      "tensor(-1.3483, grad_fn=<AddBackward0>) tensor(-1.0634, grad_fn=<MeanBackward0>) tensor(-0.2849, grad_fn=<MeanBackward0>)\n",
      "tensor(-5.6727, grad_fn=<AddBackward0>) tensor(-0.0008, grad_fn=<MeanBackward0>) tensor(-5.6719, grad_fn=<MeanBackward0>)\n",
      "tensor(-1.6603, grad_fn=<AddBackward0>) tensor(5.0862e-06, grad_fn=<MeanBackward0>) tensor(-1.6604, grad_fn=<MeanBackward0>)\n",
      "tensor(-0.6926, grad_fn=<AddBackward0>) tensor(9.6559e-06, grad_fn=<MeanBackward0>) tensor(-0.6926, grad_fn=<MeanBackward0>)\n",
      "tensor(-3.8360, grad_fn=<AddBackward0>) tensor(9.8943e-06, grad_fn=<MeanBackward0>) tensor(-3.8360, grad_fn=<MeanBackward0>)\n",
      "tensor(-2.7708, grad_fn=<AddBackward0>) tensor(9.8943e-06, grad_fn=<MeanBackward0>) tensor(-2.7708, grad_fn=<MeanBackward0>)\n",
      "tensor(-4.2873, grad_fn=<AddBackward0>) tensor(9.8943e-06, grad_fn=<MeanBackward0>) tensor(-4.2873, grad_fn=<MeanBackward0>)\n",
      "tensor(-8.7402, grad_fn=<AddBackward0>) tensor(9.8943e-06, grad_fn=<MeanBackward0>) tensor(-8.7402, grad_fn=<MeanBackward0>)\n",
      "tensor(-6.7087, grad_fn=<AddBackward0>) tensor(9.8943e-06, grad_fn=<MeanBackward0>) tensor(-6.7088, grad_fn=<MeanBackward0>)\n",
      "tensor(-5.5417, grad_fn=<AddBackward0>) tensor(9.8943e-06, grad_fn=<MeanBackward0>) tensor(-5.5417, grad_fn=<MeanBackward0>)\n",
      "tensor(-7.0015, grad_fn=<AddBackward0>) tensor(9.8943e-06, grad_fn=<MeanBackward0>) tensor(-7.0015, grad_fn=<MeanBackward0>)\n",
      "tensor(-1.3198, grad_fn=<AddBackward0>) tensor(9.7751e-06, grad_fn=<MeanBackward0>) tensor(-1.3199, grad_fn=<MeanBackward0>)\n",
      "tensor(-3.1851, grad_fn=<AddBackward0>) tensor(9.5367e-06, grad_fn=<MeanBackward0>) tensor(-3.1852, grad_fn=<MeanBackward0>)\n",
      "tensor(-5.8274, grad_fn=<AddBackward0>) tensor(8.7022e-06, grad_fn=<MeanBackward0>) tensor(-5.8274, grad_fn=<MeanBackward0>)\n",
      "tensor(-0.3048, grad_fn=<AddBackward0>) tensor(5.6823e-06, grad_fn=<MeanBackward0>) tensor(-0.3048, grad_fn=<MeanBackward0>)\n",
      "tensor(-6.0916, grad_fn=<AddBackward0>) tensor(-6.5764e-06, grad_fn=<MeanBackward0>) tensor(-6.0916, grad_fn=<MeanBackward0>)\n",
      "tensor(-0.5512, grad_fn=<AddBackward0>) tensor(-8.0092e-05, grad_fn=<MeanBackward0>) tensor(-0.5511, grad_fn=<MeanBackward0>)\n",
      "tensor(-7.3706, grad_fn=<AddBackward0>) tensor(-0.0006, grad_fn=<MeanBackward0>) tensor(-7.3700, grad_fn=<MeanBackward0>)\n",
      "tensor(-0.2903, grad_fn=<AddBackward0>) tensor(-0.0052, grad_fn=<MeanBackward0>) tensor(-0.2851, grad_fn=<MeanBackward0>)\n",
      "tensor(-0.1344, grad_fn=<AddBackward0>) tensor(-0.0357, grad_fn=<MeanBackward0>) tensor(-0.0986, grad_fn=<MeanBackward0>)\n",
      "tensor(-3.9231, grad_fn=<AddBackward0>) tensor(-0.1705, grad_fn=<MeanBackward0>) tensor(-3.7526, grad_fn=<MeanBackward0>)\n",
      "tensor(-2.1060, grad_fn=<AddBackward0>) tensor(-0.5771, grad_fn=<MeanBackward0>) tensor(-1.5289, grad_fn=<MeanBackward0>)\n",
      "tensor(-1.1238, grad_fn=<AddBackward0>) tensor(-1.1037, grad_fn=<MeanBackward0>) tensor(-0.0201, grad_fn=<MeanBackward0>)\n",
      "tensor(-2.8843, grad_fn=<AddBackward0>) tensor(-1.3093, grad_fn=<MeanBackward0>) tensor(-1.5750, grad_fn=<MeanBackward0>)\n",
      "tensor(-2.4761, grad_fn=<AddBackward0>) tensor(-1.1814, grad_fn=<MeanBackward0>) tensor(-1.2947, grad_fn=<MeanBackward0>)\n",
      "tensor(-0.9500, grad_fn=<AddBackward0>) tensor(-0.8661, grad_fn=<MeanBackward0>) tensor(-0.0839, grad_fn=<MeanBackward0>)\n",
      "tensor(-1.5379, grad_fn=<AddBackward0>) tensor(-0.5201, grad_fn=<MeanBackward0>) tensor(-1.0178, grad_fn=<MeanBackward0>)\n",
      "tensor(-0.5385, grad_fn=<AddBackward0>) tensor(-0.2825, grad_fn=<MeanBackward0>) tensor(-0.2560, grad_fn=<MeanBackward0>)\n",
      "tensor(-0.5292, grad_fn=<AddBackward0>) tensor(-0.1549, grad_fn=<MeanBackward0>) tensor(-0.3742, grad_fn=<MeanBackward0>)\n",
      "tensor(-1.0924, grad_fn=<AddBackward0>) tensor(-0.0956, grad_fn=<MeanBackward0>) tensor(-0.9968, grad_fn=<MeanBackward0>)\n",
      "tensor(-0.0722, grad_fn=<AddBackward0>) tensor(-0.0698, grad_fn=<MeanBackward0>) tensor(-0.0025, grad_fn=<MeanBackward0>)\n",
      "tensor(-0.5400, grad_fn=<AddBackward0>) tensor(-0.0604, grad_fn=<MeanBackward0>) tensor(-0.4796, grad_fn=<MeanBackward0>)\n",
      "tensor(-0.2087, grad_fn=<AddBackward0>) tensor(-0.0668, grad_fn=<MeanBackward0>) tensor(-0.1419, grad_fn=<MeanBackward0>)\n",
      "tensor(-0.2912, grad_fn=<AddBackward0>) tensor(-0.0869, grad_fn=<MeanBackward0>) tensor(-0.2043, grad_fn=<MeanBackward0>)\n",
      "tensor(-0.2222, grad_fn=<AddBackward0>) tensor(-0.1292, grad_fn=<MeanBackward0>) tensor(-0.0930, grad_fn=<MeanBackward0>)\n",
      "tensor(-0.4956, grad_fn=<AddBackward0>) tensor(-0.1956, grad_fn=<MeanBackward0>) tensor(-0.3000, grad_fn=<MeanBackward0>)\n",
      "tensor(-0.2792, grad_fn=<AddBackward0>) tensor(-0.2744, grad_fn=<MeanBackward0>) tensor(-0.0048, grad_fn=<MeanBackward0>)\n",
      "tensor(-0.3597, grad_fn=<AddBackward0>) tensor(-0.3539, grad_fn=<MeanBackward0>) tensor(-0.0058, grad_fn=<MeanBackward0>)\n",
      "tensor(-0.4484, grad_fn=<AddBackward0>) tensor(-0.4201, grad_fn=<MeanBackward0>) tensor(-0.0283, grad_fn=<MeanBackward0>)\n",
      "tensor(-0.7605, grad_fn=<AddBackward0>) tensor(-0.4439, grad_fn=<MeanBackward0>) tensor(-0.3165, grad_fn=<MeanBackward0>)\n",
      "tensor(-3.0427, grad_fn=<AddBackward0>) tensor(-0.4663, grad_fn=<MeanBackward0>) tensor(-2.5764, grad_fn=<MeanBackward0>)\n",
      "tensor(-0.4491, grad_fn=<AddBackward0>) tensor(-0.4444, grad_fn=<MeanBackward0>) tensor(-0.0047, grad_fn=<MeanBackward0>)\n",
      "tensor(-0.3709, grad_fn=<AddBackward0>) tensor(-0.3681, grad_fn=<MeanBackward0>) tensor(-0.0028, grad_fn=<MeanBackward0>)\n",
      "tensor(-0.7054, grad_fn=<AddBackward0>) tensor(-0.2853, grad_fn=<MeanBackward0>) tensor(-0.4201, grad_fn=<MeanBackward0>)\n",
      "tensor(-1.4169, grad_fn=<AddBackward0>) tensor(-0.2137, grad_fn=<MeanBackward0>) tensor(-1.2032, grad_fn=<MeanBackward0>)\n",
      "tensor(-0.1670, grad_fn=<AddBackward0>) tensor(-0.1659, grad_fn=<MeanBackward0>) tensor(-0.0011, grad_fn=<MeanBackward0>)\n",
      "tensor(-1.0729, grad_fn=<AddBackward0>) tensor(-0.1285, grad_fn=<MeanBackward0>) tensor(-0.9443, grad_fn=<MeanBackward0>)\n",
      "tensor(-1.0582, grad_fn=<AddBackward0>) tensor(-0.1071, grad_fn=<MeanBackward0>) tensor(-0.9510, grad_fn=<MeanBackward0>)\n",
      "tensor(-0.0936, grad_fn=<AddBackward0>) tensor(-0.0936, grad_fn=<MeanBackward0>) tensor(-3.5765e-05, grad_fn=<MeanBackward0>)\n",
      "tensor(-0.0868, grad_fn=<AddBackward0>) tensor(-0.0854, grad_fn=<MeanBackward0>) tensor(-0.0014, grad_fn=<MeanBackward0>)\n",
      "tensor(-0.0864, grad_fn=<AddBackward0>) tensor(-0.0782, grad_fn=<MeanBackward0>) tensor(-0.0082, grad_fn=<MeanBackward0>)\n",
      "tensor(-0.1082, grad_fn=<AddBackward0>) tensor(-0.0736, grad_fn=<MeanBackward0>) tensor(-0.0346, grad_fn=<MeanBackward0>)\n",
      "tensor(-0.0750, grad_fn=<AddBackward0>) tensor(-0.0712, grad_fn=<MeanBackward0>) tensor(-0.0038, grad_fn=<MeanBackward0>)\n",
      "tensor(-0.1429, grad_fn=<AddBackward0>) tensor(-0.0698, grad_fn=<MeanBackward0>) tensor(-0.0731, grad_fn=<MeanBackward0>)\n",
      "tensor(-0.0785, grad_fn=<AddBackward0>) tensor(-0.0691, grad_fn=<MeanBackward0>) tensor(-0.0094, grad_fn=<MeanBackward0>)\n",
      "tensor(-1.5789, grad_fn=<AddBackward0>) tensor(-0.0687, grad_fn=<MeanBackward0>) tensor(-1.5102, grad_fn=<MeanBackward0>)\n",
      "tensor(-0.0714, grad_fn=<AddBackward0>) tensor(-0.0712, grad_fn=<MeanBackward0>) tensor(-0.0002, grad_fn=<MeanBackward0>)\n",
      "tensor(-0.0703, grad_fn=<AddBackward0>) tensor(-0.0702, grad_fn=<MeanBackward0>) tensor(-9.7145e-05, grad_fn=<MeanBackward0>)\n",
      "tensor(-0.0874, grad_fn=<AddBackward0>) tensor(-0.0676, grad_fn=<MeanBackward0>) tensor(-0.0198, grad_fn=<MeanBackward0>)\n",
      "tensor(-0.1582, grad_fn=<AddBackward0>) tensor(-0.0653, grad_fn=<MeanBackward0>) tensor(-0.0928, grad_fn=<MeanBackward0>)\n",
      "tensor(-1.7689, grad_fn=<AddBackward0>) tensor(-0.0642, grad_fn=<MeanBackward0>) tensor(-1.7047, grad_fn=<MeanBackward0>)\n",
      "tensor(-0.5710, grad_fn=<AddBackward0>) tensor(-0.0655, grad_fn=<MeanBackward0>) tensor(-0.5055, grad_fn=<MeanBackward0>)\n",
      "tensor(-0.1900, grad_fn=<AddBackward0>) tensor(-0.0715, grad_fn=<MeanBackward0>) tensor(-0.1185, grad_fn=<MeanBackward0>)\n",
      "tensor(-0.0774, grad_fn=<AddBackward0>) tensor(-0.0772, grad_fn=<MeanBackward0>) tensor(-0.0002, grad_fn=<MeanBackward0>)\n",
      "tensor(-0.0940, grad_fn=<AddBackward0>) tensor(-0.0897, grad_fn=<MeanBackward0>) tensor(-0.0043, grad_fn=<MeanBackward0>)\n",
      "tensor(-0.1003, grad_fn=<AddBackward0>) tensor(-0.0993, grad_fn=<MeanBackward0>) tensor(-0.0011, grad_fn=<MeanBackward0>)\n",
      "tensor(-0.1198, grad_fn=<AddBackward0>) tensor(-0.1180, grad_fn=<MeanBackward0>) tensor(-0.0019, grad_fn=<MeanBackward0>)\n",
      "tensor(-0.1768, grad_fn=<AddBackward0>) tensor(-0.1437, grad_fn=<MeanBackward0>) tensor(-0.0331, grad_fn=<MeanBackward0>)\n",
      "tensor(-0.1831, grad_fn=<AddBackward0>) tensor(-0.1816, grad_fn=<MeanBackward0>) tensor(-0.0015, grad_fn=<MeanBackward0>)\n",
      "tensor(-0.2545, grad_fn=<AddBackward0>) tensor(-0.2436, grad_fn=<MeanBackward0>) tensor(-0.0109, grad_fn=<MeanBackward0>)\n",
      "tensor(-0.3397, grad_fn=<AddBackward0>) tensor(-0.3348, grad_fn=<MeanBackward0>) tensor(-0.0049, grad_fn=<MeanBackward0>)\n",
      "tensor(-0.4836, grad_fn=<AddBackward0>) tensor(-0.4768, grad_fn=<MeanBackward0>) tensor(-0.0068, grad_fn=<MeanBackward0>)\n",
      "tensor(-3.7994, grad_fn=<AddBackward0>) tensor(-0.7262, grad_fn=<MeanBackward0>) tensor(-3.0731, grad_fn=<MeanBackward0>)\n",
      "tensor(-1.0361, grad_fn=<AddBackward0>) tensor(-1.0130, grad_fn=<MeanBackward0>) tensor(-0.0231, grad_fn=<MeanBackward0>)\n",
      "tensor(-1.5212, grad_fn=<AddBackward0>) tensor(-1.3458, grad_fn=<MeanBackward0>) tensor(-0.1754, grad_fn=<MeanBackward0>)\n",
      "tensor(-2.0085, grad_fn=<AddBackward0>) tensor(-1.6315, grad_fn=<MeanBackward0>) tensor(-0.3771, grad_fn=<MeanBackward0>)\n",
      "tensor(-1.8249, grad_fn=<AddBackward0>) tensor(-1.8126, grad_fn=<MeanBackward0>) tensor(-0.0123, grad_fn=<MeanBackward0>)\n",
      "tensor(-2.0440, grad_fn=<AddBackward0>) tensor(-2.0140, grad_fn=<MeanBackward0>) tensor(-0.0300, grad_fn=<MeanBackward0>)\n",
      "tensor(-1.9282, grad_fn=<AddBackward0>) tensor(-1.9156, grad_fn=<MeanBackward0>) tensor(-0.0127, grad_fn=<MeanBackward0>)\n",
      "tensor(-1.7450, grad_fn=<AddBackward0>) tensor(-1.7363, grad_fn=<MeanBackward0>) tensor(-0.0087, grad_fn=<MeanBackward0>)\n",
      "tensor(-1.6964, grad_fn=<AddBackward0>) tensor(-1.4440, grad_fn=<MeanBackward0>) tensor(-0.2524, grad_fn=<MeanBackward0>)\n",
      "tensor(-1.7009, grad_fn=<AddBackward0>) tensor(-1.1070, grad_fn=<MeanBackward0>) tensor(-0.5939, grad_fn=<MeanBackward0>)\n",
      "tensor(-2.3886, grad_fn=<AddBackward0>) tensor(-0.8205, grad_fn=<MeanBackward0>) tensor(-1.5682, grad_fn=<MeanBackward0>)\n",
      "tensor(-2.0995, grad_fn=<AddBackward0>) tensor(-0.6548, grad_fn=<MeanBackward0>) tensor(-1.4447, grad_fn=<MeanBackward0>)\n",
      "tensor(-0.7451, grad_fn=<AddBackward0>) tensor(-0.4101, grad_fn=<MeanBackward0>) tensor(-0.3350, grad_fn=<MeanBackward0>)\n",
      "tensor(-1.4370, grad_fn=<AddBackward0>) tensor(-0.1879, grad_fn=<MeanBackward0>) tensor(-1.2491, grad_fn=<MeanBackward0>)\n",
      "tensor(-0.5132, grad_fn=<AddBackward0>) tensor(-0.0873, grad_fn=<MeanBackward0>) tensor(-0.4259, grad_fn=<MeanBackward0>)\n",
      "tensor(-0.5557, grad_fn=<AddBackward0>) tensor(-0.0468, grad_fn=<MeanBackward0>) tensor(-0.5089, grad_fn=<MeanBackward0>)\n",
      "tensor(-2.0678, grad_fn=<AddBackward0>) tensor(-0.0354, grad_fn=<MeanBackward0>) tensor(-2.0324, grad_fn=<MeanBackward0>)\n",
      "tensor(-1.2951, grad_fn=<AddBackward0>) tensor(-0.0408, grad_fn=<MeanBackward0>) tensor(-1.2543, grad_fn=<MeanBackward0>)\n",
      "tensor(-1.0700, grad_fn=<AddBackward0>) tensor(-0.0733, grad_fn=<MeanBackward0>) tensor(-0.9968, grad_fn=<MeanBackward0>)\n",
      "tensor(-0.3114, grad_fn=<AddBackward0>) tensor(-0.1165, grad_fn=<MeanBackward0>) tensor(-0.1949, grad_fn=<MeanBackward0>)\n",
      "tensor(-0.9241, grad_fn=<AddBackward0>) tensor(-0.1384, grad_fn=<MeanBackward0>) tensor(-0.7857, grad_fn=<MeanBackward0>)\n",
      "tensor(-0.6665, grad_fn=<AddBackward0>) tensor(-0.1525, grad_fn=<MeanBackward0>) tensor(-0.5140, grad_fn=<MeanBackward0>)\n",
      "tensor(-0.3393, grad_fn=<AddBackward0>) tensor(-0.1612, grad_fn=<MeanBackward0>) tensor(-0.1781, grad_fn=<MeanBackward0>)\n",
      "tensor(-0.7296, grad_fn=<AddBackward0>) tensor(-0.1694, grad_fn=<MeanBackward0>) tensor(-0.5603, grad_fn=<MeanBackward0>)\n",
      "tensor(-0.2131, grad_fn=<AddBackward0>) tensor(-0.1787, grad_fn=<MeanBackward0>) tensor(-0.0344, grad_fn=<MeanBackward0>)\n",
      "tensor(-0.2620, grad_fn=<AddBackward0>) tensor(-0.1851, grad_fn=<MeanBackward0>) tensor(-0.0770, grad_fn=<MeanBackward0>)\n",
      "tensor(-0.1984, grad_fn=<AddBackward0>) tensor(-0.1915, grad_fn=<MeanBackward0>) tensor(-0.0069, grad_fn=<MeanBackward0>)\n",
      "tensor(-0.6936, grad_fn=<AddBackward0>) tensor(-0.2017, grad_fn=<MeanBackward0>) tensor(-0.4919, grad_fn=<MeanBackward0>)\n",
      "tensor(-1.5896, grad_fn=<AddBackward0>) tensor(-0.2257, grad_fn=<MeanBackward0>) tensor(-1.3640, grad_fn=<MeanBackward0>)\n",
      "tensor(-0.3572, grad_fn=<AddBackward0>) tensor(-0.2622, grad_fn=<MeanBackward0>) tensor(-0.0950, grad_fn=<MeanBackward0>)\n",
      "tensor(-0.5879, grad_fn=<AddBackward0>) tensor(-0.2873, grad_fn=<MeanBackward0>) tensor(-0.3006, grad_fn=<MeanBackward0>)\n",
      "tensor(-1.5332, grad_fn=<AddBackward0>) tensor(-0.2894, grad_fn=<MeanBackward0>) tensor(-1.2438, grad_fn=<MeanBackward0>)\n",
      "tensor(-1.3355, grad_fn=<AddBackward0>) tensor(-0.2458, grad_fn=<MeanBackward0>) tensor(-1.0897, grad_fn=<MeanBackward0>)\n",
      "tensor(-0.6936, grad_fn=<AddBackward0>) tensor(-0.2043, grad_fn=<MeanBackward0>) tensor(-0.4893, grad_fn=<MeanBackward0>)\n",
      "tensor(-0.1846, grad_fn=<AddBackward0>) tensor(-0.1670, grad_fn=<MeanBackward0>) tensor(-0.0176, grad_fn=<MeanBackward0>)\n",
      "tensor(-0.2221, grad_fn=<AddBackward0>) tensor(-0.1348, grad_fn=<MeanBackward0>) tensor(-0.0873, grad_fn=<MeanBackward0>)\n",
      "tensor(-0.7379, grad_fn=<AddBackward0>) tensor(-0.1225, grad_fn=<MeanBackward0>) tensor(-0.6154, grad_fn=<MeanBackward0>)\n",
      "tensor(-0.1502, grad_fn=<AddBackward0>) tensor(-0.1443, grad_fn=<MeanBackward0>) tensor(-0.0059, grad_fn=<MeanBackward0>)\n",
      "tensor(-0.5571, grad_fn=<AddBackward0>) tensor(-0.1975, grad_fn=<MeanBackward0>) tensor(-0.3597, grad_fn=<MeanBackward0>)\n",
      "tensor(-4.5887, grad_fn=<AddBackward0>) tensor(-0.3046, grad_fn=<MeanBackward0>) tensor(-4.2842, grad_fn=<MeanBackward0>)\n",
      "tensor(-1.9822, grad_fn=<AddBackward0>) tensor(-0.4606, grad_fn=<MeanBackward0>) tensor(-1.5217, grad_fn=<MeanBackward0>)\n",
      "tensor(-3.3737, grad_fn=<AddBackward0>) tensor(-0.5674, grad_fn=<MeanBackward0>) tensor(-2.8063, grad_fn=<MeanBackward0>)\n",
      "tensor(-1.4950, grad_fn=<AddBackward0>) tensor(-0.5684, grad_fn=<MeanBackward0>) tensor(-0.9266, grad_fn=<MeanBackward0>)\n",
      "tensor(-2.0656, grad_fn=<AddBackward0>) tensor(-0.4604, grad_fn=<MeanBackward0>) tensor(-1.6052, grad_fn=<MeanBackward0>)\n",
      "tensor(-0.5593, grad_fn=<AddBackward0>) tensor(-0.3278, grad_fn=<MeanBackward0>) tensor(-0.2315, grad_fn=<MeanBackward0>)\n",
      "tensor(-0.2464, grad_fn=<AddBackward0>) tensor(-0.2164, grad_fn=<MeanBackward0>) tensor(-0.0299, grad_fn=<MeanBackward0>)\n",
      "tensor(-1.1236, grad_fn=<AddBackward0>) tensor(-0.1434, grad_fn=<MeanBackward0>) tensor(-0.9802, grad_fn=<MeanBackward0>)\n",
      "tensor(-0.8098, grad_fn=<AddBackward0>) tensor(-0.1047, grad_fn=<MeanBackward0>) tensor(-0.7051, grad_fn=<MeanBackward0>)\n",
      "tensor(-1.1731, grad_fn=<AddBackward0>) tensor(-0.0858, grad_fn=<MeanBackward0>) tensor(-1.0872, grad_fn=<MeanBackward0>)\n",
      "tensor(-2.2630, grad_fn=<AddBackward0>) tensor(-0.0818, grad_fn=<MeanBackward0>) tensor(-2.1811, grad_fn=<MeanBackward0>)\n",
      "tensor(-0.1120, grad_fn=<AddBackward0>) tensor(-0.0866, grad_fn=<MeanBackward0>) tensor(-0.0254, grad_fn=<MeanBackward0>)\n",
      "tensor(-1.2873, grad_fn=<AddBackward0>) tensor(-0.0923, grad_fn=<MeanBackward0>) tensor(-1.1949, grad_fn=<MeanBackward0>)\n",
      "tensor(-0.1328, grad_fn=<AddBackward0>) tensor(-0.1023, grad_fn=<MeanBackward0>) tensor(-0.0305, grad_fn=<MeanBackward0>)\n",
      "tensor(-0.1703, grad_fn=<AddBackward0>) tensor(-0.1109, grad_fn=<MeanBackward0>) tensor(-0.0594, grad_fn=<MeanBackward0>)\n",
      "tensor(-0.4023, grad_fn=<AddBackward0>) tensor(-0.1220, grad_fn=<MeanBackward0>) tensor(-0.2803, grad_fn=<MeanBackward0>)\n",
      "tensor(-0.2486, grad_fn=<AddBackward0>) tensor(-0.1381, grad_fn=<MeanBackward0>) tensor(-0.1105, grad_fn=<MeanBackward0>)\n",
      "tensor(-0.1644, grad_fn=<AddBackward0>) tensor(-0.1615, grad_fn=<MeanBackward0>) tensor(-0.0029, grad_fn=<MeanBackward0>)\n",
      "tensor(-0.1838, grad_fn=<AddBackward0>) tensor(-0.1831, grad_fn=<MeanBackward0>) tensor(-0.0007, grad_fn=<MeanBackward0>)\n",
      "tensor(-3.5789, grad_fn=<AddBackward0>) tensor(-0.2089, grad_fn=<MeanBackward0>) tensor(-3.3701, grad_fn=<MeanBackward0>)\n",
      "tensor(-0.2661, grad_fn=<AddBackward0>) tensor(-0.2513, grad_fn=<MeanBackward0>) tensor(-0.0148, grad_fn=<MeanBackward0>)\n",
      "tensor(-0.3258, grad_fn=<AddBackward0>) tensor(-0.2941, grad_fn=<MeanBackward0>) tensor(-0.0318, grad_fn=<MeanBackward0>)\n",
      "tensor(-0.7635, grad_fn=<AddBackward0>) tensor(-0.3288, grad_fn=<MeanBackward0>) tensor(-0.4347, grad_fn=<MeanBackward0>)\n",
      "tensor(-0.3605, grad_fn=<AddBackward0>) tensor(-0.3587, grad_fn=<MeanBackward0>) tensor(-0.0017, grad_fn=<MeanBackward0>)\n",
      "tensor(-0.4954, grad_fn=<AddBackward0>) tensor(-0.3916, grad_fn=<MeanBackward0>) tensor(-0.1039, grad_fn=<MeanBackward0>)\n",
      "tensor(-0.5038, grad_fn=<AddBackward0>) tensor(-0.4119, grad_fn=<MeanBackward0>) tensor(-0.0919, grad_fn=<MeanBackward0>)\n",
      "tensor(-0.4311, grad_fn=<AddBackward0>) tensor(-0.4244, grad_fn=<MeanBackward0>) tensor(-0.0067, grad_fn=<MeanBackward0>)\n",
      "tensor(-0.4486, grad_fn=<AddBackward0>) tensor(-0.4212, grad_fn=<MeanBackward0>) tensor(-0.0274, grad_fn=<MeanBackward0>)\n",
      "tensor(-0.5000, grad_fn=<AddBackward0>) tensor(-0.4062, grad_fn=<MeanBackward0>) tensor(-0.0938, grad_fn=<MeanBackward0>)\n",
      "tensor(-0.8006, grad_fn=<AddBackward0>) tensor(-0.3707, grad_fn=<MeanBackward0>) tensor(-0.4299, grad_fn=<MeanBackward0>)\n",
      "tensor(-1.0404, grad_fn=<AddBackward0>) tensor(-0.3218, grad_fn=<MeanBackward0>) tensor(-0.7186, grad_fn=<MeanBackward0>)\n",
      "tensor(-0.5332, grad_fn=<AddBackward0>) tensor(-0.2718, grad_fn=<MeanBackward0>) tensor(-0.2614, grad_fn=<MeanBackward0>)\n",
      "tensor(-0.5203, grad_fn=<AddBackward0>) tensor(-0.2391, grad_fn=<MeanBackward0>) tensor(-0.2812, grad_fn=<MeanBackward0>)\n",
      "tensor(-0.2579, grad_fn=<AddBackward0>) tensor(-0.2262, grad_fn=<MeanBackward0>) tensor(-0.0318, grad_fn=<MeanBackward0>)\n",
      "tensor(-0.7271, grad_fn=<AddBackward0>) tensor(-0.2251, grad_fn=<MeanBackward0>) tensor(-0.5021, grad_fn=<MeanBackward0>)\n",
      "tensor(-0.7823, grad_fn=<AddBackward0>) tensor(-0.2429, grad_fn=<MeanBackward0>) tensor(-0.5393, grad_fn=<MeanBackward0>)\n",
      "tensor(-3.9316, grad_fn=<AddBackward0>) tensor(-0.2885, grad_fn=<MeanBackward0>) tensor(-3.6431, grad_fn=<MeanBackward0>)\n",
      "tensor(-1.0039, grad_fn=<AddBackward0>) tensor(-0.3875, grad_fn=<MeanBackward0>) tensor(-0.6163, grad_fn=<MeanBackward0>)\n",
      "tensor(-0.5713, grad_fn=<AddBackward0>) tensor(-0.4990, grad_fn=<MeanBackward0>) tensor(-0.0723, grad_fn=<MeanBackward0>)\n",
      "tensor(-0.6307, grad_fn=<AddBackward0>) tensor(-0.5628, grad_fn=<MeanBackward0>) tensor(-0.0679, grad_fn=<MeanBackward0>)\n",
      "tensor(-0.6729, grad_fn=<AddBackward0>) tensor(-0.5415, grad_fn=<MeanBackward0>) tensor(-0.1314, grad_fn=<MeanBackward0>)\n",
      "tensor(-1.0849, grad_fn=<AddBackward0>) tensor(-0.4595, grad_fn=<MeanBackward0>) tensor(-0.6254, grad_fn=<MeanBackward0>)\n",
      "tensor(-0.7992, grad_fn=<AddBackward0>) tensor(-0.3538, grad_fn=<MeanBackward0>) tensor(-0.4455, grad_fn=<MeanBackward0>)\n",
      "tensor(-1.5758, grad_fn=<AddBackward0>) tensor(-0.2690, grad_fn=<MeanBackward0>) tensor(-1.3069, grad_fn=<MeanBackward0>)\n",
      "tensor(-1.3045, grad_fn=<AddBackward0>) tensor(-0.2269, grad_fn=<MeanBackward0>) tensor(-1.0776, grad_fn=<MeanBackward0>)\n",
      "tensor(-0.8679, grad_fn=<AddBackward0>) tensor(-0.2106, grad_fn=<MeanBackward0>) tensor(-0.6573, grad_fn=<MeanBackward0>)\n",
      "tensor(-4.2422, grad_fn=<AddBackward0>) tensor(-0.2172, grad_fn=<MeanBackward0>) tensor(-4.0250, grad_fn=<MeanBackward0>)\n",
      "tensor(-2.4827, grad_fn=<AddBackward0>) tensor(-0.2515, grad_fn=<MeanBackward0>) tensor(-2.2312, grad_fn=<MeanBackward0>)\n",
      "tensor(-2.8467, grad_fn=<AddBackward0>) tensor(-0.2900, grad_fn=<MeanBackward0>) tensor(-2.5567, grad_fn=<MeanBackward0>)\n",
      "tensor(-0.7725, grad_fn=<AddBackward0>) tensor(-0.3622, grad_fn=<MeanBackward0>) tensor(-0.4102, grad_fn=<MeanBackward0>)\n",
      "tensor(-1.1977, grad_fn=<AddBackward0>) tensor(-0.4312, grad_fn=<MeanBackward0>) tensor(-0.7665, grad_fn=<MeanBackward0>)\n",
      "tensor(-1.0545, grad_fn=<AddBackward0>) tensor(-0.4952, grad_fn=<MeanBackward0>) tensor(-0.5593, grad_fn=<MeanBackward0>)\n",
      "tensor(-2.2856, grad_fn=<AddBackward0>) tensor(-0.5345, grad_fn=<MeanBackward0>) tensor(-1.7510, grad_fn=<MeanBackward0>)\n",
      "tensor(-0.9337, grad_fn=<AddBackward0>) tensor(-0.5672, grad_fn=<MeanBackward0>) tensor(-0.3665, grad_fn=<MeanBackward0>)\n",
      "tensor(-0.7837, grad_fn=<AddBackward0>) tensor(-0.5588, grad_fn=<MeanBackward0>) tensor(-0.2249, grad_fn=<MeanBackward0>)\n",
      "tensor(-2.8711, grad_fn=<AddBackward0>) tensor(-0.4928, grad_fn=<MeanBackward0>) tensor(-2.3783, grad_fn=<MeanBackward0>)\n",
      "tensor(-0.7353, grad_fn=<AddBackward0>) tensor(-0.4392, grad_fn=<MeanBackward0>) tensor(-0.2961, grad_fn=<MeanBackward0>)\n",
      "tensor(-3.7517, grad_fn=<AddBackward0>) tensor(-0.3737, grad_fn=<MeanBackward0>) tensor(-3.3780, grad_fn=<MeanBackward0>)\n",
      "tensor(-4.4324, grad_fn=<AddBackward0>) tensor(-0.3568, grad_fn=<MeanBackward0>) tensor(-4.0756, grad_fn=<MeanBackward0>)\n",
      "tensor(-0.6136, grad_fn=<AddBackward0>) tensor(-0.3834, grad_fn=<MeanBackward0>) tensor(-0.2302, grad_fn=<MeanBackward0>)\n",
      "tensor(-1.9237, grad_fn=<AddBackward0>) tensor(-0.4102, grad_fn=<MeanBackward0>) tensor(-1.5135, grad_fn=<MeanBackward0>)\n",
      "tensor(-0.6405, grad_fn=<AddBackward0>) tensor(-0.4357, grad_fn=<MeanBackward0>) tensor(-0.2048, grad_fn=<MeanBackward0>)\n",
      "tensor(-1.2471, grad_fn=<AddBackward0>) tensor(-0.4410, grad_fn=<MeanBackward0>) tensor(-0.8061, grad_fn=<MeanBackward0>)\n",
      "tensor(-1.1339, grad_fn=<AddBackward0>) tensor(-0.4674, grad_fn=<MeanBackward0>) tensor(-0.6665, grad_fn=<MeanBackward0>)\n",
      "tensor(-1.9510, grad_fn=<AddBackward0>) tensor(-0.4653, grad_fn=<MeanBackward0>) tensor(-1.4857, grad_fn=<MeanBackward0>)\n",
      "tensor(-1.5711, grad_fn=<AddBackward0>) tensor(-0.4508, grad_fn=<MeanBackward0>) tensor(-1.1203, grad_fn=<MeanBackward0>)\n",
      "tensor(-2.9383, grad_fn=<AddBackward0>) tensor(-0.4193, grad_fn=<MeanBackward0>) tensor(-2.5190, grad_fn=<MeanBackward0>)\n",
      "tensor(-1.4986, grad_fn=<AddBackward0>) tensor(-0.3886, grad_fn=<MeanBackward0>) tensor(-1.1099, grad_fn=<MeanBackward0>)\n",
      "tensor(-2.5107, grad_fn=<AddBackward0>) tensor(-0.3974, grad_fn=<MeanBackward0>) tensor(-2.1133, grad_fn=<MeanBackward0>)\n",
      "tensor(-0.4892, grad_fn=<AddBackward0>) tensor(-0.4462, grad_fn=<MeanBackward0>) tensor(-0.0430, grad_fn=<MeanBackward0>)\n",
      "tensor(-0.5038, grad_fn=<AddBackward0>) tensor(-0.4705, grad_fn=<MeanBackward0>) tensor(-0.0333, grad_fn=<MeanBackward0>)\n",
      "tensor(-1.6286, grad_fn=<AddBackward0>) tensor(-0.4418, grad_fn=<MeanBackward0>) tensor(-1.1869, grad_fn=<MeanBackward0>)\n",
      "tensor(-0.5091, grad_fn=<AddBackward0>) tensor(-0.4280, grad_fn=<MeanBackward0>) tensor(-0.0811, grad_fn=<MeanBackward0>)\n",
      "tensor(-2.0556, grad_fn=<AddBackward0>) tensor(-0.4126, grad_fn=<MeanBackward0>) tensor(-1.6431, grad_fn=<MeanBackward0>)\n",
      "tensor(-0.4449, grad_fn=<AddBackward0>) tensor(-0.4097, grad_fn=<MeanBackward0>) tensor(-0.0352, grad_fn=<MeanBackward0>)\n",
      "tensor(-0.6951, grad_fn=<AddBackward0>) tensor(-0.4048, grad_fn=<MeanBackward0>) tensor(-0.2903, grad_fn=<MeanBackward0>)\n",
      "tensor(-0.9403, grad_fn=<AddBackward0>) tensor(-0.4039, grad_fn=<MeanBackward0>) tensor(-0.5364, grad_fn=<MeanBackward0>)\n",
      "tensor(-0.9102, grad_fn=<AddBackward0>) tensor(-0.4274, grad_fn=<MeanBackward0>) tensor(-0.4828, grad_fn=<MeanBackward0>)\n",
      "tensor(-0.6491, grad_fn=<AddBackward0>) tensor(-0.4192, grad_fn=<MeanBackward0>) tensor(-0.2298, grad_fn=<MeanBackward0>)\n",
      "tensor(-1.7815, grad_fn=<AddBackward0>) tensor(-0.3930, grad_fn=<MeanBackward0>) tensor(-1.3885, grad_fn=<MeanBackward0>)\n",
      "tensor(-2.7561, grad_fn=<AddBackward0>) tensor(-0.3453, grad_fn=<MeanBackward0>) tensor(-2.4107, grad_fn=<MeanBackward0>)\n",
      "tensor(-1.1930, grad_fn=<AddBackward0>) tensor(-0.3322, grad_fn=<MeanBackward0>) tensor(-0.8609, grad_fn=<MeanBackward0>)\n",
      "tensor(-1.1661, grad_fn=<AddBackward0>) tensor(-0.3285, grad_fn=<MeanBackward0>) tensor(-0.8376, grad_fn=<MeanBackward0>)\n",
      "tensor(-3.3648, grad_fn=<AddBackward0>) tensor(-0.3303, grad_fn=<MeanBackward0>) tensor(-3.0344, grad_fn=<MeanBackward0>)\n",
      "tensor(-3.2190, grad_fn=<AddBackward0>) tensor(-0.3631, grad_fn=<MeanBackward0>) tensor(-2.8559, grad_fn=<MeanBackward0>)\n",
      "tensor(-0.7055, grad_fn=<AddBackward0>) tensor(-0.4328, grad_fn=<MeanBackward0>) tensor(-0.2728, grad_fn=<MeanBackward0>)\n",
      "tensor(-3.6052, grad_fn=<AddBackward0>) tensor(-0.4705, grad_fn=<MeanBackward0>) tensor(-3.1347, grad_fn=<MeanBackward0>)\n",
      "tensor(-0.6762, grad_fn=<AddBackward0>) tensor(-0.5057, grad_fn=<MeanBackward0>) tensor(-0.1705, grad_fn=<MeanBackward0>)\n",
      "tensor(-1.9224, grad_fn=<AddBackward0>) tensor(-0.5074, grad_fn=<MeanBackward0>) tensor(-1.4151, grad_fn=<MeanBackward0>)\n",
      "tensor(-2.8193, grad_fn=<AddBackward0>) tensor(-0.5119, grad_fn=<MeanBackward0>) tensor(-2.3074, grad_fn=<MeanBackward0>)\n",
      "tensor(-0.7411, grad_fn=<AddBackward0>) tensor(-0.5311, grad_fn=<MeanBackward0>) tensor(-0.2100, grad_fn=<MeanBackward0>)\n",
      "tensor(-4.5112, grad_fn=<AddBackward0>) tensor(-0.5068, grad_fn=<MeanBackward0>) tensor(-4.0044, grad_fn=<MeanBackward0>)\n",
      "tensor(-0.9935, grad_fn=<AddBackward0>) tensor(-0.5023, grad_fn=<MeanBackward0>) tensor(-0.4912, grad_fn=<MeanBackward0>)\n",
      "tensor(-2.9107, grad_fn=<AddBackward0>) tensor(-0.4569, grad_fn=<MeanBackward0>) tensor(-2.4538, grad_fn=<MeanBackward0>)\n",
      "tensor(-3.4085, grad_fn=<AddBackward0>) tensor(-0.4196, grad_fn=<MeanBackward0>) tensor(-2.9889, grad_fn=<MeanBackward0>)\n",
      "tensor(-0.7452, grad_fn=<AddBackward0>) tensor(-0.4018, grad_fn=<MeanBackward0>) tensor(-0.3433, grad_fn=<MeanBackward0>)\n",
      "tensor(-0.5774, grad_fn=<AddBackward0>) tensor(-0.3537, grad_fn=<MeanBackward0>) tensor(-0.2237, grad_fn=<MeanBackward0>)\n",
      "tensor(-0.3838, grad_fn=<AddBackward0>) tensor(-0.3350, grad_fn=<MeanBackward0>) tensor(-0.0488, grad_fn=<MeanBackward0>)\n",
      "tensor(-0.3106, grad_fn=<AddBackward0>) tensor(-0.3012, grad_fn=<MeanBackward0>) tensor(-0.0095, grad_fn=<MeanBackward0>)\n",
      "tensor(-0.7547, grad_fn=<AddBackward0>) tensor(-0.2631, grad_fn=<MeanBackward0>) tensor(-0.4916, grad_fn=<MeanBackward0>)\n",
      "tensor(-0.2937, grad_fn=<AddBackward0>) tensor(-0.2586, grad_fn=<MeanBackward0>) tensor(-0.0351, grad_fn=<MeanBackward0>)\n",
      "tensor(-0.2704, grad_fn=<AddBackward0>) tensor(-0.2389, grad_fn=<MeanBackward0>) tensor(-0.0315, grad_fn=<MeanBackward0>)\n",
      "tensor(-0.6870, grad_fn=<AddBackward0>) tensor(-0.2477, grad_fn=<MeanBackward0>) tensor(-0.4393, grad_fn=<MeanBackward0>)\n",
      "tensor(-0.2501, grad_fn=<AddBackward0>) tensor(-0.2500, grad_fn=<MeanBackward0>) tensor(-0.0002, grad_fn=<MeanBackward0>)\n",
      "tensor(-0.2595, grad_fn=<AddBackward0>) tensor(-0.2416, grad_fn=<MeanBackward0>) tensor(-0.0180, grad_fn=<MeanBackward0>)\n",
      "tensor(-0.5190, grad_fn=<AddBackward0>) tensor(-0.2354, grad_fn=<MeanBackward0>) tensor(-0.2836, grad_fn=<MeanBackward0>)\n",
      "tensor(-0.2894, grad_fn=<AddBackward0>) tensor(-0.2247, grad_fn=<MeanBackward0>) tensor(-0.0647, grad_fn=<MeanBackward0>)\n",
      "tensor(-0.4390, grad_fn=<AddBackward0>) tensor(-0.2100, grad_fn=<MeanBackward0>) tensor(-0.2291, grad_fn=<MeanBackward0>)\n",
      "tensor(-0.1979, grad_fn=<AddBackward0>) tensor(-0.1925, grad_fn=<MeanBackward0>) tensor(-0.0054, grad_fn=<MeanBackward0>)\n",
      "tensor(-0.2252, grad_fn=<AddBackward0>) tensor(-0.1846, grad_fn=<MeanBackward0>) tensor(-0.0406, grad_fn=<MeanBackward0>)\n",
      "tensor(-0.2056, grad_fn=<AddBackward0>) tensor(-0.1671, grad_fn=<MeanBackward0>) tensor(-0.0385, grad_fn=<MeanBackward0>)\n",
      "tensor(-0.4784, grad_fn=<AddBackward0>) tensor(-0.1585, grad_fn=<MeanBackward0>) tensor(-0.3199, grad_fn=<MeanBackward0>)\n",
      "tensor(-0.3252, grad_fn=<AddBackward0>) tensor(-0.1623, grad_fn=<MeanBackward0>) tensor(-0.1629, grad_fn=<MeanBackward0>)\n",
      "tensor(-0.5835, grad_fn=<AddBackward0>) tensor(-0.1840, grad_fn=<MeanBackward0>) tensor(-0.3995, grad_fn=<MeanBackward0>)\n",
      "tensor(-0.2291, grad_fn=<AddBackward0>) tensor(-0.2143, grad_fn=<MeanBackward0>) tensor(-0.0149, grad_fn=<MeanBackward0>)\n",
      "tensor(-0.3860, grad_fn=<AddBackward0>) tensor(-0.2360, grad_fn=<MeanBackward0>) tensor(-0.1501, grad_fn=<MeanBackward0>)\n",
      "tensor(-0.3766, grad_fn=<AddBackward0>) tensor(-0.2419, grad_fn=<MeanBackward0>) tensor(-0.1347, grad_fn=<MeanBackward0>)\n",
      "tensor(-0.3297, grad_fn=<AddBackward0>) tensor(-0.2647, grad_fn=<MeanBackward0>) tensor(-0.0650, grad_fn=<MeanBackward0>)\n",
      "tensor(-0.4871, grad_fn=<AddBackward0>) tensor(-0.2698, grad_fn=<MeanBackward0>) tensor(-0.2174, grad_fn=<MeanBackward0>)\n",
      "tensor(-1.0590, grad_fn=<AddBackward0>) tensor(-0.2561, grad_fn=<MeanBackward0>) tensor(-0.8028, grad_fn=<MeanBackward0>)\n",
      "tensor(-0.4712, grad_fn=<AddBackward0>) tensor(-0.2104, grad_fn=<MeanBackward0>) tensor(-0.2608, grad_fn=<MeanBackward0>)\n",
      "tensor(-0.1801, grad_fn=<AddBackward0>) tensor(-0.1616, grad_fn=<MeanBackward0>) tensor(-0.0185, grad_fn=<MeanBackward0>)\n",
      "tensor(-0.3120, grad_fn=<AddBackward0>) tensor(-0.1174, grad_fn=<MeanBackward0>) tensor(-0.1947, grad_fn=<MeanBackward0>)\n",
      "tensor(-1.7512, grad_fn=<AddBackward0>) tensor(-0.0857, grad_fn=<MeanBackward0>) tensor(-1.6655, grad_fn=<MeanBackward0>)\n",
      "tensor(-1.5197, grad_fn=<AddBackward0>) tensor(-0.0672, grad_fn=<MeanBackward0>) tensor(-1.4525, grad_fn=<MeanBackward0>)\n",
      "tensor(-0.0582, grad_fn=<AddBackward0>) tensor(-0.0567, grad_fn=<MeanBackward0>) tensor(-0.0015, grad_fn=<MeanBackward0>)\n",
      "tensor(-1.9345, grad_fn=<AddBackward0>) tensor(-0.0519, grad_fn=<MeanBackward0>) tensor(-1.8827, grad_fn=<MeanBackward0>)\n",
      "tensor(-0.0733, grad_fn=<AddBackward0>) tensor(-0.0575, grad_fn=<MeanBackward0>) tensor(-0.0158, grad_fn=<MeanBackward0>)\n",
      "tensor(-0.9999, grad_fn=<AddBackward0>) tensor(-0.0653, grad_fn=<MeanBackward0>) tensor(-0.9346, grad_fn=<MeanBackward0>)\n",
      "tensor(-0.7835, grad_fn=<AddBackward0>) tensor(-0.0835, grad_fn=<MeanBackward0>) tensor(-0.7000, grad_fn=<MeanBackward0>)\n",
      "tensor(-1.3991, grad_fn=<AddBackward0>) tensor(-0.1153, grad_fn=<MeanBackward0>) tensor(-1.2838, grad_fn=<MeanBackward0>)\n",
      "tensor(-0.2051, grad_fn=<AddBackward0>) tensor(-0.1693, grad_fn=<MeanBackward0>) tensor(-0.0358, grad_fn=<MeanBackward0>)\n",
      "tensor(-0.2323, grad_fn=<AddBackward0>) tensor(-0.2273, grad_fn=<MeanBackward0>) tensor(-0.0049, grad_fn=<MeanBackward0>)\n",
      "tensor(-0.3306, grad_fn=<AddBackward0>) tensor(-0.3255, grad_fn=<MeanBackward0>) tensor(-0.0051, grad_fn=<MeanBackward0>)\n",
      "tensor(-0.4174, grad_fn=<AddBackward0>) tensor(-0.4157, grad_fn=<MeanBackward0>) tensor(-0.0016, grad_fn=<MeanBackward0>)\n",
      "tensor(-0.5868, grad_fn=<AddBackward0>) tensor(-0.4576, grad_fn=<MeanBackward0>) tensor(-0.1292, grad_fn=<MeanBackward0>)\n",
      "tensor(-1.0863, grad_fn=<AddBackward0>) tensor(-0.4856, grad_fn=<MeanBackward0>) tensor(-0.6006, grad_fn=<MeanBackward0>)\n",
      "tensor(-0.9501, grad_fn=<AddBackward0>) tensor(-0.4598, grad_fn=<MeanBackward0>) tensor(-0.4903, grad_fn=<MeanBackward0>)\n",
      "tensor(-0.3899, grad_fn=<AddBackward0>) tensor(-0.3887, grad_fn=<MeanBackward0>) tensor(-0.0012, grad_fn=<MeanBackward0>)\n",
      "tensor(-0.3148, grad_fn=<AddBackward0>) tensor(-0.3120, grad_fn=<MeanBackward0>) tensor(-0.0028, grad_fn=<MeanBackward0>)\n",
      "tensor(-0.9632, grad_fn=<AddBackward0>) tensor(-0.2457, grad_fn=<MeanBackward0>) tensor(-0.7175, grad_fn=<MeanBackward0>)\n",
      "tensor(-0.3489, grad_fn=<AddBackward0>) tensor(-0.2221, grad_fn=<MeanBackward0>) tensor(-0.1268, grad_fn=<MeanBackward0>)\n",
      "tensor(-0.2808, grad_fn=<AddBackward0>) tensor(-0.2127, grad_fn=<MeanBackward0>) tensor(-0.0681, grad_fn=<MeanBackward0>)\n",
      "tensor(-0.2176, grad_fn=<AddBackward0>) tensor(-0.2151, grad_fn=<MeanBackward0>) tensor(-0.0025, grad_fn=<MeanBackward0>)\n",
      "tensor(-0.2366, grad_fn=<AddBackward0>) tensor(-0.2239, grad_fn=<MeanBackward0>) tensor(-0.0127, grad_fn=<MeanBackward0>)\n",
      "tensor(-0.2922, grad_fn=<AddBackward0>) tensor(-0.2343, grad_fn=<MeanBackward0>) tensor(-0.0579, grad_fn=<MeanBackward0>)\n",
      "tensor(-0.2869, grad_fn=<AddBackward0>) tensor(-0.2654, grad_fn=<MeanBackward0>) tensor(-0.0214, grad_fn=<MeanBackward0>)\n",
      "tensor(-0.8516, grad_fn=<AddBackward0>) tensor(-0.3268, grad_fn=<MeanBackward0>) tensor(-0.5248, grad_fn=<MeanBackward0>)\n",
      "tensor(-1.0630, grad_fn=<AddBackward0>) tensor(-0.3860, grad_fn=<MeanBackward0>) tensor(-0.6770, grad_fn=<MeanBackward0>)\n",
      "tensor(-1.0214, grad_fn=<AddBackward0>) tensor(-0.4372, grad_fn=<MeanBackward0>) tensor(-0.5842, grad_fn=<MeanBackward0>)\n",
      "tensor(-0.5339, grad_fn=<AddBackward0>) tensor(-0.4743, grad_fn=<MeanBackward0>) tensor(-0.0596, grad_fn=<MeanBackward0>)\n",
      "tensor(-0.4783, grad_fn=<AddBackward0>) tensor(-0.4776, grad_fn=<MeanBackward0>) tensor(-0.0007, grad_fn=<MeanBackward0>)\n",
      "tensor(-2.3244, grad_fn=<AddBackward0>) tensor(-0.4590, grad_fn=<MeanBackward0>) tensor(-1.8653, grad_fn=<MeanBackward0>)\n",
      "tensor(-0.5076, grad_fn=<AddBackward0>) tensor(-0.4854, grad_fn=<MeanBackward0>) tensor(-0.0222, grad_fn=<MeanBackward0>)\n",
      "tensor(-0.5471, grad_fn=<AddBackward0>) tensor(-0.4836, grad_fn=<MeanBackward0>) tensor(-0.0635, grad_fn=<MeanBackward0>)\n",
      "tensor(-0.4584, grad_fn=<AddBackward0>) tensor(-0.3741, grad_fn=<MeanBackward0>) tensor(-0.0843, grad_fn=<MeanBackward0>)\n",
      "tensor(-0.9276, grad_fn=<AddBackward0>) tensor(-0.3072, grad_fn=<MeanBackward0>) tensor(-0.6203, grad_fn=<MeanBackward0>)\n",
      "tensor(-0.8587, grad_fn=<AddBackward0>) tensor(-0.2046, grad_fn=<MeanBackward0>) tensor(-0.6542, grad_fn=<MeanBackward0>)\n",
      "tensor(-1.3397, grad_fn=<AddBackward0>) tensor(-0.1460, grad_fn=<MeanBackward0>) tensor(-1.1938, grad_fn=<MeanBackward0>)\n",
      "tensor(-1.9720, grad_fn=<AddBackward0>) tensor(-0.1277, grad_fn=<MeanBackward0>) tensor(-1.8443, grad_fn=<MeanBackward0>)\n",
      "tensor(-2.3934, grad_fn=<AddBackward0>) tensor(-0.1379, grad_fn=<MeanBackward0>) tensor(-2.2555, grad_fn=<MeanBackward0>)\n",
      "tensor(-1.4145, grad_fn=<AddBackward0>) tensor(-0.1407, grad_fn=<MeanBackward0>) tensor(-1.2738, grad_fn=<MeanBackward0>)\n",
      "tensor(-1.4431, grad_fn=<AddBackward0>) tensor(-0.1698, grad_fn=<MeanBackward0>) tensor(-1.2733, grad_fn=<MeanBackward0>)\n",
      "tensor(-1.8751, grad_fn=<AddBackward0>) tensor(-0.1915, grad_fn=<MeanBackward0>) tensor(-1.6836, grad_fn=<MeanBackward0>)\n",
      "tensor(-0.8630, grad_fn=<AddBackward0>) tensor(-0.1989, grad_fn=<MeanBackward0>) tensor(-0.6641, grad_fn=<MeanBackward0>)\n",
      "tensor(-3.2496, grad_fn=<AddBackward0>) tensor(-0.1936, grad_fn=<MeanBackward0>) tensor(-3.0560, grad_fn=<MeanBackward0>)\n",
      "tensor(-3.2546, grad_fn=<AddBackward0>) tensor(-0.1884, grad_fn=<MeanBackward0>) tensor(-3.0662, grad_fn=<MeanBackward0>)\n",
      "tensor(-1.6083, grad_fn=<AddBackward0>) tensor(-0.1836, grad_fn=<MeanBackward0>) tensor(-1.4246, grad_fn=<MeanBackward0>)\n",
      "tensor(-0.3332, grad_fn=<AddBackward0>) tensor(-0.1953, grad_fn=<MeanBackward0>) tensor(-0.1379, grad_fn=<MeanBackward0>)\n",
      "tensor(-0.3294, grad_fn=<AddBackward0>) tensor(-0.1882, grad_fn=<MeanBackward0>) tensor(-0.1412, grad_fn=<MeanBackward0>)\n",
      "tensor(-0.4694, grad_fn=<AddBackward0>) tensor(-0.1643, grad_fn=<MeanBackward0>) tensor(-0.3051, grad_fn=<MeanBackward0>)\n",
      "tensor(-0.2201, grad_fn=<AddBackward0>) tensor(-0.1457, grad_fn=<MeanBackward0>) tensor(-0.0744, grad_fn=<MeanBackward0>)\n",
      "tensor(-0.3625, grad_fn=<AddBackward0>) tensor(-0.1226, grad_fn=<MeanBackward0>) tensor(-0.2400, grad_fn=<MeanBackward0>)\n",
      "tensor(-0.8470, grad_fn=<AddBackward0>) tensor(-0.1019, grad_fn=<MeanBackward0>) tensor(-0.7452, grad_fn=<MeanBackward0>)\n",
      "tensor(-0.5739, grad_fn=<AddBackward0>) tensor(-0.0870, grad_fn=<MeanBackward0>) tensor(-0.4869, grad_fn=<MeanBackward0>)\n",
      "tensor(-0.1170, grad_fn=<AddBackward0>) tensor(-0.0772, grad_fn=<MeanBackward0>) tensor(-0.0397, grad_fn=<MeanBackward0>)\n",
      "tensor(-1.2686, grad_fn=<AddBackward0>) tensor(-0.0684, grad_fn=<MeanBackward0>) tensor(-1.2002, grad_fn=<MeanBackward0>)\n",
      "tensor(-0.9687, grad_fn=<AddBackward0>) tensor(-0.0651, grad_fn=<MeanBackward0>) tensor(-0.9035, grad_fn=<MeanBackward0>)\n",
      "tensor(-0.0696, grad_fn=<AddBackward0>) tensor(-0.0689, grad_fn=<MeanBackward0>) tensor(-0.0007, grad_fn=<MeanBackward0>)\n",
      "tensor(-0.7301, grad_fn=<AddBackward0>) tensor(-0.0721, grad_fn=<MeanBackward0>) tensor(-0.6580, grad_fn=<MeanBackward0>)\n",
      "tensor(-0.2298, grad_fn=<AddBackward0>) tensor(-0.0834, grad_fn=<MeanBackward0>) tensor(-0.1465, grad_fn=<MeanBackward0>)\n",
      "tensor(-0.1063, grad_fn=<AddBackward0>) tensor(-0.0977, grad_fn=<MeanBackward0>) tensor(-0.0086, grad_fn=<MeanBackward0>)\n",
      "tensor(-0.1732, grad_fn=<AddBackward0>) tensor(-0.1077, grad_fn=<MeanBackward0>) tensor(-0.0655, grad_fn=<MeanBackward0>)\n",
      "tensor(-0.1242, grad_fn=<AddBackward0>) tensor(-0.1167, grad_fn=<MeanBackward0>) tensor(-0.0075, grad_fn=<MeanBackward0>)\n",
      "tensor(-0.4682, grad_fn=<AddBackward0>) tensor(-0.1143, grad_fn=<MeanBackward0>) tensor(-0.3539, grad_fn=<MeanBackward0>)\n",
      "tensor(-0.2541, grad_fn=<AddBackward0>) tensor(-0.1114, grad_fn=<MeanBackward0>) tensor(-0.1427, grad_fn=<MeanBackward0>)\n",
      "tensor(-0.1062, grad_fn=<AddBackward0>) tensor(-0.1059, grad_fn=<MeanBackward0>) tensor(-0.0003, grad_fn=<MeanBackward0>)\n",
      "tensor(-0.5779, grad_fn=<AddBackward0>) tensor(-0.0969, grad_fn=<MeanBackward0>) tensor(-0.4810, grad_fn=<MeanBackward0>)\n",
      "tensor(-0.1925, grad_fn=<AddBackward0>) tensor(-0.0964, grad_fn=<MeanBackward0>) tensor(-0.0961, grad_fn=<MeanBackward0>)\n",
      "tensor(-0.0953, grad_fn=<AddBackward0>) tensor(-0.0942, grad_fn=<MeanBackward0>) tensor(-0.0011, grad_fn=<MeanBackward0>)\n",
      "tensor(-0.1008, grad_fn=<AddBackward0>) tensor(-0.0889, grad_fn=<MeanBackward0>) tensor(-0.0120, grad_fn=<MeanBackward0>)\n",
      "tensor(-0.0869, grad_fn=<AddBackward0>) tensor(-0.0834, grad_fn=<MeanBackward0>) tensor(-0.0035, grad_fn=<MeanBackward0>)\n",
      "tensor(-0.0929, grad_fn=<AddBackward0>) tensor(-0.0777, grad_fn=<MeanBackward0>) tensor(-0.0152, grad_fn=<MeanBackward0>)\n",
      "tensor(-0.0766, grad_fn=<AddBackward0>) tensor(-0.0725, grad_fn=<MeanBackward0>) tensor(-0.0041, grad_fn=<MeanBackward0>)\n",
      "tensor(-0.0673, grad_fn=<AddBackward0>) tensor(-0.0668, grad_fn=<MeanBackward0>) tensor(-0.0004, grad_fn=<MeanBackward0>)\n",
      "tensor(-0.0634, grad_fn=<AddBackward0>) tensor(-0.0633, grad_fn=<MeanBackward0>) tensor(-0.0002, grad_fn=<MeanBackward0>)\n",
      "tensor(-0.2161, grad_fn=<AddBackward0>) tensor(-0.0589, grad_fn=<MeanBackward0>) tensor(-0.1572, grad_fn=<MeanBackward0>)\n",
      "tensor(-0.0732, grad_fn=<AddBackward0>) tensor(-0.0561, grad_fn=<MeanBackward0>) tensor(-0.0171, grad_fn=<MeanBackward0>)\n",
      "tensor(-0.5376, grad_fn=<AddBackward0>) tensor(-0.0536, grad_fn=<MeanBackward0>) tensor(-0.4840, grad_fn=<MeanBackward0>)\n",
      "tensor(-0.0604, grad_fn=<AddBackward0>) tensor(-0.0556, grad_fn=<MeanBackward0>) tensor(-0.0047, grad_fn=<MeanBackward0>)\n",
      "tensor(-0.2643, grad_fn=<AddBackward0>) tensor(-0.0591, grad_fn=<MeanBackward0>) tensor(-0.2053, grad_fn=<MeanBackward0>)\n",
      "tensor(-0.0827, grad_fn=<AddBackward0>) tensor(-0.0684, grad_fn=<MeanBackward0>) tensor(-0.0143, grad_fn=<MeanBackward0>)\n",
      "tensor(-0.4670, grad_fn=<AddBackward0>) tensor(-0.0816, grad_fn=<MeanBackward0>) tensor(-0.3854, grad_fn=<MeanBackward0>)\n",
      "tensor(-0.1105, grad_fn=<AddBackward0>) tensor(-0.1101, grad_fn=<MeanBackward0>) tensor(-0.0005, grad_fn=<MeanBackward0>)\n",
      "tensor(-0.1581, grad_fn=<AddBackward0>) tensor(-0.1558, grad_fn=<MeanBackward0>) tensor(-0.0023, grad_fn=<MeanBackward0>)\n",
      "tensor(-0.2638, grad_fn=<AddBackward0>) tensor(-0.2195, grad_fn=<MeanBackward0>) tensor(-0.0443, grad_fn=<MeanBackward0>)\n",
      "tensor(-0.3252, grad_fn=<AddBackward0>) tensor(-0.3179, grad_fn=<MeanBackward0>) tensor(-0.0073, grad_fn=<MeanBackward0>)\n",
      "tensor(-0.4473, grad_fn=<AddBackward0>) tensor(-0.4470, grad_fn=<MeanBackward0>) tensor(-0.0003, grad_fn=<MeanBackward0>)\n",
      "tensor(-0.6212, grad_fn=<AddBackward0>) tensor(-0.5823, grad_fn=<MeanBackward0>) tensor(-0.0389, grad_fn=<MeanBackward0>)\n",
      "tensor(-0.7581, grad_fn=<AddBackward0>) tensor(-0.6886, grad_fn=<MeanBackward0>) tensor(-0.0695, grad_fn=<MeanBackward0>)\n",
      "tensor(-0.7737, grad_fn=<AddBackward0>) tensor(-0.7284, grad_fn=<MeanBackward0>) tensor(-0.0453, grad_fn=<MeanBackward0>)\n",
      "tensor(-0.6578, grad_fn=<AddBackward0>) tensor(-0.6256, grad_fn=<MeanBackward0>) tensor(-0.0323, grad_fn=<MeanBackward0>)\n",
      "tensor(-2.8224, grad_fn=<AddBackward0>) tensor(-0.4750, grad_fn=<MeanBackward0>) tensor(-2.3474, grad_fn=<MeanBackward0>)\n",
      "tensor(-0.4113, grad_fn=<AddBackward0>) tensor(-0.3775, grad_fn=<MeanBackward0>) tensor(-0.0338, grad_fn=<MeanBackward0>)\n",
      "tensor(-3.6622, grad_fn=<AddBackward0>) tensor(-0.2891, grad_fn=<MeanBackward0>) tensor(-3.3731, grad_fn=<MeanBackward0>)\n",
      "tensor(-1.6541, grad_fn=<AddBackward0>) tensor(-0.2264, grad_fn=<MeanBackward0>) tensor(-1.4277, grad_fn=<MeanBackward0>)\n",
      "tensor(-0.8619, grad_fn=<AddBackward0>) tensor(-0.1938, grad_fn=<MeanBackward0>) tensor(-0.6682, grad_fn=<MeanBackward0>)\n",
      "tensor(-2.3228, grad_fn=<AddBackward0>) tensor(-0.1453, grad_fn=<MeanBackward0>) tensor(-2.1775, grad_fn=<MeanBackward0>)\n",
      "tensor(-1.6059, grad_fn=<AddBackward0>) tensor(-0.1254, grad_fn=<MeanBackward0>) tensor(-1.4805, grad_fn=<MeanBackward0>)\n",
      "tensor(-0.3849, grad_fn=<AddBackward0>) tensor(-0.1224, grad_fn=<MeanBackward0>) tensor(-0.2625, grad_fn=<MeanBackward0>)\n",
      "tensor(-4.2704, grad_fn=<AddBackward0>) tensor(-0.1154, grad_fn=<MeanBackward0>) tensor(-4.1550, grad_fn=<MeanBackward0>)\n",
      "tensor(-2.7462, grad_fn=<AddBackward0>) tensor(-0.1468, grad_fn=<MeanBackward0>) tensor(-2.5994, grad_fn=<MeanBackward0>)\n",
      "tensor(-0.4609, grad_fn=<AddBackward0>) tensor(-0.2260, grad_fn=<MeanBackward0>) tensor(-0.2349, grad_fn=<MeanBackward0>)\n",
      "tensor(-0.9023, grad_fn=<AddBackward0>) tensor(-0.2940, grad_fn=<MeanBackward0>) tensor(-0.6083, grad_fn=<MeanBackward0>)\n",
      "tensor(-0.3556, grad_fn=<AddBackward0>) tensor(-0.3476, grad_fn=<MeanBackward0>) tensor(-0.0080, grad_fn=<MeanBackward0>)\n",
      "tensor(-0.6593, grad_fn=<AddBackward0>) tensor(-0.3391, grad_fn=<MeanBackward0>) tensor(-0.3202, grad_fn=<MeanBackward0>)\n",
      "tensor(-1.2801, grad_fn=<AddBackward0>) tensor(-0.3087, grad_fn=<MeanBackward0>) tensor(-0.9714, grad_fn=<MeanBackward0>)\n",
      "tensor(-0.2836, grad_fn=<AddBackward0>) tensor(-0.2707, grad_fn=<MeanBackward0>) tensor(-0.0129, grad_fn=<MeanBackward0>)\n",
      "tensor(-0.6213, grad_fn=<AddBackward0>) tensor(-0.2134, grad_fn=<MeanBackward0>) tensor(-0.4079, grad_fn=<MeanBackward0>)\n",
      "tensor(-0.5328, grad_fn=<AddBackward0>) tensor(-0.1612, grad_fn=<MeanBackward0>) tensor(-0.3716, grad_fn=<MeanBackward0>)\n",
      "tensor(-0.1643, grad_fn=<AddBackward0>) tensor(-0.1346, grad_fn=<MeanBackward0>) tensor(-0.0297, grad_fn=<MeanBackward0>)\n",
      "tensor(-0.1141, grad_fn=<AddBackward0>) tensor(-0.1132, grad_fn=<MeanBackward0>) tensor(-0.0009, grad_fn=<MeanBackward0>)\n",
      "tensor(-0.9728, grad_fn=<AddBackward0>) tensor(-0.1009, grad_fn=<MeanBackward0>) tensor(-0.8719, grad_fn=<MeanBackward0>)\n",
      "tensor(-0.4454, grad_fn=<AddBackward0>) tensor(-0.1128, grad_fn=<MeanBackward0>) tensor(-0.3327, grad_fn=<MeanBackward0>)\n",
      "tensor(-1.9612, grad_fn=<AddBackward0>) tensor(-0.1452, grad_fn=<MeanBackward0>) tensor(-1.8159, grad_fn=<MeanBackward0>)\n",
      "tensor(-2.6649, grad_fn=<AddBackward0>) tensor(-0.1993, grad_fn=<MeanBackward0>) tensor(-2.4655, grad_fn=<MeanBackward0>)\n",
      "tensor(-2.5439, grad_fn=<AddBackward0>) tensor(-0.2982, grad_fn=<MeanBackward0>) tensor(-2.2457, grad_fn=<MeanBackward0>)\n",
      "tensor(-0.4786, grad_fn=<AddBackward0>) tensor(-0.4696, grad_fn=<MeanBackward0>) tensor(-0.0090, grad_fn=<MeanBackward0>)\n",
      "tensor(-0.5847, grad_fn=<AddBackward0>) tensor(-0.5694, grad_fn=<MeanBackward0>) tensor(-0.0153, grad_fn=<MeanBackward0>)\n",
      "tensor(-0.5881, grad_fn=<AddBackward0>) tensor(-0.5361, grad_fn=<MeanBackward0>) tensor(-0.0520, grad_fn=<MeanBackward0>)\n",
      "tensor(-0.4605, grad_fn=<AddBackward0>) tensor(-0.4181, grad_fn=<MeanBackward0>) tensor(-0.0424, grad_fn=<MeanBackward0>)\n",
      "tensor(-0.2933, grad_fn=<AddBackward0>) tensor(-0.2859, grad_fn=<MeanBackward0>) tensor(-0.0074, grad_fn=<MeanBackward0>)\n",
      "tensor(-0.2067, grad_fn=<AddBackward0>) tensor(-0.1892, grad_fn=<MeanBackward0>) tensor(-0.0175, grad_fn=<MeanBackward0>)\n",
      "tensor(-0.3277, grad_fn=<AddBackward0>) tensor(-0.1294, grad_fn=<MeanBackward0>) tensor(-0.1983, grad_fn=<MeanBackward0>)\n",
      "tensor(-1.6455, grad_fn=<AddBackward0>) tensor(-0.0967, grad_fn=<MeanBackward0>) tensor(-1.5489, grad_fn=<MeanBackward0>)\n",
      "tensor(-0.4700, grad_fn=<AddBackward0>) tensor(-0.1011, grad_fn=<MeanBackward0>) tensor(-0.3689, grad_fn=<MeanBackward0>)\n",
      "tensor(-1.0722, grad_fn=<AddBackward0>) tensor(-0.1146, grad_fn=<MeanBackward0>) tensor(-0.9576, grad_fn=<MeanBackward0>)\n",
      "tensor(-0.2098, grad_fn=<AddBackward0>) tensor(-0.1608, grad_fn=<MeanBackward0>) tensor(-0.0491, grad_fn=<MeanBackward0>)\n",
      "tensor(-0.6203, grad_fn=<AddBackward0>) tensor(-0.2069, grad_fn=<MeanBackward0>) tensor(-0.4134, grad_fn=<MeanBackward0>)\n",
      "tensor(-0.3368, grad_fn=<AddBackward0>) tensor(-0.2644, grad_fn=<MeanBackward0>) tensor(-0.0724, grad_fn=<MeanBackward0>)\n",
      "tensor(-0.4910, grad_fn=<AddBackward0>) tensor(-0.3011, grad_fn=<MeanBackward0>) tensor(-0.1899, grad_fn=<MeanBackward0>)\n",
      "tensor(-0.4401, grad_fn=<AddBackward0>) tensor(-0.3089, grad_fn=<MeanBackward0>) tensor(-0.1312, grad_fn=<MeanBackward0>)\n",
      "tensor(-0.2819, grad_fn=<AddBackward0>) tensor(-0.2814, grad_fn=<MeanBackward0>) tensor(-0.0004, grad_fn=<MeanBackward0>)\n",
      "tensor(-0.6738, grad_fn=<AddBackward0>) tensor(-0.2211, grad_fn=<MeanBackward0>) tensor(-0.4527, grad_fn=<MeanBackward0>)\n",
      "tensor(-0.4848, grad_fn=<AddBackward0>) tensor(-0.1883, grad_fn=<MeanBackward0>) tensor(-0.2964, grad_fn=<MeanBackward0>)\n",
      "tensor(-0.2939, grad_fn=<AddBackward0>) tensor(-0.1670, grad_fn=<MeanBackward0>) tensor(-0.1268, grad_fn=<MeanBackward0>)\n",
      "tensor(-0.2068, grad_fn=<AddBackward0>) tensor(-0.1517, grad_fn=<MeanBackward0>) tensor(-0.0550, grad_fn=<MeanBackward0>)\n",
      "tensor(-0.5724, grad_fn=<AddBackward0>) tensor(-0.1402, grad_fn=<MeanBackward0>) tensor(-0.4321, grad_fn=<MeanBackward0>)\n",
      "tensor(-0.2897, grad_fn=<AddBackward0>) tensor(-0.1398, grad_fn=<MeanBackward0>) tensor(-0.1499, grad_fn=<MeanBackward0>)\n",
      "tensor(-2.2432, grad_fn=<AddBackward0>) tensor(-0.1274, grad_fn=<MeanBackward0>) tensor(-2.1157, grad_fn=<MeanBackward0>)\n",
      "tensor(-0.6828, grad_fn=<AddBackward0>) tensor(-0.1409, grad_fn=<MeanBackward0>) tensor(-0.5419, grad_fn=<MeanBackward0>)\n",
      "tensor(-0.9880, grad_fn=<AddBackward0>) tensor(-0.1552, grad_fn=<MeanBackward0>) tensor(-0.8328, grad_fn=<MeanBackward0>)\n",
      "tensor(-0.2656, grad_fn=<AddBackward0>) tensor(-0.1622, grad_fn=<MeanBackward0>) tensor(-0.1034, grad_fn=<MeanBackward0>)\n",
      "tensor(-0.7306, grad_fn=<AddBackward0>) tensor(-0.1666, grad_fn=<MeanBackward0>) tensor(-0.5640, grad_fn=<MeanBackward0>)\n",
      "tensor(-2.2103, grad_fn=<AddBackward0>) tensor(-0.1767, grad_fn=<MeanBackward0>) tensor(-2.0336, grad_fn=<MeanBackward0>)\n",
      "tensor(-0.2977, grad_fn=<AddBackward0>) tensor(-0.1912, grad_fn=<MeanBackward0>) tensor(-0.1066, grad_fn=<MeanBackward0>)\n",
      "tensor(-0.2357, grad_fn=<AddBackward0>) tensor(-0.1966, grad_fn=<MeanBackward0>) tensor(-0.0391, grad_fn=<MeanBackward0>)\n",
      "tensor(-0.2067, grad_fn=<AddBackward0>) tensor(-0.1808, grad_fn=<MeanBackward0>) tensor(-0.0259, grad_fn=<MeanBackward0>)\n",
      "tensor(-0.2659, grad_fn=<AddBackward0>) tensor(-0.1557, grad_fn=<MeanBackward0>) tensor(-0.1103, grad_fn=<MeanBackward0>)\n",
      "tensor(-0.8196, grad_fn=<AddBackward0>) tensor(-0.1270, grad_fn=<MeanBackward0>) tensor(-0.6926, grad_fn=<MeanBackward0>)\n",
      "tensor(-0.1255, grad_fn=<AddBackward0>) tensor(-0.1071, grad_fn=<MeanBackward0>) tensor(-0.0184, grad_fn=<MeanBackward0>)\n",
      "tensor(-0.6816, grad_fn=<AddBackward0>) tensor(-0.0901, grad_fn=<MeanBackward0>) tensor(-0.5915, grad_fn=<MeanBackward0>)\n",
      "tensor(-0.1966, grad_fn=<AddBackward0>) tensor(-0.0814, grad_fn=<MeanBackward0>) tensor(-0.1153, grad_fn=<MeanBackward0>)\n",
      "tensor(-0.1804, grad_fn=<AddBackward0>) tensor(-0.0761, grad_fn=<MeanBackward0>) tensor(-0.1043, grad_fn=<MeanBackward0>)\n",
      "tensor(-0.9739, grad_fn=<AddBackward0>) tensor(-0.0731, grad_fn=<MeanBackward0>) tensor(-0.9008, grad_fn=<MeanBackward0>)\n",
      "tensor(-0.4113, grad_fn=<AddBackward0>) tensor(-0.0828, grad_fn=<MeanBackward0>) tensor(-0.3285, grad_fn=<MeanBackward0>)\n",
      "tensor(-0.1050, grad_fn=<AddBackward0>) tensor(-0.0997, grad_fn=<MeanBackward0>) tensor(-0.0053, grad_fn=<MeanBackward0>)\n",
      "tensor(-0.1774, grad_fn=<AddBackward0>) tensor(-0.1179, grad_fn=<MeanBackward0>) tensor(-0.0595, grad_fn=<MeanBackward0>)\n",
      "tensor(-0.4268, grad_fn=<AddBackward0>) tensor(-0.1419, grad_fn=<MeanBackward0>) tensor(-0.2849, grad_fn=<MeanBackward0>)\n",
      "tensor(-0.1934, grad_fn=<AddBackward0>) tensor(-0.1763, grad_fn=<MeanBackward0>) tensor(-0.0170, grad_fn=<MeanBackward0>)\n",
      "tensor(-0.2180, grad_fn=<AddBackward0>) tensor(-0.2179, grad_fn=<MeanBackward0>) tensor(-7.0813e-05, grad_fn=<MeanBackward0>)\n",
      "tensor(-0.5344, grad_fn=<AddBackward0>) tensor(-0.2546, grad_fn=<MeanBackward0>) tensor(-0.2798, grad_fn=<MeanBackward0>)\n",
      "tensor(-0.3230, grad_fn=<AddBackward0>) tensor(-0.2783, grad_fn=<MeanBackward0>) tensor(-0.0447, grad_fn=<MeanBackward0>)\n",
      "tensor(-0.4095, grad_fn=<AddBackward0>) tensor(-0.2675, grad_fn=<MeanBackward0>) tensor(-0.1421, grad_fn=<MeanBackward0>)\n",
      "tensor(-0.3309, grad_fn=<AddBackward0>) tensor(-0.2560, grad_fn=<MeanBackward0>) tensor(-0.0749, grad_fn=<MeanBackward0>)\n",
      "tensor(-0.9045, grad_fn=<AddBackward0>) tensor(-0.2358, grad_fn=<MeanBackward0>) tensor(-0.6687, grad_fn=<MeanBackward0>)\n",
      "tensor(-0.2403, grad_fn=<AddBackward0>) tensor(-0.2399, grad_fn=<MeanBackward0>) tensor(-0.0004, grad_fn=<MeanBackward0>)\n",
      "tensor(-0.2380, grad_fn=<AddBackward0>) tensor(-0.2359, grad_fn=<MeanBackward0>) tensor(-0.0020, grad_fn=<MeanBackward0>)\n",
      "tensor(-0.4318, grad_fn=<AddBackward0>) tensor(-0.2221, grad_fn=<MeanBackward0>) tensor(-0.2097, grad_fn=<MeanBackward0>)\n",
      "tensor(-0.1884, grad_fn=<AddBackward0>) tensor(-0.1878, grad_fn=<MeanBackward0>) tensor(-0.0006, grad_fn=<MeanBackward0>)\n",
      "tensor(-0.2597, grad_fn=<AddBackward0>) tensor(-0.1517, grad_fn=<MeanBackward0>) tensor(-0.1080, grad_fn=<MeanBackward0>)\n",
      "tensor(-0.4036, grad_fn=<AddBackward0>) tensor(-0.1114, grad_fn=<MeanBackward0>) tensor(-0.2922, grad_fn=<MeanBackward0>)\n",
      "tensor(-0.1175, grad_fn=<AddBackward0>) tensor(-0.0867, grad_fn=<MeanBackward0>) tensor(-0.0309, grad_fn=<MeanBackward0>)\n",
      "tensor(-0.0696, grad_fn=<AddBackward0>) tensor(-0.0688, grad_fn=<MeanBackward0>) tensor(-0.0007, grad_fn=<MeanBackward0>)\n",
      "tensor(-2.3755, grad_fn=<AddBackward0>) tensor(-0.0628, grad_fn=<MeanBackward0>) tensor(-2.3127, grad_fn=<MeanBackward0>)\n",
      "tensor(-0.0742, grad_fn=<AddBackward0>) tensor(-0.0654, grad_fn=<MeanBackward0>) tensor(-0.0088, grad_fn=<MeanBackward0>)\n",
      "tensor(-0.4374, grad_fn=<AddBackward0>) tensor(-0.0654, grad_fn=<MeanBackward0>) tensor(-0.3721, grad_fn=<MeanBackward0>)\n",
      "tensor(-1.0351, grad_fn=<AddBackward0>) tensor(-0.0678, grad_fn=<MeanBackward0>) tensor(-0.9672, grad_fn=<MeanBackward0>)\n",
      "tensor(-0.1487, grad_fn=<AddBackward0>) tensor(-0.0771, grad_fn=<MeanBackward0>) tensor(-0.0717, grad_fn=<MeanBackward0>)\n",
      "tensor(-0.0993, grad_fn=<AddBackward0>) tensor(-0.0909, grad_fn=<MeanBackward0>) tensor(-0.0084, grad_fn=<MeanBackward0>)\n",
      "tensor(-0.1390, grad_fn=<AddBackward0>) tensor(-0.1096, grad_fn=<MeanBackward0>) tensor(-0.0294, grad_fn=<MeanBackward0>)\n",
      "tensor(-0.9129, grad_fn=<AddBackward0>) tensor(-0.1322, grad_fn=<MeanBackward0>) tensor(-0.7807, grad_fn=<MeanBackward0>)\n",
      "tensor(-0.1713, grad_fn=<AddBackward0>) tensor(-0.1709, grad_fn=<MeanBackward0>) tensor(-0.0004, grad_fn=<MeanBackward0>)\n",
      "tensor(-0.2451, grad_fn=<AddBackward0>) tensor(-0.2161, grad_fn=<MeanBackward0>) tensor(-0.0290, grad_fn=<MeanBackward0>)\n",
      "tensor(-0.2700, grad_fn=<AddBackward0>) tensor(-0.2695, grad_fn=<MeanBackward0>) tensor(-0.0005, grad_fn=<MeanBackward0>)\n",
      "tensor(-0.3142, grad_fn=<AddBackward0>) tensor(-0.3140, grad_fn=<MeanBackward0>) tensor(-0.0003, grad_fn=<MeanBackward0>)\n",
      "tensor(-0.3364, grad_fn=<AddBackward0>) tensor(-0.3344, grad_fn=<MeanBackward0>) tensor(-0.0020, grad_fn=<MeanBackward0>)\n",
      "tensor(-0.6073, grad_fn=<AddBackward0>) tensor(-0.3362, grad_fn=<MeanBackward0>) tensor(-0.2711, grad_fn=<MeanBackward0>)\n",
      "tensor(-0.4019, grad_fn=<AddBackward0>) tensor(-0.3456, grad_fn=<MeanBackward0>) tensor(-0.0563, grad_fn=<MeanBackward0>)\n",
      "tensor(-0.3711, grad_fn=<AddBackward0>) tensor(-0.3677, grad_fn=<MeanBackward0>) tensor(-0.0034, grad_fn=<MeanBackward0>)\n",
      "tensor(-0.3930, grad_fn=<AddBackward0>) tensor(-0.3904, grad_fn=<MeanBackward0>) tensor(-0.0026, grad_fn=<MeanBackward0>)\n",
      "tensor(-0.4172, grad_fn=<AddBackward0>) tensor(-0.4170, grad_fn=<MeanBackward0>) tensor(-0.0002, grad_fn=<MeanBackward0>)\n",
      "tensor(-0.4975, grad_fn=<AddBackward0>) tensor(-0.4560, grad_fn=<MeanBackward0>) tensor(-0.0415, grad_fn=<MeanBackward0>)\n",
      "tensor(-2.0188, grad_fn=<AddBackward0>) tensor(-0.5246, grad_fn=<MeanBackward0>) tensor(-1.4942, grad_fn=<MeanBackward0>)\n",
      "tensor(-1.4480, grad_fn=<AddBackward0>) tensor(-0.6152, grad_fn=<MeanBackward0>) tensor(-0.8328, grad_fn=<MeanBackward0>)\n",
      "tensor(-0.6857, grad_fn=<AddBackward0>) tensor(-0.6772, grad_fn=<MeanBackward0>) tensor(-0.0084, grad_fn=<MeanBackward0>)\n",
      "tensor(-1.0568, grad_fn=<AddBackward0>) tensor(-0.6479, grad_fn=<MeanBackward0>) tensor(-0.4090, grad_fn=<MeanBackward0>)\n",
      "tensor(-0.5516, grad_fn=<AddBackward0>) tensor(-0.5319, grad_fn=<MeanBackward0>) tensor(-0.0197, grad_fn=<MeanBackward0>)\n",
      "tensor(-2.5391, grad_fn=<AddBackward0>) tensor(-0.3475, grad_fn=<MeanBackward0>) tensor(-2.1917, grad_fn=<MeanBackward0>)\n",
      "tensor(-0.5129, grad_fn=<AddBackward0>) tensor(-0.2345, grad_fn=<MeanBackward0>) tensor(-0.2784, grad_fn=<MeanBackward0>)\n",
      "tensor(-2.1758, grad_fn=<AddBackward0>) tensor(-0.1625, grad_fn=<MeanBackward0>) tensor(-2.0133, grad_fn=<MeanBackward0>)\n",
      "tensor(-0.2854, grad_fn=<AddBackward0>) tensor(-0.1405, grad_fn=<MeanBackward0>) tensor(-0.1449, grad_fn=<MeanBackward0>)\n",
      "tensor(-3.2788, grad_fn=<AddBackward0>) tensor(-0.1366, grad_fn=<MeanBackward0>) tensor(-3.1422, grad_fn=<MeanBackward0>)\n",
      "tensor(-3.6168, grad_fn=<AddBackward0>) tensor(-0.1554, grad_fn=<MeanBackward0>) tensor(-3.4614, grad_fn=<MeanBackward0>)\n",
      "tensor(-4.3502, grad_fn=<AddBackward0>) tensor(-0.1739, grad_fn=<MeanBackward0>) tensor(-4.1763, grad_fn=<MeanBackward0>)\n",
      "tensor(-0.4272, grad_fn=<AddBackward0>) tensor(-0.1754, grad_fn=<MeanBackward0>) tensor(-0.2518, grad_fn=<MeanBackward0>)\n",
      "tensor(-1.1378, grad_fn=<AddBackward0>) tensor(-0.1927, grad_fn=<MeanBackward0>) tensor(-0.9452, grad_fn=<MeanBackward0>)\n",
      "tensor(-0.9314, grad_fn=<AddBackward0>) tensor(-0.2467, grad_fn=<MeanBackward0>) tensor(-0.6847, grad_fn=<MeanBackward0>)\n",
      "tensor(-1.5632, grad_fn=<AddBackward0>) tensor(-0.3632, grad_fn=<MeanBackward0>) tensor(-1.2000, grad_fn=<MeanBackward0>)\n",
      "tensor(-0.4422, grad_fn=<AddBackward0>) tensor(-0.4418, grad_fn=<MeanBackward0>) tensor(-0.0004, grad_fn=<MeanBackward0>)\n",
      "tensor(-2.4171, grad_fn=<AddBackward0>) tensor(-0.4295, grad_fn=<MeanBackward0>) tensor(-1.9876, grad_fn=<MeanBackward0>)\n",
      "tensor(-4.1456, grad_fn=<AddBackward0>) tensor(-0.4310, grad_fn=<MeanBackward0>) tensor(-3.7146, grad_fn=<MeanBackward0>)\n",
      "tensor(-0.5110, grad_fn=<AddBackward0>) tensor(-0.3453, grad_fn=<MeanBackward0>) tensor(-0.1657, grad_fn=<MeanBackward0>)\n",
      "tensor(-0.2919, grad_fn=<AddBackward0>) tensor(-0.2083, grad_fn=<MeanBackward0>) tensor(-0.0835, grad_fn=<MeanBackward0>)\n",
      "tensor(-0.2411, grad_fn=<AddBackward0>) tensor(-0.1065, grad_fn=<MeanBackward0>) tensor(-0.1347, grad_fn=<MeanBackward0>)\n",
      "tensor(-1.3484, grad_fn=<AddBackward0>) tensor(-0.0510, grad_fn=<MeanBackward0>) tensor(-1.2975, grad_fn=<MeanBackward0>)\n",
      "tensor(-1.0913, grad_fn=<AddBackward0>) tensor(-0.0290, grad_fn=<MeanBackward0>) tensor(-1.0624, grad_fn=<MeanBackward0>)\n",
      "tensor(-0.1262, grad_fn=<AddBackward0>) tensor(-0.0220, grad_fn=<MeanBackward0>) tensor(-0.1042, grad_fn=<MeanBackward0>)\n",
      "tensor(-0.0673, grad_fn=<AddBackward0>) tensor(-0.0201, grad_fn=<MeanBackward0>) tensor(-0.0472, grad_fn=<MeanBackward0>)\n",
      "tensor(-0.1937, grad_fn=<AddBackward0>) tensor(-0.0215, grad_fn=<MeanBackward0>) tensor(-0.1722, grad_fn=<MeanBackward0>)\n",
      "tensor(-0.4321, grad_fn=<AddBackward0>) tensor(-0.0277, grad_fn=<MeanBackward0>) tensor(-0.4044, grad_fn=<MeanBackward0>)\n",
      "tensor(-0.0491, grad_fn=<AddBackward0>) tensor(-0.0415, grad_fn=<MeanBackward0>) tensor(-0.0076, grad_fn=<MeanBackward0>)\n",
      "tensor(-0.0834, grad_fn=<AddBackward0>) tensor(-0.0600, grad_fn=<MeanBackward0>) tensor(-0.0234, grad_fn=<MeanBackward0>)\n",
      "tensor(-2.0573, grad_fn=<AddBackward0>) tensor(-0.0662, grad_fn=<MeanBackward0>) tensor(-1.9911, grad_fn=<MeanBackward0>)\n",
      "tensor(-0.0921, grad_fn=<AddBackward0>) tensor(-0.0632, grad_fn=<MeanBackward0>) tensor(-0.0289, grad_fn=<MeanBackward0>)\n",
      "tensor(-0.0663, grad_fn=<AddBackward0>) tensor(-0.0529, grad_fn=<MeanBackward0>) tensor(-0.0133, grad_fn=<MeanBackward0>)\n",
      "tensor(-2.5515, grad_fn=<AddBackward0>) tensor(-0.0424, grad_fn=<MeanBackward0>) tensor(-2.5091, grad_fn=<MeanBackward0>)\n",
      "tensor(-0.1753, grad_fn=<AddBackward0>) tensor(-0.0362, grad_fn=<MeanBackward0>) tensor(-0.1391, grad_fn=<MeanBackward0>)\n",
      "tensor(-0.0342, grad_fn=<AddBackward0>) tensor(-0.0316, grad_fn=<MeanBackward0>) tensor(-0.0025, grad_fn=<MeanBackward0>)\n",
      "tensor(-0.0360, grad_fn=<AddBackward0>) tensor(-0.0283, grad_fn=<MeanBackward0>) tensor(-0.0077, grad_fn=<MeanBackward0>)\n",
      "tensor(-0.0447, grad_fn=<AddBackward0>) tensor(-0.0256, grad_fn=<MeanBackward0>) tensor(-0.0191, grad_fn=<MeanBackward0>)\n",
      "tensor(-2.6359, grad_fn=<AddBackward0>) tensor(-0.0239, grad_fn=<MeanBackward0>) tensor(-2.6120, grad_fn=<MeanBackward0>)\n",
      "tensor(-0.7097, grad_fn=<AddBackward0>) tensor(-0.0227, grad_fn=<MeanBackward0>) tensor(-0.6870, grad_fn=<MeanBackward0>)\n",
      "tensor(-0.0241, grad_fn=<AddBackward0>) tensor(-0.0230, grad_fn=<MeanBackward0>) tensor(-0.0011, grad_fn=<MeanBackward0>)\n",
      "tensor(-0.0314, grad_fn=<AddBackward0>) tensor(-0.0239, grad_fn=<MeanBackward0>) tensor(-0.0075, grad_fn=<MeanBackward0>)\n",
      "tensor(-0.0268, grad_fn=<AddBackward0>) tensor(-0.0253, grad_fn=<MeanBackward0>) tensor(-0.0015, grad_fn=<MeanBackward0>)\n",
      "tensor(-0.0301, grad_fn=<AddBackward0>) tensor(-0.0265, grad_fn=<MeanBackward0>) tensor(-0.0036, grad_fn=<MeanBackward0>)\n",
      "tensor(-0.0293, grad_fn=<AddBackward0>) tensor(-0.0292, grad_fn=<MeanBackward0>) tensor(-0.0002, grad_fn=<MeanBackward0>)\n",
      "tensor(-0.0337, grad_fn=<AddBackward0>) tensor(-0.0331, grad_fn=<MeanBackward0>) tensor(-0.0006, grad_fn=<MeanBackward0>)\n",
      "tensor(-0.0394, grad_fn=<AddBackward0>) tensor(-0.0374, grad_fn=<MeanBackward0>) tensor(-0.0020, grad_fn=<MeanBackward0>)\n",
      "tensor(-0.6078, grad_fn=<AddBackward0>) tensor(-0.0441, grad_fn=<MeanBackward0>) tensor(-0.5637, grad_fn=<MeanBackward0>)\n",
      "tensor(-0.9543, grad_fn=<AddBackward0>) tensor(-0.0545, grad_fn=<MeanBackward0>) tensor(-0.8998, grad_fn=<MeanBackward0>)\n",
      "tensor(-0.0730, grad_fn=<AddBackward0>) tensor(-0.0722, grad_fn=<MeanBackward0>) tensor(-0.0009, grad_fn=<MeanBackward0>)\n",
      "tensor(-0.1014, grad_fn=<AddBackward0>) tensor(-0.0913, grad_fn=<MeanBackward0>) tensor(-0.0101, grad_fn=<MeanBackward0>)\n",
      "tensor(-0.1474, grad_fn=<AddBackward0>) tensor(-0.1201, grad_fn=<MeanBackward0>) tensor(-0.0273, grad_fn=<MeanBackward0>)\n",
      "tensor(-0.8480, grad_fn=<AddBackward0>) tensor(-0.1365, grad_fn=<MeanBackward0>) tensor(-0.7115, grad_fn=<MeanBackward0>)\n",
      "tensor(-0.2112, grad_fn=<AddBackward0>) tensor(-0.1724, grad_fn=<MeanBackward0>) tensor(-0.0389, grad_fn=<MeanBackward0>)\n",
      "tensor(-0.2185, grad_fn=<AddBackward0>) tensor(-0.1852, grad_fn=<MeanBackward0>) tensor(-0.0332, grad_fn=<MeanBackward0>)\n",
      "tensor(-0.1799, grad_fn=<AddBackward0>) tensor(-0.1797, grad_fn=<MeanBackward0>) tensor(-0.0001, grad_fn=<MeanBackward0>)\n",
      "tensor(-0.1645, grad_fn=<AddBackward0>) tensor(-0.1605, grad_fn=<MeanBackward0>) tensor(-0.0040, grad_fn=<MeanBackward0>)\n",
      "tensor(-0.1381, grad_fn=<AddBackward0>) tensor(-0.1337, grad_fn=<MeanBackward0>) tensor(-0.0044, grad_fn=<MeanBackward0>)\n",
      "tensor(-0.1079, grad_fn=<AddBackward0>) tensor(-0.1017, grad_fn=<MeanBackward0>) tensor(-0.0062, grad_fn=<MeanBackward0>)\n",
      "tensor(-0.0759, grad_fn=<AddBackward0>) tensor(-0.0756, grad_fn=<MeanBackward0>) tensor(-0.0003, grad_fn=<MeanBackward0>)\n",
      "tensor(-0.0587, grad_fn=<AddBackward0>) tensor(-0.0587, grad_fn=<MeanBackward0>) tensor(-7.1526e-07, grad_fn=<MeanBackward0>)\n",
      "tensor(-0.0439, grad_fn=<AddBackward0>) tensor(-0.0438, grad_fn=<MeanBackward0>) tensor(-8.2880e-05, grad_fn=<MeanBackward0>)\n",
      "tensor(-0.0370, grad_fn=<AddBackward0>) tensor(-0.0352, grad_fn=<MeanBackward0>) tensor(-0.0018, grad_fn=<MeanBackward0>)\n",
      "tensor(-0.0346, grad_fn=<AddBackward0>) tensor(-0.0297, grad_fn=<MeanBackward0>) tensor(-0.0048, grad_fn=<MeanBackward0>)\n",
      "tensor(-0.0267, grad_fn=<AddBackward0>) tensor(-0.0267, grad_fn=<MeanBackward0>) tensor(-4.0414e-05, grad_fn=<MeanBackward0>)\n",
      "tensor(-0.0271, grad_fn=<AddBackward0>) tensor(-0.0253, grad_fn=<MeanBackward0>) tensor(-0.0018, grad_fn=<MeanBackward0>)\n",
      "tensor(-0.0259, grad_fn=<AddBackward0>) tensor(-0.0256, grad_fn=<MeanBackward0>) tensor(-0.0003, grad_fn=<MeanBackward0>)\n",
      "tensor(-0.0287, grad_fn=<AddBackward0>) tensor(-0.0275, grad_fn=<MeanBackward0>) tensor(-0.0012, grad_fn=<MeanBackward0>)\n",
      "tensor(-0.0315, grad_fn=<AddBackward0>) tensor(-0.0312, grad_fn=<MeanBackward0>) tensor(-0.0003, grad_fn=<MeanBackward0>)\n",
      "tensor(-0.0361, grad_fn=<AddBackward0>) tensor(-0.0357, grad_fn=<MeanBackward0>) tensor(-0.0004, grad_fn=<MeanBackward0>)\n",
      "tensor(-0.3587, grad_fn=<AddBackward0>) tensor(-0.0406, grad_fn=<MeanBackward0>) tensor(-0.3181, grad_fn=<MeanBackward0>)\n",
      "tensor(-0.0545, grad_fn=<AddBackward0>) tensor(-0.0545, grad_fn=<MeanBackward0>) tensor(-3.0876e-05, grad_fn=<MeanBackward0>)\n",
      "tensor(-0.0756, grad_fn=<AddBackward0>) tensor(-0.0744, grad_fn=<MeanBackward0>) tensor(-0.0012, grad_fn=<MeanBackward0>)\n",
      "tensor(-0.1020, grad_fn=<AddBackward0>) tensor(-0.1011, grad_fn=<MeanBackward0>) tensor(-0.0009, grad_fn=<MeanBackward0>)\n",
      "tensor(-0.1320, grad_fn=<AddBackward0>) tensor(-0.1317, grad_fn=<MeanBackward0>) tensor(-0.0003, grad_fn=<MeanBackward0>)\n",
      "tensor(-0.1746, grad_fn=<AddBackward0>) tensor(-0.1686, grad_fn=<MeanBackward0>) tensor(-0.0061, grad_fn=<MeanBackward0>)\n",
      "tensor(-0.2089, grad_fn=<AddBackward0>) tensor(-0.2089, grad_fn=<MeanBackward0>) tensor(-4.0136e-05, grad_fn=<MeanBackward0>)\n",
      "tensor(-0.2698, grad_fn=<AddBackward0>) tensor(-0.2521, grad_fn=<MeanBackward0>) tensor(-0.0177, grad_fn=<MeanBackward0>)\n",
      "tensor(-0.3691, grad_fn=<AddBackward0>) tensor(-0.2993, grad_fn=<MeanBackward0>) tensor(-0.0698, grad_fn=<MeanBackward0>)\n",
      "tensor(-0.3342, grad_fn=<AddBackward0>) tensor(-0.3341, grad_fn=<MeanBackward0>) tensor(-6.4200e-05, grad_fn=<MeanBackward0>)\n",
      "tensor(-0.3497, grad_fn=<AddBackward0>) tensor(-0.3484, grad_fn=<MeanBackward0>) tensor(-0.0013, grad_fn=<MeanBackward0>)\n",
      "tensor(-0.3570, grad_fn=<AddBackward0>) tensor(-0.3489, grad_fn=<MeanBackward0>) tensor(-0.0081, grad_fn=<MeanBackward0>)\n",
      "tensor(-0.3260, grad_fn=<AddBackward0>) tensor(-0.3097, grad_fn=<MeanBackward0>) tensor(-0.0163, grad_fn=<MeanBackward0>)\n",
      "tensor(-0.2614, grad_fn=<AddBackward0>) tensor(-0.2583, grad_fn=<MeanBackward0>) tensor(-0.0031, grad_fn=<MeanBackward0>)\n",
      "tensor(-0.2793, grad_fn=<AddBackward0>) tensor(-0.2096, grad_fn=<MeanBackward0>) tensor(-0.0697, grad_fn=<MeanBackward0>)\n",
      "tensor(-0.4714, grad_fn=<AddBackward0>) tensor(-0.1704, grad_fn=<MeanBackward0>) tensor(-0.3011, grad_fn=<MeanBackward0>)\n",
      "tensor(-0.1588, grad_fn=<AddBackward0>) tensor(-0.1553, grad_fn=<MeanBackward0>) tensor(-0.0034, grad_fn=<MeanBackward0>)\n",
      "tensor(-1.9134, grad_fn=<AddBackward0>) tensor(-0.1433, grad_fn=<MeanBackward0>) tensor(-1.7701, grad_fn=<MeanBackward0>)\n",
      "tensor(-0.1586, grad_fn=<AddBackward0>) tensor(-0.1566, grad_fn=<MeanBackward0>) tensor(-0.0020, grad_fn=<MeanBackward0>)\n",
      "tensor(-0.1854, grad_fn=<AddBackward0>) tensor(-0.1819, grad_fn=<MeanBackward0>) tensor(-0.0035, grad_fn=<MeanBackward0>)\n",
      "tensor(-0.6379, grad_fn=<AddBackward0>) tensor(-0.2211, grad_fn=<MeanBackward0>) tensor(-0.4168, grad_fn=<MeanBackward0>)\n",
      "tensor(-0.2869, grad_fn=<AddBackward0>) tensor(-0.2853, grad_fn=<MeanBackward0>) tensor(-0.0016, grad_fn=<MeanBackward0>)\n",
      "tensor(-0.3785, grad_fn=<AddBackward0>) tensor(-0.3653, grad_fn=<MeanBackward0>) tensor(-0.0132, grad_fn=<MeanBackward0>)\n",
      "tensor(-0.4638, grad_fn=<AddBackward0>) tensor(-0.4462, grad_fn=<MeanBackward0>) tensor(-0.0177, grad_fn=<MeanBackward0>)\n",
      "tensor(-1.0676, grad_fn=<AddBackward0>) tensor(-0.4958, grad_fn=<MeanBackward0>) tensor(-0.5718, grad_fn=<MeanBackward0>)\n",
      "tensor(-0.4865, grad_fn=<AddBackward0>) tensor(-0.4784, grad_fn=<MeanBackward0>) tensor(-0.0081, grad_fn=<MeanBackward0>)\n",
      "tensor(-0.4479, grad_fn=<AddBackward0>) tensor(-0.4420, grad_fn=<MeanBackward0>) tensor(-0.0059, grad_fn=<MeanBackward0>)\n",
      "tensor(-0.4131, grad_fn=<AddBackward0>) tensor(-0.4054, grad_fn=<MeanBackward0>) tensor(-0.0077, grad_fn=<MeanBackward0>)\n",
      "tensor(-0.8176, grad_fn=<AddBackward0>) tensor(-0.3825, grad_fn=<MeanBackward0>) tensor(-0.4350, grad_fn=<MeanBackward0>)\n",
      "tensor(-0.6742, grad_fn=<AddBackward0>) tensor(-0.4381, grad_fn=<MeanBackward0>) tensor(-0.2361, grad_fn=<MeanBackward0>)\n",
      "tensor(-0.7997, grad_fn=<AddBackward0>) tensor(-0.6675, grad_fn=<MeanBackward0>) tensor(-0.1322, grad_fn=<MeanBackward0>)\n",
      "tensor(-2.4986, grad_fn=<AddBackward0>) tensor(-1.0886, grad_fn=<MeanBackward0>) tensor(-1.4100, grad_fn=<MeanBackward0>)\n",
      "tensor(-4.3362, grad_fn=<AddBackward0>) tensor(-1.2990, grad_fn=<MeanBackward0>) tensor(-3.0372, grad_fn=<MeanBackward0>)\n",
      "tensor(-1.4097, grad_fn=<AddBackward0>) tensor(-1.2967, grad_fn=<MeanBackward0>) tensor(-0.1130, grad_fn=<MeanBackward0>)\n",
      "tensor(-3.0814, grad_fn=<AddBackward0>) tensor(-1.0829, grad_fn=<MeanBackward0>) tensor(-1.9986, grad_fn=<MeanBackward0>)\n",
      "tensor(-3.8843, grad_fn=<AddBackward0>) tensor(-0.8836, grad_fn=<MeanBackward0>) tensor(-3.0007, grad_fn=<MeanBackward0>)\n",
      "tensor(-3.4239, grad_fn=<AddBackward0>) tensor(-0.6779, grad_fn=<MeanBackward0>) tensor(-2.7460, grad_fn=<MeanBackward0>)\n",
      "tensor(-2.2568, grad_fn=<AddBackward0>) tensor(-0.4474, grad_fn=<MeanBackward0>) tensor(-1.8094, grad_fn=<MeanBackward0>)\n",
      "tensor(-1.0159, grad_fn=<AddBackward0>) tensor(-0.2263, grad_fn=<MeanBackward0>) tensor(-0.7896, grad_fn=<MeanBackward0>)\n",
      "tensor(-5.9727, grad_fn=<AddBackward0>) tensor(-0.1009, grad_fn=<MeanBackward0>) tensor(-5.8718, grad_fn=<MeanBackward0>)\n",
      "tensor(-6.3758, grad_fn=<AddBackward0>) tensor(-0.0511, grad_fn=<MeanBackward0>) tensor(-6.3246, grad_fn=<MeanBackward0>)\n",
      "tensor(-10.9676, grad_fn=<AddBackward0>) tensor(-0.0366, grad_fn=<MeanBackward0>) tensor(-10.9310, grad_fn=<MeanBackward0>)\n",
      "tensor(-2.0699, grad_fn=<AddBackward0>) tensor(-0.0363, grad_fn=<MeanBackward0>) tensor(-2.0336, grad_fn=<MeanBackward0>)\n",
      "tensor(-2.1257, grad_fn=<AddBackward0>) tensor(-0.0473, grad_fn=<MeanBackward0>) tensor(-2.0783, grad_fn=<MeanBackward0>)\n",
      "tensor(-3.1461, grad_fn=<AddBackward0>) tensor(-0.0872, grad_fn=<MeanBackward0>) tensor(-3.0588, grad_fn=<MeanBackward0>)\n",
      "tensor(-2.0054, grad_fn=<AddBackward0>) tensor(-0.1795, grad_fn=<MeanBackward0>) tensor(-1.8259, grad_fn=<MeanBackward0>)\n",
      "tensor(-2.3049, grad_fn=<AddBackward0>) tensor(-0.4256, grad_fn=<MeanBackward0>) tensor(-1.8793, grad_fn=<MeanBackward0>)\n",
      "tensor(-1.2093, grad_fn=<AddBackward0>) tensor(-0.7253, grad_fn=<MeanBackward0>) tensor(-0.4840, grad_fn=<MeanBackward0>)\n",
      "tensor(-0.9193, grad_fn=<AddBackward0>) tensor(-0.9191, grad_fn=<MeanBackward0>) tensor(-0.0002, grad_fn=<MeanBackward0>)\n",
      "tensor(-1.2104, grad_fn=<AddBackward0>) tensor(-0.8272, grad_fn=<MeanBackward0>) tensor(-0.3831, grad_fn=<MeanBackward0>)\n",
      "tensor(-0.7061, grad_fn=<AddBackward0>) tensor(-0.6493, grad_fn=<MeanBackward0>) tensor(-0.0568, grad_fn=<MeanBackward0>)\n",
      "tensor(-2.0693, grad_fn=<AddBackward0>) tensor(-0.5396, grad_fn=<MeanBackward0>) tensor(-1.5298, grad_fn=<MeanBackward0>)\n",
      "tensor(-0.7092, grad_fn=<AddBackward0>) tensor(-0.4081, grad_fn=<MeanBackward0>) tensor(-0.3010, grad_fn=<MeanBackward0>)\n",
      "tensor(-0.6281, grad_fn=<AddBackward0>) tensor(-0.5669, grad_fn=<MeanBackward0>) tensor(-0.0611, grad_fn=<MeanBackward0>)\n",
      "tensor(-1.7702, grad_fn=<AddBackward0>) tensor(-0.6160, grad_fn=<MeanBackward0>) tensor(-1.1543, grad_fn=<MeanBackward0>)\n",
      "tensor(-0.6149, grad_fn=<AddBackward0>) tensor(-0.6042, grad_fn=<MeanBackward0>) tensor(-0.0107, grad_fn=<MeanBackward0>)\n",
      "tensor(-0.7277, grad_fn=<AddBackward0>) tensor(-0.3189, grad_fn=<MeanBackward0>) tensor(-0.4088, grad_fn=<MeanBackward0>)\n",
      "tensor(-0.1459, grad_fn=<AddBackward0>) tensor(-0.1359, grad_fn=<MeanBackward0>) tensor(-0.0100, grad_fn=<MeanBackward0>)\n",
      "tensor(-0.0991, grad_fn=<AddBackward0>) tensor(-0.0647, grad_fn=<MeanBackward0>) tensor(-0.0344, grad_fn=<MeanBackward0>)\n",
      "tensor(-0.2712, grad_fn=<AddBackward0>) tensor(-0.0460, grad_fn=<MeanBackward0>) tensor(-0.2252, grad_fn=<MeanBackward0>)\n",
      "tensor(-0.0550, grad_fn=<AddBackward0>) tensor(-0.0529, grad_fn=<MeanBackward0>) tensor(-0.0021, grad_fn=<MeanBackward0>)\n",
      "tensor(-0.1146, grad_fn=<AddBackward0>) tensor(-0.0845, grad_fn=<MeanBackward0>) tensor(-0.0301, grad_fn=<MeanBackward0>)\n",
      "tensor(-1.0301, grad_fn=<AddBackward0>) tensor(-0.1644, grad_fn=<MeanBackward0>) tensor(-0.8657, grad_fn=<MeanBackward0>)\n",
      "tensor(-0.3200, grad_fn=<AddBackward0>) tensor(-0.2513, grad_fn=<MeanBackward0>) tensor(-0.0687, grad_fn=<MeanBackward0>)\n",
      "tensor(-0.7346, grad_fn=<AddBackward0>) tensor(-0.2984, grad_fn=<MeanBackward0>) tensor(-0.4361, grad_fn=<MeanBackward0>)\n",
      "tensor(-0.3100, grad_fn=<AddBackward0>) tensor(-0.3028, grad_fn=<MeanBackward0>) tensor(-0.0072, grad_fn=<MeanBackward0>)\n",
      "tensor(-0.2555, grad_fn=<AddBackward0>) tensor(-0.2398, grad_fn=<MeanBackward0>) tensor(-0.0157, grad_fn=<MeanBackward0>)\n",
      "tensor(-2.0209, grad_fn=<AddBackward0>) tensor(-0.1502, grad_fn=<MeanBackward0>) tensor(-1.8707, grad_fn=<MeanBackward0>)\n",
      "tensor(-0.8617, grad_fn=<AddBackward0>) tensor(-0.0926, grad_fn=<MeanBackward0>) tensor(-0.7692, grad_fn=<MeanBackward0>)\n",
      "tensor(-0.8473, grad_fn=<AddBackward0>) tensor(-0.0654, grad_fn=<MeanBackward0>) tensor(-0.7819, grad_fn=<MeanBackward0>)\n",
      "tensor(-2.2844, grad_fn=<AddBackward0>) tensor(-0.0561, grad_fn=<MeanBackward0>) tensor(-2.2284, grad_fn=<MeanBackward0>)\n",
      "tensor(-0.0638, grad_fn=<AddBackward0>) tensor(-0.0624, grad_fn=<MeanBackward0>) tensor(-0.0014, grad_fn=<MeanBackward0>)\n",
      "tensor(-0.2858, grad_fn=<AddBackward0>) tensor(-0.0754, grad_fn=<MeanBackward0>) tensor(-0.2104, grad_fn=<MeanBackward0>)\n",
      "tensor(-0.1513, grad_fn=<AddBackward0>) tensor(-0.0932, grad_fn=<MeanBackward0>) tensor(-0.0582, grad_fn=<MeanBackward0>)\n",
      "tensor(-0.1152, grad_fn=<AddBackward0>) tensor(-0.1127, grad_fn=<MeanBackward0>) tensor(-0.0025, grad_fn=<MeanBackward0>)\n",
      "tensor(-1.4151, grad_fn=<AddBackward0>) tensor(-0.1304, grad_fn=<MeanBackward0>) tensor(-1.2847, grad_fn=<MeanBackward0>)\n",
      "tensor(-0.2892, grad_fn=<AddBackward0>) tensor(-0.1525, grad_fn=<MeanBackward0>) tensor(-0.1367, grad_fn=<MeanBackward0>)\n",
      "tensor(-2.3077, grad_fn=<AddBackward0>) tensor(-0.1572, grad_fn=<MeanBackward0>) tensor(-2.1504, grad_fn=<MeanBackward0>)\n",
      "tensor(-0.4673, grad_fn=<AddBackward0>) tensor(-0.1610, grad_fn=<MeanBackward0>) tensor(-0.3063, grad_fn=<MeanBackward0>)\n",
      "tensor(-0.1528, grad_fn=<AddBackward0>) tensor(-0.1527, grad_fn=<MeanBackward0>) tensor(-0.0002, grad_fn=<MeanBackward0>)\n",
      "tensor(-1.6046, grad_fn=<AddBackward0>) tensor(-0.1285, grad_fn=<MeanBackward0>) tensor(-1.4761, grad_fn=<MeanBackward0>)\n",
      "tensor(-0.5961, grad_fn=<AddBackward0>) tensor(-0.1231, grad_fn=<MeanBackward0>) tensor(-0.4729, grad_fn=<MeanBackward0>)\n",
      "tensor(-0.1407, grad_fn=<AddBackward0>) tensor(-0.1244, grad_fn=<MeanBackward0>) tensor(-0.0164, grad_fn=<MeanBackward0>)\n",
      "tensor(-2.1276, grad_fn=<AddBackward0>) tensor(-0.1214, grad_fn=<MeanBackward0>) tensor(-2.0062, grad_fn=<MeanBackward0>)\n",
      "tensor(-0.1700, grad_fn=<AddBackward0>) tensor(-0.1266, grad_fn=<MeanBackward0>) tensor(-0.0435, grad_fn=<MeanBackward0>)\n",
      "tensor(-0.1542, grad_fn=<AddBackward0>) tensor(-0.1319, grad_fn=<MeanBackward0>) tensor(-0.0222, grad_fn=<MeanBackward0>)\n",
      "tensor(-1.0100, grad_fn=<AddBackward0>) tensor(-0.1396, grad_fn=<MeanBackward0>) tensor(-0.8704, grad_fn=<MeanBackward0>)\n",
      "tensor(-0.6376, grad_fn=<AddBackward0>) tensor(-0.1540, grad_fn=<MeanBackward0>) tensor(-0.4836, grad_fn=<MeanBackward0>)\n",
      "tensor(-0.2404, grad_fn=<AddBackward0>) tensor(-0.2011, grad_fn=<MeanBackward0>) tensor(-0.0393, grad_fn=<MeanBackward0>)\n",
      "tensor(-0.2403, grad_fn=<AddBackward0>) tensor(-0.2391, grad_fn=<MeanBackward0>) tensor(-0.0012, grad_fn=<MeanBackward0>)\n",
      "tensor(-0.9366, grad_fn=<AddBackward0>) tensor(-0.2675, grad_fn=<MeanBackward0>) tensor(-0.6691, grad_fn=<MeanBackward0>)\n",
      "tensor(-0.2893, grad_fn=<AddBackward0>) tensor(-0.2893, grad_fn=<MeanBackward0>) tensor(-5.3648e-05, grad_fn=<MeanBackward0>)\n",
      "tensor(-0.8360, grad_fn=<AddBackward0>) tensor(-0.2871, grad_fn=<MeanBackward0>) tensor(-0.5489, grad_fn=<MeanBackward0>)\n",
      "tensor(-0.2693, grad_fn=<AddBackward0>) tensor(-0.2691, grad_fn=<MeanBackward0>) tensor(-0.0001, grad_fn=<MeanBackward0>)\n",
      "tensor(-0.2337, grad_fn=<AddBackward0>) tensor(-0.2334, grad_fn=<MeanBackward0>) tensor(-0.0002, grad_fn=<MeanBackward0>)\n",
      "tensor(-2.3491, grad_fn=<AddBackward0>) tensor(-0.1971, grad_fn=<MeanBackward0>) tensor(-2.1520, grad_fn=<MeanBackward0>)\n",
      "tensor(-0.9403, grad_fn=<AddBackward0>) tensor(-0.1785, grad_fn=<MeanBackward0>) tensor(-0.7618, grad_fn=<MeanBackward0>)\n",
      "tensor(-0.1789, grad_fn=<AddBackward0>) tensor(-0.1789, grad_fn=<MeanBackward0>) tensor(-5.5315e-05, grad_fn=<MeanBackward0>)\n",
      "tensor(-0.2018, grad_fn=<AddBackward0>) tensor(-0.1996, grad_fn=<MeanBackward0>) tensor(-0.0023, grad_fn=<MeanBackward0>)\n",
      "tensor(-0.2664, grad_fn=<AddBackward0>) tensor(-0.2661, grad_fn=<MeanBackward0>) tensor(-0.0003, grad_fn=<MeanBackward0>)\n",
      "tensor(-1.0216, grad_fn=<AddBackward0>) tensor(-0.4259, grad_fn=<MeanBackward0>) tensor(-0.5957, grad_fn=<MeanBackward0>)\n",
      "tensor(-0.6419, grad_fn=<AddBackward0>) tensor(-0.5876, grad_fn=<MeanBackward0>) tensor(-0.0543, grad_fn=<MeanBackward0>)\n",
      "tensor(-0.6184, grad_fn=<AddBackward0>) tensor(-0.6136, grad_fn=<MeanBackward0>) tensor(-0.0048, grad_fn=<MeanBackward0>)\n",
      "tensor(-0.7277, grad_fn=<AddBackward0>) tensor(-0.5494, grad_fn=<MeanBackward0>) tensor(-0.1783, grad_fn=<MeanBackward0>)\n",
      "tensor(-4.6430, grad_fn=<AddBackward0>) tensor(-0.4237, grad_fn=<MeanBackward0>) tensor(-4.2193, grad_fn=<MeanBackward0>)\n",
      "tensor(-0.2765, grad_fn=<AddBackward0>) tensor(-0.2692, grad_fn=<MeanBackward0>) tensor(-0.0072, grad_fn=<MeanBackward0>)\n",
      "tensor(-0.5206, grad_fn=<AddBackward0>) tensor(-0.1538, grad_fn=<MeanBackward0>) tensor(-0.3668, grad_fn=<MeanBackward0>)\n",
      "tensor(-0.5262, grad_fn=<AddBackward0>) tensor(-0.1060, grad_fn=<MeanBackward0>) tensor(-0.4202, grad_fn=<MeanBackward0>)\n",
      "tensor(-2.0409, grad_fn=<AddBackward0>) tensor(-0.0883, grad_fn=<MeanBackward0>) tensor(-1.9526, grad_fn=<MeanBackward0>)\n",
      "tensor(-0.6652, grad_fn=<AddBackward0>) tensor(-0.0899, grad_fn=<MeanBackward0>) tensor(-0.5753, grad_fn=<MeanBackward0>)\n",
      "tensor(-0.9225, grad_fn=<AddBackward0>) tensor(-0.1211, grad_fn=<MeanBackward0>) tensor(-0.8014, grad_fn=<MeanBackward0>)\n",
      "tensor(-0.2404, grad_fn=<AddBackward0>) tensor(-0.1871, grad_fn=<MeanBackward0>) tensor(-0.0534, grad_fn=<MeanBackward0>)\n",
      "tensor(-0.2834, grad_fn=<AddBackward0>) tensor(-0.2827, grad_fn=<MeanBackward0>) tensor(-0.0007, grad_fn=<MeanBackward0>)\n",
      "tensor(-2.1661, grad_fn=<AddBackward0>) tensor(-0.3886, grad_fn=<MeanBackward0>) tensor(-1.7775, grad_fn=<MeanBackward0>)\n",
      "tensor(-3.4609, grad_fn=<AddBackward0>) tensor(-0.5483, grad_fn=<MeanBackward0>) tensor(-2.9127, grad_fn=<MeanBackward0>)\n",
      "tensor(-1.8603, grad_fn=<AddBackward0>) tensor(-0.5996, grad_fn=<MeanBackward0>) tensor(-1.2607, grad_fn=<MeanBackward0>)\n",
      "tensor(-0.5652, grad_fn=<AddBackward0>) tensor(-0.5317, grad_fn=<MeanBackward0>) tensor(-0.0336, grad_fn=<MeanBackward0>)\n",
      "tensor(-1.4717, grad_fn=<AddBackward0>) tensor(-0.3692, grad_fn=<MeanBackward0>) tensor(-1.1025, grad_fn=<MeanBackward0>)\n",
      "tensor(-6.0482, grad_fn=<AddBackward0>) tensor(-0.2505, grad_fn=<MeanBackward0>) tensor(-5.7976, grad_fn=<MeanBackward0>)\n",
      "tensor(-0.4770, grad_fn=<AddBackward0>) tensor(-0.2164, grad_fn=<MeanBackward0>) tensor(-0.2606, grad_fn=<MeanBackward0>)\n",
      "tensor(-3.1242, grad_fn=<AddBackward0>) tensor(-0.2057, grad_fn=<MeanBackward0>) tensor(-2.9184, grad_fn=<MeanBackward0>)\n",
      "tensor(-2.9235, grad_fn=<AddBackward0>) tensor(-0.2498, grad_fn=<MeanBackward0>) tensor(-2.6737, grad_fn=<MeanBackward0>)\n",
      "tensor(-2.7144, grad_fn=<AddBackward0>) tensor(-0.3312, grad_fn=<MeanBackward0>) tensor(-2.3832, grad_fn=<MeanBackward0>)\n",
      "tensor(-1.1157, grad_fn=<AddBackward0>) tensor(-0.4685, grad_fn=<MeanBackward0>) tensor(-0.6473, grad_fn=<MeanBackward0>)\n",
      "tensor(-0.6114, grad_fn=<AddBackward0>) tensor(-0.5507, grad_fn=<MeanBackward0>) tensor(-0.0607, grad_fn=<MeanBackward0>)\n",
      "tensor(-2.0579, grad_fn=<AddBackward0>) tensor(-0.5017, grad_fn=<MeanBackward0>) tensor(-1.5562, grad_fn=<MeanBackward0>)\n",
      "tensor(-3.2220, grad_fn=<AddBackward0>) tensor(-0.4211, grad_fn=<MeanBackward0>) tensor(-2.8009, grad_fn=<MeanBackward0>)\n",
      "tensor(-2.7587, grad_fn=<AddBackward0>) tensor(-0.3604, grad_fn=<MeanBackward0>) tensor(-2.3983, grad_fn=<MeanBackward0>)\n",
      "tensor(-0.4143, grad_fn=<AddBackward0>) tensor(-0.3589, grad_fn=<MeanBackward0>) tensor(-0.0554, grad_fn=<MeanBackward0>)\n",
      "tensor(-2.6629, grad_fn=<AddBackward0>) tensor(-0.3975, grad_fn=<MeanBackward0>) tensor(-2.2654, grad_fn=<MeanBackward0>)\n",
      "tensor(-0.6264, grad_fn=<AddBackward0>) tensor(-0.5585, grad_fn=<MeanBackward0>) tensor(-0.0679, grad_fn=<MeanBackward0>)\n",
      "tensor(-3.3017, grad_fn=<AddBackward0>) tensor(-0.7976, grad_fn=<MeanBackward0>) tensor(-2.5042, grad_fn=<MeanBackward0>)\n",
      "tensor(-1.2132, grad_fn=<AddBackward0>) tensor(-1.0251, grad_fn=<MeanBackward0>) tensor(-0.1881, grad_fn=<MeanBackward0>)\n",
      "tensor(-1.1269, grad_fn=<AddBackward0>) tensor(-0.9811, grad_fn=<MeanBackward0>) tensor(-0.1458, grad_fn=<MeanBackward0>)\n",
      "tensor(-0.7096, grad_fn=<AddBackward0>) tensor(-0.6434, grad_fn=<MeanBackward0>) tensor(-0.0662, grad_fn=<MeanBackward0>)\n",
      "tensor(-0.2837, grad_fn=<AddBackward0>) tensor(-0.2566, grad_fn=<MeanBackward0>) tensor(-0.0271, grad_fn=<MeanBackward0>)\n",
      "tensor(-0.1927, grad_fn=<AddBackward0>) tensor(-0.0797, grad_fn=<MeanBackward0>) tensor(-0.1129, grad_fn=<MeanBackward0>)\n",
      "tensor(-0.3037, grad_fn=<AddBackward0>) tensor(-0.0309, grad_fn=<MeanBackward0>) tensor(-0.2728, grad_fn=<MeanBackward0>)\n",
      "tensor(-1.0675, grad_fn=<AddBackward0>) tensor(-0.0181, grad_fn=<MeanBackward0>) tensor(-1.0493, grad_fn=<MeanBackward0>)\n",
      "tensor(-0.4112, grad_fn=<AddBackward0>) tensor(-0.0170, grad_fn=<MeanBackward0>) tensor(-0.3942, grad_fn=<MeanBackward0>)\n",
      "tensor(-0.3068, grad_fn=<AddBackward0>) tensor(-0.0242, grad_fn=<MeanBackward0>) tensor(-0.2825, grad_fn=<MeanBackward0>)\n",
      "tensor(-0.2359, grad_fn=<AddBackward0>) tensor(-0.0522, grad_fn=<MeanBackward0>) tensor(-0.1837, grad_fn=<MeanBackward0>)\n",
      "tensor(-0.5756, grad_fn=<AddBackward0>) tensor(-0.1612, grad_fn=<MeanBackward0>) tensor(-0.4144, grad_fn=<MeanBackward0>)\n",
      "tensor(-0.6432, grad_fn=<AddBackward0>) tensor(-0.5002, grad_fn=<MeanBackward0>) tensor(-0.1429, grad_fn=<MeanBackward0>)\n",
      "tensor(-3.0262, grad_fn=<AddBackward0>) tensor(-0.9919, grad_fn=<MeanBackward0>) tensor(-2.0343, grad_fn=<MeanBackward0>)\n",
      "tensor(-1.3836, grad_fn=<AddBackward0>) tensor(-1.1410, grad_fn=<MeanBackward0>) tensor(-0.2426, grad_fn=<MeanBackward0>)\n",
      "tensor(-0.8969, grad_fn=<AddBackward0>) tensor(-0.7110, grad_fn=<MeanBackward0>) tensor(-0.1859, grad_fn=<MeanBackward0>)\n",
      "tensor(-0.8970, grad_fn=<AddBackward0>) tensor(-0.2693, grad_fn=<MeanBackward0>) tensor(-0.6276, grad_fn=<MeanBackward0>)\n",
      "tensor(-0.9589, grad_fn=<AddBackward0>) tensor(-0.0971, grad_fn=<MeanBackward0>) tensor(-0.8618, grad_fn=<MeanBackward0>)\n",
      "tensor(-1.2724, grad_fn=<AddBackward0>) tensor(-0.0499, grad_fn=<MeanBackward0>) tensor(-1.2225, grad_fn=<MeanBackward0>)\n",
      "tensor(-0.0506, grad_fn=<AddBackward0>) tensor(-0.0420, grad_fn=<MeanBackward0>) tensor(-0.0086, grad_fn=<MeanBackward0>)\n",
      "tensor(-1.0397, grad_fn=<AddBackward0>) tensor(-0.0459, grad_fn=<MeanBackward0>) tensor(-0.9938, grad_fn=<MeanBackward0>)\n",
      "tensor(-0.5763, grad_fn=<AddBackward0>) tensor(-0.0679, grad_fn=<MeanBackward0>) tensor(-0.5083, grad_fn=<MeanBackward0>)\n",
      "tensor(-0.1772, grad_fn=<AddBackward0>) tensor(-0.1228, grad_fn=<MeanBackward0>) tensor(-0.0544, grad_fn=<MeanBackward0>)\n",
      "tensor(-0.2819, grad_fn=<AddBackward0>) tensor(-0.2243, grad_fn=<MeanBackward0>) tensor(-0.0576, grad_fn=<MeanBackward0>)\n",
      "tensor(-1.2048, grad_fn=<AddBackward0>) tensor(-0.3521, grad_fn=<MeanBackward0>) tensor(-0.8527, grad_fn=<MeanBackward0>)\n",
      "tensor(-0.8697, grad_fn=<AddBackward0>) tensor(-0.4694, grad_fn=<MeanBackward0>) tensor(-0.4003, grad_fn=<MeanBackward0>)\n",
      "tensor(-0.8347, grad_fn=<AddBackward0>) tensor(-0.5045, grad_fn=<MeanBackward0>) tensor(-0.3301, grad_fn=<MeanBackward0>)\n"
     ]
    },
    {
     "ename": "KeyboardInterrupt",
     "evalue": "",
     "output_type": "error",
     "traceback": [
      "\u001b[0;31m---------------------------------------------------------------------------\u001b[0m",
      "\u001b[0;31mKeyboardInterrupt\u001b[0m                         Traceback (most recent call last)",
      "Cell \u001b[0;32mIn [10], line 103\u001b[0m\n\u001b[1;32m    100\u001b[0m optimizer_generator \u001b[39m=\u001b[39m t\u001b[39m.\u001b[39moptim\u001b[39m.\u001b[39mAdam(generator\u001b[39m.\u001b[39mparameters(),lr\u001b[39m=\u001b[39mlr, maximize\u001b[39m=\u001b[39m\u001b[39mTrue\u001b[39;00m)\n\u001b[1;32m    101\u001b[0m optimizer_discriminator \u001b[39m=\u001b[39m t\u001b[39m.\u001b[39moptim\u001b[39m.\u001b[39mAdam(discriminator\u001b[39m.\u001b[39mparameters(),lr\u001b[39m=\u001b[39mlr, maximize\u001b[39m=\u001b[39m\u001b[39mTrue\u001b[39;00m)\n\u001b[0;32m--> 103\u001b[0m train_generator_discriminator(\n\u001b[1;32m    104\u001b[0m     netG\u001b[39m=\u001b[39;49mgenerator,\n\u001b[1;32m    105\u001b[0m     netD\u001b[39m=\u001b[39;49mdiscriminator,\n\u001b[1;32m    106\u001b[0m     optG\u001b[39m=\u001b[39;49moptimizer_generator,\n\u001b[1;32m    107\u001b[0m     optD\u001b[39m=\u001b[39;49moptimizer_discriminator,\n\u001b[1;32m    108\u001b[0m     trainloader\u001b[39m=\u001b[39;49mtrainloader,\n\u001b[1;32m    109\u001b[0m     epochs\u001b[39m=\u001b[39;49m\u001b[39m1\u001b[39;49m,\n\u001b[1;32m    110\u001b[0m     use_wandb\u001b[39m=\u001b[39;49m\u001b[39mFalse\u001b[39;49;00m\n\u001b[1;32m    111\u001b[0m )\n",
      "Cell \u001b[0;32mIn [10], line 80\u001b[0m, in \u001b[0;36mtrain_generator_discriminator\u001b[0;34m(netG, netD, optG, optD, trainloader, epochs, max_epoch_duration, print_netG_output_interval, use_wandb)\u001b[0m\n\u001b[1;32m     78\u001b[0m optG\u001b[39m.\u001b[39mzero_grad()\n\u001b[1;32m     79\u001b[0m z \u001b[39m=\u001b[39m t\u001b[39m.\u001b[39mempty((batch_size, latent_dim_size))\u001b[39m.\u001b[39muniform_(\u001b[39m0\u001b[39m,\u001b[39m1\u001b[39m)\u001b[39m.\u001b[39mto(device)\n\u001b[0;32m---> 80\u001b[0m predictions \u001b[39m=\u001b[39m discriminator(generator(z))\n\u001b[1;32m     81\u001b[0m loss_generator \u001b[39m=\u001b[39m t\u001b[39m.\u001b[39mlog(t\u001b[39m.\u001b[39mmean(predictions))\n\u001b[1;32m     82\u001b[0m loss_generator\u001b[39m.\u001b[39mbackward()\n",
      "File \u001b[0;32m~/opt/anaconda3/envs/science/lib/python3.9/site-packages/torch/nn/modules/module.py:1190\u001b[0m, in \u001b[0;36mModule._call_impl\u001b[0;34m(self, *input, **kwargs)\u001b[0m\n\u001b[1;32m   1186\u001b[0m \u001b[39m# If we don't have any hooks, we want to skip the rest of the logic in\u001b[39;00m\n\u001b[1;32m   1187\u001b[0m \u001b[39m# this function, and just call forward.\u001b[39;00m\n\u001b[1;32m   1188\u001b[0m \u001b[39mif\u001b[39;00m \u001b[39mnot\u001b[39;00m (\u001b[39mself\u001b[39m\u001b[39m.\u001b[39m_backward_hooks \u001b[39mor\u001b[39;00m \u001b[39mself\u001b[39m\u001b[39m.\u001b[39m_forward_hooks \u001b[39mor\u001b[39;00m \u001b[39mself\u001b[39m\u001b[39m.\u001b[39m_forward_pre_hooks \u001b[39mor\u001b[39;00m _global_backward_hooks\n\u001b[1;32m   1189\u001b[0m         \u001b[39mor\u001b[39;00m _global_forward_hooks \u001b[39mor\u001b[39;00m _global_forward_pre_hooks):\n\u001b[0;32m-> 1190\u001b[0m     \u001b[39mreturn\u001b[39;00m forward_call(\u001b[39m*\u001b[39;49m\u001b[39minput\u001b[39;49m, \u001b[39m*\u001b[39;49m\u001b[39m*\u001b[39;49mkwargs)\n\u001b[1;32m   1191\u001b[0m \u001b[39m# Do not call functions when jit is used\u001b[39;00m\n\u001b[1;32m   1192\u001b[0m full_backward_hooks, non_full_backward_hooks \u001b[39m=\u001b[39m [], []\n",
      "Cell \u001b[0;32mIn [7], line 45\u001b[0m, in \u001b[0;36mDiscriminator.forward\u001b[0;34m(self, x)\u001b[0m\n\u001b[1;32m     43\u001b[0m \u001b[39mdef\u001b[39;00m \u001b[39mforward\u001b[39m(\u001b[39mself\u001b[39m, x: t\u001b[39m.\u001b[39mTensor):\n\u001b[1;32m     44\u001b[0m     x \u001b[39m=\u001b[39m \u001b[39mself\u001b[39m\u001b[39m.\u001b[39minitial_conv(x)\n\u001b[0;32m---> 45\u001b[0m     x \u001b[39m=\u001b[39m \u001b[39mself\u001b[39;49m\u001b[39m.\u001b[39;49mdownsampling_block(x)\n\u001b[1;32m     46\u001b[0m     x \u001b[39m=\u001b[39m \u001b[39mself\u001b[39m\u001b[39m.\u001b[39mrearrange_layer(x)\n\u001b[1;32m     47\u001b[0m     \u001b[39mreturn\u001b[39;00m \u001b[39mself\u001b[39m\u001b[39m.\u001b[39msigmoid(\u001b[39mself\u001b[39m\u001b[39m.\u001b[39mclassifier(x))\n",
      "File \u001b[0;32m~/opt/anaconda3/envs/science/lib/python3.9/site-packages/torch/nn/modules/module.py:1190\u001b[0m, in \u001b[0;36mModule._call_impl\u001b[0;34m(self, *input, **kwargs)\u001b[0m\n\u001b[1;32m   1186\u001b[0m \u001b[39m# If we don't have any hooks, we want to skip the rest of the logic in\u001b[39;00m\n\u001b[1;32m   1187\u001b[0m \u001b[39m# this function, and just call forward.\u001b[39;00m\n\u001b[1;32m   1188\u001b[0m \u001b[39mif\u001b[39;00m \u001b[39mnot\u001b[39;00m (\u001b[39mself\u001b[39m\u001b[39m.\u001b[39m_backward_hooks \u001b[39mor\u001b[39;00m \u001b[39mself\u001b[39m\u001b[39m.\u001b[39m_forward_hooks \u001b[39mor\u001b[39;00m \u001b[39mself\u001b[39m\u001b[39m.\u001b[39m_forward_pre_hooks \u001b[39mor\u001b[39;00m _global_backward_hooks\n\u001b[1;32m   1189\u001b[0m         \u001b[39mor\u001b[39;00m _global_forward_hooks \u001b[39mor\u001b[39;00m _global_forward_pre_hooks):\n\u001b[0;32m-> 1190\u001b[0m     \u001b[39mreturn\u001b[39;00m forward_call(\u001b[39m*\u001b[39;49m\u001b[39minput\u001b[39;49m, \u001b[39m*\u001b[39;49m\u001b[39m*\u001b[39;49mkwargs)\n\u001b[1;32m   1191\u001b[0m \u001b[39m# Do not call functions when jit is used\u001b[39;00m\n\u001b[1;32m   1192\u001b[0m full_backward_hooks, non_full_backward_hooks \u001b[39m=\u001b[39m [], []\n",
      "File \u001b[0;32m~/opt/anaconda3/envs/science/lib/python3.9/site-packages/torch/nn/modules/container.py:204\u001b[0m, in \u001b[0;36mSequential.forward\u001b[0;34m(self, input)\u001b[0m\n\u001b[1;32m    202\u001b[0m \u001b[39mdef\u001b[39;00m \u001b[39mforward\u001b[39m(\u001b[39mself\u001b[39m, \u001b[39minput\u001b[39m):\n\u001b[1;32m    203\u001b[0m     \u001b[39mfor\u001b[39;00m module \u001b[39min\u001b[39;00m \u001b[39mself\u001b[39m:\n\u001b[0;32m--> 204\u001b[0m         \u001b[39minput\u001b[39m \u001b[39m=\u001b[39m module(\u001b[39minput\u001b[39;49m)\n\u001b[1;32m    205\u001b[0m     \u001b[39mreturn\u001b[39;00m \u001b[39minput\u001b[39m\n",
      "File \u001b[0;32m~/opt/anaconda3/envs/science/lib/python3.9/site-packages/torch/nn/modules/module.py:1190\u001b[0m, in \u001b[0;36mModule._call_impl\u001b[0;34m(self, *input, **kwargs)\u001b[0m\n\u001b[1;32m   1186\u001b[0m \u001b[39m# If we don't have any hooks, we want to skip the rest of the logic in\u001b[39;00m\n\u001b[1;32m   1187\u001b[0m \u001b[39m# this function, and just call forward.\u001b[39;00m\n\u001b[1;32m   1188\u001b[0m \u001b[39mif\u001b[39;00m \u001b[39mnot\u001b[39;00m (\u001b[39mself\u001b[39m\u001b[39m.\u001b[39m_backward_hooks \u001b[39mor\u001b[39;00m \u001b[39mself\u001b[39m\u001b[39m.\u001b[39m_forward_hooks \u001b[39mor\u001b[39;00m \u001b[39mself\u001b[39m\u001b[39m.\u001b[39m_forward_pre_hooks \u001b[39mor\u001b[39;00m _global_backward_hooks\n\u001b[1;32m   1189\u001b[0m         \u001b[39mor\u001b[39;00m _global_forward_hooks \u001b[39mor\u001b[39;00m _global_forward_pre_hooks):\n\u001b[0;32m-> 1190\u001b[0m     \u001b[39mreturn\u001b[39;00m forward_call(\u001b[39m*\u001b[39;49m\u001b[39minput\u001b[39;49m, \u001b[39m*\u001b[39;49m\u001b[39m*\u001b[39;49mkwargs)\n\u001b[1;32m   1191\u001b[0m \u001b[39m# Do not call functions when jit is used\u001b[39;00m\n\u001b[1;32m   1192\u001b[0m full_backward_hooks, non_full_backward_hooks \u001b[39m=\u001b[39m [], []\n",
      "Cell \u001b[0;32mIn [7], line 73\u001b[0m, in \u001b[0;36mConvBlock.forward\u001b[0;34m(self, x)\u001b[0m\n\u001b[1;32m     72\u001b[0m \u001b[39mdef\u001b[39;00m \u001b[39mforward\u001b[39m(\u001b[39mself\u001b[39m, x):\n\u001b[0;32m---> 73\u001b[0m     x \u001b[39m=\u001b[39m \u001b[39mself\u001b[39;49m\u001b[39m.\u001b[39;49mconv(x)\n\u001b[1;32m     74\u001b[0m     \u001b[39mif\u001b[39;00m \u001b[39mself\u001b[39m\u001b[39m.\u001b[39muses_batchnorm:\n\u001b[1;32m     75\u001b[0m         x \u001b[39m=\u001b[39m \u001b[39mself\u001b[39m\u001b[39m.\u001b[39mbatchnorm(x)\n",
      "File \u001b[0;32m~/opt/anaconda3/envs/science/lib/python3.9/site-packages/torch/nn/modules/module.py:1190\u001b[0m, in \u001b[0;36mModule._call_impl\u001b[0;34m(self, *input, **kwargs)\u001b[0m\n\u001b[1;32m   1186\u001b[0m \u001b[39m# If we don't have any hooks, we want to skip the rest of the logic in\u001b[39;00m\n\u001b[1;32m   1187\u001b[0m \u001b[39m# this function, and just call forward.\u001b[39;00m\n\u001b[1;32m   1188\u001b[0m \u001b[39mif\u001b[39;00m \u001b[39mnot\u001b[39;00m (\u001b[39mself\u001b[39m\u001b[39m.\u001b[39m_backward_hooks \u001b[39mor\u001b[39;00m \u001b[39mself\u001b[39m\u001b[39m.\u001b[39m_forward_hooks \u001b[39mor\u001b[39;00m \u001b[39mself\u001b[39m\u001b[39m.\u001b[39m_forward_pre_hooks \u001b[39mor\u001b[39;00m _global_backward_hooks\n\u001b[1;32m   1189\u001b[0m         \u001b[39mor\u001b[39;00m _global_forward_hooks \u001b[39mor\u001b[39;00m _global_forward_pre_hooks):\n\u001b[0;32m-> 1190\u001b[0m     \u001b[39mreturn\u001b[39;00m forward_call(\u001b[39m*\u001b[39;49m\u001b[39minput\u001b[39;49m, \u001b[39m*\u001b[39;49m\u001b[39m*\u001b[39;49mkwargs)\n\u001b[1;32m   1191\u001b[0m \u001b[39m# Do not call functions when jit is used\u001b[39;00m\n\u001b[1;32m   1192\u001b[0m full_backward_hooks, non_full_backward_hooks \u001b[39m=\u001b[39m [], []\n",
      "File \u001b[0;32m~/opt/anaconda3/envs/science/lib/python3.9/site-packages/torch/nn/modules/conv.py:463\u001b[0m, in \u001b[0;36mConv2d.forward\u001b[0;34m(self, input)\u001b[0m\n\u001b[1;32m    462\u001b[0m \u001b[39mdef\u001b[39;00m \u001b[39mforward\u001b[39m(\u001b[39mself\u001b[39m, \u001b[39minput\u001b[39m: Tensor) \u001b[39m-\u001b[39m\u001b[39m>\u001b[39m Tensor:\n\u001b[0;32m--> 463\u001b[0m     \u001b[39mreturn\u001b[39;00m \u001b[39mself\u001b[39;49m\u001b[39m.\u001b[39;49m_conv_forward(\u001b[39minput\u001b[39;49m, \u001b[39mself\u001b[39;49m\u001b[39m.\u001b[39;49mweight, \u001b[39mself\u001b[39;49m\u001b[39m.\u001b[39;49mbias)\n",
      "File \u001b[0;32m~/opt/anaconda3/envs/science/lib/python3.9/site-packages/torch/nn/modules/conv.py:459\u001b[0m, in \u001b[0;36mConv2d._conv_forward\u001b[0;34m(self, input, weight, bias)\u001b[0m\n\u001b[1;32m    455\u001b[0m \u001b[39mif\u001b[39;00m \u001b[39mself\u001b[39m\u001b[39m.\u001b[39mpadding_mode \u001b[39m!=\u001b[39m \u001b[39m'\u001b[39m\u001b[39mzeros\u001b[39m\u001b[39m'\u001b[39m:\n\u001b[1;32m    456\u001b[0m     \u001b[39mreturn\u001b[39;00m F\u001b[39m.\u001b[39mconv2d(F\u001b[39m.\u001b[39mpad(\u001b[39minput\u001b[39m, \u001b[39mself\u001b[39m\u001b[39m.\u001b[39m_reversed_padding_repeated_twice, mode\u001b[39m=\u001b[39m\u001b[39mself\u001b[39m\u001b[39m.\u001b[39mpadding_mode),\n\u001b[1;32m    457\u001b[0m                     weight, bias, \u001b[39mself\u001b[39m\u001b[39m.\u001b[39mstride,\n\u001b[1;32m    458\u001b[0m                     _pair(\u001b[39m0\u001b[39m), \u001b[39mself\u001b[39m\u001b[39m.\u001b[39mdilation, \u001b[39mself\u001b[39m\u001b[39m.\u001b[39mgroups)\n\u001b[0;32m--> 459\u001b[0m \u001b[39mreturn\u001b[39;00m F\u001b[39m.\u001b[39;49mconv2d(\u001b[39minput\u001b[39;49m, weight, bias, \u001b[39mself\u001b[39;49m\u001b[39m.\u001b[39;49mstride,\n\u001b[1;32m    460\u001b[0m                 \u001b[39mself\u001b[39;49m\u001b[39m.\u001b[39;49mpadding, \u001b[39mself\u001b[39;49m\u001b[39m.\u001b[39;49mdilation, \u001b[39mself\u001b[39;49m\u001b[39m.\u001b[39;49mgroups)\n",
      "\u001b[0;31mKeyboardInterrupt\u001b[0m: "
     ]
    }
   ],
   "source": [
    "def train_generator_discriminator(\n",
    "    netG: Generator, \n",
    "    netD: Discriminator, \n",
    "    optG,\n",
    "    optD,\n",
    "    trainloader,\n",
    "    epochs: int,\n",
    "    max_epoch_duration: Optional[Union[int, float]] = None,           # Each epoch terminates after this many seconds\n",
    "    print_netG_output_interval: Optional[Union[int, float]] = None,   # Generator output is printed at this frequency\n",
    "    use_wandb: bool = False\n",
    "):\n",
    "    \"\"\"\n",
    "Discriminator:\n",
    "1. Zero the gradients of DD. This is important because if the last thing we did was evaluate D(G(z)) \n",
    "    (in order to update the parameters of G), then D will have stored gradients from that backward pass.\n",
    "\n",
    "Generate random noise z, and compute D(G(z)). Take the average of log(1−D(G(z))), \n",
    "and we have the first part of our loss function.\n",
    "\n",
    "Take the real images x in the current batch, \n",
    "and use that to compute log(D(x)) (we use this rather than log(1−D(x)), \n",
    "for reasons we'll discuss below). This gives us the second part of our loss function.\n",
    "\n",
    "We now add the two terms together, and perform gradient ascent (since we're trying to maximise this expression).\n",
    "You can perform gradient ascent by either flipping the sign of the thing you're doing a backward pass on, \n",
    "or passing the keyword argument maximize=True when defining your optimiser (all optimisers have this option).\n",
    "\n",
    "Tip - when calculating D(G(z)), for the purpose of training the discriminator, \n",
    "it's best to first calculate G(z) then call detach on this tensor before passing it to DD. \n",
    "This is because you then don't need to worry about gradients accumulating for GG.\n",
    "\n",
    "\n",
    "\"\"\"\n",
    "\n",
    "    if use_wandb:\n",
    "        wandb.init()\n",
    "\n",
    "    step = 0\n",
    "\n",
    "    netG.train().to(device)\n",
    "    netD.train().to(device)\n",
    "\n",
    "    for epoch in range(epochs):\n",
    "        for i, (real_images, labels) in enumerate(trainloader):\n",
    "            \n",
    "            real_images=real_images.to(device)\n",
    "            labels=labels.to(device)\n",
    "            # Discriminator training step\n",
    "            # 1.\n",
    "            optD.zero_grad()\n",
    "            # generate image from random\n",
    "            z = t.empty((batch_size, latent_dim_size)).uniform_(0,1).to(device)\n",
    "            \n",
    "            generated_images = netG(z).detach()\n",
    "            # use discriminator to get both components of the loss\n",
    "            loss_tensor = t.log(1-netD(generated_images) + 1e-5)\n",
    "            loss_generated_images = t.mean(loss_tensor)\n",
    "            \n",
    "            \n",
    "            loss_real_images = t.mean(t.log(netD(real_images)))\n",
    "\n",
    "            loss_discriminator = loss_generated_images + loss_real_images\n",
    "            print(loss_discriminator, loss_generated_images, loss_real_images)\n",
    "\n",
    "            loss_discriminator.backward()\n",
    "\n",
    "            optD.step()\n",
    "\n",
    "\n",
    "            # Generator training step\n",
    "            \"\"\"Generator:\n",
    "We take the following steps:\n",
    "\n",
    "Zero the gradients of GG.\n",
    "Generate random noise zz, and compute D(G(z)).\n",
    "We don't use log(1−D(G(z))) to calculate our loss function, instead we use log(D(G(z))) (and gradient ascent).\n",
    "\"\"\"\n",
    "            optG.zero_grad()\n",
    "            z = t.empty((batch_size, latent_dim_size)).uniform_(0,1).to(device)\n",
    "            predictions = discriminator(generator(z))\n",
    "            loss_generator = t.log(t.mean(predictions))\n",
    "            loss_generator.backward()\n",
    "            \n",
    "            optG.step()\n",
    "\n",
    "            step += batch_size\n",
    "\n",
    "            if use_wandb:\n",
    "                wandb.log(dict(epoch=epoch, loss_discriminator=loss_discriminator, loss_generator=loss_generator), step=step)\n",
    "\n",
    "            \n",
    "    if use_wandb:         \n",
    "        wandb.finish()\n",
    "\n",
    "lr = 5e-5\n",
    "\n",
    "initialize_weights(generator)\n",
    "initialize_weights(discriminator)\n",
    "\n",
    "optimizer_generator = t.optim.Adam(generator.parameters(),lr=lr, maximize=True)\n",
    "optimizer_discriminator = t.optim.Adam(discriminator.parameters(),lr=lr, maximize=True)\n",
    "\n",
    "train_generator_discriminator(\n",
    "    netG=generator,\n",
    "    netD=discriminator,\n",
    "    optG=optimizer_generator,\n",
    "    optD=optimizer_discriminator,\n",
    "    trainloader=trainloader,\n",
    "    epochs=1,\n",
    "    use_wandb=False\n",
    ")\n",
    "\n"
   ]
  },
  {
   "cell_type": "markdown",
   "metadata": {},
   "source": [
    "### If stuck\n",
    "compare solutions to own version"
   ]
  },
  {
   "cell_type": "code",
   "execution_count": null,
   "metadata": {},
   "outputs": [],
   "source": [
    "# ! wget https://raw.githubusercontent.com/callummcdougall/arena-v1/main/w4d1/solutions.py\n",
    "# ! wget https://raw.githubusercontent.com/callummcdougall/arena-v1/main/w4d1/w0d2_solutions.py\n",
    "# ! wget https://raw.githubusercontent.com/callummcdougall/arena-v1/main/w4d1/w0d3_solutions.py\n",
    "\n",
    "\n",
    "from solutions import netD_celeb_mini\n",
    "utils.print_param_count(discriminator, netD_celeb_mini)"
   ]
  },
  {
   "cell_type": "code",
   "execution_count": null,
   "metadata": {},
   "outputs": [],
   "source": [
    "from solutions import netG_celeb_mini\n",
    "utils.print_param_count(generator, netG_celeb_mini)"
   ]
  },
  {
   "cell_type": "code",
   "execution_count": null,
   "metadata": {},
   "outputs": [],
   "source": [
    "512*4*4"
   ]
  },
  {
   "cell_type": "code",
   "execution_count": null,
   "metadata": {},
   "outputs": [],
   "source": [
    "[(self.generator_num_features//(2**i),\n",
    "                                    self.generator_num_features//2**(i+1), \n",
    "                                    self.initial_width*2**i) for i in range(1, self.n_layers)]"
   ]
  }
 ],
 "metadata": {
  "kernelspec": {
   "display_name": "Python 3.9.13 ('science')",
   "language": "python",
   "name": "python3"
  },
  "language_info": {
   "codemirror_mode": {
    "name": "ipython",
    "version": 3
   },
   "file_extension": ".py",
   "mimetype": "text/x-python",
   "name": "python",
   "nbconvert_exporter": "python",
   "pygments_lexer": "ipython3",
   "version": "3.9.15"
  },
  "orig_nbformat": 4,
  "vscode": {
   "interpreter": {
    "hash": "ded5e6f133e31c74d7e61946920be103f96969c2c9abd403ec1a6f8823efeff2"
   }
  }
 },
 "nbformat": 4,
 "nbformat_minor": 2
}
