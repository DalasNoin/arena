{
 "cells": [
  {
   "cell_type": "code",
   "execution_count": 2,
   "metadata": {},
   "outputs": [
    {
     "name": "stdout",
     "output_type": "stream",
     "text": [
      "--2022-11-15 13:03:22--  https://raw.githubusercontent.com/callummcdougall/arena-v1/main/w4d1/utils.py\n",
      "Resolving raw.githubusercontent.com (raw.githubusercontent.com)... 185.199.110.133, 185.199.111.133, 185.199.109.133, ...\n",
      "Connecting to raw.githubusercontent.com (raw.githubusercontent.com)|185.199.110.133|:443... connected.\n",
      "HTTP request sent, awaiting response... 200 OK\n",
      "Length: 9325 (9.1K) [text/plain]\n",
      "Saving to: ‘utils.py’\n",
      "\n",
      "utils.py            100%[===================>]   9.11K  --.-KB/s    in 0.08s   \n",
      "\n",
      "2022-11-15 13:03:24 (111 KB/s) - ‘utils.py’ saved [9325/9325]\n",
      "\n"
     ]
    }
   ],
   "source": [
    "# ! wget https://raw.githubusercontent.com/callummcdougall/arena-v1/main/w4d1/utils.py\n",
    "\n",
    "import torch as t\n",
    "from typing import Union\n",
    "from torch import nn\n",
    "import torch.nn.functional as F\n",
    "import plotly.express as px\n",
    "import plotly.graph_objects as go\n",
    "from einops import rearrange, reduce, repeat\n",
    "from einops.layers.torch import Rearrange\n",
    "from fancy_einsum import einsum\n",
    "import os\n",
    "from tqdm.auto import tqdm\n",
    "from torchvision import transforms, datasets\n",
    "from torchvision.datasets import ImageFolder\n",
    "from torch.utils.data import Dataset, DataLoader, TensorDataset\n",
    "import wandb\n",
    "import utils"
   ]
  },
  {
   "cell_type": "markdown",
   "metadata": {},
   "source": [
    "## transposed convolutions"
   ]
  },
  {
   "cell_type": "markdown",
   "metadata": {},
   "source": [
    "Question - what do you think the formula is relating input_size, kernel_size and output_size in the case of 1D convolutions (with no padding or stride)?"
   ]
  },
  {
   "cell_type": "markdown",
   "metadata": {},
   "source": [
    "output_size = input_size + kernel_size - 1\n",
    "\n",
    "since it reverses the shape change of a normal convolution\n",
    "\n",
    "output_size = input_size - kernel_size + 1"
   ]
  },
  {
   "cell_type": "markdown",
   "metadata": {},
   "source": [
    "Question - how can this operation be cast as a convolution? In other words, exactly what arrays input and kernel would produce the same output as the transposed convolution above, if we performed a standard convolution on them?"
   ]
  },
  {
   "cell_type": "markdown",
   "metadata": {},
   "source": [
    "it is necessary to pad the input with zeros kernel_size -1,\n",
    "the kernel needs to be reversed"
   ]
  },
  {
   "cell_type": "code",
   "execution_count": 41,
   "metadata": {},
   "outputs": [
    {
     "name": "stdout",
     "output_type": "stream",
     "text": [
      "All tests in `test_conv1d_minimal` passed!\n"
     ]
    }
   ],
   "source": [
    "def conv_transpose1d_minimal(x: t.Tensor, weights: t.Tensor, padding: int=0) -> t.Tensor:\n",
    "    '''Like torch's conv_transpose1d using bias=False and all other keyword arguments left at their default values.\n",
    "\n",
    "    x: shape (batch, in_channels, width)\n",
    "    weights: shape (in_channels, out_channels, kernel_width)\n",
    "\n",
    "    Returns: shape (batch, out_channels, output_width)\n",
    "    '''\n",
    "    # reverse kernel\n",
    "    weight_mod = t.flip(weights, dims=(2,))\n",
    "    weight_mod = rearrange(weight_mod, \"a b c -> b a c\")\n",
    "    x_width = x.shape[2]\n",
    "    # change input with padding\n",
    "    kernel_width = weights.shape[2]\n",
    "    padding_size = kernel_width -1 - padding\n",
    "    x_mod = t.zeros((x.shape[0], x.shape[1],x.shape[2]+2*padding_size), dtype=x.dtype)\n",
    "    x_mod[..., padding_size:padding_size + x_width] = x\n",
    "    # apply conv1d, todo: maybe use own implementation\n",
    "    result = t.nn.functional.conv1d(x_mod, weight_mod)\n",
    "    return result\n",
    "\n",
    "utils.test_conv_transpose1d_minimal(conv_transpose1d_minimal)"
   ]
  },
  {
   "cell_type": "code",
   "execution_count": 43,
   "metadata": {},
   "outputs": [
    {
     "name": "stdout",
     "output_type": "stream",
     "text": [
      "All tests in `test_fractional_stride_1d` passed!\n",
      "All tests in `test_conv_transpose1d` passed!\n"
     ]
    }
   ],
   "source": [
    "def fractional_stride_1d(x, stride: int = 1):\n",
    "    '''Returns a version of x suitable for transposed convolutions, i.e. \"spaced out\" with zeros between its values.\n",
    "    This spacing only happens along the last dimension.\n",
    "\n",
    "    x: shape (batch, in_channels, width)\n",
    "\n",
    "    Example: \n",
    "        x = [[[1, 2, 3], [4, 5, 6]]]\n",
    "        stride = 2\n",
    "        output = [[[1, 0, 2, 0, 3], [4, 0, 5, 0, 6]]]\n",
    "    '''\n",
    "    x_mod = t.zeros((x.shape[0], x.shape[1],(x.shape[2]-1)*stride + 1), dtype=x.dtype)\n",
    "    x_mod[..., ::stride] = x\n",
    "    return x_mod\n",
    "\n",
    "utils.test_fractional_stride_1d(fractional_stride_1d)\n",
    "\n",
    "def conv_transpose1d(x, weights, stride: int = 1, padding: int = 0) -> t.Tensor:\n",
    "    '''Like torch's conv_transpose1d using bias=False and all other keyword arguments left at their default values.\n",
    "\n",
    "    x: shape (batch, in_channels, width)\n",
    "    weights: shape (out_channels, in_channels, kernel_width)\n",
    "\n",
    "    Returns: shape (batch, out_channels, output_width)\n",
    "    '''\n",
    "    x = fractional_stride_1d(x,stride=stride)\n",
    "    # reverse kernel\n",
    "    result = conv_transpose1d_minimal(x=x,weights=weights, padding=padding)\n",
    "    return result\n",
    "\n",
    "utils.test_conv_transpose1d(conv_transpose1d)"
   ]
  },
  {
   "cell_type": "markdown",
   "metadata": {},
   "source": [
    "## 2D transposed Convolutions"
   ]
  },
  {
   "cell_type": "code",
   "execution_count": 55,
   "metadata": {},
   "outputs": [
    {
     "name": "stdout",
     "output_type": "stream",
     "text": [
      "All tests in `test_conv_transpose2d` passed!\n"
     ]
    }
   ],
   "source": [
    "IntOrPair = Union[int, tuple[int, int]]\n",
    "Pair = tuple[int, int]\n",
    "\n",
    "def force_pair(v: IntOrPair) -> Pair:\n",
    "    '''Convert v to a pair of int, if it isn't already.'''\n",
    "    if isinstance(v, tuple):\n",
    "        if len(v) != 2:\n",
    "            raise ValueError(v)\n",
    "        return (int(v[0]), int(v[1]))\n",
    "    elif isinstance(v, int):\n",
    "        return (v, v)\n",
    "    raise ValueError(v)\n",
    "\n",
    "def fractional_stride_2d(x, stride_h: int, stride_w: int):\n",
    "    '''\n",
    "    Same as fractional_stride_1d, except we apply it along the last 2 dims of x (width and height).\n",
    "    x.shape = (batch, in_channels, height, width)\n",
    "    '''\n",
    "\n",
    "    x_mod = t.zeros((x.shape[0], x.shape[1],(x.shape[2]-1)*stride_h + 1,(x.shape[3]-1)*stride_w + 1), dtype=x.dtype)\n",
    "    x_mod[..., ::stride_h, ::stride_w] = x\n",
    "    return x_mod\n",
    "\n",
    "def conv_transpose2d(x, weights, stride: IntOrPair = 1, padding: IntOrPair = 0) -> t.Tensor:\n",
    "    '''Like torch's conv_transpose2d using bias=False\n",
    "\n",
    "    x: shape (batch, in_channels, height, width)\n",
    "    weights: shape (out_channels, in_channels, kernel_height, kernel_width)\n",
    "\n",
    "\n",
    "    Returns: shape (batch, out_channels, output_height, output_width)\n",
    "    '''\n",
    "    stride_h, stride_w = force_pair(stride)\n",
    "    padding_h, padding_w = force_pair(padding)\n",
    "    x = fractional_stride_2d(x, stride_h=stride_h, stride_w=stride_w)\n",
    "    weight_mod = t.flip(weights, dims=(2,3))\n",
    "    weight_mod = rearrange(weight_mod, \"a b h w -> b a h w\")\n",
    "    x_height, x_width = x.shape[2], x.shape[3]\n",
    "    # create new tensor of padded size\n",
    "    kernel_height, kernel_width = weights.shape[2], weights.shape[3]\n",
    "    padding_height_total = kernel_height - 1 - padding_h\n",
    "    padding_width_total = kernel_width - 1 - padding_w\n",
    "    x_mod = t.zeros((x.shape[0], \n",
    "                        x.shape[1],\n",
    "                        x.shape[2]+2*padding_height_total, \n",
    "                        x.shape[3]+2*padding_width_total),\n",
    "                        dtype=x.dtype)\n",
    "\n",
    "    # move values to new tensor\n",
    "    x_mod[..., padding_height_total:padding_height_total + x_height, \n",
    "            padding_width_total:padding_width_total+x_width] = x\n",
    "\n",
    "    # apply conv2d, todo: maybe use own implementation\n",
    "    result = t.nn.functional.conv2d(x_mod, weight_mod)\n",
    "    return result\n",
    "    \n",
    "    \n",
    "\n",
    "utils.test_conv_transpose2d(conv_transpose2d)"
   ]
  },
  {
   "cell_type": "code",
   "execution_count": 67,
   "metadata": {},
   "outputs": [
    {
     "name": "stdout",
     "output_type": "stream",
     "text": [
      "All tests in `test_ConvTranspose2d` passed!\n"
     ]
    }
   ],
   "source": [
    "class ConvTranspose2d(nn.Module):\n",
    "    def __init__(\n",
    "        self, in_channels: int, out_channels: int, kernel_size: IntOrPair, stride: IntOrPair = 1, padding: IntOrPair = 0\n",
    "    ):\n",
    "        '''\n",
    "        Same as torch.nn.ConvTranspose2d with bias=False.\n",
    "\n",
    "        Name your weight field `self.weight` for compatibility with the tests.\n",
    "        '''\n",
    "        super().__init__()\n",
    "        self.in_channels = in_channels\n",
    "        self.out_channels = out_channels\n",
    "        self.kernel_size = force_pair(kernel_size)\n",
    "        self.stride = force_pair(stride)\n",
    "        self.padding = force_pair(padding)\n",
    "\n",
    "        # from steamlit: sqrt(k)=sqrt(1/(out_channels×kernel_width×kernel_height))\n",
    "        sqrt_k = (1 / (self.out_channels*self.kernel_size[0]*self.kernel_size[1])) ** 0.5\n",
    "\n",
    "        # self.weight = nn.Parameter(2*k*t.rand(in_channels, out_channels, *self.kernel_size) - k)\n",
    "        self.weight = nn.Parameter(t.empty((in_channels, out_channels, *self.kernel_size)).uniform_(-sqrt_k,sqrt_k))\n",
    "\n",
    "    def forward(self, x: t.Tensor) -> t.Tensor:\n",
    "        \"\"\"\n",
    "        Apply conv transpose 2d function\n",
    "        \"\"\"\n",
    "        result = conv_transpose2d(x=x, weights=self.weight, stride=self.stride, padding=self.padding)\n",
    "        return result\n",
    "\n",
    "utils.test_ConvTranspose2d(ConvTranspose2d)"
   ]
  },
  {
   "cell_type": "code",
   "execution_count": 69,
   "metadata": {},
   "outputs": [
    {
     "name": "stdout",
     "output_type": "stream",
     "text": [
      "All tests in `test_Tanh` passed.\n"
     ]
    }
   ],
   "source": [
    "class Tanh(nn.Module):\n",
    "    def forward(self, x: t.Tensor) -> t.Tensor:\n",
    "        # (exp(x) - exp(-x)) / (exp(x) + exp(-x))\n",
    "        return t.tanh(x)\n",
    "\n",
    "utils.test_Tanh(Tanh)"
   ]
  },
  {
   "cell_type": "code",
   "execution_count": 70,
   "metadata": {},
   "outputs": [
    {
     "name": "stdout",
     "output_type": "stream",
     "text": [
      "All tests in `test_LeakyReLU` passed.\n"
     ]
    }
   ],
   "source": [
    "class LeakyReLU(nn.Module):\n",
    "    def __init__(self, negative_slope: float = 0.01):\n",
    "        super().__init__()\n",
    "        self.negative_slope = negative_slope\n",
    "        \n",
    "    def forward(self, x: t.Tensor) -> t.Tensor:\n",
    "        # if x > 0: x else: x * negative_slope\n",
    "        return nn.functional.leaky_relu(x, negative_slope=self.negative_slope)\n",
    "    \n",
    "    def extra_repr(self) -> str:\n",
    "        return f\"LeakyReLU negative_slope={self.negative_slope}\"\n",
    "\n",
    "utils.test_LeakyReLU(LeakyReLU)"
   ]
  },
  {
   "cell_type": "code",
   "execution_count": 71,
   "metadata": {},
   "outputs": [
    {
     "name": "stdout",
     "output_type": "stream",
     "text": [
      "All tests in `test_Sigmoid` passed.\n"
     ]
    },
    {
     "name": "stderr",
     "output_type": "stream",
     "text": [
      "/Users/YaoLu/opt/anaconda3/envs/science/lib/python3.9/site-packages/torch/nn/functional.py:1967: UserWarning: nn.functional.sigmoid is deprecated. Use torch.sigmoid instead.\n",
      "  warnings.warn(\"nn.functional.sigmoid is deprecated. Use torch.sigmoid instead.\")\n"
     ]
    }
   ],
   "source": [
    "class Sigmoid(nn.Module):\n",
    "    def forward(self, x: t.Tensor) -> t.Tensor:\n",
    "        # 1 / (1 + exp(-x))\n",
    "        return nn.functional.sigmoid(x)\n",
    "\n",
    "utils.test_Sigmoid(Sigmoid)"
   ]
  },
  {
   "cell_type": "code",
   "execution_count": null,
   "metadata": {},
   "outputs": [],
   "source": []
  }
 ],
 "metadata": {
  "kernelspec": {
   "display_name": "Python 3.9.13 ('science')",
   "language": "python",
   "name": "python3"
  },
  "language_info": {
   "codemirror_mode": {
    "name": "ipython",
    "version": 3
   },
   "file_extension": ".py",
   "mimetype": "text/x-python",
   "name": "python",
   "nbconvert_exporter": "python",
   "pygments_lexer": "ipython3",
   "version": "3.9.13"
  },
  "orig_nbformat": 4,
  "vscode": {
   "interpreter": {
    "hash": "ded5e6f133e31c74d7e61946920be103f96969c2c9abd403ec1a6f8823efeff2"
   }
  }
 },
 "nbformat": 4,
 "nbformat_minor": 2
}
