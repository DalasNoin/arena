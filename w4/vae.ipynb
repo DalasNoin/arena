{
 "cells": [
  {
   "cell_type": "code",
   "execution_count": null,
   "metadata": {},
   "outputs": [],
   "source": [
    "from torch import nn\n",
    "import torch as t\n",
    "from tqdm import tqdm"
   ]
  },
  {
   "cell_type": "markdown",
   "metadata": {},
   "source": [
    "## data"
   ]
  },
  {
   "cell_type": "code",
   "execution_count": null,
   "metadata": {},
   "outputs": [],
   "source": [
    "from torchvision.datasets import MNIST\n",
    "from torchvision import transforms\n",
    "from torch.utils.data import Dataset,DataLoader"
   ]
  },
  {
   "cell_type": "code",
   "execution_count": 98,
   "metadata": {},
   "outputs": [],
   "source": [
    "batch_size = 32\n",
    "epochs=2\n",
    "latent_dim_size = 10\n",
    "transform=transforms.Compose([transforms.ToTensor(),\n",
    "                              transforms.Normalize(0.5, 0.2),\n",
    "                             ])\n",
    "\n",
    "mnist_train = MNIST(root=\"mnist\", download=True, transform=transform, train=True)\n",
    "mnist_eval = MNIST(root=\"mnist\", download=True, transform=transform, train=False)\n",
    "trainloader = DataLoader(mnist_train, batch_size=batch_size, shuffle=True)\n",
    "evalloader = DataLoader(mnist_eval, batch_size=batch_size, shuffle=False)\n"
   ]
  },
  {
   "cell_type": "markdown",
   "metadata": {},
   "source": [
    "## train loop"
   ]
  },
  {
   "cell_type": "code",
   "execution_count": null,
   "metadata": {},
   "outputs": [],
   "source": [
    "def train(autoencoder: nn.Module, trainloader: DataLoader, optimizer):\n",
    "    criterion = nn.MSELoss()\n",
    "    autoencoder.train()\n",
    "    pbar = tqdm(enumerate(trainloader), total=trainloader.__len__())\n",
    "    for epoch in range(epochs):\n",
    "        for i, (images, labels) in pbar:\n",
    "            type(images)\n",
    "            optimizer.zero_grad()\n",
    "            decompressed_images = autoencoder(images)\n",
    "            loss = criterion(decompressed_images, images)\n",
    "            loss.backward()\n",
    "            optimizer.step()\n",
    "            if i%10== 0:\n",
    "                pbar.set_postfix(loss = loss.detach())\n"
   ]
  },
  {
   "cell_type": "markdown",
   "metadata": {},
   "source": [
    "## eval"
   ]
  },
  {
   "cell_type": "code",
   "execution_count": null,
   "metadata": {},
   "outputs": [],
   "source": [
    "def eval(autoencoder: nn.Module, evalloader: DataLoader):\n",
    "    autoencoder.eval()\n",
    "    criterion = nn.MSELoss()\n",
    "    pbar = tqdm(enumerate(evalloader), total=len(evalloader))\n",
    "    saved_loss = []\n",
    "    for i, (images, labels) in pbar:\n",
    "        decompressed_images = autoencoder(images)\n",
    "        loss = criterion(decompressed_images, images)\n",
    "        saved_loss.append(loss.detach().mean())\n",
    "        if i%10== 0:\n",
    "            pbar.set_postfix(loss = loss.detach())\n",
    "    \n",
    "    print(\"loss\", t.mean(t.tensor(saved_loss)))"
   ]
  },
  {
   "cell_type": "markdown",
   "metadata": {},
   "source": [
    "## show result"
   ]
  },
  {
   "cell_type": "code",
   "execution_count": null,
   "metadata": {},
   "outputs": [],
   "source": [
    "from matplotlib import pyplot as plt\n",
    "import einops\n",
    "def show(autoencoder:nn.Module, evalloader: DataLoader):\n",
    "    autoencoder.eval()\n",
    "    generator = enumerate(evalloader)\n",
    "    _, (images,labels) = next(generator)\n",
    "    reconstructed = autoencoder(images).detach()\n",
    "    reconstructed = einops.rearrange(reconstructed, \"b c h w -> h (b c w)\")\n",
    "    images = einops.rearrange(images, \"b c h w -> h (b c w)\")\n",
    "    plt.imshow(t.cat((reconstructed,images)))\n",
    "    plt.show()"
   ]
  },
  {
   "cell_type": "markdown",
   "metadata": {},
   "source": [
    "## Linear Autoencoder\n",
    "\n",
    "Use an encoder with just two fully connected linear layers, with one activation function in the middle. Your first linear layer should have out_features=100, and you should try a small number for your second linear layer (e.g. between 2 and 10). Your decoder architecture should mirror your encoder, just like how the generator and discriminator mirrored each other in the GAN you created yesterday."
   ]
  },
  {
   "cell_type": "code",
   "execution_count": null,
   "metadata": {},
   "outputs": [],
   "source": [
    "from einops.layers.torch import Rearrange\n",
    "\n",
    "class Autoencoder(nn.Module):\n",
    "    encoder: nn.Sequential\n",
    "    decoder: nn.Sequential\n",
    "\n",
    "    def __init__(self, *args):\n",
    "        super().__init__()\n",
    "        self.image_size = 28\n",
    "        self.encoder = nn.Sequential(Rearrange(\"b c h w -> b (c h w)\"),\n",
    "                                nn.Linear(in_features=self.image_size**2, out_features=100),\n",
    "                                nn.ReLU(),\n",
    "                                nn.Linear(in_features=100, out_features=latent_dim_size))\n",
    "        self.decoder = nn.Sequential(nn.Linear(in_features=latent_dim_size, out_features=100),\n",
    "                                    nn.ReLU(),\n",
    "                                    nn.Linear(in_features=100, out_features=self.image_size**2),\n",
    "                                    Rearrange(\"b (c h w) -> b c h w\", h=self.image_size, w=self.image_size))\n",
    "\n",
    "    def forward(self, x: t.Tensor) -> t.Tensor:\n",
    "        x_compressed = self.encoder(x)\n",
    "        x_reconstructed = self.decoder(x_compressed)\n",
    "        return x_reconstructed\n",
    "\n",
    "autoencoder = Autoencoder()\n",
    "\n",
    "optimizer = t.optim.Adam(autoencoder.parameters())"
   ]
  },
  {
   "cell_type": "code",
   "execution_count": null,
   "metadata": {},
   "outputs": [],
   "source": [
    "train(autoencoder=autoencoder, trainloader=trainloader, optimizer=optimizer)\n",
    "eval(autoencoder=autoencoder, evalloader=evalloader)\n",
    "show(autoencoder=autoencoder,evalloader=evalloader)"
   ]
  },
  {
   "cell_type": "markdown",
   "metadata": {},
   "source": [
    "## Convolutional autoencoder"
   ]
  },
  {
   "cell_type": "markdown",
   "metadata": {},
   "source": [
    "#### Encoder\n",
    "\n",
    "Your encoder should consist of two convolutional layers, a flatten, then two linear layers. After each convolution or linear layer (except for the last one) you should have an activation function. The convolutions should have kernel size 4, stride 2, padding 0 (recall from yesterday that this exactly halves the width and height). The number of output channels can be 16 and 32 respectively.\n",
    "\n",
    "After the convolutional layers, you flatten then apply linear layers. Your flattened size will be 32 \\times 7 \\times 732×7×7. Your first linear layer should have out_features=128; the second is up to you (again we recommend playing around with values between 2 and 10).\n",
    "\n",
    "#### Decoder\n",
    "Again, your decoder should be a mirror image of your encoder. Reverse the order of all the layers, and replace the convolutions with transposed convolutions. Your transposed convolutions should have kernel size 4, stride 2, and padding 1 (this results in a doubling of the height and width of the image, so you can use the same shapes for the linear layers as for the encoder, but in reverse)."
   ]
  },
  {
   "cell_type": "code",
   "execution_count": null,
   "metadata": {},
   "outputs": [],
   "source": [
    "from einops.layers.torch import Rearrange\n",
    "\n",
    "class ConvolutionalAutoencoder(nn.Module):\n",
    "    encoder: nn.Sequential\n",
    "    decoder: nn.Sequential\n",
    "\n",
    "    def __init__(self, *args, **kwargs):\n",
    "        super().__init__()\n",
    "        self.image_size = 28\n",
    "        self.kernel_size = 4\n",
    "        self.stride = 2\n",
    "        self.padding = 1\n",
    "        self.channels=32\n",
    "        features_after_convolutions = int((self.image_size/4)**2*self.channels)\n",
    "        self.encoder = nn.Sequential(nn.Conv2d(in_channels=1,out_channels=self.channels,kernel_size=self.kernel_size, stride=self.stride,padding=self.padding),\n",
    "                                    nn.GELU(),\n",
    "                                    nn.Conv2d(in_channels=self.channels,out_channels=self.channels,kernel_size=self.kernel_size, stride=self.stride,padding=self.padding),\n",
    "                                    nn.GELU(),\n",
    "                                    Rearrange(\"b c h w -> b (c h w)\"),\n",
    "                                    nn.Linear(in_features=features_after_convolutions, out_features=100),\n",
    "                                    nn.GELU(),\n",
    "                                    nn.Linear(in_features=100, out_features=10))\n",
    "        self.decoder = nn.Sequential(nn.Linear(in_features=10, out_features=100),\n",
    "                                    nn.GELU(),\n",
    "                                    nn.Linear(in_features=100, out_features=features_after_convolutions),\n",
    "                                    nn.GELU(),\n",
    "                                    Rearrange(\"b (c h w) -> b c h w\", c=self.channels, h=int(7), w=int(7)),\n",
    "                                    nn.ConvTranspose2d(in_channels=self.channels, out_channels=self.channels,kernel_size=self.kernel_size, stride=self.stride, padding=self.padding),\n",
    "                                    nn.GELU(),\n",
    "                                    nn.ConvTranspose2d(in_channels=self.channels, out_channels=1,kernel_size=self.kernel_size, stride=self.stride, padding=self.padding),)\n",
    "                                    \n",
    "\n",
    "    def forward(self, x: t.Tensor) -> t.Tensor:\n",
    "        x_compressed = self.encoder(x)\n",
    "        x_reconstructed = self.decoder(x_compressed)\n",
    "        return x_reconstructed\n",
    "\n",
    "autoencoder = ConvolutionalAutoencoder()\n",
    "\n",
    "optimizer = t.optim.Adam(autoencoder.parameters())"
   ]
  },
  {
   "cell_type": "code",
   "execution_count": null,
   "metadata": {},
   "outputs": [],
   "source": [
    "train(autoencoder=autoencoder, trainloader=trainloader, optimizer=optimizer)\n",
    "eval(autoencoder=autoencoder, evalloader=evalloader)\n",
    "show(autoencoder=autoencoder,evalloader=evalloader)"
   ]
  },
  {
   "cell_type": "markdown",
   "metadata": {},
   "source": [
    "## explore latent space"
   ]
  },
  {
   "cell_type": "code",
   "execution_count": null,
   "metadata": {},
   "outputs": [],
   "source": [
    "from einops import rearrange\n",
    "device=\"cpu\"\n",
    "model=autoencoder\n",
    "import numpy as np\n",
    "import plotly.express as px\n",
    "\n",
    "# Choose number of interpolation points\n",
    "n_points = 11\n",
    "\n",
    "# Constructing latent dim data by making two of the dimensions vary independently between 0 and 1\n",
    "latent_dim_data = t.zeros((n_points, n_points, latent_dim_size), device=device)\n",
    "x = t.linspace(-1, 1, n_points)\n",
    "latent_dim_data[:, :, 0] = x.unsqueeze(0)\n",
    "latent_dim_data[:, :, 1] = x.unsqueeze(1)\n",
    "# Rearranging so we have a single batch dimension\n",
    "latent_dim_data = rearrange(latent_dim_data, \"b1 b2 latent_dim -> (b1 b2) latent_dim\")\n",
    "\n",
    "# Getting model output, and normalising & truncating it in the range [0, 1]\n",
    "output = model.decoder(latent_dim_data).detach().cpu().numpy()\n",
    "output_truncated = np.clip((output * 0.3081) + 0.1307, 0, 1)\n",
    "output_single_image = rearrange(output_truncated, \"(b1 b2) 1 height width -> (b1 height) (b2 width)\", b1=n_points)\n",
    "\n",
    "# Plotting results\n",
    "fig = px.imshow(output_single_image, color_continuous_scale=\"greys_r\")\n",
    "fig.update_layout(\n",
    "    title_text=\"Decoder output from varying first two latent space dims\", title_x=0.5,\n",
    "    coloraxis_showscale=False, \n",
    "    xaxis=dict(tickmode=\"array\", tickvals=list(range(14, 14+28*n_points, 28)), ticktext=[f\"{i:.2f}\" for i in x]),\n",
    "    yaxis=dict(tickmode=\"array\", tickvals=list(range(14, 14+28*n_points, 28)), ticktext=[f\"{i:.2f}\" for i in x])\n",
    ")\n",
    "fig.show()"
   ]
  },
  {
   "cell_type": "markdown",
   "metadata": {},
   "source": [
    "## Show embeddings of autoencoder"
   ]
  },
  {
   "cell_type": "code",
   "execution_count": null,
   "metadata": {},
   "outputs": [],
   "source": [
    "from matplotlib import pyplot as plt\n",
    "import einops\n",
    "\n",
    "evalloader_bigbatch = DataLoader(mnist_eval, batch_size=1000, shuffle=False)\n",
    "autoencoder.eval()\n",
    "generator = enumerate(evalloader_bigbatch)\n",
    "_, (images,labels) = next(generator)\n",
    "\n",
    "embeddings = autoencoder.encoder(images).detach()\n",
    "\n",
    "covariance_matrix = np.cov(embeddings.T)\n",
    "\n",
    "values, vectors =  np.linalg.eig(covariance_matrix)\n",
    "\n",
    "projected_embeddings = (embeddings @ vectors)[:,:2]\n",
    "\n",
    "px.scatter(*projected_embeddings.T, color=labels)\n"
   ]
  },
  {
   "cell_type": "markdown",
   "metadata": {},
   "source": [
    "# Variational Autoencoders"
   ]
  },
  {
   "cell_type": "code",
   "execution_count": 94,
   "metadata": {},
   "outputs": [],
   "source": [
    "from einops.layers.torch import Rearrange\n",
    "\n",
    "class VariationalAutoencoder(nn.Module):\n",
    "    encoder: nn.Sequential\n",
    "    decoder: nn.Sequential\n",
    "\n",
    "    def __init__(self, *args, **kwargs):\n",
    "        super().__init__()\n",
    "        self.image_size = 28\n",
    "        self.kernel_size = 4\n",
    "        self.stride = 2\n",
    "        self.padding = 1\n",
    "        self.channels=32\n",
    "        self.latent_dim = 10\n",
    "        features_after_convolutions = int((self.image_size/4)**2*self.channels)\n",
    "        self.encoder = nn.Sequential(nn.Conv2d(in_channels=1,out_channels=self.channels,kernel_size=self.kernel_size, stride=self.stride,padding=self.padding),\n",
    "                                    nn.GELU(),\n",
    "                                    nn.Conv2d(in_channels=self.channels,out_channels=self.channels,kernel_size=self.kernel_size, stride=self.stride,padding=self.padding),\n",
    "                                    nn.GELU(),\n",
    "                                    Rearrange(\"b c h w -> b (c h w)\"),\n",
    "                                    nn.Linear(in_features=features_after_convolutions, out_features=100),\n",
    "                                    nn.GELU(),\n",
    "                                    nn.Linear(in_features=100, out_features=self.latent_dim*2), # 2 * latent dim for mean and variance of distributions\n",
    "                                    Rearrange(\"b (l mv) -> b l mv\", mv=2))\n",
    "        self.decoder = nn.Sequential(nn.Linear(in_features=10, out_features=100),\n",
    "                                    nn.GELU(),\n",
    "                                    nn.Linear(in_features=100, out_features=features_after_convolutions),\n",
    "                                    nn.GELU(),\n",
    "                                    Rearrange(\"b (c h w) -> b c h w\", c=self.channels, h=int(7), w=int(7)),\n",
    "                                    nn.ConvTranspose2d(in_channels=self.channels, out_channels=self.channels,kernel_size=self.kernel_size, stride=self.stride, padding=self.padding),\n",
    "                                    nn.GELU(),\n",
    "                                    nn.ConvTranspose2d(in_channels=self.channels, out_channels=1,kernel_size=self.kernel_size, stride=self.stride, padding=self.padding),)\n",
    "                                    \n",
    "\n",
    "    def forward(self, x: t.Tensor) -> t.Tensor:\n",
    "        mean_and_variance = self.encoder(x)\n",
    "        # isolate mean and variance\n",
    "        mean, log_variance = mean_and_variance[..., 0], mean_and_variance[..., 1]\n",
    "        # use exponential function to make sure variance is always positive\n",
    "        variance = t.exp(log_variance)\n",
    "        # sample fom the normal distributions\n",
    "        sample = t.randn_like(mean)\n",
    "        sample = sample*variance + mean\n",
    "        # input sample in the decoder\n",
    "        reconstruction = self.decoder(sample)\n",
    "        if self.training:\n",
    "            return reconstruction, mean, log_variance # variance is the standard deviation in this case\n",
    "        else:\n",
    "            return reconstruction\n",
    "\n",
    "    def sample_encoder(self, x:t.Tensor) -> t.Tensor:\n",
    "        mean_and_variance = self.encoder(x)\n",
    "        # isolate mean and variance\n",
    "        mean, log_variance = mean_and_variance[..., 0], mean_and_variance[..., 1]\n",
    "        # use exponential function to make sure variance is always positive\n",
    "        variance = t.exp(log_variance)\n",
    "        # sample fom the normal distributions\n",
    "        sample = t.randn_like(mean)\n",
    "        sample = sample*variance + mean\n",
    "        return sample\n",
    "\n",
    "autoencoder = VariationalAutoencoder()\n",
    "\n",
    "optimizer = t.optim.Adam(autoencoder.parameters())"
   ]
  },
  {
   "cell_type": "code",
   "execution_count": 99,
   "metadata": {},
   "outputs": [],
   "source": [
    "def train_vae(autoencoder: nn.Module, trainloader: DataLoader, optimizer):\n",
    "    criterion = nn.MSELoss()\n",
    "    beta = 0.5\n",
    "    autoencoder.train()\n",
    "    pbar = tqdm(enumerate(trainloader), total=trainloader.__len__())\n",
    "    for epoch in range(epochs):\n",
    "        for i, (images, labels) in pbar:\n",
    "            optimizer.zero_grad()\n",
    "            decompressed_images, mean, log_variance = autoencoder(images)\n",
    "            \n",
    "            loss = criterion(decompressed_images, images) + t.mean(t.exp(log_variance * 2) + mean ** 2 - log_variance - 0.5)*beta\n",
    "            loss.backward()\n",
    "            optimizer.step()\n",
    "            if i%10== 0:\n",
    "                pbar.set_postfix(loss = loss.detach())"
   ]
  },
  {
   "cell_type": "code",
   "execution_count": 100,
   "metadata": {},
   "outputs": [
    {
     "name": "stderr",
     "output_type": "stream",
     "text": [
      "100%|██████████| 1875/1875 [01:00<00:00, 31.25it/s, loss=tensor(1.3010)]\n",
      "100%|██████████| 313/313 [00:04<00:00, 68.48it/s, loss=tensor(0.8596)]\n"
     ]
    },
    {
     "name": "stdout",
     "output_type": "stream",
     "text": [
      "loss tensor(0.7814)\n"
     ]
    },
    {
     "data": {
      "image/png": "[encoded data removed]",
      "text/plain": [
       "<Figure size 640x480 with 1 Axes>"
      ]
     },
     "metadata": {},
     "output_type": "display_data"
    }
   ],
   "source": [
    "train_vae(autoencoder=autoencoder, trainloader=trainloader, optimizer=optimizer)\n",
    "eval(autoencoder=autoencoder, evalloader=evalloader)\n",
    "show(autoencoder=autoencoder,evalloader=evalloader)"
   ]
  },
  {
   "cell_type": "code",
   "execution_count": 101,
   "metadata": {},
   "outputs": [
    {
     "ename": "ValueError",
     "evalue": "m has more than 2 dimensions",
     "output_type": "error",
     "traceback": [
      "\u001b[0;31m---------------------------------------------------------------------------\u001b[0m",
      "\u001b[0;31mValueError\u001b[0m                                Traceback (most recent call last)",
      "Cell \u001b[0;32mIn [101], line 11\u001b[0m\n\u001b[1;32m      7\u001b[0m _, (images,labels) \u001b[39m=\u001b[39m \u001b[39mnext\u001b[39m(generator)\n\u001b[1;32m      9\u001b[0m embeddings \u001b[39m=\u001b[39m autoencoder\u001b[39m.\u001b[39mencoder(images)\u001b[39m.\u001b[39mdetach()\n\u001b[0;32m---> 11\u001b[0m covariance_matrix \u001b[39m=\u001b[39m np\u001b[39m.\u001b[39;49mcov(embeddings\u001b[39m.\u001b[39;49mT)\n\u001b[1;32m     13\u001b[0m values, vectors \u001b[39m=\u001b[39m  np\u001b[39m.\u001b[39mlinalg\u001b[39m.\u001b[39meig(covariance_matrix)\n\u001b[1;32m     15\u001b[0m projected_embeddings \u001b[39m=\u001b[39m (embeddings \u001b[39m@\u001b[39m vectors)[:,:\u001b[39m2\u001b[39m]\n",
      "File \u001b[0;32m<__array_function__ internals>:180\u001b[0m, in \u001b[0;36mcov\u001b[0;34m(*args, **kwargs)\u001b[0m\n",
      "File \u001b[0;32m~/opt/anaconda3/envs/science/lib/python3.9/site-packages/numpy/lib/function_base.py:2593\u001b[0m, in \u001b[0;36mcov\u001b[0;34m(m, y, rowvar, bias, ddof, fweights, aweights, dtype)\u001b[0m\n\u001b[1;32m   2591\u001b[0m m \u001b[39m=\u001b[39m np\u001b[39m.\u001b[39masarray(m)\n\u001b[1;32m   2592\u001b[0m \u001b[39mif\u001b[39;00m m\u001b[39m.\u001b[39mndim \u001b[39m>\u001b[39m \u001b[39m2\u001b[39m:\n\u001b[0;32m-> 2593\u001b[0m     \u001b[39mraise\u001b[39;00m \u001b[39mValueError\u001b[39;00m(\u001b[39m\"\u001b[39m\u001b[39mm has more than 2 dimensions\u001b[39m\u001b[39m\"\u001b[39m)\n\u001b[1;32m   2595\u001b[0m \u001b[39mif\u001b[39;00m y \u001b[39mis\u001b[39;00m \u001b[39mnot\u001b[39;00m \u001b[39mNone\u001b[39;00m:\n\u001b[1;32m   2596\u001b[0m     y \u001b[39m=\u001b[39m np\u001b[39m.\u001b[39masarray(y)\n",
      "\u001b[0;31mValueError\u001b[0m: m has more than 2 dimensions"
     ]
    }
   ],
   "source": [
    "from matplotlib import pyplot as plt\n",
    "import einops\n",
    "\n",
    "evalloader_bigbatch = DataLoader(mnist_eval, batch_size=1000, shuffle=False)\n",
    "autoencoder.eval()\n",
    "generator = enumerate(evalloader_bigbatch)\n",
    "_, (images,labels) = next(generator)\n",
    "\n",
    "embeddings = autoencoder.encoder(images).detach()\n",
    "\n",
    "covariance_matrix = np.cov(embeddings.T)\n",
    "\n",
    "values, vectors =  np.linalg.eig(covariance_matrix)\n",
    "\n",
    "projected_embeddings = (embeddings @ vectors)[:,:2]\n",
    "\n",
    "px.scatter(*projected_embeddings.T, color=labels)\n"
   ]
  },
  {
   "cell_type": "code",
   "execution_count": null,
   "metadata": {},
   "outputs": [],
   "source": []
  }
 ],
 "metadata": {
  "kernelspec": {
   "display_name": "Python 3.9.15 ('science')",
   "language": "python",
   "name": "python3"
  },
  "language_info": {
   "codemirror_mode": {
    "name": "ipython",
    "version": 3
   },
   "file_extension": ".py",
   "mimetype": "text/x-python",
   "name": "python",
   "nbconvert_exporter": "python",
   "pygments_lexer": "ipython3",
   "version": "3.9.15"
  },
  "orig_nbformat": 4,
  "vscode": {
   "interpreter": {
    "hash": "ded5e6f133e31c74d7e61946920be103f96969c2c9abd403ec1a6f8823efeff2"
   }
  }
 },
 "nbformat": 4,
 "nbformat_minor": 2
}
