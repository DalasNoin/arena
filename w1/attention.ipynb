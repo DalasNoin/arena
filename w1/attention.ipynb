{
  "cells": [
    {
      "cell_type": "markdown",
      "metadata": {
        "id": "qeufDKPr9sS_"
      },
      "source": [
        "[![Open In Colab](https://colab.research.google.com/assets/colab-badge.svg)](https://colab.research.google.com/github/DalasNoin/arena/blob/main/w1/attention.ipynb)"
      ]
    },
    {
      "cell_type": "markdown",
      "metadata": {
        "id": "c9iXrqhs9wDd"
      },
      "source": [
        "### Create a Transfomer and test it on a toy example"
      ]
    },
    {
      "cell_type": "code",
      "execution_count": null,
      "metadata": {
        "id": "mlWXh8id9sTB"
      },
      "outputs": [],
      "source": [
        "# in colab \n",
        "# ! wget https://raw.githubusercontent.com/DalasNoin/arena/main/w1/shakespeare.py\n",
        "# ! pip install transformers\n",
        "# ! pip install wandb\n",
        "# ! pip install -Uqq ipdb\n",
        "# import ipdb\n",
        "# ! wget https://www.gutenberg.org/files/100/100-0.txt\n",
        "import torch\n",
        "from torch.nn.functional import softmax\n",
        "from torch import nn\n",
        "from dataclasses import dataclass\n",
        "import wandb\n",
        "import os\n",
        "\n",
        "os.environ[\"WANDB_NOTEBOOK_NAME\"] = \"arena week 1\"\n",
        "wandb_key = \"\"\n",
        "keyfile = \"keystore.yaml\"\n",
        "if not wandb_key and os.path.exists(keyfile):\n",
        "    import yaml\n",
        "    keys = yaml.safe_load(open(keyfile,\"r\"))\n",
        "    wandb_key = keys[\"wandb\"]\n",
        "os.environ[\"WANDB_API_KEY\"] = wandb_key\n",
        "\n",
        "device = \"cuda\" if torch.cuda.is_available() else \"cpu\""
      ]
    },
    {
      "cell_type": "code",
      "execution_count": null,
      "metadata": {},
      "outputs": [
        {
          "data": {
            "text/plain": [
              "False"
            ]
          },
          "execution_count": 52,
          "metadata": {},
          "output_type": "execute_result"
        }
      ],
      "source": [
        "not wandb"
      ]
    },
    {
      "cell_type": "code",
      "execution_count": 92,
      "metadata": {
        "colab": {
          "base_uri": "https://localhost:8080/"
        },
        "id": "JlW4UMtp9sTC",
        "outputId": "66729385-b1e3-4fd1-ad23-4173b398aabe"
      },
      "outputs": [
        {
          "ename": "KeyboardInterrupt",
          "evalue": "",
          "output_type": "error",
          "traceback": [
            "\u001b[0;31m---------------------------------------------------------------------------\u001b[0m",
            "\u001b[0;31mKeyboardInterrupt\u001b[0m                         Traceback (most recent call last)",
            "Cell \u001b[0;32mIn [92], line 25\u001b[0m\n\u001b[1;32m     22\u001b[0m     result \u001b[39m=\u001b[39mtorch\u001b[39m.\u001b[39mbmm(softmax(query_key\u001b[39m/\u001b[39msqrt_d_k,dim\u001b[39m=\u001b[39m\u001b[39m2\u001b[39m), V)\n\u001b[1;32m     23\u001b[0m     \u001b[39mreturn\u001b[39;00m result\n\u001b[0;32m---> 25\u001b[0m attention(Q, K, V)\u001b[39m.\u001b[39mshape\n",
            "File \u001b[0;32m~/opt/anaconda3/envs/science/lib/python3.9/site-packages/IPython/core/displayhook.py:259\u001b[0m, in \u001b[0;36mDisplayHook.__call__\u001b[0;34m(self, result)\u001b[0m\n\u001b[1;32m    253\u001b[0m \u001b[39m\"\"\"Printing with history cache management.\u001b[39;00m\n\u001b[1;32m    254\u001b[0m \n\u001b[1;32m    255\u001b[0m \u001b[39mThis is invoked every time the interpreter needs to print, and is\u001b[39;00m\n\u001b[1;32m    256\u001b[0m \u001b[39mactivated by setting the variable sys.displayhook to it.\u001b[39;00m\n\u001b[1;32m    257\u001b[0m \u001b[39m\"\"\"\u001b[39;00m\n\u001b[1;32m    258\u001b[0m \u001b[39mself\u001b[39m\u001b[39m.\u001b[39mcheck_for_underscore()\n\u001b[0;32m--> 259\u001b[0m \u001b[39mif\u001b[39;00m result \u001b[39mis\u001b[39;00m \u001b[39mnot\u001b[39;00m \u001b[39mNone\u001b[39;00m \u001b[39mand\u001b[39;00m \u001b[39mnot\u001b[39;00m \u001b[39mself\u001b[39;49m\u001b[39m.\u001b[39;49mquiet():\n\u001b[1;32m    260\u001b[0m     \u001b[39mself\u001b[39m\u001b[39m.\u001b[39mstart_displayhook()\n\u001b[1;32m    261\u001b[0m     \u001b[39mself\u001b[39m\u001b[39m.\u001b[39mwrite_output_prompt()\n",
            "File \u001b[0;32m~/opt/anaconda3/envs/science/lib/python3.9/site-packages/IPython/core/displayhook.py:95\u001b[0m, in \u001b[0;36mDisplayHook.quiet\u001b[0;34m(self)\u001b[0m\n\u001b[1;32m     92\u001b[0m     \u001b[39mreturn\u001b[39;00m \u001b[39mFalse\u001b[39;00m\n\u001b[1;32m     94\u001b[0m sio \u001b[39m=\u001b[39m _io\u001b[39m.\u001b[39mStringIO(cell)\n\u001b[0;32m---> 95\u001b[0m tokens \u001b[39m=\u001b[39m \u001b[39mlist\u001b[39;49m(tokenize\u001b[39m.\u001b[39;49mgenerate_tokens(sio\u001b[39m.\u001b[39;49mreadline))\n\u001b[1;32m     97\u001b[0m \u001b[39mfor\u001b[39;00m token \u001b[39min\u001b[39;00m \u001b[39mreversed\u001b[39m(tokens):\n\u001b[1;32m     98\u001b[0m     \u001b[39mif\u001b[39;00m token[\u001b[39m0\u001b[39m] \u001b[39min\u001b[39;00m (tokenize\u001b[39m.\u001b[39mENDMARKER, tokenize\u001b[39m.\u001b[39mNL, tokenize\u001b[39m.\u001b[39mNEWLINE, tokenize\u001b[39m.\u001b[39mCOMMENT):\n",
            "File \u001b[0;32m~/opt/anaconda3/envs/science/lib/python3.9/tokenize.py:534\u001b[0m, in \u001b[0;36m_tokenize\u001b[0;34m(readline, encoding)\u001b[0m\n\u001b[1;32m    530\u001b[0m     \u001b[39mcontinue\u001b[39;00m\n\u001b[1;32m    531\u001b[0m token, initial \u001b[39m=\u001b[39m line[start:end], line[start]\n\u001b[1;32m    533\u001b[0m \u001b[39mif\u001b[39;00m (initial \u001b[39min\u001b[39;00m numchars \u001b[39mor\u001b[39;00m                 \u001b[39m# ordinary number\u001b[39;00m\n\u001b[0;32m--> 534\u001b[0m     (initial \u001b[39m==\u001b[39;49m \u001b[39m'\u001b[39;49m\u001b[39m.\u001b[39;49m\u001b[39m'\u001b[39;49m \u001b[39mand\u001b[39;00m token \u001b[39m!=\u001b[39m \u001b[39m'\u001b[39m\u001b[39m.\u001b[39m\u001b[39m'\u001b[39m \u001b[39mand\u001b[39;00m token \u001b[39m!=\u001b[39m \u001b[39m'\u001b[39m\u001b[39m...\u001b[39m\u001b[39m'\u001b[39m)):\n\u001b[1;32m    535\u001b[0m     \u001b[39myield\u001b[39;00m TokenInfo(NUMBER, token, spos, epos, line)\n\u001b[1;32m    536\u001b[0m \u001b[39melif\u001b[39;00m initial \u001b[39min\u001b[39;00m \u001b[39m'\u001b[39m\u001b[39m\\r\u001b[39;00m\u001b[39m\\n\u001b[39;00m\u001b[39m'\u001b[39m:\n",
            "\u001b[0;31mKeyboardInterrupt\u001b[0m: "
          ]
        }
      ],
      "source": [
        "Q = torch.ones((2,100,64))\n",
        "K = torch.ones((2,90,64))\n",
        "V = torch.ones((2,90,64))\n",
        "\n",
        "\n",
        "def attention(Q: torch.Tensor, K: torch.Tensor, V: torch.Tensor):\n",
        "    '''\n",
        "    Should return the results of self-attention (see the \"Self-Attention in Detail\" section of the Illustrated Transformer).\n",
        "\n",
        "    With this function, you can ignore masking.\n",
        "\n",
        "    Q: shape (batch, target sequence length, embedding dim)\n",
        "    K: shape (batch, source sequence length, embedding dim)\n",
        "    V: shape (batch, source sequence length, embedding dim)\n",
        "    softmax(Q KT/sqrt(d_k))V\n",
        "\n",
        "    Return: shape (same as Q if embedding dim same. batch, target sequence length, output embedding dim)\n",
        "    '''\n",
        "    sqrt_d_k = torch.sqrt(torch.tensor(K.shape[-1]))\n",
        "    query_key = torch.bmm(Q,torch.transpose(K,1,2))\n",
        "    # print(f\"{query_key.shape=} {sqrt_d_k=}\")\n",
        "    result =torch.bmm(softmax(query_key/sqrt_d_k,dim=2), V)\n",
        "    return result\n",
        "\n",
        "attention(Q, K, V).shape\n"
      ]
    },
    {
      "cell_type": "code",
      "execution_count": null,
      "metadata": {},
      "outputs": [],
      "source": []
    },
    {
      "cell_type": "code",
      "execution_count": null,
      "metadata": {
        "colab": {
          "base_uri": "https://localhost:8080/"
        },
        "id": "W6GJAW-I9sTD",
        "outputId": "2e98bfac-90f1-42f9-9bcb-b695c7d3d1eb"
      },
      "outputs": [
        {
          "name": "stdout",
          "output_type": "stream",
          "text": [
            "torch.Size([2, 20, 64])\n"
          ]
        }
      ],
      "source": [
        "\n",
        "\n",
        "\n",
        "\n",
        "Q = torch.ones((2,20,64))\n",
        "K = torch.ones((2,10,64))\n",
        "V = torch.ones((2,10,64))\n",
        "\n",
        "def masked_attention(Q: torch.Tensor, K: torch.Tensor, V: torch.Tensor):\n",
        "    '''\n",
        "    Should return the results of self-attention.\n",
        "\n",
        "    You should implement masking for this function. See \"The Decoder Side\" for an explanation of masking.\n",
        "\n",
        "    Q: shape (batch, target sequence length, embedding dim)\n",
        "    K: shape (batch, source sequence length, embedding dim)\n",
        "    V: shape (batch, source sequence length, embedding dim)\n",
        "    I = Q K.T\n",
        "    I.shape = target_len x source_len\n",
        "    softmax((I+mask)/sqrt(d_k))V\n",
        "\n",
        "    Return: shape (same as Q if embedding dim same. batch, target sequence length, output embedding dim)\n",
        "    '''\n",
        "    sqrt_d_k = torch.sqrt(torch.tensor(K.shape[-1]))\n",
        "    target_seq_len = torch.tensor(Q.shape[1])\n",
        "    source_seq_len = torch.tensor(K.shape[1])\n",
        "    triangular = torch.triu(torch.ones((target_seq_len, source_seq_len), dtype=torch.bool), diagonal=1)\n",
        "    # print(triangular)\n",
        "\n",
        "    query_key = torch.bmm(Q, torch.transpose(K,1,2))\n",
        "    masked_query_key = torch.where(triangular, -torch.inf, query_key)\n",
        "    # print(masked_query_key.shape, query_key.shape, triangular.shape)\n",
        "    result =torch.bmm(softmax((masked_query_key)/sqrt_d_k,dim=2), V)\n",
        "    return result\n",
        "\n",
        "\n",
        "\n",
        "result = masked_attention(Q, K, V)\n",
        "print(result.shape)"
      ]
    },
    {
      "cell_type": "code",
      "execution_count": null,
      "metadata": {
        "id": "KABaU-mM9sTD"
      },
      "outputs": [],
      "source": [
        "# from matplotlib import pyplot as plt"
      ]
    },
    {
      "cell_type": "code",
      "execution_count": null,
      "metadata": {
        "colab": {
          "base_uri": "https://localhost:8080/"
        },
        "id": "qQVh_Q7k9sTE",
        "outputId": "12f81628-b437-4ea8-f2f2-85f2d59afc64"
      },
      "outputs": [
        {
          "name": "stdout",
          "output_type": "stream",
          "text": [
            "torch.Size([2, 20, 256])\n"
          ]
        }
      ],
      "source": [
        "Q = torch.ones((2,20,4*64))\n",
        "K = torch.ones((2,10,4*64))\n",
        "V = torch.ones((2,10,4*64))\n",
        "num_heads = 4\n",
        "\n",
        "def multihead_masked_attention(Q: torch.Tensor, K: torch.Tensor, V: torch.Tensor, num_heads: int, device:str=\"cpu\"):\n",
        "    '''\n",
        "    Implements multihead masked attention on the matrices Q, K and V.\n",
        "\n",
        "    Q: shape (batch, seq, nheads*headsize)\n",
        "    K: shape (batch, seq, nheads*headsize)\n",
        "    V: shape (batch, seq, nheads*headsize)\n",
        "    '''\n",
        "    # do the reshape\n",
        "    \n",
        "    batch, target_seq_len = Q.shape[0:2]\n",
        "    source_seq_len = K.shape[1] \n",
        "    head_size = int(Q.shape[-1]/num_heads)\n",
        "    sqrt_d_k = torch.sqrt(torch.tensor(head_size))\n",
        "    # new_shape = (batch, target_seq_len, num_heads, head_size)\n",
        "    Q = torch.reshape(Q, (batch, target_seq_len, num_heads, head_size))\n",
        "    K = torch.reshape(K, (batch, source_seq_len, num_heads, head_size))\n",
        "    V = torch.reshape(V, (batch, source_seq_len, num_heads, head_size))\n",
        "    # generate mask\n",
        "    triangular = torch.triu(torch.ones((target_seq_len, source_seq_len), dtype=torch.bool, device=device), diagonal=1)\n",
        "    \n",
        "    query_key = torch.einsum(\"abcd,aecd->acbe\", Q, K)\n",
        "    masked_query_key = torch.where(triangular, -torch.inf, query_key)\n",
        "    masked_query_key = softmax((masked_query_key)/sqrt_d_k,dim=3)\n",
        "    result = torch.einsum(\"abcd, adbe-> acbe\", masked_query_key, V)\n",
        "    result = torch.reshape(result, (batch, target_seq_len, num_heads * head_size))\n",
        "    return result\n",
        "\n",
        "\n",
        "\n",
        "result = multihead_masked_attention(Q, K, V, num_heads=num_heads)\n",
        "print(result.shape)\n"
      ]
    },
    {
      "cell_type": "code",
      "execution_count": null,
      "metadata": {
        "id": "uJSNJynz9sTE"
      },
      "outputs": [
        {
          "data": {
            "text/plain": [
              "tensor([[[ 0.0000,  0.8000,  1.6000,  2.4000],\n",
              "         [ 3.2000,  4.0000,  4.8000,  5.6000],\n",
              "         [ 6.4000,  7.2000,  8.0000,  8.8000],\n",
              "         [ 9.6000, 10.4000, 11.2000, 12.0000],\n",
              "         [12.8000, 13.6000, 14.4000, 15.2000],\n",
              "         [16.0000, 16.8000, 17.6000, 18.4000],\n",
              "         [19.2000, 20.0000, 20.8000, 21.6000]],\n",
              "\n",
              "        [[22.4000, 23.2000, 24.0000, 24.8000],\n",
              "         [25.6000, 26.4000, 27.2000, 28.0000],\n",
              "         [28.8000, 29.6000, 30.4000, 31.2000],\n",
              "         [32.0000, 32.8000, 33.6000, 34.4000],\n",
              "         [35.2000, 36.0000, 36.8000, 37.6000],\n",
              "         [38.4000, 39.2000, 40.0000, 40.8000],\n",
              "         [41.6000, 42.4000, 43.2000, 44.0000]]])"
            ]
          },
          "execution_count": 57,
          "metadata": {},
          "output_type": "execute_result"
        }
      ],
      "source": [
        "Q = torch.arange(2 * 7 * 4).reshape(2, 7, 4).type(torch.float32)\n",
        "K = Q * 0.5\n",
        "V = Q * 0.8\n",
        "num_heads=2\n",
        "multihead_masked_attention(Q, K, V, num_heads)"
      ]
    },
    {
      "cell_type": "code",
      "execution_count": null,
      "metadata": {
        "id": "2TyEhq8w9sTF"
      },
      "outputs": [
        {
          "data": {
            "text/plain": [
              "torch.Size([2, 10, 64])"
            ]
          },
          "execution_count": 58,
          "metadata": {},
          "output_type": "execute_result"
        }
      ],
      "source": [
        "class MultiheadMaskedAttention(nn.Module):\n",
        "    \"\"\"\n",
        "    head_size is not in this config, because in our implementation we're assuming num_heads * head_size = hidden_size.\n",
        "hidden_size is also referred to as embedding_dim, or d_\\text{model}d \n",
        "model\n",
        "​\n",
        "  in some material you might have read.\n",
        "    \"\"\"\n",
        "    W_QKV: nn.Linear\n",
        "    W_O: nn.Linear\n",
        "\n",
        "\n",
        "    def __init__(self, hidden_size: int, num_heads: int, device:str=\"cpu\"):\n",
        "        super().__init__()\n",
        "        self.num_heads = num_heads\n",
        "        self.hidden_size = hidden_size\n",
        "        self.device = device\n",
        "        self.W_QKV = nn.Linear(hidden_size*3, num_heads*hidden_size*3)\n",
        "        self.W_O = nn.Linear(num_heads*hidden_size, hidden_size)\n",
        "\n",
        "    def forward(self, x: torch.Tensor) -> torch.Tensor:\n",
        "        '''\n",
        "        x: shape (batch, seq, hidden_size)\n",
        "\n",
        "        Return: shape (batch, seq, hidden_size)\n",
        "        '''\n",
        "        x = x.repeat((1,1,3)) # repeat trice along dim 2\n",
        "        x = self.W_QKV(x)\n",
        "        #print(f\"{x.shape=} {num_heads=} {self.hidden_size=}\")\n",
        "        Q, K, V = torch.split(x, num_heads*self.hidden_size, 2)\n",
        "        #print(f\"{Q.shape=} {K.shape=} {V.shape=}\")\n",
        "        \n",
        "        Z = multihead_masked_attention(Q, K, V, num_heads=self.num_heads, device=self.device)\n",
        "        #print(f\"{Z.shape=}\")\n",
        "        Z = self.W_O(Z)\n",
        "        return Z\n",
        "\n",
        "num_heads=4\n",
        "hidden_size=64\n",
        "x = torch.ones((2,10,hidden_size))       \n",
        "mma = MultiheadMaskedAttention(hidden_size=hidden_size, num_heads=num_heads)\n",
        "mma(x).shape\n",
        "\n"
      ]
    },
    {
      "cell_type": "code",
      "execution_count": null,
      "metadata": {
        "id": "7agfiLCs9sTF"
      },
      "outputs": [],
      "source": [
        "@dataclass(frozen=True)\n",
        "class TransformerConfig:\n",
        "    '''Constants used throughout your decoder-only transformer model.'''\n",
        "\n",
        "    num_layers: int\n",
        "    # head_size is not in this config, because in our implementation we're assuming num_heads * head_size = hidden_size\n",
        "    num_heads: int\n",
        "    vocab_size: int\n",
        "    # hidden_size is also referred to as embedding_dim, or d_\\text{model}d model in some material you might have read.\n",
        "    hidden_size: int\n",
        "    # max_seq_len is used just to determine the size of the positional encoding matrix.\n",
        "    max_seq_len: int \n",
        "    dropout: float = 0.1\n",
        "    layer_norm_epsilon: float = 1e-05\n",
        "    device: str = \"cpu\"\n",
        "\n"
      ]
    },
    {
      "cell_type": "code",
      "execution_count": null,
      "metadata": {
        "id": "CqiplUqF9sTF"
      },
      "outputs": [],
      "source": [
        "from torch.nn import GELU\n",
        "\n",
        "class MLP(nn.Module):\n",
        "    def __init__(self, hidden_size: int, dropout: float):\n",
        "        super().__init__()\n",
        "        self.hidden_size = hidden_size\n",
        "        self.dropout = dropout\n",
        "        self.mlp_block = nn.Sequential(\n",
        "            nn.Linear(self.hidden_size, 4*self.hidden_size),\n",
        "            GELU(),\n",
        "            nn.Linear(4*self.hidden_size, self.hidden_size),\n",
        "            nn.Dropout(self.dropout)\n",
        "        )\n",
        "    def forward(self, x: torch.Tensor):\n",
        "        return self.mlp_block(x)"
      ]
    },
    {
      "cell_type": "code",
      "execution_count": null,
      "metadata": {
        "id": "wBPTdYRG9sTG"
      },
      "outputs": [],
      "source": [
        "class DecoderBlock(nn.Module):\n",
        "    def __init__(self, config: TransformerConfig):\n",
        "        super().__init__()\n",
        "        self.config = config\n",
        "        self.device = config.device\n",
        "        self.layernorm1 = nn.LayerNorm(normalized_shape=self.config.hidden_size,eps=self.config.layer_norm_epsilon)\n",
        "        self.mma = MultiheadMaskedAttention(hidden_size=self.config.hidden_size,\n",
        "                                            num_heads=self.config.num_heads,\n",
        "                                            device=self.device)\n",
        "        self.layernorm2 = nn.LayerNorm(normalized_shape=self.config.hidden_size,eps=self.config.layer_norm_epsilon)\n",
        "        self.mlp = MLP(hidden_size=self.config.hidden_size,\n",
        "                        dropout=self.config.dropout)\n",
        "    \n",
        "    def forward(self, x: torch.Tensor):\n",
        "        \"\"\"\n",
        "        x: input tensor shape=(batch, seq_len, hidden_dim=embedding_dim)\n",
        "        \"\"\"\n",
        "        x = self.layernorm1(x + self.mma(x))\n",
        "        x = self.layernorm2(x + self.mlp(x))\n",
        "        return x\n",
        "\n",
        "    \n",
        "\n",
        "    "
      ]
    },
    {
      "cell_type": "code",
      "execution_count": null,
      "metadata": {
        "id": "bXNhLPmo9sTG"
      },
      "outputs": [
        {
          "data": {
            "text/plain": [
              "torch.Size([2, 20, 1000])"
            ]
          },
          "execution_count": 69,
          "metadata": {},
          "output_type": "execute_result"
        }
      ],
      "source": [
        "import torch\n",
        "from torch import nn, Tensor\n",
        "\n",
        "\n",
        "# more efficient, buffer for pe version\n",
        "class PositionalEncoding(nn.Module):\n",
        "\n",
        "    def __init__(self, d_model: int, dropout: float = 0.1, max_len: int = 5000, device:str=\"cpu\"):\n",
        "        super().__init__()\n",
        "        self.d_model = d_model\n",
        "        self.dropout = nn.Dropout(p=dropout)\n",
        "        self.max_len = max_len\n",
        "        self.device = device\n",
        "        L = self.max_len\n",
        "        partial_term = torch.outer(torch.arange(L),1/10_000**(torch.arange(torch.ceil(torch.tensor(self.d_model/2)))*2/self.d_model))\n",
        "        positional_encoding = torch.zeros((L, self.d_model)).to(device)\n",
        "        positional_encoding[:,::2] = torch.sin(partial_term.to(device))\n",
        "        positional_encoding[:,1::2] = torch.cos(partial_term.to(device))\n",
        "        self.register_buffer(\"positional_encoding\", positional_encoding)\n",
        "\n",
        "\n",
        "    def forward(self, x: Tensor) -> Tensor:\n",
        "        '''\n",
        "        x: Tensor, shape [batch, seq_len, embedding_dim]\n",
        "        '''\n",
        "        L = x.shape[1]\n",
        "        # print(self.device)\n",
        "\n",
        "        return self.dropout(x.to(self.device)+ self.positional_encoding[:L,:].to(self.device))\n",
        "\n",
        "class DecoderOnlyTransformer(nn.Module):\n",
        "\n",
        "    def __init__(self, config: TransformerConfig, vocab_size:int):\n",
        "        super().__init__()\n",
        "        self.config = config\n",
        "        \n",
        "        self.embedding = nn.Embedding(\n",
        "            num_embeddings=vocab_size,\n",
        "            embedding_dim=self.config.hidden_size)\n",
        "        self.positional_encoding = PositionalEncoding(\n",
        "            d_model=self.config.hidden_size,\n",
        "            dropout=self.config.dropout,\n",
        "            max_len=self.config.max_seq_len,\n",
        "            device=self.config.device\n",
        "        )\n",
        "        list_decoder_blocks = [DecoderBlock(config = self.config) \n",
        "                                    for _ in range(self.config.num_layers)]\n",
        "        self.decoder_blocks = nn.Sequential(*list_decoder_blocks)\n",
        "        self.final_layer_norm = nn.LayerNorm(normalized_shape=self.config.hidden_size,eps=self.config.layer_norm_epsilon)\n",
        "        self.unembed = nn.Linear(self.config.hidden_size, config.vocab_size)\n",
        "\n",
        "    def forward(self, x: torch.Tensor) -> torch.Tensor:\n",
        "        x = self.embedding(x)\n",
        "        # print(f\"x.shape={x.shape}\")\n",
        "        x = self.positional_encoding(x)\n",
        "        x = self.decoder_blocks(x)\n",
        "        x = self.final_layer_norm(x)\n",
        "        x = softmax(self.unembed(x),dim=2)\n",
        "        return x\n",
        "    \n",
        "config = TransformerConfig(\n",
        "    num_layers=2,\n",
        "    num_heads=4,\n",
        "    vocab_size=1_000,\n",
        "    hidden_size=64,\n",
        "    max_seq_len=100,\n",
        "    device=device\n",
        ")\n",
        "# todo use the layernorm epsilon\n",
        "test_input = torch.ones((2,20)).int().to(config.device)\n",
        "\n",
        "transformer = DecoderOnlyTransformer(config=config, vocab_size=100)\n",
        "transformer.to(config.device)\n",
        "result = transformer.forward(test_input)\n",
        "result.shape"
      ]
    },
    {
      "cell_type": "code",
      "execution_count": null,
      "metadata": {
        "id": "Kw-NPEQh9sTG"
      },
      "outputs": [],
      "source": [
        "from torch.utils.data import Dataset, DataLoader\n",
        "from torch.optim import Adam\n",
        "from torch.nn import CrossEntropyLoss, MSELoss"
      ]
    },
    {
      "cell_type": "code",
      "execution_count": null,
      "metadata": {
        "id": "EjLl3kSH9sTH"
      },
      "outputs": [],
      "source": [
        "class CustomTextDataset(Dataset):\n",
        "    # def __init__(self, text, labels):\n",
        "    #     self.labels = labels\n",
        "    #     self.text = text\n",
        "    def __init__(self, config: TransformerConfig):\n",
        "        self.config = config\n",
        "        self.seq_len = 25\n",
        "        self.total_size = 1000\n",
        "        self.vocab_size=config.vocab_size\n",
        "        # self.text = torch.ones((self.total_size,\n",
        "        #                         self.seq_len,\n",
        "        #                         config.hidden_size)).to(config.device)\n",
        "        # self.labels = torch.ones((self.total_size,\n",
        "        #                         self.seq_len,\n",
        "        #                         config.hidden_size)).to(config.device)\n",
        "        self.text = torch.rand((self.seq_len)).int().to(config.device).repeat(self.total_size,1)\n",
        "        # self.labels = torch.rand((self.seq_len,\n",
        "        #                         config.hidden_size)).to(config.device).repeat(self.total_size,1,1)\n",
        "        \n",
        "\n",
        "    def __len__(self):\n",
        "            return self.total_size\n",
        "\n",
        "    def __getitem__(self, idx):\n",
        "            label = self.text[idx,1:]\n",
        "            text = self.text[idx,:-1]\n",
        "            sample = {\"text\": text, \"label\": label}\n",
        "            return text, label"
      ]
    },
    {
      "cell_type": "code",
      "execution_count": 93,
      "metadata": {
        "colab": {
          "base_uri": "https://localhost:8080/"
        },
        "id": "kn1RAB0-9sTH",
        "outputId": "6ce1bc6e-a732-4e4e-9951-3a51026310f8"
      },
      "outputs": [
        {
          "name": "stdout",
          "output_type": "stream",
          "text": [
            "config: TransformerConfig(num_layers=2, num_heads=4, vocab_size=50257, hidden_size=64, max_seq_len=100, dropout=0.1, layer_norm_epsilon=1e-05, device='cpu')\n"
          ]
        }
      ],
      "source": [
        "def train(config: TransformerConfig):\n",
        "    dataset = CustomTextDataset(config)\n",
        "    model = DecoderOnlyTransformer(config, vocab_size=config.vocab_size).to(config.device)\n",
        "    dataloader = DataLoader(dataset, batch_size=32, shuffle=True)\n",
        "    model.train()\n",
        "    optimizer = Adam(params=model.parameters(), lr=0.001)\n",
        "    # criterion = CrossEntropyLoss()\n",
        "    criterion = CrossEntropyLoss()\n",
        "    for epoch_idx in range(2):\n",
        "        for i, (text, target_label) in enumerate(dataloader):\n",
        "            # print(i, batch[\"text\"].shape, batch[\"label\"].shape)\n",
        "            label = model.forward(text)\n",
        "            # target_label=batch[\"label\"]\n",
        "            # print(f\"{label.shape=} {target_label.shape=}\")\n",
        "            loss = criterion(label.transpose(1,2), target_label.long())\n",
        "            \n",
        "            loss.backward()\n",
        "            optimizer.step()\n",
        "            optimizer.zero_grad()\n",
        "            # if i %  == 0:\n",
        "        # print(f\"torch.mean(label)={torch.mean(label)} \\t torch.mean(target_label)={torch.mean(target_label)}\")\n",
        "        print(loss.detach().cpu().numpy())\n",
        "\n",
        "    return model\n",
        "\n",
        "print(f\"config: {config}\")\n",
        "\n",
        "model = train(config)\n"
      ]
    },
    {
      "cell_type": "code",
      "execution_count": null,
      "metadata": {},
      "outputs": [
        {
          "data": {
            "text/plain": [
              "torch.Size([10, 10, 1000])"
            ]
          },
          "execution_count": 80,
          "metadata": {},
          "output_type": "execute_result"
        }
      ],
      "source": [
        "output = model.forward(torch.ones(10,10).long())\n",
        "output.shape"
      ]
    },
    {
      "cell_type": "code",
      "execution_count": null,
      "metadata": {},
      "outputs": [
        {
          "data": {
            "text/plain": [
              "DecoderOnlyTransformer(\n",
              "  (embedding): Embedding(1000, 64)\n",
              "  (positional_encoding): PositionalEncoding(\n",
              "    (dropout): Dropout(p=0.1, inplace=False)\n",
              "  )\n",
              "  (decoder_blocks): Sequential(\n",
              "    (0): DecoderBlock(\n",
              "      (layernorm1): LayerNorm((64,), eps=1e-05, elementwise_affine=True)\n",
              "      (mma): MultiheadMaskedAttention(\n",
              "        (W_QKV): Linear(in_features=192, out_features=768, bias=True)\n",
              "        (W_O): Linear(in_features=256, out_features=64, bias=True)\n",
              "      )\n",
              "      (layernorm2): LayerNorm((64,), eps=1e-05, elementwise_affine=True)\n",
              "      (mlp): MLP(\n",
              "        (mlp_block): Sequential(\n",
              "          (0): Linear(in_features=64, out_features=256, bias=True)\n",
              "          (1): GELU(approximate='none')\n",
              "          (2): Linear(in_features=256, out_features=64, bias=True)\n",
              "          (3): Dropout(p=0.1, inplace=False)\n",
              "        )\n",
              "      )\n",
              "    )\n",
              "    (1): DecoderBlock(\n",
              "      (layernorm1): LayerNorm((64,), eps=1e-05, elementwise_affine=True)\n",
              "      (mma): MultiheadMaskedAttention(\n",
              "        (W_QKV): Linear(in_features=192, out_features=768, bias=True)\n",
              "        (W_O): Linear(in_features=256, out_features=64, bias=True)\n",
              "      )\n",
              "      (layernorm2): LayerNorm((64,), eps=1e-05, elementwise_affine=True)\n",
              "      (mlp): MLP(\n",
              "        (mlp_block): Sequential(\n",
              "          (0): Linear(in_features=64, out_features=256, bias=True)\n",
              "          (1): GELU(approximate='none')\n",
              "          (2): Linear(in_features=256, out_features=64, bias=True)\n",
              "          (3): Dropout(p=0.1, inplace=False)\n",
              "        )\n",
              "      )\n",
              "    )\n",
              "  )\n",
              "  (final_layer_norm): LayerNorm((64,), eps=1e-05, elementwise_affine=True)\n",
              "  (unembed): Linear(in_features=64, out_features=1000, bias=True)\n",
              ")"
            ]
          },
          "execution_count": 81,
          "metadata": {},
          "output_type": "execute_result"
        }
      ],
      "source": []
    },
    {
      "cell_type": "code",
      "execution_count": null,
      "metadata": {
        "id": "jsHjn8q-9sTH"
      },
      "outputs": [],
      "source": [
        "import shakespeare"
      ]
    },
    {
      "cell_type": "code",
      "execution_count": null,
      "metadata": {
        "id": "To9tIKo-Lexc"
      },
      "outputs": [],
      "source": [
        "config = TransformerConfig(\n",
        "    num_layers=2,\n",
        "    num_heads=4,\n",
        "    vocab_size=shakespeare.vocab_size,\n",
        "    hidden_size=64,\n",
        "    max_seq_len=100,\n",
        "    device=device\n",
        ")\n",
        "# dataset = shakespeare.ShakespeareDataset(config)"
      ]
    },
    {
      "cell_type": "code",
      "execution_count": null,
      "metadata": {},
      "outputs": [],
      "source": [
        "dataset = shakespeare.ShakespeareDataset(config)"
      ]
    },
    {
      "cell_type": "code",
      "execution_count": null,
      "metadata": {},
      "outputs": [],
      "source": [
        "# def collate(batch: list):\n",
        "#     print(batch)\n",
        "#     max_len = max([len(text) for (text, label) in batch])\n",
        "#     batch_size = len(batch)\n",
        "#     new_batch = list()\n",
        "#     for i, (text, label) in enumerate(batch):\n",
        "#         padded_text = torch.zeros(max_len).long()\n",
        "#         padded_text[:len(text)]=text\n",
        "#         padded_label = torch.zeros(max_len).long()\n",
        "#         padded_label[:len(label)] = label\n",
        "#         new_batch.append((padded_text, padded_label))\n",
        "#     return new_batch\n"
      ]
    },
    {
      "cell_type": "code",
      "execution_count": null,
      "metadata": {},
      "outputs": [],
      "source": [
        "def collate(batch: list):\n",
        "    # print(batch)\n",
        "    device = batch[0][0].device\n",
        "    max_len = max([len(text) for (text, label) in batch])\n",
        "    batch_size = len(batch)\n",
        "    new_text = torch.zeros((batch_size, max_len)).long().to(device)\n",
        "    new_label = torch.zeros((batch_size, max_len)).long().to(device)\n",
        "    for i, (text, label) in enumerate(batch):\n",
        "        new_text[i,:len(text)]=text\n",
        "        new_label[i,:len(label)] = label\n",
        "    return new_text, new_label\n"
      ]
    },
    {
      "cell_type": "code",
      "execution_count": null,
      "metadata": {},
      "outputs": [
        {
          "name": "stderr",
          "output_type": "stream",
          "text": [
            "\u001b[34m\u001b[1mwandb\u001b[0m: \u001b[33mWARNING\u001b[0m WANDB_NOTEBOOK_NAME should be a path to a notebook file, couldn't find arena week 1.\n",
            "\u001b[34m\u001b[1mwandb\u001b[0m: Currently logged in as: \u001b[33mdalasnoin\u001b[0m. Use \u001b[1m`wandb login --relogin`\u001b[0m to force relogin\n"
          ]
        },
        {
          "data": {
            "text/html": [
              "Tracking run with wandb version 0.13.4"
            ],
            "text/plain": [
              "<IPython.core.display.HTML object>"
            ]
          },
          "metadata": {},
          "output_type": "display_data"
        },
        {
          "data": {
            "text/html": [
              "Run data is saved locally in <code>/Users/YaoLu/src/github.com/dalasnoin/arena/w1/wandb/run-20221031_163425-1xmozjbs</code>"
            ],
            "text/plain": [
              "<IPython.core.display.HTML object>"
            ]
          },
          "metadata": {},
          "output_type": "display_data"
        },
        {
          "data": {
            "text/html": [
              "Syncing run <strong><a href=\"https://wandb.ai/dalasnoin/arena-w1/runs/1xmozjbs\" target=\"_blank\">ghoulish-sorcery-2</a></strong> to <a href=\"https://wandb.ai/dalasnoin/arena-w1\" target=\"_blank\">Weights & Biases</a> (<a href=\"https://wandb.me/run\" target=\"_blank\">docs</a>)<br/>"
            ],
            "text/plain": [
              "<IPython.core.display.HTML object>"
            ]
          },
          "metadata": {},
          "output_type": "display_data"
        },
        {
          "ename": "KeyboardInterrupt",
          "evalue": "",
          "output_type": "error",
          "traceback": [
            "\u001b[0;31m---------------------------------------------------------------------------\u001b[0m",
            "\u001b[0;31mKeyboardInterrupt\u001b[0m                         Traceback (most recent call last)",
            "Cell \u001b[0;32mIn [87], line 31\u001b[0m\n\u001b[1;32m     25\u001b[0m         \u001b[39mprint\u001b[39m(loss\u001b[39m.\u001b[39mdetach()\u001b[39m.\u001b[39mcpu()\u001b[39m.\u001b[39mnumpy())\n\u001b[1;32m     27\u001b[0m     \u001b[39mreturn\u001b[39;00m model\n\u001b[0;32m---> 31\u001b[0m model \u001b[39m=\u001b[39m train(config, dataset)\n",
            "Cell \u001b[0;32mIn [87], line 19\u001b[0m, in \u001b[0;36mtrain\u001b[0;34m(config, dataset)\u001b[0m\n\u001b[1;32m     15\u001b[0m \u001b[39m# target_label=batch[\"label\"]\u001b[39;00m\n\u001b[1;32m     16\u001b[0m \u001b[39m# print(f\"{label.shape=} {target_label.shape=}\")\u001b[39;00m\n\u001b[1;32m     17\u001b[0m loss \u001b[39m=\u001b[39m criterion(label\u001b[39m.\u001b[39mtranspose(\u001b[39m1\u001b[39m,\u001b[39m2\u001b[39m), target_label)\n\u001b[0;32m---> 19\u001b[0m loss\u001b[39m.\u001b[39;49mbackward()\n\u001b[1;32m     20\u001b[0m optimizer\u001b[39m.\u001b[39mstep()\n\u001b[1;32m     21\u001b[0m optimizer\u001b[39m.\u001b[39mzero_grad()\n",
            "File \u001b[0;32m~/opt/anaconda3/envs/science/lib/python3.9/site-packages/torch/_tensor.py:487\u001b[0m, in \u001b[0;36mTensor.backward\u001b[0;34m(self, gradient, retain_graph, create_graph, inputs)\u001b[0m\n\u001b[1;32m    477\u001b[0m \u001b[39mif\u001b[39;00m has_torch_function_unary(\u001b[39mself\u001b[39m):\n\u001b[1;32m    478\u001b[0m     \u001b[39mreturn\u001b[39;00m handle_torch_function(\n\u001b[1;32m    479\u001b[0m         Tensor\u001b[39m.\u001b[39mbackward,\n\u001b[1;32m    480\u001b[0m         (\u001b[39mself\u001b[39m,),\n\u001b[0;32m   (...)\u001b[0m\n\u001b[1;32m    485\u001b[0m         inputs\u001b[39m=\u001b[39minputs,\n\u001b[1;32m    486\u001b[0m     )\n\u001b[0;32m--> 487\u001b[0m torch\u001b[39m.\u001b[39;49mautograd\u001b[39m.\u001b[39;49mbackward(\n\u001b[1;32m    488\u001b[0m     \u001b[39mself\u001b[39;49m, gradient, retain_graph, create_graph, inputs\u001b[39m=\u001b[39;49minputs\n\u001b[1;32m    489\u001b[0m )\n",
            "File \u001b[0;32m~/opt/anaconda3/envs/science/lib/python3.9/site-packages/torch/autograd/__init__.py:197\u001b[0m, in \u001b[0;36mbackward\u001b[0;34m(tensors, grad_tensors, retain_graph, create_graph, grad_variables, inputs)\u001b[0m\n\u001b[1;32m    192\u001b[0m     retain_graph \u001b[39m=\u001b[39m create_graph\n\u001b[1;32m    194\u001b[0m \u001b[39m# The reason we repeat same the comment below is that\u001b[39;00m\n\u001b[1;32m    195\u001b[0m \u001b[39m# some Python versions print out the first line of a multi-line function\u001b[39;00m\n\u001b[1;32m    196\u001b[0m \u001b[39m# calls in the traceback and some print out the last line\u001b[39;00m\n\u001b[0;32m--> 197\u001b[0m Variable\u001b[39m.\u001b[39;49m_execution_engine\u001b[39m.\u001b[39;49mrun_backward(  \u001b[39m# Calls into the C++ engine to run the backward pass\u001b[39;49;00m\n\u001b[1;32m    198\u001b[0m     tensors, grad_tensors_, retain_graph, create_graph, inputs,\n\u001b[1;32m    199\u001b[0m     allow_unreachable\u001b[39m=\u001b[39;49m\u001b[39mTrue\u001b[39;49;00m, accumulate_grad\u001b[39m=\u001b[39;49m\u001b[39mTrue\u001b[39;49;00m)\n",
            "File \u001b[0;32m~/opt/anaconda3/envs/science/lib/python3.9/site-packages/wandb/wandb_torch.py:282\u001b[0m, in \u001b[0;36mTorchHistory._hook_variable_gradient_stats.<locals>.<lambda>\u001b[0;34m(grad)\u001b[0m\n\u001b[1;32m    279\u001b[0m         \u001b[39mreturn\u001b[39;00m\n\u001b[1;32m    280\u001b[0m     \u001b[39mself\u001b[39m\u001b[39m.\u001b[39mlog_tensor_stats(grad\u001b[39m.\u001b[39mdata, name)\n\u001b[0;32m--> 282\u001b[0m handle \u001b[39m=\u001b[39m var\u001b[39m.\u001b[39mregister_hook(\u001b[39mlambda\u001b[39;00m grad: _callback(grad, log_track))\n\u001b[1;32m    283\u001b[0m \u001b[39mself\u001b[39m\u001b[39m.\u001b[39m_hook_handles[name] \u001b[39m=\u001b[39m handle\n\u001b[1;32m    284\u001b[0m \u001b[39mreturn\u001b[39;00m handle\n",
            "\u001b[0;31mKeyboardInterrupt\u001b[0m: "
          ]
        }
      ],
      "source": [
        "wandb.init()\n",
        "def train(config: TransformerConfig, dataset: Dataset):\n",
        "    \n",
        "    model = DecoderOnlyTransformer(config, vocab_size=dataset.vocab_size).to(config.device)\n",
        "    wandb.watch(model,log_freq=100)\n",
        "    dataloader = DataLoader(dataset, batch_size=32, shuffle=True, collate_fn=collate)\n",
        "    model.train()\n",
        "    optimizer = Adam(params=model.parameters(), lr=0.001)\n",
        "    # criterion = CrossEntropyLoss()\n",
        "    criterion = CrossEntropyLoss()\n",
        "    for epoch_idx in range(50):\n",
        "        for i, (text, target_label) in enumerate(dataloader):\n",
        "            # print(i, batch[\"text\"].shape, batch[\"label\"].shape)\n",
        "            label = model.forward(text)\n",
        "            # target_label=batch[\"label\"]\n",
        "            # print(f\"{label.shape=} {target_label.shape=}\")\n",
        "            loss = criterion(label.transpose(1,2), target_label)\n",
        "           \n",
        "            loss.backward()\n",
        "            optimizer.step()\n",
        "            optimizer.zero_grad()\n",
        "            if i % 100 == 0:\n",
        "               wandb.log({\"loss\": loss})\n",
        "        # print(f\"torch.mean(label)={torch.mean(label)} \\t torch.mean(target_label)={torch.mean(target_label)}\")\n",
        "        print(loss.detach().cpu().numpy())\n",
        "\n",
        "    return model\n",
        "\n",
        "\n",
        "\n",
        "model = train(config, dataset)\n"
      ]
    },
    {
      "cell_type": "code",
      "execution_count": null,
      "metadata": {},
      "outputs": [],
      "source": [
        "dataset = shakespeare.ShakespeareDataset(config)"
      ]
    },
    {
      "cell_type": "code",
      "execution_count": null,
      "metadata": {},
      "outputs": [
        {
          "data": {
            "text/plain": [
              "torch.Size([19])"
            ]
          },
          "execution_count": 24,
          "metadata": {},
          "output_type": "execute_result"
        }
      ],
      "source": [
        "dataset[3][\"label\"].shape"
      ]
    },
    {
      "cell_type": "code",
      "execution_count": null,
      "metadata": {},
      "outputs": [],
      "source": []
    }
  ],
  "metadata": {
    "accelerator": "GPU",
    "colab": {
      "collapsed_sections": [],
      "provenance": []
    },
    "gpuClass": "standard",
    "kernelspec": {
      "display_name": "Python 3.9.13 ('science')",
      "language": "python",
      "name": "python3"
    },
    "language_info": {
      "codemirror_mode": {
        "name": "ipython",
        "version": 3
      },
      "file_extension": ".py",
      "mimetype": "text/x-python",
      "name": "python",
      "nbconvert_exporter": "python",
      "pygments_lexer": "ipython3",
      "version": "3.9.13"
    },
    "orig_nbformat": 4,
    "vscode": {
      "interpreter": {
        "hash": "ded5e6f133e31c74d7e61946920be103f96969c2c9abd403ec1a6f8823efeff2"
      }
    }
  },
  "nbformat": 4,
  "nbformat_minor": 0
}
