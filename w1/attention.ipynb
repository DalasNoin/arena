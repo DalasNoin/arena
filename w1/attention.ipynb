{
  "cells": [
    {
      "cell_type": "markdown",
      "metadata": {
        "id": "qeufDKPr9sS_"
      },
      "source": [
        "[![Open In Colab](https://colab.research.google.com/assets/colab-badge.svg)](https://colab.research.google.com/github/DalasNoin/arena/blob/main/w1/attention.ipynb)"
      ]
    },
    {
      "cell_type": "markdown",
      "metadata": {
        "id": "c9iXrqhs9wDd"
      },
      "source": [
        "### Create a Transfomer and test it on a toy example"
      ]
    },
    {
      "cell_type": "code",
      "execution_count": 1,
      "metadata": {
        "id": "mlWXh8id9sTB"
      },
      "outputs": [],
      "source": [
        "# in colab \n",
        "# ! wget https://raw.githubusercontent.com/DalasNoin/arena/main/w1/shakespeare.py\n",
        "# ! pip install transformers\n",
        "import torch\n",
        "from torch.nn.functional import softmax\n",
        "from torch import nn\n",
        "from dataclasses import dataclass"
      ]
    },
    {
      "cell_type": "code",
      "execution_count": 2,
      "metadata": {
        "colab": {
          "base_uri": "https://localhost:8080/"
        },
        "id": "JlW4UMtp9sTC",
        "outputId": "66729385-b1e3-4fd1-ad23-4173b398aabe"
      },
      "outputs": [
        {
          "data": {
            "text/plain": [
              "torch.Size([2, 100, 64])"
            ]
          },
          "execution_count": 2,
          "metadata": {},
          "output_type": "execute_result"
        }
      ],
      "source": [
        "Q = torch.ones((2,100,64))\n",
        "K = torch.ones((2,90,64))\n",
        "V = torch.ones((2,90,64))\n",
        "\n",
        "\n",
        "def attention(Q: torch.Tensor, K: torch.Tensor, V: torch.Tensor):\n",
        "    '''\n",
        "    Should return the results of self-attention (see the \"Self-Attention in Detail\" section of the Illustrated Transformer).\n",
        "\n",
        "    With this function, you can ignore masking.\n",
        "\n",
        "    Q: shape (batch, target sequence length, embedding dim)\n",
        "    K: shape (batch, source sequence length, embedding dim)\n",
        "    V: shape (batch, source sequence length, embedding dim)\n",
        "    softmax(Q KT/sqrt(d_k))V\n",
        "\n",
        "    Return: shape (same as Q if embedding dim same. batch, target sequence length, output embedding dim)\n",
        "    '''\n",
        "    sqrt_d_k = torch.sqrt(torch.tensor(K.shape[-1]))\n",
        "    query_key = torch.bmm(Q,torch.transpose(K,1,2))\n",
        "    # print(f\"{query_key.shape=} {sqrt_d_k=}\")\n",
        "    result =torch.bmm(softmax(query_key/sqrt_d_k,dim=2), V)\n",
        "    return result\n",
        "\n",
        "attention(Q, K, V).shape\n"
      ]
    },
    {
      "cell_type": "code",
      "execution_count": null,
      "metadata": {},
      "outputs": [],
      "source": []
    },
    {
      "cell_type": "code",
      "execution_count": 3,
      "metadata": {
        "colab": {
          "base_uri": "https://localhost:8080/"
        },
        "id": "W6GJAW-I9sTD",
        "outputId": "2e98bfac-90f1-42f9-9bcb-b695c7d3d1eb"
      },
      "outputs": [
        {
          "name": "stdout",
          "output_type": "stream",
          "text": [
            "torch.Size([2, 20, 64])\n"
          ]
        }
      ],
      "source": [
        "\n",
        "\n",
        "\n",
        "\n",
        "Q = torch.ones((2,20,64))\n",
        "K = torch.ones((2,10,64))\n",
        "V = torch.ones((2,10,64))\n",
        "\n",
        "def masked_attention(Q: torch.Tensor, K: torch.Tensor, V: torch.Tensor):\n",
        "    '''\n",
        "    Should return the results of self-attention.\n",
        "\n",
        "    You should implement masking for this function. See \"The Decoder Side\" for an explanation of masking.\n",
        "\n",
        "    Q: shape (batch, target sequence length, embedding dim)\n",
        "    K: shape (batch, source sequence length, embedding dim)\n",
        "    V: shape (batch, source sequence length, embedding dim)\n",
        "    I = Q K.T\n",
        "    I.shape = target_len x source_len\n",
        "    softmax((I+mask)/sqrt(d_k))V\n",
        "\n",
        "    Return: shape (same as Q if embedding dim same. batch, target sequence length, output embedding dim)\n",
        "    '''\n",
        "    sqrt_d_k = torch.sqrt(torch.tensor(K.shape[-1]))\n",
        "    target_seq_len = torch.tensor(Q.shape[1])\n",
        "    source_seq_len = torch.tensor(K.shape[1])\n",
        "    triangular = torch.triu(torch.ones((target_seq_len, source_seq_len), dtype=torch.bool), diagonal=1)\n",
        "    # print(triangular)\n",
        "\n",
        "    query_key = torch.bmm(Q, torch.transpose(K,1,2))\n",
        "    masked_query_key = torch.where(triangular, -torch.inf, query_key)\n",
        "    # print(masked_query_key.shape, query_key.shape, triangular.shape)\n",
        "    result =torch.bmm(softmax((masked_query_key)/sqrt_d_k,dim=2), V)\n",
        "    return result\n",
        "\n",
        "\n",
        "\n",
        "result = masked_attention(Q, K, V)\n",
        "print(result.shape)"
      ]
    },
    {
      "cell_type": "code",
      "execution_count": 4,
      "metadata": {
        "id": "KABaU-mM9sTD"
      },
      "outputs": [],
      "source": [
        "# from matplotlib import pyplot as plt"
      ]
    },
    {
      "cell_type": "code",
      "execution_count": 29,
      "metadata": {
        "colab": {
          "base_uri": "https://localhost:8080/"
        },
        "id": "qQVh_Q7k9sTE",
        "outputId": "12f81628-b437-4ea8-f2f2-85f2d59afc64"
      },
      "outputs": [
        {
          "name": "stdout",
          "output_type": "stream",
          "text": [
            "torch.Size([2, 20, 256])\n"
          ]
        }
      ],
      "source": [
        "Q = torch.ones((2,20,4*64))\n",
        "K = torch.ones((2,10,4*64))\n",
        "V = torch.ones((2,10,4*64))\n",
        "num_heads = 4\n",
        "\n",
        "def multihead_masked_attention(Q: torch.Tensor, K: torch.Tensor, V: torch.Tensor, num_heads: int, device:str=\"cpu\"):\n",
        "    '''\n",
        "    Implements multihead masked attention on the matrices Q, K and V.\n",
        "\n",
        "    Q: shape (batch, seq, nheads*headsize)\n",
        "    K: shape (batch, seq, nheads*headsize)\n",
        "    V: shape (batch, seq, nheads*headsize)\n",
        "    '''\n",
        "    # do the reshape\n",
        "    \n",
        "    batch, target_seq_len = Q.shape[0:2]\n",
        "    source_seq_len = K.shape[1] \n",
        "    head_size = int(Q.shape[-1]/num_heads)\n",
        "    sqrt_d_k = torch.sqrt(torch.tensor(head_size))\n",
        "    # new_shape = (batch, target_seq_len, num_heads, head_size)\n",
        "    Q = torch.reshape(Q, (batch, target_seq_len, num_heads, head_size))\n",
        "    K = torch.reshape(K, (batch, source_seq_len, num_heads, head_size))\n",
        "    V = torch.reshape(V, (batch, source_seq_len, num_heads, head_size))\n",
        "    # generate mask\n",
        "    triangular = torch.triu(torch.ones((target_seq_len, source_seq_len), dtype=torch.bool, device=device), diagonal=1)\n",
        "    \n",
        "    query_key = torch.einsum(\"abcd,aecd->acbe\", Q, K)\n",
        "    masked_query_key = torch.where(triangular, -torch.inf, query_key)\n",
        "    masked_query_key = softmax((masked_query_key)/sqrt_d_k,dim=3)\n",
        "    result = torch.einsum(\"abcd, adbe-> acbe\", masked_query_key, V)\n",
        "    result = torch.reshape(result, (batch, target_seq_len, num_heads * head_size))\n",
        "    return result\n",
        "\n",
        "\n",
        "\n",
        "result = multihead_masked_attention(Q, K, V, num_heads=num_heads)\n",
        "print(result.shape)\n"
      ]
    },
    {
      "cell_type": "code",
      "execution_count": 30,
      "metadata": {
        "id": "uJSNJynz9sTE"
      },
      "outputs": [
        {
          "data": {
            "text/plain": [
              "tensor([[[ 0.0000,  0.8000,  1.6000,  2.4000],\n",
              "         [ 3.2000,  4.0000,  4.8000,  5.6000],\n",
              "         [ 6.4000,  7.2000,  8.0000,  8.8000],\n",
              "         [ 9.6000, 10.4000, 11.2000, 12.0000],\n",
              "         [12.8000, 13.6000, 14.4000, 15.2000],\n",
              "         [16.0000, 16.8000, 17.6000, 18.4000],\n",
              "         [19.2000, 20.0000, 20.8000, 21.6000]],\n",
              "\n",
              "        [[22.4000, 23.2000, 24.0000, 24.8000],\n",
              "         [25.6000, 26.4000, 27.2000, 28.0000],\n",
              "         [28.8000, 29.6000, 30.4000, 31.2000],\n",
              "         [32.0000, 32.8000, 33.6000, 34.4000],\n",
              "         [35.2000, 36.0000, 36.8000, 37.6000],\n",
              "         [38.4000, 39.2000, 40.0000, 40.8000],\n",
              "         [41.6000, 42.4000, 43.2000, 44.0000]]])"
            ]
          },
          "execution_count": 30,
          "metadata": {},
          "output_type": "execute_result"
        }
      ],
      "source": [
        "Q = torch.arange(2 * 7 * 4).reshape(2, 7, 4).type(torch.float32)\n",
        "K = Q * 0.5\n",
        "V = Q * 0.8\n",
        "num_heads=2\n",
        "multihead_masked_attention(Q, K, V, num_heads)"
      ]
    },
    {
      "cell_type": "code",
      "execution_count": 31,
      "metadata": {
        "id": "2TyEhq8w9sTF"
      },
      "outputs": [
        {
          "data": {
            "text/plain": [
              "torch.Size([2, 10, 64])"
            ]
          },
          "execution_count": 31,
          "metadata": {},
          "output_type": "execute_result"
        }
      ],
      "source": [
        "class MultiheadMaskedAttention(nn.Module):\n",
        "    \"\"\"\n",
        "    head_size is not in this config, because in our implementation we're assuming num_heads * head_size = hidden_size.\n",
        "hidden_size is also referred to as embedding_dim, or d_\\text{model}d \n",
        "model\n",
        "​\n",
        "  in some material you might have read.\n",
        "    \"\"\"\n",
        "    W_QKV: nn.Linear\n",
        "    W_O: nn.Linear\n",
        "\n",
        "\n",
        "    def __init__(self, hidden_size: int, num_heads: int, device:str=\"cpu\"):\n",
        "        super().__init__()\n",
        "        self.num_heads = num_heads\n",
        "        self.hidden_size = hidden_size\n",
        "        self.device = device\n",
        "        self.W_QKV = nn.Linear(hidden_size*3, num_heads*hidden_size*3)\n",
        "        self.W_O = nn.Linear(num_heads*hidden_size, hidden_size)\n",
        "\n",
        "    def forward(self, x: torch.Tensor) -> torch.Tensor:\n",
        "        '''\n",
        "        x: shape (batch, seq, hidden_size)\n",
        "\n",
        "        Return: shape (batch, seq, hidden_size)\n",
        "        '''\n",
        "        x = x.repeat((1,1,3)) # repeat trice along dim 2\n",
        "        x = self.W_QKV(x)\n",
        "        #print(f\"{x.shape=} {num_heads=} {self.hidden_size=}\")\n",
        "        Q, K, V = torch.split(x, num_heads*self.hidden_size, 2)\n",
        "        #print(f\"{Q.shape=} {K.shape=} {V.shape=}\")\n",
        "        \n",
        "        Z = multihead_masked_attention(Q, K, V, num_heads=self.num_heads, device=self.device)\n",
        "        #print(f\"{Z.shape=}\")\n",
        "        Z = self.W_O(Z)\n",
        "        return Z\n",
        "\n",
        "num_heads=4\n",
        "x = torch.ones((2,10,hidden_size:=64))       \n",
        "mma = MultiheadMaskedAttention(hidden_size=hidden_size, num_heads=num_heads)\n",
        "mma(x).shape\n",
        "\n"
      ]
    },
    {
      "cell_type": "code",
      "execution_count": 32,
      "metadata": {
        "id": "7agfiLCs9sTF"
      },
      "outputs": [],
      "source": [
        "@dataclass(frozen=True)\n",
        "class TransformerConfig:\n",
        "    '''Constants used throughout your decoder-only transformer model.'''\n",
        "\n",
        "    num_layers: int\n",
        "    # head_size is not in this config, because in our implementation we're assuming num_heads * head_size = hidden_size\n",
        "    num_heads: int\n",
        "    vocab_size: int\n",
        "    # hidden_size is also referred to as embedding_dim, or d_\\text{model}d model in some material you might have read.\n",
        "    hidden_size: int\n",
        "    # max_seq_len is used just to determine the size of the positional encoding matrix.\n",
        "    max_seq_len: int \n",
        "    dropout: float = 0.1\n",
        "    layer_norm_epsilon: float = 1e-05\n",
        "    device: str = \"cpu\"\n",
        "\n"
      ]
    },
    {
      "cell_type": "code",
      "execution_count": 33,
      "metadata": {
        "id": "CqiplUqF9sTF"
      },
      "outputs": [],
      "source": [
        "from torch.nn import GELU\n",
        "\n",
        "class MLP(nn.Module):\n",
        "    def __init__(self, hidden_size: int, dropout: float):\n",
        "        super().__init__()\n",
        "        self.hidden_size = hidden_size\n",
        "        self.dropout = dropout\n",
        "        self.mlp_block = nn.Sequential(\n",
        "            nn.Linear(self.hidden_size, 4*self.hidden_size),\n",
        "            GELU(),\n",
        "            nn.Linear(4*self.hidden_size, self.hidden_size),\n",
        "            nn.Dropout(self.dropout)\n",
        "        )\n",
        "    def forward(self, x: torch.Tensor):\n",
        "        return self.mlp_block(x)"
      ]
    },
    {
      "cell_type": "code",
      "execution_count": 34,
      "metadata": {
        "id": "wBPTdYRG9sTG"
      },
      "outputs": [],
      "source": [
        "class DecoderBlock(nn.Module):\n",
        "    def __init__(self, config: TransformerConfig):\n",
        "        super().__init__()\n",
        "        self.config = config\n",
        "        self.device = config.device\n",
        "        self.layernorm1 = nn.LayerNorm(normalized_shape=self.config.hidden_size,eps=self.config.layer_norm_epsilon)\n",
        "        self.mma = MultiheadMaskedAttention(hidden_size=self.config.hidden_size,\n",
        "                                            num_heads=self.config.num_heads,\n",
        "                                            device=self.device)\n",
        "        self.layernorm2 = nn.LayerNorm(normalized_shape=self.config.hidden_size,eps=self.config.layer_norm_epsilon)\n",
        "        self.mlp = MLP(hidden_size=self.config.hidden_size,\n",
        "                        dropout=self.config.dropout)\n",
        "    \n",
        "    def forward(self, x: torch.Tensor):\n",
        "        \"\"\"\n",
        "        x: input tensor shape=(batch, seq_len, hidden_dim=embedding_dim)\n",
        "        \"\"\"\n",
        "        x = self.layernorm1(x + self.mma(x))\n",
        "        x = self.layernorm2(x + self.mlp(x))\n",
        "        return x\n",
        "\n",
        "    \n",
        "\n",
        "    "
      ]
    },
    {
      "cell_type": "code",
      "execution_count": 35,
      "metadata": {
        "id": "bXNhLPmo9sTG"
      },
      "outputs": [
        {
          "data": {
            "text/plain": [
              "torch.Size([2, 20, 100])"
            ]
          },
          "execution_count": 35,
          "metadata": {},
          "output_type": "execute_result"
        }
      ],
      "source": [
        "import torch\n",
        "from torch import nn, Tensor\n",
        "\n",
        "\n",
        "# more efficient, buffer for pe version\n",
        "class PositionalEncoding(nn.Module):\n",
        "\n",
        "    def __init__(self, d_model: int, dropout: float = 0.1, max_len: int = 5000, device:str=\"cpu\"):\n",
        "        super().__init__()\n",
        "        self.d_model = d_model\n",
        "        self.dropout = nn.Dropout(p=dropout)\n",
        "        self.max_len = max_len\n",
        "        self.device = device\n",
        "        L = self.max_len\n",
        "        partial_term = torch.outer(torch.arange(L),1/10_000**(torch.arange(torch.ceil(torch.tensor(self.d_model/2)))*2/self.d_model))\n",
        "        positional_encoding = torch.zeros((L, self.d_model)).to(device)\n",
        "        positional_encoding[:,::2] = torch.sin(partial_term.to(device))\n",
        "        positional_encoding[:,1::2] = torch.cos(partial_term.to(device))\n",
        "        self.register_buffer(\"positional_encoding\", positional_encoding)\n",
        "\n",
        "\n",
        "    def forward(self, x: Tensor) -> Tensor:\n",
        "        '''\n",
        "        x: Tensor, shape [batch, seq_len, embedding_dim]\n",
        "        '''\n",
        "        L = x.shape[1]\n",
        "        # print(self.device)\n",
        "\n",
        "        return self.dropout(x.to(self.device)+ self.positional_encoding[:L,:].to(self.device))\n",
        "\n",
        "class DecoderOnlyTransformer(nn.Module):\n",
        "\n",
        "    def __init__(self, config: TransformerConfig, vocab_size:int):\n",
        "        super().__init__()\n",
        "        self.config = config\n",
        "        \n",
        "        self.embedding = nn.Embedding(\n",
        "            num_embeddings=vocab_size,\n",
        "            embedding_dim=self.config.hidden_size)\n",
        "        self.positional_encoding = PositionalEncoding(\n",
        "            d_model=self.config.hidden_size,\n",
        "            dropout=self.config.dropout,\n",
        "            max_len=self.config.max_seq_len,\n",
        "            device=self.config.device\n",
        "        )\n",
        "        list_decoder_blocks = [DecoderBlock(config = self.config) \n",
        "                                    for _ in range(self.config.num_layers)]\n",
        "        self.decoder_blocks = nn.Sequential(*list_decoder_blocks)\n",
        "        self.final_layer_norm = nn.LayerNorm(normalized_shape=self.config.hidden_size,eps=self.config.layer_norm_epsilon)\n",
        "        self.unembed = nn.Linear(self.config.hidden_size, vocab_size)\n",
        "\n",
        "    def forward(self, x: torch.Tensor) -> torch.Tensor:\n",
        "        x = self.embedding(x)\n",
        "        # print(f\"x.shape={x.shape}\")\n",
        "        x = self.positional_encoding(x)\n",
        "        x = self.decoder_blocks(x)\n",
        "        x = self.final_layer_norm(x)\n",
        "        x = softmax(self.unembed(x),dim=2)\n",
        "        return x\n",
        "    \n",
        "config = TransformerConfig(\n",
        "    num_layers=2,\n",
        "    num_heads=4,\n",
        "    vocab_size=1_000,\n",
        "    hidden_size=64,\n",
        "    max_seq_len=100,\n",
        "    device=\"cpu\"\n",
        ")\n",
        "# todo use the layernorm epsilon\n",
        "test_input = torch.ones((2,20)).int().to(config.device)\n",
        "\n",
        "transformer = DecoderOnlyTransformer(config=config, vocab_size=100)\n",
        "transformer.to(config.device)\n",
        "result = transformer.forward(test_input)\n",
        "result.shape"
      ]
    },
    {
      "cell_type": "code",
      "execution_count": 36,
      "metadata": {
        "id": "Kw-NPEQh9sTG"
      },
      "outputs": [],
      "source": [
        "from torch.utils.data import Dataset, DataLoader\n",
        "from torch.optim import Adam\n",
        "from torch.nn import CrossEntropyLoss, MSELoss"
      ]
    },
    {
      "cell_type": "code",
      "execution_count": 37,
      "metadata": {
        "id": "EjLl3kSH9sTH"
      },
      "outputs": [],
      "source": [
        "class CustomTextDataset(Dataset):\n",
        "    # def __init__(self, text, labels):\n",
        "    #     self.labels = labels\n",
        "    #     self.text = text\n",
        "    def __init__(self, config: TransformerConfig):\n",
        "        self.config = config\n",
        "        self.seq_len = 25\n",
        "        self.total_size = 100\n",
        "        self.vocab_size=config.hidden_size*2\n",
        "        # self.text = torch.ones((self.total_size,\n",
        "        #                         self.seq_len,\n",
        "        #                         config.hidden_size)).to(config.device)\n",
        "        # self.labels = torch.ones((self.total_size,\n",
        "        #                         self.seq_len,\n",
        "        #                         config.hidden_size)).to(config.device)\n",
        "        self.text = torch.rand((self.seq_len)).int().to(config.device).repeat(self.total_size,1)\n",
        "        # self.labels = torch.rand((self.seq_len,\n",
        "        #                         config.hidden_size)).to(config.device).repeat(self.total_size,1,1)\n",
        "        \n",
        "\n",
        "    def __len__(self):\n",
        "            return self.total_size\n",
        "\n",
        "    def __getitem__(self, idx):\n",
        "            label = self.text[idx,1:]\n",
        "            text = self.text[idx,:-1]\n",
        "            sample = {\"text\": text, \"label\": label}\n",
        "            return text, label"
      ]
    },
    {
      "cell_type": "code",
      "execution_count": 40,
      "metadata": {
        "colab": {
          "base_uri": "https://localhost:8080/"
        },
        "id": "kn1RAB0-9sTH",
        "outputId": "6ce1bc6e-a732-4e4e-9951-3a51026310f8"
      },
      "outputs": [
        {
          "name": "stdout",
          "output_type": "stream",
          "text": [
            "4.5130095\n",
            "4.3015685\n",
            "4.173524\n",
            "4.074562\n",
            "4.005076\n"
          ]
        }
      ],
      "source": [
        "def train(config: TransformerConfig):\n",
        "    dataset = CustomTextDataset(config)\n",
        "    model = DecoderOnlyTransformer(config, vocab_size=dataset.vocab_size).to(config.device)\n",
        "    dataloader = DataLoader(dataset, batch_size=32, shuffle=True)\n",
        "    model.train()\n",
        "    optimizer = Adam(params=model.parameters(), lr=0.001)\n",
        "    # criterion = CrossEntropyLoss()\n",
        "    criterion = CrossEntropyLoss()\n",
        "    for epoch_idx in range(5):\n",
        "        for i, (text, target_label) in enumerate(dataloader):\n",
        "            # print(i, batch[\"text\"].shape, batch[\"label\"].shape)\n",
        "            label = model.forward(text)\n",
        "            # target_label=batch[\"label\"]\n",
        "            # print(f\"{label.shape=} {target_label.shape=}\")\n",
        "            loss = criterion(label.transpose(1,2), target_label.long())\n",
        "           \n",
        "            loss.backward()\n",
        "            optimizer.step()\n",
        "            optimizer.zero_grad()\n",
        "            # if i %  == 0:\n",
        "        # print(f\"torch.mean(label)={torch.mean(label)} \\t torch.mean(target_label)={torch.mean(target_label)}\")\n",
        "        print(loss.detach().cpu().numpy())\n",
        "\n",
        "    return model\n",
        "\n",
        "\n",
        "\n",
        "model = train(config)\n"
      ]
    },
    {
      "cell_type": "code",
      "execution_count": 41,
      "metadata": {
        "id": "jsHjn8q-9sTH"
      },
      "outputs": [],
      "source": [
        "import shakespeare"
      ]
    },
    {
      "cell_type": "code",
      "execution_count": 42,
      "metadata": {
        "id": "To9tIKo-Lexc"
      },
      "outputs": [],
      "source": [
        "config = TransformerConfig(\n",
        "    num_layers=2,\n",
        "    num_heads=4,\n",
        "    vocab_size=shakespeare.vocab_size,\n",
        "    hidden_size=64,\n",
        "    max_seq_len=100,\n",
        "    device=\"cpu\"\n",
        ")\n",
        "# dataset = shakespeare.ShakespeareDataset(config)"
      ]
    },
    {
      "cell_type": "code",
      "execution_count": 51,
      "metadata": {},
      "outputs": [],
      "source": [
        "dataset = shakespeare.ShakespeareDataset(config)"
      ]
    },
    {
      "cell_type": "code",
      "execution_count": 50,
      "metadata": {},
      "outputs": [],
      "source": [
        "def collate(batch: list):\n",
        "    print(batch)\n",
        "    max_len = max([len(text) for (text, label) in batch])\n",
        "    batch_size = len(batch)\n",
        "    new_batch = list()\n",
        "    for i, (text, label) in enumerate(batch):\n",
        "        padded_text = torch.zeros(max_len).long()\n",
        "        padded_text[:len(text)]=text\n",
        "        padded_label = torch.zeros(max_len).long()\n",
        "        padded_label[:len(label)] = label\n",
        "        new_batch.append((padded_text, padded_label))\n",
        "    return new_batch\n"
      ]
    },
    {
      "cell_type": "code",
      "execution_count": 55,
      "metadata": {},
      "outputs": [],
      "source": [
        "def collate(batch: list):\n",
        "    # print(batch)\n",
        "    max_len = max([len(text) for (text, label) in batch])\n",
        "    batch_size = len(batch)\n",
        "    new_text = torch.zeros((batch_size, max_len)).long()\n",
        "    new_label = torch.zeros((batch_size, max_len)).long()\n",
        "    for i, (text, label) in enumerate(batch):\n",
        "        new_text[i,:len(text)]=text\n",
        "        new_label[i,:len(label)] = label\n",
        "    return new_text, new_label\n"
      ]
    },
    {
      "cell_type": "code",
      "execution_count": 57,
      "metadata": {},
      "outputs": [
        {
          "name": "stdout",
          "output_type": "stream",
          "text": [
            "tensor([[[1.7660e-05, 1.4876e-05, 9.0107e-06,  ..., 3.9165e-05,\n",
            "          2.8642e-05, 3.0130e-05],\n",
            "         [1.5732e-05, 2.8749e-05, 1.6284e-05,  ..., 1.4291e-05,\n",
            "          1.9384e-05, 2.9561e-05],\n",
            "         [1.6602e-05, 1.1360e-05, 1.6624e-05,  ..., 2.8626e-05,\n",
            "          1.0267e-05, 6.5105e-06],\n",
            "         ...,\n",
            "         [1.3083e-05, 1.8881e-05, 9.0169e-06,  ..., 2.7052e-05,\n",
            "          2.3768e-05, 2.9004e-05],\n",
            "         [1.6280e-05, 2.8101e-05, 6.6917e-06,  ..., 1.6156e-05,\n",
            "          2.9522e-05, 1.9764e-05],\n",
            "         [1.4518e-05, 2.0877e-05, 7.0457e-06,  ..., 2.2708e-05,\n",
            "          2.6850e-05, 2.7098e-05]],\n",
            "\n",
            "        [[1.3002e-05, 1.2024e-05, 6.6272e-06,  ..., 3.4590e-05,\n",
            "          7.6023e-06, 1.9199e-05],\n",
            "         [2.1398e-05, 8.7928e-06, 2.7260e-05,  ..., 2.5436e-05,\n",
            "          2.9748e-05, 2.7112e-05],\n",
            "         [2.2081e-05, 2.4058e-05, 6.0775e-06,  ..., 1.6133e-05,\n",
            "          1.0312e-05, 9.7170e-06],\n",
            "         ...,\n",
            "         [1.5534e-05, 2.5500e-05, 6.9042e-06,  ..., 2.2130e-05,\n",
            "          1.6548e-05, 2.6121e-05],\n",
            "         [1.1738e-05, 2.2642e-05, 5.9195e-06,  ..., 2.3487e-05,\n",
            "          1.6892e-05, 2.4845e-05],\n",
            "         [1.4936e-05, 2.2295e-05, 9.9456e-06,  ..., 2.7593e-05,\n",
            "          2.0675e-05, 2.8904e-05]],\n",
            "\n",
            "        [[1.0167e-05, 1.3584e-05, 1.4140e-05,  ..., 1.1715e-05,\n",
            "          2.5486e-05, 1.1503e-05],\n",
            "         [1.6443e-05, 1.3114e-05, 9.1838e-06,  ..., 1.6050e-05,\n",
            "          9.1467e-06, 3.0081e-05],\n",
            "         [1.5394e-05, 1.3449e-05, 1.1558e-05,  ..., 1.9278e-05,\n",
            "          1.1617e-05, 2.4368e-05],\n",
            "         ...,\n",
            "         [1.5460e-05, 2.7110e-05, 6.4667e-06,  ..., 3.2772e-05,\n",
            "          2.2644e-05, 4.5349e-05],\n",
            "         [1.6051e-05, 2.0502e-05, 5.2989e-06,  ..., 2.9123e-05,\n",
            "          2.5101e-05, 2.4899e-05],\n",
            "         [1.4908e-05, 2.9109e-05, 6.7158e-06,  ..., 1.9135e-05,\n",
            "          2.9843e-05, 2.7643e-05]],\n",
            "\n",
            "        ...,\n",
            "\n",
            "        [[1.1474e-05, 9.3635e-06, 1.4723e-05,  ..., 2.1135e-05,\n",
            "          7.6691e-06, 1.6718e-05],\n",
            "         [7.0074e-06, 3.0842e-05, 9.2061e-06,  ..., 2.0480e-05,\n",
            "          1.0414e-05, 2.7121e-05],\n",
            "         [8.2093e-06, 1.1710e-05, 1.5563e-05,  ..., 1.6965e-05,\n",
            "          2.0069e-05, 8.9192e-06],\n",
            "         ...,\n",
            "         [2.0874e-05, 2.6053e-05, 8.1429e-06,  ..., 2.1993e-05,\n",
            "          2.1386e-05, 2.8252e-05],\n",
            "         [1.4256e-05, 2.0717e-05, 6.8996e-06,  ..., 2.6535e-05,\n",
            "          2.1385e-05, 2.3475e-05],\n",
            "         [1.2868e-05, 1.9370e-05, 8.9518e-06,  ..., 2.8797e-05,\n",
            "          2.0942e-05, 2.7536e-05]],\n",
            "\n",
            "        [[1.3338e-05, 8.9237e-06, 9.0792e-06,  ..., 1.3875e-05,\n",
            "          1.1826e-05, 9.2307e-06],\n",
            "         [1.2549e-05, 1.4293e-05, 1.2951e-05,  ..., 2.9638e-05,\n",
            "          2.5762e-05, 1.1618e-05],\n",
            "         [1.2121e-05, 2.3707e-05, 7.5849e-06,  ..., 1.0519e-05,\n",
            "          1.3542e-05, 1.0095e-05],\n",
            "         ...,\n",
            "         [1.4178e-05, 2.1940e-05, 5.6111e-06,  ..., 1.8888e-05,\n",
            "          3.1191e-05, 2.3433e-05],\n",
            "         [1.9974e-05, 2.5193e-05, 8.8675e-06,  ..., 2.5866e-05,\n",
            "          2.0152e-05, 3.1418e-05],\n",
            "         [1.6158e-05, 1.9296e-05, 5.3822e-06,  ..., 2.7439e-05,\n",
            "          2.9282e-05, 2.4029e-05]],\n",
            "\n",
            "        [[7.9315e-06, 1.2079e-05, 1.3784e-05,  ..., 1.4585e-05,\n",
            "          2.4840e-05, 1.2367e-05],\n",
            "         [1.9042e-05, 1.6772e-05, 8.2643e-06,  ..., 9.7114e-06,\n",
            "          3.9463e-05, 9.8257e-06],\n",
            "         [3.3266e-05, 9.3139e-06, 1.2926e-05,  ..., 1.2380e-05,\n",
            "          4.0281e-05, 9.0155e-06],\n",
            "         ...,\n",
            "         [2.4217e-05, 2.0377e-05, 1.1383e-05,  ..., 2.9012e-05,\n",
            "          2.8370e-05, 3.7451e-05],\n",
            "         [1.9392e-05, 1.8362e-05, 5.2633e-06,  ..., 3.0778e-05,\n",
            "          3.1889e-05, 4.3883e-05],\n",
            "         [1.3379e-05, 2.9148e-05, 5.7053e-06,  ..., 1.9542e-05,\n",
            "          2.5124e-05, 3.1093e-05]]], grad_fn=<SoftmaxBackward0>)\n"
          ]
        },
        {
          "ename": "KeyboardInterrupt",
          "evalue": "",
          "output_type": "error",
          "traceback": [
            "\u001b[0;31m---------------------------------------------------------------------------\u001b[0m",
            "\u001b[0;31mKeyboardInterrupt\u001b[0m                         Traceback (most recent call last)",
            "Cell \u001b[0;32mIn [57], line 29\u001b[0m\n\u001b[1;32m     23\u001b[0m         \u001b[39mprint\u001b[39m(loss\u001b[39m.\u001b[39mdetach()\u001b[39m.\u001b[39mcpu()\u001b[39m.\u001b[39mnumpy())\n\u001b[1;32m     25\u001b[0m     \u001b[39mreturn\u001b[39;00m model\n\u001b[0;32m---> 29\u001b[0m model \u001b[39m=\u001b[39m train(config, dataset)\n",
            "Cell \u001b[0;32mIn [57], line 12\u001b[0m, in \u001b[0;36mtrain\u001b[0;34m(config, dataset)\u001b[0m\n\u001b[1;32m      9\u001b[0m \u001b[39mfor\u001b[39;00m epoch_idx \u001b[39min\u001b[39;00m \u001b[39mrange\u001b[39m(\u001b[39m50\u001b[39m):\n\u001b[1;32m     10\u001b[0m     \u001b[39mfor\u001b[39;00m i, (text, target_label) \u001b[39min\u001b[39;00m \u001b[39menumerate\u001b[39m(dataloader):\n\u001b[1;32m     11\u001b[0m         \u001b[39m# print(i, batch[\"text\"].shape, batch[\"label\"].shape)\u001b[39;00m\n\u001b[0;32m---> 12\u001b[0m         label \u001b[39m=\u001b[39m model\u001b[39m.\u001b[39;49mforward(text)\n\u001b[1;32m     13\u001b[0m         \u001b[39m# target_label=batch[\"label\"]\u001b[39;00m\n\u001b[1;32m     14\u001b[0m         \u001b[39m# print(f\"{label.shape=} {target_label.shape=}\")\u001b[39;00m\n\u001b[1;32m     15\u001b[0m         loss \u001b[39m=\u001b[39m criterion(label\u001b[39m.\u001b[39mtranspose(\u001b[39m1\u001b[39m,\u001b[39m2\u001b[39m), target_label)\n",
            "Cell \u001b[0;32mIn [35], line 58\u001b[0m, in \u001b[0;36mDecoderOnlyTransformer.forward\u001b[0;34m(self, x)\u001b[0m\n\u001b[1;32m     56\u001b[0m x \u001b[39m=\u001b[39m \u001b[39mself\u001b[39m\u001b[39m.\u001b[39mdecoder_blocks(x)\n\u001b[1;32m     57\u001b[0m x \u001b[39m=\u001b[39m \u001b[39mself\u001b[39m\u001b[39m.\u001b[39mfinal_layer_norm(x)\n\u001b[0;32m---> 58\u001b[0m x \u001b[39m=\u001b[39m softmax(\u001b[39mself\u001b[39;49m\u001b[39m.\u001b[39;49munembed(x),dim\u001b[39m=\u001b[39m\u001b[39m2\u001b[39m)\n\u001b[1;32m     59\u001b[0m \u001b[39mreturn\u001b[39;00m x\n",
            "File \u001b[0;32m~/opt/anaconda3/envs/science/lib/python3.9/site-packages/torch/nn/modules/module.py:1130\u001b[0m, in \u001b[0;36mModule._call_impl\u001b[0;34m(self, *input, **kwargs)\u001b[0m\n\u001b[1;32m   1126\u001b[0m \u001b[39m# If we don't have any hooks, we want to skip the rest of the logic in\u001b[39;00m\n\u001b[1;32m   1127\u001b[0m \u001b[39m# this function, and just call forward.\u001b[39;00m\n\u001b[1;32m   1128\u001b[0m \u001b[39mif\u001b[39;00m \u001b[39mnot\u001b[39;00m (\u001b[39mself\u001b[39m\u001b[39m.\u001b[39m_backward_hooks \u001b[39mor\u001b[39;00m \u001b[39mself\u001b[39m\u001b[39m.\u001b[39m_forward_hooks \u001b[39mor\u001b[39;00m \u001b[39mself\u001b[39m\u001b[39m.\u001b[39m_forward_pre_hooks \u001b[39mor\u001b[39;00m _global_backward_hooks\n\u001b[1;32m   1129\u001b[0m         \u001b[39mor\u001b[39;00m _global_forward_hooks \u001b[39mor\u001b[39;00m _global_forward_pre_hooks):\n\u001b[0;32m-> 1130\u001b[0m     \u001b[39mreturn\u001b[39;00m forward_call(\u001b[39m*\u001b[39;49m\u001b[39minput\u001b[39;49m, \u001b[39m*\u001b[39;49m\u001b[39m*\u001b[39;49mkwargs)\n\u001b[1;32m   1131\u001b[0m \u001b[39m# Do not call functions when jit is used\u001b[39;00m\n\u001b[1;32m   1132\u001b[0m full_backward_hooks, non_full_backward_hooks \u001b[39m=\u001b[39m [], []\n",
            "File \u001b[0;32m~/opt/anaconda3/envs/science/lib/python3.9/site-packages/torch/nn/modules/linear.py:114\u001b[0m, in \u001b[0;36mLinear.forward\u001b[0;34m(self, input)\u001b[0m\n\u001b[1;32m    113\u001b[0m \u001b[39mdef\u001b[39;00m \u001b[39mforward\u001b[39m(\u001b[39mself\u001b[39m, \u001b[39minput\u001b[39m: Tensor) \u001b[39m-\u001b[39m\u001b[39m>\u001b[39m Tensor:\n\u001b[0;32m--> 114\u001b[0m     \u001b[39mreturn\u001b[39;00m F\u001b[39m.\u001b[39;49mlinear(\u001b[39minput\u001b[39;49m, \u001b[39mself\u001b[39;49m\u001b[39m.\u001b[39;49mweight, \u001b[39mself\u001b[39;49m\u001b[39m.\u001b[39;49mbias)\n",
            "\u001b[0;31mKeyboardInterrupt\u001b[0m: "
          ]
        }
      ],
      "source": [
        "def train(config: TransformerConfig, dataset: Dataset):\n",
        "    \n",
        "    model = DecoderOnlyTransformer(config, vocab_size=dataset.vocab_size).to(config.device)\n",
        "    dataloader = DataLoader(dataset, batch_size=32, shuffle=True, collate_fn=collate)\n",
        "    model.train()\n",
        "    optimizer = Adam(params=model.parameters(), lr=0.001)\n",
        "    # criterion = CrossEntropyLoss()\n",
        "    criterion = CrossEntropyLoss()\n",
        "    for epoch_idx in range(50):\n",
        "        for i, (text, target_label) in enumerate(dataloader):\n",
        "            # print(i, batch[\"text\"].shape, batch[\"label\"].shape)\n",
        "            label = model.forward(text)\n",
        "            # target_label=batch[\"label\"]\n",
        "            # print(f\"{label.shape=} {target_label.shape=}\")\n",
        "            loss = criterion(label.transpose(1,2), target_label)\n",
        "           \n",
        "            loss.backward()\n",
        "            optimizer.step()\n",
        "            optimizer.zero_grad()\n",
        "            # if i % 100 == 0:\n",
        "            #    print(label)\n",
        "        # print(f\"torch.mean(label)={torch.mean(label)} \\t torch.mean(target_label)={torch.mean(target_label)}\")\n",
        "        print(loss.detach().cpu().numpy())\n",
        "\n",
        "    return model\n",
        "\n",
        "\n",
        "\n",
        "model = train(config, dataset)\n"
      ]
    },
    {
      "cell_type": "code",
      "execution_count": null,
      "metadata": {},
      "outputs": [],
      "source": [
        "dataset = shakespeare.ShakespeareDataset(config)"
      ]
    },
    {
      "cell_type": "code",
      "execution_count": null,
      "metadata": {},
      "outputs": [
        {
          "data": {
            "text/plain": [
              "torch.Size([19])"
            ]
          },
          "execution_count": 24,
          "metadata": {},
          "output_type": "execute_result"
        }
      ],
      "source": [
        "dataset[3][\"label\"].shape"
      ]
    },
    {
      "cell_type": "code",
      "execution_count": null,
      "metadata": {},
      "outputs": [],
      "source": []
    }
  ],
  "metadata": {
    "accelerator": "GPU",
    "colab": {
      "collapsed_sections": [],
      "provenance": []
    },
    "gpuClass": "standard",
    "kernelspec": {
      "display_name": "Python 3.9.13 ('science')",
      "language": "python",
      "name": "python3"
    },
    "language_info": {
      "codemirror_mode": {
        "name": "ipython",
        "version": 3
      },
      "file_extension": ".py",
      "mimetype": "text/x-python",
      "name": "python",
      "nbconvert_exporter": "python",
      "pygments_lexer": "ipython3",
      "version": "3.9.13"
    },
    "orig_nbformat": 4,
    "vscode": {
      "interpreter": {
        "hash": "ded5e6f133e31c74d7e61946920be103f96969c2c9abd403ec1a6f8823efeff2"
      }
    }
  },
  "nbformat": 4,
  "nbformat_minor": 0
}
