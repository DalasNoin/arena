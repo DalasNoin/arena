{
  "cells": [
    {
      "cell_type": "markdown",
      "metadata": {
        "id": "qeufDKPr9sS_"
      },
      "source": [
        "[![Open In Colab](https://colab.research.google.com/assets/colab-badge.svg)](https://colab.research.google.com/github/DalasNoin/arena/blob/main/w1/attention.ipynb)"
      ]
    },
    {
      "cell_type": "markdown",
      "metadata": {
        "id": "c9iXrqhs9wDd"
      },
      "source": [
        "### Create a Transfomer and test it on a toy example"
      ]
    },
    {
      "cell_type": "code",
      "execution_count": 5,
      "metadata": {
        "id": "mlWXh8id9sTB"
      },
      "outputs": [],
      "source": [
        "\n",
        "import torch\n",
        "from torch.nn.functional import softmax\n",
        "from torch import nn\n",
        "from dataclasses import dataclass"
      ]
    },
    {
      "cell_type": "code",
      "execution_count": 6,
      "metadata": {
        "colab": {
          "base_uri": "https://localhost:8080/"
        },
        "id": "JlW4UMtp9sTC",
        "outputId": "66729385-b1e3-4fd1-ad23-4173b398aabe"
      },
      "outputs": [
        {
          "data": {
            "text/plain": [
              "torch.Size([2, 100, 64])"
            ]
          },
          "execution_count": 6,
          "metadata": {},
          "output_type": "execute_result"
        }
      ],
      "source": [
        "Q = torch.ones((2,100,64))\n",
        "K = torch.ones((2,90,64))\n",
        "V = torch.ones((2,90,64))\n",
        "\n",
        "\n",
        "def attention(Q: torch.Tensor, K: torch.Tensor, V: torch.Tensor):\n",
        "    '''\n",
        "    Should return the results of self-attention (see the \"Self-Attention in Detail\" section of the Illustrated Transformer).\n",
        "\n",
        "    With this function, you can ignore masking.\n",
        "\n",
        "    Q: shape (batch, target sequence length, embedding dim)\n",
        "    K: shape (batch, source sequence length, embedding dim)\n",
        "    V: shape (batch, source sequence length, embedding dim)\n",
        "    softmax(Q KT/sqrt(d_k))V\n",
        "\n",
        "    Return: shape (same as Q if embedding dim same. batch, target sequence length, output embedding dim)\n",
        "    '''\n",
        "    sqrt_d_k = torch.sqrt(torch.tensor(K.shape[-1]))\n",
        "    query_key = torch.bmm(Q,torch.transpose(K,1,2))\n",
        "    # print(f\"{query_key.shape=} {sqrt_d_k=}\")\n",
        "    result =torch.bmm(softmax(query_key/sqrt_d_k,dim=2), V)\n",
        "    return result\n",
        "\n",
        "attention(Q, K, V).shape\n"
      ]
    },
    {
      "cell_type": "code",
      "execution_count": 34,
      "metadata": {},
      "outputs": [
        {
          "data": {
            "text/plain": [
              "tensor([[[  1108.8000,   1198.4000,   1288.0000],\n",
              "         [  4284.0000,   4625.6001,   4967.2002],\n",
              "         [  7459.2002,   8052.7998,   8646.4004],\n",
              "         [ 10634.4004,  11480.0000,  12325.5996],\n",
              "         [ 13809.5996,  14907.2002,  16004.8008],\n",
              "         [ 16984.8008,  18334.4004,  19684.0000],\n",
              "         [ 20160.0000,  21761.5996,  23363.1992]],\n",
              "\n",
              "        [[178684.7969, 184419.2031, 190153.5938],\n",
              "         [203028.0000, 209543.5938, 216059.2031],\n",
              "         [227371.2031, 234668.0000, 241964.7969],\n",
              "         [251714.4062, 259792.4062, 267870.3750],\n",
              "         [276057.6250, 284916.8125, 293776.0000],\n",
              "         [300400.8125, 310041.1875, 319681.5938],\n",
              "         [324744.0000, 335165.5938, 345587.1875]]])"
            ]
          },
          "execution_count": 34,
          "metadata": {},
          "output_type": "execute_result"
        }
      ],
      "source": []
    },
    {
      "cell_type": "code",
      "execution_count": 7,
      "metadata": {
        "colab": {
          "base_uri": "https://localhost:8080/"
        },
        "id": "W6GJAW-I9sTD",
        "outputId": "2e98bfac-90f1-42f9-9bcb-b695c7d3d1eb"
      },
      "outputs": [
        {
          "name": "stdout",
          "output_type": "stream",
          "text": [
            "torch.Size([2, 20, 64])\n"
          ]
        }
      ],
      "source": [
        "\n",
        "\n",
        "\n",
        "\n",
        "Q = torch.ones((2,20,64))\n",
        "K = torch.ones((2,10,64))\n",
        "V = torch.ones((2,10,64))\n",
        "\n",
        "def masked_attention(Q: torch.Tensor, K: torch.Tensor, V: torch.Tensor):\n",
        "    '''\n",
        "    Should return the results of self-attention.\n",
        "\n",
        "    You should implement masking for this function. See \"The Decoder Side\" for an explanation of masking.\n",
        "\n",
        "    Q: shape (batch, target sequence length, embedding dim)\n",
        "    K: shape (batch, source sequence length, embedding dim)\n",
        "    V: shape (batch, source sequence length, embedding dim)\n",
        "    I = Q K.T\n",
        "    I.shape = target_len x source_len\n",
        "    softmax((I+mask)/sqrt(d_k))V\n",
        "\n",
        "    Return: shape (same as Q if embedding dim same. batch, target sequence length, output embedding dim)\n",
        "    '''\n",
        "    sqrt_d_k = torch.sqrt(torch.tensor(K.shape[-1]))\n",
        "    target_seq_len = torch.tensor(Q.shape[1])\n",
        "    source_seq_len = torch.tensor(K.shape[1])\n",
        "    triangular = torch.triu(torch.ones((target_seq_len, source_seq_len), dtype=torch.bool), diagonal=1)\n",
        "    # print(triangular)\n",
        "\n",
        "    query_key = torch.bmm(Q, torch.transpose(K,1,2))\n",
        "    masked_query_key = torch.where(triangular, -torch.inf, query_key)\n",
        "    # print(masked_query_key.shape, query_key.shape, triangular.shape)\n",
        "    result =torch.bmm(softmax((masked_query_key)/sqrt_d_k,dim=2), V)\n",
        "    return result\n",
        "\n",
        "\n",
        "\n",
        "result = masked_attention(Q, K, V)\n",
        "print(result.shape)"
      ]
    },
    {
      "cell_type": "code",
      "execution_count": 8,
      "metadata": {
        "id": "KABaU-mM9sTD"
      },
      "outputs": [],
      "source": [
        "# from matplotlib import pyplot as plt"
      ]
    },
    {
      "cell_type": "code",
      "execution_count": 44,
      "metadata": {
        "id": "uJSNJynz9sTE"
      },
      "outputs": [
        {
          "data": {
            "text/plain": [
              "tensor([[[   616.0000,    652.4000,   3757.6001,   3962.0000],\n",
              "         [  5409.6001,   5726.0000,   9738.4004,  10267.5996],\n",
              "         [ 10203.2002,  10799.5996,  15719.2012,  16573.1992],\n",
              "         [ 14996.8008,  15873.2002,  21700.0000,  22878.8008],\n",
              "         [ 19790.4004,  20946.8008,  27680.8008,  29184.3984],\n",
              "         [ 24584.0000,  26020.4004,  33661.6016,  35490.0000],\n",
              "         [ 29377.6016,  31094.0000,  39642.4023,  41795.6016]],\n",
              "\n",
              "        [[268822.4062, 275287.5938, 315868.0000, 323128.4062],\n",
              "         [306544.0000, 313916.4062, 357285.5938, 365498.0000],\n",
              "         [344265.5938, 352545.1875, 398703.1875, 407867.5938],\n",
              "         [381987.2188, 391174.0000, 440120.8125, 450237.1875],\n",
              "         [419708.8125, 429802.7812, 481538.4062, 492606.8125],\n",
              "         [457430.4062, 468431.5938, 522956.0000, 534976.3750],\n",
              "         [495152.0000, 507060.4062, 564373.6250, 577346.0000]]])"
            ]
          },
          "execution_count": 44,
          "metadata": {},
          "output_type": "execute_result"
        }
      ],
      "source": [
        "Q = torch.arange(2 * 7 * 4).reshape(2, 7, 4).type(torch.float32)\n",
        "K = Q * 0.5\n",
        "V = Q * 0.8\n",
        "num_heads=2\n",
        "multihead_masked_attention(Q, K, V, num_heads)"
      ]
    },
    {
      "cell_type": "code",
      "execution_count": 47,
      "metadata": {
        "colab": {
          "base_uri": "https://localhost:8080/"
        },
        "id": "qQVh_Q7k9sTE",
        "outputId": "12f81628-b437-4ea8-f2f2-85f2d59afc64"
      },
      "outputs": [
        {
          "name": "stdout",
          "output_type": "stream",
          "text": [
            "torch.Size([2, 20, 256])\n"
          ]
        }
      ],
      "source": [
        "Q = torch.ones((2,20,4*64))\n",
        "K = torch.ones((2,10,4*64))\n",
        "V = torch.ones((2,10,4*64))\n",
        "num_heads = 4\n",
        "\n",
        "def multihead_masked_attention(Q: torch.Tensor, K: torch.Tensor, V: torch.Tensor, num_heads: int, device:str=\"cpu\"):\n",
        "    '''\n",
        "    Implements multihead masked attention on the matrices Q, K and V.\n",
        "\n",
        "    Q: shape (batch, seq, nheads*headsize)\n",
        "    K: shape (batch, seq, nheads*headsize)\n",
        "    V: shape (batch, seq, nheads*headsize)\n",
        "    '''\n",
        "    # do the reshape\n",
        "    \n",
        "    batch, target_seq_len = Q.shape[0:2]\n",
        "    source_seq_len = K.shape[1] \n",
        "    head_size = int(Q.shape[-1]/num_heads)\n",
        "    sqrt_d_k = torch.sqrt(torch.tensor(head_size))\n",
        "    # new_shape = (batch, target_seq_len, num_heads, head_size)\n",
        "    Q = torch.reshape(Q, (batch, target_seq_len, num_heads, head_size))\n",
        "    K = torch.reshape(K, (batch, source_seq_len, num_heads, head_size))\n",
        "    V = torch.reshape(V, (batch, source_seq_len, num_heads, head_size))\n",
        "    # generate mask\n",
        "    triangular = torch.triu(torch.ones((target_seq_len, source_seq_len), dtype=torch.bool, device=device), diagonal=1)\n",
        "    \n",
        "    query_key = torch.einsum(\"abcd,aecd->acbe\", Q, K)\n",
        "    masked_query_key = torch.where(triangular, -torch.inf, query_key)\n",
        "    masked_query_key = softmax((masked_query_key)/sqrt_d_k,dim=1)\n",
        "    result = torch.einsum(\"abcd, adbe-> acbe\", query_key, V)\n",
        "    result = torch.reshape(result, (batch, target_seq_len, num_heads * head_size))\n",
        "    return result\n",
        "\n",
        "\n",
        "\n",
        "result = multihead_masked_attention(Q, K, V, num_heads=num_heads)\n",
        "print(result.shape)\n"
      ]
    },
    {
      "cell_type": "code",
      "execution_count": 11,
      "metadata": {
        "id": "2TyEhq8w9sTF"
      },
      "outputs": [],
      "source": [
        "class MultiheadMaskedAttention(nn.Module):\n",
        "    \"\"\"\n",
        "    head_size is not in this config, because in our implementation we're assuming num_heads * head_size = hidden_size.\n",
        "hidden_size is also referred to as embedding_dim, or d_\\text{model}d \n",
        "model\n",
        "​\n",
        "  in some material you might have read.\n",
        "    \"\"\"\n",
        "    W_QKV: nn.Linear\n",
        "    W_O: nn.Linear\n",
        "\n",
        "\n",
        "    def __init__(self, hidden_size: int, num_heads: int, device:str=\"cpu\"):\n",
        "        super().__init__()\n",
        "        self.num_heads = num_heads\n",
        "        self.hidden_size = hidden_size\n",
        "        self.device = device\n",
        "        self.W_QKV = nn.Linear(hidden_size*3, num_heads*hidden_size*3)\n",
        "        self.W_O = nn.Linear(num_heads*hidden_size, hidden_size)\n",
        "\n",
        "    def forward(self, x: torch.Tensor) -> torch.Tensor:\n",
        "        '''\n",
        "        x: shape (batch, seq, hidden_size)\n",
        "\n",
        "        Return: shape (batch, seq, hidden_size)\n",
        "        '''\n",
        "        x = x.repeat((1,1,3)) # repeat trice along dim 2\n",
        "        Q, K, V = torch.split(self.W_QKV(x), num_heads*self.hidden_size, 2)\n",
        "        #print(f\"{Q.shape=} {K.shape=} {V.shape=}\")\n",
        "        \n",
        "        Z = multihead_masked_attention(Q, K, V, num_heads=self.num_heads, device=self.device)\n",
        "        #print(f\"{Z.shape=}\")\n",
        "        Z = self.W_O(Z)\n",
        "        return Z\n",
        "\n",
        "# num_heads=4\n",
        "# x = torch.ones((2,10,hidden_size:=64))       \n",
        "# mma = MultiheadMaskedAttention(hidden_size=hidden_size, num_heads=num_heads)\n",
        "# mma(x).shape\n",
        "\n"
      ]
    },
    {
      "cell_type": "code",
      "execution_count": 12,
      "metadata": {
        "id": "7agfiLCs9sTF"
      },
      "outputs": [],
      "source": [
        "@dataclass(frozen=True)\n",
        "class TransformerConfig:\n",
        "    '''Constants used throughout your decoder-only transformer model.'''\n",
        "\n",
        "    num_layers: int\n",
        "    # head_size is not in this config, because in our implementation we're assuming num_heads * head_size = hidden_size\n",
        "    num_heads: int\n",
        "    vocab_size: int\n",
        "    # hidden_size is also referred to as embedding_dim, or d_\\text{model}d model in some material you might have read.\n",
        "    hidden_size: int\n",
        "    # max_seq_len is used just to determine the size of the positional encoding matrix.\n",
        "    max_seq_len: int \n",
        "    dropout: float = 0.1\n",
        "    layer_norm_epsilon: float = 1e-05\n",
        "    device: str = \"cpu\"\n",
        "\n"
      ]
    },
    {
      "cell_type": "code",
      "execution_count": 13,
      "metadata": {
        "id": "CqiplUqF9sTF"
      },
      "outputs": [],
      "source": [
        "from torch.nn import GELU\n",
        "\n",
        "class MLP(nn.Module):\n",
        "    def __init__(self, hidden_size: int, dropout: float):\n",
        "        super().__init__()\n",
        "        self.hidden_size = hidden_size\n",
        "        self.dropout = dropout\n",
        "        self.mlp_block = nn.Sequential(\n",
        "            nn.Linear(self.hidden_size, 4*self.hidden_size),\n",
        "            GELU(),\n",
        "            nn.Linear(4*self.hidden_size, self.hidden_size),\n",
        "            nn.Dropout(self.dropout)\n",
        "        )\n",
        "    def forward(self, x: torch.Tensor):\n",
        "        return self.mlp_block(x)"
      ]
    },
    {
      "cell_type": "code",
      "execution_count": 14,
      "metadata": {
        "id": "wBPTdYRG9sTG"
      },
      "outputs": [],
      "source": [
        "class DecoderBlock(nn.Module):\n",
        "    def __init__(self, config: TransformerConfig):\n",
        "        super().__init__()\n",
        "        self.config = config\n",
        "        self.device = config.device\n",
        "        self.layernorm1 = nn.LayerNorm(normalized_shape=self.config.hidden_size,eps=self.config.layer_norm_epsilon)\n",
        "        self.mma = MultiheadMaskedAttention(hidden_size=self.config.hidden_size,\n",
        "                                            num_heads=self.config.num_heads,\n",
        "                                            device=self.device)\n",
        "        self.layernorm2 = nn.LayerNorm(normalized_shape=self.config.hidden_size,eps=self.config.layer_norm_epsilon)\n",
        "        self.mlp = MLP(hidden_size=self.config.hidden_size,\n",
        "                        dropout=self.config.dropout)\n",
        "    \n",
        "    def forward(self, x: torch.Tensor):\n",
        "        \"\"\"\n",
        "        x: input tensor shape=(batch, seq_len, hidden_dim=embedding_dim)\n",
        "        \"\"\"\n",
        "        x = self.layernorm1(x + self.mma(x))\n",
        "        x = self.layernorm2(x + self.mlp(x))\n",
        "        return x\n",
        "\n",
        "    \n",
        "\n",
        "    "
      ]
    },
    {
      "cell_type": "code",
      "execution_count": 15,
      "metadata": {
        "id": "bXNhLPmo9sTG"
      },
      "outputs": [],
      "source": [
        "import torch\n",
        "from torch import nn, Tensor\n",
        "\n",
        "\n",
        "# more efficient, buffer for pe version\n",
        "class PositionalEncoding(nn.Module):\n",
        "\n",
        "    def __init__(self, d_model: int, dropout: float = 0.1, max_len: int = 5000, device:str=\"cpu\"):\n",
        "        super().__init__()\n",
        "        self.d_model = d_model\n",
        "        self.dropout = nn.Dropout(p=dropout)\n",
        "        self.max_len = max_len\n",
        "        self.device = device\n",
        "        L = self.max_len\n",
        "        partial_term = torch.outer(torch.arange(L),1/10_000**(torch.arange(torch.ceil(torch.tensor(self.d_model/2)))*2/self.d_model))\n",
        "        positional_encoding = torch.zeros((L, self.d_model)).to(device)\n",
        "        positional_encoding[:,::2] = torch.sin(partial_term.to(device))\n",
        "        positional_encoding[:,1::2] = torch.cos(partial_term.to(device))\n",
        "        self.register_buffer(\"positional_encoding\", positional_encoding)\n",
        "\n",
        "\n",
        "    def forward(self, x: Tensor) -> Tensor:\n",
        "        '''\n",
        "        x: Tensor, shape [batch, seq_len, embedding_dim]\n",
        "        '''\n",
        "        L = x.shape[1]\n",
        "        # print(self.device)\n",
        "\n",
        "        return self.dropout(x.to(self.device)+ self.positional_encoding[:L,:].to(self.device))\n",
        "\n",
        "class DecoderOnlyTransformer(nn.Module):\n",
        "\n",
        "    def __init__(self, config: TransformerConfig):\n",
        "        super().__init__()\n",
        "        self.config = config\n",
        "        self.positional_encoding = PositionalEncoding(\n",
        "            d_model=self.config.hidden_size,\n",
        "            dropout=self.config.dropout,\n",
        "            max_len=self.config.max_seq_len,\n",
        "            device=self.config.device\n",
        "        )\n",
        "        list_decoder_blocks = [DecoderBlock(config = self.config) \n",
        "                                    for _ in range(self.config.num_layers)]\n",
        "        self.decoder_blocks = nn.Sequential(*list_decoder_blocks)\n",
        "        self.final_layer_norm = nn.LayerNorm(normalized_shape=self.config.hidden_size,eps=self.config.layer_norm_epsilon)\n",
        "\n",
        "\n",
        "    def forward(self, x: torch.Tensor) -> torch.Tensor:\n",
        "        x = self.positional_encoding(x)\n",
        "        x = self.decoder_blocks(x)\n",
        "        x = self.final_layer_norm(x)\n",
        "        return x\n",
        "    \n",
        "config = TransformerConfig(\n",
        "    num_layers=2,\n",
        "    num_heads=4,\n",
        "    vocab_size=1_000,\n",
        "    hidden_size=64,\n",
        "    max_seq_len=100,\n",
        "    device=\"cpu\"\n",
        ")\n",
        "# todo use the layernorm epsilon\n",
        "test_input = torch.ones((2,20,config.hidden_size)).to(config.device)\n",
        "\n",
        "transformer = DecoderOnlyTransformer(config=config)\n",
        "transformer.to(config.device)\n",
        "result = transformer.forward(test_input)\n",
        "\n"
      ]
    },
    {
      "cell_type": "code",
      "execution_count": 16,
      "metadata": {
        "id": "Kw-NPEQh9sTG"
      },
      "outputs": [],
      "source": [
        "from torch.utils.data import Dataset, DataLoader\n",
        "from torch.optim import Adam\n",
        "from torch.nn import CrossEntropyLoss, MSELoss"
      ]
    },
    {
      "cell_type": "code",
      "execution_count": 17,
      "metadata": {
        "id": "EjLl3kSH9sTH"
      },
      "outputs": [],
      "source": [
        "class CustomTextDataset(Dataset):\n",
        "    # def __init__(self, text, labels):\n",
        "    #     self.labels = labels\n",
        "    #     self.text = text\n",
        "    def __init__(self, config: TransformerConfig):\n",
        "        self.config = config\n",
        "        self.seq_len = 25\n",
        "        self.total_size = 100\n",
        "        # self.text = torch.ones((self.total_size,\n",
        "        #                         self.seq_len,\n",
        "        #                         config.hidden_size)).to(config.device)\n",
        "        # self.labels = torch.ones((self.total_size,\n",
        "        #                         self.seq_len,\n",
        "        #                         config.hidden_size)).to(config.device)\n",
        "        self.text = torch.rand((self.seq_len,\n",
        "                                config.hidden_size)).to(config.device).repeat(self.total_size,1,1)\n",
        "        # self.labels = torch.rand((self.seq_len,\n",
        "        #                         config.hidden_size)).to(config.device).repeat(self.total_size,1,1)\n",
        "        \n",
        "\n",
        "    def __len__(self):\n",
        "            return self.total_size\n",
        "\n",
        "    def __getitem__(self, idx):\n",
        "            label = self.text[idx,1:]\n",
        "            text = self.text[idx,:-1]\n",
        "            sample = {\"text\": text, \"label\": label}\n",
        "            return sample"
      ]
    },
    {
      "cell_type": "code",
      "execution_count": 18,
      "metadata": {
        "colab": {
          "base_uri": "https://localhost:8080/"
        },
        "id": "kn1RAB0-9sTH",
        "outputId": "6ce1bc6e-a732-4e4e-9951-3a51026310f8"
      },
      "outputs": [
        {
          "name": "stdout",
          "output_type": "stream",
          "text": [
            "1.2152405\n",
            "1.1913815\n",
            "1.1765445\n",
            "1.1361688\n",
            "1.0981227\n",
            "1.0835243\n",
            "1.0615007\n",
            "1.0276015\n",
            "1.007597\n",
            "0.98298997\n",
            "0.9608886\n",
            "0.93912405\n",
            "0.912196\n",
            "0.89202505\n",
            "0.8756698\n",
            "0.85887486\n",
            "0.8408169\n",
            "0.8232762\n",
            "0.80576414\n",
            "0.7894452\n",
            "0.7710479\n",
            "0.76532936\n",
            "0.75823\n",
            "0.7349519\n",
            "0.7195223\n",
            "0.6991127\n",
            "0.7018892\n",
            "0.6864446\n",
            "0.6691892\n",
            "0.6633661\n",
            "0.65107113\n",
            "0.6473933\n",
            "0.6359388\n",
            "0.62032527\n",
            "0.6142461\n",
            "0.60213536\n",
            "0.59114593\n",
            "0.5818282\n",
            "0.573105\n",
            "0.55832285\n",
            "0.54055184\n",
            "0.5344665\n",
            "0.5248639\n",
            "0.51531905\n",
            "0.5062099\n",
            "0.49551716\n",
            "0.4900469\n",
            "0.4768146\n",
            "0.47255838\n",
            "0.47133112\n"
          ]
        }
      ],
      "source": [
        "def train(config: TransformerConfig):\n",
        "    dataset = CustomTextDataset(config)\n",
        "    model = DecoderOnlyTransformer(config).to(config.device)\n",
        "    dataloader = DataLoader(dataset, batch_size=32, shuffle=True)\n",
        "    model.train()\n",
        "    optimizer = Adam(params=model.parameters(), lr=0.001)\n",
        "    # criterion = CrossEntropyLoss()\n",
        "    criterion = MSELoss()\n",
        "    for epoch_idx in range(50):\n",
        "        for i, batch in enumerate(dataloader):\n",
        "            # print(i, batch[\"text\"].shape, batch[\"label\"].shape)\n",
        "            label = model.forward(batch[\"text\"])\n",
        "            target_label=batch[\"label\"]\n",
        "            loss = criterion(label, target_label)\n",
        "           \n",
        "            loss.backward()\n",
        "            optimizer.step()\n",
        "            optimizer.zero_grad()\n",
        "            # if i %  == 0:\n",
        "        # print(f\"torch.mean(label)={torch.mean(label)} \\t torch.mean(target_label)={torch.mean(target_label)}\")\n",
        "        print(loss.detach().cpu().numpy())\n",
        "\n",
        "    return model\n",
        "\n",
        "\n",
        "\n",
        "model = train(config)\n"
      ]
    },
    {
      "cell_type": "code",
      "execution_count": 19,
      "metadata": {
        "id": "jsHjn8q-9sTH"
      },
      "outputs": [],
      "source": [
        "import shakespeare"
      ]
    },
    {
      "cell_type": "code",
      "execution_count": 20,
      "metadata": {
        "colab": {
          "base_uri": "https://localhost:8080/"
        },
        "id": "OVMaC_HfAhi4",
        "outputId": "0f25c023-2e0b-4be5-abbb-27652dcc0af3"
      },
      "outputs": [],
      "source": []
    },
    {
      "cell_type": "code",
      "execution_count": 23,
      "metadata": {
        "id": "To9tIKo-Lexc"
      },
      "outputs": [],
      "source": [
        "config = TransformerConfig(\n",
        "    num_layers=2,\n",
        "    num_heads=4,\n",
        "    vocab_size=shakespeare.vocab_size,\n",
        "    hidden_size=64,\n",
        "    max_seq_len=100,\n",
        "    device=\"cpu\"\n",
        ")\n",
        "dataset = shakespeare.ShakespeareDataset(config)"
      ]
    },
    {
      "cell_type": "code",
      "execution_count": 22,
      "metadata": {},
      "outputs": [
        {
          "data": {
            "text/plain": [
              "tensor([[0, 1, 0,  ..., 0, 0, 0],\n",
              "        [0, 0, 0,  ..., 0, 0, 0],\n",
              "        [0, 0, 0,  ..., 0, 0, 0]])"
            ]
          },
          "execution_count": 22,
          "metadata": {},
          "output_type": "execute_result"
        }
      ],
      "source": [
        "from torch.nn.functional import one_hot\n",
        "one_hot(torch.Tensor([1,4,34]).to(torch.int64), 5000)"
      ]
    },
    {
      "cell_type": "code",
      "execution_count": null,
      "metadata": {},
      "outputs": [],
      "source": []
    }
  ],
  "metadata": {
    "accelerator": "GPU",
    "colab": {
      "collapsed_sections": [],
      "provenance": []
    },
    "gpuClass": "standard",
    "kernelspec": {
      "display_name": "Python 3.9.13 ('science')",
      "language": "python",
      "name": "python3"
    },
    "language_info": {
      "codemirror_mode": {
        "name": "ipython",
        "version": 3
      },
      "file_extension": ".py",
      "mimetype": "text/x-python",
      "name": "python",
      "nbconvert_exporter": "python",
      "pygments_lexer": "ipython3",
      "version": "3.9.13"
    },
    "orig_nbformat": 4,
    "vscode": {
      "interpreter": {
        "hash": "a75635f6916c375a173bf1244d5cfd48b57dc00ad122fc43f351e9ec98f7b18f"
      }
    }
  },
  "nbformat": 4,
  "nbformat_minor": 0
}
